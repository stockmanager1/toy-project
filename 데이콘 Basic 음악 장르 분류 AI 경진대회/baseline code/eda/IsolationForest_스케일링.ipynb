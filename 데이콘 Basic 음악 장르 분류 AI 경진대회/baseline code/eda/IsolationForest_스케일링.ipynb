{
  "nbformat": 4,
  "nbformat_minor": 0,
  "metadata": {
    "colab": {
      "provenance": []
    },
    "kernelspec": {
      "name": "python3",
      "display_name": "Python 3"
    },
    "language_info": {
      "name": "python"
    }
  },
  "cells": [
    {
      "cell_type": "code",
      "execution_count": 137,
      "metadata": {
        "id": "6BPSVWgyfU8D"
      },
      "outputs": [],
      "source": [
        "import os\n",
        "import random\n",
        "import pandas as pd\n",
        "import numpy as np\n",
        "import seaborn as sns\n",
        "import matplotlib.pyplot as plt\n",
        "import seaborn as sns\n",
        "from sklearn.model_selection import train_test_split\n",
        "from sklearn.ensemble import RandomForestClassifier\n",
        "from sklearn.metrics import f1_score\n",
        "import matplotlib as mpl\n",
        "import warnings\n",
        "warnings.filterwarnings(\"ignore\")"
      ]
    },
    {
      "cell_type": "code",
      "source": [
        "from sklearn.preprocessing import RobustScaler, StandardScaler, MinMaxScaler, LabelEncoder"
      ],
      "metadata": {
        "id": "CFVB43KlfW4O"
      },
      "execution_count": 138,
      "outputs": []
    },
    {
      "cell_type": "code",
      "source": [
        "from google.colab import drive\n",
        "drive.mount('/content/gdrive/')\n",
        "\n",
        "!unzip -qq \"/content/gdrive/MyDrive/open (5).zip\""
      ],
      "metadata": {
        "colab": {
          "base_uri": "https://localhost:8080/"
        },
        "id": "8UGHsl3FfYGn",
        "outputId": "d112c8dc-a1cb-4c30-e4dc-5abf8ad319ef"
      },
      "execution_count": 139,
      "outputs": [
        {
          "output_type": "stream",
          "name": "stdout",
          "text": [
            "Drive already mounted at /content/gdrive/; to attempt to forcibly remount, call drive.mount(\"/content/gdrive/\", force_remount=True).\n",
            "replace sample_submission.csv? [y]es, [n]o, [A]ll, [N]one, [r]ename: "
          ]
        }
      ]
    },
    {
      "cell_type": "code",
      "source": [
        "train = pd.read_csv('/content/train.csv')\n",
        "test = pd.read_csv('/content/test.csv')"
      ],
      "metadata": {
        "id": "8x_auftEfbId"
      },
      "execution_count": 140,
      "outputs": []
    },
    {
      "cell_type": "code",
      "source": [
        "train_columns = pd.DataFrame({'columns':train.columns,\n",
        "                             'info':['아이디','(음악 등이) 댄스에 적합함.','에너지','키(음높이?)','소리의 세기','언어능력','반주구간','기약성','활기참','발렌스','템포','재생길이','장르']})"
      ],
      "metadata": {
        "id": "UfRSV9UufjFJ"
      },
      "execution_count": 141,
      "outputs": []
    },
    {
      "cell_type": "code",
      "source": [
        "train_columns"
      ],
      "metadata": {
        "colab": {
          "base_uri": "https://localhost:8080/",
          "height": 457
        },
        "id": "BKdCQZWRfkqw",
        "outputId": "3c7b1be8-5782-4222-a801-2030493814ee"
      },
      "execution_count": 142,
      "outputs": [
        {
          "output_type": "execute_result",
          "data": {
            "text/plain": [
              "             columns              info\n",
              "0                 ID               아이디\n",
              "1       danceability  (음악 등이) 댄스에 적합함.\n",
              "2             energy               에너지\n",
              "3                key           키(음높이?)\n",
              "4           loudness            소리의 세기\n",
              "5        speechiness              언어능력\n",
              "6       acousticness              반주구간\n",
              "7   instrumentalness               기약성\n",
              "8           liveness               활기참\n",
              "9            valence               발렌스\n",
              "10             tempo                템포\n",
              "11          duration              재생길이\n",
              "12             genre                장르"
            ],
            "text/html": [
              "\n",
              "  <div id=\"df-9fe20788-8511-44f8-98cd-628f116e0f0c\">\n",
              "    <div class=\"colab-df-container\">\n",
              "      <div>\n",
              "<style scoped>\n",
              "    .dataframe tbody tr th:only-of-type {\n",
              "        vertical-align: middle;\n",
              "    }\n",
              "\n",
              "    .dataframe tbody tr th {\n",
              "        vertical-align: top;\n",
              "    }\n",
              "\n",
              "    .dataframe thead th {\n",
              "        text-align: right;\n",
              "    }\n",
              "</style>\n",
              "<table border=\"1\" class=\"dataframe\">\n",
              "  <thead>\n",
              "    <tr style=\"text-align: right;\">\n",
              "      <th></th>\n",
              "      <th>columns</th>\n",
              "      <th>info</th>\n",
              "    </tr>\n",
              "  </thead>\n",
              "  <tbody>\n",
              "    <tr>\n",
              "      <th>0</th>\n",
              "      <td>ID</td>\n",
              "      <td>아이디</td>\n",
              "    </tr>\n",
              "    <tr>\n",
              "      <th>1</th>\n",
              "      <td>danceability</td>\n",
              "      <td>(음악 등이) 댄스에 적합함.</td>\n",
              "    </tr>\n",
              "    <tr>\n",
              "      <th>2</th>\n",
              "      <td>energy</td>\n",
              "      <td>에너지</td>\n",
              "    </tr>\n",
              "    <tr>\n",
              "      <th>3</th>\n",
              "      <td>key</td>\n",
              "      <td>키(음높이?)</td>\n",
              "    </tr>\n",
              "    <tr>\n",
              "      <th>4</th>\n",
              "      <td>loudness</td>\n",
              "      <td>소리의 세기</td>\n",
              "    </tr>\n",
              "    <tr>\n",
              "      <th>5</th>\n",
              "      <td>speechiness</td>\n",
              "      <td>언어능력</td>\n",
              "    </tr>\n",
              "    <tr>\n",
              "      <th>6</th>\n",
              "      <td>acousticness</td>\n",
              "      <td>반주구간</td>\n",
              "    </tr>\n",
              "    <tr>\n",
              "      <th>7</th>\n",
              "      <td>instrumentalness</td>\n",
              "      <td>기약성</td>\n",
              "    </tr>\n",
              "    <tr>\n",
              "      <th>8</th>\n",
              "      <td>liveness</td>\n",
              "      <td>활기참</td>\n",
              "    </tr>\n",
              "    <tr>\n",
              "      <th>9</th>\n",
              "      <td>valence</td>\n",
              "      <td>발렌스</td>\n",
              "    </tr>\n",
              "    <tr>\n",
              "      <th>10</th>\n",
              "      <td>tempo</td>\n",
              "      <td>템포</td>\n",
              "    </tr>\n",
              "    <tr>\n",
              "      <th>11</th>\n",
              "      <td>duration</td>\n",
              "      <td>재생길이</td>\n",
              "    </tr>\n",
              "    <tr>\n",
              "      <th>12</th>\n",
              "      <td>genre</td>\n",
              "      <td>장르</td>\n",
              "    </tr>\n",
              "  </tbody>\n",
              "</table>\n",
              "</div>\n",
              "      <button class=\"colab-df-convert\" onclick=\"convertToInteractive('df-9fe20788-8511-44f8-98cd-628f116e0f0c')\"\n",
              "              title=\"Convert this dataframe to an interactive table.\"\n",
              "              style=\"display:none;\">\n",
              "        \n",
              "  <svg xmlns=\"http://www.w3.org/2000/svg\" height=\"24px\"viewBox=\"0 0 24 24\"\n",
              "       width=\"24px\">\n",
              "    <path d=\"M0 0h24v24H0V0z\" fill=\"none\"/>\n",
              "    <path d=\"M18.56 5.44l.94 2.06.94-2.06 2.06-.94-2.06-.94-.94-2.06-.94 2.06-2.06.94zm-11 1L8.5 8.5l.94-2.06 2.06-.94-2.06-.94L8.5 2.5l-.94 2.06-2.06.94zm10 10l.94 2.06.94-2.06 2.06-.94-2.06-.94-.94-2.06-.94 2.06-2.06.94z\"/><path d=\"M17.41 7.96l-1.37-1.37c-.4-.4-.92-.59-1.43-.59-.52 0-1.04.2-1.43.59L10.3 9.45l-7.72 7.72c-.78.78-.78 2.05 0 2.83L4 21.41c.39.39.9.59 1.41.59.51 0 1.02-.2 1.41-.59l7.78-7.78 2.81-2.81c.8-.78.8-2.07 0-2.86zM5.41 20L4 18.59l7.72-7.72 1.47 1.35L5.41 20z\"/>\n",
              "  </svg>\n",
              "      </button>\n",
              "      \n",
              "  <style>\n",
              "    .colab-df-container {\n",
              "      display:flex;\n",
              "      flex-wrap:wrap;\n",
              "      gap: 12px;\n",
              "    }\n",
              "\n",
              "    .colab-df-convert {\n",
              "      background-color: #E8F0FE;\n",
              "      border: none;\n",
              "      border-radius: 50%;\n",
              "      cursor: pointer;\n",
              "      display: none;\n",
              "      fill: #1967D2;\n",
              "      height: 32px;\n",
              "      padding: 0 0 0 0;\n",
              "      width: 32px;\n",
              "    }\n",
              "\n",
              "    .colab-df-convert:hover {\n",
              "      background-color: #E2EBFA;\n",
              "      box-shadow: 0px 1px 2px rgba(60, 64, 67, 0.3), 0px 1px 3px 1px rgba(60, 64, 67, 0.15);\n",
              "      fill: #174EA6;\n",
              "    }\n",
              "\n",
              "    [theme=dark] .colab-df-convert {\n",
              "      background-color: #3B4455;\n",
              "      fill: #D2E3FC;\n",
              "    }\n",
              "\n",
              "    [theme=dark] .colab-df-convert:hover {\n",
              "      background-color: #434B5C;\n",
              "      box-shadow: 0px 1px 3px 1px rgba(0, 0, 0, 0.15);\n",
              "      filter: drop-shadow(0px 1px 2px rgba(0, 0, 0, 0.3));\n",
              "      fill: #FFFFFF;\n",
              "    }\n",
              "  </style>\n",
              "\n",
              "      <script>\n",
              "        const buttonEl =\n",
              "          document.querySelector('#df-9fe20788-8511-44f8-98cd-628f116e0f0c button.colab-df-convert');\n",
              "        buttonEl.style.display =\n",
              "          google.colab.kernel.accessAllowed ? 'block' : 'none';\n",
              "\n",
              "        async function convertToInteractive(key) {\n",
              "          const element = document.querySelector('#df-9fe20788-8511-44f8-98cd-628f116e0f0c');\n",
              "          const dataTable =\n",
              "            await google.colab.kernel.invokeFunction('convertToInteractive',\n",
              "                                                     [key], {});\n",
              "          if (!dataTable) return;\n",
              "\n",
              "          const docLinkHtml = 'Like what you see? Visit the ' +\n",
              "            '<a target=\"_blank\" href=https://colab.research.google.com/notebooks/data_table.ipynb>data table notebook</a>'\n",
              "            + ' to learn more about interactive tables.';\n",
              "          element.innerHTML = '';\n",
              "          dataTable['output_type'] = 'display_data';\n",
              "          await google.colab.output.renderOutput(dataTable, element);\n",
              "          const docLink = document.createElement('div');\n",
              "          docLink.innerHTML = docLinkHtml;\n",
              "          element.appendChild(docLink);\n",
              "        }\n",
              "      </script>\n",
              "    </div>\n",
              "  </div>\n",
              "  "
            ]
          },
          "metadata": {},
          "execution_count": 142
        }
      ]
    },
    {
      "cell_type": "code",
      "source": [
        "# 데이터 모양을 보여주는 함수\n",
        "def resumetable(df):\n",
        "  print(f'데이터셋 형상: {df.shape}')\n",
        "  summary = pd.DataFrame(df.dtypes, columns=['데이터 타입'])\n",
        "  summary = summary.reset_index()\n",
        "  summary = summary.rename(columns={'index':'피처'})\n",
        "  summary['결측값 개수'] = df.isnull().sum().values\n",
        "  summary['고윳값 개수'] = df.nunique().values\n",
        "  summary['첫번째 값'] = df.loc[0].values\n",
        "  summary['두번째 값'] = df.loc[1].values\n",
        "  summary['세번째 값'] = df.loc[2].values\n",
        "\n",
        "  return summary\n",
        "  \n",
        "resumetable(train)"
      ],
      "metadata": {
        "colab": {
          "base_uri": "https://localhost:8080/",
          "height": 475
        },
        "id": "Cf__C4BCfmeL",
        "outputId": "0c2ca975-544d-40c5-b7e5-2d826e570e7b"
      },
      "execution_count": 143,
      "outputs": [
        {
          "output_type": "stream",
          "name": "stdout",
          "text": [
            "데이터셋 형상: (25383, 13)\n"
          ]
        },
        {
          "output_type": "execute_result",
          "data": {
            "text/plain": [
              "                  피처   데이터 타입  결측값 개수  고윳값 개수        첫번째 값        두번째 값  \\\n",
              "0                 ID   object       0   25383  TRAIN_00000  TRAIN_00001   \n",
              "1       danceability  float64       0     824       0.3341       0.6344   \n",
              "2             energy  float64       0     852       0.9231       0.5955   \n",
              "3                key    int64       0      12           10           10   \n",
              "4           loudness  float64       0    7687        0.854       0.2826   \n",
              "5        speechiness  float64       0    1344       0.3797       0.1378   \n",
              "6       acousticness  float64       0    1912        0.008          0.0   \n",
              "7   instrumentalness  float64       0    1685       0.0002       0.7137   \n",
              "8           liveness  float64       0    1581       0.7697       0.1597   \n",
              "9            valence  float64       0    1571       0.7902       0.4162   \n",
              "10             tempo  float64       0    4633       0.5391       0.3043   \n",
              "11          duration    int64       0     576          175          513   \n",
              "12             genre   object       0      15         trap       techno   \n",
              "\n",
              "          세번째 값  \n",
              "0   TRAIN_00002  \n",
              "1        0.3983  \n",
              "2        0.1107  \n",
              "3             8  \n",
              "4        0.2459  \n",
              "5        0.0247  \n",
              "6         0.774  \n",
              "7           0.0  \n",
              "8        0.5105  \n",
              "9        0.4291  \n",
              "10       0.2324  \n",
              "11          151  \n",
              "12   Trap Metal  "
            ],
            "text/html": [
              "\n",
              "  <div id=\"df-2fcb431b-8cde-4ed5-b5ff-84af063f08e4\">\n",
              "    <div class=\"colab-df-container\">\n",
              "      <div>\n",
              "<style scoped>\n",
              "    .dataframe tbody tr th:only-of-type {\n",
              "        vertical-align: middle;\n",
              "    }\n",
              "\n",
              "    .dataframe tbody tr th {\n",
              "        vertical-align: top;\n",
              "    }\n",
              "\n",
              "    .dataframe thead th {\n",
              "        text-align: right;\n",
              "    }\n",
              "</style>\n",
              "<table border=\"1\" class=\"dataframe\">\n",
              "  <thead>\n",
              "    <tr style=\"text-align: right;\">\n",
              "      <th></th>\n",
              "      <th>피처</th>\n",
              "      <th>데이터 타입</th>\n",
              "      <th>결측값 개수</th>\n",
              "      <th>고윳값 개수</th>\n",
              "      <th>첫번째 값</th>\n",
              "      <th>두번째 값</th>\n",
              "      <th>세번째 값</th>\n",
              "    </tr>\n",
              "  </thead>\n",
              "  <tbody>\n",
              "    <tr>\n",
              "      <th>0</th>\n",
              "      <td>ID</td>\n",
              "      <td>object</td>\n",
              "      <td>0</td>\n",
              "      <td>25383</td>\n",
              "      <td>TRAIN_00000</td>\n",
              "      <td>TRAIN_00001</td>\n",
              "      <td>TRAIN_00002</td>\n",
              "    </tr>\n",
              "    <tr>\n",
              "      <th>1</th>\n",
              "      <td>danceability</td>\n",
              "      <td>float64</td>\n",
              "      <td>0</td>\n",
              "      <td>824</td>\n",
              "      <td>0.3341</td>\n",
              "      <td>0.6344</td>\n",
              "      <td>0.3983</td>\n",
              "    </tr>\n",
              "    <tr>\n",
              "      <th>2</th>\n",
              "      <td>energy</td>\n",
              "      <td>float64</td>\n",
              "      <td>0</td>\n",
              "      <td>852</td>\n",
              "      <td>0.9231</td>\n",
              "      <td>0.5955</td>\n",
              "      <td>0.1107</td>\n",
              "    </tr>\n",
              "    <tr>\n",
              "      <th>3</th>\n",
              "      <td>key</td>\n",
              "      <td>int64</td>\n",
              "      <td>0</td>\n",
              "      <td>12</td>\n",
              "      <td>10</td>\n",
              "      <td>10</td>\n",
              "      <td>8</td>\n",
              "    </tr>\n",
              "    <tr>\n",
              "      <th>4</th>\n",
              "      <td>loudness</td>\n",
              "      <td>float64</td>\n",
              "      <td>0</td>\n",
              "      <td>7687</td>\n",
              "      <td>0.854</td>\n",
              "      <td>0.2826</td>\n",
              "      <td>0.2459</td>\n",
              "    </tr>\n",
              "    <tr>\n",
              "      <th>5</th>\n",
              "      <td>speechiness</td>\n",
              "      <td>float64</td>\n",
              "      <td>0</td>\n",
              "      <td>1344</td>\n",
              "      <td>0.3797</td>\n",
              "      <td>0.1378</td>\n",
              "      <td>0.0247</td>\n",
              "    </tr>\n",
              "    <tr>\n",
              "      <th>6</th>\n",
              "      <td>acousticness</td>\n",
              "      <td>float64</td>\n",
              "      <td>0</td>\n",
              "      <td>1912</td>\n",
              "      <td>0.008</td>\n",
              "      <td>0.0</td>\n",
              "      <td>0.774</td>\n",
              "    </tr>\n",
              "    <tr>\n",
              "      <th>7</th>\n",
              "      <td>instrumentalness</td>\n",
              "      <td>float64</td>\n",
              "      <td>0</td>\n",
              "      <td>1685</td>\n",
              "      <td>0.0002</td>\n",
              "      <td>0.7137</td>\n",
              "      <td>0.0</td>\n",
              "    </tr>\n",
              "    <tr>\n",
              "      <th>8</th>\n",
              "      <td>liveness</td>\n",
              "      <td>float64</td>\n",
              "      <td>0</td>\n",
              "      <td>1581</td>\n",
              "      <td>0.7697</td>\n",
              "      <td>0.1597</td>\n",
              "      <td>0.5105</td>\n",
              "    </tr>\n",
              "    <tr>\n",
              "      <th>9</th>\n",
              "      <td>valence</td>\n",
              "      <td>float64</td>\n",
              "      <td>0</td>\n",
              "      <td>1571</td>\n",
              "      <td>0.7902</td>\n",
              "      <td>0.4162</td>\n",
              "      <td>0.4291</td>\n",
              "    </tr>\n",
              "    <tr>\n",
              "      <th>10</th>\n",
              "      <td>tempo</td>\n",
              "      <td>float64</td>\n",
              "      <td>0</td>\n",
              "      <td>4633</td>\n",
              "      <td>0.5391</td>\n",
              "      <td>0.3043</td>\n",
              "      <td>0.2324</td>\n",
              "    </tr>\n",
              "    <tr>\n",
              "      <th>11</th>\n",
              "      <td>duration</td>\n",
              "      <td>int64</td>\n",
              "      <td>0</td>\n",
              "      <td>576</td>\n",
              "      <td>175</td>\n",
              "      <td>513</td>\n",
              "      <td>151</td>\n",
              "    </tr>\n",
              "    <tr>\n",
              "      <th>12</th>\n",
              "      <td>genre</td>\n",
              "      <td>object</td>\n",
              "      <td>0</td>\n",
              "      <td>15</td>\n",
              "      <td>trap</td>\n",
              "      <td>techno</td>\n",
              "      <td>Trap Metal</td>\n",
              "    </tr>\n",
              "  </tbody>\n",
              "</table>\n",
              "</div>\n",
              "      <button class=\"colab-df-convert\" onclick=\"convertToInteractive('df-2fcb431b-8cde-4ed5-b5ff-84af063f08e4')\"\n",
              "              title=\"Convert this dataframe to an interactive table.\"\n",
              "              style=\"display:none;\">\n",
              "        \n",
              "  <svg xmlns=\"http://www.w3.org/2000/svg\" height=\"24px\"viewBox=\"0 0 24 24\"\n",
              "       width=\"24px\">\n",
              "    <path d=\"M0 0h24v24H0V0z\" fill=\"none\"/>\n",
              "    <path d=\"M18.56 5.44l.94 2.06.94-2.06 2.06-.94-2.06-.94-.94-2.06-.94 2.06-2.06.94zm-11 1L8.5 8.5l.94-2.06 2.06-.94-2.06-.94L8.5 2.5l-.94 2.06-2.06.94zm10 10l.94 2.06.94-2.06 2.06-.94-2.06-.94-.94-2.06-.94 2.06-2.06.94z\"/><path d=\"M17.41 7.96l-1.37-1.37c-.4-.4-.92-.59-1.43-.59-.52 0-1.04.2-1.43.59L10.3 9.45l-7.72 7.72c-.78.78-.78 2.05 0 2.83L4 21.41c.39.39.9.59 1.41.59.51 0 1.02-.2 1.41-.59l7.78-7.78 2.81-2.81c.8-.78.8-2.07 0-2.86zM5.41 20L4 18.59l7.72-7.72 1.47 1.35L5.41 20z\"/>\n",
              "  </svg>\n",
              "      </button>\n",
              "      \n",
              "  <style>\n",
              "    .colab-df-container {\n",
              "      display:flex;\n",
              "      flex-wrap:wrap;\n",
              "      gap: 12px;\n",
              "    }\n",
              "\n",
              "    .colab-df-convert {\n",
              "      background-color: #E8F0FE;\n",
              "      border: none;\n",
              "      border-radius: 50%;\n",
              "      cursor: pointer;\n",
              "      display: none;\n",
              "      fill: #1967D2;\n",
              "      height: 32px;\n",
              "      padding: 0 0 0 0;\n",
              "      width: 32px;\n",
              "    }\n",
              "\n",
              "    .colab-df-convert:hover {\n",
              "      background-color: #E2EBFA;\n",
              "      box-shadow: 0px 1px 2px rgba(60, 64, 67, 0.3), 0px 1px 3px 1px rgba(60, 64, 67, 0.15);\n",
              "      fill: #174EA6;\n",
              "    }\n",
              "\n",
              "    [theme=dark] .colab-df-convert {\n",
              "      background-color: #3B4455;\n",
              "      fill: #D2E3FC;\n",
              "    }\n",
              "\n",
              "    [theme=dark] .colab-df-convert:hover {\n",
              "      background-color: #434B5C;\n",
              "      box-shadow: 0px 1px 3px 1px rgba(0, 0, 0, 0.15);\n",
              "      filter: drop-shadow(0px 1px 2px rgba(0, 0, 0, 0.3));\n",
              "      fill: #FFFFFF;\n",
              "    }\n",
              "  </style>\n",
              "\n",
              "      <script>\n",
              "        const buttonEl =\n",
              "          document.querySelector('#df-2fcb431b-8cde-4ed5-b5ff-84af063f08e4 button.colab-df-convert');\n",
              "        buttonEl.style.display =\n",
              "          google.colab.kernel.accessAllowed ? 'block' : 'none';\n",
              "\n",
              "        async function convertToInteractive(key) {\n",
              "          const element = document.querySelector('#df-2fcb431b-8cde-4ed5-b5ff-84af063f08e4');\n",
              "          const dataTable =\n",
              "            await google.colab.kernel.invokeFunction('convertToInteractive',\n",
              "                                                     [key], {});\n",
              "          if (!dataTable) return;\n",
              "\n",
              "          const docLinkHtml = 'Like what you see? Visit the ' +\n",
              "            '<a target=\"_blank\" href=https://colab.research.google.com/notebooks/data_table.ipynb>data table notebook</a>'\n",
              "            + ' to learn more about interactive tables.';\n",
              "          element.innerHTML = '';\n",
              "          dataTable['output_type'] = 'display_data';\n",
              "          await google.colab.output.renderOutput(dataTable, element);\n",
              "          const docLink = document.createElement('div');\n",
              "          docLink.innerHTML = docLinkHtml;\n",
              "          element.appendChild(docLink);\n",
              "        }\n",
              "      </script>\n",
              "    </div>\n",
              "  </div>\n",
              "  "
            ]
          },
          "metadata": {},
          "execution_count": 143
        }
      ]
    },
    {
      "cell_type": "code",
      "source": [
        "le = LabelEncoder()"
      ],
      "metadata": {
        "id": "ecvBlJL3fsV4"
      },
      "execution_count": 144,
      "outputs": []
    },
    {
      "cell_type": "code",
      "source": [
        "train['genre'] = le.fit_transform(train['genre'])"
      ],
      "metadata": {
        "id": "JzeUt4wEepeg"
      },
      "execution_count": 150,
      "outputs": []
    },
    {
      "cell_type": "code",
      "source": [
        "#상관분석하기\n",
        "#각 변수가 어떤 상관 관계가 있는지. 수치가 높을수록 관계가 있다는 것이다.\n",
        "fig = plt.figure(figsize = (20,10))\n",
        "sns.heatmap(train.corr(), annot = True)\n",
        "plt.show()"
      ],
      "metadata": {
        "colab": {
          "base_uri": "https://localhost:8080/",
          "height": 512
        },
        "id": "6lY6Em48f77d",
        "outputId": "d80c546c-304f-4240-e3ec-80f21cdac327"
      },
      "execution_count": 151,
      "outputs": [
        {
          "output_type": "display_data",
          "data": {
            "text/plain": [
              "<Figure size 1440x720 with 2 Axes>"
            ],
            "image/png": "[encoded data removed]"
          },
          "metadata": {
            "needs_background": "light"
          }
        }
      ]
    },
    {
      "cell_type": "code",
      "source": [
        "mpl.rc('font',size=15)\n",
        "plt.figure(figsize=(25,15))\n",
        "\n",
        "ax = sns.countplot(x='genre',data=train)\n"
      ],
      "metadata": {
        "colab": {
          "base_uri": "https://localhost:8080/",
          "height": 505
        },
        "id": "o1P9i03MgFJF",
        "outputId": "b9bd3370-b979-4975-e0a9-a3df85f27115"
      },
      "execution_count": 153,
      "outputs": [
        {
          "output_type": "display_data",
          "data": {
            "text/plain": [
              "<Figure size 1800x1080 with 1 Axes>"
            ],
            "image/png": "[encoded data removed]"
          },
          "metadata": {
            "needs_background": "light"
          }
        }
      ]
    },
    {
      "cell_type": "code",
      "source": [
        "train"
      ],
      "metadata": {
        "colab": {
          "base_uri": "https://localhost:8080/",
          "height": 505
        },
        "id": "lxIHVC2FGg5Q",
        "outputId": "c383e924-ef73-4061-fc7d-a93b7b26c677"
      },
      "execution_count": 154,
      "outputs": [
        {
          "output_type": "execute_result",
          "data": {
            "text/plain": [
              "                ID  danceability  energy  key  loudness  speechiness  \\\n",
              "0      TRAIN_00000        0.3341  0.9231   10    0.8540       0.3797   \n",
              "1      TRAIN_00001        0.6344  0.5955   10    0.2826       0.1378   \n",
              "2      TRAIN_00002        0.3983  0.1107    8    0.2459       0.0247   \n",
              "3      TRAIN_00003        0.3139  0.9702    2    0.9252       0.9590   \n",
              "4      TRAIN_00004        0.0735  0.9452    5    0.7702       0.1397   \n",
              "...            ...           ...     ...  ...       ...          ...   \n",
              "25378  TRAIN_25378        0.8814  0.3398    6    0.4602       0.3825   \n",
              "25379  TRAIN_25379        0.7505  0.5657    0    0.6682       0.1038   \n",
              "25380  TRAIN_25380        0.2520  0.7617    8    0.4928       0.0410   \n",
              "25381  TRAIN_25381        0.6202  0.3455    0    0.6499       0.7960   \n",
              "25382  TRAIN_25382        0.8963  0.4435    9    0.6595       0.1336   \n",
              "\n",
              "       acousticness  instrumentalness  liveness  valence   tempo  duration  \\\n",
              "0            0.0080            0.0002    0.7697   0.7902  0.5391       175   \n",
              "1            0.0000            0.7137    0.1597   0.4162  0.3043       513   \n",
              "2            0.7740            0.0000    0.5105   0.4291  0.2324       151   \n",
              "3            0.0371            0.3015    0.2539   0.0577  0.5406       246   \n",
              "4            0.2583            0.0015    0.1774   0.1128  0.3176       229   \n",
              "...             ...               ...       ...      ...     ...       ...   \n",
              "25378        0.4505            0.0000    0.4222   0.8753  0.4081        88   \n",
              "25379        0.1281            0.0000    0.0596   0.9583  0.4273       123   \n",
              "25380        0.0003            0.8395    0.0843   0.1372  0.7828       353   \n",
              "25381        0.4818            0.0000    0.2007   0.0194  0.9756       120   \n",
              "25382        0.4673            0.0000    0.2971   0.3320  0.4069       228   \n",
              "\n",
              "                 genre  \n",
              "0                 trap  \n",
              "1               techno  \n",
              "2           Trap Metal  \n",
              "3                 trap  \n",
              "4            Dark Trap  \n",
              "...                ...  \n",
              "25378  Underground Rap  \n",
              "25379       Trap Metal  \n",
              "25380              dnb  \n",
              "25381        Dark Trap  \n",
              "25382              Rap  \n",
              "\n",
              "[25383 rows x 13 columns]"
            ],
            "text/html": [
              "\n",
              "  <div id=\"df-2195b47b-77be-4a2b-9d8c-7097327d8281\">\n",
              "    <div class=\"colab-df-container\">\n",
              "      <div>\n",
              "<style scoped>\n",
              "    .dataframe tbody tr th:only-of-type {\n",
              "        vertical-align: middle;\n",
              "    }\n",
              "\n",
              "    .dataframe tbody tr th {\n",
              "        vertical-align: top;\n",
              "    }\n",
              "\n",
              "    .dataframe thead th {\n",
              "        text-align: right;\n",
              "    }\n",
              "</style>\n",
              "<table border=\"1\" class=\"dataframe\">\n",
              "  <thead>\n",
              "    <tr style=\"text-align: right;\">\n",
              "      <th></th>\n",
              "      <th>ID</th>\n",
              "      <th>danceability</th>\n",
              "      <th>energy</th>\n",
              "      <th>key</th>\n",
              "      <th>loudness</th>\n",
              "      <th>speechiness</th>\n",
              "      <th>acousticness</th>\n",
              "      <th>instrumentalness</th>\n",
              "      <th>liveness</th>\n",
              "      <th>valence</th>\n",
              "      <th>tempo</th>\n",
              "      <th>duration</th>\n",
              "      <th>genre</th>\n",
              "    </tr>\n",
              "  </thead>\n",
              "  <tbody>\n",
              "    <tr>\n",
              "      <th>0</th>\n",
              "      <td>TRAIN_00000</td>\n",
              "      <td>0.3341</td>\n",
              "      <td>0.9231</td>\n",
              "      <td>10</td>\n",
              "      <td>0.8540</td>\n",
              "      <td>0.3797</td>\n",
              "      <td>0.0080</td>\n",
              "      <td>0.0002</td>\n",
              "      <td>0.7697</td>\n",
              "      <td>0.7902</td>\n",
              "      <td>0.5391</td>\n",
              "      <td>175</td>\n",
              "      <td>trap</td>\n",
              "    </tr>\n",
              "    <tr>\n",
              "      <th>1</th>\n",
              "      <td>TRAIN_00001</td>\n",
              "      <td>0.6344</td>\n",
              "      <td>0.5955</td>\n",
              "      <td>10</td>\n",
              "      <td>0.2826</td>\n",
              "      <td>0.1378</td>\n",
              "      <td>0.0000</td>\n",
              "      <td>0.7137</td>\n",
              "      <td>0.1597</td>\n",
              "      <td>0.4162</td>\n",
              "      <td>0.3043</td>\n",
              "      <td>513</td>\n",
              "      <td>techno</td>\n",
              "    </tr>\n",
              "    <tr>\n",
              "      <th>2</th>\n",
              "      <td>TRAIN_00002</td>\n",
              "      <td>0.3983</td>\n",
              "      <td>0.1107</td>\n",
              "      <td>8</td>\n",
              "      <td>0.2459</td>\n",
              "      <td>0.0247</td>\n",
              "      <td>0.7740</td>\n",
              "      <td>0.0000</td>\n",
              "      <td>0.5105</td>\n",
              "      <td>0.4291</td>\n",
              "      <td>0.2324</td>\n",
              "      <td>151</td>\n",
              "      <td>Trap Metal</td>\n",
              "    </tr>\n",
              "    <tr>\n",
              "      <th>3</th>\n",
              "      <td>TRAIN_00003</td>\n",
              "      <td>0.3139</td>\n",
              "      <td>0.9702</td>\n",
              "      <td>2</td>\n",
              "      <td>0.9252</td>\n",
              "      <td>0.9590</td>\n",
              "      <td>0.0371</td>\n",
              "      <td>0.3015</td>\n",
              "      <td>0.2539</td>\n",
              "      <td>0.0577</td>\n",
              "      <td>0.5406</td>\n",
              "      <td>246</td>\n",
              "      <td>trap</td>\n",
              "    </tr>\n",
              "    <tr>\n",
              "      <th>4</th>\n",
              "      <td>TRAIN_00004</td>\n",
              "      <td>0.0735</td>\n",
              "      <td>0.9452</td>\n",
              "      <td>5</td>\n",
              "      <td>0.7702</td>\n",
              "      <td>0.1397</td>\n",
              "      <td>0.2583</td>\n",
              "      <td>0.0015</td>\n",
              "      <td>0.1774</td>\n",
              "      <td>0.1128</td>\n",
              "      <td>0.3176</td>\n",
              "      <td>229</td>\n",
              "      <td>Dark Trap</td>\n",
              "    </tr>\n",
              "    <tr>\n",
              "      <th>...</th>\n",
              "      <td>...</td>\n",
              "      <td>...</td>\n",
              "      <td>...</td>\n",
              "      <td>...</td>\n",
              "      <td>...</td>\n",
              "      <td>...</td>\n",
              "      <td>...</td>\n",
              "      <td>...</td>\n",
              "      <td>...</td>\n",
              "      <td>...</td>\n",
              "      <td>...</td>\n",
              "      <td>...</td>\n",
              "      <td>...</td>\n",
              "    </tr>\n",
              "    <tr>\n",
              "      <th>25378</th>\n",
              "      <td>TRAIN_25378</td>\n",
              "      <td>0.8814</td>\n",
              "      <td>0.3398</td>\n",
              "      <td>6</td>\n",
              "      <td>0.4602</td>\n",
              "      <td>0.3825</td>\n",
              "      <td>0.4505</td>\n",
              "      <td>0.0000</td>\n",
              "      <td>0.4222</td>\n",
              "      <td>0.8753</td>\n",
              "      <td>0.4081</td>\n",
              "      <td>88</td>\n",
              "      <td>Underground Rap</td>\n",
              "    </tr>\n",
              "    <tr>\n",
              "      <th>25379</th>\n",
              "      <td>TRAIN_25379</td>\n",
              "      <td>0.7505</td>\n",
              "      <td>0.5657</td>\n",
              "      <td>0</td>\n",
              "      <td>0.6682</td>\n",
              "      <td>0.1038</td>\n",
              "      <td>0.1281</td>\n",
              "      <td>0.0000</td>\n",
              "      <td>0.0596</td>\n",
              "      <td>0.9583</td>\n",
              "      <td>0.4273</td>\n",
              "      <td>123</td>\n",
              "      <td>Trap Metal</td>\n",
              "    </tr>\n",
              "    <tr>\n",
              "      <th>25380</th>\n",
              "      <td>TRAIN_25380</td>\n",
              "      <td>0.2520</td>\n",
              "      <td>0.7617</td>\n",
              "      <td>8</td>\n",
              "      <td>0.4928</td>\n",
              "      <td>0.0410</td>\n",
              "      <td>0.0003</td>\n",
              "      <td>0.8395</td>\n",
              "      <td>0.0843</td>\n",
              "      <td>0.1372</td>\n",
              "      <td>0.7828</td>\n",
              "      <td>353</td>\n",
              "      <td>dnb</td>\n",
              "    </tr>\n",
              "    <tr>\n",
              "      <th>25381</th>\n",
              "      <td>TRAIN_25381</td>\n",
              "      <td>0.6202</td>\n",
              "      <td>0.3455</td>\n",
              "      <td>0</td>\n",
              "      <td>0.6499</td>\n",
              "      <td>0.7960</td>\n",
              "      <td>0.4818</td>\n",
              "      <td>0.0000</td>\n",
              "      <td>0.2007</td>\n",
              "      <td>0.0194</td>\n",
              "      <td>0.9756</td>\n",
              "      <td>120</td>\n",
              "      <td>Dark Trap</td>\n",
              "    </tr>\n",
              "    <tr>\n",
              "      <th>25382</th>\n",
              "      <td>TRAIN_25382</td>\n",
              "      <td>0.8963</td>\n",
              "      <td>0.4435</td>\n",
              "      <td>9</td>\n",
              "      <td>0.6595</td>\n",
              "      <td>0.1336</td>\n",
              "      <td>0.4673</td>\n",
              "      <td>0.0000</td>\n",
              "      <td>0.2971</td>\n",
              "      <td>0.3320</td>\n",
              "      <td>0.4069</td>\n",
              "      <td>228</td>\n",
              "      <td>Rap</td>\n",
              "    </tr>\n",
              "  </tbody>\n",
              "</table>\n",
              "<p>25383 rows × 13 columns</p>\n",
              "</div>\n",
              "      <button class=\"colab-df-convert\" onclick=\"convertToInteractive('df-2195b47b-77be-4a2b-9d8c-7097327d8281')\"\n",
              "              title=\"Convert this dataframe to an interactive table.\"\n",
              "              style=\"display:none;\">\n",
              "        \n",
              "  <svg xmlns=\"http://www.w3.org/2000/svg\" height=\"24px\"viewBox=\"0 0 24 24\"\n",
              "       width=\"24px\">\n",
              "    <path d=\"M0 0h24v24H0V0z\" fill=\"none\"/>\n",
              "    <path d=\"M18.56 5.44l.94 2.06.94-2.06 2.06-.94-2.06-.94-.94-2.06-.94 2.06-2.06.94zm-11 1L8.5 8.5l.94-2.06 2.06-.94-2.06-.94L8.5 2.5l-.94 2.06-2.06.94zm10 10l.94 2.06.94-2.06 2.06-.94-2.06-.94-.94-2.06-.94 2.06-2.06.94z\"/><path d=\"M17.41 7.96l-1.37-1.37c-.4-.4-.92-.59-1.43-.59-.52 0-1.04.2-1.43.59L10.3 9.45l-7.72 7.72c-.78.78-.78 2.05 0 2.83L4 21.41c.39.39.9.59 1.41.59.51 0 1.02-.2 1.41-.59l7.78-7.78 2.81-2.81c.8-.78.8-2.07 0-2.86zM5.41 20L4 18.59l7.72-7.72 1.47 1.35L5.41 20z\"/>\n",
              "  </svg>\n",
              "      </button>\n",
              "      \n",
              "  <style>\n",
              "    .colab-df-container {\n",
              "      display:flex;\n",
              "      flex-wrap:wrap;\n",
              "      gap: 12px;\n",
              "    }\n",
              "\n",
              "    .colab-df-convert {\n",
              "      background-color: #E8F0FE;\n",
              "      border: none;\n",
              "      border-radius: 50%;\n",
              "      cursor: pointer;\n",
              "      display: none;\n",
              "      fill: #1967D2;\n",
              "      height: 32px;\n",
              "      padding: 0 0 0 0;\n",
              "      width: 32px;\n",
              "    }\n",
              "\n",
              "    .colab-df-convert:hover {\n",
              "      background-color: #E2EBFA;\n",
              "      box-shadow: 0px 1px 2px rgba(60, 64, 67, 0.3), 0px 1px 3px 1px rgba(60, 64, 67, 0.15);\n",
              "      fill: #174EA6;\n",
              "    }\n",
              "\n",
              "    [theme=dark] .colab-df-convert {\n",
              "      background-color: #3B4455;\n",
              "      fill: #D2E3FC;\n",
              "    }\n",
              "\n",
              "    [theme=dark] .colab-df-convert:hover {\n",
              "      background-color: #434B5C;\n",
              "      box-shadow: 0px 1px 3px 1px rgba(0, 0, 0, 0.15);\n",
              "      filter: drop-shadow(0px 1px 2px rgba(0, 0, 0, 0.3));\n",
              "      fill: #FFFFFF;\n",
              "    }\n",
              "  </style>\n",
              "\n",
              "      <script>\n",
              "        const buttonEl =\n",
              "          document.querySelector('#df-2195b47b-77be-4a2b-9d8c-7097327d8281 button.colab-df-convert');\n",
              "        buttonEl.style.display =\n",
              "          google.colab.kernel.accessAllowed ? 'block' : 'none';\n",
              "\n",
              "        async function convertToInteractive(key) {\n",
              "          const element = document.querySelector('#df-2195b47b-77be-4a2b-9d8c-7097327d8281');\n",
              "          const dataTable =\n",
              "            await google.colab.kernel.invokeFunction('convertToInteractive',\n",
              "                                                     [key], {});\n",
              "          if (!dataTable) return;\n",
              "\n",
              "          const docLinkHtml = 'Like what you see? Visit the ' +\n",
              "            '<a target=\"_blank\" href=https://colab.research.google.com/notebooks/data_table.ipynb>data table notebook</a>'\n",
              "            + ' to learn more about interactive tables.';\n",
              "          element.innerHTML = '';\n",
              "          dataTable['output_type'] = 'display_data';\n",
              "          await google.colab.output.renderOutput(dataTable, element);\n",
              "          const docLink = document.createElement('div');\n",
              "          docLink.innerHTML = docLinkHtml;\n",
              "          element.appendChild(docLink);\n",
              "        }\n",
              "      </script>\n",
              "    </div>\n",
              "  </div>\n",
              "  "
            ]
          },
          "metadata": {},
          "execution_count": 154
        }
      ]
    },
    {
      "cell_type": "markdown",
      "source": [
        "##(1) StandardScaler()"
      ],
      "metadata": {
        "id": "FBaf4sEwfNwe"
      }
    },
    {
      "cell_type": "code",
      "source": [
        "train = pd.read_csv('/content/train.csv')\n",
        "test = pd.read_csv('/content/test.csv')"
      ],
      "metadata": {
        "id": "L5FzVAGZghGQ"
      },
      "execution_count": 244,
      "outputs": []
    },
    {
      "cell_type": "code",
      "source": [
        "import sklearn\n",
        "import numpy as np\n",
        "import pandas as pd\n",
        "import seaborn as sns\n",
        "import matplotlib.pyplot as plt\n",
        "\n",
        "from sklearn.model_selection import train_test_split\n",
        "from sklearn.tree import DecisionTreeClassifier"
      ],
      "metadata": {
        "id": "QnieJPaFfWiz"
      },
      "execution_count": 245,
      "outputs": []
    },
    {
      "cell_type": "code",
      "source": [
        "# X는 독립변수이므로 종속변수를 제거합니다. 또한 target 이외의 문자열 데이터를 제거합니다.\n",
        "X = train[['danceability','energy','loudness','speechiness','acousticness','instrumentalness','liveness','valence','tempo','duration']]\n",
        "# y는 종속변수로 값을 설정합니다.\n",
        "y = train[['genre']]\n",
        "\n",
        "# train에서와 마찬가지로 문자열이 포함된 특성은 제거합니다.\n",
        "test = test.drop([\"ID\",], axis = 1)"
      ],
      "metadata": {
        "id": "bhAY3KP_felB"
      },
      "execution_count": 246,
      "outputs": []
    },
    {
      "cell_type": "code",
      "source": [
        "X_train, X_valid, y_train, y_valid = train_test_split(X, y, test_size = 0.2)"
      ],
      "metadata": {
        "id": "eHtsfQF3ipNw"
      },
      "execution_count": 247,
      "outputs": []
    },
    {
      "cell_type": "code",
      "source": [
        "X"
      ],
      "metadata": {
        "colab": {
          "base_uri": "https://localhost:8080/",
          "height": 488
        },
        "id": "haCYa9skkRyo",
        "outputId": "bf82a49e-4328-4587-9d2f-2cd645ef08ae"
      },
      "execution_count": 249,
      "outputs": [
        {
          "output_type": "execute_result",
          "data": {
            "text/plain": [
              "       danceability  energy  loudness  speechiness  acousticness  \\\n",
              "0            0.3341  0.9231    0.8540       0.3797        0.0080   \n",
              "1            0.6344  0.5955    0.2826       0.1378        0.0000   \n",
              "2            0.3983  0.1107    0.2459       0.0247        0.7740   \n",
              "3            0.3139  0.9702    0.9252       0.9590        0.0371   \n",
              "4            0.0735  0.9452    0.7702       0.1397        0.2583   \n",
              "...             ...     ...       ...          ...           ...   \n",
              "25378        0.8814  0.3398    0.4602       0.3825        0.4505   \n",
              "25379        0.7505  0.5657    0.6682       0.1038        0.1281   \n",
              "25380        0.2520  0.7617    0.4928       0.0410        0.0003   \n",
              "25381        0.6202  0.3455    0.6499       0.7960        0.4818   \n",
              "25382        0.8963  0.4435    0.6595       0.1336        0.4673   \n",
              "\n",
              "       instrumentalness  liveness  valence   tempo  duration  \n",
              "0                0.0002    0.7697   0.7902  0.5391       175  \n",
              "1                0.7137    0.1597   0.4162  0.3043       513  \n",
              "2                0.0000    0.5105   0.4291  0.2324       151  \n",
              "3                0.3015    0.2539   0.0577  0.5406       246  \n",
              "4                0.0015    0.1774   0.1128  0.3176       229  \n",
              "...                 ...       ...      ...     ...       ...  \n",
              "25378            0.0000    0.4222   0.8753  0.4081        88  \n",
              "25379            0.0000    0.0596   0.9583  0.4273       123  \n",
              "25380            0.8395    0.0843   0.1372  0.7828       353  \n",
              "25381            0.0000    0.2007   0.0194  0.9756       120  \n",
              "25382            0.0000    0.2971   0.3320  0.4069       228  \n",
              "\n",
              "[25383 rows x 10 columns]"
            ],
            "text/html": [
              "\n",
              "  <div id=\"df-ab93175a-c305-4601-bf3b-834a83243c9e\">\n",
              "    <div class=\"colab-df-container\">\n",
              "      <div>\n",
              "<style scoped>\n",
              "    .dataframe tbody tr th:only-of-type {\n",
              "        vertical-align: middle;\n",
              "    }\n",
              "\n",
              "    .dataframe tbody tr th {\n",
              "        vertical-align: top;\n",
              "    }\n",
              "\n",
              "    .dataframe thead th {\n",
              "        text-align: right;\n",
              "    }\n",
              "</style>\n",
              "<table border=\"1\" class=\"dataframe\">\n",
              "  <thead>\n",
              "    <tr style=\"text-align: right;\">\n",
              "      <th></th>\n",
              "      <th>danceability</th>\n",
              "      <th>energy</th>\n",
              "      <th>loudness</th>\n",
              "      <th>speechiness</th>\n",
              "      <th>acousticness</th>\n",
              "      <th>instrumentalness</th>\n",
              "      <th>liveness</th>\n",
              "      <th>valence</th>\n",
              "      <th>tempo</th>\n",
              "      <th>duration</th>\n",
              "    </tr>\n",
              "  </thead>\n",
              "  <tbody>\n",
              "    <tr>\n",
              "      <th>0</th>\n",
              "      <td>0.3341</td>\n",
              "      <td>0.9231</td>\n",
              "      <td>0.8540</td>\n",
              "      <td>0.3797</td>\n",
              "      <td>0.0080</td>\n",
              "      <td>0.0002</td>\n",
              "      <td>0.7697</td>\n",
              "      <td>0.7902</td>\n",
              "      <td>0.5391</td>\n",
              "      <td>175</td>\n",
              "    </tr>\n",
              "    <tr>\n",
              "      <th>1</th>\n",
              "      <td>0.6344</td>\n",
              "      <td>0.5955</td>\n",
              "      <td>0.2826</td>\n",
              "      <td>0.1378</td>\n",
              "      <td>0.0000</td>\n",
              "      <td>0.7137</td>\n",
              "      <td>0.1597</td>\n",
              "      <td>0.4162</td>\n",
              "      <td>0.3043</td>\n",
              "      <td>513</td>\n",
              "    </tr>\n",
              "    <tr>\n",
              "      <th>2</th>\n",
              "      <td>0.3983</td>\n",
              "      <td>0.1107</td>\n",
              "      <td>0.2459</td>\n",
              "      <td>0.0247</td>\n",
              "      <td>0.7740</td>\n",
              "      <td>0.0000</td>\n",
              "      <td>0.5105</td>\n",
              "      <td>0.4291</td>\n",
              "      <td>0.2324</td>\n",
              "      <td>151</td>\n",
              "    </tr>\n",
              "    <tr>\n",
              "      <th>3</th>\n",
              "      <td>0.3139</td>\n",
              "      <td>0.9702</td>\n",
              "      <td>0.9252</td>\n",
              "      <td>0.9590</td>\n",
              "      <td>0.0371</td>\n",
              "      <td>0.3015</td>\n",
              "      <td>0.2539</td>\n",
              "      <td>0.0577</td>\n",
              "      <td>0.5406</td>\n",
              "      <td>246</td>\n",
              "    </tr>\n",
              "    <tr>\n",
              "      <th>4</th>\n",
              "      <td>0.0735</td>\n",
              "      <td>0.9452</td>\n",
              "      <td>0.7702</td>\n",
              "      <td>0.1397</td>\n",
              "      <td>0.2583</td>\n",
              "      <td>0.0015</td>\n",
              "      <td>0.1774</td>\n",
              "      <td>0.1128</td>\n",
              "      <td>0.3176</td>\n",
              "      <td>229</td>\n",
              "    </tr>\n",
              "    <tr>\n",
              "      <th>...</th>\n",
              "      <td>...</td>\n",
              "      <td>...</td>\n",
              "      <td>...</td>\n",
              "      <td>...</td>\n",
              "      <td>...</td>\n",
              "      <td>...</td>\n",
              "      <td>...</td>\n",
              "      <td>...</td>\n",
              "      <td>...</td>\n",
              "      <td>...</td>\n",
              "    </tr>\n",
              "    <tr>\n",
              "      <th>25378</th>\n",
              "      <td>0.8814</td>\n",
              "      <td>0.3398</td>\n",
              "      <td>0.4602</td>\n",
              "      <td>0.3825</td>\n",
              "      <td>0.4505</td>\n",
              "      <td>0.0000</td>\n",
              "      <td>0.4222</td>\n",
              "      <td>0.8753</td>\n",
              "      <td>0.4081</td>\n",
              "      <td>88</td>\n",
              "    </tr>\n",
              "    <tr>\n",
              "      <th>25379</th>\n",
              "      <td>0.7505</td>\n",
              "      <td>0.5657</td>\n",
              "      <td>0.6682</td>\n",
              "      <td>0.1038</td>\n",
              "      <td>0.1281</td>\n",
              "      <td>0.0000</td>\n",
              "      <td>0.0596</td>\n",
              "      <td>0.9583</td>\n",
              "      <td>0.4273</td>\n",
              "      <td>123</td>\n",
              "    </tr>\n",
              "    <tr>\n",
              "      <th>25380</th>\n",
              "      <td>0.2520</td>\n",
              "      <td>0.7617</td>\n",
              "      <td>0.4928</td>\n",
              "      <td>0.0410</td>\n",
              "      <td>0.0003</td>\n",
              "      <td>0.8395</td>\n",
              "      <td>0.0843</td>\n",
              "      <td>0.1372</td>\n",
              "      <td>0.7828</td>\n",
              "      <td>353</td>\n",
              "    </tr>\n",
              "    <tr>\n",
              "      <th>25381</th>\n",
              "      <td>0.6202</td>\n",
              "      <td>0.3455</td>\n",
              "      <td>0.6499</td>\n",
              "      <td>0.7960</td>\n",
              "      <td>0.4818</td>\n",
              "      <td>0.0000</td>\n",
              "      <td>0.2007</td>\n",
              "      <td>0.0194</td>\n",
              "      <td>0.9756</td>\n",
              "      <td>120</td>\n",
              "    </tr>\n",
              "    <tr>\n",
              "      <th>25382</th>\n",
              "      <td>0.8963</td>\n",
              "      <td>0.4435</td>\n",
              "      <td>0.6595</td>\n",
              "      <td>0.1336</td>\n",
              "      <td>0.4673</td>\n",
              "      <td>0.0000</td>\n",
              "      <td>0.2971</td>\n",
              "      <td>0.3320</td>\n",
              "      <td>0.4069</td>\n",
              "      <td>228</td>\n",
              "    </tr>\n",
              "  </tbody>\n",
              "</table>\n",
              "<p>25383 rows × 10 columns</p>\n",
              "</div>\n",
              "      <button class=\"colab-df-convert\" onclick=\"convertToInteractive('df-ab93175a-c305-4601-bf3b-834a83243c9e')\"\n",
              "              title=\"Convert this dataframe to an interactive table.\"\n",
              "              style=\"display:none;\">\n",
              "        \n",
              "  <svg xmlns=\"http://www.w3.org/2000/svg\" height=\"24px\"viewBox=\"0 0 24 24\"\n",
              "       width=\"24px\">\n",
              "    <path d=\"M0 0h24v24H0V0z\" fill=\"none\"/>\n",
              "    <path d=\"M18.56 5.44l.94 2.06.94-2.06 2.06-.94-2.06-.94-.94-2.06-.94 2.06-2.06.94zm-11 1L8.5 8.5l.94-2.06 2.06-.94-2.06-.94L8.5 2.5l-.94 2.06-2.06.94zm10 10l.94 2.06.94-2.06 2.06-.94-2.06-.94-.94-2.06-.94 2.06-2.06.94z\"/><path d=\"M17.41 7.96l-1.37-1.37c-.4-.4-.92-.59-1.43-.59-.52 0-1.04.2-1.43.59L10.3 9.45l-7.72 7.72c-.78.78-.78 2.05 0 2.83L4 21.41c.39.39.9.59 1.41.59.51 0 1.02-.2 1.41-.59l7.78-7.78 2.81-2.81c.8-.78.8-2.07 0-2.86zM5.41 20L4 18.59l7.72-7.72 1.47 1.35L5.41 20z\"/>\n",
              "  </svg>\n",
              "      </button>\n",
              "      \n",
              "  <style>\n",
              "    .colab-df-container {\n",
              "      display:flex;\n",
              "      flex-wrap:wrap;\n",
              "      gap: 12px;\n",
              "    }\n",
              "\n",
              "    .colab-df-convert {\n",
              "      background-color: #E8F0FE;\n",
              "      border: none;\n",
              "      border-radius: 50%;\n",
              "      cursor: pointer;\n",
              "      display: none;\n",
              "      fill: #1967D2;\n",
              "      height: 32px;\n",
              "      padding: 0 0 0 0;\n",
              "      width: 32px;\n",
              "    }\n",
              "\n",
              "    .colab-df-convert:hover {\n",
              "      background-color: #E2EBFA;\n",
              "      box-shadow: 0px 1px 2px rgba(60, 64, 67, 0.3), 0px 1px 3px 1px rgba(60, 64, 67, 0.15);\n",
              "      fill: #174EA6;\n",
              "    }\n",
              "\n",
              "    [theme=dark] .colab-df-convert {\n",
              "      background-color: #3B4455;\n",
              "      fill: #D2E3FC;\n",
              "    }\n",
              "\n",
              "    [theme=dark] .colab-df-convert:hover {\n",
              "      background-color: #434B5C;\n",
              "      box-shadow: 0px 1px 3px 1px rgba(0, 0, 0, 0.15);\n",
              "      filter: drop-shadow(0px 1px 2px rgba(0, 0, 0, 0.3));\n",
              "      fill: #FFFFFF;\n",
              "    }\n",
              "  </style>\n",
              "\n",
              "      <script>\n",
              "        const buttonEl =\n",
              "          document.querySelector('#df-ab93175a-c305-4601-bf3b-834a83243c9e button.colab-df-convert');\n",
              "        buttonEl.style.display =\n",
              "          google.colab.kernel.accessAllowed ? 'block' : 'none';\n",
              "\n",
              "        async function convertToInteractive(key) {\n",
              "          const element = document.querySelector('#df-ab93175a-c305-4601-bf3b-834a83243c9e');\n",
              "          const dataTable =\n",
              "            await google.colab.kernel.invokeFunction('convertToInteractive',\n",
              "                                                     [key], {});\n",
              "          if (!dataTable) return;\n",
              "\n",
              "          const docLinkHtml = 'Like what you see? Visit the ' +\n",
              "            '<a target=\"_blank\" href=https://colab.research.google.com/notebooks/data_table.ipynb>data table notebook</a>'\n",
              "            + ' to learn more about interactive tables.';\n",
              "          element.innerHTML = '';\n",
              "          dataTable['output_type'] = 'display_data';\n",
              "          await google.colab.output.renderOutput(dataTable, element);\n",
              "          const docLink = document.createElement('div');\n",
              "          docLink.innerHTML = docLinkHtml;\n",
              "          element.appendChild(docLink);\n",
              "        }\n",
              "      </script>\n",
              "    </div>\n",
              "  </div>\n",
              "  "
            ]
          },
          "metadata": {},
          "execution_count": 249
        }
      ]
    },
    {
      "cell_type": "code",
      "source": [
        "\n",
        "dtc = DecisionTreeClassifier()\n",
        "dtc.fit(X_train, y_train)\n",
        "val_pred = dtc.predict(X_valid)\n",
        "\n",
        "# Macro f1 score을 사용하기 위해 average 인자 값을 \"macro\" 로 설정해줍니다.\n",
        "print(\"현재 Macro F1 Score의 검증 점수는 {}입니다.\".format(f1_score(val_pred, y_valid, average = \"macro\")))"
      ],
      "metadata": {
        "id": "26WCt6e-WnCH",
        "colab": {
          "base_uri": "https://localhost:8080/"
        },
        "outputId": "d20045e8-a144-414f-fc65-9e2215bf9463"
      },
      "execution_count": 250,
      "outputs": [
        {
          "output_type": "stream",
          "name": "stdout",
          "text": [
            "현재 Macro F1 Score의 검증 점수는 0.5530647634517348입니다.\n"
          ]
        }
      ]
    },
    {
      "cell_type": "code",
      "source": [
        "from sklearn.preprocessing import StandardScaler\n",
        "\n",
        "std = StandardScaler()\n",
        "std.fit(X_train)\n",
        "X_train_scaled = std.transform(X_train)\n",
        "X_test_scaled = std.transform(X_valid)\n",
        "dtc.fit(X_train_scaled, y_train)\n",
        "val_pred = dtc.predict(X_valid)\n",
        "print(\"현재 Macro F1 Score의 검증 점수는 {}입니다.\".format(f1_score(val_pred, y_valid, average = \"macro\")))"
      ],
      "metadata": {
        "colab": {
          "base_uri": "https://localhost:8080/"
        },
        "id": "fAdT1nFFfv4b",
        "outputId": "624baacf-97e1-4e41-8fa4-82d8fe0ce3e9"
      },
      "execution_count": 251,
      "outputs": [
        {
          "output_type": "stream",
          "name": "stdout",
          "text": [
            "현재 Macro F1 Score의 검증 점수는 0.037626251930580445입니다.\n"
          ]
        }
      ]
    },
    {
      "cell_type": "code",
      "source": [
        "X_train"
      ],
      "metadata": {
        "colab": {
          "base_uri": "https://localhost:8080/"
        },
        "id": "3RdOlDswf_WF",
        "outputId": "0dd312d0-f401-4ab8-e174-c60f365f12f0"
      },
      "execution_count": 221,
      "outputs": [
        {
          "output_type": "execute_result",
          "data": {
            "text/plain": [
              "array([[9.227e-01, 2.746e-01, 1.000e+00, ..., 7.042e-01, 8.304e-01,\n",
              "        8.300e+01],\n",
              "       [3.764e-01, 9.651e-01, 2.000e+00, ..., 3.236e-01, 5.404e-01,\n",
              "        2.220e+02],\n",
              "       [6.362e-01, 5.482e-01, 8.000e+00, ..., 5.926e-01, 5.891e-01,\n",
              "        2.040e+02],\n",
              "       ...,\n",
              "       [3.185e-01, 2.346e-01, 1.000e+01, ..., 1.888e-01, 5.802e-01,\n",
              "        2.460e+02],\n",
              "       [4.000e-01, 9.638e-01, 8.000e+00, ..., 3.861e-01, 7.831e-01,\n",
              "        2.340e+02],\n",
              "       [4.809e-01, 3.838e-01, 4.000e+00, ..., 4.649e-01, 3.256e-01,\n",
              "        2.390e+02]])"
            ]
          },
          "metadata": {},
          "execution_count": 221
        }
      ]
    },
    {
      "cell_type": "code",
      "source": [
        "X_train_scaled"
      ],
      "metadata": {
        "colab": {
          "base_uri": "https://localhost:8080/"
        },
        "id": "FHIclYwwgA0x",
        "outputId": "2347e1a1-47e1-4c59-f6d0-9e3aa0d71b40"
      },
      "execution_count": 222,
      "outputs": [
        {
          "output_type": "execute_result",
          "data": {
            "text/plain": [
              "array([[ 1.56087356, -1.33473046, -1.18873719, ...,  1.04890061,\n",
              "         1.47746239, -1.64951031],\n",
              "       [-0.69761489,  1.17312254, -0.91549799, ..., -0.28275748,\n",
              "         0.16959009, -0.30375705],\n",
              "       [ 0.37643838, -0.3410323 ,  0.72393721, ...,  0.65843019,\n",
              "         0.38922244, -0.47802725],\n",
              "       ...,\n",
              "       [-0.93698241, -1.48000797,  1.27041561, ..., -0.75440097,\n",
              "         0.34908429, -0.07139677],\n",
              "       [-0.60004885,  1.16840102,  0.72393721, ..., -0.06408005,\n",
              "         1.26414391, -0.18757691],\n",
              "       [-0.26559577, -0.93812286, -0.36901959, ...,  0.21162846,\n",
              "        -0.7991374 , -0.13916852]])"
            ]
          },
          "metadata": {},
          "execution_count": 222
        }
      ]
    },
    {
      "cell_type": "code",
      "source": [
        "X_train_scaled.shape"
      ],
      "metadata": {
        "colab": {
          "base_uri": "https://localhost:8080/"
        },
        "id": "jqdz4DRlgEU8",
        "outputId": "7c87dd3a-6672-4f60-d5f2-ca0b5059dab8"
      },
      "execution_count": 223,
      "outputs": [
        {
          "output_type": "execute_result",
          "data": {
            "text/plain": [
              "(20306, 11)"
            ]
          },
          "metadata": {},
          "execution_count": 223
        }
      ]
    },
    {
      "cell_type": "code",
      "source": [
        "X_train"
      ],
      "metadata": {
        "colab": {
          "base_uri": "https://localhost:8080/"
        },
        "id": "ovW2-e7RgdMs",
        "outputId": "46ee80da-82e4-4ff6-c31e-427727d381e9"
      },
      "execution_count": 224,
      "outputs": [
        {
          "output_type": "execute_result",
          "data": {
            "text/plain": [
              "array([[9.227e-01, 2.746e-01, 1.000e+00, ..., 7.042e-01, 8.304e-01,\n",
              "        8.300e+01],\n",
              "       [3.764e-01, 9.651e-01, 2.000e+00, ..., 3.236e-01, 5.404e-01,\n",
              "        2.220e+02],\n",
              "       [6.362e-01, 5.482e-01, 8.000e+00, ..., 5.926e-01, 5.891e-01,\n",
              "        2.040e+02],\n",
              "       ...,\n",
              "       [3.185e-01, 2.346e-01, 1.000e+01, ..., 1.888e-01, 5.802e-01,\n",
              "        2.460e+02],\n",
              "       [4.000e-01, 9.638e-01, 8.000e+00, ..., 3.861e-01, 7.831e-01,\n",
              "        2.340e+02],\n",
              "       [4.809e-01, 3.838e-01, 4.000e+00, ..., 4.649e-01, 3.256e-01,\n",
              "        2.390e+02]])"
            ]
          },
          "metadata": {},
          "execution_count": 224
        }
      ]
    },
    {
      "cell_type": "code",
      "source": [
        "X_train_scaled_ss = X_train_scaled.reshape(223366,1)\n",
        "X_train_data = X_train.reshape(223366,1)"
      ],
      "metadata": {
        "id": "Vf7XXwd-gG1Y"
      },
      "execution_count": 225,
      "outputs": []
    },
    {
      "cell_type": "code",
      "source": [
        "plt.hist(X_train_data, bins=30, color= 'red', alpha = 0.7)\n",
        "plt.title('before data scaling')\n",
        "plt.show()"
      ],
      "metadata": {
        "colab": {
          "base_uri": "https://localhost:8080/",
          "height": 290
        },
        "id": "c-DG6lIYgftd",
        "outputId": "f20c3588-ca74-4963-df6b-f699a7d3e3b3"
      },
      "execution_count": 226,
      "outputs": [
        {
          "output_type": "display_data",
          "data": {
            "text/plain": [
              "<Figure size 432x288 with 1 Axes>"
            ],
            "image/png": "[encoded data removed]"
          },
          "metadata": {
            "needs_background": "light"
          }
        }
      ]
    },
    {
      "cell_type": "code",
      "source": [
        "plt.hist(X_train_scaled_ss, bins=30, alpha = 0.7, density = True)\n",
        "plt.title('StandardScaler')\n",
        "plt.show()"
      ],
      "metadata": {
        "colab": {
          "base_uri": "https://localhost:8080/",
          "height": 290
        },
        "id": "e6mGZfBKghZZ",
        "outputId": "b657f312-a499-4c78-eadb-b80924ea0136"
      },
      "execution_count": 227,
      "outputs": [
        {
          "output_type": "display_data",
          "data": {
            "text/plain": [
              "<Figure size 432x288 with 1 Axes>"
            ],
            "image/png": "[encoded data removed]"
          },
          "metadata": {
            "needs_background": "light"
          }
        }
      ]
    },
    {
      "cell_type": "markdown",
      "source": [
        "##(2) MinMaxScaler()"
      ],
      "metadata": {
        "id": "Wa4QahshgluN"
      }
    },
    {
      "cell_type": "markdown",
      "source": [
        "MinMaxScaler는 모든 피처들이 0과 1사이의 데이터값을 갖도록 만들어줍니다.\n",
        "\n",
        "즉, 피처별로 최솟값은 0이 되고, 최댓값은 1이 되는 것이죠.\n",
        "\n",
        "데이터가 2차원인 겅우, 모든 데이터는 x, y 축의 0과 1 사이에 존재하게 됩니다.\n",
        "\n",
        "이 방법 또한 이상치가 존재한다면, 이상치가 극값이 되어 데이터가 아주 좁은 범위에 분포하게 되기 때문에 스케일링 방법으로 적절하지 않습니다."
      ],
      "metadata": {
        "id": "F2S4o_1Igr-Z"
      }
    },
    {
      "cell_type": "code",
      "source": [
        "from sklearn.preprocessing import MinMaxScaler\n",
        "\n",
        "mms = MinMaxScaler()\n",
        "mms.fit(X_train)\n",
        "X_train_scaled = mms.transform(X_train)\n",
        "X_test_scaled = mms.transform(X_valid)\n",
        "dtc.fit(X_train_scaled, y_train)\n",
        "val_pred = dtc.predict(X_valid)\n",
        "print(\"현재 Macro F1 Score의 검증 점수는 {}입니다.\".format(f1_score(val_pred, y_valid, average = \"macro\")))"
      ],
      "metadata": {
        "colab": {
          "base_uri": "https://localhost:8080/"
        },
        "id": "klxIhdeggmjO",
        "outputId": "9cb807cf-28f3-4f7d-ebb0-ef14f0a46436"
      },
      "execution_count": 228,
      "outputs": [
        {
          "output_type": "stream",
          "name": "stdout",
          "text": [
            "현재 Macro F1 Score의 검증 점수는 0.3211117684973746입니다.\n"
          ]
        }
      ]
    },
    {
      "cell_type": "code",
      "source": [
        "X_train_scaled_mms = X_train_scaled.reshape(223366,1)"
      ],
      "metadata": {
        "id": "w68L9m7pg1Y_"
      },
      "execution_count": 229,
      "outputs": []
    },
    {
      "cell_type": "code",
      "source": [
        "plt.hist(X_train_scaled_mms, bins=30, color='green', alpha = 0.7)\n",
        "plt.title('MinMaxScaler')\n",
        "plt.show()"
      ],
      "metadata": {
        "colab": {
          "base_uri": "https://localhost:8080/",
          "height": 290
        },
        "id": "oj5V99bdhdXg",
        "outputId": "7d68ee66-5dfe-4ac1-9389-84c07afaee87"
      },
      "execution_count": 230,
      "outputs": [
        {
          "output_type": "display_data",
          "data": {
            "text/plain": [
              "<Figure size 432x288 with 1 Axes>"
            ],
            "image/png": "[encoded data removed]"
          },
          "metadata": {
            "needs_background": "light"
          }
        }
      ]
    },
    {
      "cell_type": "markdown",
      "source": [
        "##(3) MaxAbsScaler()"
      ],
      "metadata": {
        "id": "bM7EItSVhgy8"
      }
    },
    {
      "cell_type": "code",
      "source": [
        "from sklearn.preprocessing import MaxAbsScaler\n",
        "\n",
        "mas = MaxAbsScaler()\n",
        "mas.fit(X_train)\n",
        "X_train_scaled = mas.transform(X_train)\n",
        "X_test_scaled = mas.transform(X_valid)\n",
        "dtc.fit(X_train_scaled, y_train)\n",
        "val_pred = dtc.predict(X_valid)\n",
        "print(\"현재 Macro F1 Score의 검증 점수는 {}입니다.\".format(f1_score(val_pred, y_valid, average = \"macro\")))"
      ],
      "metadata": {
        "colab": {
          "base_uri": "https://localhost:8080/"
        },
        "id": "1D9JXmHzhhPt",
        "outputId": "c67501df-97c3-416b-e098-37976f6be4a8"
      },
      "execution_count": 231,
      "outputs": [
        {
          "output_type": "stream",
          "name": "stdout",
          "text": [
            "현재 Macro F1 Score의 검증 점수는 0.3029943239516531입니다.\n"
          ]
        }
      ]
    },
    {
      "cell_type": "code",
      "source": [
        "X_train_scaled_mas = X_train_scaled.reshape(223366,1)"
      ],
      "metadata": {
        "id": "66I065zwhqFZ"
      },
      "execution_count": 232,
      "outputs": []
    },
    {
      "cell_type": "code",
      "source": [
        "plt.hist(X_train_scaled_mas, bins=30, color='yellow', alpha = 0.7)\n",
        "plt.title('MaxAbsScaler')\n",
        "plt.show()"
      ],
      "metadata": {
        "colab": {
          "base_uri": "https://localhost:8080/",
          "height": 290
        },
        "id": "M9kXXcNihsVC",
        "outputId": "d483c8a3-1100-4e0b-b5b9-05f2201ce2a6"
      },
      "execution_count": 233,
      "outputs": [
        {
          "output_type": "display_data",
          "data": {
            "text/plain": [
              "<Figure size 432x288 with 1 Axes>"
            ],
            "image/png": "[encoded data removed]"
          },
          "metadata": {
            "needs_background": "light"
          }
        }
      ]
    },
    {
      "cell_type": "markdown",
      "source": [
        "##(4) RobustScaler()"
      ],
      "metadata": {
        "id": "BHxc7Lethvc1"
      }
    },
    {
      "cell_type": "code",
      "source": [
        "from sklearn.preprocessing import RobustScaler\n",
        "\n",
        "rbs = RobustScaler()\n",
        "X_train_scaled = rbs.fit_transform(X_train)\n",
        "X_test_scaled = rbs.transform(X_valid)\n",
        "dtc.fit(X_train_scaled, y_train)\n",
        "val_pred = dtc.predict(X_valid)\n",
        "print(\"현재 Macro F1 Score의 검증 점수는 {}입니다.\".format(f1_score(val_pred, y_valid, average = \"macro\")))"
      ],
      "metadata": {
        "colab": {
          "base_uri": "https://localhost:8080/"
        },
        "id": "NEn2Kc2thv-q",
        "outputId": "6eb37084-3e92-4a4d-a6cf-3261ee2e0804"
      },
      "execution_count": 234,
      "outputs": [
        {
          "output_type": "stream",
          "name": "stdout",
          "text": [
            "현재 Macro F1 Score의 검증 점수는 0.04361802462443862입니다.\n"
          ]
        }
      ]
    },
    {
      "cell_type": "markdown",
      "source": [
        "## (5)Normalizer()"
      ],
      "metadata": {
        "id": "Cyck8np_jIjv"
      }
    },
    {
      "cell_type": "code",
      "source": [
        "from sklearn.preprocessing import Normalizer\n",
        "\n",
        "rbs = RobustScaler()\n",
        "X_train_scaled = rbs.fit_transform(X_train)\n",
        "X_test_scaled = rbs.transform(X_valid)\n",
        "dtc.fit(X_train_scaled, y_train)\n",
        "val_pred = dtc.predict(X_valid)\n",
        "print(\"현재 Macro F1 Score의 검증 점수는 {}입니다.\".format(f1_score(val_pred, y_valid, average = \"macro\")))"
      ],
      "metadata": {
        "colab": {
          "base_uri": "https://localhost:8080/"
        },
        "id": "HLJYGGwYiA_R",
        "outputId": "c567bb39-5287-4a00-b8a6-27ed0240c7c6"
      },
      "execution_count": 235,
      "outputs": [
        {
          "output_type": "stream",
          "name": "stdout",
          "text": [
            "현재 Macro F1 Score의 검증 점수는 0.022134301489310414입니다.\n"
          ]
        }
      ]
    },
    {
      "cell_type": "code",
      "source": [
        "import pandas as pd\n",
        " \n",
        "from sklearn.preprocessing import MinMaxScaler\n",
        "from sklearn.datasets import load_boston\n",
        " \n",
        "boston = load_boston()\n",
        "df = pd.DataFrame(boston.data, columns=boston.feature_names)\n",
        "X = df[['B', 'LSTAT']]\n",
        " \n",
        "print(X.values)"
      ],
      "metadata": {
        "colab": {
          "base_uri": "https://localhost:8080/"
        },
        "id": "Djj1kC7Hjm2A",
        "outputId": "89449e60-426e-43fb-d503-592c6ede69c4"
      },
      "execution_count": 241,
      "outputs": [
        {
          "output_type": "stream",
          "name": "stdout",
          "text": [
            "[[396.9    4.98]\n",
            " [396.9    9.14]\n",
            " [392.83   4.03]\n",
            " ...\n",
            " [396.9    5.64]\n",
            " [393.45   6.48]\n",
            " [396.9    7.88]]\n"
          ]
        }
      ]
    }
  ]
}