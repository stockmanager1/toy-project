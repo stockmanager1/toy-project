{
  "nbformat": 4,
  "nbformat_minor": 0,
  "metadata": {
    "colab": {
      "provenance": []
    },
    "kernelspec": {
      "name": "python3",
      "display_name": "Python 3"
    },
    "language_info": {
      "name": "python"
    }
  },
  "cells": [
    {
      "cell_type": "markdown",
      "source": [
        "https://post.naver.com/viewer/postView.nhn?volumeNo=29700625&memberNo=35871176&vType=VERTICAL"
      ],
      "metadata": {
        "id": "f1ychZ90uqqs"
      }
    },
    {
      "cell_type": "code",
      "source": [
        "import os\n",
        "import random\n",
        "import pandas as pd\n",
        "import numpy as np\n",
        "import seaborn as sns\n",
        "import matplotlib.pyplot as plt\n",
        "import seaborn as sns\n",
        "from sklearn.model_selection import train_test_split\n",
        "from sklearn.ensemble import RandomForestClassifier\n",
        "from sklearn.metrics import f1_score\n",
        "import matplotlib as mpl\n",
        "import warnings\n",
        "warnings.filterwarnings(\"ignore\")"
      ],
      "metadata": {
        "id": "kTJIernssVbT"
      },
      "execution_count": 1,
      "outputs": []
    },
    {
      "cell_type": "code",
      "source": [
        "from lightgbm import LGBMClassifier"
      ],
      "metadata": {
        "id": "1EUGewccmebf"
      },
      "execution_count": 2,
      "outputs": []
    },
    {
      "cell_type": "code",
      "source": [
        "from sklearn.preprocessing import RobustScaler, StandardScaler, MinMaxScaler, LabelEncoder"
      ],
      "metadata": {
        "id": "i3naMxCLDTcl"
      },
      "execution_count": 3,
      "outputs": []
    },
    {
      "cell_type": "code",
      "execution_count": 4,
      "metadata": {
        "colab": {
          "base_uri": "https://localhost:8080/"
        },
        "id": "22F7AuHfqwHk",
        "outputId": "8796d1b6-2154-49c3-cc74-4ec3f40dbb63"
      },
      "outputs": [
        {
          "output_type": "stream",
          "name": "stdout",
          "text": [
            "Mounted at /content/gdrive/\n"
          ]
        }
      ],
      "source": [
        "from google.colab import drive\n",
        "drive.mount('/content/gdrive/')"
      ]
    },
    {
      "cell_type": "code",
      "source": [
        "!unzip -qq \"/content/gdrive/MyDrive/open (5).zip\""
      ],
      "metadata": {
        "id": "znTpg-lIrk9Z"
      },
      "execution_count": 5,
      "outputs": []
    },
    {
      "cell_type": "code",
      "source": [
        "import pandas as pd"
      ],
      "metadata": {
        "id": "p7ZN6jjqsMb0"
      },
      "execution_count": 6,
      "outputs": []
    },
    {
      "cell_type": "code",
      "source": [
        "train = pd.read_csv('/content/train.csv')\n",
        "test = pd.read_csv('/content/test.csv')"
      ],
      "metadata": {
        "id": "2OcMo8OCr3gE"
      },
      "execution_count": 7,
      "outputs": []
    },
    {
      "cell_type": "code",
      "source": [
        "def seed_everything(seed):\n",
        "    random.seed(seed)\n",
        "    os.environ['PYTHONHASHSEED'] = str(seed)\n",
        "    np.random.seed(seed)\n",
        "\n",
        "seed_everything(42) # Seed 고정"
      ],
      "metadata": {
        "id": "11M30VKWsPBP"
      },
      "execution_count": 8,
      "outputs": []
    },
    {
      "cell_type": "code",
      "source": [
        "# X는 독립변수이므로 종속변수를 제거합니다. 또한 target 이외의 문자열 데이터를 제거합니다.\n",
        "X = train.drop([\"ID\", \"genre\",'key'], axis = 1)\n",
        "# y는 종속변수로 값을 설정합니다.\n",
        "y = train[['genre']]\n",
        "\n",
        "# train에서와 마찬가지로 문자열이 포함된 특성은 제거합니다.\n",
        "test = test.drop([\"ID\",'key'], axis = 1)"
      ],
      "metadata": {
        "id": "O2yVTq1CRsO4"
      },
      "execution_count": 9,
      "outputs": []
    },
    {
      "cell_type": "code",
      "source": [
        "X_train, X_test, y_train, y_test= train_test_split(X, y, test_size = 0.2)"
      ],
      "metadata": {
        "id": "MA5HY1si5Opr"
      },
      "execution_count": 10,
      "outputs": []
    },
    {
      "cell_type": "markdown",
      "source": [
        "#non"
      ],
      "metadata": {
        "id": "wN42I_scnK86"
      }
    },
    {
      "cell_type": "code",
      "source": [
        "dtc = LGBMClassifier()\n",
        "dtc.fit(X_train, y_train)\n",
        "val_pred = dtc.predict(X_test)\n",
        "\n",
        "# Macro f1 score을 사용하기 위해 average 인자 값을 \"macro\" 로 설정해줍니다.\n",
        "print(\"현재 Macro F1 Score의 검증 점수는 {}입니다.\".format(f1_score(val_pred, y_test, average = \"macro\")))"
      ],
      "metadata": {
        "colab": {
          "base_uri": "https://localhost:8080/"
        },
        "id": "m3HyrOn9zZVb",
        "outputId": "154fed17-bf78-4f63-dee9-1c406ac24acb"
      },
      "execution_count": 11,
      "outputs": [
        {
          "output_type": "stream",
          "name": "stdout",
          "text": [
            "현재 Macro F1 Score의 검증 점수는 0.6440775816584019입니다.\n"
          ]
        }
      ]
    },
    {
      "cell_type": "markdown",
      "source": [
        "non - 0.6480054006567213"
      ],
      "metadata": {
        "id": "Slt-0lIQnE-x"
      }
    },
    {
      "cell_type": "markdown",
      "source": [
        "#random search\n",
        "Random Search는 주어진 범위 내에서 임의의 조합을 추출하여 최적의 조합을 탐색하는 방법입니다."
      ],
      "metadata": {
        "id": "R2p5hzHDnMVg"
      }
    },
    {
      "cell_type": "code",
      "source": [
        "from sklearn.model_selection import RandomizedSearchCV"
      ],
      "metadata": {
        "id": "_EH-_HkHyQxN"
      },
      "execution_count": 12,
      "outputs": []
    },
    {
      "cell_type": "code",
      "source": [
        "random_search = { 'max_depth' : [2,3,4,6,8,10,12,15,20],\n",
        "                 'lambda ' : [0.1,0.3,0.6],\n",
        "                 'num_leaves' : [1,2,3,4,5,6,7,8,9,10],\n",
        "          'min_samples_leaf' :[1,2,4,6,8,10,20,30],\n",
        "          'min_samples_split':[1,2,3,4,5,6,8,10]\n",
        "          }\n",
        "clf = LGBMClassifier()\n",
        "model = RandomizedSearchCV(estimator = clf, param_distributions = random_search, n_iter = 10, \n",
        "                               cv = 5, verbose= 1, random_state= 101, n_jobs = -1)\n",
        "model.fit(X_train,y_train)"
      ],
      "metadata": {
        "id": "-Pp8PZBQyQuy",
        "colab": {
          "base_uri": "https://localhost:8080/"
        },
        "outputId": "f1f00ae7-5806-470d-8139-7f8630968c74"
      },
      "execution_count": 13,
      "outputs": [
        {
          "output_type": "stream",
          "name": "stdout",
          "text": [
            "Fitting 5 folds for each of 10 candidates, totalling 50 fits\n"
          ]
        },
        {
          "output_type": "execute_result",
          "data": {
            "text/plain": [
              "RandomizedSearchCV(cv=5, estimator=LGBMClassifier(), n_jobs=-1,\n",
              "                   param_distributions={'lambda ': [0.1, 0.3, 0.6],\n",
              "                                        'max_depth': [2, 3, 4, 6, 8, 10, 12, 15,\n",
              "                                                      20],\n",
              "                                        'min_samples_leaf': [1, 2, 4, 6, 8, 10,\n",
              "                                                             20, 30],\n",
              "                                        'min_samples_split': [1, 2, 3, 4, 5, 6,\n",
              "                                                              8, 10],\n",
              "                                        'num_leaves': [1, 2, 3, 4, 5, 6, 7, 8,\n",
              "                                                       9, 10]},\n",
              "                   random_state=101, verbose=1)"
            ]
          },
          "metadata": {},
          "execution_count": 13
        }
      ]
    },
    {
      "cell_type": "code",
      "source": [
        "val_pred = model.predict(X_test)\n",
        "\n",
        "# Macro f1 score을 사용하기 위해 average 인자 값을 \"macro\" 로 설정해줍니다.\n",
        "print(\"현재 Macro F1 Score의 검증 점수는 {}입니다.\".format(f1_score(val_pred, y_test, average = \"macro\")))"
      ],
      "metadata": {
        "id": "dk1qond4yQpA",
        "colab": {
          "base_uri": "https://localhost:8080/"
        },
        "outputId": "e8473e5f-ba89-45e4-9d4f-a06a916caddc"
      },
      "execution_count": 14,
      "outputs": [
        {
          "output_type": "stream",
          "name": "stdout",
          "text": [
            "현재 Macro F1 Score의 검증 점수는 0.6432016168747717입니다.\n"
          ]
        }
      ]
    },
    {
      "cell_type": "code",
      "source": [
        "random_search = {'max_depth' : [2,3,4,6,8,10,12,15,20,100],\n",
        "    'n_estimators': [50, 100, 150],\n",
        "    'lambda ' : [0.1,0.3,0.6,0.7],\n",
        "    'learning_rate': [0.01, 0.1, 0.5],\n",
        "    'min_samples_leaf' :[1,2,4,6,8,10,20,30],\n",
        "    'min_samples_split':[1,2,3,4,5,6,8,10],\n",
        "    'num_leaves': [20,31, 61, 91],\n",
        "    'subsample': [0.6, 0.8, 1.0],\n",
        "}\n",
        "\n",
        "clf = LGBMClassifier()\n",
        "model = RandomizedSearchCV(estimator = clf, param_distributions = random_search, n_iter = 10, \n",
        "                               cv = 5, verbose= 1, random_state= 101, n_jobs = -1)\n",
        "model.fit(X_train,y_train)"
      ],
      "metadata": {
        "id": "U1lOJrAOo4lo",
        "colab": {
          "base_uri": "https://localhost:8080/"
        },
        "outputId": "1ccbf0f1-943b-4fb5-a52f-a7199ecffd9a"
      },
      "execution_count": 15,
      "outputs": [
        {
          "output_type": "stream",
          "name": "stdout",
          "text": [
            "Fitting 5 folds for each of 10 candidates, totalling 50 fits\n"
          ]
        },
        {
          "output_type": "execute_result",
          "data": {
            "text/plain": [
              "RandomizedSearchCV(cv=5, estimator=LGBMClassifier(), n_jobs=-1,\n",
              "                   param_distributions={'lambda ': [0.1, 0.3, 0.6, 0.7],\n",
              "                                        'learning_rate': [0.01, 0.1, 0.5],\n",
              "                                        'max_depth': [2, 3, 4, 6, 8, 10, 12, 15,\n",
              "                                                      20, 100],\n",
              "                                        'min_samples_leaf': [1, 2, 4, 6, 8, 10,\n",
              "                                                             20, 30],\n",
              "                                        'min_samples_split': [1, 2, 3, 4, 5, 6,\n",
              "                                                              8, 10],\n",
              "                                        'n_estimators': [50, 100, 150],\n",
              "                                        'num_leaves': [20, 31, 61, 91],\n",
              "                                        'subsample': [0.6, 0.8, 1.0]},\n",
              "                   random_state=101, verbose=1)"
            ]
          },
          "metadata": {},
          "execution_count": 15
        }
      ]
    },
    {
      "cell_type": "code",
      "source": [
        "val_pred = model.predict(X_test)\n",
        "\n",
        "# Macro f1 score을 사용하기 위해 average 인자 값을 \"macro\" 로 설정해줍니다.\n",
        "print(\"현재 Macro F1 Score의 검증 점수는 {}입니다.\".format(f1_score(val_pred, y_test, average = \"macro\")))"
      ],
      "metadata": {
        "id": "-QX1DBgeTkE_",
        "colab": {
          "base_uri": "https://localhost:8080/"
        },
        "outputId": "46dda142-5312-4d13-e19a-552047b3198d"
      },
      "execution_count": 16,
      "outputs": [
        {
          "output_type": "stream",
          "name": "stdout",
          "text": [
            "현재 Macro F1 Score의 검증 점수는 0.6444550172828037입니다.\n"
          ]
        }
      ]
    },
    {
      "cell_type": "code",
      "source": [
        "print(\"Best parameters: \", model.best_params_)\n",
        "print(\"Best score: \", model.best_score_)"
      ],
      "metadata": {
        "colab": {
          "base_uri": "https://localhost:8080/"
        },
        "id": "27QsFT3nBWAh",
        "outputId": "248d4c3f-6099-4a32-bec5-314b415d1b7e"
      },
      "execution_count": 17,
      "outputs": [
        {
          "output_type": "stream",
          "name": "stdout",
          "text": [
            "Best parameters:  {'subsample': 0.6, 'num_leaves': 31, 'n_estimators': 100, 'min_samples_split': 5, 'min_samples_leaf': 20, 'max_depth': 12, 'learning_rate': 0.1, 'lambda ': 0.6}\n",
            "Best score:  0.6806856322422302\n"
          ]
        }
      ]
    },
    {
      "cell_type": "markdown",
      "source": [
        "현재 Macro F1 Score의 검증 점수는 0.6448238804313243입니다."
      ],
      "metadata": {
        "id": "iYaCL-_s3gyu"
      }
    },
    {
      "cell_type": "markdown",
      "source": [
        "약간 향상되었는데..."
      ],
      "metadata": {
        "id": "MdpVYA_H3emB"
      }
    },
    {
      "cell_type": "markdown",
      "source": [
        "별 차이가 없다."
      ],
      "metadata": {
        "id": "FNmSRIMm33Ce"
      }
    },
    {
      "cell_type": "code",
      "source": [
        "from sklearn.metrics import make_scorer, f1_score"
      ],
      "metadata": {
        "id": "5ftE4vMW76z6"
      },
      "execution_count": 18,
      "outputs": []
    },
    {
      "cell_type": "code",
      "source": [
        "# Define the scoring function\n",
        "f1_scorer = make_scorer(f1_score, average='macro')\n",
        "\n",
        "# define the parameter space for the LGBMClassifier\n",
        "params = {'max_depth' : [2,3,4,6,8,10,12,15,20,100],\n",
        "    'n_estimators': [50, 100, 150],\n",
        "    'lambda ' : [0.1,0.3,0.6,0.7],\n",
        "    'learning_rate': [0.01, 0.1, 0.5],\n",
        "    'min_samples_leaf' :[1,2,4,6,8,10,20,30],\n",
        "    'min_samples_split':[1,2,3,4,5,6,8,10],\n",
        "    'num_leaves': [20,31, 61, 91],\n",
        "    'subsample': [0.6, 0.8, 1.0],\n",
        "    'min_data_in_leaf' : [20,25,30,15,10],\n",
        "    'boosting_type': ['gbdt', 'dart']\n",
        "}\n",
        "\n",
        "\n",
        "# create an instance of the LGBMClassifier\n",
        "lgbm = LGBMClassifier()\n",
        "\n",
        "# create an instance of the RandomizedSearchCV\n",
        "random_search = RandomizedSearchCV(lgbm, param_distributions=params, n_iter=10, cv=5, \n",
        "                                   scoring=f1_scorer, n_jobs=-1, random_state=42)\n",
        "\n",
        "# fit the random search to the data\n",
        "random_search.fit(X_train,y_train)\n",
        "\n",
        "# print the best parameters and the best score\n",
        "print(\"Best parameters: \", random_search.best_params_)\n",
        "print(\"Best score: \", random_search.best_score_)"
      ],
      "metadata": {
        "colab": {
          "base_uri": "https://localhost:8080/"
        },
        "id": "DaWW91bV71pG",
        "outputId": "53245bf5-de36-4e4d-f560-287d8f707fb9"
      },
      "execution_count": 19,
      "outputs": [
        {
          "output_type": "stream",
          "name": "stdout",
          "text": [
            "Best parameters:  {'subsample': 0.8, 'num_leaves': 91, 'n_estimators': 50, 'min_samples_split': 4, 'min_samples_leaf': 6, 'min_data_in_leaf': 25, 'max_depth': 12, 'learning_rate': 0.1, 'lambda ': 0.1, 'boosting_type': 'dart'}\n",
            "Best score:  0.6359797545915786\n"
          ]
        }
      ]
    },
    {
      "cell_type": "code",
      "source": [
        "val_pred = random_search.predict(X_test)\n",
        "\n",
        "# Macro f1 score을 사용하기 위해 average 인자 값을 \"macro\" 로 설정해줍니다.\n",
        "print(\"현재 Macro F1 Score의 검증 점수는 {}입니다.\".format(f1_score(val_pred, y_test, average = \"macro\")))"
      ],
      "metadata": {
        "colab": {
          "base_uri": "https://localhost:8080/"
        },
        "id": "Kj6hvh60AmTf",
        "outputId": "47fea711-20c2-4d32-bf33-7c827851928a"
      },
      "execution_count": 20,
      "outputs": [
        {
          "output_type": "stream",
          "name": "stdout",
          "text": [
            "현재 Macro F1 Score의 검증 점수는 0.635299718490676입니다.\n"
          ]
        }
      ]
    },
    {
      "cell_type": "markdown",
      "source": [
        "#optuna"
      ],
      "metadata": {
        "id": "vQh1RnE434Un"
      }
    },
    {
      "cell_type": "code",
      "source": [
        "!pip install optuna\n"
      ],
      "metadata": {
        "colab": {
          "base_uri": "https://localhost:8080/"
        },
        "id": "tQ-OphWD3oe5",
        "outputId": "34e36512-d473-4bf2-a82d-e241b35635f7"
      },
      "execution_count": 21,
      "outputs": [
        {
          "output_type": "stream",
          "name": "stdout",
          "text": [
            "Looking in indexes: https://pypi.org/simple, https://us-python.pkg.dev/colab-wheels/public/simple/\n",
            "Collecting optuna\n",
            "  Downloading optuna-3.1.0-py3-none-any.whl (365 kB)\n",
            "\u001b[2K     \u001b[90m━━━━━━━━━━━━━━━━━━━━━━━━━━━━━━━━━━━━━━\u001b[0m \u001b[32m365.3/365.3 KB\u001b[0m \u001b[31m10.8 MB/s\u001b[0m eta \u001b[36m0:00:00\u001b[0m\n",
            "\u001b[?25hRequirement already satisfied: numpy in /usr/local/lib/python3.8/dist-packages (from optuna) (1.21.6)\n",
            "Requirement already satisfied: PyYAML in /usr/local/lib/python3.8/dist-packages (from optuna) (6.0)\n",
            "Collecting cmaes>=0.9.1\n",
            "  Downloading cmaes-0.9.1-py3-none-any.whl (21 kB)\n",
            "Requirement already satisfied: sqlalchemy>=1.3.0 in /usr/local/lib/python3.8/dist-packages (from optuna) (1.4.46)\n",
            "Requirement already satisfied: packaging>=20.0 in /usr/local/lib/python3.8/dist-packages (from optuna) (21.3)\n",
            "Collecting alembic>=1.5.0\n",
            "  Downloading alembic-1.9.2-py3-none-any.whl (210 kB)\n",
            "\u001b[2K     \u001b[90m━━━━━━━━━━━━━━━━━━━━━━━━━━━━━━━━━━━━━━\u001b[0m \u001b[32m210.6/210.6 KB\u001b[0m \u001b[31m20.3 MB/s\u001b[0m eta \u001b[36m0:00:00\u001b[0m\n",
            "\u001b[?25hRequirement already satisfied: tqdm in /usr/local/lib/python3.8/dist-packages (from optuna) (4.64.1)\n",
            "Collecting colorlog\n",
            "  Downloading colorlog-6.7.0-py2.py3-none-any.whl (11 kB)\n",
            "Collecting Mako\n",
            "  Downloading Mako-1.2.4-py3-none-any.whl (78 kB)\n",
            "\u001b[2K     \u001b[90m━━━━━━━━━━━━━━━━━━━━━━━━━━━━━━━━━━━━━━━━\u001b[0m \u001b[32m78.7/78.7 KB\u001b[0m \u001b[31m9.5 MB/s\u001b[0m eta \u001b[36m0:00:00\u001b[0m\n",
            "\u001b[?25hRequirement already satisfied: importlib-resources in /usr/local/lib/python3.8/dist-packages (from alembic>=1.5.0->optuna) (5.10.2)\n",
            "Requirement already satisfied: importlib-metadata in /usr/local/lib/python3.8/dist-packages (from alembic>=1.5.0->optuna) (6.0.0)\n",
            "Requirement already satisfied: pyparsing!=3.0.5,>=2.0.2 in /usr/local/lib/python3.8/dist-packages (from packaging>=20.0->optuna) (3.0.9)\n",
            "Requirement already satisfied: greenlet!=0.4.17 in /usr/local/lib/python3.8/dist-packages (from sqlalchemy>=1.3.0->optuna) (2.0.1)\n",
            "Requirement already satisfied: zipp>=0.5 in /usr/local/lib/python3.8/dist-packages (from importlib-metadata->alembic>=1.5.0->optuna) (3.11.0)\n",
            "Requirement already satisfied: MarkupSafe>=0.9.2 in /usr/local/lib/python3.8/dist-packages (from Mako->alembic>=1.5.0->optuna) (2.0.1)\n",
            "Installing collected packages: Mako, colorlog, cmaes, alembic, optuna\n",
            "Successfully installed Mako-1.2.4 alembic-1.9.2 cmaes-0.9.1 colorlog-6.7.0 optuna-3.1.0\n"
          ]
        }
      ]
    },
    {
      "cell_type": "code",
      "source": [
        "import optuna"
      ],
      "metadata": {
        "id": "1N14UsOy4HVV"
      },
      "execution_count": 22,
      "outputs": []
    },
    {
      "cell_type": "markdown",
      "source": [
        "min_samples_leaf"
      ],
      "metadata": {
        "id": "FfIleVI34mGy"
      }
    },
    {
      "cell_type": "code",
      "source": [
        "def objective(trial):\n",
        "    # Define the hyperparameter space\n",
        "    num_leaves = trial.suggest_int('num_leaves', 10, 100)\n",
        "    learning_rate = trial.suggest_uniform('learning_rate', 0.01, 0.2)\n",
        "    n_estimators = trial.suggest_int('n_estimators', 10, 1000)\n",
        "    min_child_weight = trial.suggest_int('min_child_weight', 1, 10)\n",
        "    subsample = trial.suggest_uniform('subsample', 0.5, 1)\n",
        "    colsample_bytree = trial.suggest_uniform('colsample_bytree', 0.5, 1)\n",
        "   \n",
        "    # Initialize the LGBMClassifier\n",
        "    lgbm = LGBMClassifier(num_leaves=num_leaves,\n",
        "                           learning_rate=learning_rate,\n",
        "                           n_estimators=n_estimators,\n",
        "                           min_child_weight=min_child_weight,\n",
        "                           subsample=subsample,\n",
        "                           colsample_bytree=colsample_bytree,\n",
        "                           random_state=42)\n",
        "    \n",
        "    # Fit the model\n",
        "    lgbm.fit(X_train, y_train)\n",
        "    \n",
        "    # Compute F1-score on the validation set\n",
        "    y_pred = lgbm.predict(X_test)\n",
        "    f1 = f1_score(y_test, y_pred, average='macro')\n",
        "    return 1 - f1\n",
        "\n",
        "study = optuna.create_study()\n",
        "study.optimize(objective, n_trials=100, n_jobs=-1)\n",
        "\n",
        "# Print the best hyperparameters\n",
        "print(study.best_params)"
      ],
      "metadata": {
        "colab": {
          "base_uri": "https://localhost:8080/"
        },
        "id": "zRceNGBW371p",
        "outputId": "73570be7-ea43-4c02-a493-18f9466b319d"
      },
      "execution_count": 23,
      "outputs": [
        {
          "output_type": "stream",
          "name": "stderr",
          "text": [
            "\u001b[32m[I 2023-01-29 10:01:12,927]\u001b[0m A new study created in memory with name: no-name-a24e7dae-73d0-41e0-8b47-b2533edd8484\u001b[0m\n",
            "\u001b[32m[I 2023-01-29 10:01:51,261]\u001b[0m Trial 0 finished with value: 0.3704750874766872 and parameters: {'num_leaves': 40, 'learning_rate': 0.15313747629838179, 'n_estimators': 175, 'min_child_weight': 8, 'subsample': 0.9578811089287604, 'colsample_bytree': 0.6616748005988594}. Best is trial 0 with value: 0.3704750874766872.\u001b[0m\n",
            "\u001b[32m[I 2023-01-29 10:02:03,374]\u001b[0m Trial 2 finished with value: 0.36464479724560805 and parameters: {'num_leaves': 35, 'learning_rate': 0.17375776580530106, 'n_estimators': 72, 'min_child_weight': 5, 'subsample': 0.5968897130394315, 'colsample_bytree': 0.9674830239695693}. Best is trial 2 with value: 0.36464479724560805.\u001b[0m\n",
            "\u001b[32m[I 2023-01-29 10:02:31,907]\u001b[0m Trial 3 finished with value: 0.3656394991281581 and parameters: {'num_leaves': 65, 'learning_rate': 0.046878003432727695, 'n_estimators': 126, 'min_child_weight': 4, 'subsample': 0.5485669939100994, 'colsample_bytree': 0.8498798991189516}. Best is trial 2 with value: 0.36464479724560805.\u001b[0m\n",
            "\u001b[32m[I 2023-01-29 10:03:03,976]\u001b[0m Trial 4 finished with value: 0.3659441041456978 and parameters: {'num_leaves': 12, 'learning_rate': 0.19247859269028042, 'n_estimators': 436, 'min_child_weight': 8, 'subsample': 0.8271339045559551, 'colsample_bytree': 0.9503038970235996}. Best is trial 2 with value: 0.36464479724560805.\u001b[0m\n",
            "\u001b[32m[I 2023-01-29 10:04:09,171]\u001b[0m Trial 1 finished with value: 0.36599736229473845 and parameters: {'num_leaves': 56, 'learning_rate': 0.012159658197642786, 'n_estimators': 821, 'min_child_weight': 4, 'subsample': 0.6231852846142638, 'colsample_bytree': 0.5379520763698085}. Best is trial 2 with value: 0.36464479724560805.\u001b[0m\n",
            "\u001b[32m[I 2023-01-29 10:04:26,867]\u001b[0m Trial 5 finished with value: 0.3787075345115485 and parameters: {'num_leaves': 81, 'learning_rate': 0.1968773827278181, 'n_estimators': 623, 'min_child_weight': 10, 'subsample': 0.7073658284189839, 'colsample_bytree': 0.7678589585554639}. Best is trial 2 with value: 0.36464479724560805.\u001b[0m\n",
            "\u001b[32m[I 2023-01-29 10:05:27,966]\u001b[0m Trial 6 finished with value: 0.35723973260395503 and parameters: {'num_leaves': 28, 'learning_rate': 0.0306878311623901, 'n_estimators': 598, 'min_child_weight': 2, 'subsample': 0.5970293275214309, 'colsample_bytree': 0.9773003615880667}. Best is trial 6 with value: 0.35723973260395503.\u001b[0m\n",
            "\u001b[32m[I 2023-01-29 10:06:33,889]\u001b[0m Trial 8 finished with value: 0.37676215702328064 and parameters: {'num_leaves': 90, 'learning_rate': 0.05753849912666453, 'n_estimators': 273, 'min_child_weight': 8, 'subsample': 0.8928683588868201, 'colsample_bytree': 0.8176787732948698}. Best is trial 6 with value: 0.35723973260395503.\u001b[0m\n",
            "\u001b[32m[I 2023-01-29 10:06:34,312]\u001b[0m Trial 7 finished with value: 0.37087048772427056 and parameters: {'num_leaves': 92, 'learning_rate': 0.1498768537752715, 'n_estimators': 743, 'min_child_weight': 3, 'subsample': 0.9694295589408299, 'colsample_bytree': 0.7580914674996992}. Best is trial 6 with value: 0.35723973260395503.\u001b[0m\n",
            "\u001b[32m[I 2023-01-29 10:08:50,750]\u001b[0m Trial 10 finished with value: 0.37487137486066235 and parameters: {'num_leaves': 98, 'learning_rate': 0.1456453731841442, 'n_estimators': 947, 'min_child_weight': 7, 'subsample': 0.7339210608043922, 'colsample_bytree': 0.963934052842015}. Best is trial 6 with value: 0.35723973260395503.\u001b[0m\n",
            "\u001b[32m[I 2023-01-29 10:08:50,929]\u001b[0m Trial 9 finished with value: 0.36662687249141757 and parameters: {'num_leaves': 98, 'learning_rate': 0.010229042455692047, 'n_estimators': 456, 'min_child_weight': 3, 'subsample': 0.6954269098073129, 'colsample_bytree': 0.6656043992059215}. Best is trial 6 with value: 0.35723973260395503.\u001b[0m\n",
            "\u001b[32m[I 2023-01-29 10:09:20,147]\u001b[0m Trial 11 finished with value: 0.35684852784089294 and parameters: {'num_leaves': 10, 'learning_rate': 0.09345508783629013, 'n_estimators': 460, 'min_child_weight': 1, 'subsample': 0.5140307095179669, 'colsample_bytree': 0.8886543472789947}. Best is trial 11 with value: 0.35684852784089294.\u001b[0m\n",
            "\u001b[32m[I 2023-01-29 10:09:32,706]\u001b[0m Trial 12 finished with value: 0.36309411902605526 and parameters: {'num_leaves': 27, 'learning_rate': 0.1000555971058556, 'n_estimators': 340, 'min_child_weight': 1, 'subsample': 0.540855999418072, 'colsample_bytree': 0.9930334266300884}. Best is trial 11 with value: 0.35684852784089294.\u001b[0m\n",
            "\u001b[32m[I 2023-01-29 10:10:00,336]\u001b[0m Trial 13 finished with value: 0.3610250567091192 and parameters: {'num_leaves': 10, 'learning_rate': 0.09114291550378684, 'n_estimators': 603, 'min_child_weight': 1, 'subsample': 0.5120347352971344, 'colsample_bytree': 0.8927922399766892}. Best is trial 11 with value: 0.35684852784089294.\u001b[0m\n",
            "\u001b[32m[I 2023-01-29 10:10:11,906]\u001b[0m Trial 14 finished with value: 0.3578845714700737 and parameters: {'num_leaves': 10, 'learning_rate': 0.09336976741259748, 'n_estimators': 608, 'min_child_weight': 1, 'subsample': 0.510067761622856, 'colsample_bytree': 0.8963857912414332}. Best is trial 11 with value: 0.35684852784089294.\u001b[0m\n",
            "\u001b[32m[I 2023-01-29 10:11:00,819]\u001b[0m Trial 15 finished with value: 0.3697646094048427 and parameters: {'num_leaves': 23, 'learning_rate': 0.12080550884677121, 'n_estimators': 593, 'min_child_weight': 2, 'subsample': 0.5012118539172371, 'colsample_bytree': 0.8739594201448248}. Best is trial 11 with value: 0.35684852784089294.\u001b[0m\n",
            "\u001b[32m[I 2023-01-29 10:11:38,005]\u001b[0m Trial 16 finished with value: 0.3687472119145697 and parameters: {'num_leaves': 26, 'learning_rate': 0.1198362105180849, 'n_estimators': 757, 'min_child_weight': 2, 'subsample': 0.6132753505218107, 'colsample_bytree': 0.9193509321041439}. Best is trial 11 with value: 0.35684852784089294.\u001b[0m\n",
            "\u001b[32m[I 2023-01-29 10:12:34,758]\u001b[0m Trial 18 finished with value: 0.37165946697996677 and parameters: {'num_leaves': 45, 'learning_rate': 0.06958523664463515, 'n_estimators': 364, 'min_child_weight': 6, 'subsample': 0.658476762374796, 'colsample_bytree': 0.990456872249475}. Best is trial 11 with value: 0.35684852784089294.\u001b[0m\n",
            "\u001b[32m[I 2023-01-29 10:12:56,799]\u001b[0m Trial 17 finished with value: 0.3700627536850899 and parameters: {'num_leaves': 42, 'learning_rate': 0.06024802401959671, 'n_estimators': 743, 'min_child_weight': 2, 'subsample': 0.6287703748464073, 'colsample_bytree': 0.9997717687047325}. Best is trial 11 with value: 0.35684852784089294.\u001b[0m\n",
            "\u001b[32m[I 2023-01-29 10:13:47,500]\u001b[0m Trial 19 finished with value: 0.3557492729945756 and parameters: {'num_leaves': 22, 'learning_rate': 0.04364420462433028, 'n_estimators': 512, 'min_child_weight': 3, 'subsample': 0.7783877066364846, 'colsample_bytree': 0.9244717560316262}. Best is trial 19 with value: 0.3557492729945756.\u001b[0m\n",
            "\u001b[32m[I 2023-01-29 10:14:05,282]\u001b[0m Trial 20 finished with value: 0.3524071421154604 and parameters: {'num_leaves': 19, 'learning_rate': 0.033390109026791126, 'n_estimators': 535, 'min_child_weight': 3, 'subsample': 0.5744029809892393, 'colsample_bytree': 0.92197563357496}. Best is trial 20 with value: 0.3524071421154604.\u001b[0m\n",
            "\u001b[32m[I 2023-01-29 10:14:13,045]\u001b[0m Trial 21 finished with value: 0.3564251390167362 and parameters: {'num_leaves': 21, 'learning_rate': 0.07717897194195122, 'n_estimators': 234, 'min_child_weight': 4, 'subsample': 0.7795933693353817, 'colsample_bytree': 0.8289039385758757}. Best is trial 20 with value: 0.3524071421154604.\u001b[0m\n",
            "\u001b[32m[I 2023-01-29 10:14:37,783]\u001b[0m Trial 23 finished with value: 0.3593189680337754 and parameters: {'num_leaves': 21, 'learning_rate': 0.03883340320695634, 'n_estimators': 212, 'min_child_weight': 4, 'subsample': 0.7891868758466776, 'colsample_bytree': 0.8368757866266248}. Best is trial 20 with value: 0.3524071421154604.\u001b[0m\n",
            "\u001b[32m[I 2023-01-29 10:14:57,770]\u001b[0m Trial 22 finished with value: 0.3539087354572815 and parameters: {'num_leaves': 18, 'learning_rate': 0.03678183685338572, 'n_estimators': 496, 'min_child_weight': 4, 'subsample': 0.7924614940533722, 'colsample_bytree': 0.9218316423134372}. Best is trial 20 with value: 0.3524071421154604.\u001b[0m\n",
            "\u001b[32m[I 2023-01-29 10:15:13,387]\u001b[0m Trial 24 finished with value: 0.3586104946540727 and parameters: {'num_leaves': 18, 'learning_rate': 0.07172141772299115, 'n_estimators': 347, 'min_child_weight': 5, 'subsample': 0.772414358049483, 'colsample_bytree': 0.930053397604905}. Best is trial 20 with value: 0.3524071421154604.\u001b[0m\n",
            "\u001b[32m[I 2023-01-29 10:16:31,005]\u001b[0m Trial 26 finished with value: 0.35558477012180356 and parameters: {'num_leaves': 35, 'learning_rate': 0.03157867781719298, 'n_estimators': 519, 'min_child_weight': 3, 'subsample': 0.8352362239922119, 'colsample_bytree': 0.9247210853099255}. Best is trial 20 with value: 0.3524071421154604.\u001b[0m\n",
            "\u001b[32m[I 2023-01-29 10:16:43,921]\u001b[0m Trial 25 finished with value: 0.3694597231420417 and parameters: {'num_leaves': 55, 'learning_rate': 0.03099620677272412, 'n_estimators': 535, 'min_child_weight': 5, 'subsample': 0.8233928987665637, 'colsample_bytree': 0.9280047930383368}. Best is trial 20 with value: 0.3524071421154604.\u001b[0m\n",
            "\u001b[32m[I 2023-01-29 10:17:48,100]\u001b[0m Trial 27 finished with value: 0.36367039619849884 and parameters: {'num_leaves': 32, 'learning_rate': 0.023802944864950694, 'n_estimators': 533, 'min_child_weight': 6, 'subsample': 0.8150924052849523, 'colsample_bytree': 0.9261597303428424}. Best is trial 20 with value: 0.3524071421154604.\u001b[0m\n",
            "\u001b[32m[I 2023-01-29 10:18:16,682]\u001b[0m Trial 28 finished with value: 0.3640104043833712 and parameters: {'num_leaves': 32, 'learning_rate': 0.02348442936068234, 'n_estimators': 685, 'min_child_weight': 6, 'subsample': 0.8603507652150768, 'colsample_bytree': 0.8679767280067003}. Best is trial 20 with value: 0.3524071421154604.\u001b[0m\n",
            "\u001b[32m[I 2023-01-29 10:19:23,099]\u001b[0m Trial 30 finished with value: 0.36534464610202666 and parameters: {'num_leaves': 47, 'learning_rate': 0.04977240266759631, 'n_estimators': 403, 'min_child_weight': 3, 'subsample': 0.8901393365784004, 'colsample_bytree': 0.8008092953234208}. Best is trial 20 with value: 0.3524071421154604.\u001b[0m\n",
            "\u001b[32m[I 2023-01-29 10:19:37,581]\u001b[0m Trial 29 finished with value: 0.36698841207419497 and parameters: {'num_leaves': 48, 'learning_rate': 0.05083306223255363, 'n_estimators': 685, 'min_child_weight': 3, 'subsample': 0.8613057278157396, 'colsample_bytree': 0.8117068041528981}. Best is trial 20 with value: 0.3524071421154604.\u001b[0m\n",
            "\u001b[32m[I 2023-01-29 10:20:28,163]\u001b[0m Trial 32 finished with value: 0.3529755944410321 and parameters: {'num_leaves': 18, 'learning_rate': 0.03983910671615184, 'n_estimators': 536, 'min_child_weight': 3, 'subsample': 0.7551750745419856, 'colsample_bytree': 0.9466528048441671}. Best is trial 20 with value: 0.3524071421154604.\u001b[0m\n",
            "\u001b[32m[I 2023-01-29 10:21:30,613]\u001b[0m Trial 31 finished with value: 0.3677775763336715 and parameters: {'num_leaves': 36, 'learning_rate': 0.037659931416920096, 'n_estimators': 882, 'min_child_weight': 3, 'subsample': 0.7310669823775037, 'colsample_bytree': 0.8638849611909432}. Best is trial 20 with value: 0.3524071421154604.\u001b[0m\n",
            "\u001b[32m[I 2023-01-29 10:21:52,117]\u001b[0m Trial 33 finished with value: 0.3613498067603935 and parameters: {'num_leaves': 38, 'learning_rate': 0.018491057780941532, 'n_estimators': 513, 'min_child_weight': 4, 'subsample': 0.7271331371454086, 'colsample_bytree': 0.9596427873975141}. Best is trial 20 with value: 0.3524071421154604.\u001b[0m\n",
            "\u001b[32m[I 2023-01-29 10:22:17,558]\u001b[0m Trial 34 finished with value: 0.35815284559218097 and parameters: {'num_leaves': 16, 'learning_rate': 0.017763051296387455, 'n_estimators': 487, 'min_child_weight': 4, 'subsample': 0.745162762070368, 'colsample_bytree': 0.9552127034438413}. Best is trial 20 with value: 0.3524071421154604.\u001b[0m\n",
            "\u001b[32m[I 2023-01-29 10:22:55,206]\u001b[0m Trial 35 finished with value: 0.35725456190572336 and parameters: {'num_leaves': 17, 'learning_rate': 0.013592707919960041, 'n_estimators': 672, 'min_child_weight': 4, 'subsample': 0.6940442527567596, 'colsample_bytree': 0.897548188966979}. Best is trial 20 with value: 0.3524071421154604.\u001b[0m\n",
            "\u001b[32m[I 2023-01-29 10:23:23,021]\u001b[0m Trial 36 finished with value: 0.35986556837595185 and parameters: {'num_leaves': 17, 'learning_rate': 0.010280162947467902, 'n_estimators': 670, 'min_child_weight': 5, 'subsample': 0.6883160500436416, 'colsample_bytree': 0.9052742306503525}. Best is trial 20 with value: 0.3524071421154604.\u001b[0m\n",
            "\u001b[32m[I 2023-01-29 10:24:27,527]\u001b[0m Trial 37 finished with value: 0.36777765074971924 and parameters: {'num_leaves': 70, 'learning_rate': 0.0311647378756379, 'n_estimators': 423, 'min_child_weight': 5, 'subsample': 0.6691426919068613, 'colsample_bytree': 0.8545459947245679}. Best is trial 20 with value: 0.3524071421154604.\u001b[0m\n",
            "\u001b[32m[I 2023-01-29 10:25:00,789]\u001b[0m Trial 38 finished with value: 0.3696345055672491 and parameters: {'num_leaves': 72, 'learning_rate': 0.03321946416278046, 'n_estimators': 407, 'min_child_weight': 2, 'subsample': 0.6734228696617285, 'colsample_bytree': 0.853644173064321}. Best is trial 20 with value: 0.3524071421154604.\u001b[0m\n",
            "\u001b[32m[I 2023-01-29 10:25:09,665]\u001b[0m Trial 39 finished with value: 0.35692992746226593 and parameters: {'num_leaves': 31, 'learning_rate': 0.04056952423485616, 'n_estimators': 292, 'min_child_weight': 2, 'subsample': 0.7556289421876751, 'colsample_bytree': 0.9481622043344959}. Best is trial 20 with value: 0.3524071421154604.\u001b[0m\n",
            "\u001b[32m[I 2023-01-29 10:25:18,937]\u001b[0m Trial 41 finished with value: 0.3676378932278459 and parameters: {'num_leaves': 53, 'learning_rate': 0.05640385331633804, 'n_estimators': 46, 'min_child_weight': 10, 'subsample': 0.5710471715022073, 'colsample_bytree': 0.9771565150458307}. Best is trial 20 with value: 0.3524071421154604.\u001b[0m\n",
            "\u001b[32m[I 2023-01-29 10:26:16,245]\u001b[0m Trial 40 finished with value: 0.36190184512971946 and parameters: {'num_leaves': 30, 'learning_rate': 0.04466244294795342, 'n_estimators': 558, 'min_child_weight': 3, 'subsample': 0.7627386931745685, 'colsample_bytree': 0.9635768947323429}. Best is trial 20 with value: 0.3524071421154604.\u001b[0m\n",
            "\u001b[32m[I 2023-01-29 10:26:22,721]\u001b[0m Trial 42 finished with value: 0.3558301570607423 and parameters: {'num_leaves': 24, 'learning_rate': 0.04383715039261519, 'n_estimators': 556, 'min_child_weight': 3, 'subsample': 0.7843714340442619, 'colsample_bytree': 0.9422158909486038}. Best is trial 20 with value: 0.3524071421154604.\u001b[0m\n",
            "\u001b[32m[I 2023-01-29 10:27:07,284]\u001b[0m Trial 44 finished with value: 0.35879788832969706 and parameters: {'num_leaves': 15, 'learning_rate': 0.022980359575738615, 'n_estimators': 503, 'min_child_weight': 4, 'subsample': 0.8031032260345707, 'colsample_bytree': 0.914755551751112}. Best is trial 20 with value: 0.3524071421154604.\u001b[0m\n",
            "\u001b[32m[I 2023-01-29 10:27:12,067]\u001b[0m Trial 43 finished with value: 0.3536892860084445 and parameters: {'num_leaves': 23, 'learning_rate': 0.04476143992941767, 'n_estimators': 493, 'min_child_weight': 3, 'subsample': 0.8026536596096677, 'colsample_bytree': 0.9375230497657497}. Best is trial 20 with value: 0.3524071421154604.\u001b[0m\n",
            "\u001b[32m[I 2023-01-29 10:27:49,212]\u001b[0m Trial 46 finished with value: 0.3557158356520973 and parameters: {'num_leaves': 13, 'learning_rate': 0.028057821595255952, 'n_estimators': 472, 'min_child_weight': 2, 'subsample': 0.8423108387153677, 'colsample_bytree': 0.8786925759623674}. Best is trial 20 with value: 0.3524071421154604.\u001b[0m\n",
            "\u001b[32m[I 2023-01-29 10:27:59,117]\u001b[0m Trial 45 finished with value: 0.3515364163916883 and parameters: {'num_leaves': 21, 'learning_rate': 0.026641156635697837, 'n_estimators': 474, 'min_child_weight': 3, 'subsample': 0.7126078499041556, 'colsample_bytree': 0.9305600955950705}. Best is trial 45 with value: 0.3515364163916883.\u001b[0m\n",
            "\u001b[32m[I 2023-01-29 10:28:04,961]\u001b[0m Trial 47 finished with value: 0.36199810332611826 and parameters: {'num_leaves': 27, 'learning_rate': 0.03509690794998456, 'n_estimators': 117, 'min_child_weight': 4, 'subsample': 0.8071199437190427, 'colsample_bytree': 0.9753414145639862}. Best is trial 45 with value: 0.3515364163916883.\u001b[0m\n",
            "\u001b[32m[I 2023-01-29 10:28:44,801]\u001b[0m Trial 49 finished with value: 0.35371021361390675 and parameters: {'num_leaves': 20, 'learning_rate': 0.054844821291085324, 'n_estimators': 386, 'min_child_weight': 3, 'subsample': 0.724733906956108, 'colsample_bytree': 0.9469038993178382}. Best is trial 45 with value: 0.3515364163916883.\u001b[0m\n",
            "\u001b[32m[I 2023-01-29 10:28:47,252]\u001b[0m Trial 48 finished with value: 0.35883128345055326 and parameters: {'num_leaves': 28, 'learning_rate': 0.05741260772795385, 'n_estimators': 373, 'min_child_weight': 4, 'subsample': 0.7128714645451912, 'colsample_bytree': 0.9716453379638276}. Best is trial 45 with value: 0.3515364163916883.\u001b[0m\n",
            "\u001b[32m[I 2023-01-29 10:29:11,579]\u001b[0m Trial 51 finished with value: 0.35518587602811 and parameters: {'num_leaves': 13, 'learning_rate': 0.06351917204591279, 'n_estimators': 305, 'min_child_weight': 2, 'subsample': 0.6466008107108385, 'colsample_bytree': 0.9459681519877986}. Best is trial 45 with value: 0.3515364163916883.\u001b[0m\n",
            "\u001b[32m[I 2023-01-29 10:29:36,104]\u001b[0m Trial 50 finished with value: 0.3533910715572325 and parameters: {'num_leaves': 40, 'learning_rate': 0.055350844910620166, 'n_estimators': 316, 'min_child_weight': 1, 'subsample': 0.6412302159824417, 'colsample_bytree': 0.9510832315547258}. Best is trial 45 with value: 0.3515364163916883.\u001b[0m\n",
            "\u001b[32m[I 2023-01-29 10:29:55,344]\u001b[0m Trial 52 finished with value: 0.3507834123521626 and parameters: {'num_leaves': 19, 'learning_rate': 0.050506255437712345, 'n_estimators': 444, 'min_child_weight': 3, 'subsample': 0.7554718048954148, 'colsample_bytree': 0.901096158523716}. Best is trial 52 with value: 0.3507834123521626.\u001b[0m\n",
            "\u001b[32m[I 2023-01-29 10:30:42,659]\u001b[0m Trial 53 finished with value: 0.36308077651526327 and parameters: {'num_leaves': 40, 'learning_rate': 0.05104542881760061, 'n_estimators': 422, 'min_child_weight': 1, 'subsample': 0.7155744489612874, 'colsample_bytree': 0.883283833898558}. Best is trial 52 with value: 0.3507834123521626.\u001b[0m\n",
            "\u001b[32m[I 2023-01-29 10:31:05,194]\u001b[0m Trial 54 finished with value: 0.3674136877647304 and parameters: {'num_leaves': 41, 'learning_rate': 0.04720557377719991, 'n_estimators': 442, 'min_child_weight': 1, 'subsample': 0.7536546003123592, 'colsample_bytree': 0.8906164800027111}. Best is trial 52 with value: 0.3507834123521626.\u001b[0m\n",
            "\u001b[32m[I 2023-01-29 10:31:48,681]\u001b[0m Trial 55 finished with value: 0.3654370875888351 and parameters: {'num_leaves': 24, 'learning_rate': 0.04842645732010824, 'n_estimators': 575, 'min_child_weight': 9, 'subsample': 0.7572374078845774, 'colsample_bytree': 0.9029684858094016}. Best is trial 52 with value: 0.3507834123521626.\u001b[0m\n",
            "\u001b[32m[I 2023-01-29 10:32:09,545]\u001b[0m Trial 56 finished with value: 0.37111169842509817 and parameters: {'num_leaves': 24, 'learning_rate': 0.061954749222772505, 'n_estimators': 579, 'min_child_weight': 9, 'subsample': 0.6060438875899319, 'colsample_bytree': 0.9986228209871424}. Best is trial 52 with value: 0.3507834123521626.\u001b[0m\n",
            "\u001b[32m[I 2023-01-29 10:33:46,989]\u001b[0m Trial 57 finished with value: 0.367257640613209 and parameters: {'num_leaves': 60, 'learning_rate': 0.06555315311635194, 'n_estimators': 642, 'min_child_weight': 2, 'subsample': 0.5845252172642279, 'colsample_bytree': 0.9950465297592076}. Best is trial 52 with value: 0.3507834123521626.\u001b[0m\n",
            "\u001b[32m[I 2023-01-29 10:34:11,928]\u001b[0m Trial 59 finished with value: 0.3597275282779766 and parameters: {'num_leaves': 10, 'learning_rate': 0.07618370346762604, 'n_estimators': 331, 'min_child_weight': 1, 'subsample': 0.6208824486188534, 'colsample_bytree': 0.9085534210767172}. Best is trial 52 with value: 0.3507834123521626.\u001b[0m\n",
            "\u001b[32m[I 2023-01-29 10:34:18,707]\u001b[0m Trial 58 finished with value: 0.3664350319105023 and parameters: {'num_leaves': 62, 'learning_rate': 0.041917610735332525, 'n_estimators': 627, 'min_child_weight': 2, 'subsample': 0.6348960946489195, 'colsample_bytree': 0.979420628211088}. Best is trial 52 with value: 0.3507834123521626.\u001b[0m\n",
            "\u001b[32m[I 2023-01-29 10:34:33,447]\u001b[0m Trial 60 finished with value: 0.3610022546063102 and parameters: {'num_leaves': 13, 'learning_rate': 0.03953524299943143, 'n_estimators': 253, 'min_child_weight': 7, 'subsample': 0.700506855743152, 'colsample_bytree': 0.938773622430974}. Best is trial 52 with value: 0.3507834123521626.\u001b[0m\n",
            "\u001b[32m[I 2023-01-29 10:34:56,614]\u001b[0m Trial 61 finished with value: 0.3597247275178367 and parameters: {'num_leaves': 34, 'learning_rate': 0.02542475761801665, 'n_estimators': 253, 'min_child_weight': 7, 'subsample': 0.7049274758547014, 'colsample_bytree': 0.9389010580256594}. Best is trial 52 with value: 0.3507834123521626.\u001b[0m\n",
            "\u001b[32m[I 2023-01-29 10:35:13,259]\u001b[0m Trial 62 finished with value: 0.35448947621086613 and parameters: {'num_leaves': 20, 'learning_rate': 0.05537804173752035, 'n_estimators': 388, 'min_child_weight': 3, 'subsample': 0.7145009783894825, 'colsample_bytree': 0.9469254657010882}. Best is trial 52 with value: 0.3507834123521626.\u001b[0m\n",
            "\u001b[32m[I 2023-01-29 10:35:36,079]\u001b[0m Trial 63 finished with value: 0.3542532983757184 and parameters: {'num_leaves': 20, 'learning_rate': 0.055052430399570244, 'n_estimators': 387, 'min_child_weight': 3, 'subsample': 0.734706092166922, 'colsample_bytree': 0.9566160167135773}. Best is trial 52 with value: 0.3507834123521626.\u001b[0m\n",
            "\u001b[32m[I 2023-01-29 10:36:02,264]\u001b[0m Trial 64 finished with value: 0.3604711453702182 and parameters: {'num_leaves': 22, 'learning_rate': 0.0675995567624613, 'n_estimators': 457, 'min_child_weight': 3, 'subsample': 0.7425408789536223, 'colsample_bytree': 0.9662023323682312}. Best is trial 52 with value: 0.3507834123521626.\u001b[0m\n",
            "\u001b[32m[I 2023-01-29 10:36:23,909]\u001b[0m Trial 66 finished with value: 0.35407813977752267 and parameters: {'num_leaves': 28, 'learning_rate': 0.03658140851677026, 'n_estimators': 166, 'min_child_weight': 2, 'subsample': 0.6836771130258207, 'colsample_bytree': 0.9133495925829558}. Best is trial 52 with value: 0.3507834123521626.\u001b[0m\n",
            "\u001b[32m[I 2023-01-29 10:36:32,403]\u001b[0m Trial 65 finished with value: 0.36771354466099715 and parameters: {'num_leaves': 27, 'learning_rate': 0.08268040106002786, 'n_estimators': 469, 'min_child_weight': 3, 'subsample': 0.7717809861050456, 'colsample_bytree': 0.9106491116616966}. Best is trial 52 with value: 0.3507834123521626.\u001b[0m\n",
            "\u001b[32m[I 2023-01-29 10:36:58,245]\u001b[0m Trial 67 finished with value: 0.3594518624041161 and parameters: {'num_leaves': 19, 'learning_rate': 0.018335102934152494, 'n_estimators': 321, 'min_child_weight': 3, 'subsample': 0.7713554294124743, 'colsample_bytree': 0.9317807978161726}. Best is trial 52 with value: 0.3507834123521626.\u001b[0m\n",
            "\u001b[32m[I 2023-01-29 10:37:08,801]\u001b[0m Trial 68 finished with value: 0.35739569133572646 and parameters: {'num_leaves': 19, 'learning_rate': 0.027266410058480878, 'n_estimators': 349, 'min_child_weight': 1, 'subsample': 0.6570364906927987, 'colsample_bytree': 0.932196227470967}. Best is trial 52 with value: 0.3507834123521626.\u001b[0m\n",
            "\u001b[32m[I 2023-01-29 10:37:52,034]\u001b[0m Trial 70 finished with value: 0.3595548987310916 and parameters: {'num_leaves': 15, 'learning_rate': 0.06152037429571004, 'n_estimators': 539, 'min_child_weight': 5, 'subsample': 0.7223160550436027, 'colsample_bytree': 0.8876384634328622}. Best is trial 52 with value: 0.3507834123521626.\u001b[0m\n",
            "\u001b[32m[I 2023-01-29 10:38:00,896]\u001b[0m Trial 69 finished with value: 0.35626376641181967 and parameters: {'num_leaves': 25, 'learning_rate': 0.029466490918590688, 'n_estimators': 546, 'min_child_weight': 5, 'subsample': 0.7409339604768436, 'colsample_bytree': 0.8762747404656668}. Best is trial 52 with value: 0.3507834123521626.\u001b[0m\n",
            "\u001b[32m[I 2023-01-29 10:38:39,529]\u001b[0m Trial 71 finished with value: 0.35791707876582457 and parameters: {'num_leaves': 23, 'learning_rate': 0.05140379131426463, 'n_estimators': 430, 'min_child_weight': 2, 'subsample': 0.7356541989660401, 'colsample_bytree': 0.8689372894573418}. Best is trial 52 with value: 0.3507834123521626.\u001b[0m\n",
            "\u001b[32m[I 2023-01-29 10:38:43,231]\u001b[0m Trial 72 finished with value: 0.3539654045634324 and parameters: {'num_leaves': 17, 'learning_rate': 0.034302596250852635, 'n_estimators': 442, 'min_child_weight': 3, 'subsample': 0.7923552086426069, 'colsample_bytree': 0.9177258266001033}. Best is trial 52 with value: 0.3507834123521626.\u001b[0m\n",
            "\u001b[32m[I 2023-01-29 10:39:24,899]\u001b[0m Trial 73 finished with value: 0.3518566466308143 and parameters: {'num_leaves': 16, 'learning_rate': 0.03593823678021765, 'n_estimators': 485, 'min_child_weight': 4, 'subsample': 0.7938453275875711, 'colsample_bytree': 0.9207697219399272}. Best is trial 52 with value: 0.3507834123521626.\u001b[0m\n",
            "\u001b[32m[I 2023-01-29 10:39:25,726]\u001b[0m Trial 74 finished with value: 0.3523922658185036 and parameters: {'num_leaves': 14, 'learning_rate': 0.043263787725080556, 'n_estimators': 500, 'min_child_weight': 4, 'subsample': 0.795753896818971, 'colsample_bytree': 0.9827531103492659}. Best is trial 52 with value: 0.3507834123521626.\u001b[0m\n",
            "\u001b[32m[I 2023-01-29 10:40:03,629]\u001b[0m Trial 76 finished with value: 0.3538747249497425 and parameters: {'num_leaves': 12, 'learning_rate': 0.04428152131061653, 'n_estimators': 496, 'min_child_weight': 4, 'subsample': 0.8016510108433497, 'colsample_bytree': 0.963651306968996}. Best is trial 52 with value: 0.3507834123521626.\u001b[0m\n",
            "\u001b[32m[I 2023-01-29 10:40:05,668]\u001b[0m Trial 75 finished with value: 0.352264076668926 and parameters: {'num_leaves': 14, 'learning_rate': 0.0435393191271425, 'n_estimators': 487, 'min_child_weight': 4, 'subsample': 0.7987156080057988, 'colsample_bytree': 0.9848141082400332}. Best is trial 52 with value: 0.3507834123521626.\u001b[0m\n",
            "\u001b[32m[I 2023-01-29 10:40:47,183]\u001b[0m Trial 78 finished with value: 0.3544175274478376 and parameters: {'num_leaves': 10, 'learning_rate': 0.03849736458824661, 'n_estimators': 604, 'min_child_weight': 4, 'subsample': 0.8198733816608806, 'colsample_bytree': 0.9808061966750584}. Best is trial 52 with value: 0.3507834123521626.\u001b[0m\n",
            "\u001b[32m[I 2023-01-29 10:40:56,817]\u001b[0m Trial 77 finished with value: 0.3517629999424735 and parameters: {'num_leaves': 15, 'learning_rate': 0.036509559756932694, 'n_estimators': 605, 'min_child_weight': 4, 'subsample': 0.7851086587054856, 'colsample_bytree': 0.9810282904679625}. Best is trial 52 with value: 0.3507834123521626.\u001b[0m\n",
            "\u001b[32m[I 2023-01-29 10:41:32,372]\u001b[0m Trial 79 finished with value: 0.35321163154523205 and parameters: {'num_leaves': 14, 'learning_rate': 0.0211823714251006, 'n_estimators': 519, 'min_child_weight': 4, 'subsample': 0.7658565211903106, 'colsample_bytree': 0.9921267555757901}. Best is trial 52 with value: 0.3507834123521626.\u001b[0m\n",
            "\u001b[32m[I 2023-01-29 10:41:44,381]\u001b[0m Trial 80 finished with value: 0.35484571365547857 and parameters: {'num_leaves': 13, 'learning_rate': 0.022380600537545606, 'n_estimators': 580, 'min_child_weight': 4, 'subsample': 0.7821305811966334, 'colsample_bytree': 0.9837560779711786}. Best is trial 52 with value: 0.3507834123521626.\u001b[0m\n",
            "\u001b[32m[I 2023-01-29 10:42:31,478]\u001b[0m Trial 82 finished with value: 0.35784183111519674 and parameters: {'num_leaves': 15, 'learning_rate': 0.02908000590414382, 'n_estimators': 522, 'min_child_weight': 5, 'subsample': 0.7709721916888846, 'colsample_bytree': 0.9844806108785495}. Best is trial 52 with value: 0.3507834123521626.\u001b[0m\n",
            "\u001b[32m[I 2023-01-29 10:42:33,555]\u001b[0m Trial 81 finished with value: 0.35666083205906196 and parameters: {'num_leaves': 16, 'learning_rate': 0.014882561291185883, 'n_estimators': 634, 'min_child_weight': 5, 'subsample': 0.783024301662623, 'colsample_bytree': 0.9831142879344118}. Best is trial 52 with value: 0.3507834123521626.\u001b[0m\n",
            "\u001b[32m[I 2023-01-29 10:43:14,733]\u001b[0m Trial 84 finished with value: 0.35641678781645814 and parameters: {'num_leaves': 14, 'learning_rate': 0.020431403871469495, 'n_estimators': 481, 'min_child_weight': 4, 'subsample': 0.7604172527668381, 'colsample_bytree': 0.9962131294284129}. Best is trial 52 with value: 0.3507834123521626.\u001b[0m\n",
            "\u001b[32m[I 2023-01-29 10:43:17,741]\u001b[0m Trial 83 finished with value: 0.3628197324539427 and parameters: {'num_leaves': 17, 'learning_rate': 0.01509610313012023, 'n_estimators': 471, 'min_child_weight': 4, 'subsample': 0.7503068788098377, 'colsample_bytree': 0.9985880404016517}. Best is trial 52 with value: 0.3507834123521626.\u001b[0m\n",
            "\u001b[32m[I 2023-01-29 10:43:56,054]\u001b[0m Trial 86 finished with value: 0.3575791555890723 and parameters: {'num_leaves': 11, 'learning_rate': 0.03376969747618619, 'n_estimators': 515, 'min_child_weight': 4, 'subsample': 0.7924614942945378, 'colsample_bytree': 0.9620080688541335}. Best is trial 52 with value: 0.3507834123521626.\u001b[0m\n",
            "\u001b[32m[I 2023-01-29 10:44:07,217]\u001b[0m Trial 85 finished with value: 0.3536218489264312 and parameters: {'num_leaves': 18, 'learning_rate': 0.03397731261475884, 'n_estimators': 525, 'min_child_weight': 4, 'subsample': 0.7498062623633621, 'colsample_bytree': 0.9684841132731417}. Best is trial 52 with value: 0.3507834123521626.\u001b[0m\n",
            "\u001b[32m[I 2023-01-29 10:45:07,339]\u001b[0m Trial 88 finished with value: 0.3537921081247092 and parameters: {'num_leaves': 21, 'learning_rate': 0.02428510125967097, 'n_estimators': 564, 'min_child_weight': 3, 'subsample': 0.8195313571087872, 'colsample_bytree': 0.9566374027873953}. Best is trial 52 with value: 0.3507834123521626.\u001b[0m\n",
            "\u001b[32m[I 2023-01-29 10:46:05,164]\u001b[0m Trial 89 finished with value: 0.35702054554232376 and parameters: {'num_leaves': 12, 'learning_rate': 0.010006852262172811, 'n_estimators': 722, 'min_child_weight': 3, 'subsample': 0.7652942678007832, 'colsample_bytree': 0.9240560641578164}. Best is trial 52 with value: 0.3507834123521626.\u001b[0m\n",
            "\u001b[32m[I 2023-01-29 10:46:33,156]\u001b[0m Trial 87 finished with value: 0.3677429471147964 and parameters: {'num_leaves': 89, 'learning_rate': 0.02411044437078192, 'n_estimators': 564, 'min_child_weight': 3, 'subsample': 0.8104681496101664, 'colsample_bytree': 0.9669313965525145}. Best is trial 52 with value: 0.3507834123521626.\u001b[0m\n",
            "\u001b[32m[I 2023-01-29 10:47:28,823]\u001b[0m Trial 91 finished with value: 0.35404696535232605 and parameters: {'num_leaves': 15, 'learning_rate': 0.029452529511951316, 'n_estimators': 607, 'min_child_weight': 4, 'subsample': 0.8321725460625896, 'colsample_bytree': 0.9872079211405289}. Best is trial 52 with value: 0.3507834123521626.\u001b[0m\n",
            "\u001b[32m[I 2023-01-29 10:47:32,249]\u001b[0m Trial 90 finished with value: 0.36228227996241513 and parameters: {'num_leaves': 30, 'learning_rate': 0.041650647960971246, 'n_estimators': 605, 'min_child_weight': 4, 'subsample': 0.810481258476572, 'colsample_bytree': 0.9749664938936199}. Best is trial 52 with value: 0.3507834123521626.\u001b[0m\n",
            "\u001b[32m[I 2023-01-29 10:48:11,981]\u001b[0m Trial 93 finished with value: 0.35177473565292017 and parameters: {'num_leaves': 18, 'learning_rate': 0.04582791686295011, 'n_estimators': 411, 'min_child_weight': 5, 'subsample': 0.7872781443671976, 'colsample_bytree': 0.9525158890645711}. Best is trial 52 with value: 0.3507834123521626.\u001b[0m\n",
            "\u001b[32m[I 2023-01-29 10:48:28,861]\u001b[0m Trial 92 finished with value: 0.3618453900666069 and parameters: {'num_leaves': 30, 'learning_rate': 0.03981804751813473, 'n_estimators': 446, 'min_child_weight': 6, 'subsample': 0.7801816219093539, 'colsample_bytree': 0.9489481104682367}. Best is trial 52 with value: 0.3507834123521626.\u001b[0m\n",
            "\u001b[32m[I 2023-01-29 10:48:51,821]\u001b[0m Trial 94 finished with value: 0.3545038767571078 and parameters: {'num_leaves': 19, 'learning_rate': 0.04794787879042639, 'n_estimators': 406, 'min_child_weight': 5, 'subsample': 0.7953611542143899, 'colsample_bytree': 0.8990429074265087}. Best is trial 52 with value: 0.3507834123521626.\u001b[0m\n",
            "\u001b[32m[I 2023-01-29 10:49:08,187]\u001b[0m Trial 95 finished with value: 0.3505385001290914 and parameters: {'num_leaves': 18, 'learning_rate': 0.04760875922391331, 'n_estimators': 405, 'min_child_weight': 5, 'subsample': 0.7980400086385043, 'colsample_bytree': 0.9019510700051276}. Best is trial 95 with value: 0.3505385001290914.\u001b[0m\n",
            "\u001b[32m[I 2023-01-29 10:49:59,863]\u001b[0m Trial 97 finished with value: 0.3585647678149255 and parameters: {'num_leaves': 26, 'learning_rate': 0.04641647603344158, 'n_estimators': 421, 'min_child_weight': 6, 'subsample': 0.788417701760439, 'colsample_bytree': 0.9298360095019075}. Best is trial 95 with value: 0.3505385001290914.\u001b[0m\n",
            "\u001b[32m[I 2023-01-29 10:50:05,631]\u001b[0m Trial 96 finished with value: 0.3600981155707198 and parameters: {'num_leaves': 22, 'learning_rate': 0.03634001990753977, 'n_estimators': 649, 'min_child_weight': 6, 'subsample': 0.7594852263863818, 'colsample_bytree': 0.9268270245086287}. Best is trial 95 with value: 0.3505385001290914.\u001b[0m\n",
            "\u001b[32m[I 2023-01-29 10:50:39,241]\u001b[0m Trial 99 finished with value: 0.35487915101197676 and parameters: {'num_leaves': 17, 'learning_rate': 0.04263518608066791, 'n_estimators': 360, 'min_child_weight': 5, 'subsample': 0.8290111241939624, 'colsample_bytree': 0.9104500786444951}. Best is trial 95 with value: 0.3505385001290914.\u001b[0m\n",
            "\u001b[32m[I 2023-01-29 10:50:43,774]\u001b[0m Trial 98 finished with value: 0.3577840155176665 and parameters: {'num_leaves': 22, 'learning_rate': 0.05183530280298833, 'n_estimators': 460, 'min_child_weight': 5, 'subsample': 0.8301776116094453, 'colsample_bytree': 0.8970557700551618}. Best is trial 95 with value: 0.3505385001290914.\u001b[0m\n"
          ]
        },
        {
          "output_type": "stream",
          "name": "stdout",
          "text": [
            "{'num_leaves': 18, 'learning_rate': 0.04760875922391331, 'n_estimators': 405, 'min_child_weight': 5, 'subsample': 0.7980400086385043, 'colsample_bytree': 0.9019510700051276}\n"
          ]
        }
      ]
    },
    {
      "cell_type": "markdown",
      "source": [
        "{'num_leaves': 11, 'learning_rate': 0.11226260952429802, 'n_estimators': 144, 'min_child_weight': 6, 'subsample': 0.9630753141870189, 'colsample_bytree': 0.5987133594396745}"
      ],
      "metadata": {
        "id": "1JFNM_AlT8fz"
      }
    },
    {
      "cell_type": "code",
      "source": [
        "params = {'num_leaves': 18, 'learning_rate': 0.04760875922391331, 'n_estimators': 405, 'min_child_weight': 5, 'subsample': 0.7980400086385043, 'colsample_bytree': 0.9019510700051276}"
      ],
      "metadata": {
        "id": "TNS_s4V7JxFd"
      },
      "execution_count": 28,
      "outputs": []
    },
    {
      "cell_type": "code",
      "source": [
        "dtc = LGBMClassifier(**params)\n",
        "dtc.fit(X_train, y_train)\n",
        "val_pred = dtc.predict(X_test)\n",
        "\n",
        "# Macro f1 score을 사용하기 위해 average 인자 값을 \"macro\" 로 설정해줍니다.\n",
        "print(\"현재 Macro F1 Score의 검증 점수는 {}입니다.\".format(f1_score(val_pred, y_test, average = \"macro\")))"
      ],
      "metadata": {
        "colab": {
          "base_uri": "https://localhost:8080/"
        },
        "id": "7GawJdp2VDJy",
        "outputId": "3a478475-aa64-486e-93e4-89b81bac992a"
      },
      "execution_count": 29,
      "outputs": [
        {
          "output_type": "stream",
          "name": "stdout",
          "text": [
            "현재 Macro F1 Score의 검증 점수는 0.6480161109492533입니다.\n"
          ]
        }
      ]
    },
    {
      "cell_type": "markdown",
      "source": [
        "random-search Best parameters: {'subsample': 0.6, 'num_leaves': 31, 'n_estimators': 50, 'min_samples_split': 10, 'min_samples_leaf': 4, 'max_depth': 10, 'learning_rate': 0.1, 'lambda ': 0.1} Best score: 0.6820638269831646"
      ],
      "metadata": {
        "id": "K5UlAo0cWe3c"
      }
    },
    {
      "cell_type": "markdown",
      "source": [
        "{'num_leaves': 29, 'learning_rate': 0.07482817047725152, 'max_depth': 3, 'n_estimators': 650, 'min_child_weight': 1, 'subsample': 0.9466836218824469, 'min_data_in_leaf': 105, 'colsample_bytree': 0.8561387391594382}"
      ],
      "metadata": {
        "id": "5yqe1qM5Ws89"
      }
    },
    {
      "cell_type": "code",
      "source": [
        "from optuna.integration import lightgbm as lgb"
      ],
      "metadata": {
        "id": "RUapecXbbamt"
      },
      "execution_count": 26,
      "outputs": []
    },
    {
      "cell_type": "code",
      "source": [
        "import optuna\n",
        "from sklearn.datasets import load_iris\n",
        "from sklearn.metrics import f1_score\n",
        "from sklearn.model_selection import train_test_split\n",
        "from lightgbm import LGBMClassifier\n",
        "\n",
        "\n",
        "def objective(trial):\n",
        "    params = {\n",
        "        'num_leaves': trial.suggest_int('num_leaves', 2, 128),\n",
        "        'min_samples_split': trial.suggest_uniform('min_samples_split', 0.01, 0.5),\n",
        "        'boosting_type': trial.suggest_categorical('boosting_type', ['gbdt', 'dart']),\n",
        "        'reg_alpha': trial.suggest_loguniform('reg_alpha', 1e-8, 1.0),\n",
        "        'min_child_weight': trial.suggest_loguniform('min_child_weight', 1e-5, 10.0),\n",
        "        'learning_rate': trial.suggest_loguniform('learning_rate', 1e-5, 1.0),\n",
        "        'max_depth': trial.suggest_int('max_depth', -1, 10),\n",
        "        'n_estimators': trial.suggest_int('n_estimators', 10, 1000),\n",
        "        'min_child_samples': trial.suggest_int('min_child_samples', 5, 100),\n",
        "        'subsample': trial.suggest_uniform('subsample', 0.01, 1.0),\n",
        "        'min_data_in_leaf': trial.suggest_int('min_data_in_leaf', 1, 20),\n",
        "        'colsample_bytree': trial.suggest_uniform('colsample_bytree', 0.01, 1.0),\n",
        "        'reg_lambda': trial.suggest_loguniform('reg_lambda', 1e-8, 1.0),\n",
        "        'min_split_gain': trial.suggest_loguniform('min_split_gain', 1e-8, 1.0),\n",
        "        'bagging_fraction': trial.suggest_uniform('bagging_fraction', 0.01, 1.0),\n",
        "        'feature_fraction': trial.suggest_uniform('feature_fraction', 0.4, 1.0),\n",
        "         'objective': 'multiclass',\n",
        "    }\n",
        "    model = LGBMClassifier(**params)\n",
        "    model.fit(X_train, y_train)\n",
        "    y_pred = model.predict(X_test)\n",
        "    return -1 * f1_score(y_test, y_pred, average='macro')\n",
        "\n",
        "study = optuna.create_study()\n",
        "study.optimize(objective, n_trials=100)\n",
        "\n",
        "print(\"Best trial:\")\n",
        "trial = study.best_trial\n",
        "print(\"Value: \", -1*trial.value)\n",
        "print(\"Params: \", trial.params)\n",
        "# Print the best hyperparameters\n",
        "print(study.best_params)"
      ],
      "metadata": {
        "id": "hHs9X1a5VShd",
        "colab": {
          "base_uri": "https://localhost:8080/"
        },
        "outputId": "cad6ab86-1016-4722-a36c-341a0cda2760"
      },
      "execution_count": 30,
      "outputs": [
        {
          "output_type": "stream",
          "name": "stderr",
          "text": [
            "\u001b[32m[I 2023-01-29 10:52:54,852]\u001b[0m A new study created in memory with name: no-name-dc85d5f8-3660-4d1f-83e2-ab6cc2948ed6\u001b[0m\n",
            "\u001b[32m[I 2023-01-29 10:52:59,831]\u001b[0m Trial 0 finished with value: -0.6408695155326837 and parameters: {'num_leaves': 78, 'min_samples_split': 0.24239090950065395, 'boosting_type': 'gbdt', 'reg_alpha': 0.00031533266249159086, 'min_child_weight': 0.00019851000482688503, 'learning_rate': 0.28508470521667045, 'max_depth': 3, 'n_estimators': 111, 'min_child_samples': 62, 'subsample': 0.6201236612341858, 'min_data_in_leaf': 11, 'colsample_bytree': 0.6500201991942889, 'reg_lambda': 3.491057859860046e-08, 'min_split_gain': 0.005163637406448774, 'bagging_fraction': 0.6807623557419571, 'feature_fraction': 0.9759812694819635}. Best is trial 0 with value: -0.6408695155326837.\u001b[0m\n",
            "\u001b[32m[I 2023-01-29 10:54:06,785]\u001b[0m Trial 1 finished with value: -0.5197437571857334 and parameters: {'num_leaves': 68, 'min_samples_split': 0.08387159939327168, 'boosting_type': 'gbdt', 'reg_alpha': 0.001953806415617467, 'min_child_weight': 0.00030272390226514755, 'learning_rate': 0.00037650058834520306, 'max_depth': 7, 'n_estimators': 910, 'min_child_samples': 38, 'subsample': 0.6511362338597071, 'min_data_in_leaf': 19, 'colsample_bytree': 0.49914772283424375, 'reg_lambda': 0.2890650259398555, 'min_split_gain': 0.31146685573845423, 'bagging_fraction': 0.7707761297757463, 'feature_fraction': 0.7828170913062329}. Best is trial 0 with value: -0.6408695155326837.\u001b[0m\n",
            "\u001b[32m[I 2023-01-29 10:58:20,029]\u001b[0m Trial 2 finished with value: -0.6210860088572894 and parameters: {'num_leaves': 100, 'min_samples_split': 0.350512693820093, 'boosting_type': 'dart', 'reg_alpha': 0.022128530825776965, 'min_child_weight': 8.638966919027569e-05, 'learning_rate': 0.004751001901364455, 'max_depth': 8, 'n_estimators': 540, 'min_child_samples': 67, 'subsample': 0.9800101799904164, 'min_data_in_leaf': 14, 'colsample_bytree': 0.3638506472911939, 'reg_lambda': 0.5736035801213182, 'min_split_gain': 4.374789206721148e-05, 'bagging_fraction': 0.8473392632985726, 'feature_fraction': 0.6797299813814042}. Best is trial 0 with value: -0.6408695155326837.\u001b[0m\n",
            "\u001b[32m[I 2023-01-29 10:59:54,832]\u001b[0m Trial 3 finished with value: -0.629198606024614 and parameters: {'num_leaves': 125, 'min_samples_split': 0.3985647350646711, 'boosting_type': 'gbdt', 'reg_alpha': 2.8420231528419428e-05, 'min_child_weight': 0.004847749546084661, 'learning_rate': 0.004568731273385427, 'max_depth': 0, 'n_estimators': 829, 'min_child_samples': 56, 'subsample': 0.5912704369143381, 'min_data_in_leaf': 5, 'colsample_bytree': 0.5803057024465644, 'reg_lambda': 0.7288576366600066, 'min_split_gain': 7.542346156566339e-05, 'bagging_fraction': 0.9041866673568462, 'feature_fraction': 0.5829709891934011}. Best is trial 0 with value: -0.6408695155326837.\u001b[0m\n",
            "\u001b[32m[I 2023-01-29 11:04:29,478]\u001b[0m Trial 4 finished with value: -0.6346740380471231 and parameters: {'num_leaves': 27, 'min_samples_split': 0.44706961624147123, 'boosting_type': 'dart', 'reg_alpha': 0.003074014812354137, 'min_child_weight': 0.0002562439686604681, 'learning_rate': 0.01629669574394257, 'max_depth': -1, 'n_estimators': 730, 'min_child_samples': 18, 'subsample': 0.9528286609626002, 'min_data_in_leaf': 10, 'colsample_bytree': 0.5924472682407739, 'reg_lambda': 0.001357131407105181, 'min_split_gain': 0.014800196902079371, 'bagging_fraction': 0.6167449716917042, 'feature_fraction': 0.568526901676708}. Best is trial 0 with value: -0.6408695155326837.\u001b[0m\n",
            "\u001b[32m[I 2023-01-29 11:04:56,586]\u001b[0m Trial 5 finished with value: -0.596200880700983 and parameters: {'num_leaves': 56, 'min_samples_split': 0.17802030125805138, 'boosting_type': 'dart', 'reg_alpha': 0.00011040805544224128, 'min_child_weight': 1.935331978793679e-05, 'learning_rate': 0.003921828752991802, 'max_depth': 10, 'n_estimators': 156, 'min_child_samples': 28, 'subsample': 0.6388251210593825, 'min_data_in_leaf': 18, 'colsample_bytree': 0.43036420348613647, 'reg_lambda': 0.31773111679104704, 'min_split_gain': 8.93187668334242e-05, 'bagging_fraction': 0.5749493449878569, 'feature_fraction': 0.9433833236568877}. Best is trial 0 with value: -0.6408695155326837.\u001b[0m\n",
            "\u001b[32m[I 2023-01-29 11:05:09,860]\u001b[0m Trial 6 finished with value: -0.6404103252431663 and parameters: {'num_leaves': 34, 'min_samples_split': 0.19956786072301716, 'boosting_type': 'gbdt', 'reg_alpha': 4.1328827335765416e-07, 'min_child_weight': 0.013470318064778474, 'learning_rate': 0.03236594056187285, 'max_depth': 4, 'n_estimators': 471, 'min_child_samples': 45, 'subsample': 0.17346660027935895, 'min_data_in_leaf': 16, 'colsample_bytree': 0.2555433016864825, 'reg_lambda': 5.216883792985749e-07, 'min_split_gain': 1.1635004145779372e-07, 'bagging_fraction': 0.46190033152453325, 'feature_fraction': 0.5488276885061804}. Best is trial 0 with value: -0.6408695155326837.\u001b[0m\n",
            "\u001b[32m[I 2023-01-29 11:10:09,037]\u001b[0m Trial 7 finished with value: -0.018650048179129203 and parameters: {'num_leaves': 100, 'min_samples_split': 0.19561014573349322, 'boosting_type': 'dart', 'reg_alpha': 0.004981673291799747, 'min_child_weight': 0.0026440647006575274, 'learning_rate': 7.960445522992444e-05, 'max_depth': 5, 'n_estimators': 701, 'min_child_samples': 35, 'subsample': 0.9998421082967945, 'min_data_in_leaf': 20, 'colsample_bytree': 0.8807918065377424, 'reg_lambda': 0.00031280362048895477, 'min_split_gain': 0.011802014383701803, 'bagging_fraction': 0.8767742205534624, 'feature_fraction': 0.4467621052641628}. Best is trial 0 with value: -0.6408695155326837.\u001b[0m\n",
            "\u001b[32m[I 2023-01-29 11:10:19,818]\u001b[0m Trial 8 finished with value: -0.6192694000663338 and parameters: {'num_leaves': 13, 'min_samples_split': 0.33024428216519064, 'boosting_type': 'gbdt', 'reg_alpha': 2.0490440005450205e-08, 'min_child_weight': 0.6072768364006083, 'learning_rate': 0.052786705928539575, 'max_depth': 1, 'n_estimators': 735, 'min_child_samples': 94, 'subsample': 0.631459242908387, 'min_data_in_leaf': 5, 'colsample_bytree': 0.7584661087288985, 'reg_lambda': 1.661762294880211e-05, 'min_split_gain': 2.218687548233497e-05, 'bagging_fraction': 0.9121021005315987, 'feature_fraction': 0.771644088502417}. Best is trial 0 with value: -0.6408695155326837.\u001b[0m\n",
            "\u001b[32m[I 2023-01-29 11:10:35,437]\u001b[0m Trial 9 finished with value: -0.586931029730922 and parameters: {'num_leaves': 47, 'min_samples_split': 0.13717452454366924, 'boosting_type': 'dart', 'reg_alpha': 0.0002762592555705177, 'min_child_weight': 0.004991285738520317, 'learning_rate': 0.18175824266911228, 'max_depth': 1, 'n_estimators': 279, 'min_child_samples': 36, 'subsample': 0.6922181693784143, 'min_data_in_leaf': 8, 'colsample_bytree': 0.3893244210573712, 'reg_lambda': 0.016588718731821765, 'min_split_gain': 1.921948856768724e-07, 'bagging_fraction': 0.07085196911996343, 'feature_fraction': 0.5632453995806811}. Best is trial 0 with value: -0.6408695155326837.\u001b[0m\n",
            "\u001b[32m[I 2023-01-29 11:10:36,921]\u001b[0m Trial 10 finished with value: -0.6422886290078493 and parameters: {'num_leaves': 84, 'min_samples_split': 0.02408373290445348, 'boosting_type': 'gbdt', 'reg_alpha': 0.4001147659082225, 'min_child_weight': 1.4794479086069638e-05, 'learning_rate': 0.45737273372877735, 'max_depth': 3, 'n_estimators': 64, 'min_child_samples': 80, 'subsample': 0.3720242076461644, 'min_data_in_leaf': 1, 'colsample_bytree': 0.040477070560258344, 'reg_lambda': 1.221032782234372e-08, 'min_split_gain': 0.7595869198026333, 'bagging_fraction': 0.42843922141910523, 'feature_fraction': 0.9873331469378532}. Best is trial 10 with value: -0.6422886290078493.\u001b[0m\n",
            "\u001b[32m[I 2023-01-29 11:10:37,967]\u001b[0m Trial 11 finished with value: -0.6277847270792859 and parameters: {'num_leaves': 83, 'min_samples_split': 0.017374939417051677, 'boosting_type': 'gbdt', 'reg_alpha': 0.7020695649886167, 'min_child_weight': 1.0481664822211604e-05, 'learning_rate': 0.9257698066795862, 'max_depth': 3, 'n_estimators': 44, 'min_child_samples': 80, 'subsample': 0.3732638542570762, 'min_data_in_leaf': 1, 'colsample_bytree': 0.014952677192927998, 'reg_lambda': 1.0053533715201418e-08, 'min_split_gain': 0.6261019221586166, 'bagging_fraction': 0.39513745366425446, 'feature_fraction': 0.9875868162429045}. Best is trial 10 with value: -0.6422886290078493.\u001b[0m\n",
            "\u001b[32m[I 2023-01-29 11:10:38,499]\u001b[0m Trial 12 finished with value: -0.6057813229181044 and parameters: {'num_leaves': 80, 'min_samples_split': 0.2689477017520139, 'boosting_type': 'gbdt', 'reg_alpha': 0.2104593318570547, 'min_child_weight': 1.1912095960016675e-05, 'learning_rate': 0.893430494479741, 'max_depth': 3, 'n_estimators': 13, 'min_child_samples': 73, 'subsample': 0.41166762942650076, 'min_data_in_leaf': 13, 'colsample_bytree': 0.025867134686945244, 'reg_lambda': 2.2840205922458433e-08, 'min_split_gain': 0.012924079954132535, 'bagging_fraction': 0.31786040233868074, 'feature_fraction': 0.9123795064561051}. Best is trial 10 with value: -0.6422886290078493.\u001b[0m\n",
            "\u001b[32m[I 2023-01-29 11:10:43,379]\u001b[0m Trial 13 finished with value: -0.6373052316024895 and parameters: {'num_leaves': 104, 'min_samples_split': 0.032207419363708766, 'boosting_type': 'gbdt', 'reg_alpha': 0.07306126319775014, 'min_child_weight': 0.00011327993312406754, 'learning_rate': 0.17655073948628586, 'max_depth': 6, 'n_estimators': 291, 'min_child_samples': 92, 'subsample': 0.03195683107554376, 'min_data_in_leaf': 2, 'colsample_bytree': 0.7202675763852375, 'reg_lambda': 5.370440812315284e-07, 'min_split_gain': 0.9020743792403206, 'bagging_fraction': 0.6662566542015614, 'feature_fraction': 0.8816942952606859}. Best is trial 10 with value: -0.6422886290078493.\u001b[0m\n",
            "\u001b[32m[I 2023-01-29 11:10:48,318]\u001b[0m Trial 14 finished with value: -0.6406295100958143 and parameters: {'num_leaves': 76, 'min_samples_split': 0.1033737984710692, 'boosting_type': 'gbdt', 'reg_alpha': 0.736973627567604, 'min_child_weight': 0.0006175250779328416, 'learning_rate': 0.1443379320293524, 'max_depth': 2, 'n_estimators': 243, 'min_child_samples': 61, 'subsample': 0.44644719376276726, 'min_data_in_leaf': 8, 'colsample_bytree': 0.9916222234685469, 'reg_lambda': 2.231547884155334e-07, 'min_split_gain': 0.0012814308575242435, 'bagging_fraction': 0.7290350230143732, 'feature_fraction': 0.9929621874876766}. Best is trial 10 with value: -0.6422886290078493.\u001b[0m\n",
            "\u001b[32m[I 2023-01-29 11:10:54,231]\u001b[0m Trial 15 finished with value: -0.02557277455393115 and parameters: {'num_leaves': 128, 'min_samples_split': 0.2651598860918042, 'boosting_type': 'gbdt', 'reg_alpha': 0.0367319241272122, 'min_child_weight': 4.96622056149063e-05, 'learning_rate': 0.8990993495478645, 'max_depth': 4, 'n_estimators': 431, 'min_child_samples': 79, 'subsample': 0.28197291631148746, 'min_data_in_leaf': 12, 'colsample_bytree': 0.19387630429899855, 'reg_lambda': 1.0079937250333136e-05, 'min_split_gain': 0.10022778016048287, 'bagging_fraction': 0.5291763502808257, 'feature_fraction': 0.8405579510357972}. Best is trial 10 with value: -0.6422886290078493.\u001b[0m\n",
            "\u001b[32m[I 2023-01-29 11:10:57,844]\u001b[0m Trial 16 finished with value: -0.016074831110341244 and parameters: {'num_leaves': 92, 'min_samples_split': 0.4897514742916398, 'boosting_type': 'gbdt', 'reg_alpha': 1.0299695672911168e-05, 'min_child_weight': 4.032305813194113e-05, 'learning_rate': 1.0838545899321746e-05, 'max_depth': 2, 'n_estimators': 167, 'min_child_samples': 7, 'subsample': 0.29248825290806935, 'min_data_in_leaf': 5, 'colsample_bytree': 0.18444479371614708, 'reg_lambda': 9.949541798794204e-08, 'min_split_gain': 0.001648503392203367, 'bagging_fraction': 0.28640335621347984, 'feature_fraction': 0.9211761894688786}. Best is trial 10 with value: -0.6422886290078493.\u001b[0m\n",
            "\u001b[32m[I 2023-01-29 11:11:03,156]\u001b[0m Trial 17 finished with value: -0.6235276186874521 and parameters: {'num_leaves': 60, 'min_samples_split': 0.09128960199201593, 'boosting_type': 'gbdt', 'reg_alpha': 0.0005825666773755663, 'min_child_weight': 0.0004615667188695275, 'learning_rate': 0.020808133400058996, 'max_depth': 5, 'n_estimators': 122, 'min_child_samples': 86, 'subsample': 0.5234357158642948, 'min_data_in_leaf': 9, 'colsample_bytree': 0.6430322929260172, 'reg_lambda': 2.824355423141718e-06, 'min_split_gain': 0.07749215201056144, 'bagging_fraction': 0.9797388807600442, 'feature_fraction': 0.8462563775442845}. Best is trial 10 with value: -0.6422886290078493.\u001b[0m\n",
            "\u001b[32m[I 2023-01-29 11:11:25,732]\u001b[0m Trial 18 finished with value: -0.6382011336248596 and parameters: {'num_leaves': 46, 'min_samples_split': 0.22692444330605704, 'boosting_type': 'gbdt', 'reg_alpha': 0.008239000547398853, 'min_child_weight': 4.616219823826955e-05, 'learning_rate': 0.15661469107321307, 'max_depth': -1, 'n_estimators': 383, 'min_child_samples': 100, 'subsample': 0.7923173430001808, 'min_data_in_leaf': 16, 'colsample_bytree': 0.5253394806939261, 'reg_lambda': 3.858566804542123e-08, 'min_split_gain': 0.0009711822987313087, 'bagging_fraction': 0.6484911841839295, 'feature_fraction': 0.9968894346313582}. Best is trial 10 with value: -0.6422886290078493.\u001b[0m\n",
            "\u001b[32m[I 2023-01-29 11:11:35,919]\u001b[0m Trial 19 finished with value: -0.6335501349005243 and parameters: {'num_leaves': 112, 'min_samples_split': 0.1459979857910439, 'boosting_type': 'gbdt', 'reg_alpha': 0.08124489614451073, 'min_child_weight': 0.0011791483389308455, 'learning_rate': 0.2989163374549703, 'max_depth': 8, 'n_estimators': 564, 'min_child_samples': 53, 'subsample': 0.51179460693017, 'min_data_in_leaf': 7, 'colsample_bytree': 0.2989224698873939, 'reg_lambda': 1.1397005260804987e-08, 'min_split_gain': 0.08167987052917532, 'bagging_fraction': 0.4798274427298768, 'feature_fraction': 0.9307838193184417}. Best is trial 10 with value: -0.6422886290078493.\u001b[0m\n",
            "\u001b[32m[I 2023-01-29 11:11:38,772]\u001b[0m Trial 20 finished with value: -0.6231216382021457 and parameters: {'num_leaves': 86, 'min_samples_split': 0.04259186838642268, 'boosting_type': 'gbdt', 'reg_alpha': 0.0008999123660034616, 'min_child_weight': 0.0218289777757096, 'learning_rate': 0.06050162403145838, 'max_depth': 3, 'n_estimators': 106, 'min_child_samples': 65, 'subsample': 0.7730209435396133, 'min_data_in_leaf': 3, 'colsample_bytree': 0.4551371099824246, 'reg_lambda': 1.3571100363773302e-06, 'min_split_gain': 5.171987579862235e-06, 'bagging_fraction': 0.7120270641534371, 'feature_fraction': 0.8705203373454256}. Best is trial 10 with value: -0.6422886290078493.\u001b[0m\n",
            "\u001b[32m[I 2023-01-29 11:11:44,230]\u001b[0m Trial 21 finished with value: -0.6470570962096006 and parameters: {'num_leaves': 70, 'min_samples_split': 0.0839216880388135, 'boosting_type': 'gbdt', 'reg_alpha': 0.9051978053496541, 'min_child_weight': 0.0008904689266428725, 'learning_rate': 0.36504359900672584, 'max_depth': 2, 'n_estimators': 267, 'min_child_samples': 60, 'subsample': 0.4468953150627721, 'min_data_in_leaf': 11, 'colsample_bytree': 0.9990885345942432, 'reg_lambda': 1.3618448280862286e-07, 'min_split_gain': 0.0013531145926669078, 'bagging_fraction': 0.7629655697157305, 'feature_fraction': 0.9977509425780741}. Best is trial 21 with value: -0.6470570962096006.\u001b[0m\n",
            "\u001b[32m[I 2023-01-29 11:11:47,592]\u001b[0m Trial 22 finished with value: -0.6339504901296286 and parameters: {'num_leaves': 67, 'min_samples_split': 0.012996221538434511, 'boosting_type': 'gbdt', 'reg_alpha': 0.984591828218672, 'min_child_weight': 0.0001393492596737487, 'learning_rate': 0.2881459958708097, 'max_depth': 1, 'n_estimators': 220, 'min_child_samples': 74, 'subsample': 0.4843712190187316, 'min_data_in_leaf': 11, 'colsample_bytree': 0.821494219154626, 'reg_lambda': 9.206431323087578e-08, 'min_split_gain': 0.0040588951202579285, 'bagging_fraction': 0.7759238315560987, 'feature_fraction': 0.99886822746264}. Best is trial 21 with value: -0.6470570962096006.\u001b[0m\n",
            "\u001b[32m[I 2023-01-29 11:11:54,919]\u001b[0m Trial 23 finished with value: -0.6394891805478962 and parameters: {'num_leaves': 72, 'min_samples_split': 0.06271535008379292, 'boosting_type': 'gbdt', 'reg_alpha': 0.017642004538524863, 'min_child_weight': 0.0012753084811903484, 'learning_rate': 0.3947022421238401, 'max_depth': 2, 'n_estimators': 371, 'min_child_samples': 49, 'subsample': 0.3700665076227812, 'min_data_in_leaf': 14, 'colsample_bytree': 0.987302854649178, 'reg_lambda': 7.065514375194849e-08, 'min_split_gain': 0.00108919607287588, 'bagging_fraction': 0.5862153973675586, 'feature_fraction': 0.9553647513561115}. Best is trial 21 with value: -0.6470570962096006.\u001b[0m\n",
            "\u001b[32m[I 2023-01-29 11:11:57,727]\u001b[0m Trial 24 finished with value: -0.6156517430216952 and parameters: {'num_leaves': 90, 'min_samples_split': 0.06682242078394152, 'boosting_type': 'gbdt', 'reg_alpha': 0.07688940820136034, 'min_child_weight': 0.00016701810806640503, 'learning_rate': 0.06864148932858014, 'max_depth': 4, 'n_estimators': 79, 'min_child_samples': 59, 'subsample': 0.5378625569496668, 'min_data_in_leaf': 11, 'colsample_bytree': 0.7246622978758307, 'reg_lambda': 2.0217766307719675e-07, 'min_split_gain': 0.0003262391236213495, 'bagging_fraction': 0.797482791804727, 'feature_fraction': 0.9047346140846062}. Best is trial 21 with value: -0.6470570962096006.\u001b[0m\n",
            "\u001b[32m[I 2023-01-29 11:12:05,041]\u001b[0m Trial 25 finished with value: -0.6236656332031038 and parameters: {'num_leaves': 55, 'min_samples_split': 0.12726652406936168, 'boosting_type': 'gbdt', 'reg_alpha': 0.2152825918465939, 'min_child_weight': 2.8611930832594527e-05, 'learning_rate': 0.49219621814691833, 'max_depth': 0, 'n_estimators': 313, 'min_child_samples': 71, 'subsample': 0.4476647778530277, 'min_data_in_leaf': 16, 'colsample_bytree': 0.6577142971793744, 'reg_lambda': 3.7845111288724704e-08, 'min_split_gain': 0.015806111217688677, 'bagging_fraction': 0.6517680972219362, 'feature_fraction': 0.9449173886513595}. Best is trial 21 with value: -0.6470570962096006.\u001b[0m\n",
            "\u001b[32m[I 2023-01-29 11:12:38,535]\u001b[0m Trial 26 finished with value: -0.637139433726485 and parameters: {'num_leaves': 116, 'min_samples_split': 0.10564958228730546, 'boosting_type': 'dart', 'reg_alpha': 0.008995114678810655, 'min_child_weight': 8.013674262648105e-05, 'learning_rate': 0.09286744654605802, 'max_depth': 6, 'n_estimators': 178, 'min_child_samples': 83, 'subsample': 0.5704659630950512, 'min_data_in_leaf': 7, 'colsample_bytree': 0.8800021128222479, 'reg_lambda': 1.4207153953139233e-08, 'min_split_gain': 0.00025594852097548685, 'bagging_fraction': 0.701066312668187, 'feature_fraction': 0.9612986083271854}. Best is trial 21 with value: -0.6470570962096006.\u001b[0m\n",
            "\u001b[32m[I 2023-01-29 11:12:39,079]\u001b[0m Trial 27 finished with value: -0.21844878987595187 and parameters: {'num_leaves': 75, 'min_samples_split': 0.0617143990662887, 'boosting_type': 'gbdt', 'reg_alpha': 0.2888277877175658, 'min_child_weight': 1.896486496910709e-05, 'learning_rate': 0.012657589583033835, 'max_depth': 3, 'n_estimators': 13, 'min_child_samples': 47, 'subsample': 0.30840015855108177, 'min_data_in_leaf': 10, 'colsample_bytree': 0.5458873357146764, 'reg_lambda': 3.4231255467467196e-07, 'min_split_gain': 0.15674142592790757, 'bagging_fraction': 0.5427147812749884, 'feature_fraction': 0.8826248074280009}. Best is trial 21 with value: -0.6470570962096006.\u001b[0m\n",
            "\u001b[32m[I 2023-01-29 11:12:41,140]\u001b[0m Trial 28 finished with value: -0.6398880606073795 and parameters: {'num_leaves': 94, 'min_samples_split': 0.1432594192540831, 'boosting_type': 'gbdt', 'reg_alpha': 0.026320942356398508, 'min_child_weight': 0.0006022402335442093, 'learning_rate': 0.46384083162849643, 'max_depth': 2, 'n_estimators': 104, 'min_child_samples': 66, 'subsample': 0.4839531673604004, 'min_data_in_leaf': 13, 'colsample_bytree': 0.6346407231693794, 'reg_lambda': 5.253648957716496e-08, 'min_split_gain': 0.05179754780112135, 'bagging_fraction': 0.9993562492289578, 'feature_fraction': 0.8364887156138597}. Best is trial 21 with value: -0.6470570962096006.\u001b[0m\n",
            "\u001b[32m[I 2023-01-29 11:12:49,854]\u001b[0m Trial 29 finished with value: -0.6480012900574986 and parameters: {'num_leaves': 65, 'min_samples_split': 0.08563635609905111, 'boosting_type': 'gbdt', 'reg_alpha': 0.0012713565940074203, 'min_child_weight': 0.00020844614779558406, 'learning_rate': 0.07581238628184819, 'max_depth': 6, 'n_estimators': 212, 'min_child_samples': 43, 'subsample': 0.5809196016579112, 'min_data_in_leaf': 4, 'colsample_bytree': 0.48271909118450296, 'reg_lambda': 2.2875049909373023e-06, 'min_split_gain': 0.34420216838931533, 'bagging_fraction': 0.7994807472836742, 'feature_fraction': 0.8111852256334591}. Best is trial 29 with value: -0.6480012900574986.\u001b[0m\n",
            "\u001b[32m[I 2023-01-29 11:12:57,245]\u001b[0m Trial 30 finished with value: -0.6430884850409229 and parameters: {'num_leaves': 35, 'min_samples_split': 0.0464861628899776, 'boosting_type': 'gbdt', 'reg_alpha': 0.0019080194963848219, 'min_child_weight': 0.00019528660735244741, 'learning_rate': 0.12376228803061796, 'max_depth': 6, 'n_estimators': 344, 'min_child_samples': 28, 'subsample': 0.3930533879543466, 'min_data_in_leaf': 3, 'colsample_bytree': 0.10353132283155136, 'reg_lambda': 1.5776636252565716e-06, 'min_split_gain': 0.38034196043348845, 'bagging_fraction': 0.811355728157124, 'feature_fraction': 0.7923484309616932}. Best is trial 29 with value: -0.6480012900574986.\u001b[0m\n",
            "\u001b[32m[I 2023-01-29 11:13:04,394]\u001b[0m Trial 31 finished with value: -0.650066580076449 and parameters: {'num_leaves': 5, 'min_samples_split': 0.011189410670449318, 'boosting_type': 'gbdt', 'reg_alpha': 0.00168712723009559, 'min_child_weight': 0.00017978935280144932, 'learning_rate': 0.09040799907604204, 'max_depth': 6, 'n_estimators': 336, 'min_child_samples': 24, 'subsample': 0.3860328607259264, 'min_data_in_leaf': 3, 'colsample_bytree': 0.0976962938506161, 'reg_lambda': 2.368358998446673e-06, 'min_split_gain': 0.9371654461075724, 'bagging_fraction': 0.8244404724957665, 'feature_fraction': 0.8027705827789976}. Best is trial 31 with value: -0.650066580076449.\u001b[0m\n",
            "\u001b[32m[I 2023-01-29 11:13:11,654]\u001b[0m Trial 32 finished with value: -0.6321934754969579 and parameters: {'num_leaves': 4, 'min_samples_split': 0.06370899836258156, 'boosting_type': 'gbdt', 'reg_alpha': 0.0014857790403911542, 'min_child_weight': 0.00019897604531785403, 'learning_rate': 0.04022983860732646, 'max_depth': 7, 'n_estimators': 349, 'min_child_samples': 23, 'subsample': 0.4471575510345158, 'min_data_in_leaf': 3, 'colsample_bytree': 0.08293020894478054, 'reg_lambda': 2.952517116698876e-06, 'min_split_gain': 0.4539877475401134, 'bagging_fraction': 0.8051983443318541, 'feature_fraction': 0.7899392186239224}. Best is trial 31 with value: -0.650066580076449.\u001b[0m\n",
            "\u001b[32m[I 2023-01-29 11:13:22,351]\u001b[0m Trial 33 finished with value: -0.6409131393027594 and parameters: {'num_leaves': 21, 'min_samples_split': 0.0417859578001968, 'boosting_type': 'gbdt', 'reg_alpha': 0.0015872953723397797, 'min_child_weight': 0.00035846715591376135, 'learning_rate': 0.0928116276293341, 'max_depth': 6, 'n_estimators': 447, 'min_child_samples': 17, 'subsample': 0.5615248168421672, 'min_data_in_leaf': 4, 'colsample_bytree': 0.135788563507651, 'reg_lambda': 1.2345302698097142e-05, 'min_split_gain': 0.24937498674957606, 'bagging_fraction': 0.8313350087437341, 'feature_fraction': 0.7202056935679768}. Best is trial 31 with value: -0.650066580076449.\u001b[0m\n",
            "\u001b[32m[I 2023-01-29 11:13:53,217]\u001b[0m Trial 34 finished with value: -0.6337646696425664 and parameters: {'num_leaves': 41, 'min_samples_split': 0.08889705324931016, 'boosting_type': 'gbdt', 'reg_alpha': 0.003281003858751406, 'min_child_weight': 9.091134957111557e-05, 'learning_rate': 0.009661712057171064, 'max_depth': 7, 'n_estimators': 535, 'min_child_samples': 42, 'subsample': 0.24863312182696223, 'min_data_in_leaf': 6, 'colsample_bytree': 0.28040512461543665, 'reg_lambda': 1.6201153667176394e-06, 'min_split_gain': 0.03309523402254401, 'bagging_fraction': 0.7538609145063094, 'feature_fraction': 0.8074294493546998}. Best is trial 31 with value: -0.650066580076449.\u001b[0m\n",
            "\u001b[32m[I 2023-01-29 11:14:09,712]\u001b[0m Trial 35 finished with value: -0.6430558334545589 and parameters: {'num_leaves': 8, 'min_samples_split': 0.012504775752006508, 'boosting_type': 'gbdt', 'reg_alpha': 0.000618616988960288, 'min_child_weight': 0.00023643001224952912, 'learning_rate': 0.03644232100914518, 'max_depth': 9, 'n_estimators': 627, 'min_child_samples': 33, 'subsample': 0.35271317367859495, 'min_data_in_leaf': 3, 'colsample_bytree': 0.33025499882519094, 'reg_lambda': 5.944173705333743e-05, 'min_split_gain': 0.3112561534095719, 'bagging_fraction': 0.842944122444583, 'feature_fraction': 0.752439800543714}. Best is trial 31 with value: -0.650066580076449.\u001b[0m\n",
            "\u001b[32m[I 2023-01-29 11:14:43,221]\u001b[0m Trial 36 finished with value: -0.5434262300361996 and parameters: {'num_leaves': 26, 'min_samples_split': 0.1068037585864998, 'boosting_type': 'dart', 'reg_alpha': 0.00018515488164662334, 'min_child_weight': 0.001019769364431292, 'learning_rate': 0.0016475850497236978, 'max_depth': 8, 'n_estimators': 222, 'min_child_samples': 28, 'subsample': 0.5934658061065545, 'min_data_in_leaf': 4, 'colsample_bytree': 0.3644026927040247, 'reg_lambda': 1.2375421300290453e-06, 'min_split_gain': 0.24903978008237523, 'bagging_fraction': 0.9332314022923957, 'feature_fraction': 0.735153631049806}. Best is trial 31 with value: -0.650066580076449.\u001b[0m\n",
            "\u001b[32m[I 2023-01-29 11:14:49,784]\u001b[0m Trial 37 finished with value: -0.6475985898950454 and parameters: {'num_leaves': 15, 'min_samples_split': 0.05347775408289606, 'boosting_type': 'gbdt', 'reg_alpha': 6.647208516705063e-05, 'min_child_weight': 0.0002989969124232426, 'learning_rate': 0.1056799243207686, 'max_depth': 5, 'n_estimators': 416, 'min_child_samples': 10, 'subsample': 0.48155496417344756, 'min_data_in_leaf': 1, 'colsample_bytree': 0.22995681877133767, 'reg_lambda': 5.573955746871232e-06, 'min_split_gain': 0.9654203869899955, 'bagging_fraction': 0.8919879495586486, 'feature_fraction': 0.6995210144070355}. Best is trial 31 with value: -0.650066580076449.\u001b[0m\n",
            "\u001b[32m[I 2023-01-29 11:20:40,736]\u001b[0m Trial 38 finished with value: -0.6400455381540796 and parameters: {'num_leaves': 13, 'min_samples_split': 0.07369960734205556, 'boosting_type': 'dart', 'reg_alpha': 5.016203633300633e-05, 'min_child_weight': 0.0026778685452439046, 'learning_rate': 0.02981024167928621, 'max_depth': 5, 'n_estimators': 927, 'min_child_samples': 5, 'subsample': 0.4869178756133709, 'min_data_in_leaf': 1, 'colsample_bytree': 0.46377662862334657, 'reg_lambda': 5.203588373231845e-06, 'min_split_gain': 0.923526288113496, 'bagging_fraction': 0.8787500652383654, 'feature_fraction': 0.6844521082512676}. Best is trial 31 with value: -0.650066580076449.\u001b[0m\n",
            "\u001b[32m[I 2023-01-29 11:20:54,254]\u001b[0m Trial 39 finished with value: -0.6432425457850274 and parameters: {'num_leaves': 21, 'min_samples_split': 0.1724028743723226, 'boosting_type': 'gbdt', 'reg_alpha': 4.395055629941367e-05, 'min_child_weight': 0.0003922747942787095, 'learning_rate': 0.07472568746159143, 'max_depth': 5, 'n_estimators': 398, 'min_child_samples': 12, 'subsample': 0.6611104747549538, 'min_data_in_leaf': 2, 'colsample_bytree': 0.2282187288680001, 'reg_lambda': 3.6049960023289035e-05, 'min_split_gain': 0.03792295843459263, 'bagging_fraction': 0.7578254570562551, 'feature_fraction': 0.6887683284789476}. Best is trial 31 with value: -0.650066580076449.\u001b[0m\n",
            "\u001b[32m[I 2023-01-29 11:23:45,954]\u001b[0m Trial 40 finished with value: -0.643249977892839 and parameters: {'num_leaves': 3, 'min_samples_split': 0.12431801658156966, 'boosting_type': 'dart', 'reg_alpha': 1.2068643962054435e-05, 'min_child_weight': 7.690054887298793e-05, 'learning_rate': 0.2205514615549571, 'max_depth': 7, 'n_estimators': 987, 'min_child_samples': 16, 'subsample': 0.5841911005013225, 'min_data_in_leaf': 6, 'colsample_bytree': 0.4082558805827381, 'reg_lambda': 0.00017891274547480025, 'min_split_gain': 0.12843064050107056, 'bagging_fraction': 0.9419664049606442, 'feature_fraction': 0.625107236775895}. Best is trial 31 with value: -0.650066580076449.\u001b[0m\n",
            "\u001b[32m[I 2023-01-29 11:28:06,648]\u001b[0m Trial 41 finished with value: -0.6383763144907921 and parameters: {'num_leaves': 12, 'min_samples_split': 0.07935167410110328, 'boosting_type': 'dart', 'reg_alpha': 1.2197536247988678e-05, 'min_child_weight': 0.00010976795774607648, 'learning_rate': 0.21669665840987754, 'max_depth': 7, 'n_estimators': 812, 'min_child_samples': 17, 'subsample': 0.5968184056168699, 'min_data_in_leaf': 4, 'colsample_bytree': 0.4103595077050157, 'reg_lambda': 2.5135358711647272e-05, 'min_split_gain': 0.1656010797704116, 'bagging_fraction': 0.9392037957990015, 'feature_fraction': 0.6420481146467627}. Best is trial 31 with value: -0.650066580076449.\u001b[0m\n",
            "\u001b[32m[I 2023-01-29 11:30:19,755]\u001b[0m Trial 42 finished with value: -0.6464563852500901 and parameters: {'num_leaves': 18, 'min_samples_split': 0.11349868573554081, 'boosting_type': 'dart', 'reg_alpha': 0.00011923856490590812, 'min_child_weight': 7.208569074773876e-05, 'learning_rate': 0.10617454385084721, 'max_depth': 7, 'n_estimators': 495, 'min_child_samples': 12, 'subsample': 0.5300783663963058, 'min_data_in_leaf': 6, 'colsample_bytree': 0.5007614910622756, 'reg_lambda': 6.8945801893264245e-06, 'min_split_gain': 0.15249449343427943, 'bagging_fraction': 0.9168675625089933, 'feature_fraction': 0.6539105875424716}. Best is trial 31 with value: -0.650066580076449.\u001b[0m\n",
            "\u001b[32m[I 2023-01-29 11:32:44,449]\u001b[0m Trial 43 finished with value: -0.6478957582572612 and parameters: {'num_leaves': 21, 'min_samples_split': 0.04936178074366712, 'boosting_type': 'dart', 'reg_alpha': 0.000109277545299793, 'min_child_weight': 3.203989065433192e-05, 'learning_rate': 0.10458663937901477, 'max_depth': 8, 'n_estimators': 516, 'min_child_samples': 11, 'subsample': 0.535344657931377, 'min_data_in_leaf': 2, 'colsample_bytree': 0.5018869375016485, 'reg_lambda': 5.407372009265132e-06, 'min_split_gain': 0.3733977413452115, 'bagging_fraction': 0.8695760288881415, 'feature_fraction': 0.7294152069650007}. Best is trial 31 with value: -0.650066580076449.\u001b[0m\n",
            "\u001b[32m[I 2023-01-29 11:36:49,358]\u001b[0m Trial 44 finished with value: -0.6409259131387802 and parameters: {'num_leaves': 28, 'min_samples_split': 0.044725402206438, 'boosting_type': 'dart', 'reg_alpha': 0.0004035163309403474, 'min_child_weight': 2.617926696972328e-05, 'learning_rate': 0.05141177592427924, 'max_depth': 10, 'n_estimators': 653, 'min_child_samples': 22, 'subsample': 0.4425335658985549, 'min_data_in_leaf': 2, 'colsample_bytree': 0.5754092617143907, 'reg_lambda': 4.557389568197389e-06, 'min_split_gain': 0.8972195362652098, 'bagging_fraction': 0.8647934227155791, 'feature_fraction': 0.7635411659340553}. Best is trial 31 with value: -0.650066580076449.\u001b[0m\n",
            "\u001b[32m[I 2023-01-29 11:40:43,932]\u001b[0m Trial 45 finished with value: -0.6347586706401497 and parameters: {'num_leaves': 62, 'min_samples_split': 0.03184411448921487, 'boosting_type': 'dart', 'reg_alpha': 0.0002238363908947038, 'min_child_weight': 0.00027922638107362707, 'learning_rate': 0.02499440176668705, 'max_depth': 8, 'n_estimators': 569, 'min_child_samples': 9, 'subsample': 0.6391018704801779, 'min_data_in_leaf': 1, 'colsample_bytree': 0.4714286048573263, 'reg_lambda': 5.669974321082698e-07, 'min_split_gain': 0.03371599615083387, 'bagging_fraction': 0.8912011303208047, 'feature_fraction': 0.7258214858667871}. Best is trial 31 with value: -0.650066580076449.\u001b[0m\n",
            "\u001b[32m[I 2023-01-29 11:41:47,951]\u001b[0m Trial 46 finished with value: -0.6349453667301377 and parameters: {'num_leaves': 51, 'min_samples_split': 0.09035703700614113, 'boosting_type': 'dart', 'reg_alpha': 9.782345254031994e-05, 'min_child_weight': 3.171294661219098e-05, 'learning_rate': 0.1256980612048445, 'max_depth': 9, 'n_estimators': 261, 'min_child_samples': 41, 'subsample': 0.40943139969798964, 'min_data_in_leaf': 2, 'colsample_bytree': 0.33457988493949015, 'reg_lambda': 2.3487599451422468e-05, 'min_split_gain': 0.4310936117014082, 'bagging_fraction': 0.8479379383271247, 'feature_fraction': 0.7127933268012256}. Best is trial 31 with value: -0.650066580076449.\u001b[0m\n",
            "\u001b[32m[I 2023-01-29 11:42:04,698]\u001b[0m Trial 47 finished with value: -0.6297237363204568 and parameters: {'num_leaves': 35, 'min_samples_split': 0.012286284955738233, 'boosting_type': 'gbdt', 'reg_alpha': 0.004762559302713924, 'min_child_weight': 0.0007059568762847093, 'learning_rate': 0.008695782425767287, 'max_depth': 6, 'n_estimators': 316, 'min_child_samples': 23, 'subsample': 0.49360898856147906, 'min_data_in_leaf': 9, 'colsample_bytree': 0.5395363893699399, 'reg_lambda': 7.371472614453916e-06, 'min_split_gain': 0.009661667143627414, 'bagging_fraction': 0.7588611803446407, 'feature_fraction': 0.8129734889196415}. Best is trial 31 with value: -0.650066580076449.\u001b[0m\n",
            "\u001b[32m[I 2023-01-29 11:42:16,456]\u001b[0m Trial 48 finished with value: -0.6441368208142866 and parameters: {'num_leaves': 9, 'min_samples_split': 0.05775425688867215, 'boosting_type': 'gbdt', 'reg_alpha': 0.00034456703760876945, 'min_child_weight': 5.2573059362597506e-05, 'learning_rate': 0.043193615458096385, 'max_depth': 4, 'n_estimators': 433, 'min_child_samples': 31, 'subsample': 0.3267306998454207, 'min_data_in_leaf': 4, 'colsample_bytree': 0.4368642674187925, 'reg_lambda': 7.713324926112425e-07, 'min_split_gain': 0.27288466861039923, 'bagging_fraction': 0.8208586102405276, 'feature_fraction': 0.7516093089959374}. Best is trial 31 with value: -0.650066580076449.\u001b[0m\n",
            "\u001b[32m[I 2023-01-29 11:42:34,791]\u001b[0m Trial 49 finished with value: -0.6388430613503393 and parameters: {'num_leaves': 41, 'min_samples_split': 0.03189758411203431, 'boosting_type': 'gbdt', 'reg_alpha': 0.0009939641848692089, 'min_child_weight': 1.8117501730667253e-05, 'learning_rate': 0.02184073940958212, 'max_depth': 6, 'n_estimators': 499, 'min_child_samples': 54, 'subsample': 0.5406782857584856, 'min_data_in_leaf': 1, 'colsample_bytree': 0.5922694490897547, 'reg_lambda': 1.7482377642287176e-07, 'min_split_gain': 0.8281772465763227, 'bagging_fraction': 0.729711272573693, 'feature_fraction': 0.7725437222667274}. Best is trial 31 with value: -0.650066580076449.\u001b[0m\n",
            "\u001b[32m[I 2023-01-29 11:43:10,048]\u001b[0m Trial 50 finished with value: -0.0741644515026252 and parameters: {'num_leaves': 28, 'min_samples_split': 0.09667347688506077, 'boosting_type': 'dart', 'reg_alpha': 4.609210519560185e-06, 'min_child_weight': 0.00033535070811325065, 'learning_rate': 0.5334687303461829, 'max_depth': 9, 'n_estimators': 193, 'min_child_samples': 12, 'subsample': 0.40191491956614495, 'min_data_in_leaf': 5, 'colsample_bytree': 0.24473395195915643, 'reg_lambda': 3.4885503795662238e-06, 'min_split_gain': 0.054349183996203775, 'bagging_fraction': 0.8763807628416725, 'feature_fraction': 0.7393959842601441}. Best is trial 31 with value: -0.650066580076449.\u001b[0m\n",
            "\u001b[32m[I 2023-01-29 11:45:31,891]\u001b[0m Trial 51 finished with value: -0.6495612747052288 and parameters: {'num_leaves': 21, 'min_samples_split': 0.07838449915208635, 'boosting_type': 'dart', 'reg_alpha': 0.00010159927587255425, 'min_child_weight': 5.842744720537601e-05, 'learning_rate': 0.1107179245453092, 'max_depth': 5, 'n_estimators': 486, 'min_child_samples': 12, 'subsample': 0.5383347571690971, 'min_data_in_leaf': 6, 'colsample_bytree': 0.36951321796942854, 'reg_lambda': 9.512071883483974e-06, 'min_split_gain': 0.15508268539344794, 'bagging_fraction': 0.967189595437671, 'feature_fraction': 0.7054065196429488}. Best is trial 31 with value: -0.650066580076449.\u001b[0m\n",
            "\u001b[32m[I 2023-01-29 11:47:06,271]\u001b[0m Trial 52 finished with value: -0.6469232639207046 and parameters: {'num_leaves': 17, 'min_samples_split': 0.08368289995469508, 'boosting_type': 'dart', 'reg_alpha': 5.921134267762082e-05, 'min_child_weight': 0.0001579926026808852, 'learning_rate': 0.20251957171113055, 'max_depth': 5, 'n_estimators': 416, 'min_child_samples': 10, 'subsample': 0.458904670050619, 'min_data_in_leaf': 2, 'colsample_bytree': 0.5028377870161321, 'reg_lambda': 1.1970007645137064e-05, 'min_split_gain': 0.44896107566125376, 'bagging_fraction': 0.9676005142555624, 'feature_fraction': 0.7167321620875369}. Best is trial 31 with value: -0.650066580076449.\u001b[0m\n",
            "\u001b[32m[I 2023-01-29 11:48:32,553]\u001b[0m Trial 53 finished with value: -0.6377362664165668 and parameters: {'num_leaves': 8, 'min_samples_split': 0.04985502369690433, 'boosting_type': 'dart', 'reg_alpha': 0.00017333011958917252, 'min_child_weight': 4.947854092831859e-05, 'learning_rate': 0.0695068442258778, 'max_depth': 4, 'n_estimators': 460, 'min_child_samples': 20, 'subsample': 0.6149171364431726, 'min_data_in_leaf': 5, 'colsample_bytree': 0.3875184424987595, 'reg_lambda': 9.619072438737289e-05, 'min_split_gain': 0.09093265738063658, 'bagging_fraction': 0.9055365562196935, 'feature_fraction': 0.702535747419929}. Best is trial 31 with value: -0.650066580076449.\u001b[0m\n",
            "\u001b[32m[I 2023-01-29 11:51:46,539]\u001b[0m Trial 54 finished with value: -0.6375509127885162 and parameters: {'num_leaves': 23, 'min_samples_split': 0.029176434269770284, 'boosting_type': 'dart', 'reg_alpha': 0.0005074155374083078, 'min_child_weight': 0.0001088379204307422, 'learning_rate': 0.30334014539190285, 'max_depth': 5, 'n_estimators': 614, 'min_child_samples': 15, 'subsample': 0.5451810219593777, 'min_data_in_leaf': 3, 'colsample_bytree': 0.3533489220729144, 'reg_lambda': 7.19578041176023e-07, 'min_split_gain': 0.1770303122269941, 'bagging_fraction': 0.9568281949498035, 'feature_fraction': 0.7769032443188724}. Best is trial 31 with value: -0.650066580076449.\u001b[0m\n",
            "\u001b[32m[I 2023-01-29 11:51:56,904]\u001b[0m Trial 55 finished with value: -0.6356548537362554 and parameters: {'num_leaves': 31, 'min_samples_split': 0.07896540256970067, 'boosting_type': 'gbdt', 'reg_alpha': 2.8600306098496008e-05, 'min_child_weight': 1.4574137183534118e-05, 'learning_rate': 0.16286276506158198, 'max_depth': 5, 'n_estimators': 284, 'min_child_samples': 5, 'subsample': 0.5125956614050673, 'min_data_in_leaf': 8, 'colsample_bytree': 0.2948301225396498, 'reg_lambda': 2.533585350511809e-06, 'min_split_gain': 0.024398250244479287, 'bagging_fraction': 0.9951477305924008, 'feature_fraction': 0.6695683734201615}. Best is trial 31 with value: -0.650066580076449.\u001b[0m\n",
            "\u001b[32m[I 2023-01-29 11:52:40,157]\u001b[0m Trial 56 finished with value: -0.6307538305305858 and parameters: {'num_leaves': 2, 'min_samples_split': 0.15733083896900468, 'boosting_type': 'dart', 'reg_alpha': 0.0025531604443536585, 'min_child_weight': 1.072899422793998e-05, 'learning_rate': 0.7261897428169555, 'max_depth': 4, 'n_estimators': 526, 'min_child_samples': 57, 'subsample': 0.4149675312346082, 'min_data_in_leaf': 12, 'colsample_bytree': 0.19133565527234409, 'reg_lambda': 1.4612645786382159e-05, 'min_split_gain': 0.07871484551433858, 'bagging_fraction': 0.8491465786632377, 'feature_fraction': 0.9683935467992306}. Best is trial 31 with value: -0.650066580076449.\u001b[0m\n",
            "\u001b[32m[I 2023-01-29 11:52:44,524]\u001b[0m Trial 57 finished with value: -0.6314017251854545 and parameters: {'num_leaves': 71, 'min_samples_split': 0.12756876922583832, 'boosting_type': 'gbdt', 'reg_alpha': 0.011091391128387647, 'min_child_weight': 2.6796705352584113e-05, 'learning_rate': 0.328241258765052, 'max_depth': 6, 'n_estimators': 330, 'min_child_samples': 37, 'subsample': 0.6709061772397173, 'min_data_in_leaf': 2, 'colsample_bytree': 0.4307432408707699, 'reg_lambda': 2.9505477859174696e-07, 'min_split_gain': 0.9851930521726482, 'bagging_fraction': 0.9017267096910149, 'feature_fraction': 0.697495933857168}. Best is trial 31 with value: -0.650066580076449.\u001b[0m\n",
            "\u001b[32m[I 2023-01-29 11:52:58,620]\u001b[0m Trial 58 finished with value: -0.6434656665641082 and parameters: {'num_leaves': 16, 'min_samples_split': 0.028217909959230916, 'boosting_type': 'gbdt', 'reg_alpha': 0.0008155680057374295, 'min_child_weight': 0.00025762400727550005, 'learning_rate': 0.09988720549396826, 'max_depth': 8, 'n_estimators': 372, 'min_child_samples': 24, 'subsample': 0.5585517751476102, 'min_data_in_leaf': 4, 'colsample_bytree': 0.15475439686020265, 'reg_lambda': 3.876080540030252e-05, 'min_split_gain': 0.0044912578178421605, 'bagging_fraction': 0.6865799685270065, 'feature_fraction': 0.8173744637039807}. Best is trial 31 with value: -0.650066580076449.\u001b[0m\n",
            "\u001b[32m[I 2023-01-29 11:53:10,254]\u001b[0m Trial 59 finished with value: -0.6413435153425373 and parameters: {'num_leaves': 39, 'min_samples_split': 0.11247946446137808, 'boosting_type': 'gbdt', 'reg_alpha': 0.038552649625042755, 'min_child_weight': 5.5519253261630554e-05, 'learning_rate': 0.05984679810603895, 'max_depth': 0, 'n_estimators': 470, 'min_child_samples': 27, 'subsample': 0.6190205820650996, 'min_data_in_leaf': 7, 'colsample_bytree': 0.4731913012337441, 'reg_lambda': 5.529116388350824e-06, 'min_split_gain': 0.4938742250636351, 'bagging_fraction': 0.8025882591530829, 'feature_fraction': 0.747067369428571}. Best is trial 31 with value: -0.650066580076449.\u001b[0m\n",
            "\u001b[32m[I 2023-01-29 11:56:35,439]\u001b[0m Trial 60 finished with value: -0.645607525573488 and parameters: {'num_leaves': 62, 'min_samples_split': 0.0686075353716997, 'boosting_type': 'dart', 'reg_alpha': 0.0050526284706484985, 'min_child_weight': 0.00015056008037696859, 'learning_rate': 0.25168879894974955, 'max_depth': 5, 'n_estimators': 568, 'min_child_samples': 50, 'subsample': 0.4717580017625197, 'min_data_in_leaf': 9, 'colsample_bytree': 0.2670280341982341, 'reg_lambda': 9.678945988859331e-07, 'min_split_gain': 0.01910712885088237, 'bagging_fraction': 0.9596884488852632, 'feature_fraction': 0.8688285909886523}. Best is trial 31 with value: -0.650066580076449.\u001b[0m\n",
            "\u001b[32m[I 2023-01-29 11:58:05,165]\u001b[0m Trial 61 finished with value: -0.6422854992084168 and parameters: {'num_leaves': 17, 'min_samples_split': 0.08256159393152723, 'boosting_type': 'dart', 'reg_alpha': 9.796512191873908e-05, 'min_child_weight': 0.00014080208609441904, 'learning_rate': 0.16172559820123636, 'max_depth': 5, 'n_estimators': 393, 'min_child_samples': 9, 'subsample': 0.45156639709213175, 'min_data_in_leaf': 2, 'colsample_bytree': 0.5496610785392003, 'reg_lambda': 1.1457292423254601e-05, 'min_split_gain': 0.39885212173591844, 'bagging_fraction': 0.9714288881933457, 'feature_fraction': 0.719871584453568}. Best is trial 31 with value: -0.650066580076449.\u001b[0m\n",
            "\u001b[32m[I 2023-01-29 11:59:38,610]\u001b[0m Trial 62 finished with value: -0.6414905573377503 and parameters: {'num_leaves': 14, 'min_samples_split': 0.05484375338076987, 'boosting_type': 'dart', 'reg_alpha': 0.00036305511350541154, 'min_child_weight': 3.7525594159243355e-05, 'learning_rate': 0.1771147953238711, 'max_depth': 6, 'n_estimators': 415, 'min_child_samples': 9, 'subsample': 0.5139438343548032, 'min_data_in_leaf': 1, 'colsample_bytree': 0.49631687932540114, 'reg_lambda': 2.3781231329314535e-06, 'min_split_gain': 0.5655229463221378, 'bagging_fraction': 0.9142578251642955, 'feature_fraction': 0.703173944483343}. Best is trial 31 with value: -0.650066580076449.\u001b[0m\n",
            "\u001b[32m[I 2023-01-29 11:59:53,030]\u001b[0m Trial 63 finished with value: -0.6102025425399558 and parameters: {'num_leaves': 22, 'min_samples_split': 0.09784453880993206, 'boosting_type': 'dart', 'reg_alpha': 5.288645870217411e-05, 'min_child_weight': 0.00047229589364385365, 'learning_rate': 0.5824217777161254, 'max_depth': 4, 'n_estimators': 137, 'min_child_samples': 13, 'subsample': 0.3501734674397981, 'min_data_in_leaf': 3, 'colsample_bytree': 0.49976866378561063, 'reg_lambda': 1.701710217807833e-05, 'min_split_gain': 0.22811510151137832, 'bagging_fraction': 0.8776427684242238, 'feature_fraction': 0.7623650394767951}. Best is trial 31 with value: -0.650066580076449.\u001b[0m\n",
            "\u001b[32m[I 2023-01-29 12:00:16,368]\u001b[0m Trial 64 finished with value: -0.644303582773887 and parameters: {'num_leaves': 6, 'min_samples_split': 0.07569100465458761, 'boosting_type': 'dart', 'reg_alpha': 0.43791219087505273, 'min_child_weight': 0.0002027307327520521, 'learning_rate': 0.38940417790801884, 'max_depth': 3, 'n_estimators': 223, 'min_child_samples': 20, 'subsample': 0.4280145980057486, 'min_data_in_leaf': 5, 'colsample_bytree': 0.3905471534967295, 'reg_lambda': 8.605258649536067e-06, 'min_split_gain': 0.09261634086784186, 'bagging_fraction': 0.953661499985992, 'feature_fraction': 0.7869221154440729}. Best is trial 31 with value: -0.650066580076449.\u001b[0m\n",
            "\u001b[32m[I 2023-01-29 12:00:21,631]\u001b[0m Trial 65 finished with value: -0.6428647664366779 and parameters: {'num_leaves': 81, 'min_samples_split': 0.010633672054609258, 'boosting_type': 'gbdt', 'reg_alpha': 0.0012875857379641392, 'min_child_weight': 9.11985208342651e-05, 'learning_rate': 0.2272114369335413, 'max_depth': 5, 'n_estimators': 287, 'min_child_samples': 14, 'subsample': 0.4693184149590245, 'min_data_in_leaf': 2, 'colsample_bytree': 0.3129386716874999, 'reg_lambda': 5.265946629601977e-07, 'min_split_gain': 0.41477795202119416, 'bagging_fraction': 0.7786435589450235, 'feature_fraction': 0.7330868691797413}. Best is trial 31 with value: -0.650066580076449.\u001b[0m\n",
            "\u001b[32m[I 2023-01-29 12:00:47,852]\u001b[0m Trial 66 finished with value: -0.018440827773729386 and parameters: {'num_leaves': 11, 'min_samples_split': 0.04492539598291229, 'boosting_type': 'dart', 'reg_alpha': 2.092831321053495e-05, 'min_child_weight': 0.0006960968566172972, 'learning_rate': 0.9780799406780973, 'max_depth': 6, 'n_estimators': 482, 'min_child_samples': 63, 'subsample': 0.38233267385510245, 'min_data_in_leaf': 12, 'colsample_bytree': 0.6282583005742054, 'reg_lambda': 1.8894959899959465e-06, 'min_split_gain': 0.0567716351109232, 'bagging_fraction': 0.9983557683003792, 'feature_fraction': 0.6724385129496566}. Best is trial 31 with value: -0.650066580076449.\u001b[0m\n",
            "\u001b[32m[I 2023-01-29 12:00:59,498]\u001b[0m Trial 67 finished with value: -0.6397876809116639 and parameters: {'num_leaves': 57, 'min_samples_split': 0.05878863568847158, 'boosting_type': 'gbdt', 'reg_alpha': 0.00025081419894031157, 'min_child_weight': 0.00013631441882520145, 'learning_rate': 0.0923665252610426, 'max_depth': 4, 'n_estimators': 352, 'min_child_samples': 19, 'subsample': 0.5014301114679491, 'min_data_in_leaf': 1, 'colsample_bytree': 0.22627759011652893, 'reg_lambda': 3.4836774840011133e-06, 'min_split_gain': 0.12532917086991482, 'bagging_fraction': 0.8386314402246042, 'feature_fraction': 0.9391073997547295}. Best is trial 31 with value: -0.650066580076449.\u001b[0m\n",
            "\u001b[32m[I 2023-01-29 12:01:09,268]\u001b[0m Trial 68 finished with value: -0.6400765723267109 and parameters: {'num_leaves': 25, 'min_samples_split': 0.02753516249992084, 'boosting_type': 'gbdt', 'reg_alpha': 0.1412911354847756, 'min_child_weight': 5.7817220065586155e-05, 'learning_rate': 0.046181321466363834, 'max_depth': 7, 'n_estimators': 247, 'min_child_samples': 8, 'subsample': 0.5710858434401748, 'min_data_in_leaf': 20, 'colsample_bytree': 0.5301898320089484, 'reg_lambda': 1.1354455340379608e-06, 'min_split_gain': 0.5471177221118602, 'bagging_fraction': 0.9268849137914997, 'feature_fraction': 0.8449877051355791}. Best is trial 31 with value: -0.650066580076449.\u001b[0m\n",
            "\u001b[32m[I 2023-01-29 12:03:13,374]\u001b[0m Trial 69 finished with value: -0.6468459412371449 and parameters: {'num_leaves': 47, 'min_samples_split': 0.08812626607984446, 'boosting_type': 'dart', 'reg_alpha': 7.467093626730243e-05, 'min_child_weight': 0.00029402998137943747, 'learning_rate': 0.1270733875978031, 'max_depth': 5, 'n_estimators': 441, 'min_child_samples': 69, 'subsample': 0.42560871920518867, 'min_data_in_leaf': 3, 'colsample_bytree': 0.044769634467727346, 'reg_lambda': 1.4109710890644313e-07, 'min_split_gain': 0.25521516303455266, 'bagging_fraction': 0.7932321884719662, 'feature_fraction': 0.9048684798753335}. Best is trial 31 with value: -0.650066580076449.\u001b[0m\n",
            "\u001b[32m[I 2023-01-29 12:03:21,385]\u001b[0m Trial 70 finished with value: -0.4524470537781276 and parameters: {'num_leaves': 31, 'min_samples_split': 0.11948061087980355, 'boosting_type': 'gbdt', 'reg_alpha': 0.00013814437407435045, 'min_child_weight': 0.00019788332455008474, 'learning_rate': 0.34790160296435957, 'max_depth': 2, 'n_estimators': 412, 'min_child_samples': 11, 'subsample': 0.4715074062277491, 'min_data_in_leaf': 10, 'colsample_bytree': 0.6737247784476533, 'reg_lambda': 4.13780261077574e-07, 'min_split_gain': 0.5631072276753717, 'bagging_fraction': 0.8613413216225533, 'feature_fraction': 0.8289711939365975}. Best is trial 31 with value: -0.650066580076449.\u001b[0m\n",
            "\u001b[32m[I 2023-01-29 12:06:01,427]\u001b[0m Trial 71 finished with value: -0.6459025880856888 and parameters: {'num_leaves': 52, 'min_samples_split': 0.09481201822770285, 'boosting_type': 'dart', 'reg_alpha': 7.922637948191687e-05, 'min_child_weight': 0.0004122374845119316, 'learning_rate': 0.12989574284226418, 'max_depth': 5, 'n_estimators': 523, 'min_child_samples': 69, 'subsample': 0.4328209149566938, 'min_data_in_leaf': 3, 'colsample_bytree': 0.0642645569231805, 'reg_lambda': 1.1714693046992432e-07, 'min_split_gain': 0.3006000280971764, 'bagging_fraction': 0.7868658513178635, 'feature_fraction': 0.9137531803877393}. Best is trial 31 with value: -0.650066580076449.\u001b[0m\n",
            "\u001b[32m[I 2023-01-29 12:08:05,557]\u001b[0m Trial 72 finished with value: -0.6419907697608236 and parameters: {'num_leaves': 67, 'min_samples_split': 0.07675325338431416, 'boosting_type': 'dart', 'reg_alpha': 0.0006460194761014008, 'min_child_weight': 0.00026212443458898126, 'learning_rate': 0.07334715660818471, 'max_depth': 5, 'n_estimators': 441, 'min_child_samples': 77, 'subsample': 0.5287751982777488, 'min_data_in_leaf': 4, 'colsample_bytree': 0.015932784506708323, 'reg_lambda': 1.7227519513658196e-07, 'min_split_gain': 0.22945479851500278, 'bagging_fraction': 0.8213795178773189, 'feature_fraction': 0.953762513566059}. Best is trial 31 with value: -0.650066580076449.\u001b[0m\n",
            "\u001b[32m[I 2023-01-29 12:09:11,142]\u001b[0m Trial 73 finished with value: -0.6410455900601186 and parameters: {'num_leaves': 19, 'min_samples_split': 0.04228824760203881, 'boosting_type': 'dart', 'reg_alpha': 6.456418295743574e-05, 'min_child_weight': 7.900508800614686e-05, 'learning_rate': 0.20380229507639952, 'max_depth': 6, 'n_estimators': 312, 'min_child_samples': 61, 'subsample': 0.3938325789421363, 'min_data_in_leaf': 2, 'colsample_bytree': 0.11467160581552804, 'reg_lambda': 2.1724136672732026e-08, 'min_split_gain': 0.13844950346481014, 'bagging_fraction': 0.7256547644808724, 'feature_fraction': 0.8993000975390172}. Best is trial 31 with value: -0.650066580076449.\u001b[0m\n",
            "\u001b[32m[I 2023-01-29 12:12:01,259]\u001b[0m Trial 74 finished with value: -0.6458452512919275 and parameters: {'num_leaves': 15, 'min_samples_split': 0.13358290288665747, 'boosting_type': 'dart', 'reg_alpha': 0.0002485840625015739, 'min_child_weight': 0.00013638647892507186, 'learning_rate': 0.13349184560896027, 'max_depth': 4, 'n_estimators': 598, 'min_child_samples': 5, 'subsample': 0.4602946308236488, 'min_data_in_leaf': 3, 'colsample_bytree': 0.04537369189629094, 'reg_lambda': 5.7038883288122e-06, 'min_split_gain': 0.6468931973724757, 'bagging_fraction': 0.8940727279253758, 'feature_fraction': 0.7996087126068974}. Best is trial 31 with value: -0.650066580076449.\u001b[0m\n",
            "\u001b[32m[I 2023-01-29 12:13:07,412]\u001b[0m Trial 75 finished with value: -0.5938952660244644 and parameters: {'num_leaves': 47, 'min_samples_split': 0.10863394207295907, 'boosting_type': 'dart', 'reg_alpha': 3.2852294845048025e-05, 'min_child_weight': 0.0015106272824534476, 'learning_rate': 0.028957272826358453, 'max_depth': 3, 'n_estimators': 383, 'min_child_samples': 44, 'subsample': 0.4190154769796239, 'min_data_in_leaf': 4, 'colsample_bytree': 0.1349141348333277, 'reg_lambda': 6.368064677179843e-08, 'min_split_gain': 0.9470756373087618, 'bagging_fraction': 0.8213422670109247, 'feature_fraction': 0.9698020588666328}. Best is trial 31 with value: -0.650066580076449.\u001b[0m\n",
            "\u001b[32m[I 2023-01-29 12:13:14,413]\u001b[0m Trial 76 finished with value: -0.6189601530669112 and parameters: {'num_leaves': 76, 'min_samples_split': 0.059194508174211714, 'boosting_type': 'gbdt', 'reg_alpha': 0.00011150452456979902, 'min_child_weight': 0.0004900548447664174, 'learning_rate': 0.08591763000328913, 'max_depth': 1, 'n_estimators': 459, 'min_child_samples': 73, 'subsample': 0.49423135307289784, 'min_data_in_leaf': 6, 'colsample_bytree': 0.5622532209356064, 'reg_lambda': 1.6559380075182035e-06, 'min_split_gain': 0.05094343266043334, 'bagging_fraction': 0.9772933519987471, 'feature_fraction': 0.8582856257288656}. Best is trial 31 with value: -0.650066580076449.\u001b[0m\n",
            "\u001b[32m[I 2023-01-29 12:14:49,777]\u001b[0m Trial 77 finished with value: -0.6383310269882972 and parameters: {'num_leaves': 71, 'min_samples_split': 0.08812211102395007, 'boosting_type': 'dart', 'reg_alpha': 6.105325647613548e-05, 'min_child_weight': 0.0002978744480573167, 'learning_rate': 0.2670854424227613, 'max_depth': 6, 'n_estimators': 348, 'min_child_samples': 25, 'subsample': 0.5588821066675661, 'min_data_in_leaf': 2, 'colsample_bytree': 0.0960109584758502, 'reg_lambda': 9.430429646570847e-06, 'min_split_gain': 0.21054399746282915, 'bagging_fraction': 0.9305283633815271, 'feature_fraction': 0.9867811282202388}. Best is trial 31 with value: -0.650066580076449.\u001b[0m\n",
            "\u001b[32m[I 2023-01-29 12:15:01,366]\u001b[0m Trial 78 finished with value: -0.63616583717168 and parameters: {'num_leaves': 87, 'min_samples_split': 0.07176455002891483, 'boosting_type': 'gbdt', 'reg_alpha': 0.0005247848429188982, 'min_child_weight': 3.842976025200761e-05, 'learning_rate': 0.035403159738212696, 'max_depth': 7, 'n_estimators': 202, 'min_child_samples': 67, 'subsample': 0.5230380691258009, 'min_data_in_leaf': 14, 'colsample_bytree': 0.07079929789997674, 'reg_lambda': 3.305182613553761e-07, 'min_split_gain': 0.3558678187498169, 'bagging_fraction': 0.7841327867348916, 'feature_fraction': 0.9233783890544581}. Best is trial 31 with value: -0.650066580076449.\u001b[0m\n",
            "\u001b[32m[I 2023-01-29 12:15:17,323]\u001b[0m Trial 79 finished with value: -0.6292070944878035 and parameters: {'num_leaves': 11, 'min_samples_split': 0.10111484003998607, 'boosting_type': 'dart', 'reg_alpha': 0.00016336589637020143, 'min_child_weight': 0.00010259514076931967, 'learning_rate': 0.054011479853642734, 'max_depth': 5, 'n_estimators': 154, 'min_child_samples': 59, 'subsample': 0.35613439058325447, 'min_data_in_leaf': 18, 'colsample_bytree': 0.6092810697218864, 'reg_lambda': 4.598581709272993e-06, 'min_split_gain': 0.11273534993687817, 'bagging_fraction': 0.8788782280085191, 'feature_fraction': 0.7821885720269086}. Best is trial 31 with value: -0.650066580076449.\u001b[0m\n",
            "\u001b[32m[I 2023-01-29 12:15:33,302]\u001b[0m Trial 80 finished with value: -0.6547593427477406 and parameters: {'num_leaves': 6, 'min_samples_split': 0.023876639700255442, 'boosting_type': 'gbdt', 'reg_alpha': 2.04295722199648e-05, 'min_child_weight': 0.0008298400717774186, 'learning_rate': 0.11693254825590113, 'max_depth': -1, 'n_estimators': 676, 'min_child_samples': 32, 'subsample': 0.43223926721122186, 'min_data_in_leaf': 1, 'colsample_bytree': 0.4504681826870456, 'reg_lambda': 2.4012299446894634e-06, 'min_split_gain': 0.07211265162133412, 'bagging_fraction': 0.8499810791528031, 'feature_fraction': 0.8961190726783418}. Best is trial 80 with value: -0.6547593427477406.\u001b[0m\n",
            "\u001b[32m[I 2023-01-29 12:15:44,352]\u001b[0m Trial 81 finished with value: -0.6333882458484593 and parameters: {'num_leaves': 2, 'min_samples_split': 0.037268028905122444, 'boosting_type': 'gbdt', 'reg_alpha': 1.9367071028568833e-05, 'min_child_weight': 0.0009169677844053728, 'learning_rate': 0.11072943705396214, 'max_depth': -1, 'n_estimators': 736, 'min_child_samples': 32, 'subsample': 0.4403375667318577, 'min_data_in_leaf': 1, 'colsample_bytree': 0.45051948472531544, 'reg_lambda': 8.961570099460882e-07, 'min_split_gain': 0.31436150075645475, 'bagging_fraction': 0.8479898256826777, 'feature_fraction': 0.8997699095640702}. Best is trial 80 with value: -0.6547593427477406.\u001b[0m\n",
            "\u001b[32m[I 2023-01-29 12:16:03,711]\u001b[0m Trial 82 finished with value: -0.4486656234618839 and parameters: {'num_leaves': 6, 'min_samples_split': 0.024260882117281102, 'boosting_type': 'gbdt', 'reg_alpha': 9.242684361330964e-06, 'min_child_weight': 0.0003314042875685474, 'learning_rate': 0.14301917088413277, 'max_depth': 0, 'n_estimators': 810, 'min_child_samples': 41, 'subsample': 0.38669228315745036, 'min_data_in_leaf': 3, 'colsample_bytree': 0.5290725221214304, 'reg_lambda': 2.7878877009020806e-06, 'min_split_gain': 0.19138180454374484, 'bagging_fraction': 0.7585708017556377, 'feature_fraction': 0.889455241440646}. Best is trial 80 with value: -0.6547593427477406.\u001b[0m\n",
            "\u001b[32m[I 2023-01-29 12:16:14,360]\u001b[0m Trial 83 finished with value: -0.625239033770653 and parameters: {'num_leaves': 20, 'min_samples_split': 0.02052273978556366, 'boosting_type': 'gbdt', 'reg_alpha': 3.3573842883549224e-05, 'min_child_weight': 0.0005841188451030317, 'learning_rate': 0.0738810023849738, 'max_depth': 1, 'n_estimators': 702, 'min_child_samples': 51, 'subsample': 0.4859759642171531, 'min_data_in_leaf': 1, 'colsample_bytree': 0.4833766134435486, 'reg_lambda': 1.4416435391727534e-06, 'min_split_gain': 0.6301033431966354, 'bagging_fraction': 0.9093520067977126, 'feature_fraction': 0.8299434484548259}. Best is trial 80 with value: -0.6547593427477406.\u001b[0m\n",
            "\u001b[32m[I 2023-01-29 12:16:25,720]\u001b[0m Trial 84 finished with value: -0.5268814675348766 and parameters: {'num_leaves': 7, 'min_samples_split': 0.057001354562928944, 'boosting_type': 'gbdt', 'reg_alpha': 0.0011283650588363118, 'min_child_weight': 0.0001828344621816314, 'learning_rate': 0.1854521240363417, 'max_depth': -1, 'n_estimators': 428, 'min_child_samples': 16, 'subsample': 0.46615082282052256, 'min_data_in_leaf': 2, 'colsample_bytree': 0.5092271061096905, 'reg_lambda': 1.9621374816933652e-05, 'min_split_gain': 0.08669764579052529, 'bagging_fraction': 0.8001352740026096, 'feature_fraction': 0.9346738660848104}. Best is trial 80 with value: -0.6547593427477406.\u001b[0m\n",
            "\u001b[32m[I 2023-01-29 12:16:37,348]\u001b[0m Trial 85 finished with value: -0.24699778413380435 and parameters: {'num_leaves': 11, 'min_samples_split': 0.04947354014398442, 'boosting_type': 'gbdt', 'reg_alpha': 8.190764793102658e-05, 'min_child_weight': 0.001903677181831633, 'learning_rate': 0.3948483059864801, 'max_depth': 10, 'n_estimators': 518, 'min_child_samples': 30, 'subsample': 0.4286002405703774, 'min_data_in_leaf': 3, 'colsample_bytree': 0.5644166645398419, 'reg_lambda': 9.171168954063389e-06, 'min_split_gain': 0.006967131627930228, 'bagging_fraction': 0.8692935383015448, 'feature_fraction': 0.8602803704829479}. Best is trial 80 with value: -0.6547593427477406.\u001b[0m\n",
            "\u001b[32m[I 2023-01-29 12:16:46,065]\u001b[0m Trial 86 finished with value: -0.6431223173735793 and parameters: {'num_leaves': 16, 'min_samples_split': 0.036188810732434254, 'boosting_type': 'gbdt', 'reg_alpha': 4.082942243098923e-05, 'min_child_weight': 0.0008062387946460604, 'learning_rate': 0.056516850054626, 'max_depth': 4, 'n_estimators': 268, 'min_child_samples': 38, 'subsample': 0.5854334194579881, 'min_data_in_leaf': 2, 'colsample_bytree': 0.4589152473711029, 'reg_lambda': 3.359189676567397e-06, 'min_split_gain': 0.02116881086772799, 'bagging_fraction': 0.9448536042676674, 'feature_fraction': 0.8879775575748361}. Best is trial 80 with value: -0.6547593427477406.\u001b[0m\n",
            "\u001b[32m[I 2023-01-29 12:19:21,289]\u001b[0m Trial 87 finished with value: -0.017084963693544106 and parameters: {'num_leaves': 38, 'min_samples_split': 0.06876685961613903, 'boosting_type': 'dart', 'reg_alpha': 0.00024163783081183418, 'min_child_weight': 0.001107880518260375, 'learning_rate': 0.6566413743627926, 'max_depth': 6, 'n_estimators': 765, 'min_child_samples': 48, 'subsample': 0.5109343024807473, 'min_data_in_leaf': 4, 'colsample_bytree': 0.4421028712267357, 'reg_lambda': 6.44732908485426e-07, 'min_split_gain': 0.03387233635333495, 'bagging_fraction': 0.8302609884065771, 'feature_fraction': 0.920874495790197}. Best is trial 80 with value: -0.6547593427477406.\u001b[0m\n",
            "\u001b[32m[I 2023-01-29 12:19:31,143]\u001b[0m Trial 88 finished with value: -0.6429485723571113 and parameters: {'num_leaves': 24, 'min_samples_split': 0.08554163836778589, 'boosting_type': 'gbdt', 'reg_alpha': 6.5991294505112165e-06, 'min_child_weight': 0.00038582778460998667, 'learning_rate': 0.10847392372915517, 'max_depth': 5, 'n_estimators': 670, 'min_child_samples': 7, 'subsample': 0.5445724979850143, 'min_data_in_leaf': 13, 'colsample_bytree': 0.5137543618403722, 'reg_lambda': 2.0289359304113127e-06, 'min_split_gain': 0.9903675250730317, 'bagging_fraction': 0.8559902225327659, 'feature_fraction': 0.8201879856390089}. Best is trial 80 with value: -0.6547593427477406.\u001b[0m\n",
            "\u001b[32m[I 2023-01-29 12:22:30,807]\u001b[0m Trial 89 finished with value: -0.648216992036057 and parameters: {'num_leaves': 30, 'min_samples_split': 0.06737946973799089, 'boosting_type': 'dart', 'reg_alpha': 0.001976702863381338, 'min_child_weight': 6.966419190705472e-05, 'learning_rate': 0.039975560934338406, 'max_depth': 0, 'n_estimators': 550, 'min_child_samples': 34, 'subsample': 0.40344084519941287, 'min_data_in_leaf': 1, 'colsample_bytree': 0.4106640474504282, 'reg_lambda': 6.519085654730207e-06, 'min_split_gain': 0.1582779162646552, 'bagging_fraction': 0.7427983861023933, 'feature_fraction': 0.8046173045800138}. Best is trial 80 with value: -0.6547593427477406.\u001b[0m\n",
            "\u001b[32m[I 2023-01-29 12:22:57,473]\u001b[0m Trial 90 finished with value: -0.6356371887782931 and parameters: {'num_leaves': 120, 'min_samples_split': 0.019095209275828296, 'boosting_type': 'gbdt', 'reg_alpha': 0.001766615908216394, 'min_child_weight': 1.8603583035059025e-05, 'learning_rate': 0.04601889881756673, 'max_depth': -1, 'n_estimators': 549, 'min_child_samples': 36, 'subsample': 0.3979081258372389, 'min_data_in_leaf': 1, 'colsample_bytree': 0.4075977314632248, 'reg_lambda': 1.36640052496377e-05, 'min_split_gain': 0.14733790002834338, 'bagging_fraction': 0.7414907288786347, 'feature_fraction': 0.794560390161169}. Best is trial 80 with value: -0.6547593427477406.\u001b[0m\n",
            "\u001b[32m[I 2023-01-29 12:25:27,647]\u001b[0m Trial 91 finished with value: -0.6390302819789003 and parameters: {'num_leaves': 31, 'min_samples_split': 0.06656846203462034, 'boosting_type': 'dart', 'reg_alpha': 0.014104407463066139, 'min_child_weight': 7.4338023840139e-05, 'learning_rate': 0.0853508782611029, 'max_depth': 0, 'n_estimators': 492, 'min_child_samples': 34, 'subsample': 0.4594468617026346, 'min_data_in_leaf': 1, 'colsample_bytree': 0.37136226650858656, 'reg_lambda': 6.217710562389369e-06, 'min_split_gain': 0.3647232419155987, 'bagging_fraction': 0.7742833351675873, 'feature_fraction': 0.8059093352017028}. Best is trial 80 with value: -0.6547593427477406.\u001b[0m\n",
            "\u001b[32m[I 2023-01-29 12:28:29,074]\u001b[0m Trial 92 finished with value: -0.6408292581673152 and parameters: {'num_leaves': 46, 'min_samples_split': 0.11849153857316452, 'boosting_type': 'dart', 'reg_alpha': 0.006592121338078687, 'min_child_weight': 0.000208016705628294, 'learning_rate': 0.27014322445503874, 'max_depth': -1, 'n_estimators': 584, 'min_child_samples': 26, 'subsample': 0.42054776309098846, 'min_data_in_leaf': 11, 'colsample_bytree': 0.411852207342964, 'reg_lambda': 2.760402309153285e-05, 'min_split_gain': 0.23708765566757925, 'bagging_fraction': 0.7986702950404064, 'feature_fraction': 0.76125744953883}. Best is trial 80 with value: -0.6547593427477406.\u001b[0m\n",
            "\u001b[32m[I 2023-01-29 12:30:07,525]\u001b[0m Trial 93 finished with value: -0.6473236729631778 and parameters: {'num_leaves': 28, 'min_samples_split': 0.04475179360608645, 'boosting_type': 'dart', 'reg_alpha': 0.0020979735885288597, 'min_child_weight': 5.869221551557603e-05, 'learning_rate': 0.16319730753695286, 'max_depth': 0, 'n_estimators': 404, 'min_child_samples': 10, 'subsample': 0.35849063665367226, 'min_data_in_leaf': 2, 'colsample_bytree': 0.47658565105727946, 'reg_lambda': 4.203193870084874e-06, 'min_split_gain': 0.6365374087865964, 'bagging_fraction': 0.7071863754566196, 'feature_fraction': 0.7406886023939633}. Best is trial 80 with value: -0.6547593427477406.\u001b[0m\n",
            "\u001b[32m[I 2023-01-29 12:31:15,469]\u001b[0m Trial 94 finished with value: -0.6464621018520147 and parameters: {'num_leaves': 26, 'min_samples_split': 0.045825286984748324, 'boosting_type': 'dart', 'reg_alpha': 0.0035149616610897876, 'min_child_weight': 4.452602089890166e-05, 'learning_rate': 0.18898306295899214, 'max_depth': 0, 'n_estimators': 309, 'min_child_samples': 11, 'subsample': 0.34519415470924675, 'min_data_in_leaf': 2, 'colsample_bytree': 0.4839483142371629, 'reg_lambda': 1.1682645123798365e-05, 'min_split_gain': 0.7344349607702638, 'bagging_fraction': 0.7031447276430607, 'feature_fraction': 0.7436659031290416}. Best is trial 80 with value: -0.6547593427477406.\u001b[0m\n",
            "\u001b[32m[I 2023-01-29 12:34:06,264]\u001b[0m Trial 95 finished with value: -0.6309702655408527 and parameters: {'num_leaves': 105, 'min_samples_split': 0.03543867057505716, 'boosting_type': 'dart', 'reg_alpha': 0.0027311282372131586, 'min_child_weight': 0.00010530760235749311, 'learning_rate': 0.06694875446932758, 'max_depth': 0, 'n_estimators': 407, 'min_child_samples': 30, 'subsample': 0.32901013346111463, 'min_data_in_leaf': 1, 'colsample_bytree': 0.42354375535171723, 'reg_lambda': 3.839202703186963e-06, 'min_split_gain': 0.06656400709521766, 'bagging_fraction': 0.6662801725710736, 'feature_fraction': 0.7141529522946326}. Best is trial 80 with value: -0.6547593427477406.\u001b[0m\n",
            "\u001b[32m[I 2023-01-29 12:35:10,549]\u001b[0m Trial 96 finished with value: -0.6079127596543118 and parameters: {'num_leaves': 19, 'min_samples_split': 0.05540975608051665, 'boosting_type': 'dart', 'reg_alpha': 0.02149221475776538, 'min_child_weight': 5.88734098070637e-05, 'learning_rate': 0.1528592801770927, 'max_depth': 1, 'n_estimators': 626, 'min_child_samples': 22, 'subsample': 0.37694079837969213, 'min_data_in_leaf': 2, 'colsample_bytree': 0.48547394114781606, 'reg_lambda': 4.457187082998797e-06, 'min_split_gain': 0.4820806496230022, 'bagging_fraction': 0.7420589644436025, 'feature_fraction': 0.7268999404533232}. Best is trial 80 with value: -0.6547593427477406.\u001b[0m\n",
            "\u001b[32m[I 2023-01-29 12:35:29,920]\u001b[0m Trial 97 finished with value: -0.6469102772037462 and parameters: {'num_leaves': 29, 'min_samples_split': 0.016521784828724947, 'boosting_type': 'gbdt', 'reg_alpha': 0.001945175836302041, 'min_child_weight': 2.2031591597150824e-05, 'learning_rate': 0.03817066189408591, 'max_depth': -1, 'n_estimators': 374, 'min_child_samples': 39, 'subsample': 0.3749648504540161, 'min_data_in_leaf': 2, 'colsample_bytree': 0.4578089900614465, 'reg_lambda': 7.803233535851649e-06, 'min_split_gain': 0.1265024172185315, 'bagging_fraction': 0.7184765195536733, 'feature_fraction': 0.7789737074818261}. Best is trial 80 with value: -0.6547593427477406.\u001b[0m\n",
            "\u001b[32m[I 2023-01-29 12:36:17,380]\u001b[0m Trial 98 finished with value: -0.6304376301402048 and parameters: {'num_leaves': 13, 'min_samples_split': 0.07600952004623612, 'boosting_type': 'dart', 'reg_alpha': 0.0009296330445891119, 'min_child_weight': 3.230549041266579e-05, 'learning_rate': 0.46909840505457695, 'max_depth': 1, 'n_estimators': 542, 'min_child_samples': 15, 'subsample': 0.49516218909431814, 'min_data_in_leaf': 1, 'colsample_bytree': 0.42940508246478426, 'reg_lambda': 2.1375293155290335e-06, 'min_split_gain': 0.3836325691179944, 'bagging_fraction': 0.8980724492164672, 'feature_fraction': 0.7665897761118233}. Best is trial 80 with value: -0.6547593427477406.\u001b[0m\n",
            "\u001b[32m[I 2023-01-29 12:36:24,119]\u001b[0m Trial 99 finished with value: -0.6344914787737169 and parameters: {'num_leaves': 34, 'min_samples_split': 0.037560016114417415, 'boosting_type': 'gbdt', 'reg_alpha': 0.0003545416612037379, 'min_child_weight': 0.00015045673755982535, 'learning_rate': 0.21221229813805048, 'max_depth': 0, 'n_estimators': 473, 'min_child_samples': 46, 'subsample': 0.28035420575990744, 'min_data_in_leaf': 10, 'colsample_bytree': 0.3495771651674068, 'reg_lambda': 4.4593578824108196e-05, 'min_split_gain': 0.6746196708073844, 'bagging_fraction': 0.6365268054022242, 'feature_fraction': 0.6918644700441955}. Best is trial 80 with value: -0.6547593427477406.\u001b[0m\n"
          ]
        },
        {
          "output_type": "stream",
          "name": "stdout",
          "text": [
            "Best trial:\n",
            "Value:  0.6547593427477406\n",
            "Params:  {'num_leaves': 6, 'min_samples_split': 0.023876639700255442, 'boosting_type': 'gbdt', 'reg_alpha': 2.04295722199648e-05, 'min_child_weight': 0.0008298400717774186, 'learning_rate': 0.11693254825590113, 'max_depth': -1, 'n_estimators': 676, 'min_child_samples': 32, 'subsample': 0.43223926721122186, 'min_data_in_leaf': 1, 'colsample_bytree': 0.4504681826870456, 'reg_lambda': 2.4012299446894634e-06, 'min_split_gain': 0.07211265162133412, 'bagging_fraction': 0.8499810791528031, 'feature_fraction': 0.8961190726783418}\n",
            "{'num_leaves': 6, 'min_samples_split': 0.023876639700255442, 'boosting_type': 'gbdt', 'reg_alpha': 2.04295722199648e-05, 'min_child_weight': 0.0008298400717774186, 'learning_rate': 0.11693254825590113, 'max_depth': -1, 'n_estimators': 676, 'min_child_samples': 32, 'subsample': 0.43223926721122186, 'min_data_in_leaf': 1, 'colsample_bytree': 0.4504681826870456, 'reg_lambda': 2.4012299446894634e-06, 'min_split_gain': 0.07211265162133412, 'bagging_fraction': 0.8499810791528031, 'feature_fraction': 0.8961190726783418}\n"
          ]
        }
      ]
    },
    {
      "cell_type": "markdown",
      "source": [
        " 0.642127725596212"
      ],
      "metadata": {
        "id": "X_lb8Jom0r60"
      }
    },
    {
      "cell_type": "code",
      "source": [
        "params = {'num_leaves': 6, 'min_samples_split': 0.023876639700255442, 'boosting_type': 'gbdt', 'reg_alpha': 2.04295722199648e-05, 'min_child_weight': 0.0008298400717774186, 'learning_rate': 0.11693254825590113, 'max_depth': -1, 'n_estimators': 676, 'min_child_samples': 32, 'subsample': 0.43223926721122186, 'min_data_in_leaf': 1, 'colsample_bytree': 0.4504681826870456, 'reg_lambda': 2.4012299446894634e-06, 'min_split_gain': 0.07211265162133412, 'bagging_fraction': 0.8499810791528031, 'feature_fraction': 0.8961190726783418}"
      ],
      "metadata": {
        "id": "pJZ2_gP1toCv"
      },
      "execution_count": 31,
      "outputs": []
    },
    {
      "cell_type": "code",
      "source": [
        "dtc = LGBMClassifier(**params)\n",
        "dtc.fit(X_train, y_train)\n",
        "val_pred = dtc.predict(X_test)\n",
        "\n",
        "# Macro f1 score을 사용하기 위해 average 인자 값을 \"macro\" 로 설정해줍니다.\n",
        "print(\"현재 Macro F1 Score의 검증 점수는 {}입니다.\".format(f1_score(val_pred, y_test, average = \"macro\")))"
      ],
      "metadata": {
        "colab": {
          "base_uri": "https://localhost:8080/"
        },
        "id": "ggmdQPrLlA5e",
        "outputId": "7092d94c-fa5a-416a-aa6c-fa4c2952cc95"
      },
      "execution_count": 32,
      "outputs": [
        {
          "output_type": "stream",
          "name": "stdout",
          "text": [
            "현재 Macro F1 Score의 검증 점수는 0.6547593427477406입니다.\n"
          ]
        }
      ]
    },
    {
      "cell_type": "code",
      "source": [
        "pred = dtc.predict(test)"
      ],
      "metadata": {
        "id": "Zb1bXuUplSJg"
      },
      "execution_count": 35,
      "outputs": []
    },
    {
      "cell_type": "code",
      "source": [
        "submission = pd.read_csv(\"./sample_submission.csv\")\n",
        "submission[\"genre\"] = pred"
      ],
      "metadata": {
        "id": "-nujSxIJlNoD"
      },
      "execution_count": 36,
      "outputs": []
    },
    {
      "cell_type": "code",
      "source": [
        "submission"
      ],
      "metadata": {
        "colab": {
          "base_uri": "https://localhost:8080/",
          "height": 424
        },
        "id": "Z-ZcGgevlVzD",
        "outputId": "d5d76608-db89-4cda-845c-59c450b95cc5"
      },
      "execution_count": 37,
      "outputs": [
        {
          "output_type": "execute_result",
          "data": {
            "text/plain": [
              "               ID            genre\n",
              "0      TEST_00000           Hiphop\n",
              "1      TEST_00001  Underground Rap\n",
              "2      TEST_00002              Emo\n",
              "3      TEST_00003        techhouse\n",
              "4      TEST_00004              Pop\n",
              "...           ...              ...\n",
              "16917  TEST_16917        techhouse\n",
              "16918  TEST_16918           Hiphop\n",
              "16919  TEST_16919        hardstyle\n",
              "16920  TEST_16920        psytrance\n",
              "16921  TEST_16921  Underground Rap\n",
              "\n",
              "[16922 rows x 2 columns]"
            ],
            "text/html": [
              "\n",
              "  <div id=\"df-0aee64fd-fea6-461f-80bb-2f23172e808a\">\n",
              "    <div class=\"colab-df-container\">\n",
              "      <div>\n",
              "<style scoped>\n",
              "    .dataframe tbody tr th:only-of-type {\n",
              "        vertical-align: middle;\n",
              "    }\n",
              "\n",
              "    .dataframe tbody tr th {\n",
              "        vertical-align: top;\n",
              "    }\n",
              "\n",
              "    .dataframe thead th {\n",
              "        text-align: right;\n",
              "    }\n",
              "</style>\n",
              "<table border=\"1\" class=\"dataframe\">\n",
              "  <thead>\n",
              "    <tr style=\"text-align: right;\">\n",
              "      <th></th>\n",
              "      <th>ID</th>\n",
              "      <th>genre</th>\n",
              "    </tr>\n",
              "  </thead>\n",
              "  <tbody>\n",
              "    <tr>\n",
              "      <th>0</th>\n",
              "      <td>TEST_00000</td>\n",
              "      <td>Hiphop</td>\n",
              "    </tr>\n",
              "    <tr>\n",
              "      <th>1</th>\n",
              "      <td>TEST_00001</td>\n",
              "      <td>Underground Rap</td>\n",
              "    </tr>\n",
              "    <tr>\n",
              "      <th>2</th>\n",
              "      <td>TEST_00002</td>\n",
              "      <td>Emo</td>\n",
              "    </tr>\n",
              "    <tr>\n",
              "      <th>3</th>\n",
              "      <td>TEST_00003</td>\n",
              "      <td>techhouse</td>\n",
              "    </tr>\n",
              "    <tr>\n",
              "      <th>4</th>\n",
              "      <td>TEST_00004</td>\n",
              "      <td>Pop</td>\n",
              "    </tr>\n",
              "    <tr>\n",
              "      <th>...</th>\n",
              "      <td>...</td>\n",
              "      <td>...</td>\n",
              "    </tr>\n",
              "    <tr>\n",
              "      <th>16917</th>\n",
              "      <td>TEST_16917</td>\n",
              "      <td>techhouse</td>\n",
              "    </tr>\n",
              "    <tr>\n",
              "      <th>16918</th>\n",
              "      <td>TEST_16918</td>\n",
              "      <td>Hiphop</td>\n",
              "    </tr>\n",
              "    <tr>\n",
              "      <th>16919</th>\n",
              "      <td>TEST_16919</td>\n",
              "      <td>hardstyle</td>\n",
              "    </tr>\n",
              "    <tr>\n",
              "      <th>16920</th>\n",
              "      <td>TEST_16920</td>\n",
              "      <td>psytrance</td>\n",
              "    </tr>\n",
              "    <tr>\n",
              "      <th>16921</th>\n",
              "      <td>TEST_16921</td>\n",
              "      <td>Underground Rap</td>\n",
              "    </tr>\n",
              "  </tbody>\n",
              "</table>\n",
              "<p>16922 rows × 2 columns</p>\n",
              "</div>\n",
              "      <button class=\"colab-df-convert\" onclick=\"convertToInteractive('df-0aee64fd-fea6-461f-80bb-2f23172e808a')\"\n",
              "              title=\"Convert this dataframe to an interactive table.\"\n",
              "              style=\"display:none;\">\n",
              "        \n",
              "  <svg xmlns=\"http://www.w3.org/2000/svg\" height=\"24px\"viewBox=\"0 0 24 24\"\n",
              "       width=\"24px\">\n",
              "    <path d=\"M0 0h24v24H0V0z\" fill=\"none\"/>\n",
              "    <path d=\"M18.56 5.44l.94 2.06.94-2.06 2.06-.94-2.06-.94-.94-2.06-.94 2.06-2.06.94zm-11 1L8.5 8.5l.94-2.06 2.06-.94-2.06-.94L8.5 2.5l-.94 2.06-2.06.94zm10 10l.94 2.06.94-2.06 2.06-.94-2.06-.94-.94-2.06-.94 2.06-2.06.94z\"/><path d=\"M17.41 7.96l-1.37-1.37c-.4-.4-.92-.59-1.43-.59-.52 0-1.04.2-1.43.59L10.3 9.45l-7.72 7.72c-.78.78-.78 2.05 0 2.83L4 21.41c.39.39.9.59 1.41.59.51 0 1.02-.2 1.41-.59l7.78-7.78 2.81-2.81c.8-.78.8-2.07 0-2.86zM5.41 20L4 18.59l7.72-7.72 1.47 1.35L5.41 20z\"/>\n",
              "  </svg>\n",
              "      </button>\n",
              "      \n",
              "  <style>\n",
              "    .colab-df-container {\n",
              "      display:flex;\n",
              "      flex-wrap:wrap;\n",
              "      gap: 12px;\n",
              "    }\n",
              "\n",
              "    .colab-df-convert {\n",
              "      background-color: #E8F0FE;\n",
              "      border: none;\n",
              "      border-radius: 50%;\n",
              "      cursor: pointer;\n",
              "      display: none;\n",
              "      fill: #1967D2;\n",
              "      height: 32px;\n",
              "      padding: 0 0 0 0;\n",
              "      width: 32px;\n",
              "    }\n",
              "\n",
              "    .colab-df-convert:hover {\n",
              "      background-color: #E2EBFA;\n",
              "      box-shadow: 0px 1px 2px rgba(60, 64, 67, 0.3), 0px 1px 3px 1px rgba(60, 64, 67, 0.15);\n",
              "      fill: #174EA6;\n",
              "    }\n",
              "\n",
              "    [theme=dark] .colab-df-convert {\n",
              "      background-color: #3B4455;\n",
              "      fill: #D2E3FC;\n",
              "    }\n",
              "\n",
              "    [theme=dark] .colab-df-convert:hover {\n",
              "      background-color: #434B5C;\n",
              "      box-shadow: 0px 1px 3px 1px rgba(0, 0, 0, 0.15);\n",
              "      filter: drop-shadow(0px 1px 2px rgba(0, 0, 0, 0.3));\n",
              "      fill: #FFFFFF;\n",
              "    }\n",
              "  </style>\n",
              "\n",
              "      <script>\n",
              "        const buttonEl =\n",
              "          document.querySelector('#df-0aee64fd-fea6-461f-80bb-2f23172e808a button.colab-df-convert');\n",
              "        buttonEl.style.display =\n",
              "          google.colab.kernel.accessAllowed ? 'block' : 'none';\n",
              "\n",
              "        async function convertToInteractive(key) {\n",
              "          const element = document.querySelector('#df-0aee64fd-fea6-461f-80bb-2f23172e808a');\n",
              "          const dataTable =\n",
              "            await google.colab.kernel.invokeFunction('convertToInteractive',\n",
              "                                                     [key], {});\n",
              "          if (!dataTable) return;\n",
              "\n",
              "          const docLinkHtml = 'Like what you see? Visit the ' +\n",
              "            '<a target=\"_blank\" href=https://colab.research.google.com/notebooks/data_table.ipynb>data table notebook</a>'\n",
              "            + ' to learn more about interactive tables.';\n",
              "          element.innerHTML = '';\n",
              "          dataTable['output_type'] = 'display_data';\n",
              "          await google.colab.output.renderOutput(dataTable, element);\n",
              "          const docLink = document.createElement('div');\n",
              "          docLink.innerHTML = docLinkHtml;\n",
              "          element.appendChild(docLink);\n",
              "        }\n",
              "      </script>\n",
              "    </div>\n",
              "  </div>\n",
              "  "
            ]
          },
          "metadata": {},
          "execution_count": 37
        }
      ]
    },
    {
      "cell_type": "code",
      "source": [
        "submission.to_csv(\"./light-optuna final.csv\", index = False)"
      ],
      "metadata": {
        "id": "QckyhcpllbL7"
      },
      "execution_count": 38,
      "outputs": []
    },
    {
      "cell_type": "code",
      "source": [],
      "metadata": {
        "id": "RybR7xWPlgjM"
      },
      "execution_count": null,
      "outputs": []
    }
  ]
}