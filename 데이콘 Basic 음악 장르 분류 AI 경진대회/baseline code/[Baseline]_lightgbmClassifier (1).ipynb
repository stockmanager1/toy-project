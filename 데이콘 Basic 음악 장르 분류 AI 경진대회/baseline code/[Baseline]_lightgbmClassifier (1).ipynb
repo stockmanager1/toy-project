{
  "nbformat": 4,
  "nbformat_minor": 0,
  "metadata": {
    "colab": {
      "provenance": []
    },
    "kernelspec": {
      "name": "python3",
      "display_name": "Python 3"
    },
    "language_info": {
      "name": "python"
    }
  },
  "cells": [
    {
      "cell_type": "markdown",
      "source": [
        "https://post.naver.com/viewer/postView.nhn?volumeNo=29700625&memberNo=35871176&vType=VERTICAL"
      ],
      "metadata": {
        "id": "f1ychZ90uqqs"
      }
    },
    {
      "cell_type": "code",
      "source": [
        "import os\n",
        "import random\n",
        "import pandas as pd\n",
        "import numpy as np\n",
        "import seaborn as sns\n",
        "import matplotlib.pyplot as plt\n",
        "import seaborn as sns\n",
        "from sklearn.model_selection import train_test_split\n",
        "from sklearn.ensemble import RandomForestClassifier\n",
        "from sklearn.metrics import f1_score\n",
        "import matplotlib as mpl\n",
        "import warnings\n",
        "warnings.filterwarnings(\"ignore\")"
      ],
      "metadata": {
        "id": "kTJIernssVbT"
      },
      "execution_count": 2,
      "outputs": []
    },
    {
      "cell_type": "code",
      "source": [
        "from sklearn.preprocessing import RobustScaler, StandardScaler, MinMaxScaler, LabelEncoder"
      ],
      "metadata": {
        "id": "i3naMxCLDTcl"
      },
      "execution_count": 34,
      "outputs": []
    },
    {
      "cell_type": "code",
      "execution_count": 3,
      "metadata": {
        "colab": {
          "base_uri": "https://localhost:8080/"
        },
        "id": "22F7AuHfqwHk",
        "outputId": "cc4aaf20-2e78-4202-fb28-31cecfdf2d4f"
      },
      "outputs": [
        {
          "output_type": "stream",
          "name": "stdout",
          "text": [
            "Mounted at /content/gdrive/\n"
          ]
        }
      ],
      "source": [
        "from google.colab import drive\n",
        "drive.mount('/content/gdrive/')"
      ]
    },
    {
      "cell_type": "code",
      "source": [
        "!unzip -qq \"/content/gdrive/MyDrive/open (5).zip\""
      ],
      "metadata": {
        "id": "znTpg-lIrk9Z"
      },
      "execution_count": 4,
      "outputs": []
    },
    {
      "cell_type": "code",
      "source": [
        "import pandas as pd"
      ],
      "metadata": {
        "id": "p7ZN6jjqsMb0"
      },
      "execution_count": 58,
      "outputs": []
    },
    {
      "cell_type": "code",
      "source": [
        "train = pd.read_csv('/content/train.csv')\n",
        "test = pd.read_csv('/content/test.csv')"
      ],
      "metadata": {
        "id": "2OcMo8OCr3gE"
      },
      "execution_count": 106,
      "outputs": []
    },
    {
      "cell_type": "code",
      "source": [
        "def seed_everything(seed):\n",
        "    random.seed(seed)\n",
        "    os.environ['PYTHONHASHSEED'] = str(seed)\n",
        "    np.random.seed(seed)\n",
        "\n",
        "seed_everything(42) # Seed 고정"
      ],
      "metadata": {
        "id": "11M30VKWsPBP"
      },
      "execution_count": 107,
      "outputs": []
    },
    {
      "cell_type": "code",
      "source": [
        "train"
      ],
      "metadata": {
        "colab": {
          "base_uri": "https://localhost:8080/",
          "height": 505
        },
        "id": "LOD-50FstMKn",
        "outputId": "8f13df15-27ff-4ad7-e938-4813c40bee59"
      },
      "execution_count": 108,
      "outputs": [
        {
          "output_type": "execute_result",
          "data": {
            "text/plain": [
              "                ID  danceability  energy  key  loudness  speechiness  \\\n",
              "0      TRAIN_00000        0.3341  0.9231   10    0.8540       0.3797   \n",
              "1      TRAIN_00001        0.6344  0.5955   10    0.2826       0.1378   \n",
              "2      TRAIN_00002        0.3983  0.1107    8    0.2459       0.0247   \n",
              "3      TRAIN_00003        0.3139  0.9702    2    0.9252       0.9590   \n",
              "4      TRAIN_00004        0.0735  0.9452    5    0.7702       0.1397   \n",
              "...            ...           ...     ...  ...       ...          ...   \n",
              "25378  TRAIN_25378        0.8814  0.3398    6    0.4602       0.3825   \n",
              "25379  TRAIN_25379        0.7505  0.5657    0    0.6682       0.1038   \n",
              "25380  TRAIN_25380        0.2520  0.7617    8    0.4928       0.0410   \n",
              "25381  TRAIN_25381        0.6202  0.3455    0    0.6499       0.7960   \n",
              "25382  TRAIN_25382        0.8963  0.4435    9    0.6595       0.1336   \n",
              "\n",
              "       acousticness  instrumentalness  liveness  valence   tempo  duration  \\\n",
              "0            0.0080            0.0002    0.7697   0.7902  0.5391       175   \n",
              "1            0.0000            0.7137    0.1597   0.4162  0.3043       513   \n",
              "2            0.7740            0.0000    0.5105   0.4291  0.2324       151   \n",
              "3            0.0371            0.3015    0.2539   0.0577  0.5406       246   \n",
              "4            0.2583            0.0015    0.1774   0.1128  0.3176       229   \n",
              "...             ...               ...       ...      ...     ...       ...   \n",
              "25378        0.4505            0.0000    0.4222   0.8753  0.4081        88   \n",
              "25379        0.1281            0.0000    0.0596   0.9583  0.4273       123   \n",
              "25380        0.0003            0.8395    0.0843   0.1372  0.7828       353   \n",
              "25381        0.4818            0.0000    0.2007   0.0194  0.9756       120   \n",
              "25382        0.4673            0.0000    0.2971   0.3320  0.4069       228   \n",
              "\n",
              "                 genre  \n",
              "0                 trap  \n",
              "1               techno  \n",
              "2           Trap Metal  \n",
              "3                 trap  \n",
              "4            Dark Trap  \n",
              "...                ...  \n",
              "25378  Underground Rap  \n",
              "25379       Trap Metal  \n",
              "25380              dnb  \n",
              "25381        Dark Trap  \n",
              "25382              Rap  \n",
              "\n",
              "[25383 rows x 13 columns]"
            ],
            "text/html": [
              "\n",
              "  <div id=\"df-26a46260-cd4c-4954-99dc-f30f5a0503c1\">\n",
              "    <div class=\"colab-df-container\">\n",
              "      <div>\n",
              "<style scoped>\n",
              "    .dataframe tbody tr th:only-of-type {\n",
              "        vertical-align: middle;\n",
              "    }\n",
              "\n",
              "    .dataframe tbody tr th {\n",
              "        vertical-align: top;\n",
              "    }\n",
              "\n",
              "    .dataframe thead th {\n",
              "        text-align: right;\n",
              "    }\n",
              "</style>\n",
              "<table border=\"1\" class=\"dataframe\">\n",
              "  <thead>\n",
              "    <tr style=\"text-align: right;\">\n",
              "      <th></th>\n",
              "      <th>ID</th>\n",
              "      <th>danceability</th>\n",
              "      <th>energy</th>\n",
              "      <th>key</th>\n",
              "      <th>loudness</th>\n",
              "      <th>speechiness</th>\n",
              "      <th>acousticness</th>\n",
              "      <th>instrumentalness</th>\n",
              "      <th>liveness</th>\n",
              "      <th>valence</th>\n",
              "      <th>tempo</th>\n",
              "      <th>duration</th>\n",
              "      <th>genre</th>\n",
              "    </tr>\n",
              "  </thead>\n",
              "  <tbody>\n",
              "    <tr>\n",
              "      <th>0</th>\n",
              "      <td>TRAIN_00000</td>\n",
              "      <td>0.3341</td>\n",
              "      <td>0.9231</td>\n",
              "      <td>10</td>\n",
              "      <td>0.8540</td>\n",
              "      <td>0.3797</td>\n",
              "      <td>0.0080</td>\n",
              "      <td>0.0002</td>\n",
              "      <td>0.7697</td>\n",
              "      <td>0.7902</td>\n",
              "      <td>0.5391</td>\n",
              "      <td>175</td>\n",
              "      <td>trap</td>\n",
              "    </tr>\n",
              "    <tr>\n",
              "      <th>1</th>\n",
              "      <td>TRAIN_00001</td>\n",
              "      <td>0.6344</td>\n",
              "      <td>0.5955</td>\n",
              "      <td>10</td>\n",
              "      <td>0.2826</td>\n",
              "      <td>0.1378</td>\n",
              "      <td>0.0000</td>\n",
              "      <td>0.7137</td>\n",
              "      <td>0.1597</td>\n",
              "      <td>0.4162</td>\n",
              "      <td>0.3043</td>\n",
              "      <td>513</td>\n",
              "      <td>techno</td>\n",
              "    </tr>\n",
              "    <tr>\n",
              "      <th>2</th>\n",
              "      <td>TRAIN_00002</td>\n",
              "      <td>0.3983</td>\n",
              "      <td>0.1107</td>\n",
              "      <td>8</td>\n",
              "      <td>0.2459</td>\n",
              "      <td>0.0247</td>\n",
              "      <td>0.7740</td>\n",
              "      <td>0.0000</td>\n",
              "      <td>0.5105</td>\n",
              "      <td>0.4291</td>\n",
              "      <td>0.2324</td>\n",
              "      <td>151</td>\n",
              "      <td>Trap Metal</td>\n",
              "    </tr>\n",
              "    <tr>\n",
              "      <th>3</th>\n",
              "      <td>TRAIN_00003</td>\n",
              "      <td>0.3139</td>\n",
              "      <td>0.9702</td>\n",
              "      <td>2</td>\n",
              "      <td>0.9252</td>\n",
              "      <td>0.9590</td>\n",
              "      <td>0.0371</td>\n",
              "      <td>0.3015</td>\n",
              "      <td>0.2539</td>\n",
              "      <td>0.0577</td>\n",
              "      <td>0.5406</td>\n",
              "      <td>246</td>\n",
              "      <td>trap</td>\n",
              "    </tr>\n",
              "    <tr>\n",
              "      <th>4</th>\n",
              "      <td>TRAIN_00004</td>\n",
              "      <td>0.0735</td>\n",
              "      <td>0.9452</td>\n",
              "      <td>5</td>\n",
              "      <td>0.7702</td>\n",
              "      <td>0.1397</td>\n",
              "      <td>0.2583</td>\n",
              "      <td>0.0015</td>\n",
              "      <td>0.1774</td>\n",
              "      <td>0.1128</td>\n",
              "      <td>0.3176</td>\n",
              "      <td>229</td>\n",
              "      <td>Dark Trap</td>\n",
              "    </tr>\n",
              "    <tr>\n",
              "      <th>...</th>\n",
              "      <td>...</td>\n",
              "      <td>...</td>\n",
              "      <td>...</td>\n",
              "      <td>...</td>\n",
              "      <td>...</td>\n",
              "      <td>...</td>\n",
              "      <td>...</td>\n",
              "      <td>...</td>\n",
              "      <td>...</td>\n",
              "      <td>...</td>\n",
              "      <td>...</td>\n",
              "      <td>...</td>\n",
              "      <td>...</td>\n",
              "    </tr>\n",
              "    <tr>\n",
              "      <th>25378</th>\n",
              "      <td>TRAIN_25378</td>\n",
              "      <td>0.8814</td>\n",
              "      <td>0.3398</td>\n",
              "      <td>6</td>\n",
              "      <td>0.4602</td>\n",
              "      <td>0.3825</td>\n",
              "      <td>0.4505</td>\n",
              "      <td>0.0000</td>\n",
              "      <td>0.4222</td>\n",
              "      <td>0.8753</td>\n",
              "      <td>0.4081</td>\n",
              "      <td>88</td>\n",
              "      <td>Underground Rap</td>\n",
              "    </tr>\n",
              "    <tr>\n",
              "      <th>25379</th>\n",
              "      <td>TRAIN_25379</td>\n",
              "      <td>0.7505</td>\n",
              "      <td>0.5657</td>\n",
              "      <td>0</td>\n",
              "      <td>0.6682</td>\n",
              "      <td>0.1038</td>\n",
              "      <td>0.1281</td>\n",
              "      <td>0.0000</td>\n",
              "      <td>0.0596</td>\n",
              "      <td>0.9583</td>\n",
              "      <td>0.4273</td>\n",
              "      <td>123</td>\n",
              "      <td>Trap Metal</td>\n",
              "    </tr>\n",
              "    <tr>\n",
              "      <th>25380</th>\n",
              "      <td>TRAIN_25380</td>\n",
              "      <td>0.2520</td>\n",
              "      <td>0.7617</td>\n",
              "      <td>8</td>\n",
              "      <td>0.4928</td>\n",
              "      <td>0.0410</td>\n",
              "      <td>0.0003</td>\n",
              "      <td>0.8395</td>\n",
              "      <td>0.0843</td>\n",
              "      <td>0.1372</td>\n",
              "      <td>0.7828</td>\n",
              "      <td>353</td>\n",
              "      <td>dnb</td>\n",
              "    </tr>\n",
              "    <tr>\n",
              "      <th>25381</th>\n",
              "      <td>TRAIN_25381</td>\n",
              "      <td>0.6202</td>\n",
              "      <td>0.3455</td>\n",
              "      <td>0</td>\n",
              "      <td>0.6499</td>\n",
              "      <td>0.7960</td>\n",
              "      <td>0.4818</td>\n",
              "      <td>0.0000</td>\n",
              "      <td>0.2007</td>\n",
              "      <td>0.0194</td>\n",
              "      <td>0.9756</td>\n",
              "      <td>120</td>\n",
              "      <td>Dark Trap</td>\n",
              "    </tr>\n",
              "    <tr>\n",
              "      <th>25382</th>\n",
              "      <td>TRAIN_25382</td>\n",
              "      <td>0.8963</td>\n",
              "      <td>0.4435</td>\n",
              "      <td>9</td>\n",
              "      <td>0.6595</td>\n",
              "      <td>0.1336</td>\n",
              "      <td>0.4673</td>\n",
              "      <td>0.0000</td>\n",
              "      <td>0.2971</td>\n",
              "      <td>0.3320</td>\n",
              "      <td>0.4069</td>\n",
              "      <td>228</td>\n",
              "      <td>Rap</td>\n",
              "    </tr>\n",
              "  </tbody>\n",
              "</table>\n",
              "<p>25383 rows × 13 columns</p>\n",
              "</div>\n",
              "      <button class=\"colab-df-convert\" onclick=\"convertToInteractive('df-26a46260-cd4c-4954-99dc-f30f5a0503c1')\"\n",
              "              title=\"Convert this dataframe to an interactive table.\"\n",
              "              style=\"display:none;\">\n",
              "        \n",
              "  <svg xmlns=\"http://www.w3.org/2000/svg\" height=\"24px\"viewBox=\"0 0 24 24\"\n",
              "       width=\"24px\">\n",
              "    <path d=\"M0 0h24v24H0V0z\" fill=\"none\"/>\n",
              "    <path d=\"M18.56 5.44l.94 2.06.94-2.06 2.06-.94-2.06-.94-.94-2.06-.94 2.06-2.06.94zm-11 1L8.5 8.5l.94-2.06 2.06-.94-2.06-.94L8.5 2.5l-.94 2.06-2.06.94zm10 10l.94 2.06.94-2.06 2.06-.94-2.06-.94-.94-2.06-.94 2.06-2.06.94z\"/><path d=\"M17.41 7.96l-1.37-1.37c-.4-.4-.92-.59-1.43-.59-.52 0-1.04.2-1.43.59L10.3 9.45l-7.72 7.72c-.78.78-.78 2.05 0 2.83L4 21.41c.39.39.9.59 1.41.59.51 0 1.02-.2 1.41-.59l7.78-7.78 2.81-2.81c.8-.78.8-2.07 0-2.86zM5.41 20L4 18.59l7.72-7.72 1.47 1.35L5.41 20z\"/>\n",
              "  </svg>\n",
              "      </button>\n",
              "      \n",
              "  <style>\n",
              "    .colab-df-container {\n",
              "      display:flex;\n",
              "      flex-wrap:wrap;\n",
              "      gap: 12px;\n",
              "    }\n",
              "\n",
              "    .colab-df-convert {\n",
              "      background-color: #E8F0FE;\n",
              "      border: none;\n",
              "      border-radius: 50%;\n",
              "      cursor: pointer;\n",
              "      display: none;\n",
              "      fill: #1967D2;\n",
              "      height: 32px;\n",
              "      padding: 0 0 0 0;\n",
              "      width: 32px;\n",
              "    }\n",
              "\n",
              "    .colab-df-convert:hover {\n",
              "      background-color: #E2EBFA;\n",
              "      box-shadow: 0px 1px 2px rgba(60, 64, 67, 0.3), 0px 1px 3px 1px rgba(60, 64, 67, 0.15);\n",
              "      fill: #174EA6;\n",
              "    }\n",
              "\n",
              "    [theme=dark] .colab-df-convert {\n",
              "      background-color: #3B4455;\n",
              "      fill: #D2E3FC;\n",
              "    }\n",
              "\n",
              "    [theme=dark] .colab-df-convert:hover {\n",
              "      background-color: #434B5C;\n",
              "      box-shadow: 0px 1px 3px 1px rgba(0, 0, 0, 0.15);\n",
              "      filter: drop-shadow(0px 1px 2px rgba(0, 0, 0, 0.3));\n",
              "      fill: #FFFFFF;\n",
              "    }\n",
              "  </style>\n",
              "\n",
              "      <script>\n",
              "        const buttonEl =\n",
              "          document.querySelector('#df-26a46260-cd4c-4954-99dc-f30f5a0503c1 button.colab-df-convert');\n",
              "        buttonEl.style.display =\n",
              "          google.colab.kernel.accessAllowed ? 'block' : 'none';\n",
              "\n",
              "        async function convertToInteractive(key) {\n",
              "          const element = document.querySelector('#df-26a46260-cd4c-4954-99dc-f30f5a0503c1');\n",
              "          const dataTable =\n",
              "            await google.colab.kernel.invokeFunction('convertToInteractive',\n",
              "                                                     [key], {});\n",
              "          if (!dataTable) return;\n",
              "\n",
              "          const docLinkHtml = 'Like what you see? Visit the ' +\n",
              "            '<a target=\"_blank\" href=https://colab.research.google.com/notebooks/data_table.ipynb>data table notebook</a>'\n",
              "            + ' to learn more about interactive tables.';\n",
              "          element.innerHTML = '';\n",
              "          dataTable['output_type'] = 'display_data';\n",
              "          await google.colab.output.renderOutput(dataTable, element);\n",
              "          const docLink = document.createElement('div');\n",
              "          docLink.innerHTML = docLinkHtml;\n",
              "          element.appendChild(docLink);\n",
              "        }\n",
              "      </script>\n",
              "    </div>\n",
              "  </div>\n",
              "  "
            ]
          },
          "metadata": {},
          "execution_count": 108
        }
      ]
    },
    {
      "cell_type": "code",
      "source": [
        "test"
      ],
      "metadata": {
        "colab": {
          "base_uri": "https://localhost:8080/",
          "height": 488
        },
        "id": "2-DQQRiPtmZs",
        "outputId": "c407ff98-b61d-4b45-a319-9e6f681d74f6"
      },
      "execution_count": 109,
      "outputs": [
        {
          "output_type": "execute_result",
          "data": {
            "text/plain": [
              "               ID  danceability  energy  key  loudness  speechiness  \\\n",
              "0      TEST_00000        0.8861  0.6821    2    0.7241       0.3103   \n",
              "1      TEST_00001        0.8495  0.3883    1    0.4495       0.4661   \n",
              "2      TEST_00002        0.2479  0.7549    3    0.7683       0.3131   \n",
              "3      TEST_00003        0.6344  0.9804    1    0.6599       0.0931   \n",
              "4      TEST_00004        0.6237  0.6926    6    0.6716       0.0269   \n",
              "...           ...           ...     ...  ...       ...          ...   \n",
              "16917  TEST_16917        0.5461  0.8686    1    0.6351       0.0656   \n",
              "16918  TEST_16918        0.8443  0.4194    4    0.5065       0.4315   \n",
              "16919  TEST_16919        0.3373  0.9202   10    0.7272       0.4502   \n",
              "16920  TEST_16920        0.4017  0.9741    9    0.6272       0.0768   \n",
              "16921  TEST_16921        0.7676  0.4037    1    0.7554       0.3214   \n",
              "\n",
              "       acousticness  instrumentalness  liveness  valence   tempo  duration  \n",
              "0            0.1451            0.0000    0.5087   0.8863  0.9648       279  \n",
              "1            0.6234            0.0004    0.1347   0.4062  0.9051       151  \n",
              "2            0.5718            0.0000    0.1250   0.6357  0.3234       196  \n",
              "3            0.0020            0.6016    0.8799   0.8790  0.2946       207  \n",
              "4            0.0283            0.0001    0.1580   0.9288  0.3642       196  \n",
              "...             ...               ...       ...      ...     ...       ...  \n",
              "16917        0.0010            0.8888    0.0047   0.8250  0.2672       161  \n",
              "16918        0.1637            0.0241    0.0749   0.9482  0.9186       289  \n",
              "16919        0.0791            0.0001    0.1881   0.0992  0.5953       212  \n",
              "16920        0.0001            0.8718    0.6649   0.4463  0.4841       617  \n",
              "16921        0.0838            0.0059    0.2745   0.1196  0.5966       116  \n",
              "\n",
              "[16922 rows x 12 columns]"
            ],
            "text/html": [
              "\n",
              "  <div id=\"df-833941cd-2d59-4e7f-8d21-bff939c5024d\">\n",
              "    <div class=\"colab-df-container\">\n",
              "      <div>\n",
              "<style scoped>\n",
              "    .dataframe tbody tr th:only-of-type {\n",
              "        vertical-align: middle;\n",
              "    }\n",
              "\n",
              "    .dataframe tbody tr th {\n",
              "        vertical-align: top;\n",
              "    }\n",
              "\n",
              "    .dataframe thead th {\n",
              "        text-align: right;\n",
              "    }\n",
              "</style>\n",
              "<table border=\"1\" class=\"dataframe\">\n",
              "  <thead>\n",
              "    <tr style=\"text-align: right;\">\n",
              "      <th></th>\n",
              "      <th>ID</th>\n",
              "      <th>danceability</th>\n",
              "      <th>energy</th>\n",
              "      <th>key</th>\n",
              "      <th>loudness</th>\n",
              "      <th>speechiness</th>\n",
              "      <th>acousticness</th>\n",
              "      <th>instrumentalness</th>\n",
              "      <th>liveness</th>\n",
              "      <th>valence</th>\n",
              "      <th>tempo</th>\n",
              "      <th>duration</th>\n",
              "    </tr>\n",
              "  </thead>\n",
              "  <tbody>\n",
              "    <tr>\n",
              "      <th>0</th>\n",
              "      <td>TEST_00000</td>\n",
              "      <td>0.8861</td>\n",
              "      <td>0.6821</td>\n",
              "      <td>2</td>\n",
              "      <td>0.7241</td>\n",
              "      <td>0.3103</td>\n",
              "      <td>0.1451</td>\n",
              "      <td>0.0000</td>\n",
              "      <td>0.5087</td>\n",
              "      <td>0.8863</td>\n",
              "      <td>0.9648</td>\n",
              "      <td>279</td>\n",
              "    </tr>\n",
              "    <tr>\n",
              "      <th>1</th>\n",
              "      <td>TEST_00001</td>\n",
              "      <td>0.8495</td>\n",
              "      <td>0.3883</td>\n",
              "      <td>1</td>\n",
              "      <td>0.4495</td>\n",
              "      <td>0.4661</td>\n",
              "      <td>0.6234</td>\n",
              "      <td>0.0004</td>\n",
              "      <td>0.1347</td>\n",
              "      <td>0.4062</td>\n",
              "      <td>0.9051</td>\n",
              "      <td>151</td>\n",
              "    </tr>\n",
              "    <tr>\n",
              "      <th>2</th>\n",
              "      <td>TEST_00002</td>\n",
              "      <td>0.2479</td>\n",
              "      <td>0.7549</td>\n",
              "      <td>3</td>\n",
              "      <td>0.7683</td>\n",
              "      <td>0.3131</td>\n",
              "      <td>0.5718</td>\n",
              "      <td>0.0000</td>\n",
              "      <td>0.1250</td>\n",
              "      <td>0.6357</td>\n",
              "      <td>0.3234</td>\n",
              "      <td>196</td>\n",
              "    </tr>\n",
              "    <tr>\n",
              "      <th>3</th>\n",
              "      <td>TEST_00003</td>\n",
              "      <td>0.6344</td>\n",
              "      <td>0.9804</td>\n",
              "      <td>1</td>\n",
              "      <td>0.6599</td>\n",
              "      <td>0.0931</td>\n",
              "      <td>0.0020</td>\n",
              "      <td>0.6016</td>\n",
              "      <td>0.8799</td>\n",
              "      <td>0.8790</td>\n",
              "      <td>0.2946</td>\n",
              "      <td>207</td>\n",
              "    </tr>\n",
              "    <tr>\n",
              "      <th>4</th>\n",
              "      <td>TEST_00004</td>\n",
              "      <td>0.6237</td>\n",
              "      <td>0.6926</td>\n",
              "      <td>6</td>\n",
              "      <td>0.6716</td>\n",
              "      <td>0.0269</td>\n",
              "      <td>0.0283</td>\n",
              "      <td>0.0001</td>\n",
              "      <td>0.1580</td>\n",
              "      <td>0.9288</td>\n",
              "      <td>0.3642</td>\n",
              "      <td>196</td>\n",
              "    </tr>\n",
              "    <tr>\n",
              "      <th>...</th>\n",
              "      <td>...</td>\n",
              "      <td>...</td>\n",
              "      <td>...</td>\n",
              "      <td>...</td>\n",
              "      <td>...</td>\n",
              "      <td>...</td>\n",
              "      <td>...</td>\n",
              "      <td>...</td>\n",
              "      <td>...</td>\n",
              "      <td>...</td>\n",
              "      <td>...</td>\n",
              "      <td>...</td>\n",
              "    </tr>\n",
              "    <tr>\n",
              "      <th>16917</th>\n",
              "      <td>TEST_16917</td>\n",
              "      <td>0.5461</td>\n",
              "      <td>0.8686</td>\n",
              "      <td>1</td>\n",
              "      <td>0.6351</td>\n",
              "      <td>0.0656</td>\n",
              "      <td>0.0010</td>\n",
              "      <td>0.8888</td>\n",
              "      <td>0.0047</td>\n",
              "      <td>0.8250</td>\n",
              "      <td>0.2672</td>\n",
              "      <td>161</td>\n",
              "    </tr>\n",
              "    <tr>\n",
              "      <th>16918</th>\n",
              "      <td>TEST_16918</td>\n",
              "      <td>0.8443</td>\n",
              "      <td>0.4194</td>\n",
              "      <td>4</td>\n",
              "      <td>0.5065</td>\n",
              "      <td>0.4315</td>\n",
              "      <td>0.1637</td>\n",
              "      <td>0.0241</td>\n",
              "      <td>0.0749</td>\n",
              "      <td>0.9482</td>\n",
              "      <td>0.9186</td>\n",
              "      <td>289</td>\n",
              "    </tr>\n",
              "    <tr>\n",
              "      <th>16919</th>\n",
              "      <td>TEST_16919</td>\n",
              "      <td>0.3373</td>\n",
              "      <td>0.9202</td>\n",
              "      <td>10</td>\n",
              "      <td>0.7272</td>\n",
              "      <td>0.4502</td>\n",
              "      <td>0.0791</td>\n",
              "      <td>0.0001</td>\n",
              "      <td>0.1881</td>\n",
              "      <td>0.0992</td>\n",
              "      <td>0.5953</td>\n",
              "      <td>212</td>\n",
              "    </tr>\n",
              "    <tr>\n",
              "      <th>16920</th>\n",
              "      <td>TEST_16920</td>\n",
              "      <td>0.4017</td>\n",
              "      <td>0.9741</td>\n",
              "      <td>9</td>\n",
              "      <td>0.6272</td>\n",
              "      <td>0.0768</td>\n",
              "      <td>0.0001</td>\n",
              "      <td>0.8718</td>\n",
              "      <td>0.6649</td>\n",
              "      <td>0.4463</td>\n",
              "      <td>0.4841</td>\n",
              "      <td>617</td>\n",
              "    </tr>\n",
              "    <tr>\n",
              "      <th>16921</th>\n",
              "      <td>TEST_16921</td>\n",
              "      <td>0.7676</td>\n",
              "      <td>0.4037</td>\n",
              "      <td>1</td>\n",
              "      <td>0.7554</td>\n",
              "      <td>0.3214</td>\n",
              "      <td>0.0838</td>\n",
              "      <td>0.0059</td>\n",
              "      <td>0.2745</td>\n",
              "      <td>0.1196</td>\n",
              "      <td>0.5966</td>\n",
              "      <td>116</td>\n",
              "    </tr>\n",
              "  </tbody>\n",
              "</table>\n",
              "<p>16922 rows × 12 columns</p>\n",
              "</div>\n",
              "      <button class=\"colab-df-convert\" onclick=\"convertToInteractive('df-833941cd-2d59-4e7f-8d21-bff939c5024d')\"\n",
              "              title=\"Convert this dataframe to an interactive table.\"\n",
              "              style=\"display:none;\">\n",
              "        \n",
              "  <svg xmlns=\"http://www.w3.org/2000/svg\" height=\"24px\"viewBox=\"0 0 24 24\"\n",
              "       width=\"24px\">\n",
              "    <path d=\"M0 0h24v24H0V0z\" fill=\"none\"/>\n",
              "    <path d=\"M18.56 5.44l.94 2.06.94-2.06 2.06-.94-2.06-.94-.94-2.06-.94 2.06-2.06.94zm-11 1L8.5 8.5l.94-2.06 2.06-.94-2.06-.94L8.5 2.5l-.94 2.06-2.06.94zm10 10l.94 2.06.94-2.06 2.06-.94-2.06-.94-.94-2.06-.94 2.06-2.06.94z\"/><path d=\"M17.41 7.96l-1.37-1.37c-.4-.4-.92-.59-1.43-.59-.52 0-1.04.2-1.43.59L10.3 9.45l-7.72 7.72c-.78.78-.78 2.05 0 2.83L4 21.41c.39.39.9.59 1.41.59.51 0 1.02-.2 1.41-.59l7.78-7.78 2.81-2.81c.8-.78.8-2.07 0-2.86zM5.41 20L4 18.59l7.72-7.72 1.47 1.35L5.41 20z\"/>\n",
              "  </svg>\n",
              "      </button>\n",
              "      \n",
              "  <style>\n",
              "    .colab-df-container {\n",
              "      display:flex;\n",
              "      flex-wrap:wrap;\n",
              "      gap: 12px;\n",
              "    }\n",
              "\n",
              "    .colab-df-convert {\n",
              "      background-color: #E8F0FE;\n",
              "      border: none;\n",
              "      border-radius: 50%;\n",
              "      cursor: pointer;\n",
              "      display: none;\n",
              "      fill: #1967D2;\n",
              "      height: 32px;\n",
              "      padding: 0 0 0 0;\n",
              "      width: 32px;\n",
              "    }\n",
              "\n",
              "    .colab-df-convert:hover {\n",
              "      background-color: #E2EBFA;\n",
              "      box-shadow: 0px 1px 2px rgba(60, 64, 67, 0.3), 0px 1px 3px 1px rgba(60, 64, 67, 0.15);\n",
              "      fill: #174EA6;\n",
              "    }\n",
              "\n",
              "    [theme=dark] .colab-df-convert {\n",
              "      background-color: #3B4455;\n",
              "      fill: #D2E3FC;\n",
              "    }\n",
              "\n",
              "    [theme=dark] .colab-df-convert:hover {\n",
              "      background-color: #434B5C;\n",
              "      box-shadow: 0px 1px 3px 1px rgba(0, 0, 0, 0.15);\n",
              "      filter: drop-shadow(0px 1px 2px rgba(0, 0, 0, 0.3));\n",
              "      fill: #FFFFFF;\n",
              "    }\n",
              "  </style>\n",
              "\n",
              "      <script>\n",
              "        const buttonEl =\n",
              "          document.querySelector('#df-833941cd-2d59-4e7f-8d21-bff939c5024d button.colab-df-convert');\n",
              "        buttonEl.style.display =\n",
              "          google.colab.kernel.accessAllowed ? 'block' : 'none';\n",
              "\n",
              "        async function convertToInteractive(key) {\n",
              "          const element = document.querySelector('#df-833941cd-2d59-4e7f-8d21-bff939c5024d');\n",
              "          const dataTable =\n",
              "            await google.colab.kernel.invokeFunction('convertToInteractive',\n",
              "                                                     [key], {});\n",
              "          if (!dataTable) return;\n",
              "\n",
              "          const docLinkHtml = 'Like what you see? Visit the ' +\n",
              "            '<a target=\"_blank\" href=https://colab.research.google.com/notebooks/data_table.ipynb>data table notebook</a>'\n",
              "            + ' to learn more about interactive tables.';\n",
              "          element.innerHTML = '';\n",
              "          dataTable['output_type'] = 'display_data';\n",
              "          await google.colab.output.renderOutput(dataTable, element);\n",
              "          const docLink = document.createElement('div');\n",
              "          docLink.innerHTML = docLinkHtml;\n",
              "          element.appendChild(docLink);\n",
              "        }\n",
              "      </script>\n",
              "    </div>\n",
              "  </div>\n",
              "  "
            ]
          },
          "metadata": {},
          "execution_count": 109
        }
      ]
    },
    {
      "cell_type": "code",
      "source": [
        "train_columns = pd.DataFrame({'columns':train.columns,\n",
        "                             'info':['아이디','(음악 등이) 댄스에 적합함.','에너지','키(음높이?)','소리의 세기','언어능력','반주구간','기약성','활기참','발렌스','템포','재생길이','장르']})"
      ],
      "metadata": {
        "id": "hdPDg-RytmsO"
      },
      "execution_count": 110,
      "outputs": []
    },
    {
      "cell_type": "code",
      "source": [
        "train_columns"
      ],
      "metadata": {
        "colab": {
          "base_uri": "https://localhost:8080/",
          "height": 457
        },
        "id": "iwgk8-MlvO_B",
        "outputId": "86eaf1ee-479a-4ec6-fc46-718ae38657f2"
      },
      "execution_count": 111,
      "outputs": [
        {
          "output_type": "execute_result",
          "data": {
            "text/plain": [
              "             columns              info\n",
              "0                 ID               아이디\n",
              "1       danceability  (음악 등이) 댄스에 적합함.\n",
              "2             energy               에너지\n",
              "3                key           키(음높이?)\n",
              "4           loudness            소리의 세기\n",
              "5        speechiness              언어능력\n",
              "6       acousticness              반주구간\n",
              "7   instrumentalness               기약성\n",
              "8           liveness               활기참\n",
              "9            valence               발렌스\n",
              "10             tempo                템포\n",
              "11          duration              재생길이\n",
              "12             genre                장르"
            ],
            "text/html": [
              "\n",
              "  <div id=\"df-c1969fad-a5e1-4d3f-86ff-060b401af473\">\n",
              "    <div class=\"colab-df-container\">\n",
              "      <div>\n",
              "<style scoped>\n",
              "    .dataframe tbody tr th:only-of-type {\n",
              "        vertical-align: middle;\n",
              "    }\n",
              "\n",
              "    .dataframe tbody tr th {\n",
              "        vertical-align: top;\n",
              "    }\n",
              "\n",
              "    .dataframe thead th {\n",
              "        text-align: right;\n",
              "    }\n",
              "</style>\n",
              "<table border=\"1\" class=\"dataframe\">\n",
              "  <thead>\n",
              "    <tr style=\"text-align: right;\">\n",
              "      <th></th>\n",
              "      <th>columns</th>\n",
              "      <th>info</th>\n",
              "    </tr>\n",
              "  </thead>\n",
              "  <tbody>\n",
              "    <tr>\n",
              "      <th>0</th>\n",
              "      <td>ID</td>\n",
              "      <td>아이디</td>\n",
              "    </tr>\n",
              "    <tr>\n",
              "      <th>1</th>\n",
              "      <td>danceability</td>\n",
              "      <td>(음악 등이) 댄스에 적합함.</td>\n",
              "    </tr>\n",
              "    <tr>\n",
              "      <th>2</th>\n",
              "      <td>energy</td>\n",
              "      <td>에너지</td>\n",
              "    </tr>\n",
              "    <tr>\n",
              "      <th>3</th>\n",
              "      <td>key</td>\n",
              "      <td>키(음높이?)</td>\n",
              "    </tr>\n",
              "    <tr>\n",
              "      <th>4</th>\n",
              "      <td>loudness</td>\n",
              "      <td>소리의 세기</td>\n",
              "    </tr>\n",
              "    <tr>\n",
              "      <th>5</th>\n",
              "      <td>speechiness</td>\n",
              "      <td>언어능력</td>\n",
              "    </tr>\n",
              "    <tr>\n",
              "      <th>6</th>\n",
              "      <td>acousticness</td>\n",
              "      <td>반주구간</td>\n",
              "    </tr>\n",
              "    <tr>\n",
              "      <th>7</th>\n",
              "      <td>instrumentalness</td>\n",
              "      <td>기약성</td>\n",
              "    </tr>\n",
              "    <tr>\n",
              "      <th>8</th>\n",
              "      <td>liveness</td>\n",
              "      <td>활기참</td>\n",
              "    </tr>\n",
              "    <tr>\n",
              "      <th>9</th>\n",
              "      <td>valence</td>\n",
              "      <td>발렌스</td>\n",
              "    </tr>\n",
              "    <tr>\n",
              "      <th>10</th>\n",
              "      <td>tempo</td>\n",
              "      <td>템포</td>\n",
              "    </tr>\n",
              "    <tr>\n",
              "      <th>11</th>\n",
              "      <td>duration</td>\n",
              "      <td>재생길이</td>\n",
              "    </tr>\n",
              "    <tr>\n",
              "      <th>12</th>\n",
              "      <td>genre</td>\n",
              "      <td>장르</td>\n",
              "    </tr>\n",
              "  </tbody>\n",
              "</table>\n",
              "</div>\n",
              "      <button class=\"colab-df-convert\" onclick=\"convertToInteractive('df-c1969fad-a5e1-4d3f-86ff-060b401af473')\"\n",
              "              title=\"Convert this dataframe to an interactive table.\"\n",
              "              style=\"display:none;\">\n",
              "        \n",
              "  <svg xmlns=\"http://www.w3.org/2000/svg\" height=\"24px\"viewBox=\"0 0 24 24\"\n",
              "       width=\"24px\">\n",
              "    <path d=\"M0 0h24v24H0V0z\" fill=\"none\"/>\n",
              "    <path d=\"M18.56 5.44l.94 2.06.94-2.06 2.06-.94-2.06-.94-.94-2.06-.94 2.06-2.06.94zm-11 1L8.5 8.5l.94-2.06 2.06-.94-2.06-.94L8.5 2.5l-.94 2.06-2.06.94zm10 10l.94 2.06.94-2.06 2.06-.94-2.06-.94-.94-2.06-.94 2.06-2.06.94z\"/><path d=\"M17.41 7.96l-1.37-1.37c-.4-.4-.92-.59-1.43-.59-.52 0-1.04.2-1.43.59L10.3 9.45l-7.72 7.72c-.78.78-.78 2.05 0 2.83L4 21.41c.39.39.9.59 1.41.59.51 0 1.02-.2 1.41-.59l7.78-7.78 2.81-2.81c.8-.78.8-2.07 0-2.86zM5.41 20L4 18.59l7.72-7.72 1.47 1.35L5.41 20z\"/>\n",
              "  </svg>\n",
              "      </button>\n",
              "      \n",
              "  <style>\n",
              "    .colab-df-container {\n",
              "      display:flex;\n",
              "      flex-wrap:wrap;\n",
              "      gap: 12px;\n",
              "    }\n",
              "\n",
              "    .colab-df-convert {\n",
              "      background-color: #E8F0FE;\n",
              "      border: none;\n",
              "      border-radius: 50%;\n",
              "      cursor: pointer;\n",
              "      display: none;\n",
              "      fill: #1967D2;\n",
              "      height: 32px;\n",
              "      padding: 0 0 0 0;\n",
              "      width: 32px;\n",
              "    }\n",
              "\n",
              "    .colab-df-convert:hover {\n",
              "      background-color: #E2EBFA;\n",
              "      box-shadow: 0px 1px 2px rgba(60, 64, 67, 0.3), 0px 1px 3px 1px rgba(60, 64, 67, 0.15);\n",
              "      fill: #174EA6;\n",
              "    }\n",
              "\n",
              "    [theme=dark] .colab-df-convert {\n",
              "      background-color: #3B4455;\n",
              "      fill: #D2E3FC;\n",
              "    }\n",
              "\n",
              "    [theme=dark] .colab-df-convert:hover {\n",
              "      background-color: #434B5C;\n",
              "      box-shadow: 0px 1px 3px 1px rgba(0, 0, 0, 0.15);\n",
              "      filter: drop-shadow(0px 1px 2px rgba(0, 0, 0, 0.3));\n",
              "      fill: #FFFFFF;\n",
              "    }\n",
              "  </style>\n",
              "\n",
              "      <script>\n",
              "        const buttonEl =\n",
              "          document.querySelector('#df-c1969fad-a5e1-4d3f-86ff-060b401af473 button.colab-df-convert');\n",
              "        buttonEl.style.display =\n",
              "          google.colab.kernel.accessAllowed ? 'block' : 'none';\n",
              "\n",
              "        async function convertToInteractive(key) {\n",
              "          const element = document.querySelector('#df-c1969fad-a5e1-4d3f-86ff-060b401af473');\n",
              "          const dataTable =\n",
              "            await google.colab.kernel.invokeFunction('convertToInteractive',\n",
              "                                                     [key], {});\n",
              "          if (!dataTable) return;\n",
              "\n",
              "          const docLinkHtml = 'Like what you see? Visit the ' +\n",
              "            '<a target=\"_blank\" href=https://colab.research.google.com/notebooks/data_table.ipynb>data table notebook</a>'\n",
              "            + ' to learn more about interactive tables.';\n",
              "          element.innerHTML = '';\n",
              "          dataTable['output_type'] = 'display_data';\n",
              "          await google.colab.output.renderOutput(dataTable, element);\n",
              "          const docLink = document.createElement('div');\n",
              "          docLink.innerHTML = docLinkHtml;\n",
              "          element.appendChild(docLink);\n",
              "        }\n",
              "      </script>\n",
              "    </div>\n",
              "  </div>\n",
              "  "
            ]
          },
          "metadata": {},
          "execution_count": 111
        }
      ]
    },
    {
      "cell_type": "code",
      "source": [
        "# 결측치를 살피는 함수\n",
        "import missingno as msno\n",
        "\n",
        "train_copy = train.copy()\n",
        "msno.bar(df=train_copy.iloc[:, 1:20], figsize=(13,6))\n"
      ],
      "metadata": {
        "colab": {
          "base_uri": "https://localhost:8080/",
          "height": 517
        },
        "id": "zDtw9HD-ve44",
        "outputId": "04298be1-ab33-4c63-c7a4-77cf2f103115"
      },
      "execution_count": 112,
      "outputs": [
        {
          "output_type": "execute_result",
          "data": {
            "text/plain": [
              "<matplotlib.axes._subplots.AxesSubplot at 0x7fd527bb6f70>"
            ]
          },
          "metadata": {},
          "execution_count": 112
        },
        {
          "output_type": "display_data",
          "data": {
            "text/plain": [
              "<Figure size 936x432 with 3 Axes>"
            ],
            "image/png": "[encoded data removed]"
          },
          "metadata": {
            "needs_background": "light"
          }
        }
      ]
    },
    {
      "cell_type": "code",
      "source": [
        "# 데이터 모양을 보여주는 함수\n",
        "def resumetable(df):\n",
        "  print(f'데이터셋 형상: {df.shape}')\n",
        "  summary = pd.DataFrame(df.dtypes, columns=['데이터 타입'])\n",
        "  summary = summary.reset_index()\n",
        "  summary = summary.rename(columns={'index':'피처'})\n",
        "  summary['결측값 개수'] = df.isnull().sum().values\n",
        "  summary['고윳값 개수'] = df.nunique().values\n",
        "  summary['첫번째 값'] = df.loc[0].values\n",
        "  summary['두번째 값'] = df.loc[1].values\n",
        "  summary['세번째 값'] = df.loc[2].values\n",
        "\n",
        "  return summary\n",
        "  \n",
        "resumetable(train)"
      ],
      "metadata": {
        "colab": {
          "base_uri": "https://localhost:8080/",
          "height": 475
        },
        "id": "88K7zuGLvjCT",
        "outputId": "84110bd3-f378-48e9-999c-3f0ad8e6cc41"
      },
      "execution_count": 113,
      "outputs": [
        {
          "output_type": "stream",
          "name": "stdout",
          "text": [
            "데이터셋 형상: (25383, 13)\n"
          ]
        },
        {
          "output_type": "execute_result",
          "data": {
            "text/plain": [
              "                  피처   데이터 타입  결측값 개수  고윳값 개수        첫번째 값        두번째 값  \\\n",
              "0                 ID   object       0   25383  TRAIN_00000  TRAIN_00001   \n",
              "1       danceability  float64       0     824       0.3341       0.6344   \n",
              "2             energy  float64       0     852       0.9231       0.5955   \n",
              "3                key    int64       0      12           10           10   \n",
              "4           loudness  float64       0    7687        0.854       0.2826   \n",
              "5        speechiness  float64       0    1344       0.3797       0.1378   \n",
              "6       acousticness  float64       0    1912        0.008          0.0   \n",
              "7   instrumentalness  float64       0    1685       0.0002       0.7137   \n",
              "8           liveness  float64       0    1581       0.7697       0.1597   \n",
              "9            valence  float64       0    1571       0.7902       0.4162   \n",
              "10             tempo  float64       0    4633       0.5391       0.3043   \n",
              "11          duration    int64       0     576          175          513   \n",
              "12             genre   object       0      15         trap       techno   \n",
              "\n",
              "          세번째 값  \n",
              "0   TRAIN_00002  \n",
              "1        0.3983  \n",
              "2        0.1107  \n",
              "3             8  \n",
              "4        0.2459  \n",
              "5        0.0247  \n",
              "6         0.774  \n",
              "7           0.0  \n",
              "8        0.5105  \n",
              "9        0.4291  \n",
              "10       0.2324  \n",
              "11          151  \n",
              "12   Trap Metal  "
            ],
            "text/html": [
              "\n",
              "  <div id=\"df-9211ec16-5059-4c4c-b58a-a8cbe18e0706\">\n",
              "    <div class=\"colab-df-container\">\n",
              "      <div>\n",
              "<style scoped>\n",
              "    .dataframe tbody tr th:only-of-type {\n",
              "        vertical-align: middle;\n",
              "    }\n",
              "\n",
              "    .dataframe tbody tr th {\n",
              "        vertical-align: top;\n",
              "    }\n",
              "\n",
              "    .dataframe thead th {\n",
              "        text-align: right;\n",
              "    }\n",
              "</style>\n",
              "<table border=\"1\" class=\"dataframe\">\n",
              "  <thead>\n",
              "    <tr style=\"text-align: right;\">\n",
              "      <th></th>\n",
              "      <th>피처</th>\n",
              "      <th>데이터 타입</th>\n",
              "      <th>결측값 개수</th>\n",
              "      <th>고윳값 개수</th>\n",
              "      <th>첫번째 값</th>\n",
              "      <th>두번째 값</th>\n",
              "      <th>세번째 값</th>\n",
              "    </tr>\n",
              "  </thead>\n",
              "  <tbody>\n",
              "    <tr>\n",
              "      <th>0</th>\n",
              "      <td>ID</td>\n",
              "      <td>object</td>\n",
              "      <td>0</td>\n",
              "      <td>25383</td>\n",
              "      <td>TRAIN_00000</td>\n",
              "      <td>TRAIN_00001</td>\n",
              "      <td>TRAIN_00002</td>\n",
              "    </tr>\n",
              "    <tr>\n",
              "      <th>1</th>\n",
              "      <td>danceability</td>\n",
              "      <td>float64</td>\n",
              "      <td>0</td>\n",
              "      <td>824</td>\n",
              "      <td>0.3341</td>\n",
              "      <td>0.6344</td>\n",
              "      <td>0.3983</td>\n",
              "    </tr>\n",
              "    <tr>\n",
              "      <th>2</th>\n",
              "      <td>energy</td>\n",
              "      <td>float64</td>\n",
              "      <td>0</td>\n",
              "      <td>852</td>\n",
              "      <td>0.9231</td>\n",
              "      <td>0.5955</td>\n",
              "      <td>0.1107</td>\n",
              "    </tr>\n",
              "    <tr>\n",
              "      <th>3</th>\n",
              "      <td>key</td>\n",
              "      <td>int64</td>\n",
              "      <td>0</td>\n",
              "      <td>12</td>\n",
              "      <td>10</td>\n",
              "      <td>10</td>\n",
              "      <td>8</td>\n",
              "    </tr>\n",
              "    <tr>\n",
              "      <th>4</th>\n",
              "      <td>loudness</td>\n",
              "      <td>float64</td>\n",
              "      <td>0</td>\n",
              "      <td>7687</td>\n",
              "      <td>0.854</td>\n",
              "      <td>0.2826</td>\n",
              "      <td>0.2459</td>\n",
              "    </tr>\n",
              "    <tr>\n",
              "      <th>5</th>\n",
              "      <td>speechiness</td>\n",
              "      <td>float64</td>\n",
              "      <td>0</td>\n",
              "      <td>1344</td>\n",
              "      <td>0.3797</td>\n",
              "      <td>0.1378</td>\n",
              "      <td>0.0247</td>\n",
              "    </tr>\n",
              "    <tr>\n",
              "      <th>6</th>\n",
              "      <td>acousticness</td>\n",
              "      <td>float64</td>\n",
              "      <td>0</td>\n",
              "      <td>1912</td>\n",
              "      <td>0.008</td>\n",
              "      <td>0.0</td>\n",
              "      <td>0.774</td>\n",
              "    </tr>\n",
              "    <tr>\n",
              "      <th>7</th>\n",
              "      <td>instrumentalness</td>\n",
              "      <td>float64</td>\n",
              "      <td>0</td>\n",
              "      <td>1685</td>\n",
              "      <td>0.0002</td>\n",
              "      <td>0.7137</td>\n",
              "      <td>0.0</td>\n",
              "    </tr>\n",
              "    <tr>\n",
              "      <th>8</th>\n",
              "      <td>liveness</td>\n",
              "      <td>float64</td>\n",
              "      <td>0</td>\n",
              "      <td>1581</td>\n",
              "      <td>0.7697</td>\n",
              "      <td>0.1597</td>\n",
              "      <td>0.5105</td>\n",
              "    </tr>\n",
              "    <tr>\n",
              "      <th>9</th>\n",
              "      <td>valence</td>\n",
              "      <td>float64</td>\n",
              "      <td>0</td>\n",
              "      <td>1571</td>\n",
              "      <td>0.7902</td>\n",
              "      <td>0.4162</td>\n",
              "      <td>0.4291</td>\n",
              "    </tr>\n",
              "    <tr>\n",
              "      <th>10</th>\n",
              "      <td>tempo</td>\n",
              "      <td>float64</td>\n",
              "      <td>0</td>\n",
              "      <td>4633</td>\n",
              "      <td>0.5391</td>\n",
              "      <td>0.3043</td>\n",
              "      <td>0.2324</td>\n",
              "    </tr>\n",
              "    <tr>\n",
              "      <th>11</th>\n",
              "      <td>duration</td>\n",
              "      <td>int64</td>\n",
              "      <td>0</td>\n",
              "      <td>576</td>\n",
              "      <td>175</td>\n",
              "      <td>513</td>\n",
              "      <td>151</td>\n",
              "    </tr>\n",
              "    <tr>\n",
              "      <th>12</th>\n",
              "      <td>genre</td>\n",
              "      <td>object</td>\n",
              "      <td>0</td>\n",
              "      <td>15</td>\n",
              "      <td>trap</td>\n",
              "      <td>techno</td>\n",
              "      <td>Trap Metal</td>\n",
              "    </tr>\n",
              "  </tbody>\n",
              "</table>\n",
              "</div>\n",
              "      <button class=\"colab-df-convert\" onclick=\"convertToInteractive('df-9211ec16-5059-4c4c-b58a-a8cbe18e0706')\"\n",
              "              title=\"Convert this dataframe to an interactive table.\"\n",
              "              style=\"display:none;\">\n",
              "        \n",
              "  <svg xmlns=\"http://www.w3.org/2000/svg\" height=\"24px\"viewBox=\"0 0 24 24\"\n",
              "       width=\"24px\">\n",
              "    <path d=\"M0 0h24v24H0V0z\" fill=\"none\"/>\n",
              "    <path d=\"M18.56 5.44l.94 2.06.94-2.06 2.06-.94-2.06-.94-.94-2.06-.94 2.06-2.06.94zm-11 1L8.5 8.5l.94-2.06 2.06-.94-2.06-.94L8.5 2.5l-.94 2.06-2.06.94zm10 10l.94 2.06.94-2.06 2.06-.94-2.06-.94-.94-2.06-.94 2.06-2.06.94z\"/><path d=\"M17.41 7.96l-1.37-1.37c-.4-.4-.92-.59-1.43-.59-.52 0-1.04.2-1.43.59L10.3 9.45l-7.72 7.72c-.78.78-.78 2.05 0 2.83L4 21.41c.39.39.9.59 1.41.59.51 0 1.02-.2 1.41-.59l7.78-7.78 2.81-2.81c.8-.78.8-2.07 0-2.86zM5.41 20L4 18.59l7.72-7.72 1.47 1.35L5.41 20z\"/>\n",
              "  </svg>\n",
              "      </button>\n",
              "      \n",
              "  <style>\n",
              "    .colab-df-container {\n",
              "      display:flex;\n",
              "      flex-wrap:wrap;\n",
              "      gap: 12px;\n",
              "    }\n",
              "\n",
              "    .colab-df-convert {\n",
              "      background-color: #E8F0FE;\n",
              "      border: none;\n",
              "      border-radius: 50%;\n",
              "      cursor: pointer;\n",
              "      display: none;\n",
              "      fill: #1967D2;\n",
              "      height: 32px;\n",
              "      padding: 0 0 0 0;\n",
              "      width: 32px;\n",
              "    }\n",
              "\n",
              "    .colab-df-convert:hover {\n",
              "      background-color: #E2EBFA;\n",
              "      box-shadow: 0px 1px 2px rgba(60, 64, 67, 0.3), 0px 1px 3px 1px rgba(60, 64, 67, 0.15);\n",
              "      fill: #174EA6;\n",
              "    }\n",
              "\n",
              "    [theme=dark] .colab-df-convert {\n",
              "      background-color: #3B4455;\n",
              "      fill: #D2E3FC;\n",
              "    }\n",
              "\n",
              "    [theme=dark] .colab-df-convert:hover {\n",
              "      background-color: #434B5C;\n",
              "      box-shadow: 0px 1px 3px 1px rgba(0, 0, 0, 0.15);\n",
              "      filter: drop-shadow(0px 1px 2px rgba(0, 0, 0, 0.3));\n",
              "      fill: #FFFFFF;\n",
              "    }\n",
              "  </style>\n",
              "\n",
              "      <script>\n",
              "        const buttonEl =\n",
              "          document.querySelector('#df-9211ec16-5059-4c4c-b58a-a8cbe18e0706 button.colab-df-convert');\n",
              "        buttonEl.style.display =\n",
              "          google.colab.kernel.accessAllowed ? 'block' : 'none';\n",
              "\n",
              "        async function convertToInteractive(key) {\n",
              "          const element = document.querySelector('#df-9211ec16-5059-4c4c-b58a-a8cbe18e0706');\n",
              "          const dataTable =\n",
              "            await google.colab.kernel.invokeFunction('convertToInteractive',\n",
              "                                                     [key], {});\n",
              "          if (!dataTable) return;\n",
              "\n",
              "          const docLinkHtml = 'Like what you see? Visit the ' +\n",
              "            '<a target=\"_blank\" href=https://colab.research.google.com/notebooks/data_table.ipynb>data table notebook</a>'\n",
              "            + ' to learn more about interactive tables.';\n",
              "          element.innerHTML = '';\n",
              "          dataTable['output_type'] = 'display_data';\n",
              "          await google.colab.output.renderOutput(dataTable, element);\n",
              "          const docLink = document.createElement('div');\n",
              "          docLink.innerHTML = docLinkHtml;\n",
              "          element.appendChild(docLink);\n",
              "        }\n",
              "      </script>\n",
              "    </div>\n",
              "  </div>\n",
              "  "
            ]
          },
          "metadata": {},
          "execution_count": 113
        }
      ]
    },
    {
      "cell_type": "markdown",
      "source": [
        "object형 데이터가 없음..\n",
        "\n",
        "그나마 key값이 object 데이터와 유사하다.\n",
        "빼고는 수치형인거 같은데"
      ],
      "metadata": {
        "id": "zlK0m9EtdVmx"
      }
    },
    {
      "cell_type": "markdown",
      "source": [
        "#데이터 살피기"
      ],
      "metadata": {
        "id": "lUWE8oNYdTcf"
      }
    },
    {
      "cell_type": "code",
      "source": [
        "def identify_count(df, col):\n",
        "\n",
        "  print(df[col].unique())\n",
        "\n",
        "  print(df[col].value_counts())\n",
        "\n",
        "  sns.countplot(data=df, x=col)\n",
        "  plt.show()"
      ],
      "metadata": {
        "id": "086hvMNHecLn"
      },
      "execution_count": 114,
      "outputs": []
    },
    {
      "cell_type": "code",
      "source": [
        "mpl.rc('font',size=15)\n",
        "sns.displot(train['danceability']);"
      ],
      "metadata": {
        "colab": {
          "base_uri": "https://localhost:8080/",
          "height": 358
        },
        "id": "cOCK9BP3cDan",
        "outputId": "87e74ae4-f898-4350-cc10-d15ebc08bab4"
      },
      "execution_count": 115,
      "outputs": [
        {
          "output_type": "display_data",
          "data": {
            "text/plain": [
              "<Figure size 360x360 with 1 Axes>"
            ],
            "image/png": "[encoded data removed]"
          },
          "metadata": {
            "needs_background": "light"
          }
        }
      ]
    },
    {
      "cell_type": "markdown",
      "source": [
        "데이터의 정규화가 잘되어 있다."
      ],
      "metadata": {
        "id": "msnXpi0gd310"
      }
    },
    {
      "cell_type": "code",
      "source": [
        "mpl.rc('font',size=15)\n",
        "sns.displot(train['energy']);"
      ],
      "metadata": {
        "colab": {
          "base_uri": "https://localhost:8080/",
          "height": 358
        },
        "id": "95SveQvEdLxZ",
        "outputId": "f17a04e6-8fe5-4c9b-f414-6163ca0e5ef3"
      },
      "execution_count": 116,
      "outputs": [
        {
          "output_type": "display_data",
          "data": {
            "text/plain": [
              "<Figure size 360x360 with 1 Axes>"
            ],
            "image/png": "[encoded data removed]"
          },
          "metadata": {
            "needs_background": "light"
          }
        }
      ]
    },
    {
      "cell_type": "markdown",
      "source": [
        "정규분포의 모습이랑 좀 거리가 멀다. 이건 로그화를 해야 할듯"
      ],
      "metadata": {
        "id": "6o9bkkzld_C1"
      }
    },
    {
      "cell_type": "code",
      "source": [
        "\n",
        "sns.displot(np.log(train['energy']))"
      ],
      "metadata": {
        "colab": {
          "base_uri": "https://localhost:8080/",
          "height": 376
        },
        "id": "4jJVmefRBqBo",
        "outputId": "7cc62eaf-7ceb-46f6-ef3f-ff0eafa01b21"
      },
      "execution_count": 117,
      "outputs": [
        {
          "output_type": "execute_result",
          "data": {
            "text/plain": [
              "<seaborn.axisgrid.FacetGrid at 0x7fd51ba0b1f0>"
            ]
          },
          "metadata": {},
          "execution_count": 117
        },
        {
          "output_type": "display_data",
          "data": {
            "text/plain": [
              "<Figure size 360x360 with 1 Axes>"
            ],
            "image/png": "[encoded data removed]"
          },
          "metadata": {
            "needs_background": "light"
          }
        }
      ]
    },
    {
      "cell_type": "code",
      "source": [
        "mpl.rc('font',size=15)\n",
        "sns.displot(train['key']);"
      ],
      "metadata": {
        "colab": {
          "base_uri": "https://localhost:8080/",
          "height": 358
        },
        "id": "9cc6GcKheCu8",
        "outputId": "c65e8edc-b9f6-4d3c-c59c-e5fe5010665e"
      },
      "execution_count": 118,
      "outputs": [
        {
          "output_type": "display_data",
          "data": {
            "text/plain": [
              "<Figure size 360x360 with 1 Axes>"
            ],
            "image/png": "[encoded data removed]"
          },
          "metadata": {
            "needs_background": "light"
          }
        }
      ]
    },
    {
      "cell_type": "markdown",
      "source": [
        "key값은 아무래도 object로 바꾸어야 한다."
      ],
      "metadata": {
        "id": "GXyfQjmNeKuh"
      }
    },
    {
      "cell_type": "code",
      "source": [
        "identify_count(train, 'key')"
      ],
      "metadata": {
        "colab": {
          "base_uri": "https://localhost:8080/",
          "height": 546
        },
        "id": "U-TO1QmfeNhG",
        "outputId": "cb92bf6f-9a9d-4ad2-bcd7-ebc5b199950d"
      },
      "execution_count": 119,
      "outputs": [
        {
          "output_type": "stream",
          "name": "stdout",
          "text": [
            "[10  8  2  5  4  0  7  1  3  6 11  9]\n",
            "1     4486\n",
            "7     2523\n",
            "11    2464\n",
            "6     2298\n",
            "0     2102\n",
            "8     2013\n",
            "9     1973\n",
            "10    1936\n",
            "5     1828\n",
            "2     1826\n",
            "4     1408\n",
            "3      526\n",
            "Name: key, dtype: int64\n"
          ]
        },
        {
          "output_type": "display_data",
          "data": {
            "text/plain": [
              "<Figure size 432x288 with 1 Axes>"
            ],
            "image/png": "[encoded data removed]"
          },
          "metadata": {
            "needs_background": "light"
          }
        }
      ]
    },
    {
      "cell_type": "markdown",
      "source": [
        "1이 차지하는 비중이 가장 높고 3이 가장 낮다."
      ],
      "metadata": {
        "id": "KQL9dBhaerGd"
      }
    },
    {
      "cell_type": "code",
      "source": [
        "mpl.rc('font',size=15)\n",
        "sns.displot(train['loudness']);"
      ],
      "metadata": {
        "colab": {
          "base_uri": "https://localhost:8080/",
          "height": 359
        },
        "id": "iNrAusOaepAg",
        "outputId": "60858773-814b-4c01-ee5b-4ccec270f83b"
      },
      "execution_count": 120,
      "outputs": [
        {
          "output_type": "display_data",
          "data": {
            "text/plain": [
              "<Figure size 360x360 with 1 Axes>"
            ],
            "image/png": "[encoded data removed]"
          },
          "metadata": {
            "needs_background": "light"
          }
        }
      ]
    },
    {
      "cell_type": "markdown",
      "source": [
        "데이터의 정규화가 잘 되어 있다."
      ],
      "metadata": {
        "id": "4LpHxc3GhFIS"
      }
    },
    {
      "cell_type": "code",
      "source": [
        "mpl.rc('font',size=15)\n",
        "sns.displot(train['speechiness']);"
      ],
      "metadata": {
        "colab": {
          "base_uri": "https://localhost:8080/",
          "height": 358
        },
        "id": "cl513FFnhHZE",
        "outputId": "d8ae7216-6ad7-4406-b7d3-6a5be3dec893"
      },
      "execution_count": 121,
      "outputs": [
        {
          "output_type": "display_data",
          "data": {
            "text/plain": [
              "<Figure size 360x360 with 1 Axes>"
            ],
            "image/png": "[encoded data removed]"
          },
          "metadata": {
            "needs_background": "light"
          }
        }
      ]
    },
    {
      "cell_type": "code",
      "source": [
        "sns.displot(np.log(train['speechiness']))"
      ],
      "metadata": {
        "colab": {
          "base_uri": "https://localhost:8080/",
          "height": 377
        },
        "id": "LFYCW-_tCdnw",
        "outputId": "0e30fe28-f116-4cf7-f992-7aa699867b94"
      },
      "execution_count": 122,
      "outputs": [
        {
          "output_type": "execute_result",
          "data": {
            "text/plain": [
              "<seaborn.axisgrid.FacetGrid at 0x7fd51b540520>"
            ]
          },
          "metadata": {},
          "execution_count": 122
        },
        {
          "output_type": "display_data",
          "data": {
            "text/plain": [
              "<Figure size 360x360 with 1 Axes>"
            ],
            "image/png": "[encoded data removed]"
          },
          "metadata": {
            "needs_background": "light"
          }
        }
      ]
    },
    {
      "cell_type": "markdown",
      "source": [
        "이건 로그 변환이 필요함."
      ],
      "metadata": {
        "id": "PGsFGn4lhLRG"
      }
    },
    {
      "cell_type": "code",
      "source": [
        "mpl.rc('font',size=15)\n",
        "sns.displot(train['acousticness']);"
      ],
      "metadata": {
        "colab": {
          "base_uri": "https://localhost:8080/",
          "height": 358
        },
        "id": "tmqY1fv3hMst",
        "outputId": "ed94089d-f582-47ab-8a1e-736b7eea4d54"
      },
      "execution_count": 123,
      "outputs": [
        {
          "output_type": "display_data",
          "data": {
            "text/plain": [
              "<Figure size 360x360 with 1 Axes>"
            ],
            "image/png": "[encoded data removed]"
          },
          "metadata": {
            "needs_background": "light"
          }
        }
      ]
    },
    {
      "cell_type": "markdown",
      "source": [
        "이것도 로그 변환이 필요함."
      ],
      "metadata": {
        "id": "6OoE9OuWhUtM"
      }
    },
    {
      "cell_type": "code",
      "source": [
        "sns.displot(np.log(train['acousticness']))"
      ],
      "metadata": {
        "colab": {
          "base_uri": "https://localhost:8080/",
          "height": 376
        },
        "id": "snwCng2xCApH",
        "outputId": "878dace4-01de-42d3-9f9b-39ef81308c48"
      },
      "execution_count": 124,
      "outputs": [
        {
          "output_type": "execute_result",
          "data": {
            "text/plain": [
              "<seaborn.axisgrid.FacetGrid at 0x7fd51b3946d0>"
            ]
          },
          "metadata": {},
          "execution_count": 124
        },
        {
          "output_type": "display_data",
          "data": {
            "text/plain": [
              "<Figure size 360x360 with 1 Axes>"
            ],
            "image/png": "[encoded data removed]"
          },
          "metadata": {
            "needs_background": "light"
          }
        }
      ]
    },
    {
      "cell_type": "code",
      "source": [
        "mpl.rc('font',size=15)\n",
        "sns.displot(train['instrumentalness']);"
      ],
      "metadata": {
        "colab": {
          "base_uri": "https://localhost:8080/",
          "height": 358
        },
        "id": "R9tIRqtHhV--",
        "outputId": "d8e56aa7-b92e-4356-e3da-0d9696824aa9"
      },
      "execution_count": 125,
      "outputs": [
        {
          "output_type": "display_data",
          "data": {
            "text/plain": [
              "<Figure size 360x360 with 1 Axes>"
            ],
            "image/png": "[encoded data removed]"
          },
          "metadata": {
            "needs_background": "light"
          }
        }
      ]
    },
    {
      "cell_type": "markdown",
      "source": [
        "이것도 로그 변환이 필요함.\n",
        "\n"
      ],
      "metadata": {
        "id": "PsEGfUUUho9h"
      }
    },
    {
      "cell_type": "code",
      "source": [
        "sns.displot(np.log(train['instrumentalness']))"
      ],
      "metadata": {
        "colab": {
          "base_uri": "https://localhost:8080/",
          "height": 377
        },
        "id": "vWeyeo8sCDgh",
        "outputId": "57f49bee-2b60-4222-8eb6-53ce39e5d4c7"
      },
      "execution_count": 126,
      "outputs": [
        {
          "output_type": "execute_result",
          "data": {
            "text/plain": [
              "<seaborn.axisgrid.FacetGrid at 0x7fd51b2197c0>"
            ]
          },
          "metadata": {},
          "execution_count": 126
        },
        {
          "output_type": "display_data",
          "data": {
            "text/plain": [
              "<Figure size 360x360 with 1 Axes>"
            ],
            "image/png": "[encoded data removed]"
          },
          "metadata": {
            "needs_background": "light"
          }
        }
      ]
    },
    {
      "cell_type": "code",
      "source": [
        "mpl.rc('font',size=15)\n",
        "sns.displot(train['liveness']);"
      ],
      "metadata": {
        "colab": {
          "base_uri": "https://localhost:8080/",
          "height": 358
        },
        "id": "qj4ev21KhpS4",
        "outputId": "def4115b-9e4b-4549-ff9b-cbae442c736a"
      },
      "execution_count": 127,
      "outputs": [
        {
          "output_type": "display_data",
          "data": {
            "text/plain": [
              "<Figure size 360x360 with 1 Axes>"
            ],
            "image/png": "[encoded data removed]"
          },
          "metadata": {
            "needs_background": "light"
          }
        }
      ]
    },
    {
      "cell_type": "code",
      "source": [
        "\n",
        "mpl.rc('font',size=15)\n",
        "sns.displot(train['valence']);"
      ],
      "metadata": {
        "colab": {
          "base_uri": "https://localhost:8080/",
          "height": 358
        },
        "id": "zbOFzeWIhtb-",
        "outputId": "d84fd8d4-899c-4a78-a3e7-c12a48a0b883"
      },
      "execution_count": 128,
      "outputs": [
        {
          "output_type": "display_data",
          "data": {
            "text/plain": [
              "<Figure size 360x360 with 1 Axes>"
            ],
            "image/png": "[encoded data removed]"
          },
          "metadata": {
            "needs_background": "light"
          }
        }
      ]
    },
    {
      "cell_type": "code",
      "source": [
        "sns.displot(np.log(train['valence']))"
      ],
      "metadata": {
        "colab": {
          "base_uri": "https://localhost:8080/",
          "height": 376
        },
        "id": "sZG1rjQ9CJvF",
        "outputId": "742ff4ff-cf00-425e-f9b6-f1fd7e19899c"
      },
      "execution_count": 129,
      "outputs": [
        {
          "output_type": "execute_result",
          "data": {
            "text/plain": [
              "<seaborn.axisgrid.FacetGrid at 0x7fd51b2a1b80>"
            ]
          },
          "metadata": {},
          "execution_count": 129
        },
        {
          "output_type": "display_data",
          "data": {
            "text/plain": [
              "<Figure size 360x360 with 1 Axes>"
            ],
            "image/png": "[encoded data removed]"
          },
          "metadata": {
            "needs_background": "light"
          }
        }
      ]
    },
    {
      "cell_type": "markdown",
      "source": [
        "이것도 로그를 취해야 함."
      ],
      "metadata": {
        "id": "I9JSBTcKiDFM"
      }
    },
    {
      "cell_type": "code",
      "source": [
        "mpl.rc('font',size=15)\n",
        "sns.displot(train['tempo']);"
      ],
      "metadata": {
        "colab": {
          "base_uri": "https://localhost:8080/",
          "height": 358
        },
        "id": "aKb1SlCSiIRb",
        "outputId": "99d97211-b3dd-454e-a4a8-68a2ef05f417"
      },
      "execution_count": 130,
      "outputs": [
        {
          "output_type": "display_data",
          "data": {
            "text/plain": [
              "<Figure size 360x360 with 1 Axes>"
            ],
            "image/png": "[encoded data removed]"
          },
          "metadata": {
            "needs_background": "light"
          }
        }
      ]
    },
    {
      "cell_type": "markdown",
      "source": [
        "이건 그나마 양호"
      ],
      "metadata": {
        "id": "R0ThgZ_MiMPf"
      }
    },
    {
      "cell_type": "code",
      "source": [
        "mpl.rc('font',size=15)\n",
        "sns.displot(train['duration']);"
      ],
      "metadata": {
        "colab": {
          "base_uri": "https://localhost:8080/",
          "height": 358
        },
        "id": "6zoexCmiiJae",
        "outputId": "f4c2f9b5-f3ac-4de3-f66d-beaa8b281076"
      },
      "execution_count": 131,
      "outputs": [
        {
          "output_type": "display_data",
          "data": {
            "text/plain": [
              "<Figure size 360x360 with 1 Axes>"
            ],
            "image/png": "[encoded data removed]"
          },
          "metadata": {
            "needs_background": "light"
          }
        }
      ]
    },
    {
      "cell_type": "markdown",
      "source": [
        "이건 양호"
      ],
      "metadata": {
        "id": "WWB96I72iT2_"
      }
    },
    {
      "cell_type": "markdown",
      "source": [
        "데이터를 둘러본 소감..\n",
        "\n",
        "key를 제외하고는 실질적인 object 변수가 없다.\n",
        "\n",
        "다 연속형 데이터임.\n",
        "\n",
        "그리고 거의 다 로그를 취해서 데이터가 정규분포를 가지도록 만들어 줘야함.\n",
        "\n",
        "근데 로그를 써도 별로 달라진게 없다..."
      ],
      "metadata": {
        "id": "1ILOhTgQiXWW"
      }
    },
    {
      "cell_type": "markdown",
      "source": [
        "이거 target 값과 상관관계를 알 수 없음."
      ],
      "metadata": {
        "id": "e4wJZ_ZBCntc"
      }
    },
    {
      "cell_type": "code",
      "source": [
        "train"
      ],
      "metadata": {
        "colab": {
          "base_uri": "https://localhost:8080/",
          "height": 505
        },
        "id": "Zs3fifTdDfIB",
        "outputId": "c83e0d92-e323-49d2-fe92-14f14a8b026e"
      },
      "execution_count": 132,
      "outputs": [
        {
          "output_type": "execute_result",
          "data": {
            "text/plain": [
              "                ID  danceability  energy  key  loudness  speechiness  \\\n",
              "0      TRAIN_00000        0.3341  0.9231   10    0.8540       0.3797   \n",
              "1      TRAIN_00001        0.6344  0.5955   10    0.2826       0.1378   \n",
              "2      TRAIN_00002        0.3983  0.1107    8    0.2459       0.0247   \n",
              "3      TRAIN_00003        0.3139  0.9702    2    0.9252       0.9590   \n",
              "4      TRAIN_00004        0.0735  0.9452    5    0.7702       0.1397   \n",
              "...            ...           ...     ...  ...       ...          ...   \n",
              "25378  TRAIN_25378        0.8814  0.3398    6    0.4602       0.3825   \n",
              "25379  TRAIN_25379        0.7505  0.5657    0    0.6682       0.1038   \n",
              "25380  TRAIN_25380        0.2520  0.7617    8    0.4928       0.0410   \n",
              "25381  TRAIN_25381        0.6202  0.3455    0    0.6499       0.7960   \n",
              "25382  TRAIN_25382        0.8963  0.4435    9    0.6595       0.1336   \n",
              "\n",
              "       acousticness  instrumentalness  liveness  valence   tempo  duration  \\\n",
              "0            0.0080            0.0002    0.7697   0.7902  0.5391       175   \n",
              "1            0.0000            0.7137    0.1597   0.4162  0.3043       513   \n",
              "2            0.7740            0.0000    0.5105   0.4291  0.2324       151   \n",
              "3            0.0371            0.3015    0.2539   0.0577  0.5406       246   \n",
              "4            0.2583            0.0015    0.1774   0.1128  0.3176       229   \n",
              "...             ...               ...       ...      ...     ...       ...   \n",
              "25378        0.4505            0.0000    0.4222   0.8753  0.4081        88   \n",
              "25379        0.1281            0.0000    0.0596   0.9583  0.4273       123   \n",
              "25380        0.0003            0.8395    0.0843   0.1372  0.7828       353   \n",
              "25381        0.4818            0.0000    0.2007   0.0194  0.9756       120   \n",
              "25382        0.4673            0.0000    0.2971   0.3320  0.4069       228   \n",
              "\n",
              "                 genre  \n",
              "0                 trap  \n",
              "1               techno  \n",
              "2           Trap Metal  \n",
              "3                 trap  \n",
              "4            Dark Trap  \n",
              "...                ...  \n",
              "25378  Underground Rap  \n",
              "25379       Trap Metal  \n",
              "25380              dnb  \n",
              "25381        Dark Trap  \n",
              "25382              Rap  \n",
              "\n",
              "[25383 rows x 13 columns]"
            ],
            "text/html": [
              "\n",
              "  <div id=\"df-538d7767-cf3b-4af5-869b-07a0b188dc70\">\n",
              "    <div class=\"colab-df-container\">\n",
              "      <div>\n",
              "<style scoped>\n",
              "    .dataframe tbody tr th:only-of-type {\n",
              "        vertical-align: middle;\n",
              "    }\n",
              "\n",
              "    .dataframe tbody tr th {\n",
              "        vertical-align: top;\n",
              "    }\n",
              "\n",
              "    .dataframe thead th {\n",
              "        text-align: right;\n",
              "    }\n",
              "</style>\n",
              "<table border=\"1\" class=\"dataframe\">\n",
              "  <thead>\n",
              "    <tr style=\"text-align: right;\">\n",
              "      <th></th>\n",
              "      <th>ID</th>\n",
              "      <th>danceability</th>\n",
              "      <th>energy</th>\n",
              "      <th>key</th>\n",
              "      <th>loudness</th>\n",
              "      <th>speechiness</th>\n",
              "      <th>acousticness</th>\n",
              "      <th>instrumentalness</th>\n",
              "      <th>liveness</th>\n",
              "      <th>valence</th>\n",
              "      <th>tempo</th>\n",
              "      <th>duration</th>\n",
              "      <th>genre</th>\n",
              "    </tr>\n",
              "  </thead>\n",
              "  <tbody>\n",
              "    <tr>\n",
              "      <th>0</th>\n",
              "      <td>TRAIN_00000</td>\n",
              "      <td>0.3341</td>\n",
              "      <td>0.9231</td>\n",
              "      <td>10</td>\n",
              "      <td>0.8540</td>\n",
              "      <td>0.3797</td>\n",
              "      <td>0.0080</td>\n",
              "      <td>0.0002</td>\n",
              "      <td>0.7697</td>\n",
              "      <td>0.7902</td>\n",
              "      <td>0.5391</td>\n",
              "      <td>175</td>\n",
              "      <td>trap</td>\n",
              "    </tr>\n",
              "    <tr>\n",
              "      <th>1</th>\n",
              "      <td>TRAIN_00001</td>\n",
              "      <td>0.6344</td>\n",
              "      <td>0.5955</td>\n",
              "      <td>10</td>\n",
              "      <td>0.2826</td>\n",
              "      <td>0.1378</td>\n",
              "      <td>0.0000</td>\n",
              "      <td>0.7137</td>\n",
              "      <td>0.1597</td>\n",
              "      <td>0.4162</td>\n",
              "      <td>0.3043</td>\n",
              "      <td>513</td>\n",
              "      <td>techno</td>\n",
              "    </tr>\n",
              "    <tr>\n",
              "      <th>2</th>\n",
              "      <td>TRAIN_00002</td>\n",
              "      <td>0.3983</td>\n",
              "      <td>0.1107</td>\n",
              "      <td>8</td>\n",
              "      <td>0.2459</td>\n",
              "      <td>0.0247</td>\n",
              "      <td>0.7740</td>\n",
              "      <td>0.0000</td>\n",
              "      <td>0.5105</td>\n",
              "      <td>0.4291</td>\n",
              "      <td>0.2324</td>\n",
              "      <td>151</td>\n",
              "      <td>Trap Metal</td>\n",
              "    </tr>\n",
              "    <tr>\n",
              "      <th>3</th>\n",
              "      <td>TRAIN_00003</td>\n",
              "      <td>0.3139</td>\n",
              "      <td>0.9702</td>\n",
              "      <td>2</td>\n",
              "      <td>0.9252</td>\n",
              "      <td>0.9590</td>\n",
              "      <td>0.0371</td>\n",
              "      <td>0.3015</td>\n",
              "      <td>0.2539</td>\n",
              "      <td>0.0577</td>\n",
              "      <td>0.5406</td>\n",
              "      <td>246</td>\n",
              "      <td>trap</td>\n",
              "    </tr>\n",
              "    <tr>\n",
              "      <th>4</th>\n",
              "      <td>TRAIN_00004</td>\n",
              "      <td>0.0735</td>\n",
              "      <td>0.9452</td>\n",
              "      <td>5</td>\n",
              "      <td>0.7702</td>\n",
              "      <td>0.1397</td>\n",
              "      <td>0.2583</td>\n",
              "      <td>0.0015</td>\n",
              "      <td>0.1774</td>\n",
              "      <td>0.1128</td>\n",
              "      <td>0.3176</td>\n",
              "      <td>229</td>\n",
              "      <td>Dark Trap</td>\n",
              "    </tr>\n",
              "    <tr>\n",
              "      <th>...</th>\n",
              "      <td>...</td>\n",
              "      <td>...</td>\n",
              "      <td>...</td>\n",
              "      <td>...</td>\n",
              "      <td>...</td>\n",
              "      <td>...</td>\n",
              "      <td>...</td>\n",
              "      <td>...</td>\n",
              "      <td>...</td>\n",
              "      <td>...</td>\n",
              "      <td>...</td>\n",
              "      <td>...</td>\n",
              "      <td>...</td>\n",
              "    </tr>\n",
              "    <tr>\n",
              "      <th>25378</th>\n",
              "      <td>TRAIN_25378</td>\n",
              "      <td>0.8814</td>\n",
              "      <td>0.3398</td>\n",
              "      <td>6</td>\n",
              "      <td>0.4602</td>\n",
              "      <td>0.3825</td>\n",
              "      <td>0.4505</td>\n",
              "      <td>0.0000</td>\n",
              "      <td>0.4222</td>\n",
              "      <td>0.8753</td>\n",
              "      <td>0.4081</td>\n",
              "      <td>88</td>\n",
              "      <td>Underground Rap</td>\n",
              "    </tr>\n",
              "    <tr>\n",
              "      <th>25379</th>\n",
              "      <td>TRAIN_25379</td>\n",
              "      <td>0.7505</td>\n",
              "      <td>0.5657</td>\n",
              "      <td>0</td>\n",
              "      <td>0.6682</td>\n",
              "      <td>0.1038</td>\n",
              "      <td>0.1281</td>\n",
              "      <td>0.0000</td>\n",
              "      <td>0.0596</td>\n",
              "      <td>0.9583</td>\n",
              "      <td>0.4273</td>\n",
              "      <td>123</td>\n",
              "      <td>Trap Metal</td>\n",
              "    </tr>\n",
              "    <tr>\n",
              "      <th>25380</th>\n",
              "      <td>TRAIN_25380</td>\n",
              "      <td>0.2520</td>\n",
              "      <td>0.7617</td>\n",
              "      <td>8</td>\n",
              "      <td>0.4928</td>\n",
              "      <td>0.0410</td>\n",
              "      <td>0.0003</td>\n",
              "      <td>0.8395</td>\n",
              "      <td>0.0843</td>\n",
              "      <td>0.1372</td>\n",
              "      <td>0.7828</td>\n",
              "      <td>353</td>\n",
              "      <td>dnb</td>\n",
              "    </tr>\n",
              "    <tr>\n",
              "      <th>25381</th>\n",
              "      <td>TRAIN_25381</td>\n",
              "      <td>0.6202</td>\n",
              "      <td>0.3455</td>\n",
              "      <td>0</td>\n",
              "      <td>0.6499</td>\n",
              "      <td>0.7960</td>\n",
              "      <td>0.4818</td>\n",
              "      <td>0.0000</td>\n",
              "      <td>0.2007</td>\n",
              "      <td>0.0194</td>\n",
              "      <td>0.9756</td>\n",
              "      <td>120</td>\n",
              "      <td>Dark Trap</td>\n",
              "    </tr>\n",
              "    <tr>\n",
              "      <th>25382</th>\n",
              "      <td>TRAIN_25382</td>\n",
              "      <td>0.8963</td>\n",
              "      <td>0.4435</td>\n",
              "      <td>9</td>\n",
              "      <td>0.6595</td>\n",
              "      <td>0.1336</td>\n",
              "      <td>0.4673</td>\n",
              "      <td>0.0000</td>\n",
              "      <td>0.2971</td>\n",
              "      <td>0.3320</td>\n",
              "      <td>0.4069</td>\n",
              "      <td>228</td>\n",
              "      <td>Rap</td>\n",
              "    </tr>\n",
              "  </tbody>\n",
              "</table>\n",
              "<p>25383 rows × 13 columns</p>\n",
              "</div>\n",
              "      <button class=\"colab-df-convert\" onclick=\"convertToInteractive('df-538d7767-cf3b-4af5-869b-07a0b188dc70')\"\n",
              "              title=\"Convert this dataframe to an interactive table.\"\n",
              "              style=\"display:none;\">\n",
              "        \n",
              "  <svg xmlns=\"http://www.w3.org/2000/svg\" height=\"24px\"viewBox=\"0 0 24 24\"\n",
              "       width=\"24px\">\n",
              "    <path d=\"M0 0h24v24H0V0z\" fill=\"none\"/>\n",
              "    <path d=\"M18.56 5.44l.94 2.06.94-2.06 2.06-.94-2.06-.94-.94-2.06-.94 2.06-2.06.94zm-11 1L8.5 8.5l.94-2.06 2.06-.94-2.06-.94L8.5 2.5l-.94 2.06-2.06.94zm10 10l.94 2.06.94-2.06 2.06-.94-2.06-.94-.94-2.06-.94 2.06-2.06.94z\"/><path d=\"M17.41 7.96l-1.37-1.37c-.4-.4-.92-.59-1.43-.59-.52 0-1.04.2-1.43.59L10.3 9.45l-7.72 7.72c-.78.78-.78 2.05 0 2.83L4 21.41c.39.39.9.59 1.41.59.51 0 1.02-.2 1.41-.59l7.78-7.78 2.81-2.81c.8-.78.8-2.07 0-2.86zM5.41 20L4 18.59l7.72-7.72 1.47 1.35L5.41 20z\"/>\n",
              "  </svg>\n",
              "      </button>\n",
              "      \n",
              "  <style>\n",
              "    .colab-df-container {\n",
              "      display:flex;\n",
              "      flex-wrap:wrap;\n",
              "      gap: 12px;\n",
              "    }\n",
              "\n",
              "    .colab-df-convert {\n",
              "      background-color: #E8F0FE;\n",
              "      border: none;\n",
              "      border-radius: 50%;\n",
              "      cursor: pointer;\n",
              "      display: none;\n",
              "      fill: #1967D2;\n",
              "      height: 32px;\n",
              "      padding: 0 0 0 0;\n",
              "      width: 32px;\n",
              "    }\n",
              "\n",
              "    .colab-df-convert:hover {\n",
              "      background-color: #E2EBFA;\n",
              "      box-shadow: 0px 1px 2px rgba(60, 64, 67, 0.3), 0px 1px 3px 1px rgba(60, 64, 67, 0.15);\n",
              "      fill: #174EA6;\n",
              "    }\n",
              "\n",
              "    [theme=dark] .colab-df-convert {\n",
              "      background-color: #3B4455;\n",
              "      fill: #D2E3FC;\n",
              "    }\n",
              "\n",
              "    [theme=dark] .colab-df-convert:hover {\n",
              "      background-color: #434B5C;\n",
              "      box-shadow: 0px 1px 3px 1px rgba(0, 0, 0, 0.15);\n",
              "      filter: drop-shadow(0px 1px 2px rgba(0, 0, 0, 0.3));\n",
              "      fill: #FFFFFF;\n",
              "    }\n",
              "  </style>\n",
              "\n",
              "      <script>\n",
              "        const buttonEl =\n",
              "          document.querySelector('#df-538d7767-cf3b-4af5-869b-07a0b188dc70 button.colab-df-convert');\n",
              "        buttonEl.style.display =\n",
              "          google.colab.kernel.accessAllowed ? 'block' : 'none';\n",
              "\n",
              "        async function convertToInteractive(key) {\n",
              "          const element = document.querySelector('#df-538d7767-cf3b-4af5-869b-07a0b188dc70');\n",
              "          const dataTable =\n",
              "            await google.colab.kernel.invokeFunction('convertToInteractive',\n",
              "                                                     [key], {});\n",
              "          if (!dataTable) return;\n",
              "\n",
              "          const docLinkHtml = 'Like what you see? Visit the ' +\n",
              "            '<a target=\"_blank\" href=https://colab.research.google.com/notebooks/data_table.ipynb>data table notebook</a>'\n",
              "            + ' to learn more about interactive tables.';\n",
              "          element.innerHTML = '';\n",
              "          dataTable['output_type'] = 'display_data';\n",
              "          await google.colab.output.renderOutput(dataTable, element);\n",
              "          const docLink = document.createElement('div');\n",
              "          docLink.innerHTML = docLinkHtml;\n",
              "          element.appendChild(docLink);\n",
              "        }\n",
              "      </script>\n",
              "    </div>\n",
              "  </div>\n",
              "  "
            ]
          },
          "metadata": {},
          "execution_count": 132
        }
      ]
    },
    {
      "cell_type": "code",
      "source": [
        "le = LabelEncoder()"
      ],
      "metadata": {
        "id": "UpAOAEhcCSSl"
      },
      "execution_count": 133,
      "outputs": []
    },
    {
      "cell_type": "code",
      "source": [
        "#상관분석하기\n",
        "#각 변수가 어떤 상관 관계가 있는지. 수치가 높을수록 관계가 있다는 것이다.\n",
        "fig = plt.figure(figsize = (20,10))\n",
        "sns.heatmap(train.corr(), annot = True)\n",
        "plt.show()"
      ],
      "metadata": {
        "colab": {
          "base_uri": "https://localhost:8080/",
          "height": 497
        },
        "id": "Fy3sbmdyDkvh",
        "outputId": "6e88bc7e-ea41-410b-9bf0-02707f7f316c"
      },
      "execution_count": 134,
      "outputs": [
        {
          "output_type": "display_data",
          "data": {
            "text/plain": [
              "<Figure size 1440x720 with 2 Axes>"
            ],
            "image/png": "[encoded data removed]"
          },
          "metadata": {
            "needs_background": "light"
          }
        }
      ]
    },
    {
      "cell_type": "code",
      "source": [
        "train_columns"
      ],
      "metadata": {
        "colab": {
          "base_uri": "https://localhost:8080/",
          "height": 457
        },
        "id": "7blLE3sYDnBp",
        "outputId": "bde5025a-8b47-4184-f811-cb4915da2b0e"
      },
      "execution_count": 135,
      "outputs": [
        {
          "output_type": "execute_result",
          "data": {
            "text/plain": [
              "             columns              info\n",
              "0                 ID               아이디\n",
              "1       danceability  (음악 등이) 댄스에 적합함.\n",
              "2             energy               에너지\n",
              "3                key           키(음높이?)\n",
              "4           loudness            소리의 세기\n",
              "5        speechiness              언어능력\n",
              "6       acousticness              반주구간\n",
              "7   instrumentalness               기약성\n",
              "8           liveness               활기참\n",
              "9            valence               발렌스\n",
              "10             tempo                템포\n",
              "11          duration              재생길이\n",
              "12             genre                장르"
            ],
            "text/html": [
              "\n",
              "  <div id=\"df-b78fc583-82b3-491d-a2ef-41bca1744a12\">\n",
              "    <div class=\"colab-df-container\">\n",
              "      <div>\n",
              "<style scoped>\n",
              "    .dataframe tbody tr th:only-of-type {\n",
              "        vertical-align: middle;\n",
              "    }\n",
              "\n",
              "    .dataframe tbody tr th {\n",
              "        vertical-align: top;\n",
              "    }\n",
              "\n",
              "    .dataframe thead th {\n",
              "        text-align: right;\n",
              "    }\n",
              "</style>\n",
              "<table border=\"1\" class=\"dataframe\">\n",
              "  <thead>\n",
              "    <tr style=\"text-align: right;\">\n",
              "      <th></th>\n",
              "      <th>columns</th>\n",
              "      <th>info</th>\n",
              "    </tr>\n",
              "  </thead>\n",
              "  <tbody>\n",
              "    <tr>\n",
              "      <th>0</th>\n",
              "      <td>ID</td>\n",
              "      <td>아이디</td>\n",
              "    </tr>\n",
              "    <tr>\n",
              "      <th>1</th>\n",
              "      <td>danceability</td>\n",
              "      <td>(음악 등이) 댄스에 적합함.</td>\n",
              "    </tr>\n",
              "    <tr>\n",
              "      <th>2</th>\n",
              "      <td>energy</td>\n",
              "      <td>에너지</td>\n",
              "    </tr>\n",
              "    <tr>\n",
              "      <th>3</th>\n",
              "      <td>key</td>\n",
              "      <td>키(음높이?)</td>\n",
              "    </tr>\n",
              "    <tr>\n",
              "      <th>4</th>\n",
              "      <td>loudness</td>\n",
              "      <td>소리의 세기</td>\n",
              "    </tr>\n",
              "    <tr>\n",
              "      <th>5</th>\n",
              "      <td>speechiness</td>\n",
              "      <td>언어능력</td>\n",
              "    </tr>\n",
              "    <tr>\n",
              "      <th>6</th>\n",
              "      <td>acousticness</td>\n",
              "      <td>반주구간</td>\n",
              "    </tr>\n",
              "    <tr>\n",
              "      <th>7</th>\n",
              "      <td>instrumentalness</td>\n",
              "      <td>기약성</td>\n",
              "    </tr>\n",
              "    <tr>\n",
              "      <th>8</th>\n",
              "      <td>liveness</td>\n",
              "      <td>활기참</td>\n",
              "    </tr>\n",
              "    <tr>\n",
              "      <th>9</th>\n",
              "      <td>valence</td>\n",
              "      <td>발렌스</td>\n",
              "    </tr>\n",
              "    <tr>\n",
              "      <th>10</th>\n",
              "      <td>tempo</td>\n",
              "      <td>템포</td>\n",
              "    </tr>\n",
              "    <tr>\n",
              "      <th>11</th>\n",
              "      <td>duration</td>\n",
              "      <td>재생길이</td>\n",
              "    </tr>\n",
              "    <tr>\n",
              "      <th>12</th>\n",
              "      <td>genre</td>\n",
              "      <td>장르</td>\n",
              "    </tr>\n",
              "  </tbody>\n",
              "</table>\n",
              "</div>\n",
              "      <button class=\"colab-df-convert\" onclick=\"convertToInteractive('df-b78fc583-82b3-491d-a2ef-41bca1744a12')\"\n",
              "              title=\"Convert this dataframe to an interactive table.\"\n",
              "              style=\"display:none;\">\n",
              "        \n",
              "  <svg xmlns=\"http://www.w3.org/2000/svg\" height=\"24px\"viewBox=\"0 0 24 24\"\n",
              "       width=\"24px\">\n",
              "    <path d=\"M0 0h24v24H0V0z\" fill=\"none\"/>\n",
              "    <path d=\"M18.56 5.44l.94 2.06.94-2.06 2.06-.94-2.06-.94-.94-2.06-.94 2.06-2.06.94zm-11 1L8.5 8.5l.94-2.06 2.06-.94-2.06-.94L8.5 2.5l-.94 2.06-2.06.94zm10 10l.94 2.06.94-2.06 2.06-.94-2.06-.94-.94-2.06-.94 2.06-2.06.94z\"/><path d=\"M17.41 7.96l-1.37-1.37c-.4-.4-.92-.59-1.43-.59-.52 0-1.04.2-1.43.59L10.3 9.45l-7.72 7.72c-.78.78-.78 2.05 0 2.83L4 21.41c.39.39.9.59 1.41.59.51 0 1.02-.2 1.41-.59l7.78-7.78 2.81-2.81c.8-.78.8-2.07 0-2.86zM5.41 20L4 18.59l7.72-7.72 1.47 1.35L5.41 20z\"/>\n",
              "  </svg>\n",
              "      </button>\n",
              "      \n",
              "  <style>\n",
              "    .colab-df-container {\n",
              "      display:flex;\n",
              "      flex-wrap:wrap;\n",
              "      gap: 12px;\n",
              "    }\n",
              "\n",
              "    .colab-df-convert {\n",
              "      background-color: #E8F0FE;\n",
              "      border: none;\n",
              "      border-radius: 50%;\n",
              "      cursor: pointer;\n",
              "      display: none;\n",
              "      fill: #1967D2;\n",
              "      height: 32px;\n",
              "      padding: 0 0 0 0;\n",
              "      width: 32px;\n",
              "    }\n",
              "\n",
              "    .colab-df-convert:hover {\n",
              "      background-color: #E2EBFA;\n",
              "      box-shadow: 0px 1px 2px rgba(60, 64, 67, 0.3), 0px 1px 3px 1px rgba(60, 64, 67, 0.15);\n",
              "      fill: #174EA6;\n",
              "    }\n",
              "\n",
              "    [theme=dark] .colab-df-convert {\n",
              "      background-color: #3B4455;\n",
              "      fill: #D2E3FC;\n",
              "    }\n",
              "\n",
              "    [theme=dark] .colab-df-convert:hover {\n",
              "      background-color: #434B5C;\n",
              "      box-shadow: 0px 1px 3px 1px rgba(0, 0, 0, 0.15);\n",
              "      filter: drop-shadow(0px 1px 2px rgba(0, 0, 0, 0.3));\n",
              "      fill: #FFFFFF;\n",
              "    }\n",
              "  </style>\n",
              "\n",
              "      <script>\n",
              "        const buttonEl =\n",
              "          document.querySelector('#df-b78fc583-82b3-491d-a2ef-41bca1744a12 button.colab-df-convert');\n",
              "        buttonEl.style.display =\n",
              "          google.colab.kernel.accessAllowed ? 'block' : 'none';\n",
              "\n",
              "        async function convertToInteractive(key) {\n",
              "          const element = document.querySelector('#df-b78fc583-82b3-491d-a2ef-41bca1744a12');\n",
              "          const dataTable =\n",
              "            await google.colab.kernel.invokeFunction('convertToInteractive',\n",
              "                                                     [key], {});\n",
              "          if (!dataTable) return;\n",
              "\n",
              "          const docLinkHtml = 'Like what you see? Visit the ' +\n",
              "            '<a target=\"_blank\" href=https://colab.research.google.com/notebooks/data_table.ipynb>data table notebook</a>'\n",
              "            + ' to learn more about interactive tables.';\n",
              "          element.innerHTML = '';\n",
              "          dataTable['output_type'] = 'display_data';\n",
              "          await google.colab.output.renderOutput(dataTable, element);\n",
              "          const docLink = document.createElement('div');\n",
              "          docLink.innerHTML = docLinkHtml;\n",
              "          element.appendChild(docLink);\n",
              "        }\n",
              "      </script>\n",
              "    </div>\n",
              "  </div>\n",
              "  "
            ]
          },
          "metadata": {},
          "execution_count": 135
        }
      ]
    },
    {
      "cell_type": "code",
      "source": [
        "sns.barplot(x='genre',y = 'energy',data=train)\n"
      ],
      "metadata": {
        "colab": {
          "base_uri": "https://localhost:8080/",
          "height": 307
        },
        "id": "7x8CxjztEAQS",
        "outputId": "8518f171-72b9-4cac-b51a-8535e0b3c020"
      },
      "execution_count": 136,
      "outputs": [
        {
          "output_type": "execute_result",
          "data": {
            "text/plain": [
              "<matplotlib.axes._subplots.AxesSubplot at 0x7fd51b934310>"
            ]
          },
          "metadata": {},
          "execution_count": 136
        },
        {
          "output_type": "display_data",
          "data": {
            "text/plain": [
              "<Figure size 432x288 with 1 Axes>"
            ],
            "image/png": "[encoded data removed]"
          },
          "metadata": {
            "needs_background": "light"
          }
        }
      ]
    },
    {
      "cell_type": "code",
      "source": [
        "sns.barplot(x='genre',y = 'instrumentalness',data=train)"
      ],
      "metadata": {
        "colab": {
          "base_uri": "https://localhost:8080/",
          "height": 307
        },
        "id": "IBsCWezIEEVU",
        "outputId": "5828065e-5129-4dd9-b863-49feef3ad3c5"
      },
      "execution_count": 137,
      "outputs": [
        {
          "output_type": "execute_result",
          "data": {
            "text/plain": [
              "<matplotlib.axes._subplots.AxesSubplot at 0x7fd52a51c970>"
            ]
          },
          "metadata": {},
          "execution_count": 137
        },
        {
          "output_type": "display_data",
          "data": {
            "text/plain": [
              "<Figure size 432x288 with 1 Axes>"
            ],
            "image/png": "[encoded data removed]"
          },
          "metadata": {
            "needs_background": "light"
          }
        }
      ]
    },
    {
      "cell_type": "code",
      "source": [
        "sns.barplot(x='genre',y = 'duration',data=train)"
      ],
      "metadata": {
        "colab": {
          "base_uri": "https://localhost:8080/",
          "height": 307
        },
        "id": "9ym8vJnrEmd5",
        "outputId": "01fb5304-ab18-4031-b69d-51b615dbf8df"
      },
      "execution_count": 138,
      "outputs": [
        {
          "output_type": "execute_result",
          "data": {
            "text/plain": [
              "<matplotlib.axes._subplots.AxesSubplot at 0x7fd51b120c10>"
            ]
          },
          "metadata": {},
          "execution_count": 138
        },
        {
          "output_type": "display_data",
          "data": {
            "text/plain": [
              "<Figure size 432x288 with 1 Axes>"
            ],
            "image/png": "[encoded data removed]"
          },
          "metadata": {
            "needs_background": "light"
          }
        }
      ]
    },
    {
      "cell_type": "code",
      "source": [
        "sns.barplot(x='genre',y = 'acousticness',data=train)"
      ],
      "metadata": {
        "colab": {
          "base_uri": "https://localhost:8080/",
          "height": 307
        },
        "id": "PjlU4osDE43o",
        "outputId": "dd1ef689-a74b-4c55-a311-55744d8829fb"
      },
      "execution_count": 139,
      "outputs": [
        {
          "output_type": "execute_result",
          "data": {
            "text/plain": [
              "<matplotlib.axes._subplots.AxesSubplot at 0x7fd51afd8c40>"
            ]
          },
          "metadata": {},
          "execution_count": 139
        },
        {
          "output_type": "display_data",
          "data": {
            "text/plain": [
              "<Figure size 432x288 with 1 Axes>"
            ],
            "image/png": "[encoded data removed]"
          },
          "metadata": {
            "needs_background": "light"
          }
        }
      ]
    },
    {
      "cell_type": "code",
      "source": [
        "from lightgbm import LGBMClassifier"
      ],
      "metadata": {
        "id": "-cmzsE7wRlH7"
      },
      "execution_count": 140,
      "outputs": []
    },
    {
      "cell_type": "code",
      "source": [
        "xgb = LGBMClassifier()"
      ],
      "metadata": {
        "id": "vodTrVJNRpVD"
      },
      "execution_count": 141,
      "outputs": []
    },
    {
      "cell_type": "code",
      "source": [
        "# X는 독립변수이므로 종속변수를 제거합니다. 또한 target 이외의 문자열 데이터를 제거합니다.\n",
        "X = train.drop([\"ID\", \"genre\"], axis = 1)\n",
        "# y는 종속변수로 값을 설정합니다.\n",
        "y = train[['genre']]\n",
        "\n",
        "# train에서와 마찬가지로 문자열이 포함된 특성은 제거합니다.\n",
        "test = test.drop([\"ID\"], axis = 1)"
      ],
      "metadata": {
        "id": "O2yVTq1CRsO4"
      },
      "execution_count": 142,
      "outputs": []
    },
    {
      "cell_type": "code",
      "source": [
        "X_train, X_valid, y_train, y_valid = train_test_split(X, y, test_size = 0.2)"
      ],
      "metadata": {
        "id": "mnZZ7LgQR4-j"
      },
      "execution_count": 143,
      "outputs": []
    },
    {
      "cell_type": "code",
      "source": [
        "xgb.fit(X_train,y_train)"
      ],
      "metadata": {
        "colab": {
          "base_uri": "https://localhost:8080/"
        },
        "id": "SYriXrNsR6je",
        "outputId": "9742b733-c2a3-45f1-c3f6-4a5ad18c64a3"
      },
      "execution_count": 144,
      "outputs": [
        {
          "output_type": "execute_result",
          "data": {
            "text/plain": [
              "LGBMClassifier()"
            ]
          },
          "metadata": {},
          "execution_count": 144
        }
      ]
    },
    {
      "cell_type": "code",
      "source": [
        "val_pred = xgb.predict(X_valid)\n",
        "\n",
        "# Macro f1 score을 사용하기 위해 average 인자 값을 \"macro\" 로 설정해줍니다.\n",
        "print(\"현재 Macro F1 Score의 검증 점수는 {}입니다.\".format(f1_score(val_pred, y_valid, average = \"macro\")))"
      ],
      "metadata": {
        "colab": {
          "base_uri": "https://localhost:8080/"
        },
        "id": "9bNliMVyR94n",
        "outputId": "b5bd3016-a3c1-4a92-e635-91ec247cb7ac"
      },
      "execution_count": 145,
      "outputs": [
        {
          "output_type": "stream",
          "name": "stdout",
          "text": [
            "현재 Macro F1 Score의 검증 점수는 0.6446763274183817입니다.\n"
          ]
        }
      ]
    },
    {
      "cell_type": "code",
      "source": [
        "pred = xgb.predict(test)"
      ],
      "metadata": {
        "id": "M1yG7EXjSEEC"
      },
      "execution_count": 146,
      "outputs": []
    },
    {
      "cell_type": "code",
      "source": [
        "submission = pd.read_csv(\"./sample_submission.csv\")\n",
        "submission[\"genre\"] = pred"
      ],
      "metadata": {
        "id": "JHbLh-5ASHT7"
      },
      "execution_count": 147,
      "outputs": []
    },
    {
      "cell_type": "code",
      "source": [
        "submission"
      ],
      "metadata": {
        "colab": {
          "base_uri": "https://localhost:8080/",
          "height": 424
        },
        "id": "8ed_CTxDSIsT",
        "outputId": "ed8d86db-336f-40db-d2c7-cb8a8eb35c48"
      },
      "execution_count": 148,
      "outputs": [
        {
          "output_type": "execute_result",
          "data": {
            "text/plain": [
              "               ID            genre\n",
              "0      TEST_00000           Hiphop\n",
              "1      TEST_00001  Underground Rap\n",
              "2      TEST_00002              Emo\n",
              "3      TEST_00003        techhouse\n",
              "4      TEST_00004              RnB\n",
              "...           ...              ...\n",
              "16917  TEST_16917        techhouse\n",
              "16918  TEST_16918           Hiphop\n",
              "16919  TEST_16919        hardstyle\n",
              "16920  TEST_16920        psytrance\n",
              "16921  TEST_16921  Underground Rap\n",
              "\n",
              "[16922 rows x 2 columns]"
            ],
            "text/html": [
              "\n",
              "  <div id=\"df-7294e292-2caf-4062-be72-a5503fd67f9f\">\n",
              "    <div class=\"colab-df-container\">\n",
              "      <div>\n",
              "<style scoped>\n",
              "    .dataframe tbody tr th:only-of-type {\n",
              "        vertical-align: middle;\n",
              "    }\n",
              "\n",
              "    .dataframe tbody tr th {\n",
              "        vertical-align: top;\n",
              "    }\n",
              "\n",
              "    .dataframe thead th {\n",
              "        text-align: right;\n",
              "    }\n",
              "</style>\n",
              "<table border=\"1\" class=\"dataframe\">\n",
              "  <thead>\n",
              "    <tr style=\"text-align: right;\">\n",
              "      <th></th>\n",
              "      <th>ID</th>\n",
              "      <th>genre</th>\n",
              "    </tr>\n",
              "  </thead>\n",
              "  <tbody>\n",
              "    <tr>\n",
              "      <th>0</th>\n",
              "      <td>TEST_00000</td>\n",
              "      <td>Hiphop</td>\n",
              "    </tr>\n",
              "    <tr>\n",
              "      <th>1</th>\n",
              "      <td>TEST_00001</td>\n",
              "      <td>Underground Rap</td>\n",
              "    </tr>\n",
              "    <tr>\n",
              "      <th>2</th>\n",
              "      <td>TEST_00002</td>\n",
              "      <td>Emo</td>\n",
              "    </tr>\n",
              "    <tr>\n",
              "      <th>3</th>\n",
              "      <td>TEST_00003</td>\n",
              "      <td>techhouse</td>\n",
              "    </tr>\n",
              "    <tr>\n",
              "      <th>4</th>\n",
              "      <td>TEST_00004</td>\n",
              "      <td>RnB</td>\n",
              "    </tr>\n",
              "    <tr>\n",
              "      <th>...</th>\n",
              "      <td>...</td>\n",
              "      <td>...</td>\n",
              "    </tr>\n",
              "    <tr>\n",
              "      <th>16917</th>\n",
              "      <td>TEST_16917</td>\n",
              "      <td>techhouse</td>\n",
              "    </tr>\n",
              "    <tr>\n",
              "      <th>16918</th>\n",
              "      <td>TEST_16918</td>\n",
              "      <td>Hiphop</td>\n",
              "    </tr>\n",
              "    <tr>\n",
              "      <th>16919</th>\n",
              "      <td>TEST_16919</td>\n",
              "      <td>hardstyle</td>\n",
              "    </tr>\n",
              "    <tr>\n",
              "      <th>16920</th>\n",
              "      <td>TEST_16920</td>\n",
              "      <td>psytrance</td>\n",
              "    </tr>\n",
              "    <tr>\n",
              "      <th>16921</th>\n",
              "      <td>TEST_16921</td>\n",
              "      <td>Underground Rap</td>\n",
              "    </tr>\n",
              "  </tbody>\n",
              "</table>\n",
              "<p>16922 rows × 2 columns</p>\n",
              "</div>\n",
              "      <button class=\"colab-df-convert\" onclick=\"convertToInteractive('df-7294e292-2caf-4062-be72-a5503fd67f9f')\"\n",
              "              title=\"Convert this dataframe to an interactive table.\"\n",
              "              style=\"display:none;\">\n",
              "        \n",
              "  <svg xmlns=\"http://www.w3.org/2000/svg\" height=\"24px\"viewBox=\"0 0 24 24\"\n",
              "       width=\"24px\">\n",
              "    <path d=\"M0 0h24v24H0V0z\" fill=\"none\"/>\n",
              "    <path d=\"M18.56 5.44l.94 2.06.94-2.06 2.06-.94-2.06-.94-.94-2.06-.94 2.06-2.06.94zm-11 1L8.5 8.5l.94-2.06 2.06-.94-2.06-.94L8.5 2.5l-.94 2.06-2.06.94zm10 10l.94 2.06.94-2.06 2.06-.94-2.06-.94-.94-2.06-.94 2.06-2.06.94z\"/><path d=\"M17.41 7.96l-1.37-1.37c-.4-.4-.92-.59-1.43-.59-.52 0-1.04.2-1.43.59L10.3 9.45l-7.72 7.72c-.78.78-.78 2.05 0 2.83L4 21.41c.39.39.9.59 1.41.59.51 0 1.02-.2 1.41-.59l7.78-7.78 2.81-2.81c.8-.78.8-2.07 0-2.86zM5.41 20L4 18.59l7.72-7.72 1.47 1.35L5.41 20z\"/>\n",
              "  </svg>\n",
              "      </button>\n",
              "      \n",
              "  <style>\n",
              "    .colab-df-container {\n",
              "      display:flex;\n",
              "      flex-wrap:wrap;\n",
              "      gap: 12px;\n",
              "    }\n",
              "\n",
              "    .colab-df-convert {\n",
              "      background-color: #E8F0FE;\n",
              "      border: none;\n",
              "      border-radius: 50%;\n",
              "      cursor: pointer;\n",
              "      display: none;\n",
              "      fill: #1967D2;\n",
              "      height: 32px;\n",
              "      padding: 0 0 0 0;\n",
              "      width: 32px;\n",
              "    }\n",
              "\n",
              "    .colab-df-convert:hover {\n",
              "      background-color: #E2EBFA;\n",
              "      box-shadow: 0px 1px 2px rgba(60, 64, 67, 0.3), 0px 1px 3px 1px rgba(60, 64, 67, 0.15);\n",
              "      fill: #174EA6;\n",
              "    }\n",
              "\n",
              "    [theme=dark] .colab-df-convert {\n",
              "      background-color: #3B4455;\n",
              "      fill: #D2E3FC;\n",
              "    }\n",
              "\n",
              "    [theme=dark] .colab-df-convert:hover {\n",
              "      background-color: #434B5C;\n",
              "      box-shadow: 0px 1px 3px 1px rgba(0, 0, 0, 0.15);\n",
              "      filter: drop-shadow(0px 1px 2px rgba(0, 0, 0, 0.3));\n",
              "      fill: #FFFFFF;\n",
              "    }\n",
              "  </style>\n",
              "\n",
              "      <script>\n",
              "        const buttonEl =\n",
              "          document.querySelector('#df-7294e292-2caf-4062-be72-a5503fd67f9f button.colab-df-convert');\n",
              "        buttonEl.style.display =\n",
              "          google.colab.kernel.accessAllowed ? 'block' : 'none';\n",
              "\n",
              "        async function convertToInteractive(key) {\n",
              "          const element = document.querySelector('#df-7294e292-2caf-4062-be72-a5503fd67f9f');\n",
              "          const dataTable =\n",
              "            await google.colab.kernel.invokeFunction('convertToInteractive',\n",
              "                                                     [key], {});\n",
              "          if (!dataTable) return;\n",
              "\n",
              "          const docLinkHtml = 'Like what you see? Visit the ' +\n",
              "            '<a target=\"_blank\" href=https://colab.research.google.com/notebooks/data_table.ipynb>data table notebook</a>'\n",
              "            + ' to learn more about interactive tables.';\n",
              "          element.innerHTML = '';\n",
              "          dataTable['output_type'] = 'display_data';\n",
              "          await google.colab.output.renderOutput(dataTable, element);\n",
              "          const docLink = document.createElement('div');\n",
              "          docLink.innerHTML = docLinkHtml;\n",
              "          element.appendChild(docLink);\n",
              "        }\n",
              "      </script>\n",
              "    </div>\n",
              "  </div>\n",
              "  "
            ]
          },
          "metadata": {},
          "execution_count": 148
        }
      ]
    },
    {
      "cell_type": "code",
      "source": [
        "# 해당 파일을 다운로드 받아서 제출해주세요.\n",
        "submission.to_csv(\"./submit.csv\", index = False)"
      ],
      "metadata": {
        "id": "BLiWuFgHSKX_"
      },
      "execution_count": 149,
      "outputs": []
    },
    {
      "cell_type": "markdown",
      "source": [
        "val  0.6446763274183817 real 0.6473848994"
      ],
      "metadata": {
        "id": "T3WRXGaISsvN"
      }
    },
    {
      "cell_type": "code",
      "source": [],
      "metadata": {
        "id": "AzGBsOxpSx8g"
      },
      "execution_count": 149,
      "outputs": []
    },
    {
      "cell_type": "code",
      "source": [],
      "metadata": {
        "id": "-QX1DBgeTkE_"
      },
      "execution_count": null,
      "outputs": []
    }
  ]
}