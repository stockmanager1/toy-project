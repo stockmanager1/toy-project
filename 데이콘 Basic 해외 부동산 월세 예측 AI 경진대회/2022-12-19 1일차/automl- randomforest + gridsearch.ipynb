{
  "cells": [
    {
      "cell_type": "markdown",
      "id": "a57a5a2d",
      "metadata": {
        "id": "a57a5a2d"
      },
      "source": [
        "#### 이번 대회에서는 범주형 변수 전처리를 위해 One-Hot Encoding과 for문을 사용했습니다.\n",
        "\n",
        "#### 이는 train data로 fit한 One-Hot Encoder로 test data를 transform할 경우,\n",
        "#### train data에는 속하지 않은 데이터가 test data에 있을 가능성이 있어 에러가 발생할 수 있기 때문입니다.\n",
        "\n",
        "#### 이를 방지하기 위해 예외적인 상황에 대처할 수 있는 코드를 삽입해서 이중 for문을 작성했습니다.\n",
        "#### 참고해 주시길 바랍니다."
      ]
    },
    {
      "cell_type": "markdown",
      "id": "2cddb841",
      "metadata": {
        "id": "2cddb841"
      },
      "source": [
        "# Import"
      ]
    },
    {
      "cell_type": "code",
      "execution_count": 1,
      "id": "22da787b",
      "metadata": {
        "id": "22da787b"
      },
      "outputs": [],
      "source": [
        "import pandas as pd\n",
        "import random\n",
        "import os\n",
        "import numpy as np\n",
        "\n",
        "from sklearn.preprocessing import OneHotEncoder\n",
        "from sklearn.linear_model import Ridge"
      ]
    },
    {
      "cell_type": "markdown",
      "id": "079ea5f6",
      "metadata": {
        "id": "079ea5f6"
      },
      "source": [
        "# Fixed RandomSeed"
      ]
    },
    {
      "cell_type": "code",
      "execution_count": 2,
      "id": "90a9651d",
      "metadata": {
        "id": "90a9651d"
      },
      "outputs": [],
      "source": [
        "def seed_everything(seed):\n",
        "    random.seed(seed)\n",
        "    os.environ['PYTHONHASHSEED'] = str(seed)\n",
        "    np.random.seed(seed)\n",
        "\n",
        "seed_everything(42) # Seed 고정"
      ]
    },
    {
      "cell_type": "markdown",
      "id": "413664e3",
      "metadata": {
        "id": "413664e3"
      },
      "source": [
        "# Data Load"
      ]
    },
    {
      "cell_type": "code",
      "source": [
        "from google.colab import drive\n",
        "drive.mount('/content/gdrive/')"
      ],
      "metadata": {
        "colab": {
          "base_uri": "https://localhost:8080/"
        },
        "id": "iId0gznQjdoG",
        "outputId": "db78498e-c89c-4f11-c38b-a9020579ea93"
      },
      "id": "iId0gznQjdoG",
      "execution_count": 3,
      "outputs": [
        {
          "output_type": "stream",
          "name": "stdout",
          "text": [
            "Mounted at /content/gdrive/\n"
          ]
        }
      ]
    },
    {
      "cell_type": "code",
      "source": [
        "!unzip -qq \"/content/gdrive/MyDrive/브동산.zip\""
      ],
      "metadata": {
        "colab": {
          "base_uri": "https://localhost:8080/"
        },
        "id": "_CN-KQJZjf4f",
        "outputId": "03b45dda-10d6-4889-ad73-f0953b8a4d4e"
      },
      "id": "_CN-KQJZjf4f",
      "execution_count": 46,
      "outputs": [
        {
          "output_type": "stream",
          "name": "stdout",
          "text": [
            "replace sample_submission.csv? [y]es, [n]o, [A]ll, [N]one, [r]ename: "
          ]
        }
      ]
    },
    {
      "cell_type": "code",
      "execution_count": 47,
      "id": "22641ae7",
      "metadata": {
        "id": "22641ae7"
      },
      "outputs": [],
      "source": [
        "train_df = pd.read_csv('/content/train.csv')"
      ]
    },
    {
      "cell_type": "code",
      "execution_count": 48,
      "id": "ac7af78a",
      "metadata": {
        "id": "ac7af78a"
      },
      "outputs": [],
      "source": [
        "train_x = train_df.drop(columns=['ID'])\n",
        "train_y = train_df['monthlyRent(us_dollar)']"
      ]
    },
    {
      "cell_type": "code",
      "execution_count": 49,
      "id": "becc4f5a",
      "metadata": {
        "id": "becc4f5a"
      },
      "outputs": [],
      "source": [
        "test_x =  pd.read_csv('/content/test.csv').drop(columns=['ID'])"
      ]
    },
    {
      "cell_type": "markdown",
      "id": "bd929026",
      "metadata": {
        "id": "bd929026"
      },
      "source": [
        "# Data Pre-processing\n",
        "\n",
        "#### 범주형 변수는 크게 명목형 변수와 순서형 변수로 나눌 수 있습니다.\n",
        "#### 순서형 변수의 경우 그 순서대로 수치값을 레이블로 부여하여 간단히 수치화 할 수 있지만,\n",
        "#### 명목형 변수의 경우 값들의 순서 관계가 없어 수치 레이블링으로는 그 관계를 정확히 표현할 수 없습니다.\n",
        "#### 그렇기에 명목형 변수의 경우 값들 각각을 새로운 컬럼으로 만들고, 원래 해당하던 값에는 1을,\n",
        "#### 아닐 경우 0을 부여하는 One-Hot Encoding 방법이 존재합니다. "
      ]
    },
    {
      "cell_type": "code",
      "execution_count": 50,
      "id": "b4655134",
      "metadata": {
        "colab": {
          "base_uri": "https://localhost:8080/"
        },
        "id": "b4655134",
        "outputId": "92276211-4f02-4a44-8ae7-8cc7f9f2711c"
      },
      "outputs": [
        {
          "output_type": "stream",
          "name": "stdout",
          "text": [
            "Done.\n"
          ]
        }
      ],
      "source": [
        "# qualitative column one-hot encoding\n",
        "qual_col = ['propertyType','suburbName']\n",
        "ohe = OneHotEncoder(sparse=False)\n",
        "\n",
        "for i in qual_col:\n",
        "    train_x = pd.concat([train_x, pd.DataFrame(ohe.fit_transform(train_x[[i]]), columns=ohe.categories_[0])], axis=1)\n",
        "    \n",
        "    for qual_value in np.unique(test_x[i]): \n",
        "        if qual_value not in np.unique(ohe.categories_): \n",
        "            ohe.categories_ = np.append(ohe.categories_, qual_value)\n",
        "    # One Hot Encoder가 Test 데이터로부터 Fitting되는 것은 Data Leakage이므로, Test 데이터에는 Train 데이터로 Fitting된 One Hot Encoder로부터 transform만 수행되어야 합니다.\n",
        "    test_x = pd.concat([test_x, pd.DataFrame(ohe.transform(test_x[[i]]), columns=ohe.categories_[0])], axis=1)\n",
        "    \n",
        "train_x = train_x.drop(qual_col, axis=1)\n",
        "test_x = test_x.drop(qual_col, axis=1)\n",
        "print('Done.')"
      ]
    },
    {
      "cell_type": "code",
      "source": [
        "!pip install --pre pycaret"
      ],
      "metadata": {
        "colab": {
          "base_uri": "https://localhost:8080/",
          "height": 1000
        },
        "id": "sxU_63yVvkL1",
        "outputId": "7e8dd8a4-4648-4526-e502-5941087ce30d"
      },
      "id": "sxU_63yVvkL1",
      "execution_count": 40,
      "outputs": [
        {
          "output_type": "stream",
          "name": "stdout",
          "text": [
            "Looking in indexes: https://pypi.org/simple, https://us-python.pkg.dev/colab-wheels/public/simple/\n",
            "Collecting pycaret\n",
            "  Downloading pycaret-3.0.0rc5-py3-none-any.whl (501 kB)\n",
            "\u001b[K     |████████████████████████████████| 501 kB 5.1 MB/s \n",
            "\u001b[?25hRequirement already satisfied: ipywidgets>=7.6.5 in /usr/local/lib/python3.8/dist-packages (from pycaret) (7.7.1)\n",
            "Collecting plotly-resampler>=0.7.2.2\n",
            "  Downloading plotly_resampler-0.8.3.tar.gz (45 kB)\n",
            "\u001b[K     |████████████████████████████████| 45 kB 3.6 MB/s \n",
            "\u001b[?25h  Installing build dependencies ... \u001b[?25l\u001b[?25hdone\n",
            "  Getting requirements to build wheel ... \u001b[?25l\u001b[?25hdone\n",
            "    Preparing wheel metadata ... \u001b[?25l\u001b[?25hdone\n",
            "Collecting psutil>=5.9.0\n",
            "  Downloading psutil-5.9.4-cp36-abi3-manylinux_2_12_x86_64.manylinux2010_x86_64.manylinux_2_17_x86_64.manylinux2014_x86_64.whl (280 kB)\n",
            "\u001b[K     |████████████████████████████████| 280 kB 42.2 MB/s \n",
            "\u001b[?25hRequirement already satisfied: yellowbrick>=1.4 in /usr/local/lib/python3.8/dist-packages (from pycaret) (1.5)\n",
            "Requirement already satisfied: plotly>=5.0.0 in /usr/local/lib/python3.8/dist-packages (from pycaret) (5.5.0)\n",
            "Requirement already satisfied: numba>=0.55.0 in /usr/local/lib/python3.8/dist-packages (from pycaret) (0.56.4)\n",
            "Requirement already satisfied: tqdm>=4.62.0 in /usr/local/lib/python3.8/dist-packages (from pycaret) (4.64.1)\n",
            "Requirement already satisfied: pandas<1.6.0,>=1.3.0 in /usr/local/lib/python3.8/dist-packages (from pycaret) (1.3.5)\n",
            "Requirement already satisfied: jinja2>=1.2 in /usr/local/lib/python3.8/dist-packages (from pycaret) (2.11.3)\n",
            "Collecting scikit-plot>=0.3.7\n",
            "  Downloading scikit_plot-0.3.7-py3-none-any.whl (33 kB)\n",
            "Requirement already satisfied: importlib-metadata>=4.12.0 in /usr/local/lib/python3.8/dist-packages (from pycaret) (5.1.0)\n",
            "Collecting sktime>=0.14.0\n",
            "  Downloading sktime-0.14.1-py3-none-any.whl (15.9 MB)\n",
            "\u001b[K     |████████████████████████████████| 15.9 MB 62.2 MB/s \n",
            "\u001b[?25hRequirement already satisfied: statsmodels>=0.12.1 in /usr/local/lib/python3.8/dist-packages (from pycaret) (0.12.2)\n",
            "Collecting pmdarima!=1.8.1,<3.0.0,>=1.8.0\n",
            "  Downloading pmdarima-2.0.2-cp38-cp38-manylinux_2_17_x86_64.manylinux2014_x86_64.manylinux_2_28_x86_64.whl (1.9 MB)\n",
            "\u001b[K     |████████████████████████████████| 1.9 MB 49.9 MB/s \n",
            "\u001b[?25hCollecting pyod>=0.9.8\n",
            "  Downloading pyod-1.0.7.tar.gz (147 kB)\n",
            "\u001b[K     |████████████████████████████████| 147 kB 65.2 MB/s \n",
            "\u001b[?25hCollecting matplotlib>=3.3.0\n",
            "  Downloading matplotlib-3.6.2-cp38-cp38-manylinux_2_12_x86_64.manylinux2010_x86_64.whl (9.4 MB)\n",
            "\u001b[K     |████████████████████████████████| 9.4 MB 44.6 MB/s \n",
            "\u001b[?25hRequirement already satisfied: imbalanced-learn>=0.8.1 in /usr/local/lib/python3.8/dist-packages (from pycaret) (0.8.1)\n",
            "Requirement already satisfied: cloudpickle in /usr/local/lib/python3.8/dist-packages (from pycaret) (1.5.0)\n",
            "Requirement already satisfied: joblib>=1.2.0 in /usr/local/lib/python3.8/dist-packages (from pycaret) (1.2.0)\n",
            "Collecting deprecation>=2.1.0\n",
            "  Downloading deprecation-2.1.0-py2.py3-none-any.whl (11 kB)\n",
            "Requirement already satisfied: scipy<2.0.0 in /usr/local/lib/python3.8/dist-packages (from pycaret) (1.7.3)\n",
            "Requirement already satisfied: ipython>=5.5.0 in /usr/local/lib/python3.8/dist-packages (from pycaret) (7.9.0)\n",
            "Collecting schemdraw>=0.14\n",
            "  Downloading schemdraw-0.15-py3-none-any.whl (106 kB)\n",
            "\u001b[K     |████████████████████████████████| 106 kB 33.5 MB/s \n",
            "\u001b[?25hRequirement already satisfied: nbformat>=4.2.0 in /usr/local/lib/python3.8/dist-packages (from pycaret) (5.7.0)\n",
            "Collecting lightgbm>=3.0.0\n",
            "  Downloading lightgbm-3.3.3-py3-none-manylinux1_x86_64.whl (2.0 MB)\n",
            "\u001b[K     |████████████████████████████████| 2.0 MB 51.5 MB/s \n",
            "\u001b[?25hRequirement already satisfied: numpy<1.23,>=1.21 in /usr/local/lib/python3.8/dist-packages (from pycaret) (1.21.6)\n",
            "Requirement already satisfied: scikit-learn>=1.0 in /usr/local/lib/python3.8/dist-packages (from pycaret) (1.0.2)\n",
            "Requirement already satisfied: markupsafe>=2.0.1 in /usr/local/lib/python3.8/dist-packages (from pycaret) (2.0.1)\n",
            "Collecting category-encoders>=2.4.0\n",
            "  Downloading category_encoders-2.5.1.post0-py2.py3-none-any.whl (72 kB)\n",
            "\u001b[K     |████████████████████████████████| 72 kB 673 kB/s \n",
            "\u001b[?25hCollecting tbats>=1.1.0\n",
            "  Downloading tbats-1.1.2-py3-none-any.whl (43 kB)\n",
            "\u001b[K     |████████████████████████████████| 43 kB 2.0 MB/s \n",
            "\u001b[?25hCollecting kaleido>=0.2.1\n",
            "  Downloading kaleido-0.2.1-py2.py3-none-manylinux1_x86_64.whl (79.9 MB)\n",
            "\u001b[K     |████████████████████████████████| 79.9 MB 80.6 MB/s \n",
            "\u001b[?25hCollecting requests>=2.27.1\n",
            "  Downloading requests-2.28.1-py3-none-any.whl (62 kB)\n",
            "\u001b[K     |████████████████████████████████| 62 kB 1.4 MB/s \n",
            "\u001b[?25hRequirement already satisfied: patsy>=0.5.1 in /usr/local/lib/python3.8/dist-packages (from category-encoders>=2.4.0->pycaret) (0.5.3)\n",
            "Requirement already satisfied: packaging in /usr/local/lib/python3.8/dist-packages (from deprecation>=2.1.0->pycaret) (21.3)\n",
            "Requirement already satisfied: zipp>=0.5 in /usr/local/lib/python3.8/dist-packages (from importlib-metadata>=4.12.0->pycaret) (3.11.0)\n",
            "Requirement already satisfied: pickleshare in /usr/local/lib/python3.8/dist-packages (from ipython>=5.5.0->pycaret) (0.7.5)\n",
            "Requirement already satisfied: traitlets>=4.2 in /usr/local/lib/python3.8/dist-packages (from ipython>=5.5.0->pycaret) (5.7.1)\n",
            "Collecting jedi>=0.10\n",
            "  Downloading jedi-0.18.2-py2.py3-none-any.whl (1.6 MB)\n",
            "\u001b[K     |████████████████████████████████| 1.6 MB 46.9 MB/s \n",
            "\u001b[?25hRequirement already satisfied: pygments in /usr/local/lib/python3.8/dist-packages (from ipython>=5.5.0->pycaret) (2.6.1)\n",
            "Requirement already satisfied: pexpect in /usr/local/lib/python3.8/dist-packages (from ipython>=5.5.0->pycaret) (4.8.0)\n",
            "Requirement already satisfied: setuptools>=18.5 in /usr/local/lib/python3.8/dist-packages (from ipython>=5.5.0->pycaret) (57.4.0)\n",
            "Requirement already satisfied: decorator in /usr/local/lib/python3.8/dist-packages (from ipython>=5.5.0->pycaret) (4.4.2)\n",
            "Requirement already satisfied: prompt-toolkit<2.1.0,>=2.0.0 in /usr/local/lib/python3.8/dist-packages (from ipython>=5.5.0->pycaret) (2.0.10)\n",
            "Requirement already satisfied: backcall in /usr/local/lib/python3.8/dist-packages (from ipython>=5.5.0->pycaret) (0.2.0)\n",
            "Requirement already satisfied: jupyterlab-widgets>=1.0.0 in /usr/local/lib/python3.8/dist-packages (from ipywidgets>=7.6.5->pycaret) (3.0.4)\n",
            "Requirement already satisfied: ipykernel>=4.5.1 in /usr/local/lib/python3.8/dist-packages (from ipywidgets>=7.6.5->pycaret) (5.3.4)\n",
            "Requirement already satisfied: ipython-genutils~=0.2.0 in /usr/local/lib/python3.8/dist-packages (from ipywidgets>=7.6.5->pycaret) (0.2.0)\n",
            "Requirement already satisfied: widgetsnbextension~=3.6.0 in /usr/local/lib/python3.8/dist-packages (from ipywidgets>=7.6.5->pycaret) (3.6.1)\n",
            "Requirement already satisfied: tornado>=4.2 in /usr/local/lib/python3.8/dist-packages (from ipykernel>=4.5.1->ipywidgets>=7.6.5->pycaret) (6.0.4)\n",
            "Requirement already satisfied: jupyter-client in /usr/local/lib/python3.8/dist-packages (from ipykernel>=4.5.1->ipywidgets>=7.6.5->pycaret) (6.1.12)\n",
            "Requirement already satisfied: parso<0.9.0,>=0.8.0 in /usr/local/lib/python3.8/dist-packages (from jedi>=0.10->ipython>=5.5.0->pycaret) (0.8.3)\n",
            "Requirement already satisfied: wheel in /usr/local/lib/python3.8/dist-packages (from lightgbm>=3.0.0->pycaret) (0.38.4)\n",
            "Requirement already satisfied: cycler>=0.10 in /usr/local/lib/python3.8/dist-packages (from matplotlib>=3.3.0->pycaret) (0.11.0)\n",
            "Collecting fonttools>=4.22.0\n",
            "  Downloading fonttools-4.38.0-py3-none-any.whl (965 kB)\n",
            "\u001b[K     |████████████████████████████████| 965 kB 72.2 MB/s \n",
            "\u001b[?25hRequirement already satisfied: pyparsing>=2.2.1 in /usr/local/lib/python3.8/dist-packages (from matplotlib>=3.3.0->pycaret) (3.0.9)\n",
            "Collecting contourpy>=1.0.1\n",
            "  Downloading contourpy-1.0.6-cp38-cp38-manylinux_2_17_x86_64.manylinux2014_x86_64.whl (295 kB)\n",
            "\u001b[K     |████████████████████████████████| 295 kB 39.3 MB/s \n",
            "\u001b[?25hRequirement already satisfied: kiwisolver>=1.0.1 in /usr/local/lib/python3.8/dist-packages (from matplotlib>=3.3.0->pycaret) (1.4.4)\n",
            "Requirement already satisfied: pillow>=6.2.0 in /usr/local/lib/python3.8/dist-packages (from matplotlib>=3.3.0->pycaret) (7.1.2)\n",
            "Requirement already satisfied: python-dateutil>=2.7 in /usr/local/lib/python3.8/dist-packages (from matplotlib>=3.3.0->pycaret) (2.8.2)\n",
            "Requirement already satisfied: fastjsonschema in /usr/local/lib/python3.8/dist-packages (from nbformat>=4.2.0->pycaret) (2.16.2)\n",
            "Requirement already satisfied: jupyter-core in /usr/local/lib/python3.8/dist-packages (from nbformat>=4.2.0->pycaret) (5.1.0)\n",
            "Requirement already satisfied: jsonschema>=2.6 in /usr/local/lib/python3.8/dist-packages (from nbformat>=4.2.0->pycaret) (4.3.3)\n",
            "Requirement already satisfied: pyrsistent!=0.17.0,!=0.17.1,!=0.17.2,>=0.14.0 in /usr/local/lib/python3.8/dist-packages (from jsonschema>=2.6->nbformat>=4.2.0->pycaret) (0.19.2)\n",
            "Requirement already satisfied: attrs>=17.4.0 in /usr/local/lib/python3.8/dist-packages (from jsonschema>=2.6->nbformat>=4.2.0->pycaret) (22.1.0)\n",
            "Requirement already satisfied: importlib-resources>=1.4.0 in /usr/local/lib/python3.8/dist-packages (from jsonschema>=2.6->nbformat>=4.2.0->pycaret) (5.10.1)\n",
            "Requirement already satisfied: llvmlite<0.40,>=0.39.0dev0 in /usr/local/lib/python3.8/dist-packages (from numba>=0.55.0->pycaret) (0.39.1)\n",
            "Requirement already satisfied: pytz>=2017.3 in /usr/local/lib/python3.8/dist-packages (from pandas<1.6.0,>=1.3.0->pycaret) (2022.6)\n",
            "Requirement already satisfied: six in /usr/local/lib/python3.8/dist-packages (from patsy>=0.5.1->category-encoders>=2.4.0->pycaret) (1.15.0)\n",
            "Requirement already satisfied: tenacity>=6.2.0 in /usr/local/lib/python3.8/dist-packages (from plotly>=5.0.0->pycaret) (8.1.0)\n",
            "Collecting jupyter-dash>=0.4.2\n",
            "  Downloading jupyter_dash-0.4.2-py3-none-any.whl (23 kB)\n",
            "Collecting Flask-Cors<4.0.0,>=3.0.10\n",
            "  Downloading Flask_Cors-3.0.10-py2.py3-none-any.whl (14 kB)\n",
            "Collecting trace-updater>=0.0.8\n",
            "  Downloading trace_updater-0.0.9-py3-none-any.whl (185 kB)\n",
            "\u001b[K     |████████████████████████████████| 185 kB 63.3 MB/s \n",
            "\u001b[?25hRequirement already satisfied: Werkzeug<=2.1.2 in /usr/local/lib/python3.8/dist-packages (from plotly-resampler>=0.7.2.2->pycaret) (1.0.1)\n",
            "Collecting dash<3.0.0,>=2.2.0\n",
            "  Downloading dash-2.7.1-py3-none-any.whl (9.9 MB)\n",
            "\u001b[K     |████████████████████████████████| 9.9 MB 48.5 MB/s \n",
            "\u001b[?25hCollecting orjson<4.0.0,>=3.8.0\n",
            "  Downloading orjson-3.8.3-cp38-cp38-manylinux_2_17_x86_64.manylinux2014_x86_64.whl (278 kB)\n",
            "\u001b[K     |████████████████████████████████| 278 kB 63.6 MB/s \n",
            "\u001b[?25hCollecting dash-table==5.0.0\n",
            "  Downloading dash_table-5.0.0-py3-none-any.whl (3.9 kB)\n",
            "Requirement already satisfied: Flask>=1.0.4 in /usr/local/lib/python3.8/dist-packages (from dash<3.0.0,>=2.2.0->plotly-resampler>=0.7.2.2->pycaret) (1.1.4)\n",
            "Collecting dash-core-components==2.0.0\n",
            "  Downloading dash_core_components-2.0.0-py3-none-any.whl (3.8 kB)\n",
            "Collecting dash-html-components==2.0.0\n",
            "  Downloading dash_html_components-2.0.0-py3-none-any.whl (4.1 kB)\n",
            "Requirement already satisfied: itsdangerous<2.0,>=0.24 in /usr/local/lib/python3.8/dist-packages (from Flask>=1.0.4->dash<3.0.0,>=2.2.0->plotly-resampler>=0.7.2.2->pycaret) (1.1.0)\n",
            "Requirement already satisfied: click<8.0,>=5.1 in /usr/local/lib/python3.8/dist-packages (from Flask>=1.0.4->dash<3.0.0,>=2.2.0->plotly-resampler>=0.7.2.2->pycaret) (7.1.2)\n",
            "Collecting nest-asyncio\n",
            "  Downloading nest_asyncio-1.5.6-py3-none-any.whl (5.2 kB)\n",
            "Collecting ansi2html\n",
            "  Downloading ansi2html-1.8.0-py3-none-any.whl (16 kB)\n",
            "Collecting retrying\n",
            "  Downloading retrying-1.3.4-py3-none-any.whl (11 kB)\n",
            "Requirement already satisfied: urllib3 in /usr/local/lib/python3.8/dist-packages (from pmdarima!=1.8.1,<3.0.0,>=1.8.0->pycaret) (1.24.3)\n",
            "Collecting statsmodels>=0.12.1\n",
            "  Downloading statsmodels-0.13.5-cp38-cp38-manylinux_2_17_x86_64.manylinux2014_x86_64.whl (9.9 MB)\n",
            "\u001b[K     |████████████████████████████████| 9.9 MB 41.0 MB/s \n",
            "\u001b[?25hRequirement already satisfied: Cython!=0.29.18,!=0.29.31,>=0.29 in /usr/local/lib/python3.8/dist-packages (from pmdarima!=1.8.1,<3.0.0,>=1.8.0->pycaret) (0.29.32)\n",
            "Requirement already satisfied: wcwidth in /usr/local/lib/python3.8/dist-packages (from prompt-toolkit<2.1.0,>=2.0.0->ipython>=5.5.0->pycaret) (0.2.5)\n",
            "Requirement already satisfied: certifi>=2017.4.17 in /usr/local/lib/python3.8/dist-packages (from requests>=2.27.1->pycaret) (2022.12.7)\n",
            "Requirement already satisfied: idna<4,>=2.5 in /usr/local/lib/python3.8/dist-packages (from requests>=2.27.1->pycaret) (2.10)\n",
            "Requirement already satisfied: charset-normalizer<3,>=2 in /usr/local/lib/python3.8/dist-packages (from requests>=2.27.1->pycaret) (2.1.1)\n",
            "Requirement already satisfied: threadpoolctl>=2.0.0 in /usr/local/lib/python3.8/dist-packages (from scikit-learn>=1.0->pycaret) (3.1.0)\n",
            "Collecting deprecated>=1.2.13\n",
            "  Downloading Deprecated-1.2.13-py2.py3-none-any.whl (9.6 kB)\n",
            "Requirement already satisfied: wrapt<2,>=1.10 in /usr/local/lib/python3.8/dist-packages (from deprecated>=1.2.13->sktime>=0.14.0->pycaret) (1.14.1)\n",
            "Requirement already satisfied: notebook>=4.4.1 in /usr/local/lib/python3.8/dist-packages (from widgetsnbextension~=3.6.0->ipywidgets>=7.6.5->pycaret) (5.7.16)\n",
            "Requirement already satisfied: prometheus-client in /usr/local/lib/python3.8/dist-packages (from notebook>=4.4.1->widgetsnbextension~=3.6.0->ipywidgets>=7.6.5->pycaret) (0.15.0)\n",
            "Requirement already satisfied: terminado>=0.8.1 in /usr/local/lib/python3.8/dist-packages (from notebook>=4.4.1->widgetsnbextension~=3.6.0->ipywidgets>=7.6.5->pycaret) (0.13.3)\n",
            "Requirement already satisfied: pyzmq>=17 in /usr/local/lib/python3.8/dist-packages (from notebook>=4.4.1->widgetsnbextension~=3.6.0->ipywidgets>=7.6.5->pycaret) (23.2.1)\n",
            "Requirement already satisfied: nbconvert<6.0 in /usr/local/lib/python3.8/dist-packages (from notebook>=4.4.1->widgetsnbextension~=3.6.0->ipywidgets>=7.6.5->pycaret) (5.6.1)\n",
            "Requirement already satisfied: Send2Trash in /usr/local/lib/python3.8/dist-packages (from notebook>=4.4.1->widgetsnbextension~=3.6.0->ipywidgets>=7.6.5->pycaret) (1.8.0)\n",
            "Requirement already satisfied: platformdirs>=2.5 in /usr/local/lib/python3.8/dist-packages (from jupyter-core->nbformat>=4.2.0->pycaret) (2.6.0)\n",
            "Requirement already satisfied: mistune<2,>=0.8.1 in /usr/local/lib/python3.8/dist-packages (from nbconvert<6.0->notebook>=4.4.1->widgetsnbextension~=3.6.0->ipywidgets>=7.6.5->pycaret) (0.8.4)\n",
            "Requirement already satisfied: bleach in /usr/local/lib/python3.8/dist-packages (from nbconvert<6.0->notebook>=4.4.1->widgetsnbextension~=3.6.0->ipywidgets>=7.6.5->pycaret) (5.0.1)\n",
            "Requirement already satisfied: defusedxml in /usr/local/lib/python3.8/dist-packages (from nbconvert<6.0->notebook>=4.4.1->widgetsnbextension~=3.6.0->ipywidgets>=7.6.5->pycaret) (0.7.1)\n",
            "Requirement already satisfied: entrypoints>=0.2.2 in /usr/local/lib/python3.8/dist-packages (from nbconvert<6.0->notebook>=4.4.1->widgetsnbextension~=3.6.0->ipywidgets>=7.6.5->pycaret) (0.4)\n",
            "Requirement already satisfied: testpath in /usr/local/lib/python3.8/dist-packages (from nbconvert<6.0->notebook>=4.4.1->widgetsnbextension~=3.6.0->ipywidgets>=7.6.5->pycaret) (0.6.0)\n",
            "Requirement already satisfied: pandocfilters>=1.4.1 in /usr/local/lib/python3.8/dist-packages (from nbconvert<6.0->notebook>=4.4.1->widgetsnbextension~=3.6.0->ipywidgets>=7.6.5->pycaret) (1.5.0)\n",
            "Requirement already satisfied: ptyprocess in /usr/local/lib/python3.8/dist-packages (from terminado>=0.8.1->notebook>=4.4.1->widgetsnbextension~=3.6.0->ipywidgets>=7.6.5->pycaret) (0.7.0)\n",
            "Requirement already satisfied: webencodings in /usr/local/lib/python3.8/dist-packages (from bleach->nbconvert<6.0->notebook>=4.4.1->widgetsnbextension~=3.6.0->ipywidgets>=7.6.5->pycaret) (0.5.1)\n",
            "Building wheels for collected packages: plotly-resampler, pyod\n",
            "  Building wheel for plotly-resampler (PEP 517) ... \u001b[?25l\u001b[?25hdone\n",
            "  Created wheel for plotly-resampler: filename=plotly_resampler-0.8.3-cp38-cp38-manylinux_2_27_x86_64.whl size=72441 sha256=d6fd30d8cb08cb11c5069523c834be29644d5fa67a1227a82486ca608b71bd09\n",
            "  Stored in directory: /root/.cache/pip/wheels/8d/ea/9e/3c19ae6213e0cfa2cbf7eb40bdc16bca713ffb69d2422f0c50\n",
            "  Building wheel for pyod (setup.py) ... \u001b[?25l\u001b[?25hdone\n",
            "  Created wheel for pyod: filename=pyod-1.0.7-py3-none-any.whl size=181101 sha256=3c182065fd3740e1701fd85b3d9b5dabcb6a17204138489e24bd4f0ba7bf4d6f\n",
            "  Stored in directory: /root/.cache/pip/wheels/f7/e2/c1/1c7fd8b261e72411f6509afb429c84532e40ddcd96074473f4\n",
            "Successfully built plotly-resampler pyod\n",
            "Installing collected packages: jedi, dash-table, dash-html-components, dash-core-components, statsmodels, retrying, requests, nest-asyncio, fonttools, dash, contourpy, ansi2html, trace-updater, pmdarima, orjson, matplotlib, jupyter-dash, Flask-Cors, deprecated, tbats, sktime, scikit-plot, schemdraw, pyod, psutil, plotly-resampler, lightgbm, kaleido, deprecation, category-encoders, pycaret\n",
            "  Attempting uninstall: statsmodels\n",
            "    Found existing installation: statsmodels 0.12.2\n",
            "    Uninstalling statsmodels-0.12.2:\n",
            "      Successfully uninstalled statsmodels-0.12.2\n",
            "  Attempting uninstall: requests\n",
            "    Found existing installation: requests 2.23.0\n",
            "    Uninstalling requests-2.23.0:\n",
            "      Successfully uninstalled requests-2.23.0\n",
            "  Attempting uninstall: matplotlib\n",
            "    Found existing installation: matplotlib 3.2.2\n",
            "    Uninstalling matplotlib-3.2.2:\n",
            "      Successfully uninstalled matplotlib-3.2.2\n",
            "  Attempting uninstall: psutil\n",
            "    Found existing installation: psutil 5.4.8\n",
            "    Uninstalling psutil-5.4.8:\n",
            "      Successfully uninstalled psutil-5.4.8\n",
            "  Attempting uninstall: lightgbm\n",
            "    Found existing installation: lightgbm 2.2.3\n",
            "    Uninstalling lightgbm-2.2.3:\n",
            "      Successfully uninstalled lightgbm-2.2.3\n",
            "Successfully installed Flask-Cors-3.0.10 ansi2html-1.8.0 category-encoders-2.5.1.post0 contourpy-1.0.6 dash-2.7.1 dash-core-components-2.0.0 dash-html-components-2.0.0 dash-table-5.0.0 deprecated-1.2.13 deprecation-2.1.0 fonttools-4.38.0 jedi-0.18.2 jupyter-dash-0.4.2 kaleido-0.2.1 lightgbm-3.3.3 matplotlib-3.6.2 nest-asyncio-1.5.6 orjson-3.8.3 plotly-resampler-0.8.3 pmdarima-2.0.2 psutil-5.9.4 pycaret-3.0.0rc5 pyod-1.0.7 requests-2.28.1 retrying-1.3.4 schemdraw-0.15 scikit-plot-0.3.7 sktime-0.14.1 statsmodels-0.13.5 tbats-1.1.2 trace-updater-0.0.9\n"
          ]
        },
        {
          "output_type": "display_data",
          "data": {
            "application/vnd.colab-display-data+json": {
              "pip_warning": {
                "packages": [
                  "matplotlib",
                  "mpl_toolkits",
                  "psutil"
                ]
              }
            }
          },
          "metadata": {}
        }
      ]
    },
    {
      "cell_type": "code",
      "source": [
        "from pycaret.regression import *"
      ],
      "metadata": {
        "id": "rnDkeKsZwFaW"
      },
      "id": "rnDkeKsZwFaW",
      "execution_count": 41,
      "outputs": []
    },
    {
      "cell_type": "code",
      "source": [
        "train_x.columns"
      ],
      "metadata": {
        "colab": {
          "base_uri": "https://localhost:8080/"
        },
        "id": "yIhjtgsDwk8V",
        "outputId": "2e69806f-b1bb-48fb-acec-82e5eed0422e"
      },
      "id": "yIhjtgsDwk8V",
      "execution_count": 51,
      "outputs": [
        {
          "output_type": "execute_result",
          "data": {
            "text/plain": [
              "Index(['bedrooms', 'latitude', 'longitude', 'distanceMetro(km)',\n",
              "       'distanceAirport(km)', 'distanceHospital(km)', 'distanceRailway(km)',\n",
              "       'area(square_meters)', 'monthlyRent(us_dollar)', 'Apartment',\n",
              "       'Independent Floor', 'Independent House', 'Villa', 'Delhi Central',\n",
              "       'Delhi East', 'Delhi North', 'Delhi South', 'Delhi West', 'Dwarka',\n",
              "       'North Delhi', 'North West Delhi', 'Other', 'Rohini',\n",
              "       'South West Delhi', 'West Delhi'],\n",
              "      dtype='object')"
            ]
          },
          "metadata": {},
          "execution_count": 51
        }
      ]
    },
    {
      "cell_type": "code",
      "source": [
        "from pycaret import regression"
      ],
      "metadata": {
        "id": "h-j6PexOwHc4"
      },
      "id": "h-j6PexOwHc4",
      "execution_count": 42,
      "outputs": []
    },
    {
      "cell_type": "code",
      "source": [
        "regression_setup = regression.setup(data=train_x, target='monthlyRent(us_dollar)',train_size = 0.8)"
      ],
      "metadata": {
        "colab": {
          "base_uri": "https://localhost:8080/",
          "height": 614
        },
        "id": "IMaXJtqdwKO5",
        "outputId": "ed301800-7c98-4d04-d651-f664790b2d2a"
      },
      "id": "IMaXJtqdwKO5",
      "execution_count": 53,
      "outputs": [
        {
          "output_type": "display_data",
          "data": {
            "text/plain": [
              "<pandas.io.formats.style.Styler at 0x7f52e12115e0>"
            ],
            "text/html": [
              "<style type=\"text/css\">\n",
              "#T_5ff05_row7_col1 {\n",
              "  background-color: lightgreen;\n",
              "}\n",
              "</style>\n",
              "<table id=\"T_5ff05_\" class=\"dataframe\">\n",
              "  <thead>\n",
              "    <tr>\n",
              "      <th class=\"blank level0\" >&nbsp;</th>\n",
              "      <th class=\"col_heading level0 col0\" >Description</th>\n",
              "      <th class=\"col_heading level0 col1\" >Value</th>\n",
              "    </tr>\n",
              "  </thead>\n",
              "  <tbody>\n",
              "    <tr>\n",
              "      <th id=\"T_5ff05_level0_row0\" class=\"row_heading level0 row0\" >0</th>\n",
              "      <td id=\"T_5ff05_row0_col0\" class=\"data row0 col0\" >Session id</td>\n",
              "      <td id=\"T_5ff05_row0_col1\" class=\"data row0 col1\" >4656</td>\n",
              "    </tr>\n",
              "    <tr>\n",
              "      <th id=\"T_5ff05_level0_row1\" class=\"row_heading level0 row1\" >1</th>\n",
              "      <td id=\"T_5ff05_row1_col0\" class=\"data row1 col0\" >Target</td>\n",
              "      <td id=\"T_5ff05_row1_col1\" class=\"data row1 col1\" >monthlyRent(us_dollar)</td>\n",
              "    </tr>\n",
              "    <tr>\n",
              "      <th id=\"T_5ff05_level0_row2\" class=\"row_heading level0 row2\" >2</th>\n",
              "      <td id=\"T_5ff05_row2_col0\" class=\"data row2 col0\" >Target type</td>\n",
              "      <td id=\"T_5ff05_row2_col1\" class=\"data row2 col1\" >Regression</td>\n",
              "    </tr>\n",
              "    <tr>\n",
              "      <th id=\"T_5ff05_level0_row3\" class=\"row_heading level0 row3\" >3</th>\n",
              "      <td id=\"T_5ff05_row3_col0\" class=\"data row3 col0\" >Data shape</td>\n",
              "      <td id=\"T_5ff05_row3_col1\" class=\"data row3 col1\" >(8692, 25)</td>\n",
              "    </tr>\n",
              "    <tr>\n",
              "      <th id=\"T_5ff05_level0_row4\" class=\"row_heading level0 row4\" >4</th>\n",
              "      <td id=\"T_5ff05_row4_col0\" class=\"data row4 col0\" >Train data shape</td>\n",
              "      <td id=\"T_5ff05_row4_col1\" class=\"data row4 col1\" >(6953, 25)</td>\n",
              "    </tr>\n",
              "    <tr>\n",
              "      <th id=\"T_5ff05_level0_row5\" class=\"row_heading level0 row5\" >5</th>\n",
              "      <td id=\"T_5ff05_row5_col0\" class=\"data row5 col0\" >Test data shape</td>\n",
              "      <td id=\"T_5ff05_row5_col1\" class=\"data row5 col1\" >(1739, 25)</td>\n",
              "    </tr>\n",
              "    <tr>\n",
              "      <th id=\"T_5ff05_level0_row6\" class=\"row_heading level0 row6\" >6</th>\n",
              "      <td id=\"T_5ff05_row6_col0\" class=\"data row6 col0\" >Numeric features</td>\n",
              "      <td id=\"T_5ff05_row6_col1\" class=\"data row6 col1\" >24</td>\n",
              "    </tr>\n",
              "    <tr>\n",
              "      <th id=\"T_5ff05_level0_row7\" class=\"row_heading level0 row7\" >7</th>\n",
              "      <td id=\"T_5ff05_row7_col0\" class=\"data row7 col0\" >Preprocess</td>\n",
              "      <td id=\"T_5ff05_row7_col1\" class=\"data row7 col1\" >True</td>\n",
              "    </tr>\n",
              "    <tr>\n",
              "      <th id=\"T_5ff05_level0_row8\" class=\"row_heading level0 row8\" >8</th>\n",
              "      <td id=\"T_5ff05_row8_col0\" class=\"data row8 col0\" >Imputation type</td>\n",
              "      <td id=\"T_5ff05_row8_col1\" class=\"data row8 col1\" >simple</td>\n",
              "    </tr>\n",
              "    <tr>\n",
              "      <th id=\"T_5ff05_level0_row9\" class=\"row_heading level0 row9\" >9</th>\n",
              "      <td id=\"T_5ff05_row9_col0\" class=\"data row9 col0\" >Numeric imputation</td>\n",
              "      <td id=\"T_5ff05_row9_col1\" class=\"data row9 col1\" >mean</td>\n",
              "    </tr>\n",
              "    <tr>\n",
              "      <th id=\"T_5ff05_level0_row10\" class=\"row_heading level0 row10\" >10</th>\n",
              "      <td id=\"T_5ff05_row10_col0\" class=\"data row10 col0\" >Categorical imputation</td>\n",
              "      <td id=\"T_5ff05_row10_col1\" class=\"data row10 col1\" >mode</td>\n",
              "    </tr>\n",
              "    <tr>\n",
              "      <th id=\"T_5ff05_level0_row11\" class=\"row_heading level0 row11\" >11</th>\n",
              "      <td id=\"T_5ff05_row11_col0\" class=\"data row11 col0\" >Fold Generator</td>\n",
              "      <td id=\"T_5ff05_row11_col1\" class=\"data row11 col1\" >KFold</td>\n",
              "    </tr>\n",
              "    <tr>\n",
              "      <th id=\"T_5ff05_level0_row12\" class=\"row_heading level0 row12\" >12</th>\n",
              "      <td id=\"T_5ff05_row12_col0\" class=\"data row12 col0\" >Fold Number</td>\n",
              "      <td id=\"T_5ff05_row12_col1\" class=\"data row12 col1\" >10</td>\n",
              "    </tr>\n",
              "    <tr>\n",
              "      <th id=\"T_5ff05_level0_row13\" class=\"row_heading level0 row13\" >13</th>\n",
              "      <td id=\"T_5ff05_row13_col0\" class=\"data row13 col0\" >CPU Jobs</td>\n",
              "      <td id=\"T_5ff05_row13_col1\" class=\"data row13 col1\" >-1</td>\n",
              "    </tr>\n",
              "    <tr>\n",
              "      <th id=\"T_5ff05_level0_row14\" class=\"row_heading level0 row14\" >14</th>\n",
              "      <td id=\"T_5ff05_row14_col0\" class=\"data row14 col0\" >Use GPU</td>\n",
              "      <td id=\"T_5ff05_row14_col1\" class=\"data row14 col1\" >False</td>\n",
              "    </tr>\n",
              "    <tr>\n",
              "      <th id=\"T_5ff05_level0_row15\" class=\"row_heading level0 row15\" >15</th>\n",
              "      <td id=\"T_5ff05_row15_col0\" class=\"data row15 col0\" >Log Experiment</td>\n",
              "      <td id=\"T_5ff05_row15_col1\" class=\"data row15 col1\" >False</td>\n",
              "    </tr>\n",
              "    <tr>\n",
              "      <th id=\"T_5ff05_level0_row16\" class=\"row_heading level0 row16\" >16</th>\n",
              "      <td id=\"T_5ff05_row16_col0\" class=\"data row16 col0\" >Experiment Name</td>\n",
              "      <td id=\"T_5ff05_row16_col1\" class=\"data row16 col1\" >reg-default-name</td>\n",
              "    </tr>\n",
              "    <tr>\n",
              "      <th id=\"T_5ff05_level0_row17\" class=\"row_heading level0 row17\" >17</th>\n",
              "      <td id=\"T_5ff05_row17_col0\" class=\"data row17 col0\" >USI</td>\n",
              "      <td id=\"T_5ff05_row17_col1\" class=\"data row17 col1\" >0b5f</td>\n",
              "    </tr>\n",
              "  </tbody>\n",
              "</table>\n"
            ]
          },
          "metadata": {}
        }
      ]
    },
    {
      "cell_type": "code",
      "source": [
        "top5_model = compare_models(sort = 'MAE', n_select = 5)"
      ],
      "metadata": {
        "colab": {
          "base_uri": "https://localhost:8080/",
          "height": 1000,
          "referenced_widgets": [
            "6965cf7949f24277b2a7950ab4e5b105",
            "a23cc57a088848be8df6cd69cc18d159",
            "13678eacf73d42b9a39565d265c89265",
            "469d2221f12c4c5bb423c45c3eea21cc",
            "4734dfaaf3f14ba2ac57bf8705bc96c0",
            "ff54e473185a46feaa3c47565312a2e8",
            "93c68f167c1b4d1e9f5bb6f1206e1236",
            "b9ec46dbcc2644debfc6d486da4af879",
            "5f8d3725f26546ecbb462060f716aca8",
            "c7c732cce74b4440bc14c0b39e0cd6e8",
            "f649b4e12a4349b5a18ef549d3fb3d84"
          ]
        },
        "id": "ygLqUJI3xQQd",
        "outputId": "a4f402f1-9795-41c1-87f9-2261d17bc1c1"
      },
      "id": "ygLqUJI3xQQd",
      "execution_count": 54,
      "outputs": [
        {
          "output_type": "display_data",
          "data": {
            "text/plain": [
              "<IPython.core.display.HTML object>"
            ],
            "text/html": []
          },
          "metadata": {}
        },
        {
          "output_type": "display_data",
          "data": {
            "text/plain": [
              "<pandas.io.formats.style.Styler at 0x7f52eed4b940>"
            ],
            "text/html": [
              "<style type=\"text/css\">\n",
              "#T_bc339_ th {\n",
              "  text-align: left;\n",
              "}\n",
              "#T_bc339_row0_col0, #T_bc339_row0_col2, #T_bc339_row0_col3, #T_bc339_row0_col4, #T_bc339_row0_col5, #T_bc339_row1_col0, #T_bc339_row1_col1, #T_bc339_row1_col6, #T_bc339_row2_col0, #T_bc339_row2_col1, #T_bc339_row2_col2, #T_bc339_row2_col3, #T_bc339_row2_col4, #T_bc339_row2_col5, #T_bc339_row2_col6, #T_bc339_row3_col0, #T_bc339_row3_col1, #T_bc339_row3_col2, #T_bc339_row3_col3, #T_bc339_row3_col4, #T_bc339_row3_col5, #T_bc339_row3_col6, #T_bc339_row4_col0, #T_bc339_row4_col1, #T_bc339_row4_col2, #T_bc339_row4_col3, #T_bc339_row4_col4, #T_bc339_row4_col5, #T_bc339_row4_col6, #T_bc339_row5_col0, #T_bc339_row5_col1, #T_bc339_row5_col2, #T_bc339_row5_col3, #T_bc339_row5_col4, #T_bc339_row5_col5, #T_bc339_row5_col6, #T_bc339_row6_col0, #T_bc339_row6_col1, #T_bc339_row6_col2, #T_bc339_row6_col3, #T_bc339_row6_col4, #T_bc339_row6_col5, #T_bc339_row6_col6, #T_bc339_row7_col0, #T_bc339_row7_col1, #T_bc339_row7_col2, #T_bc339_row7_col3, #T_bc339_row7_col4, #T_bc339_row7_col5, #T_bc339_row7_col6, #T_bc339_row8_col0, #T_bc339_row8_col1, #T_bc339_row8_col2, #T_bc339_row8_col3, #T_bc339_row8_col4, #T_bc339_row8_col5, #T_bc339_row8_col6, #T_bc339_row9_col0, #T_bc339_row9_col1, #T_bc339_row9_col2, #T_bc339_row9_col3, #T_bc339_row9_col4, #T_bc339_row9_col5, #T_bc339_row9_col6, #T_bc339_row10_col0, #T_bc339_row10_col1, #T_bc339_row10_col2, #T_bc339_row10_col3, #T_bc339_row10_col4, #T_bc339_row10_col5, #T_bc339_row10_col6, #T_bc339_row11_col0, #T_bc339_row11_col1, #T_bc339_row11_col2, #T_bc339_row11_col3, #T_bc339_row11_col4, #T_bc339_row11_col5, #T_bc339_row11_col6, #T_bc339_row12_col0, #T_bc339_row12_col1, #T_bc339_row12_col2, #T_bc339_row12_col3, #T_bc339_row12_col4, #T_bc339_row12_col5, #T_bc339_row12_col6, #T_bc339_row13_col0, #T_bc339_row13_col1, #T_bc339_row13_col2, #T_bc339_row13_col3, #T_bc339_row13_col4, #T_bc339_row13_col5, #T_bc339_row13_col6, #T_bc339_row14_col0, #T_bc339_row14_col1, #T_bc339_row14_col2, #T_bc339_row14_col3, #T_bc339_row14_col4, #T_bc339_row14_col5, #T_bc339_row14_col6, #T_bc339_row15_col0, #T_bc339_row15_col1, #T_bc339_row15_col2, #T_bc339_row15_col3, #T_bc339_row15_col4, #T_bc339_row15_col5, #T_bc339_row15_col6, #T_bc339_row16_col0, #T_bc339_row16_col1, #T_bc339_row16_col2, #T_bc339_row16_col3, #T_bc339_row16_col4, #T_bc339_row16_col5, #T_bc339_row16_col6, #T_bc339_row17_col0, #T_bc339_row17_col1, #T_bc339_row17_col2, #T_bc339_row17_col3, #T_bc339_row17_col4, #T_bc339_row17_col5, #T_bc339_row17_col6 {\n",
              "  text-align: left;\n",
              "}\n",
              "#T_bc339_row0_col1, #T_bc339_row0_col6, #T_bc339_row1_col2, #T_bc339_row1_col3, #T_bc339_row1_col4, #T_bc339_row1_col5 {\n",
              "  text-align: left;\n",
              "  background-color: yellow;\n",
              "}\n",
              "#T_bc339_row0_col7, #T_bc339_row1_col7, #T_bc339_row2_col7, #T_bc339_row3_col7, #T_bc339_row4_col7, #T_bc339_row5_col7, #T_bc339_row6_col7, #T_bc339_row7_col7, #T_bc339_row8_col7, #T_bc339_row9_col7, #T_bc339_row10_col7, #T_bc339_row11_col7, #T_bc339_row12_col7, #T_bc339_row13_col7, #T_bc339_row14_col7, #T_bc339_row16_col7, #T_bc339_row17_col7 {\n",
              "  text-align: left;\n",
              "  background-color: lightgrey;\n",
              "}\n",
              "#T_bc339_row15_col7 {\n",
              "  text-align: left;\n",
              "  background-color: yellow;\n",
              "  background-color: lightgrey;\n",
              "}\n",
              "</style>\n",
              "<table id=\"T_bc339_\" class=\"dataframe\">\n",
              "  <thead>\n",
              "    <tr>\n",
              "      <th class=\"blank level0\" >&nbsp;</th>\n",
              "      <th class=\"col_heading level0 col0\" >Model</th>\n",
              "      <th class=\"col_heading level0 col1\" >MAE</th>\n",
              "      <th class=\"col_heading level0 col2\" >MSE</th>\n",
              "      <th class=\"col_heading level0 col3\" >RMSE</th>\n",
              "      <th class=\"col_heading level0 col4\" >R2</th>\n",
              "      <th class=\"col_heading level0 col5\" >RMSLE</th>\n",
              "      <th class=\"col_heading level0 col6\" >MAPE</th>\n",
              "      <th class=\"col_heading level0 col7\" >TT (Sec)</th>\n",
              "    </tr>\n",
              "  </thead>\n",
              "  <tbody>\n",
              "    <tr>\n",
              "      <th id=\"T_bc339_level0_row0\" class=\"row_heading level0 row0\" >rf</th>\n",
              "      <td id=\"T_bc339_row0_col0\" class=\"data row0 col0\" >Random Forest Regressor</td>\n",
              "      <td id=\"T_bc339_row0_col1\" class=\"data row0 col1\" >60.1765</td>\n",
              "      <td id=\"T_bc339_row0_col2\" class=\"data row0 col2\" >10154.1796</td>\n",
              "      <td id=\"T_bc339_row0_col3\" class=\"data row0 col3\" >100.6683</td>\n",
              "      <td id=\"T_bc339_row0_col4\" class=\"data row0 col4\" >0.8059</td>\n",
              "      <td id=\"T_bc339_row0_col5\" class=\"data row0 col5\" >0.2692</td>\n",
              "      <td id=\"T_bc339_row0_col6\" class=\"data row0 col6\" >0.2089</td>\n",
              "      <td id=\"T_bc339_row0_col7\" class=\"data row0 col7\" >3.2220</td>\n",
              "    </tr>\n",
              "    <tr>\n",
              "      <th id=\"T_bc339_level0_row1\" class=\"row_heading level0 row1\" >lightgbm</th>\n",
              "      <td id=\"T_bc339_row1_col0\" class=\"data row1 col0\" >Light Gradient Boosting Machine</td>\n",
              "      <td id=\"T_bc339_row1_col1\" class=\"data row1 col1\" >60.2513</td>\n",
              "      <td id=\"T_bc339_row1_col2\" class=\"data row1 col2\" >9877.4184</td>\n",
              "      <td id=\"T_bc339_row1_col3\" class=\"data row1 col3\" >99.2641</td>\n",
              "      <td id=\"T_bc339_row1_col4\" class=\"data row1 col4\" >0.8109</td>\n",
              "      <td id=\"T_bc339_row1_col5\" class=\"data row1 col5\" >0.2655</td>\n",
              "      <td id=\"T_bc339_row1_col6\" class=\"data row1 col6\" >0.2103</td>\n",
              "      <td id=\"T_bc339_row1_col7\" class=\"data row1 col7\" >0.2190</td>\n",
              "    </tr>\n",
              "    <tr>\n",
              "      <th id=\"T_bc339_level0_row2\" class=\"row_heading level0 row2\" >et</th>\n",
              "      <td id=\"T_bc339_row2_col0\" class=\"data row2 col0\" >Extra Trees Regressor</td>\n",
              "      <td id=\"T_bc339_row2_col1\" class=\"data row2 col1\" >60.5762</td>\n",
              "      <td id=\"T_bc339_row2_col2\" class=\"data row2 col2\" >10326.3182</td>\n",
              "      <td id=\"T_bc339_row2_col3\" class=\"data row2 col3\" >101.5844</td>\n",
              "      <td id=\"T_bc339_row2_col4\" class=\"data row2 col4\" >0.8023</td>\n",
              "      <td id=\"T_bc339_row2_col5\" class=\"data row2 col5\" >0.2713</td>\n",
              "      <td id=\"T_bc339_row2_col6\" class=\"data row2 col6\" >0.2098</td>\n",
              "      <td id=\"T_bc339_row2_col7\" class=\"data row2 col7\" >1.6150</td>\n",
              "    </tr>\n",
              "    <tr>\n",
              "      <th id=\"T_bc339_level0_row3\" class=\"row_heading level0 row3\" >gbr</th>\n",
              "      <td id=\"T_bc339_row3_col0\" class=\"data row3 col0\" >Gradient Boosting Regressor</td>\n",
              "      <td id=\"T_bc339_row3_col1\" class=\"data row3 col1\" >63.5504</td>\n",
              "      <td id=\"T_bc339_row3_col2\" class=\"data row3 col2\" >10227.0516</td>\n",
              "      <td id=\"T_bc339_row3_col3\" class=\"data row3 col3\" >101.0439</td>\n",
              "      <td id=\"T_bc339_row3_col4\" class=\"data row3 col4\" >0.8042</td>\n",
              "      <td id=\"T_bc339_row3_col5\" class=\"data row3 col5\" >0.2784</td>\n",
              "      <td id=\"T_bc339_row3_col6\" class=\"data row3 col6\" >0.2275</td>\n",
              "      <td id=\"T_bc339_row3_col7\" class=\"data row3 col7\" >1.3020</td>\n",
              "    </tr>\n",
              "    <tr>\n",
              "      <th id=\"T_bc339_level0_row4\" class=\"row_heading level0 row4\" >knn</th>\n",
              "      <td id=\"T_bc339_row4_col0\" class=\"data row4 col0\" >K Neighbors Regressor</td>\n",
              "      <td id=\"T_bc339_row4_col1\" class=\"data row4 col1\" >67.4788</td>\n",
              "      <td id=\"T_bc339_row4_col2\" class=\"data row4 col2\" >12808.4408</td>\n",
              "      <td id=\"T_bc339_row4_col3\" class=\"data row4 col3\" >113.0467</td>\n",
              "      <td id=\"T_bc339_row4_col4\" class=\"data row4 col4\" >0.7551</td>\n",
              "      <td id=\"T_bc339_row4_col5\" class=\"data row4 col5\" >0.2979</td>\n",
              "      <td id=\"T_bc339_row4_col6\" class=\"data row4 col6\" >0.2329</td>\n",
              "      <td id=\"T_bc339_row4_col7\" class=\"data row4 col7\" >0.1370</td>\n",
              "    </tr>\n",
              "    <tr>\n",
              "      <th id=\"T_bc339_level0_row5\" class=\"row_heading level0 row5\" >dt</th>\n",
              "      <td id=\"T_bc339_row5_col0\" class=\"data row5 col0\" >Decision Tree Regressor</td>\n",
              "      <td id=\"T_bc339_row5_col1\" class=\"data row5 col1\" >77.8338</td>\n",
              "      <td id=\"T_bc339_row5_col2\" class=\"data row5 col2\" >18224.0098</td>\n",
              "      <td id=\"T_bc339_row5_col3\" class=\"data row5 col3\" >134.5832</td>\n",
              "      <td id=\"T_bc339_row5_col4\" class=\"data row5 col4\" >0.6529</td>\n",
              "      <td id=\"T_bc339_row5_col5\" class=\"data row5 col5\" >0.3504</td>\n",
              "      <td id=\"T_bc339_row5_col6\" class=\"data row5 col6\" >0.2639</td>\n",
              "      <td id=\"T_bc339_row5_col7\" class=\"data row5 col7\" >0.0770</td>\n",
              "    </tr>\n",
              "    <tr>\n",
              "      <th id=\"T_bc339_level0_row6\" class=\"row_heading level0 row6\" >huber</th>\n",
              "      <td id=\"T_bc339_row6_col0\" class=\"data row6 col0\" >Huber Regressor</td>\n",
              "      <td id=\"T_bc339_row6_col1\" class=\"data row6 col1\" >82.0243</td>\n",
              "      <td id=\"T_bc339_row6_col2\" class=\"data row6 col2\" >19228.8495</td>\n",
              "      <td id=\"T_bc339_row6_col3\" class=\"data row6 col3\" >137.3598</td>\n",
              "      <td id=\"T_bc339_row6_col4\" class=\"data row6 col4\" >0.6311</td>\n",
              "      <td id=\"T_bc339_row6_col5\" class=\"data row6 col5\" >0.4035</td>\n",
              "      <td id=\"T_bc339_row6_col6\" class=\"data row6 col6\" >0.2887</td>\n",
              "      <td id=\"T_bc339_row6_col7\" class=\"data row6 col7\" >0.1850</td>\n",
              "    </tr>\n",
              "    <tr>\n",
              "      <th id=\"T_bc339_level0_row7\" class=\"row_heading level0 row7\" >lasso</th>\n",
              "      <td id=\"T_bc339_row7_col0\" class=\"data row7 col0\" >Lasso Regression</td>\n",
              "      <td id=\"T_bc339_row7_col1\" class=\"data row7 col1\" >85.4873</td>\n",
              "      <td id=\"T_bc339_row7_col2\" class=\"data row7 col2\" >20043.4387</td>\n",
              "      <td id=\"T_bc339_row7_col3\" class=\"data row7 col3\" >138.8595</td>\n",
              "      <td id=\"T_bc339_row7_col4\" class=\"data row7 col4\" >0.6145</td>\n",
              "      <td id=\"T_bc339_row7_col5\" class=\"data row7 col5\" >0.4451</td>\n",
              "      <td id=\"T_bc339_row7_col6\" class=\"data row7 col6\" >0.3262</td>\n",
              "      <td id=\"T_bc339_row7_col7\" class=\"data row7 col7\" >0.0320</td>\n",
              "    </tr>\n",
              "    <tr>\n",
              "      <th id=\"T_bc339_level0_row8\" class=\"row_heading level0 row8\" >ridge</th>\n",
              "      <td id=\"T_bc339_row8_col0\" class=\"data row8 col0\" >Ridge Regression</td>\n",
              "      <td id=\"T_bc339_row8_col1\" class=\"data row8 col1\" >85.7489</td>\n",
              "      <td id=\"T_bc339_row8_col2\" class=\"data row8 col2\" >33000.4460</td>\n",
              "      <td id=\"T_bc339_row8_col3\" class=\"data row8 col3\" >158.6348</td>\n",
              "      <td id=\"T_bc339_row8_col4\" class=\"data row8 col4\" >0.3574</td>\n",
              "      <td id=\"T_bc339_row8_col5\" class=\"data row8 col5\" >0.4597</td>\n",
              "      <td id=\"T_bc339_row8_col6\" class=\"data row8 col6\" >0.3359</td>\n",
              "      <td id=\"T_bc339_row8_col7\" class=\"data row8 col7\" >0.0290</td>\n",
              "    </tr>\n",
              "    <tr>\n",
              "      <th id=\"T_bc339_level0_row9\" class=\"row_heading level0 row9\" >lr</th>\n",
              "      <td id=\"T_bc339_row9_col0\" class=\"data row9 col0\" >Linear Regression</td>\n",
              "      <td id=\"T_bc339_row9_col1\" class=\"data row9 col1\" >86.0278</td>\n",
              "      <td id=\"T_bc339_row9_col2\" class=\"data row9 col2\" >41071.9398</td>\n",
              "      <td id=\"T_bc339_row9_col3\" class=\"data row9 col3\" >167.2334</td>\n",
              "      <td id=\"T_bc339_row9_col4\" class=\"data row9 col4\" >0.1973</td>\n",
              "      <td id=\"T_bc339_row9_col5\" class=\"data row9 col5\" >0.4575</td>\n",
              "      <td id=\"T_bc339_row9_col6\" class=\"data row9 col6\" >0.3397</td>\n",
              "      <td id=\"T_bc339_row9_col7\" class=\"data row9 col7\" >0.6700</td>\n",
              "    </tr>\n",
              "    <tr>\n",
              "      <th id=\"T_bc339_level0_row10\" class=\"row_heading level0 row10\" >br</th>\n",
              "      <td id=\"T_bc339_row10_col0\" class=\"data row10 col0\" >Bayesian Ridge</td>\n",
              "      <td id=\"T_bc339_row10_col1\" class=\"data row10 col1\" >86.1280</td>\n",
              "      <td id=\"T_bc339_row10_col2\" class=\"data row10 col2\" >40043.3193</td>\n",
              "      <td id=\"T_bc339_row10_col3\" class=\"data row10 col3\" >166.3531</td>\n",
              "      <td id=\"T_bc339_row10_col4\" class=\"data row10 col4\" >0.2177</td>\n",
              "      <td id=\"T_bc339_row10_col5\" class=\"data row10 col5\" >0.4608</td>\n",
              "      <td id=\"T_bc339_row10_col6\" class=\"data row10 col6\" >0.3394</td>\n",
              "      <td id=\"T_bc339_row10_col7\" class=\"data row10 col7\" >0.0370</td>\n",
              "    </tr>\n",
              "    <tr>\n",
              "      <th id=\"T_bc339_level0_row11\" class=\"row_heading level0 row11\" >en</th>\n",
              "      <td id=\"T_bc339_row11_col0\" class=\"data row11 col0\" >Elastic Net</td>\n",
              "      <td id=\"T_bc339_row11_col1\" class=\"data row11 col1\" >88.5310</td>\n",
              "      <td id=\"T_bc339_row11_col2\" class=\"data row11 col2\" >21254.3350</td>\n",
              "      <td id=\"T_bc339_row11_col3\" class=\"data row11 col3\" >143.0115</td>\n",
              "      <td id=\"T_bc339_row11_col4\" class=\"data row11 col4\" >0.5914</td>\n",
              "      <td id=\"T_bc339_row11_col5\" class=\"data row11 col5\" >0.4238</td>\n",
              "      <td id=\"T_bc339_row11_col6\" class=\"data row11 col6\" >0.3393</td>\n",
              "      <td id=\"T_bc339_row11_col7\" class=\"data row11 col7\" >0.0320</td>\n",
              "    </tr>\n",
              "    <tr>\n",
              "      <th id=\"T_bc339_level0_row12\" class=\"row_heading level0 row12\" >omp</th>\n",
              "      <td id=\"T_bc339_row12_col0\" class=\"data row12 col0\" >Orthogonal Matching Pursuit</td>\n",
              "      <td id=\"T_bc339_row12_col1\" class=\"data row12 col1\" >92.0401</td>\n",
              "      <td id=\"T_bc339_row12_col2\" class=\"data row12 col2\" >21842.9721</td>\n",
              "      <td id=\"T_bc339_row12_col3\" class=\"data row12 col3\" >146.6918</td>\n",
              "      <td id=\"T_bc339_row12_col4\" class=\"data row12 col4\" >0.5814</td>\n",
              "      <td id=\"T_bc339_row12_col5\" class=\"data row12 col5\" >0.4147</td>\n",
              "      <td id=\"T_bc339_row12_col6\" class=\"data row12 col6\" >0.3393</td>\n",
              "      <td id=\"T_bc339_row12_col7\" class=\"data row12 col7\" >0.0300</td>\n",
              "    </tr>\n",
              "    <tr>\n",
              "      <th id=\"T_bc339_level0_row13\" class=\"row_heading level0 row13\" >llar</th>\n",
              "      <td id=\"T_bc339_row13_col0\" class=\"data row13 col0\" >Lasso Least Angle Regression</td>\n",
              "      <td id=\"T_bc339_row13_col1\" class=\"data row13 col1\" >112.4921</td>\n",
              "      <td id=\"T_bc339_row13_col2\" class=\"data row13 col2\" >27663.9905</td>\n",
              "      <td id=\"T_bc339_row13_col3\" class=\"data row13 col3\" >166.2346</td>\n",
              "      <td id=\"T_bc339_row13_col4\" class=\"data row13 col4\" >0.4717</td>\n",
              "      <td id=\"T_bc339_row13_col5\" class=\"data row13 col5\" >0.4723</td>\n",
              "      <td id=\"T_bc339_row13_col6\" class=\"data row13 col6\" >0.4690</td>\n",
              "      <td id=\"T_bc339_row13_col7\" class=\"data row13 col7\" >0.0310</td>\n",
              "    </tr>\n",
              "    <tr>\n",
              "      <th id=\"T_bc339_level0_row14\" class=\"row_heading level0 row14\" >par</th>\n",
              "      <td id=\"T_bc339_row14_col0\" class=\"data row14 col0\" >Passive Aggressive Regressor</td>\n",
              "      <td id=\"T_bc339_row14_col1\" class=\"data row14 col1\" >148.0058</td>\n",
              "      <td id=\"T_bc339_row14_col2\" class=\"data row14 col2\" >42603.9489</td>\n",
              "      <td id=\"T_bc339_row14_col3\" class=\"data row14 col3\" >200.3910</td>\n",
              "      <td id=\"T_bc339_row14_col4\" class=\"data row14 col4\" >0.1866</td>\n",
              "      <td id=\"T_bc339_row14_col5\" class=\"data row14 col5\" >0.7747</td>\n",
              "      <td id=\"T_bc339_row14_col6\" class=\"data row14 col6\" >0.5848</td>\n",
              "      <td id=\"T_bc339_row14_col7\" class=\"data row14 col7\" >0.0350</td>\n",
              "    </tr>\n",
              "    <tr>\n",
              "      <th id=\"T_bc339_level0_row15\" class=\"row_heading level0 row15\" >dummy</th>\n",
              "      <td id=\"T_bc339_row15_col0\" class=\"data row15 col0\" >Dummy Regressor</td>\n",
              "      <td id=\"T_bc339_row15_col1\" class=\"data row15 col1\" >164.7087</td>\n",
              "      <td id=\"T_bc339_row15_col2\" class=\"data row15 col2\" >52388.5225</td>\n",
              "      <td id=\"T_bc339_row15_col3\" class=\"data row15 col3\" >228.8088</td>\n",
              "      <td id=\"T_bc339_row15_col4\" class=\"data row15 col4\" >-0.0009</td>\n",
              "      <td id=\"T_bc339_row15_col5\" class=\"data row15 col5\" >0.6684</td>\n",
              "      <td id=\"T_bc339_row15_col6\" class=\"data row15 col6\" >0.7391</td>\n",
              "      <td id=\"T_bc339_row15_col7\" class=\"data row15 col7\" >0.0270</td>\n",
              "    </tr>\n",
              "    <tr>\n",
              "      <th id=\"T_bc339_level0_row16\" class=\"row_heading level0 row16\" >ada</th>\n",
              "      <td id=\"T_bc339_row16_col0\" class=\"data row16 col0\" >AdaBoost Regressor</td>\n",
              "      <td id=\"T_bc339_row16_col1\" class=\"data row16 col1\" >167.2011</td>\n",
              "      <td id=\"T_bc339_row16_col2\" class=\"data row16 col2\" >36050.4029</td>\n",
              "      <td id=\"T_bc339_row16_col3\" class=\"data row16 col3\" >189.2303</td>\n",
              "      <td id=\"T_bc339_row16_col4\" class=\"data row16 col4\" >0.3082</td>\n",
              "      <td id=\"T_bc339_row16_col5\" class=\"data row16 col5\" >0.6680</td>\n",
              "      <td id=\"T_bc339_row16_col6\" class=\"data row16 col6\" >0.8816</td>\n",
              "      <td id=\"T_bc339_row16_col7\" class=\"data row16 col7\" >0.5520</td>\n",
              "    </tr>\n",
              "    <tr>\n",
              "      <th id=\"T_bc339_level0_row17\" class=\"row_heading level0 row17\" >lar</th>\n",
              "      <td id=\"T_bc339_row17_col0\" class=\"data row17 col0\" >Least Angle Regression</td>\n",
              "      <td id=\"T_bc339_row17_col1\" class=\"data row17 col1\" >8185533.0800</td>\n",
              "      <td id=\"T_bc339_row17_col2\" class=\"data row17 col2\" >1379374046498588.5000</td>\n",
              "      <td id=\"T_bc339_row17_col3\" class=\"data row17 col3\" >12815507.8201</td>\n",
              "      <td id=\"T_bc339_row17_col4\" class=\"data row17 col4\" >-27087608192.0740</td>\n",
              "      <td id=\"T_bc339_row17_col5\" class=\"data row17 col5\" >4.9620</td>\n",
              "      <td id=\"T_bc339_row17_col6\" class=\"data row17 col6\" >40935.6750</td>\n",
              "      <td id=\"T_bc339_row17_col7\" class=\"data row17 col7\" >0.0350</td>\n",
              "    </tr>\n",
              "  </tbody>\n",
              "</table>\n"
            ]
          },
          "metadata": {}
        },
        {
          "output_type": "display_data",
          "data": {
            "text/plain": [
              "Processing:   0%|          | 0/81 [00:00<?, ?it/s]"
            ],
            "application/vnd.jupyter.widget-view+json": {
              "version_major": 2,
              "version_minor": 0,
              "model_id": "6965cf7949f24277b2a7950ab4e5b105"
            }
          },
          "metadata": {
            "application/vnd.jupyter.widget-view+json": {
              "colab": {
                "custom_widget_manager": {
                  "url": "https://ssl.gstatic.com/colaboratory-static/widgets/colab-cdn-widget-manager/b3e629b1971e1542/manager.min.js"
                }
              }
            }
          }
        },
        {
          "output_type": "display_data",
          "data": {
            "text/plain": [
              "<IPython.core.display.HTML object>"
            ],
            "text/html": []
          },
          "metadata": {}
        }
      ]
    },
    {
      "cell_type": "markdown",
      "id": "34b4bc89",
      "metadata": {
        "id": "34b4bc89"
      },
      "source": [
        "# Model Hyperparameter Setting\n",
        "\n",
        "#### 대부분의 모델들은 사람이 직접 설정할 수 있는 Hyperparameter를 가지고 있습니다.\n",
        "#### 이런 Hyperparameter에 어떤 값이 설정되는가에 따라 모델의 성능은 크게 차이나게 됩니다. \n",
        "#### 본 Baseline에서 제공한 Ridge Regression 모델에서는 alpha를 Hyperparameter로 제공했습니다. \n",
        "#### alpha는 모델의 규제항으로, 모델의 오버피팅을 방지하는 역할을 합니다.\n"
      ]
    },
    {
      "cell_type": "code",
      "source": [
        "!pip install tqdm"
      ],
      "metadata": {
        "colab": {
          "base_uri": "https://localhost:8080/"
        },
        "id": "0AaE6ABdnE3V",
        "outputId": "78267018-f344-4fb0-8b4a-fe9e1a1a14b1"
      },
      "id": "0AaE6ABdnE3V",
      "execution_count": 25,
      "outputs": [
        {
          "output_type": "stream",
          "name": "stdout",
          "text": [
            "Looking in indexes: https://pypi.org/simple, https://us-python.pkg.dev/colab-wheels/public/simple/\n",
            "Requirement already satisfied: tqdm in /usr/local/lib/python3.8/dist-packages (4.64.1)\n"
          ]
        }
      ]
    },
    {
      "cell_type": "code",
      "source": [
        "from tqdm import tqdm\n",
        "from time import sleep"
      ],
      "metadata": {
        "id": "1r5VkEO1nGCq"
      },
      "id": "1r5VkEO1nGCq",
      "execution_count": 26,
      "outputs": []
    },
    {
      "cell_type": "markdown",
      "source": [
        "https://dacon.io/en/competitions/open/235698/talkboard/404315"
      ],
      "metadata": {
        "id": "TxT6F2MNnzWn"
      },
      "id": "TxT6F2MNnzWn"
    },
    {
      "cell_type": "code",
      "source": [
        "#GRIDSEARCH를 이용한 최적화\n",
        " \n",
        "params = {\n",
        "    'n_estimators':(50,42),\n",
        "    'max_depth' : (5,6,7, 8),\n",
        "    'random_state' : (0,42,50,100),\n",
        "    'min_samples_leaf' : (2,8,9,10, 18),\n",
        "    'min_samples_split' : (2,8,9,10, 16)\n",
        "}\n",
        "rf_run = RandomForestRegressor(random_state=0, n_jobs=-1)\n",
        "grid_cv = GridSearchCV(rf_run, param_grid=params, cv=2, n_jobs=-1)\n",
        "tqdm(grid_cv.fit(train_x, train_y))\n",
        " \n",
        " \n",
        "print('최적 하이퍼 파라미터:', grid_cv.best_params_)\n",
        "print('최적 예측 정확도: {0:.4f}'.format(grid_cv.best_score_))"
      ],
      "metadata": {
        "colab": {
          "base_uri": "https://localhost:8080/"
        },
        "id": "aenuLzCRnHu0",
        "outputId": "f3180833-a32e-44ba-8fa5-74b9f88bfe30"
      },
      "id": "aenuLzCRnHu0",
      "execution_count": 30,
      "outputs": [
        {
          "output_type": "stream",
          "name": "stderr",
          "text": [
            "0it [00:00, ?it/s]"
          ]
        },
        {
          "output_type": "stream",
          "name": "stdout",
          "text": [
            "최적 하이퍼 파라미터: {'max_depth': 8, 'min_samples_leaf': 2, 'min_samples_split': 2, 'n_estimators': 42, 'random_state': 50}\n",
            "최적 예측 정확도: 0.7965\n"
          ]
        },
        {
          "output_type": "stream",
          "name": "stderr",
          "text": [
            "\n"
          ]
        }
      ]
    },
    {
      "cell_type": "code",
      "source": [
        "model = RandomForestRegressor(random_state=50, max_depth=8, min_samples_leaf=2, min_samples_split=2,n_estimators=42)\n",
        "model.fit(train_x, train_y)"
      ],
      "metadata": {
        "colab": {
          "base_uri": "https://localhost:8080/"
        },
        "id": "NdgNLHY1j_SP",
        "outputId": "f8b27e29-c227-4a7d-d6c5-68dccb5770dc"
      },
      "id": "NdgNLHY1j_SP",
      "execution_count": 31,
      "outputs": [
        {
          "output_type": "execute_result",
          "data": {
            "text/plain": [
              "RandomForestRegressor(max_depth=8, min_samples_leaf=2, n_estimators=42,\n",
              "                      random_state=50)"
            ]
          },
          "metadata": {},
          "execution_count": 31
        }
      ]
    },
    {
      "cell_type": "markdown",
      "id": "e09a077f",
      "metadata": {
        "id": "e09a077f"
      },
      "source": [
        "# Model Fit"
      ]
    },
    {
      "cell_type": "code",
      "source": [
        "predictions = model.predict(test_x)"
      ],
      "metadata": {
        "id": "M1sWzHTbkDoz"
      },
      "id": "M1sWzHTbkDoz",
      "execution_count": 34,
      "outputs": []
    },
    {
      "cell_type": "markdown",
      "id": "a7ebd30a",
      "metadata": {
        "id": "a7ebd30a"
      },
      "source": [
        "# Prediction"
      ]
    },
    {
      "cell_type": "markdown",
      "id": "7cdeead7",
      "metadata": {
        "id": "7cdeead7"
      },
      "source": [
        "# Submit"
      ]
    },
    {
      "cell_type": "code",
      "execution_count": 32,
      "id": "27ec4297",
      "metadata": {
        "id": "27ec4297"
      },
      "outputs": [],
      "source": [
        "submission = pd.read_csv('/content/sample_submission.csv')"
      ]
    },
    {
      "cell_type": "code",
      "execution_count": 35,
      "id": "9d5ca556",
      "metadata": {
        "colab": {
          "base_uri": "https://localhost:8080/",
          "height": 424
        },
        "id": "9d5ca556",
        "outputId": "b0503773-be3b-43c5-c3e6-eff5eb5f06c3"
      },
      "outputs": [
        {
          "output_type": "execute_result",
          "data": {
            "text/plain": [
              "             ID  monthlyRent(us_dollar)\n",
              "0     Test_0000                       0\n",
              "1     Test_0001                       0\n",
              "2     Test_0002                       0\n",
              "3     Test_0003                       0\n",
              "4     Test_0004                       0\n",
              "...         ...                     ...\n",
              "8688  Test_8688                       0\n",
              "8689  Test_8689                       0\n",
              "8690  Test_8690                       0\n",
              "8691  Test_8691                       0\n",
              "8692  Test_8692                       0\n",
              "\n",
              "[8693 rows x 2 columns]"
            ],
            "text/html": [
              "\n",
              "  <div id=\"df-607c4ad7-db20-4b08-aea4-739847a2b394\">\n",
              "    <div class=\"colab-df-container\">\n",
              "      <div>\n",
              "<style scoped>\n",
              "    .dataframe tbody tr th:only-of-type {\n",
              "        vertical-align: middle;\n",
              "    }\n",
              "\n",
              "    .dataframe tbody tr th {\n",
              "        vertical-align: top;\n",
              "    }\n",
              "\n",
              "    .dataframe thead th {\n",
              "        text-align: right;\n",
              "    }\n",
              "</style>\n",
              "<table border=\"1\" class=\"dataframe\">\n",
              "  <thead>\n",
              "    <tr style=\"text-align: right;\">\n",
              "      <th></th>\n",
              "      <th>ID</th>\n",
              "      <th>monthlyRent(us_dollar)</th>\n",
              "    </tr>\n",
              "  </thead>\n",
              "  <tbody>\n",
              "    <tr>\n",
              "      <th>0</th>\n",
              "      <td>Test_0000</td>\n",
              "      <td>0</td>\n",
              "    </tr>\n",
              "    <tr>\n",
              "      <th>1</th>\n",
              "      <td>Test_0001</td>\n",
              "      <td>0</td>\n",
              "    </tr>\n",
              "    <tr>\n",
              "      <th>2</th>\n",
              "      <td>Test_0002</td>\n",
              "      <td>0</td>\n",
              "    </tr>\n",
              "    <tr>\n",
              "      <th>3</th>\n",
              "      <td>Test_0003</td>\n",
              "      <td>0</td>\n",
              "    </tr>\n",
              "    <tr>\n",
              "      <th>4</th>\n",
              "      <td>Test_0004</td>\n",
              "      <td>0</td>\n",
              "    </tr>\n",
              "    <tr>\n",
              "      <th>...</th>\n",
              "      <td>...</td>\n",
              "      <td>...</td>\n",
              "    </tr>\n",
              "    <tr>\n",
              "      <th>8688</th>\n",
              "      <td>Test_8688</td>\n",
              "      <td>0</td>\n",
              "    </tr>\n",
              "    <tr>\n",
              "      <th>8689</th>\n",
              "      <td>Test_8689</td>\n",
              "      <td>0</td>\n",
              "    </tr>\n",
              "    <tr>\n",
              "      <th>8690</th>\n",
              "      <td>Test_8690</td>\n",
              "      <td>0</td>\n",
              "    </tr>\n",
              "    <tr>\n",
              "      <th>8691</th>\n",
              "      <td>Test_8691</td>\n",
              "      <td>0</td>\n",
              "    </tr>\n",
              "    <tr>\n",
              "      <th>8692</th>\n",
              "      <td>Test_8692</td>\n",
              "      <td>0</td>\n",
              "    </tr>\n",
              "  </tbody>\n",
              "</table>\n",
              "<p>8693 rows × 2 columns</p>\n",
              "</div>\n",
              "      <button class=\"colab-df-convert\" onclick=\"convertToInteractive('df-607c4ad7-db20-4b08-aea4-739847a2b394')\"\n",
              "              title=\"Convert this dataframe to an interactive table.\"\n",
              "              style=\"display:none;\">\n",
              "        \n",
              "  <svg xmlns=\"http://www.w3.org/2000/svg\" height=\"24px\"viewBox=\"0 0 24 24\"\n",
              "       width=\"24px\">\n",
              "    <path d=\"M0 0h24v24H0V0z\" fill=\"none\"/>\n",
              "    <path d=\"M18.56 5.44l.94 2.06.94-2.06 2.06-.94-2.06-.94-.94-2.06-.94 2.06-2.06.94zm-11 1L8.5 8.5l.94-2.06 2.06-.94-2.06-.94L8.5 2.5l-.94 2.06-2.06.94zm10 10l.94 2.06.94-2.06 2.06-.94-2.06-.94-.94-2.06-.94 2.06-2.06.94z\"/><path d=\"M17.41 7.96l-1.37-1.37c-.4-.4-.92-.59-1.43-.59-.52 0-1.04.2-1.43.59L10.3 9.45l-7.72 7.72c-.78.78-.78 2.05 0 2.83L4 21.41c.39.39.9.59 1.41.59.51 0 1.02-.2 1.41-.59l7.78-7.78 2.81-2.81c.8-.78.8-2.07 0-2.86zM5.41 20L4 18.59l7.72-7.72 1.47 1.35L5.41 20z\"/>\n",
              "  </svg>\n",
              "      </button>\n",
              "      \n",
              "  <style>\n",
              "    .colab-df-container {\n",
              "      display:flex;\n",
              "      flex-wrap:wrap;\n",
              "      gap: 12px;\n",
              "    }\n",
              "\n",
              "    .colab-df-convert {\n",
              "      background-color: #E8F0FE;\n",
              "      border: none;\n",
              "      border-radius: 50%;\n",
              "      cursor: pointer;\n",
              "      display: none;\n",
              "      fill: #1967D2;\n",
              "      height: 32px;\n",
              "      padding: 0 0 0 0;\n",
              "      width: 32px;\n",
              "    }\n",
              "\n",
              "    .colab-df-convert:hover {\n",
              "      background-color: #E2EBFA;\n",
              "      box-shadow: 0px 1px 2px rgba(60, 64, 67, 0.3), 0px 1px 3px 1px rgba(60, 64, 67, 0.15);\n",
              "      fill: #174EA6;\n",
              "    }\n",
              "\n",
              "    [theme=dark] .colab-df-convert {\n",
              "      background-color: #3B4455;\n",
              "      fill: #D2E3FC;\n",
              "    }\n",
              "\n",
              "    [theme=dark] .colab-df-convert:hover {\n",
              "      background-color: #434B5C;\n",
              "      box-shadow: 0px 1px 3px 1px rgba(0, 0, 0, 0.15);\n",
              "      filter: drop-shadow(0px 1px 2px rgba(0, 0, 0, 0.3));\n",
              "      fill: #FFFFFF;\n",
              "    }\n",
              "  </style>\n",
              "\n",
              "      <script>\n",
              "        const buttonEl =\n",
              "          document.querySelector('#df-607c4ad7-db20-4b08-aea4-739847a2b394 button.colab-df-convert');\n",
              "        buttonEl.style.display =\n",
              "          google.colab.kernel.accessAllowed ? 'block' : 'none';\n",
              "\n",
              "        async function convertToInteractive(key) {\n",
              "          const element = document.querySelector('#df-607c4ad7-db20-4b08-aea4-739847a2b394');\n",
              "          const dataTable =\n",
              "            await google.colab.kernel.invokeFunction('convertToInteractive',\n",
              "                                                     [key], {});\n",
              "          if (!dataTable) return;\n",
              "\n",
              "          const docLinkHtml = 'Like what you see? Visit the ' +\n",
              "            '<a target=\"_blank\" href=https://colab.research.google.com/notebooks/data_table.ipynb>data table notebook</a>'\n",
              "            + ' to learn more about interactive tables.';\n",
              "          element.innerHTML = '';\n",
              "          dataTable['output_type'] = 'display_data';\n",
              "          await google.colab.output.renderOutput(dataTable, element);\n",
              "          const docLink = document.createElement('div');\n",
              "          docLink.innerHTML = docLinkHtml;\n",
              "          element.appendChild(docLink);\n",
              "        }\n",
              "      </script>\n",
              "    </div>\n",
              "  </div>\n",
              "  "
            ]
          },
          "metadata": {},
          "execution_count": 35
        }
      ],
      "source": [
        "submission"
      ]
    },
    {
      "cell_type": "code",
      "execution_count": 36,
      "id": "3f9c083f",
      "metadata": {
        "id": "3f9c083f"
      },
      "outputs": [],
      "source": [
        "submission['monthlyRent(us_dollar)'] = predictions"
      ]
    },
    {
      "cell_type": "code",
      "source": [
        "submission"
      ],
      "metadata": {
        "colab": {
          "base_uri": "https://localhost:8080/",
          "height": 424
        },
        "id": "ZDE0U6nUkZUT",
        "outputId": "e5f0e5b7-6ba4-447a-d90f-b639b4fafabe"
      },
      "id": "ZDE0U6nUkZUT",
      "execution_count": 37,
      "outputs": [
        {
          "output_type": "execute_result",
          "data": {
            "text/plain": [
              "             ID  monthlyRent(us_dollar)\n",
              "0     Test_0000              184.035403\n",
              "1     Test_0001              231.951574\n",
              "2     Test_0002              355.842142\n",
              "3     Test_0003              185.487237\n",
              "4     Test_0004               92.185731\n",
              "...         ...                     ...\n",
              "8688  Test_8688              367.160479\n",
              "8689  Test_8689              354.917172\n",
              "8690  Test_8690              214.934788\n",
              "8691  Test_8691              156.651634\n",
              "8692  Test_8692              194.462557\n",
              "\n",
              "[8693 rows x 2 columns]"
            ],
            "text/html": [
              "\n",
              "  <div id=\"df-4b740e73-ea5e-4944-9018-6058f808d9f3\">\n",
              "    <div class=\"colab-df-container\">\n",
              "      <div>\n",
              "<style scoped>\n",
              "    .dataframe tbody tr th:only-of-type {\n",
              "        vertical-align: middle;\n",
              "    }\n",
              "\n",
              "    .dataframe tbody tr th {\n",
              "        vertical-align: top;\n",
              "    }\n",
              "\n",
              "    .dataframe thead th {\n",
              "        text-align: right;\n",
              "    }\n",
              "</style>\n",
              "<table border=\"1\" class=\"dataframe\">\n",
              "  <thead>\n",
              "    <tr style=\"text-align: right;\">\n",
              "      <th></th>\n",
              "      <th>ID</th>\n",
              "      <th>monthlyRent(us_dollar)</th>\n",
              "    </tr>\n",
              "  </thead>\n",
              "  <tbody>\n",
              "    <tr>\n",
              "      <th>0</th>\n",
              "      <td>Test_0000</td>\n",
              "      <td>184.035403</td>\n",
              "    </tr>\n",
              "    <tr>\n",
              "      <th>1</th>\n",
              "      <td>Test_0001</td>\n",
              "      <td>231.951574</td>\n",
              "    </tr>\n",
              "    <tr>\n",
              "      <th>2</th>\n",
              "      <td>Test_0002</td>\n",
              "      <td>355.842142</td>\n",
              "    </tr>\n",
              "    <tr>\n",
              "      <th>3</th>\n",
              "      <td>Test_0003</td>\n",
              "      <td>185.487237</td>\n",
              "    </tr>\n",
              "    <tr>\n",
              "      <th>4</th>\n",
              "      <td>Test_0004</td>\n",
              "      <td>92.185731</td>\n",
              "    </tr>\n",
              "    <tr>\n",
              "      <th>...</th>\n",
              "      <td>...</td>\n",
              "      <td>...</td>\n",
              "    </tr>\n",
              "    <tr>\n",
              "      <th>8688</th>\n",
              "      <td>Test_8688</td>\n",
              "      <td>367.160479</td>\n",
              "    </tr>\n",
              "    <tr>\n",
              "      <th>8689</th>\n",
              "      <td>Test_8689</td>\n",
              "      <td>354.917172</td>\n",
              "    </tr>\n",
              "    <tr>\n",
              "      <th>8690</th>\n",
              "      <td>Test_8690</td>\n",
              "      <td>214.934788</td>\n",
              "    </tr>\n",
              "    <tr>\n",
              "      <th>8691</th>\n",
              "      <td>Test_8691</td>\n",
              "      <td>156.651634</td>\n",
              "    </tr>\n",
              "    <tr>\n",
              "      <th>8692</th>\n",
              "      <td>Test_8692</td>\n",
              "      <td>194.462557</td>\n",
              "    </tr>\n",
              "  </tbody>\n",
              "</table>\n",
              "<p>8693 rows × 2 columns</p>\n",
              "</div>\n",
              "      <button class=\"colab-df-convert\" onclick=\"convertToInteractive('df-4b740e73-ea5e-4944-9018-6058f808d9f3')\"\n",
              "              title=\"Convert this dataframe to an interactive table.\"\n",
              "              style=\"display:none;\">\n",
              "        \n",
              "  <svg xmlns=\"http://www.w3.org/2000/svg\" height=\"24px\"viewBox=\"0 0 24 24\"\n",
              "       width=\"24px\">\n",
              "    <path d=\"M0 0h24v24H0V0z\" fill=\"none\"/>\n",
              "    <path d=\"M18.56 5.44l.94 2.06.94-2.06 2.06-.94-2.06-.94-.94-2.06-.94 2.06-2.06.94zm-11 1L8.5 8.5l.94-2.06 2.06-.94-2.06-.94L8.5 2.5l-.94 2.06-2.06.94zm10 10l.94 2.06.94-2.06 2.06-.94-2.06-.94-.94-2.06-.94 2.06-2.06.94z\"/><path d=\"M17.41 7.96l-1.37-1.37c-.4-.4-.92-.59-1.43-.59-.52 0-1.04.2-1.43.59L10.3 9.45l-7.72 7.72c-.78.78-.78 2.05 0 2.83L4 21.41c.39.39.9.59 1.41.59.51 0 1.02-.2 1.41-.59l7.78-7.78 2.81-2.81c.8-.78.8-2.07 0-2.86zM5.41 20L4 18.59l7.72-7.72 1.47 1.35L5.41 20z\"/>\n",
              "  </svg>\n",
              "      </button>\n",
              "      \n",
              "  <style>\n",
              "    .colab-df-container {\n",
              "      display:flex;\n",
              "      flex-wrap:wrap;\n",
              "      gap: 12px;\n",
              "    }\n",
              "\n",
              "    .colab-df-convert {\n",
              "      background-color: #E8F0FE;\n",
              "      border: none;\n",
              "      border-radius: 50%;\n",
              "      cursor: pointer;\n",
              "      display: none;\n",
              "      fill: #1967D2;\n",
              "      height: 32px;\n",
              "      padding: 0 0 0 0;\n",
              "      width: 32px;\n",
              "    }\n",
              "\n",
              "    .colab-df-convert:hover {\n",
              "      background-color: #E2EBFA;\n",
              "      box-shadow: 0px 1px 2px rgba(60, 64, 67, 0.3), 0px 1px 3px 1px rgba(60, 64, 67, 0.15);\n",
              "      fill: #174EA6;\n",
              "    }\n",
              "\n",
              "    [theme=dark] .colab-df-convert {\n",
              "      background-color: #3B4455;\n",
              "      fill: #D2E3FC;\n",
              "    }\n",
              "\n",
              "    [theme=dark] .colab-df-convert:hover {\n",
              "      background-color: #434B5C;\n",
              "      box-shadow: 0px 1px 3px 1px rgba(0, 0, 0, 0.15);\n",
              "      filter: drop-shadow(0px 1px 2px rgba(0, 0, 0, 0.3));\n",
              "      fill: #FFFFFF;\n",
              "    }\n",
              "  </style>\n",
              "\n",
              "      <script>\n",
              "        const buttonEl =\n",
              "          document.querySelector('#df-4b740e73-ea5e-4944-9018-6058f808d9f3 button.colab-df-convert');\n",
              "        buttonEl.style.display =\n",
              "          google.colab.kernel.accessAllowed ? 'block' : 'none';\n",
              "\n",
              "        async function convertToInteractive(key) {\n",
              "          const element = document.querySelector('#df-4b740e73-ea5e-4944-9018-6058f808d9f3');\n",
              "          const dataTable =\n",
              "            await google.colab.kernel.invokeFunction('convertToInteractive',\n",
              "                                                     [key], {});\n",
              "          if (!dataTable) return;\n",
              "\n",
              "          const docLinkHtml = 'Like what you see? Visit the ' +\n",
              "            '<a target=\"_blank\" href=https://colab.research.google.com/notebooks/data_table.ipynb>data table notebook</a>'\n",
              "            + ' to learn more about interactive tables.';\n",
              "          element.innerHTML = '';\n",
              "          dataTable['output_type'] = 'display_data';\n",
              "          await google.colab.output.renderOutput(dataTable, element);\n",
              "          const docLink = document.createElement('div');\n",
              "          docLink.innerHTML = docLinkHtml;\n",
              "          element.appendChild(docLink);\n",
              "        }\n",
              "      </script>\n",
              "    </div>\n",
              "  </div>\n",
              "  "
            ]
          },
          "metadata": {},
          "execution_count": 37
        }
      ]
    },
    {
      "cell_type": "code",
      "source": [
        "submission.to_csv('./submit.csv', index=False)"
      ],
      "metadata": {
        "id": "0kTm_QEUkcFt"
      },
      "id": "0kTm_QEUkcFt",
      "execution_count": 38,
      "outputs": []
    }
  ],
  "metadata": {
    "kernelspec": {
      "display_name": "moonjong",
      "language": "python",
      "name": "moonjong"
    },
    "language_info": {
      "codemirror_mode": {
        "name": "ipython",
        "version": 3
      },
      "file_extension": ".py",
      "mimetype": "text/x-python",
      "name": "python",
      "nbconvert_exporter": "python",
      "pygments_lexer": "ipython3",
      "version": "3.8.13"
    },
    "colab": {
      "provenance": []
    },
    "widgets": {
      "application/vnd.jupyter.widget-state+json": {
        "6965cf7949f24277b2a7950ab4e5b105": {
          "model_module": "@jupyter-widgets/controls",
          "model_name": "HBoxModel",
          "model_module_version": "1.5.0",
          "state": {
            "_dom_classes": [],
            "_model_module": "@jupyter-widgets/controls",
            "_model_module_version": "1.5.0",
            "_model_name": "HBoxModel",
            "_view_count": null,
            "_view_module": "@jupyter-widgets/controls",
            "_view_module_version": "1.5.0",
            "_view_name": "HBoxView",
            "box_style": "",
            "children": [
              "IPY_MODEL_a23cc57a088848be8df6cd69cc18d159",
              "IPY_MODEL_13678eacf73d42b9a39565d265c89265",
              "IPY_MODEL_469d2221f12c4c5bb423c45c3eea21cc"
            ],
            "layout": "IPY_MODEL_4734dfaaf3f14ba2ac57bf8705bc96c0"
          }
        },
        "a23cc57a088848be8df6cd69cc18d159": {
          "model_module": "@jupyter-widgets/controls",
          "model_name": "HTMLModel",
          "model_module_version": "1.5.0",
          "state": {
            "_dom_classes": [],
            "_model_module": "@jupyter-widgets/controls",
            "_model_module_version": "1.5.0",
            "_model_name": "HTMLModel",
            "_view_count": null,
            "_view_module": "@jupyter-widgets/controls",
            "_view_module_version": "1.5.0",
            "_view_name": "HTMLView",
            "description": "",
            "description_tooltip": null,
            "layout": "IPY_MODEL_ff54e473185a46feaa3c47565312a2e8",
            "placeholder": "​",
            "style": "IPY_MODEL_93c68f167c1b4d1e9f5bb6f1206e1236",
            "value": "Processing: 100%"
          }
        },
        "13678eacf73d42b9a39565d265c89265": {
          "model_module": "@jupyter-widgets/controls",
          "model_name": "FloatProgressModel",
          "model_module_version": "1.5.0",
          "state": {
            "_dom_classes": [],
            "_model_module": "@jupyter-widgets/controls",
            "_model_module_version": "1.5.0",
            "_model_name": "FloatProgressModel",
            "_view_count": null,
            "_view_module": "@jupyter-widgets/controls",
            "_view_module_version": "1.5.0",
            "_view_name": "ProgressView",
            "bar_style": "",
            "description": "",
            "description_tooltip": null,
            "layout": "IPY_MODEL_b9ec46dbcc2644debfc6d486da4af879",
            "max": 81,
            "min": 0,
            "orientation": "horizontal",
            "style": "IPY_MODEL_5f8d3725f26546ecbb462060f716aca8",
            "value": 81
          }
        },
        "469d2221f12c4c5bb423c45c3eea21cc": {
          "model_module": "@jupyter-widgets/controls",
          "model_name": "HTMLModel",
          "model_module_version": "1.5.0",
          "state": {
            "_dom_classes": [],
            "_model_module": "@jupyter-widgets/controls",
            "_model_module_version": "1.5.0",
            "_model_name": "HTMLModel",
            "_view_count": null,
            "_view_module": "@jupyter-widgets/controls",
            "_view_module_version": "1.5.0",
            "_view_name": "HTMLView",
            "description": "",
            "description_tooltip": null,
            "layout": "IPY_MODEL_c7c732cce74b4440bc14c0b39e0cd6e8",
            "placeholder": "​",
            "style": "IPY_MODEL_f649b4e12a4349b5a18ef549d3fb3d84",
            "value": " 81/81 [01:35&lt;00:00,  1.04s/it]"
          }
        },
        "4734dfaaf3f14ba2ac57bf8705bc96c0": {
          "model_module": "@jupyter-widgets/base",
          "model_name": "LayoutModel",
          "model_module_version": "1.2.0",
          "state": {
            "_model_module": "@jupyter-widgets/base",
            "_model_module_version": "1.2.0",
            "_model_name": "LayoutModel",
            "_view_count": null,
            "_view_module": "@jupyter-widgets/base",
            "_view_module_version": "1.2.0",
            "_view_name": "LayoutView",
            "align_content": null,
            "align_items": null,
            "align_self": null,
            "border": null,
            "bottom": null,
            "display": null,
            "flex": null,
            "flex_flow": null,
            "grid_area": null,
            "grid_auto_columns": null,
            "grid_auto_flow": null,
            "grid_auto_rows": null,
            "grid_column": null,
            "grid_gap": null,
            "grid_row": null,
            "grid_template_areas": null,
            "grid_template_columns": null,
            "grid_template_rows": null,
            "height": null,
            "justify_content": null,
            "justify_items": null,
            "left": null,
            "margin": null,
            "max_height": null,
            "max_width": null,
            "min_height": null,
            "min_width": null,
            "object_fit": null,
            "object_position": null,
            "order": null,
            "overflow": null,
            "overflow_x": null,
            "overflow_y": null,
            "padding": null,
            "right": null,
            "top": null,
            "visibility": "hidden",
            "width": null
          }
        },
        "ff54e473185a46feaa3c47565312a2e8": {
          "model_module": "@jupyter-widgets/base",
          "model_name": "LayoutModel",
          "model_module_version": "1.2.0",
          "state": {
            "_model_module": "@jupyter-widgets/base",
            "_model_module_version": "1.2.0",
            "_model_name": "LayoutModel",
            "_view_count": null,
            "_view_module": "@jupyter-widgets/base",
            "_view_module_version": "1.2.0",
            "_view_name": "LayoutView",
            "align_content": null,
            "align_items": null,
            "align_self": null,
            "border": null,
            "bottom": null,
            "display": null,
            "flex": null,
            "flex_flow": null,
            "grid_area": null,
            "grid_auto_columns": null,
            "grid_auto_flow": null,
            "grid_auto_rows": null,
            "grid_column": null,
            "grid_gap": null,
            "grid_row": null,
            "grid_template_areas": null,
            "grid_template_columns": null,
            "grid_template_rows": null,
            "height": null,
            "justify_content": null,
            "justify_items": null,
            "left": null,
            "margin": null,
            "max_height": null,
            "max_width": null,
            "min_height": null,
            "min_width": null,
            "object_fit": null,
            "object_position": null,
            "order": null,
            "overflow": null,
            "overflow_x": null,
            "overflow_y": null,
            "padding": null,
            "right": null,
            "top": null,
            "visibility": null,
            "width": null
          }
        },
        "93c68f167c1b4d1e9f5bb6f1206e1236": {
          "model_module": "@jupyter-widgets/controls",
          "model_name": "DescriptionStyleModel",
          "model_module_version": "1.5.0",
          "state": {
            "_model_module": "@jupyter-widgets/controls",
            "_model_module_version": "1.5.0",
            "_model_name": "DescriptionStyleModel",
            "_view_count": null,
            "_view_module": "@jupyter-widgets/base",
            "_view_module_version": "1.2.0",
            "_view_name": "StyleView",
            "description_width": ""
          }
        },
        "b9ec46dbcc2644debfc6d486da4af879": {
          "model_module": "@jupyter-widgets/base",
          "model_name": "LayoutModel",
          "model_module_version": "1.2.0",
          "state": {
            "_model_module": "@jupyter-widgets/base",
            "_model_module_version": "1.2.0",
            "_model_name": "LayoutModel",
            "_view_count": null,
            "_view_module": "@jupyter-widgets/base",
            "_view_module_version": "1.2.0",
            "_view_name": "LayoutView",
            "align_content": null,
            "align_items": null,
            "align_self": null,
            "border": null,
            "bottom": null,
            "display": null,
            "flex": null,
            "flex_flow": null,
            "grid_area": null,
            "grid_auto_columns": null,
            "grid_auto_flow": null,
            "grid_auto_rows": null,
            "grid_column": null,
            "grid_gap": null,
            "grid_row": null,
            "grid_template_areas": null,
            "grid_template_columns": null,
            "grid_template_rows": null,
            "height": null,
            "justify_content": null,
            "justify_items": null,
            "left": null,
            "margin": null,
            "max_height": null,
            "max_width": null,
            "min_height": null,
            "min_width": null,
            "object_fit": null,
            "object_position": null,
            "order": null,
            "overflow": null,
            "overflow_x": null,
            "overflow_y": null,
            "padding": null,
            "right": null,
            "top": null,
            "visibility": null,
            "width": null
          }
        },
        "5f8d3725f26546ecbb462060f716aca8": {
          "model_module": "@jupyter-widgets/controls",
          "model_name": "ProgressStyleModel",
          "model_module_version": "1.5.0",
          "state": {
            "_model_module": "@jupyter-widgets/controls",
            "_model_module_version": "1.5.0",
            "_model_name": "ProgressStyleModel",
            "_view_count": null,
            "_view_module": "@jupyter-widgets/base",
            "_view_module_version": "1.2.0",
            "_view_name": "StyleView",
            "bar_color": null,
            "description_width": ""
          }
        },
        "c7c732cce74b4440bc14c0b39e0cd6e8": {
          "model_module": "@jupyter-widgets/base",
          "model_name": "LayoutModel",
          "model_module_version": "1.2.0",
          "state": {
            "_model_module": "@jupyter-widgets/base",
            "_model_module_version": "1.2.0",
            "_model_name": "LayoutModel",
            "_view_count": null,
            "_view_module": "@jupyter-widgets/base",
            "_view_module_version": "1.2.0",
            "_view_name": "LayoutView",
            "align_content": null,
            "align_items": null,
            "align_self": null,
            "border": null,
            "bottom": null,
            "display": null,
            "flex": null,
            "flex_flow": null,
            "grid_area": null,
            "grid_auto_columns": null,
            "grid_auto_flow": null,
            "grid_auto_rows": null,
            "grid_column": null,
            "grid_gap": null,
            "grid_row": null,
            "grid_template_areas": null,
            "grid_template_columns": null,
            "grid_template_rows": null,
            "height": null,
            "justify_content": null,
            "justify_items": null,
            "left": null,
            "margin": null,
            "max_height": null,
            "max_width": null,
            "min_height": null,
            "min_width": null,
            "object_fit": null,
            "object_position": null,
            "order": null,
            "overflow": null,
            "overflow_x": null,
            "overflow_y": null,
            "padding": null,
            "right": null,
            "top": null,
            "visibility": null,
            "width": null
          }
        },
        "f649b4e12a4349b5a18ef549d3fb3d84": {
          "model_module": "@jupyter-widgets/controls",
          "model_name": "DescriptionStyleModel",
          "model_module_version": "1.5.0",
          "state": {
            "_model_module": "@jupyter-widgets/controls",
            "_model_module_version": "1.5.0",
            "_model_name": "DescriptionStyleModel",
            "_view_count": null,
            "_view_module": "@jupyter-widgets/base",
            "_view_module_version": "1.2.0",
            "_view_name": "StyleView",
            "description_width": ""
          }
        }
      }
    }
  },
  "nbformat": 4,
  "nbformat_minor": 5
}