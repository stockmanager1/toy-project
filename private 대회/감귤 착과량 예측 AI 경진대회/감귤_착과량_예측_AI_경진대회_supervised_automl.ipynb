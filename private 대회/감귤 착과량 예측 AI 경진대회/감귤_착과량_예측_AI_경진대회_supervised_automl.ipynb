{
  "nbformat": 4,
  "nbformat_minor": 0,
  "metadata": {
    "colab": {
      "provenance": []
    },
    "kernelspec": {
      "name": "python3",
      "display_name": "Python 3"
    },
    "language_info": {
      "name": "python"
    },
    "gpuClass": "standard"
  },
  "cells": [
    {
      "cell_type": "markdown",
      "source": [
        "일반적으로 데이터셋이 클수록, AutoGluon과 같은 모델 선택 및 하이퍼파라미터 최적화를 자동화하는 AutoML 시스템이 더 효과적일 가능성이 높습니다. 이는 데이터셋의 크기가 모델 성능에 중요한 역할을 하는 경우에 특히 그렇습니다.\n",
        "\n",
        "AutoGluon은 다양한 모델 아키텍처와 하이퍼파라미터 설정을 자동으로 선택하고 최적화하는 데 있어서, 큰 데이터셋에서도 잘 작동합니다. 반면 Supervised AutoML은 미리 정의된 모델 아키텍처와 하이퍼파라미터 공간을 기반으로 최적화를 수행하므로, 상대적으로 작은 데이터셋에서 더 적합할 수 있습니다.\n",
        "\n",
        "하지만, 이 역시도 데이터셋의 특성에 따라 달라질 수 있으므로, 데이터셋과 문제의 특성을 고려하여 두 시스템을 비교하여 결정하는 것이 좋습니다."
      ],
      "metadata": {
        "id": "bHz7OlaIuPQT"
      }
    },
    {
      "cell_type": "code",
      "execution_count": 1,
      "metadata": {
        "id": "7J024t8Ydkbs"
      },
      "outputs": [],
      "source": [
        "import pandas as pd\n",
        "import random\n",
        "import os\n",
        "import numpy as np\n",
        "\n",
        "from sklearn.preprocessing import LabelEncoder\n",
        "from sklearn.linear_model import LinearRegression\n",
        "\n",
        "from sklearn.model_selection import train_test_split\n",
        "\n",
        "import seaborn as sns\n",
        "import matplotlib as mpl\n",
        "import matplotlib.pyplot as plt\n",
        "\n",
        "from sklearn.model_selection import train_test_split\n",
        "\n",
        "from sklearn.metrics import mean_absolute_error"
      ]
    },
    {
      "cell_type": "code",
      "source": [
        "!pip install mljar-supervised"
      ],
      "metadata": {
        "colab": {
          "base_uri": "https://localhost:8080/"
        },
        "id": "dDNFLKzgrOx5",
        "outputId": "c4188e76-928f-4395-95c8-b82d03369464"
      },
      "execution_count": 2,
      "outputs": [
        {
          "output_type": "stream",
          "name": "stdout",
          "text": [
            "Looking in indexes: https://pypi.org/simple, https://us-python.pkg.dev/colab-wheels/public/simple/\n",
            "Collecting mljar-supervised\n",
            "  Downloading mljar-supervised-0.11.5.tar.gz (112 kB)\n",
            "\u001b[2K     \u001b[90m━━━━━━━━━━━━━━━━━━━━━━━━━━━━━━━━━━━━━━━\u001b[0m \u001b[32m112.7/112.7 KB\u001b[0m \u001b[31m2.4 MB/s\u001b[0m eta \u001b[36m0:00:00\u001b[0m\n",
            "\u001b[?25h  Preparing metadata (setup.py) ... \u001b[?25l\u001b[?25hdone\n",
            "Requirement already satisfied: numpy>=1.19.5 in /usr/local/lib/python3.9/dist-packages (from mljar-supervised) (1.22.4)\n",
            "Requirement already satisfied: pandas>=1.2.0 in /usr/local/lib/python3.9/dist-packages (from mljar-supervised) (1.3.5)\n",
            "Requirement already satisfied: scipy>=1.6.1 in /usr/local/lib/python3.9/dist-packages (from mljar-supervised) (1.10.1)\n",
            "Requirement already satisfied: scikit-learn>=1.0 in /usr/local/lib/python3.9/dist-packages (from mljar-supervised) (1.2.1)\n",
            "Requirement already satisfied: xgboost>=1.3.3 in /usr/local/lib/python3.9/dist-packages (from mljar-supervised) (1.7.4)\n",
            "Collecting lightgbm>=3.0.0\n",
            "  Downloading lightgbm-3.3.5-py3-none-manylinux1_x86_64.whl (2.0 MB)\n",
            "\u001b[2K     \u001b[90m━━━━━━━━━━━━━━━━━━━━━━━━━━━━━━━━━━━━━━━━\u001b[0m \u001b[32m2.0/2.0 MB\u001b[0m \u001b[31m16.7 MB/s\u001b[0m eta \u001b[36m0:00:00\u001b[0m\n",
            "\u001b[?25hCollecting catboost>=0.24.4\n",
            "  Downloading catboost-1.1.1-cp39-none-manylinux1_x86_64.whl (76.6 MB)\n",
            "\u001b[2K     \u001b[90m━━━━━━━━━━━━━━━━━━━━━━━━━━━━━━━━━━━━━━━━\u001b[0m \u001b[32m76.6/76.6 MB\u001b[0m \u001b[31m6.5 MB/s\u001b[0m eta \u001b[36m0:00:00\u001b[0m\n",
            "\u001b[?25hRequirement already satisfied: joblib>=1.0.1 in /usr/local/lib/python3.9/dist-packages (from mljar-supervised) (1.2.0)\n",
            "Requirement already satisfied: tabulate>=0.8.7 in /usr/local/lib/python3.9/dist-packages (from mljar-supervised) (0.8.10)\n",
            "Requirement already satisfied: matplotlib>=3.2.2 in /usr/local/lib/python3.9/dist-packages (from mljar-supervised) (3.5.3)\n",
            "Collecting dtreeviz>=2.0.0\n",
            "  Downloading dtreeviz-2.2.0-py3-none-any.whl (90 kB)\n",
            "\u001b[2K     \u001b[90m━━━━━━━━━━━━━━━━━━━━━━━━━━━━━━━━━━━━━━━━\u001b[0m \u001b[32m90.5/90.5 KB\u001b[0m \u001b[31m4.5 MB/s\u001b[0m eta \u001b[36m0:00:00\u001b[0m\n",
            "\u001b[?25hCollecting shap>=0.36.0\n",
            "  Downloading shap-0.41.0-cp39-cp39-manylinux_2_12_x86_64.manylinux2010_x86_64.whl (572 kB)\n",
            "\u001b[2K     \u001b[90m━━━━━━━━━━━━━━━━━━━━━━━━━━━━━━━━━━━━━━━\u001b[0m \u001b[32m572.4/572.4 KB\u001b[0m \u001b[31m8.4 MB/s\u001b[0m eta \u001b[36m0:00:00\u001b[0m\n",
            "\u001b[?25hRequirement already satisfied: seaborn>=0.11.1 in /usr/local/lib/python3.9/dist-packages (from mljar-supervised) (0.11.2)\n",
            "Requirement already satisfied: wordcloud>=1.8.1 in /usr/local/lib/python3.9/dist-packages (from mljar-supervised) (1.8.2.2)\n",
            "Collecting category_encoders>=2.2.2\n",
            "  Downloading category_encoders-2.6.0-py2.py3-none-any.whl (81 kB)\n",
            "\u001b[2K     \u001b[90m━━━━━━━━━━━━━━━━━━━━━━━━━━━━━━━━━━━━━━━━\u001b[0m \u001b[32m81.2/81.2 KB\u001b[0m \u001b[31m1.7 MB/s\u001b[0m eta \u001b[36m0:00:00\u001b[0m\n",
            "\u001b[?25hCollecting optuna>=2.7.0\n",
            "  Downloading optuna-3.1.0-py3-none-any.whl (365 kB)\n",
            "\u001b[2K     \u001b[90m━━━━━━━━━━━━━━━━━━━━━━━━━━━━━━━━━━━━━━━\u001b[0m \u001b[32m365.3/365.3 KB\u001b[0m \u001b[31m7.5 MB/s\u001b[0m eta \u001b[36m0:00:00\u001b[0m\n",
            "\u001b[?25hCollecting scikit-plot==0.3.7\n",
            "  Downloading scikit_plot-0.3.7-py3-none-any.whl (33 kB)\n",
            "Requirement already satisfied: markdown in /usr/local/lib/python3.9/dist-packages (from mljar-supervised) (3.4.1)\n",
            "Requirement already satisfied: typing-extensions in /usr/local/lib/python3.9/dist-packages (from mljar-supervised) (4.5.0)\n",
            "Requirement already satisfied: plotly in /usr/local/lib/python3.9/dist-packages (from catboost>=0.24.4->mljar-supervised) (5.5.0)\n",
            "Requirement already satisfied: six in /usr/local/lib/python3.9/dist-packages (from catboost>=0.24.4->mljar-supervised) (1.15.0)\n",
            "Requirement already satisfied: graphviz in /usr/local/lib/python3.9/dist-packages (from catboost>=0.24.4->mljar-supervised) (0.10.1)\n",
            "Requirement already satisfied: patsy>=0.5.1 in /usr/local/lib/python3.9/dist-packages (from category_encoders>=2.2.2->mljar-supervised) (0.5.3)\n",
            "Requirement already satisfied: statsmodels>=0.9.0 in /usr/local/lib/python3.9/dist-packages (from category_encoders>=2.2.2->mljar-supervised) (0.13.5)\n",
            "Collecting colour\n",
            "  Downloading colour-0.1.5-py2.py3-none-any.whl (23 kB)\n",
            "Requirement already satisfied: pytest in /usr/local/lib/python3.9/dist-packages (from dtreeviz>=2.0.0->mljar-supervised) (3.6.4)\n",
            "Requirement already satisfied: wheel in /usr/local/lib/python3.9/dist-packages (from lightgbm>=3.0.0->mljar-supervised) (0.38.4)\n",
            "Requirement already satisfied: pillow>=6.2.0 in /usr/local/lib/python3.9/dist-packages (from matplotlib>=3.2.2->mljar-supervised) (8.4.0)\n",
            "Requirement already satisfied: fonttools>=4.22.0 in /usr/local/lib/python3.9/dist-packages (from matplotlib>=3.2.2->mljar-supervised) (4.39.0)\n",
            "Requirement already satisfied: kiwisolver>=1.0.1 in /usr/local/lib/python3.9/dist-packages (from matplotlib>=3.2.2->mljar-supervised) (1.4.4)\n",
            "Requirement already satisfied: cycler>=0.10 in /usr/local/lib/python3.9/dist-packages (from matplotlib>=3.2.2->mljar-supervised) (0.11.0)\n",
            "Requirement already satisfied: packaging>=20.0 in /usr/local/lib/python3.9/dist-packages (from matplotlib>=3.2.2->mljar-supervised) (23.0)\n",
            "Requirement already satisfied: python-dateutil>=2.7 in /usr/local/lib/python3.9/dist-packages (from matplotlib>=3.2.2->mljar-supervised) (2.8.2)\n",
            "Requirement already satisfied: pyparsing>=2.2.1 in /usr/local/lib/python3.9/dist-packages (from matplotlib>=3.2.2->mljar-supervised) (3.0.9)\n",
            "Collecting colorlog\n",
            "  Downloading colorlog-6.7.0-py2.py3-none-any.whl (11 kB)\n",
            "Requirement already satisfied: PyYAML in /usr/local/lib/python3.9/dist-packages (from optuna>=2.7.0->mljar-supervised) (6.0)\n",
            "Collecting cmaes>=0.9.1\n",
            "  Downloading cmaes-0.9.1-py3-none-any.whl (21 kB)\n",
            "Requirement already satisfied: tqdm in /usr/local/lib/python3.9/dist-packages (from optuna>=2.7.0->mljar-supervised) (4.65.0)\n",
            "Collecting alembic>=1.5.0\n",
            "  Downloading alembic-1.10.2-py3-none-any.whl (212 kB)\n",
            "\u001b[2K     \u001b[90m━━━━━━━━━━━━━━━━━━━━━━━━━━━━━━━━━━━━━━\u001b[0m \u001b[32m212.2/212.2 KB\u001b[0m \u001b[31m11.0 MB/s\u001b[0m eta \u001b[36m0:00:00\u001b[0m\n",
            "\u001b[?25hRequirement already satisfied: sqlalchemy>=1.3.0 in /usr/local/lib/python3.9/dist-packages (from optuna>=2.7.0->mljar-supervised) (1.4.46)\n",
            "Requirement already satisfied: pytz>=2017.3 in /usr/local/lib/python3.9/dist-packages (from pandas>=1.2.0->mljar-supervised) (2022.7.1)\n",
            "Requirement already satisfied: threadpoolctl>=2.0.0 in /usr/local/lib/python3.9/dist-packages (from scikit-learn>=1.0->mljar-supervised) (3.1.0)\n",
            "Requirement already satisfied: numba in /usr/local/lib/python3.9/dist-packages (from shap>=0.36.0->mljar-supervised) (0.56.4)\n",
            "Collecting slicer==0.0.7\n",
            "  Downloading slicer-0.0.7-py3-none-any.whl (14 kB)\n",
            "Requirement already satisfied: cloudpickle in /usr/local/lib/python3.9/dist-packages (from shap>=0.36.0->mljar-supervised) (2.2.1)\n",
            "Requirement already satisfied: importlib-metadata>=4.4 in /usr/local/lib/python3.9/dist-packages (from markdown->mljar-supervised) (6.0.0)\n",
            "Collecting Mako\n",
            "  Downloading Mako-1.2.4-py3-none-any.whl (78 kB)\n",
            "\u001b[2K     \u001b[90m━━━━━━━━━━━━━━━━━━━━━━━━━━━━━━━━━━━━━━━━\u001b[0m \u001b[32m78.7/78.7 KB\u001b[0m \u001b[31m2.7 MB/s\u001b[0m eta \u001b[36m0:00:00\u001b[0m\n",
            "\u001b[?25hRequirement already satisfied: zipp>=0.5 in /usr/local/lib/python3.9/dist-packages (from importlib-metadata>=4.4->markdown->mljar-supervised) (3.15.0)\n",
            "Requirement already satisfied: greenlet!=0.4.17 in /usr/local/lib/python3.9/dist-packages (from sqlalchemy>=1.3.0->optuna>=2.7.0->mljar-supervised) (2.0.2)\n",
            "Requirement already satisfied: setuptools in /usr/local/lib/python3.9/dist-packages (from numba->shap>=0.36.0->mljar-supervised) (57.4.0)\n",
            "Requirement already satisfied: llvmlite<0.40,>=0.39.0dev0 in /usr/local/lib/python3.9/dist-packages (from numba->shap>=0.36.0->mljar-supervised) (0.39.1)\n",
            "Requirement already satisfied: tenacity>=6.2.0 in /usr/local/lib/python3.9/dist-packages (from plotly->catboost>=0.24.4->mljar-supervised) (8.2.2)\n",
            "Requirement already satisfied: atomicwrites>=1.0 in /usr/local/lib/python3.9/dist-packages (from pytest->dtreeviz>=2.0.0->mljar-supervised) (1.4.1)\n",
            "Requirement already satisfied: more-itertools>=4.0.0 in /usr/local/lib/python3.9/dist-packages (from pytest->dtreeviz>=2.0.0->mljar-supervised) (9.1.0)\n",
            "Requirement already satisfied: py>=1.5.0 in /usr/local/lib/python3.9/dist-packages (from pytest->dtreeviz>=2.0.0->mljar-supervised) (1.11.0)\n",
            "Requirement already satisfied: attrs>=17.4.0 in /usr/local/lib/python3.9/dist-packages (from pytest->dtreeviz>=2.0.0->mljar-supervised) (22.2.0)\n",
            "Requirement already satisfied: pluggy<0.8,>=0.5 in /usr/local/lib/python3.9/dist-packages (from pytest->dtreeviz>=2.0.0->mljar-supervised) (0.7.1)\n",
            "Requirement already satisfied: MarkupSafe>=0.9.2 in /usr/local/lib/python3.9/dist-packages (from Mako->alembic>=1.5.0->optuna>=2.7.0->mljar-supervised) (2.1.2)\n",
            "Building wheels for collected packages: mljar-supervised\n",
            "  Building wheel for mljar-supervised (setup.py) ... \u001b[?25l\u001b[?25hdone\n",
            "  Created wheel for mljar-supervised: filename=mljar_supervised-0.11.5-py3-none-any.whl size=147063 sha256=209fcda43769632ed008b90966452308722391f54573d01b07a9c73d08e3c695\n",
            "  Stored in directory: /root/.cache/pip/wheels/62/ed/f2/9a70a649613cf977a8b1e39ce373d14290a135fa309c1f1638\n",
            "Successfully built mljar-supervised\n",
            "Installing collected packages: colour, slicer, Mako, colorlog, cmaes, alembic, shap, scikit-plot, optuna, lightgbm, dtreeviz, catboost, category_encoders, mljar-supervised\n",
            "  Attempting uninstall: lightgbm\n",
            "    Found existing installation: lightgbm 2.2.3\n",
            "    Uninstalling lightgbm-2.2.3:\n",
            "      Successfully uninstalled lightgbm-2.2.3\n",
            "Successfully installed Mako-1.2.4 alembic-1.10.2 catboost-1.1.1 category_encoders-2.6.0 cmaes-0.9.1 colorlog-6.7.0 colour-0.1.5 dtreeviz-2.2.0 lightgbm-3.3.5 mljar-supervised-0.11.5 optuna-3.1.0 scikit-plot-0.3.7 shap-0.41.0 slicer-0.0.7\n"
          ]
        }
      ]
    },
    {
      "cell_type": "code",
      "source": [
        "from google.colab import drive\n",
        "drive.mount('/content/gdrive/')"
      ],
      "metadata": {
        "colab": {
          "base_uri": "https://localhost:8080/"
        },
        "id": "Ifkxf7oKdpmQ",
        "outputId": "893c36a4-4b36-4575-b4ba-9cc826cbe89a"
      },
      "execution_count": 2,
      "outputs": [
        {
          "output_type": "stream",
          "name": "stdout",
          "text": [
            "Drive already mounted at /content/gdrive/; to attempt to forcibly remount, call drive.mount(\"/content/gdrive/\", force_remount=True).\n"
          ]
        }
      ]
    },
    {
      "cell_type": "code",
      "source": [
        "!unzip -qq \"/content/gdrive/MyDrive/open (1).zip\""
      ],
      "metadata": {
        "id": "6R4XyMK8dy5P",
        "colab": {
          "base_uri": "https://localhost:8080/"
        },
        "outputId": "6afe93d0-c8fc-4ec5-d11b-b401544040f8"
      },
      "execution_count": 3,
      "outputs": [
        {
          "output_type": "stream",
          "name": "stdout",
          "text": [
            "replace sample_submission.csv? [y]es, [n]o, [A]ll, [N]one, [r]ename: "
          ]
        }
      ]
    },
    {
      "cell_type": "code",
      "source": [
        "train = pd.read_csv('./train.csv')\n",
        "test = pd.read_csv('./test.csv')"
      ],
      "metadata": {
        "id": "IIm0qIAkd0UK"
      },
      "execution_count": 4,
      "outputs": []
    },
    {
      "cell_type": "code",
      "source": [
        "from supervised.automl import AutoML"
      ],
      "metadata": {
        "id": "rakV1JRSsL8y"
      },
      "execution_count": 5,
      "outputs": []
    },
    {
      "cell_type": "code",
      "source": [
        "automl = AutoML(mode=\"Compete\", eval_metric='mae',total_time_limit=5000)"
      ],
      "metadata": {
        "id": "lv-IQdKHsSY7"
      },
      "execution_count": 9,
      "outputs": []
    },
    {
      "cell_type": "code",
      "source": [
        "X_train = train.drop(['ID','착과량(int)'], axis=1)\n",
        "y_train = train['착과량(int)']"
      ],
      "metadata": {
        "id": "j7n73K52kQWb"
      },
      "execution_count": 10,
      "outputs": []
    },
    {
      "cell_type": "code",
      "source": [
        "automl.fit(X_train, y_train)"
      ],
      "metadata": {
        "colab": {
          "base_uri": "https://localhost:8080/",
          "height": 1000
        },
        "id": "9V-fs6r4smqz",
        "outputId": "7fcc9fc6-01c9-4f7e-b031-a8f93f9e4ddb"
      },
      "execution_count": 11,
      "outputs": [
        {
          "output_type": "stream",
          "name": "stdout",
          "text": [
            "AutoML directory: AutoML_2\n",
            "The task is regression with evaluation metric mae\n",
            "AutoML will use algorithms: ['Decision Tree', 'Linear', 'Random Forest', 'Extra Trees', 'LightGBM', 'Xgboost', 'CatBoost', 'Neural Network', 'Nearest Neighbors']\n",
            "AutoML will stack models\n",
            "AutoML will ensemble available models\n",
            "AutoML steps: ['adjust_validation', 'simple_algorithms', 'default_algorithms', 'not_so_random', 'golden_features', 'kmeans_features', 'insert_random_feature', 'features_selection', 'hill_climbing_1', 'hill_climbing_2', 'boost_on_errors', 'ensemble', 'stack', 'ensemble_stacked']\n",
            "* Step adjust_validation will try to check up to 1 model\n",
            "1_DecisionTree mae 31.350505 trained in 1.09 seconds\n",
            "Adjust validation. Remove: 1_DecisionTree\n",
            "Validation strategy: 10-fold CV Shuffle\n",
            "* Step simple_algorithms will try to check up to 4 models\n",
            "1_DecisionTree mae 32.079328 trained in 4.84 seconds\n",
            "2_DecisionTree mae 30.737932 trained in 4.31 seconds\n",
            "3_DecisionTree mae 30.714093 trained in 4.85 seconds\n",
            "4_Linear mae 36.113876 trained in 6.64 seconds\n",
            "* Step default_algorithms will try to check up to 6 models\n",
            "5_Default_LightGBM mae 30.971854 trained in 41.53 seconds\n",
            "6_Default_Xgboost mae 30.866835 trained in 37.37 seconds\n",
            "7_Default_CatBoost mae 31.656789 trained in 69.1 seconds\n",
            "8_Default_NeuralNetwork mae 36.498697 trained in 16.88 seconds\n",
            "9_Default_RandomForest mae 29.871824 trained in 61.46 seconds\n",
            "10_Default_ExtraTrees mae 30.079054 trained in 27.79 seconds\n",
            "* Step not_so_random will try to check up to 54 models\n",
            "20_LightGBM mae 30.441462 trained in 15.08 seconds\n",
            "11_Xgboost mae 31.379377 trained in 54.96 seconds\n",
            "29_CatBoost mae 31.360731 trained in 374.28 seconds\n",
            "38_RandomForest mae 29.893999 trained in 39.82 seconds\n",
            "47_ExtraTrees mae 29.961457 trained in 20.97 seconds\n",
            "56_NeuralNetwork mae 104.975639 trained in 14.93 seconds\n",
            "21_LightGBM mae 31.715641 trained in 16.92 seconds\n",
            "12_Xgboost mae 31.952472 trained in 69.77 seconds\n",
            "30_CatBoost mae 31.987383 trained in 151.9 seconds\n",
            "39_RandomForest mae 30.281585 trained in 51.88 seconds\n",
            "48_ExtraTrees mae 30.616229 trained in 29.5 seconds\n",
            "57_NeuralNetwork mae 37.338605 trained in 15.1 seconds\n",
            "22_LightGBM mae 31.127952 trained in 40.61 seconds\n",
            "13_Xgboost mae 30.667294 trained in 22.19 seconds\n",
            "31_CatBoost mae 31.369444 trained in 135.35 seconds\n",
            "40_RandomForest mae 30.176873 trained in 140.76 seconds\n",
            "49_ExtraTrees mae 30.02703 trained in 35.95 seconds\n",
            "58_NeuralNetwork mae 121.737822 trained in 33.83 seconds\n",
            "23_LightGBM mae 31.415024 trained in 62.05 seconds\n",
            "14_Xgboost mae 30.362013 trained in 16.02 seconds\n",
            "32_CatBoost mae 32.325586 trained in 106.34 seconds\n",
            "41_RandomForest mae 30.074547 trained in 66.49 seconds\n",
            "50_ExtraTrees mae 30.08926 trained in 26.87 seconds\n",
            "59_NeuralNetwork mae 39.513961 trained in 19.25 seconds\n",
            "24_LightGBM mae 30.909654 trained in 17.42 seconds\n",
            "15_Xgboost mae 30.355372 trained in 19.06 seconds\n",
            "33_CatBoost mae 31.788801 trained in 71.92 seconds\n",
            "42_RandomForest mae 30.079972 trained in 73.94 seconds\n",
            "51_ExtraTrees mae 30.033149 trained in 40.18 seconds\n",
            "60_NeuralNetwork mae 37.020175 trained in 16.56 seconds\n",
            "25_LightGBM mae 31.153125 trained in 31.18 seconds\n",
            "16_Xgboost mae 30.478713 trained in 16.79 seconds\n",
            "34_CatBoost mae 31.282522 trained in 31.43 seconds\n",
            "43_RandomForest mae 30.217756 trained in 90.43 seconds\n",
            "52_ExtraTrees mae 29.979922 trained in 33.51 seconds\n",
            "61_NeuralNetwork mae 39.051658 trained in 24.41 seconds\n",
            "26_LightGBM mae 30.914258 trained in 39.41 seconds\n",
            "17_Xgboost mae 30.811396 trained in 56.8 seconds\n",
            "35_CatBoost mae 31.836873 trained in 345.45 seconds\n",
            "Skip golden_features because of the time limit.\n",
            "* Step kmeans_features will try to check up to 3 models\n"
          ]
        },
        {
          "output_type": "stream",
          "name": "stderr",
          "text": [
            "/usr/local/lib/python3.9/dist-packages/sklearn/cluster/_kmeans.py:870: FutureWarning: The default value of `n_init` will change from 3 to 'auto' in 1.4. Set the value of `n_init` explicitly to suppress the warning\n",
            "/usr/local/lib/python3.9/dist-packages/sklearn/cluster/_kmeans.py:870: FutureWarning: The default value of `n_init` will change from 3 to 'auto' in 1.4. Set the value of `n_init` explicitly to suppress the warning\n",
            "/usr/local/lib/python3.9/dist-packages/sklearn/cluster/_kmeans.py:870: FutureWarning: The default value of `n_init` will change from 3 to 'auto' in 1.4. Set the value of `n_init` explicitly to suppress the warning\n",
            "/usr/local/lib/python3.9/dist-packages/sklearn/cluster/_kmeans.py:870: FutureWarning: The default value of `n_init` will change from 3 to 'auto' in 1.4. Set the value of `n_init` explicitly to suppress the warning\n",
            "/usr/local/lib/python3.9/dist-packages/sklearn/cluster/_kmeans.py:870: FutureWarning: The default value of `n_init` will change from 3 to 'auto' in 1.4. Set the value of `n_init` explicitly to suppress the warning\n",
            "/usr/local/lib/python3.9/dist-packages/sklearn/cluster/_kmeans.py:870: FutureWarning: The default value of `n_init` will change from 3 to 'auto' in 1.4. Set the value of `n_init` explicitly to suppress the warning\n",
            "/usr/local/lib/python3.9/dist-packages/sklearn/cluster/_kmeans.py:870: FutureWarning: The default value of `n_init` will change from 3 to 'auto' in 1.4. Set the value of `n_init` explicitly to suppress the warning\n",
            "/usr/local/lib/python3.9/dist-packages/sklearn/cluster/_kmeans.py:870: FutureWarning: The default value of `n_init` will change from 3 to 'auto' in 1.4. Set the value of `n_init` explicitly to suppress the warning\n",
            "/usr/local/lib/python3.9/dist-packages/sklearn/cluster/_kmeans.py:870: FutureWarning: The default value of `n_init` will change from 3 to 'auto' in 1.4. Set the value of `n_init` explicitly to suppress the warning\n",
            "/usr/local/lib/python3.9/dist-packages/sklearn/cluster/_kmeans.py:870: FutureWarning: The default value of `n_init` will change from 3 to 'auto' in 1.4. Set the value of `n_init` explicitly to suppress the warning\n"
          ]
        },
        {
          "output_type": "stream",
          "name": "stdout",
          "text": [
            "9_Default_RandomForest_KMeansFeatures mae 29.983594 trained in 87.06 seconds\n",
            "* Step insert_random_feature will try to check up to 1 model\n",
            "9_Default_RandomForest_RandomFeature mae 29.823028 trained in 203.7 seconds\n"
          ]
        },
        {
          "output_type": "stream",
          "name": "stderr",
          "text": [
            "/usr/local/lib/python3.9/dist-packages/supervised/utils/additional_metrics.py:558: UserWarning: Glyph 49352 (\\N{HANGUL SYLLABLE SAE}) missing from current font.\n",
            "/usr/local/lib/python3.9/dist-packages/supervised/utils/additional_metrics.py:558: UserWarning: Glyph 49692 (\\N{HANGUL SYLLABLE SUN}) missing from current font.\n",
            "/usr/local/lib/python3.9/dist-packages/supervised/utils/additional_metrics.py:558: UserWarning: Glyph 49688 (\\N{HANGUL SYLLABLE SU}) missing from current font.\n",
            "/usr/local/lib/python3.9/dist-packages/supervised/utils/additional_metrics.py:558: UserWarning: Glyph 44288 (\\N{HANGUL SYLLABLE GWAN}) missing from current font.\n",
            "/usr/local/lib/python3.9/dist-packages/supervised/utils/additional_metrics.py:558: UserWarning: Glyph 54253 (\\N{HANGUL SYLLABLE POG}) missing from current font.\n",
            "/usr/local/lib/python3.9/dist-packages/supervised/utils/additional_metrics.py:558: UserWarning: Glyph 54217 (\\N{HANGUL SYLLABLE PYEONG}) missing from current font.\n",
            "/usr/local/lib/python3.9/dist-packages/supervised/utils/additional_metrics.py:558: UserWarning: Glyph 44512 (\\N{HANGUL SYLLABLE GYUN}) missing from current font.\n",
            "/usr/local/lib/python3.9/dist-packages/supervised/utils/additional_metrics.py:564: UserWarning: Glyph 49352 (\\N{HANGUL SYLLABLE SAE}) missing from current font.\n",
            "/usr/local/lib/python3.9/dist-packages/supervised/utils/additional_metrics.py:564: UserWarning: Glyph 49692 (\\N{HANGUL SYLLABLE SUN}) missing from current font.\n",
            "/usr/local/lib/python3.9/dist-packages/supervised/utils/additional_metrics.py:564: UserWarning: Glyph 49688 (\\N{HANGUL SYLLABLE SU}) missing from current font.\n",
            "/usr/local/lib/python3.9/dist-packages/supervised/utils/additional_metrics.py:564: UserWarning: Glyph 44288 (\\N{HANGUL SYLLABLE GWAN}) missing from current font.\n",
            "/usr/local/lib/python3.9/dist-packages/supervised/utils/additional_metrics.py:564: UserWarning: Glyph 54253 (\\N{HANGUL SYLLABLE POG}) missing from current font.\n",
            "/usr/local/lib/python3.9/dist-packages/supervised/utils/additional_metrics.py:564: UserWarning: Glyph 54217 (\\N{HANGUL SYLLABLE PYEONG}) missing from current font.\n",
            "/usr/local/lib/python3.9/dist-packages/supervised/utils/additional_metrics.py:564: UserWarning: Glyph 44512 (\\N{HANGUL SYLLABLE GYUN}) missing from current font.\n"
          ]
        },
        {
          "output_type": "stream",
          "name": "stdout",
          "text": [
            "Drop features ['2022-09-16 새순', '2022-09-21 새순', '2022-09-15 새순', '2022-10-04 새순', '2022-09-20 새순', '2022-09-25 새순', '2022-09-17 새순', '2022-09-30 새순', '2022-09-22 새순', '2022-09-28 새순', '수관폭평균', '2022-10-03 새순', '2022-09-14 새순', '수관폭2(max)', '2022-09-29 새순', '2022-10-07 새순', '2022-11-15 새순', '수관폭1(min)', '2022-11-09 새순', '2022-09-24 새순', 'random_feature', '2022-10-10 새순', '2022-10-08 새순', '2022-10-05 새순', '2022-11-16 새순', '2022-11-24 새순', '2022-11-23 새순', '2022-10-02 새순', '2022-11-02 새순', '2022-09-19 새순', '2022-10-15 새순', '2022-10-01 새순', '2022-11-27 새순', '2022-11-25 새순', '2022-11-19 새순', '2022-11-27 엽록소', '2022-09-26 새순', '2022-11-21 새순', '2022-10-04 엽록소', '2022-09-21 엽록소', '2022-10-21 새순', '2022-10-19 엽록소', '2022-09-03 엽록소', '2022-10-20 새순', '2022-10-24 엽록소', '2022-09-07 엽록소', '2022-10-26 새순', '2022-11-01 새순', '2022-09-30 엽록소', '2022-10-25 엽록소', '2022-11-21 엽록소', '2022-11-28 새순', '2022-10-23 엽록소', '2022-11-24 엽록소', '2022-10-18 엽록소', '2022-11-26 새순', '2022-11-02 엽록소', '2022-10-15 엽록소', '2022-10-09 엽록소', '2022-10-13 엽록소', '2022-09-27 엽록소', '2022-09-20 엽록소', '2022-11-12 엽록소', '2022-11-13 엽록소', '2022-09-22 엽록소', '2022-09-06 엽록소', '2022-10-30 새순', '2022-10-11 엽록소', '2022-10-17 엽록소', '2022-11-14 새순', '2022-11-10 새순', '2022-10-06 엽록소', '2022-11-10 엽록소', '2022-11-19 엽록소', '2022-11-23 엽록소', '2022-09-16 엽록소', '2022-11-08 엽록소', '2022-10-29 새순', '2022-11-04 새순', '2022-09-09 엽록소', '2022-10-08 엽록소', '2022-10-19 새순', '2022-11-17 엽록소', '2022-11-12 새순', '2022-11-04 엽록소', '2022-11-06 새순', '2022-11-18 엽록소', '2022-10-28 새순', '2022-10-22 새순', '2022-11-08 새순', '2022-11-20 엽록소', '2022-11-11 새순', '2022-11-07 새순', '2022-10-27 새순', '2022-11-06 엽록소', '2022-11-13 새순', '2022-10-10 엽록소', '2022-11-03 새순', '2022-11-03 엽록소', '2022-09-13 엽록소', '2022-10-14 엽록소', '2022-11-22 엽록소', '2022-10-22 엽록소', '2022-10-05 엽록소', '2022-10-30 엽록소', '2022-10-16 엽록소', '2022-11-15 엽록소', '2022-11-09 엽록소', '2022-11-18 새순', '2022-11-01 엽록소', '2022-10-01 엽록소', '2022-09-15 엽록소', '2022-10-29 엽록소', '2022-09-26 엽록소', '2022-10-28 엽록소', '2022-11-25 엽록소', '2022-11-16 엽록소', '2022-10-03 엽록소', '2022-11-05 엽록소', '2022-10-02 엽록소', '2022-09-28 엽록소', '2022-11-11 엽록소', '2022-09-05 엽록소', '2022-09-01 엽록소', '2022-09-11 엽록소', '2022-09-18 엽록소', '2022-09-19 엽록소', '2022-11-22 새순', '2022-10-25 새순', '2022-09-02 엽록소', '2022-09-23 엽록소', '2022-11-14 엽록소', '2022-11-28 엽록소', '2022-10-12 엽록소', '2022-10-31 엽록소', '2022-10-31 새순', '2022-11-07 엽록소', '2022-10-20 엽록소', '2022-10-24 새순', '2022-11-26 엽록소', '2022-09-08 엽록소', '2022-09-12 엽록소', '2022-09-04 엽록소', '2022-10-23 새순', '2022-09-14 엽록소', '2022-10-26 엽록소', '2022-11-05 새순', '2022-09-24 엽록소', '2022-09-23 새순', '2022-10-06 새순', '2022-09-25 엽록소', '2022-10-27 엽록소', '2022-10-07 엽록소', '2022-10-16 새순', '2022-09-27 새순', '2022-09-10 엽록소', '2022-10-21 엽록소', '2022-11-20 새순', '2022-09-17 엽록소', '2022-10-18 새순', '2022-11-17 새순', '2022-10-09 새순', '2022-10-14 새순', '2022-10-13 새순', '2022-10-11 새순', '2022-10-17 새순', '2022-09-18 새순', '2022-10-12 새순', '2022-09-29 엽록소', '수고(m)']\n",
            "* Step features_selection will try to check up to 6 models\n",
            "9_Default_RandomForest_SelectedFeatures mae 29.835642 trained in 16.53 seconds\n",
            "47_ExtraTrees_SelectedFeatures mae 30.034354 trained in 16.47 seconds\n",
            "15_Xgboost_SelectedFeatures mae 30.027846 trained in 12.83 seconds\n",
            "20_LightGBM_SelectedFeatures mae 30.082365 trained in 12.28 seconds\n",
            "34_CatBoost_SelectedFeatures mae 30.396659 trained in 13.04 seconds\n",
            "8_Default_NeuralNetwork_SelectedFeatures mae 34.40991 trained in 14.98 seconds\n",
            "* Step hill_climbing_1 will try to check up to 35 models\n",
            "62_RandomForest_SelectedFeatures mae 29.835642 trained in 16.65 seconds\n",
            "63_RandomForest_SelectedFeatures mae 29.835642 trained in 18.78 seconds\n",
            "64_RandomForest mae 29.871824 trained in 66.76 seconds\n",
            "65_RandomForest mae 29.871824 trained in 71.28 seconds\n",
            "66_RandomForest mae 29.893999 trained in 50.97 seconds\n",
            "67_RandomForest mae 29.893999 trained in 47.29 seconds\n",
            "68_ExtraTrees mae 29.961457 trained in 28.25 seconds\n",
            "69_ExtraTrees mae 29.961457 trained in 27.82 seconds\n",
            "70_ExtraTrees mae 30.014252 trained in 43.77 seconds\n",
            "71_ExtraTrees mae 30.151554 trained in 36.78 seconds\n",
            "72_ExtraTrees mae 29.89843 trained in 42.6 seconds\n",
            "* Step hill_climbing_2 will try to check up to 30 models\n",
            "73_RandomForest_SelectedFeatures mae 29.80654 trained in 20.3 seconds\n",
            "74_RandomForest_SelectedFeatures mae 29.809565 trained in 22.38 seconds\n",
            "75_RandomForest_SelectedFeatures mae 29.80654 trained in 20.35 seconds\n",
            "76_RandomForest_SelectedFeatures mae 29.809565 trained in 23.13 seconds\n",
            "77_RandomForest_SelectedFeatures mae 29.80654 trained in 20.25 seconds\n",
            "78_RandomForest_SelectedFeatures mae 29.809565 trained in 23.46 seconds\n",
            "79_ExtraTrees mae 30.017523 trained in 38.18 seconds\n",
            "80_ExtraTrees mae 29.956291 trained in 29.29 seconds\n",
            "81_ExtraTrees mae 29.956291 trained in 30.93 seconds\n",
            "82_Xgboost_SelectedFeatures mae 30.029915 trained in 15.22 seconds\n",
            "83_Xgboost_SelectedFeatures mae 30.02008 trained in 16.6 seconds\n",
            "84_LightGBM_SelectedFeatures mae 30.056104 trained in 16.19 seconds\n",
            "85_Xgboost mae 30.426027 trained in 25.62 seconds\n",
            "86_Xgboost mae 30.486219 trained in 27.18 seconds\n",
            "87_Xgboost mae 30.391137 trained in 23.28 seconds\n",
            "88_Xgboost mae 30.358146 trained in 25.02 seconds\n",
            "* Step boost_on_errors will try to check up to 1 model\n",
            "73_RandomForest_SelectedFeatures_BoostOnErrors mae 29.836819 trained in 23.04 seconds\n",
            "* Step ensemble will try to check up to 1 model\n",
            "Ensemble mae 29.635763 trained in 22.41 seconds\n",
            "* Step stack will try to check up to 56 models\n",
            "75_RandomForest_SelectedFeatures_Stacked mae 29.698601 trained in 50.56 seconds\n",
            "72_ExtraTrees_Stacked mae 29.681014 trained in 49.74 seconds\n",
            "83_Xgboost_SelectedFeatures_Stacked mae 30.034102 trained in 23.2 seconds\n",
            "84_LightGBM_SelectedFeatures_Stacked mae 30.094293 trained in 21.13 seconds\n",
            "34_CatBoost_SelectedFeatures_Stacked mae 30.608893 trained in 32.04 seconds\n",
            "8_Default_NeuralNetwork_SelectedFeatures_Stacked mae 138.967134 trained in 41.52 seconds\n",
            "77_RandomForest_SelectedFeatures_Stacked mae 29.698601 trained in 49.94 seconds\n",
            "80_ExtraTrees_Stacked mae 29.873889 trained in 36.69 seconds\n",
            "15_Xgboost_SelectedFeatures_Stacked mae 30.102307 trained in 23.85 seconds\n",
            "20_LightGBM_SelectedFeatures_Stacked mae 30.140377 trained in 22.71 seconds\n",
            "34_CatBoost_Stacked mae 30.860298 trained in 49.94 seconds\n",
            "8_Default_NeuralNetwork_Stacked mae 151.646668 trained in 42.49 seconds\n",
            "73_RandomForest_SelectedFeatures_Stacked mae 29.698601 trained in 53.58 seconds\n",
            "81_ExtraTrees_Stacked mae 29.873889 trained in 35.51 seconds\n",
            "82_Xgboost_SelectedFeatures_Stacked mae 30.104163 trained in 24.47 seconds\n",
            "20_LightGBM_Stacked mae 30.544104 trained in 38.31 seconds\n",
            "29_CatBoost_Stacked not trained. Stop training after the first fold. Time needed to train on the first fold 36.0 seconds. The time estimate for training on all folds is larger than total_time_limit.\n",
            "60_NeuralNetwork_Stacked mae 151.889992 trained in 54.38 seconds\n",
            "76_RandomForest_SelectedFeatures_Stacked mae 29.802799 trained in 60.63 seconds\n",
            "69_ExtraTrees_Stacked mae 30.029612 trained in 37.35 seconds\n",
            "15_Xgboost_Stacked mae 30.469559 trained in 35.49 seconds\n",
            "24_LightGBM_Stacked mae 30.272349 trained in 35.48 seconds\n",
            "31_CatBoost_Stacked not trained. Stop training after the first fold. Time needed to train on the first fold 17.0 seconds. The time estimate for training on all folds is larger than total_time_limit.\n",
            "57_NeuralNetwork_Stacked not trained. Stop training after the first fold. Time needed to train on the first fold 5.0 seconds. The time estimate for training on all folds is larger than total_time_limit.\n",
            "* Step ensemble_stacked will try to check up to 1 model\n",
            "Ensemble_Stacked mae 29.385017 trained in 33.75 seconds\n",
            "AutoML fit time: 5052.87 seconds\n",
            "AutoML best model: Ensemble_Stacked\n"
          ]
        },
        {
          "output_type": "execute_result",
          "data": {
            "text/plain": [
              "AutoML(eval_metric='mae', mode='Compete', total_time_limit=5000)"
            ],
            "text/html": [
              "<style>#sk-container-id-1 {color: black;background-color: white;}#sk-container-id-1 pre{padding: 0;}#sk-container-id-1 div.sk-toggleable {background-color: white;}#sk-container-id-1 label.sk-toggleable__label {cursor: pointer;display: block;width: 100%;margin-bottom: 0;padding: 0.3em;box-sizing: border-box;text-align: center;}#sk-container-id-1 label.sk-toggleable__label-arrow:before {content: \"▸\";float: left;margin-right: 0.25em;color: #696969;}#sk-container-id-1 label.sk-toggleable__label-arrow:hover:before {color: black;}#sk-container-id-1 div.sk-estimator:hover label.sk-toggleable__label-arrow:before {color: black;}#sk-container-id-1 div.sk-toggleable__content {max-height: 0;max-width: 0;overflow: hidden;text-align: left;background-color: #f0f8ff;}#sk-container-id-1 div.sk-toggleable__content pre {margin: 0.2em;color: black;border-radius: 0.25em;background-color: #f0f8ff;}#sk-container-id-1 input.sk-toggleable__control:checked~div.sk-toggleable__content {max-height: 200px;max-width: 100%;overflow: auto;}#sk-container-id-1 input.sk-toggleable__control:checked~label.sk-toggleable__label-arrow:before {content: \"▾\";}#sk-container-id-1 div.sk-estimator input.sk-toggleable__control:checked~label.sk-toggleable__label {background-color: #d4ebff;}#sk-container-id-1 div.sk-label input.sk-toggleable__control:checked~label.sk-toggleable__label {background-color: #d4ebff;}#sk-container-id-1 input.sk-hidden--visually {border: 0;clip: rect(1px 1px 1px 1px);clip: rect(1px, 1px, 1px, 1px);height: 1px;margin: -1px;overflow: hidden;padding: 0;position: absolute;width: 1px;}#sk-container-id-1 div.sk-estimator {font-family: monospace;background-color: #f0f8ff;border: 1px dotted black;border-radius: 0.25em;box-sizing: border-box;margin-bottom: 0.5em;}#sk-container-id-1 div.sk-estimator:hover {background-color: #d4ebff;}#sk-container-id-1 div.sk-parallel-item::after {content: \"\";width: 100%;border-bottom: 1px solid gray;flex-grow: 1;}#sk-container-id-1 div.sk-label:hover label.sk-toggleable__label {background-color: #d4ebff;}#sk-container-id-1 div.sk-serial::before {content: \"\";position: absolute;border-left: 1px solid gray;box-sizing: border-box;top: 0;bottom: 0;left: 50%;z-index: 0;}#sk-container-id-1 div.sk-serial {display: flex;flex-direction: column;align-items: center;background-color: white;padding-right: 0.2em;padding-left: 0.2em;position: relative;}#sk-container-id-1 div.sk-item {position: relative;z-index: 1;}#sk-container-id-1 div.sk-parallel {display: flex;align-items: stretch;justify-content: center;background-color: white;position: relative;}#sk-container-id-1 div.sk-item::before, #sk-container-id-1 div.sk-parallel-item::before {content: \"\";position: absolute;border-left: 1px solid gray;box-sizing: border-box;top: 0;bottom: 0;left: 50%;z-index: -1;}#sk-container-id-1 div.sk-parallel-item {display: flex;flex-direction: column;z-index: 1;position: relative;background-color: white;}#sk-container-id-1 div.sk-parallel-item:first-child::after {align-self: flex-end;width: 50%;}#sk-container-id-1 div.sk-parallel-item:last-child::after {align-self: flex-start;width: 50%;}#sk-container-id-1 div.sk-parallel-item:only-child::after {width: 0;}#sk-container-id-1 div.sk-dashed-wrapped {border: 1px dashed gray;margin: 0 0.4em 0.5em 0.4em;box-sizing: border-box;padding-bottom: 0.4em;background-color: white;}#sk-container-id-1 div.sk-label label {font-family: monospace;font-weight: bold;display: inline-block;line-height: 1.2em;}#sk-container-id-1 div.sk-label-container {text-align: center;}#sk-container-id-1 div.sk-container {/* jupyter's `normalize.less` sets `[hidden] { display: none; }` but bootstrap.min.css set `[hidden] { display: none !important; }` so we also need the `!important` here to be able to override the default hidden behavior on the sphinx rendered scikit-learn.org. See: https://github.com/scikit-learn/scikit-learn/issues/21755 */display: inline-block !important;position: relative;}#sk-container-id-1 div.sk-text-repr-fallback {display: none;}</style><div id=\"sk-container-id-1\" class=\"sk-top-container\"><div class=\"sk-text-repr-fallback\"><pre>AutoML(eval_metric=&#x27;mae&#x27;, mode=&#x27;Compete&#x27;, total_time_limit=5000)</pre><b>In a Jupyter environment, please rerun this cell to show the HTML representation or trust the notebook. <br />On GitHub, the HTML representation is unable to render, please try loading this page with nbviewer.org.</b></div><div class=\"sk-container\" hidden><div class=\"sk-item\"><div class=\"sk-estimator sk-toggleable\"><input class=\"sk-toggleable__control sk-hidden--visually\" id=\"sk-estimator-id-1\" type=\"checkbox\" checked><label for=\"sk-estimator-id-1\" class=\"sk-toggleable__label sk-toggleable__label-arrow\">AutoML</label><div class=\"sk-toggleable__content\"><pre>AutoML(eval_metric=&#x27;mae&#x27;, mode=&#x27;Compete&#x27;, total_time_limit=5000)</pre></div></div></div></div></div>"
            ]
          },
          "metadata": {},
          "execution_count": 11
        }
      ]
    },
    {
      "cell_type": "code",
      "source": [
        "pred = automl.predict(test)"
      ],
      "metadata": {
        "id": "hEbjI5Tsu2t-"
      },
      "execution_count": 15,
      "outputs": []
    },
    {
      "cell_type": "code",
      "source": [
        "\n",
        "submit = pd.read_csv('./sample_submission.csv')\n",
        "submit['착과량(int)']=np.array(pred)\n",
        "\n",
        "submit.head()\n",
        "\n",
        "submit.to_csv('./  no.csv', index=False)\n",
        "     "
      ],
      "metadata": {
        "id": "FoZabqoHARwZ"
      },
      "execution_count": 17,
      "outputs": []
    }
  ]
}