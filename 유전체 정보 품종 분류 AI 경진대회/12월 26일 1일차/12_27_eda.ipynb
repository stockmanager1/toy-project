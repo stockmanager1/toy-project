{
  "nbformat": 4,
  "nbformat_minor": 0,
  "metadata": {
    "colab": {
      "provenance": []
    },
    "kernelspec": {
      "name": "python3",
      "display_name": "Python 3"
    },
    "language_info": {
      "name": "python"
    }
  },
  "cells": [
    {
      "cell_type": "code",
      "execution_count": null,
      "metadata": {
        "id": "xyuXo2PtqS-o"
      },
      "outputs": [],
      "source": [
        "import pandas as pd\n",
        "import random\n",
        "import os\n",
        "import numpy as np\n",
        "import matplotlib.pyplot as plt\n",
        "import seaborn as sns\n",
        "from sklearn import preprocessing\n",
        "from sklearn.ensemble import RandomForestClassifier"
      ]
    },
    {
      "cell_type": "markdown",
      "source": [
        "A에서 G로의 변이가 있는 SNP의 유전자형(genotype)은 AA, AG, GG 세 그룹으로 나눌 수 있다."
      ],
      "metadata": {
        "id": "_wEUvUJNt380"
      }
    },
    {
      "cell_type": "code",
      "source": [
        "class CFG:\n",
        "    SEED = 42"
      ],
      "metadata": {
        "id": "CpTpv7ORqXC9"
      },
      "execution_count": null,
      "outputs": []
    },
    {
      "cell_type": "code",
      "source": [
        "def seed_everything(seed):\n",
        "    random.seed(seed)\n",
        "    os.environ['PYTHONHASHSEED'] = str(seed)\n",
        "    np.random.seed(seed)\n",
        "seed_everything(CFG.SEED) # Seed 고정"
      ],
      "metadata": {
        "id": "xY1MjFRbqYzP"
      },
      "execution_count": null,
      "outputs": []
    },
    {
      "cell_type": "code",
      "source": [
        "from google.colab import drive\n",
        "drive.mount('/content/gdrive/')"
      ],
      "metadata": {
        "colab": {
          "base_uri": "https://localhost:8080/"
        },
        "id": "ZgdSdx3vqa1r",
        "outputId": "37c9e9e8-e493-41fb-93d7-ffc17e1bad13"
      },
      "execution_count": null,
      "outputs": [
        {
          "output_type": "stream",
          "name": "stdout",
          "text": [
            "Mounted at /content/gdrive/\n"
          ]
        }
      ]
    },
    {
      "cell_type": "code",
      "source": [
        "!unzip -qq \"/content/gdrive/MyDrive/유전체 정보 품종 분류 AI 경진대회.zip\""
      ],
      "metadata": {
        "id": "0cfEh3Dwqd59"
      },
      "execution_count": null,
      "outputs": []
    },
    {
      "cell_type": "code",
      "source": [
        "train = pd.read_csv('/content/train.csv')\n",
        "test = pd.read_csv('/content/test.csv')"
      ],
      "metadata": {
        "id": "Th78CRojqflV"
      },
      "execution_count": null,
      "outputs": []
    },
    {
      "cell_type": "code",
      "source": [
        "train"
      ],
      "metadata": {
        "colab": {
          "base_uri": "https://localhost:8080/",
          "height": 488
        },
        "id": "yvCJcvd0qiyp",
        "outputId": "0ee6faab-5f27-4cf6-c1fa-c4c0f9d17845"
      },
      "execution_count": null,
      "outputs": [
        {
          "output_type": "execute_result",
          "data": {
            "text/plain": [
              "            id  father  mother  gender  trait SNP_01 SNP_02 SNP_03 SNP_04  \\\n",
              "0    TRAIN_000       0       0       0      2    G G    A G    A A    G A   \n",
              "1    TRAIN_001       0       0       0      2    A G    A G    C A    A A   \n",
              "2    TRAIN_002       0       0       0      2    G G    G G    A A    G A   \n",
              "3    TRAIN_003       0       0       0      1    A A    G G    A A    G A   \n",
              "4    TRAIN_004       0       0       0      2    G G    G G    C C    A A   \n",
              "..         ...     ...     ...     ...    ...    ...    ...    ...    ...   \n",
              "257  TRAIN_257       0       0       0      2    A G    A G    A A    G A   \n",
              "258  TRAIN_258       0       0       0      2    G G    A A    C A    A A   \n",
              "259  TRAIN_259       0       0       0      1    A G    G G    A A    G A   \n",
              "260  TRAIN_260       0       0       0      1    A A    G G    A A    G A   \n",
              "261  TRAIN_261       0       0       0      2    G G    A G    C A    G G   \n",
              "\n",
              "    SNP_05  ... SNP_07 SNP_08 SNP_09 SNP_10 SNP_11 SNP_12 SNP_13 SNP_14  \\\n",
              "0      C A  ...    A A    G G    A A    G G    A G    A A    A A    A A   \n",
              "1      A A  ...    A A    G A    A A    A G    A A    G A    G G    A A   \n",
              "2      C C  ...    A A    G A    G A    A G    A A    A A    A A    A A   \n",
              "3      A A  ...    G G    A A    G G    A G    G G    G G    G G    A A   \n",
              "4      C C  ...    A A    A A    A A    G G    A A    A A    A G    A A   \n",
              "..     ...  ...    ...    ...    ...    ...    ...    ...    ...    ...   \n",
              "257    C C  ...    A A    G A    A A    G G    A G    G A    A A    A A   \n",
              "258    A A  ...    G A    G A    A A    A G    A G    A A    A G    A A   \n",
              "259    A A  ...    G G    G A    G A    A A    G G    G G    G G    C A   \n",
              "260    A A  ...    G G    A A    G A    A G    A G    G A    G G    C A   \n",
              "261    C C  ...    A A    A A    A A    G G    A A    A A    G G    A A   \n",
              "\n",
              "    SNP_15 class  \n",
              "0      A A     B  \n",
              "1      A A     C  \n",
              "2      A A     B  \n",
              "3      G G     A  \n",
              "4      G A     C  \n",
              "..     ...   ...  \n",
              "257    A A     B  \n",
              "258    G A     C  \n",
              "259    G G     A  \n",
              "260    G G     A  \n",
              "261    G A     B  \n",
              "\n",
              "[262 rows x 21 columns]"
            ],
            "text/html": [
              "\n",
              "  <div id=\"df-1f47af6f-570c-4d94-9fc7-a8f9df5c47d7\">\n",
              "    <div class=\"colab-df-container\">\n",
              "      <div>\n",
              "<style scoped>\n",
              "    .dataframe tbody tr th:only-of-type {\n",
              "        vertical-align: middle;\n",
              "    }\n",
              "\n",
              "    .dataframe tbody tr th {\n",
              "        vertical-align: top;\n",
              "    }\n",
              "\n",
              "    .dataframe thead th {\n",
              "        text-align: right;\n",
              "    }\n",
              "</style>\n",
              "<table border=\"1\" class=\"dataframe\">\n",
              "  <thead>\n",
              "    <tr style=\"text-align: right;\">\n",
              "      <th></th>\n",
              "      <th>id</th>\n",
              "      <th>father</th>\n",
              "      <th>mother</th>\n",
              "      <th>gender</th>\n",
              "      <th>trait</th>\n",
              "      <th>SNP_01</th>\n",
              "      <th>SNP_02</th>\n",
              "      <th>SNP_03</th>\n",
              "      <th>SNP_04</th>\n",
              "      <th>SNP_05</th>\n",
              "      <th>...</th>\n",
              "      <th>SNP_07</th>\n",
              "      <th>SNP_08</th>\n",
              "      <th>SNP_09</th>\n",
              "      <th>SNP_10</th>\n",
              "      <th>SNP_11</th>\n",
              "      <th>SNP_12</th>\n",
              "      <th>SNP_13</th>\n",
              "      <th>SNP_14</th>\n",
              "      <th>SNP_15</th>\n",
              "      <th>class</th>\n",
              "    </tr>\n",
              "  </thead>\n",
              "  <tbody>\n",
              "    <tr>\n",
              "      <th>0</th>\n",
              "      <td>TRAIN_000</td>\n",
              "      <td>0</td>\n",
              "      <td>0</td>\n",
              "      <td>0</td>\n",
              "      <td>2</td>\n",
              "      <td>G G</td>\n",
              "      <td>A G</td>\n",
              "      <td>A A</td>\n",
              "      <td>G A</td>\n",
              "      <td>C A</td>\n",
              "      <td>...</td>\n",
              "      <td>A A</td>\n",
              "      <td>G G</td>\n",
              "      <td>A A</td>\n",
              "      <td>G G</td>\n",
              "      <td>A G</td>\n",
              "      <td>A A</td>\n",
              "      <td>A A</td>\n",
              "      <td>A A</td>\n",
              "      <td>A A</td>\n",
              "      <td>B</td>\n",
              "    </tr>\n",
              "    <tr>\n",
              "      <th>1</th>\n",
              "      <td>TRAIN_001</td>\n",
              "      <td>0</td>\n",
              "      <td>0</td>\n",
              "      <td>0</td>\n",
              "      <td>2</td>\n",
              "      <td>A G</td>\n",
              "      <td>A G</td>\n",
              "      <td>C A</td>\n",
              "      <td>A A</td>\n",
              "      <td>A A</td>\n",
              "      <td>...</td>\n",
              "      <td>A A</td>\n",
              "      <td>G A</td>\n",
              "      <td>A A</td>\n",
              "      <td>A G</td>\n",
              "      <td>A A</td>\n",
              "      <td>G A</td>\n",
              "      <td>G G</td>\n",
              "      <td>A A</td>\n",
              "      <td>A A</td>\n",
              "      <td>C</td>\n",
              "    </tr>\n",
              "    <tr>\n",
              "      <th>2</th>\n",
              "      <td>TRAIN_002</td>\n",
              "      <td>0</td>\n",
              "      <td>0</td>\n",
              "      <td>0</td>\n",
              "      <td>2</td>\n",
              "      <td>G G</td>\n",
              "      <td>G G</td>\n",
              "      <td>A A</td>\n",
              "      <td>G A</td>\n",
              "      <td>C C</td>\n",
              "      <td>...</td>\n",
              "      <td>A A</td>\n",
              "      <td>G A</td>\n",
              "      <td>G A</td>\n",
              "      <td>A G</td>\n",
              "      <td>A A</td>\n",
              "      <td>A A</td>\n",
              "      <td>A A</td>\n",
              "      <td>A A</td>\n",
              "      <td>A A</td>\n",
              "      <td>B</td>\n",
              "    </tr>\n",
              "    <tr>\n",
              "      <th>3</th>\n",
              "      <td>TRAIN_003</td>\n",
              "      <td>0</td>\n",
              "      <td>0</td>\n",
              "      <td>0</td>\n",
              "      <td>1</td>\n",
              "      <td>A A</td>\n",
              "      <td>G G</td>\n",
              "      <td>A A</td>\n",
              "      <td>G A</td>\n",
              "      <td>A A</td>\n",
              "      <td>...</td>\n",
              "      <td>G G</td>\n",
              "      <td>A A</td>\n",
              "      <td>G G</td>\n",
              "      <td>A G</td>\n",
              "      <td>G G</td>\n",
              "      <td>G G</td>\n",
              "      <td>G G</td>\n",
              "      <td>A A</td>\n",
              "      <td>G G</td>\n",
              "      <td>A</td>\n",
              "    </tr>\n",
              "    <tr>\n",
              "      <th>4</th>\n",
              "      <td>TRAIN_004</td>\n",
              "      <td>0</td>\n",
              "      <td>0</td>\n",
              "      <td>0</td>\n",
              "      <td>2</td>\n",
              "      <td>G G</td>\n",
              "      <td>G G</td>\n",
              "      <td>C C</td>\n",
              "      <td>A A</td>\n",
              "      <td>C C</td>\n",
              "      <td>...</td>\n",
              "      <td>A A</td>\n",
              "      <td>A A</td>\n",
              "      <td>A A</td>\n",
              "      <td>G G</td>\n",
              "      <td>A A</td>\n",
              "      <td>A A</td>\n",
              "      <td>A G</td>\n",
              "      <td>A A</td>\n",
              "      <td>G A</td>\n",
              "      <td>C</td>\n",
              "    </tr>\n",
              "    <tr>\n",
              "      <th>...</th>\n",
              "      <td>...</td>\n",
              "      <td>...</td>\n",
              "      <td>...</td>\n",
              "      <td>...</td>\n",
              "      <td>...</td>\n",
              "      <td>...</td>\n",
              "      <td>...</td>\n",
              "      <td>...</td>\n",
              "      <td>...</td>\n",
              "      <td>...</td>\n",
              "      <td>...</td>\n",
              "      <td>...</td>\n",
              "      <td>...</td>\n",
              "      <td>...</td>\n",
              "      <td>...</td>\n",
              "      <td>...</td>\n",
              "      <td>...</td>\n",
              "      <td>...</td>\n",
              "      <td>...</td>\n",
              "      <td>...</td>\n",
              "      <td>...</td>\n",
              "    </tr>\n",
              "    <tr>\n",
              "      <th>257</th>\n",
              "      <td>TRAIN_257</td>\n",
              "      <td>0</td>\n",
              "      <td>0</td>\n",
              "      <td>0</td>\n",
              "      <td>2</td>\n",
              "      <td>A G</td>\n",
              "      <td>A G</td>\n",
              "      <td>A A</td>\n",
              "      <td>G A</td>\n",
              "      <td>C C</td>\n",
              "      <td>...</td>\n",
              "      <td>A A</td>\n",
              "      <td>G A</td>\n",
              "      <td>A A</td>\n",
              "      <td>G G</td>\n",
              "      <td>A G</td>\n",
              "      <td>G A</td>\n",
              "      <td>A A</td>\n",
              "      <td>A A</td>\n",
              "      <td>A A</td>\n",
              "      <td>B</td>\n",
              "    </tr>\n",
              "    <tr>\n",
              "      <th>258</th>\n",
              "      <td>TRAIN_258</td>\n",
              "      <td>0</td>\n",
              "      <td>0</td>\n",
              "      <td>0</td>\n",
              "      <td>2</td>\n",
              "      <td>G G</td>\n",
              "      <td>A A</td>\n",
              "      <td>C A</td>\n",
              "      <td>A A</td>\n",
              "      <td>A A</td>\n",
              "      <td>...</td>\n",
              "      <td>G A</td>\n",
              "      <td>G A</td>\n",
              "      <td>A A</td>\n",
              "      <td>A G</td>\n",
              "      <td>A G</td>\n",
              "      <td>A A</td>\n",
              "      <td>A G</td>\n",
              "      <td>A A</td>\n",
              "      <td>G A</td>\n",
              "      <td>C</td>\n",
              "    </tr>\n",
              "    <tr>\n",
              "      <th>259</th>\n",
              "      <td>TRAIN_259</td>\n",
              "      <td>0</td>\n",
              "      <td>0</td>\n",
              "      <td>0</td>\n",
              "      <td>1</td>\n",
              "      <td>A G</td>\n",
              "      <td>G G</td>\n",
              "      <td>A A</td>\n",
              "      <td>G A</td>\n",
              "      <td>A A</td>\n",
              "      <td>...</td>\n",
              "      <td>G G</td>\n",
              "      <td>G A</td>\n",
              "      <td>G A</td>\n",
              "      <td>A A</td>\n",
              "      <td>G G</td>\n",
              "      <td>G G</td>\n",
              "      <td>G G</td>\n",
              "      <td>C A</td>\n",
              "      <td>G G</td>\n",
              "      <td>A</td>\n",
              "    </tr>\n",
              "    <tr>\n",
              "      <th>260</th>\n",
              "      <td>TRAIN_260</td>\n",
              "      <td>0</td>\n",
              "      <td>0</td>\n",
              "      <td>0</td>\n",
              "      <td>1</td>\n",
              "      <td>A A</td>\n",
              "      <td>G G</td>\n",
              "      <td>A A</td>\n",
              "      <td>G A</td>\n",
              "      <td>A A</td>\n",
              "      <td>...</td>\n",
              "      <td>G G</td>\n",
              "      <td>A A</td>\n",
              "      <td>G A</td>\n",
              "      <td>A G</td>\n",
              "      <td>A G</td>\n",
              "      <td>G A</td>\n",
              "      <td>G G</td>\n",
              "      <td>C A</td>\n",
              "      <td>G G</td>\n",
              "      <td>A</td>\n",
              "    </tr>\n",
              "    <tr>\n",
              "      <th>261</th>\n",
              "      <td>TRAIN_261</td>\n",
              "      <td>0</td>\n",
              "      <td>0</td>\n",
              "      <td>0</td>\n",
              "      <td>2</td>\n",
              "      <td>G G</td>\n",
              "      <td>A G</td>\n",
              "      <td>C A</td>\n",
              "      <td>G G</td>\n",
              "      <td>C C</td>\n",
              "      <td>...</td>\n",
              "      <td>A A</td>\n",
              "      <td>A A</td>\n",
              "      <td>A A</td>\n",
              "      <td>G G</td>\n",
              "      <td>A A</td>\n",
              "      <td>A A</td>\n",
              "      <td>G G</td>\n",
              "      <td>A A</td>\n",
              "      <td>G A</td>\n",
              "      <td>B</td>\n",
              "    </tr>\n",
              "  </tbody>\n",
              "</table>\n",
              "<p>262 rows × 21 columns</p>\n",
              "</div>\n",
              "      <button class=\"colab-df-convert\" onclick=\"convertToInteractive('df-1f47af6f-570c-4d94-9fc7-a8f9df5c47d7')\"\n",
              "              title=\"Convert this dataframe to an interactive table.\"\n",
              "              style=\"display:none;\">\n",
              "        \n",
              "  <svg xmlns=\"http://www.w3.org/2000/svg\" height=\"24px\"viewBox=\"0 0 24 24\"\n",
              "       width=\"24px\">\n",
              "    <path d=\"M0 0h24v24H0V0z\" fill=\"none\"/>\n",
              "    <path d=\"M18.56 5.44l.94 2.06.94-2.06 2.06-.94-2.06-.94-.94-2.06-.94 2.06-2.06.94zm-11 1L8.5 8.5l.94-2.06 2.06-.94-2.06-.94L8.5 2.5l-.94 2.06-2.06.94zm10 10l.94 2.06.94-2.06 2.06-.94-2.06-.94-.94-2.06-.94 2.06-2.06.94z\"/><path d=\"M17.41 7.96l-1.37-1.37c-.4-.4-.92-.59-1.43-.59-.52 0-1.04.2-1.43.59L10.3 9.45l-7.72 7.72c-.78.78-.78 2.05 0 2.83L4 21.41c.39.39.9.59 1.41.59.51 0 1.02-.2 1.41-.59l7.78-7.78 2.81-2.81c.8-.78.8-2.07 0-2.86zM5.41 20L4 18.59l7.72-7.72 1.47 1.35L5.41 20z\"/>\n",
              "  </svg>\n",
              "      </button>\n",
              "      \n",
              "  <style>\n",
              "    .colab-df-container {\n",
              "      display:flex;\n",
              "      flex-wrap:wrap;\n",
              "      gap: 12px;\n",
              "    }\n",
              "\n",
              "    .colab-df-convert {\n",
              "      background-color: #E8F0FE;\n",
              "      border: none;\n",
              "      border-radius: 50%;\n",
              "      cursor: pointer;\n",
              "      display: none;\n",
              "      fill: #1967D2;\n",
              "      height: 32px;\n",
              "      padding: 0 0 0 0;\n",
              "      width: 32px;\n",
              "    }\n",
              "\n",
              "    .colab-df-convert:hover {\n",
              "      background-color: #E2EBFA;\n",
              "      box-shadow: 0px 1px 2px rgba(60, 64, 67, 0.3), 0px 1px 3px 1px rgba(60, 64, 67, 0.15);\n",
              "      fill: #174EA6;\n",
              "    }\n",
              "\n",
              "    [theme=dark] .colab-df-convert {\n",
              "      background-color: #3B4455;\n",
              "      fill: #D2E3FC;\n",
              "    }\n",
              "\n",
              "    [theme=dark] .colab-df-convert:hover {\n",
              "      background-color: #434B5C;\n",
              "      box-shadow: 0px 1px 3px 1px rgba(0, 0, 0, 0.15);\n",
              "      filter: drop-shadow(0px 1px 2px rgba(0, 0, 0, 0.3));\n",
              "      fill: #FFFFFF;\n",
              "    }\n",
              "  </style>\n",
              "\n",
              "      <script>\n",
              "        const buttonEl =\n",
              "          document.querySelector('#df-1f47af6f-570c-4d94-9fc7-a8f9df5c47d7 button.colab-df-convert');\n",
              "        buttonEl.style.display =\n",
              "          google.colab.kernel.accessAllowed ? 'block' : 'none';\n",
              "\n",
              "        async function convertToInteractive(key) {\n",
              "          const element = document.querySelector('#df-1f47af6f-570c-4d94-9fc7-a8f9df5c47d7');\n",
              "          const dataTable =\n",
              "            await google.colab.kernel.invokeFunction('convertToInteractive',\n",
              "                                                     [key], {});\n",
              "          if (!dataTable) return;\n",
              "\n",
              "          const docLinkHtml = 'Like what you see? Visit the ' +\n",
              "            '<a target=\"_blank\" href=https://colab.research.google.com/notebooks/data_table.ipynb>data table notebook</a>'\n",
              "            + ' to learn more about interactive tables.';\n",
              "          element.innerHTML = '';\n",
              "          dataTable['output_type'] = 'display_data';\n",
              "          await google.colab.output.renderOutput(dataTable, element);\n",
              "          const docLink = document.createElement('div');\n",
              "          docLink.innerHTML = docLinkHtml;\n",
              "          element.appendChild(docLink);\n",
              "        }\n",
              "      </script>\n",
              "    </div>\n",
              "  </div>\n",
              "  "
            ]
          },
          "metadata": {},
          "execution_count": 7
        }
      ]
    },
    {
      "cell_type": "code",
      "source": [
        "print(train.select_dtypes(exclude=['object']).columns)"
      ],
      "metadata": {
        "colab": {
          "base_uri": "https://localhost:8080/"
        },
        "id": "Cm_TFokksPCQ",
        "outputId": "da312e25-ecd1-4171-bfa0-4a4150c1d50b"
      },
      "execution_count": null,
      "outputs": [
        {
          "output_type": "stream",
          "name": "stdout",
          "text": [
            "Index(['father', 'mother', 'gender', 'trait'], dtype='object')\n"
          ]
        }
      ]
    },
    {
      "cell_type": "markdown",
      "source": [
        "수치형 데이터 Index(['father', 'mother', 'gender', 'trait'],"
      ],
      "metadata": {
        "id": "8z2cf2RtsYWv"
      }
    },
    {
      "cell_type": "code",
      "source": [
        "print(train.select_dtypes(include=['object']).columns)"
      ],
      "metadata": {
        "colab": {
          "base_uri": "https://localhost:8080/"
        },
        "id": "qANMA5mRsSLL",
        "outputId": "7575fdfe-cae2-4fb0-f9dc-35ef9cf277fa"
      },
      "execution_count": null,
      "outputs": [
        {
          "output_type": "stream",
          "name": "stdout",
          "text": [
            "Index(['id', 'SNP_01', 'SNP_02', 'SNP_03', 'SNP_04', 'SNP_05', 'SNP_06',\n",
            "       'SNP_07', 'SNP_08', 'SNP_09', 'SNP_10', 'SNP_11', 'SNP_12', 'SNP_13',\n",
            "       'SNP_14', 'SNP_15', 'class'],\n",
            "      dtype='object')\n"
          ]
        }
      ]
    },
    {
      "cell_type": "markdown",
      "source": [
        "범주형 데이터 Index(['id', 'SNP_01', 'SNP_02', 'SNP_03', 'SNP_04', 'SNP_05', 'SNP_06',\n",
        "       'SNP_07', 'SNP_08', 'SNP_09', 'SNP_10', 'SNP_11', 'SNP_12', 'SNP_13',\n",
        "       'SNP_14', 'SNP_15', 'class'],\n",
        "      dtype='object')"
      ],
      "metadata": {
        "id": "GzxumViMsgLO"
      }
    },
    {
      "cell_type": "markdown",
      "source": [
        "#train eda"
      ],
      "metadata": {
        "id": "iFQKcwUm02Xs"
      }
    },
    {
      "cell_type": "code",
      "source": [
        "def identify_count(df, col):\n",
        "\n",
        "  print(df[col].unique())\n",
        "\n",
        "  print(df[col].value_counts())\n",
        "\n",
        "  sns.countplot(data=df, x=col)\n",
        "  plt.show()"
      ],
      "metadata": {
        "id": "bgZKvFEetLvw"
      },
      "execution_count": null,
      "outputs": []
    },
    {
      "cell_type": "code",
      "source": [
        "identify_count(train, 'father')"
      ],
      "metadata": {
        "colab": {
          "base_uri": "https://localhost:8080/",
          "height": 334
        },
        "id": "v5vPuXG5wt8X",
        "outputId": "08cbe1ae-bc3e-4b8d-f6e4-fa1b7e654ccd"
      },
      "execution_count": null,
      "outputs": [
        {
          "output_type": "stream",
          "name": "stdout",
          "text": [
            "[0]\n",
            "0    262\n",
            "Name: father, dtype: int64\n"
          ]
        },
        {
          "output_type": "display_data",
          "data": {
            "text/plain": [
              "<Figure size 432x288 with 1 Axes>"
            ],
            "image/png": "[encoded data removed]"
          },
          "metadata": {
            "needs_background": "light"
          }
        }
      ]
    },
    {
      "cell_type": "code",
      "source": [
        "identify_count(train, 'mother')"
      ],
      "metadata": {
        "colab": {
          "base_uri": "https://localhost:8080/",
          "height": 334
        },
        "id": "vayLDKIzwx_N",
        "outputId": "e27b9887-6be9-4d45-d661-a634e03cd359"
      },
      "execution_count": null,
      "outputs": [
        {
          "output_type": "stream",
          "name": "stdout",
          "text": [
            "[0]\n",
            "0    262\n",
            "Name: mother, dtype: int64\n"
          ]
        },
        {
          "output_type": "display_data",
          "data": {
            "text/plain": [
              "<Figure size 432x288 with 1 Axes>"
            ],
            "image/png": "[encoded data removed]"
          },
          "metadata": {
            "needs_background": "light"
          }
        }
      ]
    },
    {
      "cell_type": "code",
      "source": [
        "identify_count(train, 'gender')"
      ],
      "metadata": {
        "colab": {
          "base_uri": "https://localhost:8080/",
          "height": 334
        },
        "id": "_dgR08MEwz_i",
        "outputId": "f0f3b2e7-af02-4b60-f3ec-8c4f178b698f"
      },
      "execution_count": null,
      "outputs": [
        {
          "output_type": "stream",
          "name": "stdout",
          "text": [
            "[0]\n",
            "0    262\n",
            "Name: gender, dtype: int64\n"
          ]
        },
        {
          "output_type": "display_data",
          "data": {
            "text/plain": [
              "<Figure size 432x288 with 1 Axes>"
            ],
            "image/png": "[encoded data removed]"
          },
          "metadata": {
            "needs_background": "light"
          }
        }
      ]
    },
    {
      "cell_type": "markdown",
      "source": [
        "father,mother, gender는 삭제하자."
      ],
      "metadata": {
        "id": "DtofGiTuw2ML"
      }
    },
    {
      "cell_type": "code",
      "source": [
        "identify_count(train, 'trait')"
      ],
      "metadata": {
        "colab": {
          "base_uri": "https://localhost:8080/",
          "height": 353
        },
        "id": "us-FCumYnNX-",
        "outputId": "4b77302d-4f97-4d9a-ac02-0da9bde1d7c6"
      },
      "execution_count": null,
      "outputs": [
        {
          "output_type": "stream",
          "name": "stdout",
          "text": [
            "[2 1]\n",
            "2    193\n",
            "1     69\n",
            "Name: trait, dtype: int64\n"
          ]
        },
        {
          "output_type": "display_data",
          "data": {
            "text/plain": [
              "<Figure size 432x288 with 1 Axes>"
            ],
            "image/png": "[encoded data removed]"
          },
          "metadata": {
            "needs_background": "light"
          }
        }
      ]
    },
    {
      "cell_type": "code",
      "source": [
        "sns.countplot(x='trait', data=train,hue = 'class')"
      ],
      "metadata": {
        "colab": {
          "base_uri": "https://localhost:8080/",
          "height": 297
        },
        "id": "IIBaiUTknQyC",
        "outputId": "fbe0d9a8-f101-4841-eed3-b4e723becfea"
      },
      "execution_count": null,
      "outputs": [
        {
          "output_type": "execute_result",
          "data": {
            "text/plain": [
              "<matplotlib.axes._subplots.AxesSubplot at 0x7fd5489e1760>"
            ]
          },
          "metadata": {},
          "execution_count": 45
        },
        {
          "output_type": "display_data",
          "data": {
            "text/plain": [
              "<Figure size 432x288 with 1 Axes>"
            ],
            "image/png": "[encoded data removed]"
          },
          "metadata": {
            "needs_background": "light"
          }
        }
      ]
    },
    {
      "cell_type": "code",
      "source": [
        "identify_count(train, 'SNP_01')"
      ],
      "metadata": {
        "colab": {
          "base_uri": "https://localhost:8080/",
          "height": 372
        },
        "id": "uCVyp_U_sdIq",
        "outputId": "129e7b87-9daa-4500-b801-e5a5e7129af8"
      },
      "execution_count": null,
      "outputs": [
        {
          "output_type": "stream",
          "name": "stdout",
          "text": [
            "['G G' 'A G' 'A A']\n",
            "G G    141\n",
            "A G     71\n",
            "A A     50\n",
            "Name: SNP_01, dtype: int64\n"
          ]
        },
        {
          "output_type": "display_data",
          "data": {
            "text/plain": [
              "<Figure size 432x288 with 1 Axes>"
            ],
            "image/png": "[encoded data removed]"
          },
          "metadata": {
            "needs_background": "light"
          }
        }
      ]
    },
    {
      "cell_type": "code",
      "source": [
        "sns.countplot(x='SNP_01', data=train,hue = 'class')"
      ],
      "metadata": {
        "colab": {
          "base_uri": "https://localhost:8080/",
          "height": 298
        },
        "id": "cRbs9MGZuHpY",
        "outputId": "cdec2091-79d9-4f4b-a5f0-c59ad0209dbe"
      },
      "execution_count": null,
      "outputs": [
        {
          "output_type": "execute_result",
          "data": {
            "text/plain": [
              "<matplotlib.axes._subplots.AxesSubplot at 0x7fd5490ecfa0>"
            ]
          },
          "metadata": {},
          "execution_count": 15
        },
        {
          "output_type": "display_data",
          "data": {
            "text/plain": [
              "<Figure size 432x288 with 1 Axes>"
            ],
            "image/png": "[encoded data removed]"
          },
          "metadata": {
            "needs_background": "light"
          }
        }
      ]
    },
    {
      "cell_type": "code",
      "source": [
        "identify_count(train, 'SNP_02')"
      ],
      "metadata": {
        "colab": {
          "base_uri": "https://localhost:8080/",
          "height": 372
        },
        "id": "ay0hzJRrttIt",
        "outputId": "d64043c2-973b-4a33-e17a-595ee2507243"
      },
      "execution_count": null,
      "outputs": [
        {
          "output_type": "stream",
          "name": "stdout",
          "text": [
            "['A G' 'G G' 'A A']\n",
            "G G    108\n",
            "A G     97\n",
            "A A     57\n",
            "Name: SNP_02, dtype: int64\n"
          ]
        },
        {
          "output_type": "display_data",
          "data": {
            "text/plain": [
              "<Figure size 432x288 with 1 Axes>"
            ],
            "image/png": "[encoded data removed]"
          },
          "metadata": {
            "needs_background": "light"
          }
        }
      ]
    },
    {
      "cell_type": "code",
      "source": [
        "sns.countplot(x='SNP_02', data=train,hue = 'class')"
      ],
      "metadata": {
        "colab": {
          "base_uri": "https://localhost:8080/",
          "height": 298
        },
        "id": "IRuFHRuCugTA",
        "outputId": "9c0e18ba-2de0-48ca-f6b0-bed6b6f9f40b"
      },
      "execution_count": null,
      "outputs": [
        {
          "output_type": "execute_result",
          "data": {
            "text/plain": [
              "<matplotlib.axes._subplots.AxesSubplot at 0x7fd549026580>"
            ]
          },
          "metadata": {},
          "execution_count": 17
        },
        {
          "output_type": "display_data",
          "data": {
            "text/plain": [
              "<Figure size 432x288 with 1 Axes>"
            ],
            "image/png": "[encoded data removed]"
          },
          "metadata": {
            "needs_background": "light"
          }
        }
      ]
    },
    {
      "cell_type": "code",
      "source": [
        "identify_count(train, 'SNP_03')"
      ],
      "metadata": {
        "colab": {
          "base_uri": "https://localhost:8080/",
          "height": 372
        },
        "id": "ldQSiya1turZ",
        "outputId": "2a6d811e-62ef-4892-91d6-d742d86a3694"
      },
      "execution_count": null,
      "outputs": [
        {
          "output_type": "stream",
          "name": "stdout",
          "text": [
            "['A A' 'C A' 'C C']\n",
            "A A    122\n",
            "C A     92\n",
            "C C     48\n",
            "Name: SNP_03, dtype: int64\n"
          ]
        },
        {
          "output_type": "display_data",
          "data": {
            "text/plain": [
              "<Figure size 432x288 with 1 Axes>"
            ],
            "image/png": "[encoded data removed]"
          },
          "metadata": {
            "needs_background": "light"
          }
        }
      ]
    },
    {
      "cell_type": "code",
      "source": [
        "sns.countplot(x='SNP_03', data=train,hue = 'class')"
      ],
      "metadata": {
        "colab": {
          "base_uri": "https://localhost:8080/",
          "height": 298
        },
        "id": "-7wqDdWnv2l1",
        "outputId": "c09660fb-2f55-4446-fe40-730b9210833e"
      },
      "execution_count": null,
      "outputs": [
        {
          "output_type": "execute_result",
          "data": {
            "text/plain": [
              "<matplotlib.axes._subplots.AxesSubplot at 0x7fd548f56fd0>"
            ]
          },
          "metadata": {},
          "execution_count": 19
        },
        {
          "output_type": "display_data",
          "data": {
            "text/plain": [
              "<Figure size 432x288 with 1 Axes>"
            ],
            "image/png": "[encoded data removed]"
          },
          "metadata": {
            "needs_background": "light"
          }
        }
      ]
    },
    {
      "cell_type": "code",
      "source": [
        "identify_count(train, 'SNP_04')"
      ],
      "metadata": {
        "colab": {
          "base_uri": "https://localhost:8080/",
          "height": 372
        },
        "id": "IrortTLvv6LW",
        "outputId": "4ce6766f-1358-4953-9785-5ff42d1add25"
      },
      "execution_count": null,
      "outputs": [
        {
          "output_type": "stream",
          "name": "stdout",
          "text": [
            "['G A' 'A A' 'G G']\n",
            "A A    120\n",
            "G A     93\n",
            "G G     49\n",
            "Name: SNP_04, dtype: int64\n"
          ]
        },
        {
          "output_type": "display_data",
          "data": {
            "text/plain": [
              "<Figure size 432x288 with 1 Axes>"
            ],
            "image/png": "[encoded data removed]"
          },
          "metadata": {
            "needs_background": "light"
          }
        }
      ]
    },
    {
      "cell_type": "code",
      "source": [
        "sns.countplot(x='SNP_04', data=train,hue = 'class')"
      ],
      "metadata": {
        "colab": {
          "base_uri": "https://localhost:8080/",
          "height": 298
        },
        "id": "LlxcUjnnwaWb",
        "outputId": "f092581c-6403-4312-a7d9-289f0aeac759"
      },
      "execution_count": null,
      "outputs": [
        {
          "output_type": "execute_result",
          "data": {
            "text/plain": [
              "<matplotlib.axes._subplots.AxesSubplot at 0x7fd548e41550>"
            ]
          },
          "metadata": {},
          "execution_count": 21
        },
        {
          "output_type": "display_data",
          "data": {
            "text/plain": [
              "<Figure size 432x288 with 1 Axes>"
            ],
            "image/png": "[encoded data removed]"
          },
          "metadata": {
            "needs_background": "light"
          }
        }
      ]
    },
    {
      "cell_type": "code",
      "source": [
        "identify_count(train, 'SNP_05')"
      ],
      "metadata": {
        "colab": {
          "base_uri": "https://localhost:8080/",
          "height": 372
        },
        "id": "erDfKKdpzrr6",
        "outputId": "a7b82320-81dc-4ad6-f9e7-d39728ed0f1e"
      },
      "execution_count": null,
      "outputs": [
        {
          "output_type": "stream",
          "name": "stdout",
          "text": [
            "['C A' 'A A' 'C C']\n",
            "A A    94\n",
            "C A    86\n",
            "C C    82\n",
            "Name: SNP_05, dtype: int64\n"
          ]
        },
        {
          "output_type": "display_data",
          "data": {
            "text/plain": [
              "<Figure size 432x288 with 1 Axes>"
            ],
            "image/png": "[encoded data removed]"
          },
          "metadata": {
            "needs_background": "light"
          }
        }
      ]
    },
    {
      "cell_type": "code",
      "source": [
        "sns.countplot(x='SNP_05', data=train,hue = 'class')"
      ],
      "metadata": {
        "colab": {
          "base_uri": "https://localhost:8080/",
          "height": 298
        },
        "id": "ULtOfIBnzse4",
        "outputId": "fe7a5119-6938-4e09-d204-3843325d87e8"
      },
      "execution_count": null,
      "outputs": [
        {
          "output_type": "execute_result",
          "data": {
            "text/plain": [
              "<matplotlib.axes._subplots.AxesSubplot at 0x7fd548dd9c10>"
            ]
          },
          "metadata": {},
          "execution_count": 23
        },
        {
          "output_type": "display_data",
          "data": {
            "text/plain": [
              "<Figure size 432x288 with 1 Axes>"
            ],
            "image/png": "[encoded data removed]"
          },
          "metadata": {
            "needs_background": "light"
          }
        }
      ]
    },
    {
      "cell_type": "code",
      "source": [
        "identify_count(train, 'SNP_06')"
      ],
      "metadata": {
        "colab": {
          "base_uri": "https://localhost:8080/",
          "height": 372
        },
        "id": "xQIYAW1Nzusb",
        "outputId": "b5354bef-56b8-4f03-8bb5-2a00081b6b90"
      },
      "execution_count": null,
      "outputs": [
        {
          "output_type": "stream",
          "name": "stdout",
          "text": [
            "['A A' 'A G' 'G G']\n",
            "A G    122\n",
            "G G     79\n",
            "A A     61\n",
            "Name: SNP_06, dtype: int64\n"
          ]
        },
        {
          "output_type": "display_data",
          "data": {
            "text/plain": [
              "<Figure size 432x288 with 1 Axes>"
            ],
            "image/png": "[encoded data removed]"
          },
          "metadata": {
            "needs_background": "light"
          }
        }
      ]
    },
    {
      "cell_type": "code",
      "source": [
        "sns.countplot(x='SNP_06', data=train,hue = 'class')"
      ],
      "metadata": {
        "colab": {
          "base_uri": "https://localhost:8080/",
          "height": 298
        },
        "id": "hRgq8r4zzzie",
        "outputId": "71f36f58-395a-4d7d-df43-364a90dc8dfd"
      },
      "execution_count": null,
      "outputs": [
        {
          "output_type": "execute_result",
          "data": {
            "text/plain": [
              "<matplotlib.axes._subplots.AxesSubplot at 0x7fd548cc6b80>"
            ]
          },
          "metadata": {},
          "execution_count": 25
        },
        {
          "output_type": "display_data",
          "data": {
            "text/plain": [
              "<Figure size 432x288 with 1 Axes>"
            ],
            "image/png": "[encoded data removed]"
          },
          "metadata": {
            "needs_background": "light"
          }
        }
      ]
    },
    {
      "cell_type": "code",
      "source": [
        "identify_count(train, 'SNP_07')"
      ],
      "metadata": {
        "colab": {
          "base_uri": "https://localhost:8080/",
          "height": 372
        },
        "id": "tYbqcktmz1pJ",
        "outputId": "6f33af88-e3eb-4fce-ba11-28027c604fa3"
      },
      "execution_count": null,
      "outputs": [
        {
          "output_type": "stream",
          "name": "stdout",
          "text": [
            "['A A' 'G G' 'G A']\n",
            "A A    163\n",
            "G G     51\n",
            "G A     48\n",
            "Name: SNP_07, dtype: int64\n"
          ]
        },
        {
          "output_type": "display_data",
          "data": {
            "text/plain": [
              "<Figure size 432x288 with 1 Axes>"
            ],
            "image/png": "[encoded data removed]"
          },
          "metadata": {
            "needs_background": "light"
          }
        }
      ]
    },
    {
      "cell_type": "code",
      "source": [
        "sns.countplot(x='SNP_07', data=train,hue = 'class')"
      ],
      "metadata": {
        "colab": {
          "base_uri": "https://localhost:8080/",
          "height": 298
        },
        "id": "3lW8NjTez9u_",
        "outputId": "82f25e29-780c-4f0a-a662-c1ba477f7532"
      },
      "execution_count": null,
      "outputs": [
        {
          "output_type": "execute_result",
          "data": {
            "text/plain": [
              "<matplotlib.axes._subplots.AxesSubplot at 0x7fd548c76340>"
            ]
          },
          "metadata": {},
          "execution_count": 27
        },
        {
          "output_type": "display_data",
          "data": {
            "text/plain": [
              "<Figure size 432x288 with 1 Axes>"
            ],
            "image/png": "[encoded data removed]"
          },
          "metadata": {
            "needs_background": "light"
          }
        }
      ]
    },
    {
      "cell_type": "code",
      "source": [
        "identify_count(train, 'SNP_08')\n",
        "sns.countplot(x='SNP_08', data=train,hue = 'class')"
      ],
      "metadata": {
        "colab": {
          "base_uri": "https://localhost:8080/",
          "height": 656
        },
        "id": "l9iEtJmJ0A35",
        "outputId": "e8b9e5bd-980c-413e-c0bd-46ad3b2fcf2d"
      },
      "execution_count": null,
      "outputs": [
        {
          "output_type": "stream",
          "name": "stdout",
          "text": [
            "['G G' 'G A' 'A A']\n",
            "G A    96\n",
            "A A    87\n",
            "G G    79\n",
            "Name: SNP_08, dtype: int64\n"
          ]
        },
        {
          "output_type": "display_data",
          "data": {
            "text/plain": [
              "<Figure size 432x288 with 1 Axes>"
            ],
            "image/png": "[encoded data removed]"
          },
          "metadata": {
            "needs_background": "light"
          }
        },
        {
          "output_type": "execute_result",
          "data": {
            "text/plain": [
              "<matplotlib.axes._subplots.AxesSubplot at 0x7fd548dee2e0>"
            ]
          },
          "metadata": {},
          "execution_count": 28
        },
        {
          "output_type": "display_data",
          "data": {
            "text/plain": [
              "<Figure size 432x288 with 1 Axes>"
            ],
            "image/png": "[encoded data removed]"
          },
          "metadata": {
            "needs_background": "light"
          }
        }
      ]
    },
    {
      "cell_type": "code",
      "source": [
        "identify_count(train, 'SNP_09')\n",
        "sns.countplot(x='SNP_09', data=train,hue = 'class')"
      ],
      "metadata": {
        "colab": {
          "base_uri": "https://localhost:8080/",
          "height": 653
        },
        "id": "-BcYCHR50Nwg",
        "outputId": "699a4076-9039-443b-a3e8-1de25cf360da"
      },
      "execution_count": null,
      "outputs": [
        {
          "output_type": "stream",
          "name": "stdout",
          "text": [
            "['A A' 'G A' 'G G']\n",
            "A A    182\n",
            "G A     56\n",
            "G G     24\n",
            "Name: SNP_09, dtype: int64\n"
          ]
        },
        {
          "output_type": "display_data",
          "data": {
            "text/plain": [
              "<Figure size 432x288 with 1 Axes>"
            ],
            "image/png": "[encoded data removed]"
          },
          "metadata": {
            "needs_background": "light"
          }
        },
        {
          "output_type": "execute_result",
          "data": {
            "text/plain": [
              "<matplotlib.axes._subplots.AxesSubplot at 0x7fd548f67310>"
            ]
          },
          "metadata": {},
          "execution_count": 29
        },
        {
          "output_type": "display_data",
          "data": {
            "text/plain": [
              "<Figure size 432x288 with 1 Axes>"
            ],
            "image/png": "[encoded data removed]"
          },
          "metadata": {
            "needs_background": "light"
          }
        }
      ]
    },
    {
      "cell_type": "code",
      "source": [
        "identify_count(train, 'SNP_10')\n",
        "sns.countplot(x='SNP_10', data=train,hue = 'class')"
      ],
      "metadata": {
        "colab": {
          "base_uri": "https://localhost:8080/",
          "height": 653
        },
        "id": "FVDVH0OD0Wqq",
        "outputId": "a3580541-42ca-4343-e6a0-df74c4b08ac9"
      },
      "execution_count": null,
      "outputs": [
        {
          "output_type": "stream",
          "name": "stdout",
          "text": [
            "['G G' 'A G' 'A A']\n",
            "G G    151\n",
            "A G     68\n",
            "A A     43\n",
            "Name: SNP_10, dtype: int64\n"
          ]
        },
        {
          "output_type": "display_data",
          "data": {
            "text/plain": [
              "<Figure size 432x288 with 1 Axes>"
            ],
            "image/png": "[encoded data removed]"
          },
          "metadata": {
            "needs_background": "light"
          }
        },
        {
          "output_type": "execute_result",
          "data": {
            "text/plain": [
              "<matplotlib.axes._subplots.AxesSubplot at 0x7fd54911b6a0>"
            ]
          },
          "metadata": {},
          "execution_count": 30
        },
        {
          "output_type": "display_data",
          "data": {
            "text/plain": [
              "<Figure size 432x288 with 1 Axes>"
            ],
            "image/png": "[encoded data removed]"
          },
          "metadata": {
            "needs_background": "light"
          }
        }
      ]
    },
    {
      "cell_type": "code",
      "source": [
        "identify_count(train, 'SNP_11')\n",
        "sns.countplot(x='SNP_11', data=train,hue = 'class')"
      ],
      "metadata": {
        "colab": {
          "base_uri": "https://localhost:8080/",
          "height": 656
        },
        "id": "GlDpSNj40cH2",
        "outputId": "ea2812b7-a75d-4aa7-d812-2762f3a196cf"
      },
      "execution_count": null,
      "outputs": [
        {
          "output_type": "stream",
          "name": "stdout",
          "text": [
            "['A G' 'A A' 'G G']\n",
            "A G    96\n",
            "A A    83\n",
            "G G    83\n",
            "Name: SNP_11, dtype: int64\n"
          ]
        },
        {
          "output_type": "display_data",
          "data": {
            "text/plain": [
              "<Figure size 432x288 with 1 Axes>"
            ],
            "image/png": "[encoded data removed]"
          },
          "metadata": {
            "needs_background": "light"
          }
        },
        {
          "output_type": "execute_result",
          "data": {
            "text/plain": [
              "<matplotlib.axes._subplots.AxesSubplot at 0x7fd549161c40>"
            ]
          },
          "metadata": {},
          "execution_count": 31
        },
        {
          "output_type": "display_data",
          "data": {
            "text/plain": [
              "<Figure size 432x288 with 1 Axes>"
            ],
            "image/png": "[encoded data removed]"
          },
          "metadata": {
            "needs_background": "light"
          }
        }
      ]
    },
    {
      "cell_type": "code",
      "source": [
        "identify_count(train, 'SNP_12')\n",
        "sns.countplot(x='SNP_12', data=train,hue = 'class')"
      ],
      "metadata": {
        "colab": {
          "base_uri": "https://localhost:8080/",
          "height": 653
        },
        "id": "2NPWjrlQ0kUd",
        "outputId": "4900064f-db36-47a4-b869-93a0bb562087"
      },
      "execution_count": null,
      "outputs": [
        {
          "output_type": "stream",
          "name": "stdout",
          "text": [
            "['A A' 'G A' 'G G']\n",
            "A A    136\n",
            "G A     73\n",
            "G G     53\n",
            "Name: SNP_12, dtype: int64\n"
          ]
        },
        {
          "output_type": "display_data",
          "data": {
            "text/plain": [
              "<Figure size 432x288 with 1 Axes>"
            ],
            "image/png": "[encoded data removed]"
          },
          "metadata": {
            "needs_background": "light"
          }
        },
        {
          "output_type": "execute_result",
          "data": {
            "text/plain": [
              "<matplotlib.axes._subplots.AxesSubplot at 0x7fd548b67820>"
            ]
          },
          "metadata": {},
          "execution_count": 32
        },
        {
          "output_type": "display_data",
          "data": {
            "text/plain": [
              "<Figure size 432x288 with 1 Axes>"
            ],
            "image/png": "[encoded data removed]"
          },
          "metadata": {
            "needs_background": "light"
          }
        }
      ]
    },
    {
      "cell_type": "code",
      "source": [
        "identify_count(train, 'SNP_13')\n",
        "sns.countplot(x='SNP_13', data=train,hue = 'class')"
      ],
      "metadata": {
        "colab": {
          "base_uri": "https://localhost:8080/",
          "height": 656
        },
        "id": "K5manOGR08Th",
        "outputId": "47a14563-25b6-4f40-ba84-d59424dcd21c"
      },
      "execution_count": null,
      "outputs": [
        {
          "output_type": "stream",
          "name": "stdout",
          "text": [
            "['A A' 'G G' 'A G']\n",
            "G G    115\n",
            "A G     95\n",
            "A A     52\n",
            "Name: SNP_13, dtype: int64\n"
          ]
        },
        {
          "output_type": "display_data",
          "data": {
            "text/plain": [
              "<Figure size 432x288 with 1 Axes>"
            ],
            "image/png": "[encoded data removed]"
          },
          "metadata": {
            "needs_background": "light"
          }
        },
        {
          "output_type": "execute_result",
          "data": {
            "text/plain": [
              "<matplotlib.axes._subplots.AxesSubplot at 0x7fd548aa66a0>"
            ]
          },
          "metadata": {},
          "execution_count": 33
        },
        {
          "output_type": "display_data",
          "data": {
            "text/plain": [
              "<Figure size 432x288 with 1 Axes>"
            ],
            "image/png": "[encoded data removed]"
          },
          "metadata": {
            "needs_background": "light"
          }
        }
      ]
    },
    {
      "cell_type": "code",
      "source": [
        "identify_count(train, 'SNP_14')\n",
        "sns.countplot(x='SNP_14', data=train,hue = 'class')"
      ],
      "metadata": {
        "colab": {
          "base_uri": "https://localhost:8080/",
          "height": 653
        },
        "id": "WIn0wUCW0-7s",
        "outputId": "57a6d032-7ce1-4e8b-ef25-ccaf478dfbd0"
      },
      "execution_count": null,
      "outputs": [
        {
          "output_type": "stream",
          "name": "stdout",
          "text": [
            "['A A' 'C C' 'C A']\n",
            "A A    185\n",
            "C A     54\n",
            "C C     23\n",
            "Name: SNP_14, dtype: int64\n"
          ]
        },
        {
          "output_type": "display_data",
          "data": {
            "text/plain": [
              "<Figure size 432x288 with 1 Axes>"
            ],
            "image/png": "[encoded data removed]"
          },
          "metadata": {
            "needs_background": "light"
          }
        },
        {
          "output_type": "execute_result",
          "data": {
            "text/plain": [
              "<matplotlib.axes._subplots.AxesSubplot at 0x7fd5489f9340>"
            ]
          },
          "metadata": {},
          "execution_count": 34
        },
        {
          "output_type": "display_data",
          "data": {
            "text/plain": [
              "<Figure size 432x288 with 1 Axes>"
            ],
            "image/png": "[encoded data removed]"
          },
          "metadata": {
            "needs_background": "light"
          }
        }
      ]
    },
    {
      "cell_type": "code",
      "source": [
        "identify_count(train, 'SNP_15')\n",
        "sns.countplot(x='SNP_15', data=train,hue = 'class')"
      ],
      "metadata": {
        "colab": {
          "base_uri": "https://localhost:8080/",
          "height": 653
        },
        "id": "8RklBMzS1AkP",
        "outputId": "efdfc6a2-c399-4ada-8ec4-b1edc29270ac"
      },
      "execution_count": null,
      "outputs": [
        {
          "output_type": "stream",
          "name": "stdout",
          "text": [
            "['A A' 'G G' 'G A']\n",
            "A A    107\n",
            "G A    100\n",
            "G G     55\n",
            "Name: SNP_15, dtype: int64\n"
          ]
        },
        {
          "output_type": "display_data",
          "data": {
            "text/plain": [
              "<Figure size 432x288 with 1 Axes>"
            ],
            "image/png": "[encoded data removed]"
          },
          "metadata": {
            "needs_background": "light"
          }
        },
        {
          "output_type": "execute_result",
          "data": {
            "text/plain": [
              "<matplotlib.axes._subplots.AxesSubplot at 0x7fd5489f11c0>"
            ]
          },
          "metadata": {},
          "execution_count": 35
        },
        {
          "output_type": "display_data",
          "data": {
            "text/plain": [
              "<Figure size 432x288 with 1 Axes>"
            ],
            "image/png": "[encoded data removed]"
          },
          "metadata": {
            "needs_background": "light"
          }
        }
      ]
    },
    {
      "cell_type": "code",
      "source": [
        "train['SNP_15'].unique()"
      ],
      "metadata": {
        "colab": {
          "base_uri": "https://localhost:8080/"
        },
        "id": "vqVYqCYd5jWB",
        "outputId": "c450fbc3-3405-420e-cd77-8b9ee0148a1f"
      },
      "execution_count": null,
      "outputs": [
        {
          "output_type": "execute_result",
          "data": {
            "text/plain": [
              "array(['A A', 'G G', 'G A'], dtype=object)"
            ]
          },
          "metadata": {},
          "execution_count": 36
        }
      ]
    },
    {
      "cell_type": "code",
      "source": [
        "identify_count(train, 'class')"
      ],
      "metadata": {
        "colab": {
          "base_uri": "https://localhost:8080/",
          "height": 371
        },
        "id": "eI1Rj8xO1Cly",
        "outputId": "38b6c6e3-1a20-45ca-f26a-06c3daea35cb"
      },
      "execution_count": null,
      "outputs": [
        {
          "output_type": "stream",
          "name": "stdout",
          "text": [
            "['B' 'C' 'A']\n",
            "B    114\n",
            "C     79\n",
            "A     69\n",
            "Name: class, dtype: int64\n"
          ]
        },
        {
          "output_type": "display_data",
          "data": {
            "text/plain": [
              "<Figure size 432x288 with 1 Axes>"
            ],
            "image/png": "[encoded data removed]"
          },
          "metadata": {
            "needs_background": "light"
          }
        }
      ]
    },
    {
      "cell_type": "code",
      "source": [
        "for i in train.columns:\n",
        "  print(train[i].unique())"
      ],
      "metadata": {
        "colab": {
          "base_uri": "https://localhost:8080/"
        },
        "id": "okmHIvJF5puq",
        "outputId": "64f185aa-4c59-4464-a41c-9749254d73a7"
      },
      "execution_count": null,
      "outputs": [
        {
          "output_type": "stream",
          "name": "stdout",
          "text": [
            "['TRAIN_000' 'TRAIN_001' 'TRAIN_002' 'TRAIN_003' 'TRAIN_004' 'TRAIN_005'\n",
            " 'TRAIN_006' 'TRAIN_007' 'TRAIN_008' 'TRAIN_009' 'TRAIN_010' 'TRAIN_011'\n",
            " 'TRAIN_012' 'TRAIN_013' 'TRAIN_014' 'TRAIN_015' 'TRAIN_016' 'TRAIN_017'\n",
            " 'TRAIN_018' 'TRAIN_019' 'TRAIN_020' 'TRAIN_021' 'TRAIN_022' 'TRAIN_023'\n",
            " 'TRAIN_024' 'TRAIN_025' 'TRAIN_026' 'TRAIN_027' 'TRAIN_028' 'TRAIN_029'\n",
            " 'TRAIN_030' 'TRAIN_031' 'TRAIN_032' 'TRAIN_033' 'TRAIN_034' 'TRAIN_035'\n",
            " 'TRAIN_036' 'TRAIN_037' 'TRAIN_038' 'TRAIN_039' 'TRAIN_040' 'TRAIN_041'\n",
            " 'TRAIN_042' 'TRAIN_043' 'TRAIN_044' 'TRAIN_045' 'TRAIN_046' 'TRAIN_047'\n",
            " 'TRAIN_048' 'TRAIN_049' 'TRAIN_050' 'TRAIN_051' 'TRAIN_052' 'TRAIN_053'\n",
            " 'TRAIN_054' 'TRAIN_055' 'TRAIN_056' 'TRAIN_057' 'TRAIN_058' 'TRAIN_059'\n",
            " 'TRAIN_060' 'TRAIN_061' 'TRAIN_062' 'TRAIN_063' 'TRAIN_064' 'TRAIN_065'\n",
            " 'TRAIN_066' 'TRAIN_067' 'TRAIN_068' 'TRAIN_069' 'TRAIN_070' 'TRAIN_071'\n",
            " 'TRAIN_072' 'TRAIN_073' 'TRAIN_074' 'TRAIN_075' 'TRAIN_076' 'TRAIN_077'\n",
            " 'TRAIN_078' 'TRAIN_079' 'TRAIN_080' 'TRAIN_081' 'TRAIN_082' 'TRAIN_083'\n",
            " 'TRAIN_084' 'TRAIN_085' 'TRAIN_086' 'TRAIN_087' 'TRAIN_088' 'TRAIN_089'\n",
            " 'TRAIN_090' 'TRAIN_091' 'TRAIN_092' 'TRAIN_093' 'TRAIN_094' 'TRAIN_095'\n",
            " 'TRAIN_096' 'TRAIN_097' 'TRAIN_098' 'TRAIN_099' 'TRAIN_100' 'TRAIN_101'\n",
            " 'TRAIN_102' 'TRAIN_103' 'TRAIN_104' 'TRAIN_105' 'TRAIN_106' 'TRAIN_107'\n",
            " 'TRAIN_108' 'TRAIN_109' 'TRAIN_110' 'TRAIN_111' 'TRAIN_112' 'TRAIN_113'\n",
            " 'TRAIN_114' 'TRAIN_115' 'TRAIN_116' 'TRAIN_117' 'TRAIN_118' 'TRAIN_119'\n",
            " 'TRAIN_120' 'TRAIN_121' 'TRAIN_122' 'TRAIN_123' 'TRAIN_124' 'TRAIN_125'\n",
            " 'TRAIN_126' 'TRAIN_127' 'TRAIN_128' 'TRAIN_129' 'TRAIN_130' 'TRAIN_131'\n",
            " 'TRAIN_132' 'TRAIN_133' 'TRAIN_134' 'TRAIN_135' 'TRAIN_136' 'TRAIN_137'\n",
            " 'TRAIN_138' 'TRAIN_139' 'TRAIN_140' 'TRAIN_141' 'TRAIN_142' 'TRAIN_143'\n",
            " 'TRAIN_144' 'TRAIN_145' 'TRAIN_146' 'TRAIN_147' 'TRAIN_148' 'TRAIN_149'\n",
            " 'TRAIN_150' 'TRAIN_151' 'TRAIN_152' 'TRAIN_153' 'TRAIN_154' 'TRAIN_155'\n",
            " 'TRAIN_156' 'TRAIN_157' 'TRAIN_158' 'TRAIN_159' 'TRAIN_160' 'TRAIN_161'\n",
            " 'TRAIN_162' 'TRAIN_163' 'TRAIN_164' 'TRAIN_165' 'TRAIN_166' 'TRAIN_167'\n",
            " 'TRAIN_168' 'TRAIN_169' 'TRAIN_170' 'TRAIN_171' 'TRAIN_172' 'TRAIN_173'\n",
            " 'TRAIN_174' 'TRAIN_175' 'TRAIN_176' 'TRAIN_177' 'TRAIN_178' 'TRAIN_179'\n",
            " 'TRAIN_180' 'TRAIN_181' 'TRAIN_182' 'TRAIN_183' 'TRAIN_184' 'TRAIN_185'\n",
            " 'TRAIN_186' 'TRAIN_187' 'TRAIN_188' 'TRAIN_189' 'TRAIN_190' 'TRAIN_191'\n",
            " 'TRAIN_192' 'TRAIN_193' 'TRAIN_194' 'TRAIN_195' 'TRAIN_196' 'TRAIN_197'\n",
            " 'TRAIN_198' 'TRAIN_199' 'TRAIN_200' 'TRAIN_201' 'TRAIN_202' 'TRAIN_203'\n",
            " 'TRAIN_204' 'TRAIN_205' 'TRAIN_206' 'TRAIN_207' 'TRAIN_208' 'TRAIN_209'\n",
            " 'TRAIN_210' 'TRAIN_211' 'TRAIN_212' 'TRAIN_213' 'TRAIN_214' 'TRAIN_215'\n",
            " 'TRAIN_216' 'TRAIN_217' 'TRAIN_218' 'TRAIN_219' 'TRAIN_220' 'TRAIN_221'\n",
            " 'TRAIN_222' 'TRAIN_223' 'TRAIN_224' 'TRAIN_225' 'TRAIN_226' 'TRAIN_227'\n",
            " 'TRAIN_228' 'TRAIN_229' 'TRAIN_230' 'TRAIN_231' 'TRAIN_232' 'TRAIN_233'\n",
            " 'TRAIN_234' 'TRAIN_235' 'TRAIN_236' 'TRAIN_237' 'TRAIN_238' 'TRAIN_239'\n",
            " 'TRAIN_240' 'TRAIN_241' 'TRAIN_242' 'TRAIN_243' 'TRAIN_244' 'TRAIN_245'\n",
            " 'TRAIN_246' 'TRAIN_247' 'TRAIN_248' 'TRAIN_249' 'TRAIN_250' 'TRAIN_251'\n",
            " 'TRAIN_252' 'TRAIN_253' 'TRAIN_254' 'TRAIN_255' 'TRAIN_256' 'TRAIN_257'\n",
            " 'TRAIN_258' 'TRAIN_259' 'TRAIN_260' 'TRAIN_261']\n",
            "[0]\n",
            "[0]\n",
            "[0]\n",
            "[2 1]\n",
            "['G G' 'A G' 'A A']\n",
            "['A G' 'G G' 'A A']\n",
            "['A A' 'C A' 'C C']\n",
            "['G A' 'A A' 'G G']\n",
            "['C A' 'A A' 'C C']\n",
            "['A A' 'A G' 'G G']\n",
            "['A A' 'G G' 'G A']\n",
            "['G G' 'G A' 'A A']\n",
            "['A A' 'G A' 'G G']\n",
            "['G G' 'A G' 'A A']\n",
            "['A G' 'A A' 'G G']\n",
            "['A A' 'G A' 'G G']\n",
            "['A A' 'G G' 'A G']\n",
            "['A A' 'C C' 'C A']\n",
            "['A A' 'G G' 'G A']\n",
            "['B' 'C' 'A']\n"
          ]
        }
      ]
    },
    {
      "cell_type": "markdown",
      "source": [
        "#test eda"
      ],
      "metadata": {
        "id": "ShtIOyWL2M-n"
      }
    },
    {
      "cell_type": "code",
      "source": [
        "train"
      ],
      "metadata": {
        "colab": {
          "base_uri": "https://localhost:8080/",
          "height": 488
        },
        "id": "gqUMp_is6Mp9",
        "outputId": "718fbd75-9b77-4c95-9bae-32f8cb83b1f3"
      },
      "execution_count": null,
      "outputs": [
        {
          "output_type": "execute_result",
          "data": {
            "text/plain": [
              "            id  father  mother  gender  trait SNP_01 SNP_02 SNP_03 SNP_04  \\\n",
              "0    TRAIN_000       0       0       0      2    G G    A G    A A    G A   \n",
              "1    TRAIN_001       0       0       0      2    A G    A G    C A    A A   \n",
              "2    TRAIN_002       0       0       0      2    G G    G G    A A    G A   \n",
              "3    TRAIN_003       0       0       0      1    A A    G G    A A    G A   \n",
              "4    TRAIN_004       0       0       0      2    G G    G G    C C    A A   \n",
              "..         ...     ...     ...     ...    ...    ...    ...    ...    ...   \n",
              "257  TRAIN_257       0       0       0      2    A G    A G    A A    G A   \n",
              "258  TRAIN_258       0       0       0      2    G G    A A    C A    A A   \n",
              "259  TRAIN_259       0       0       0      1    A G    G G    A A    G A   \n",
              "260  TRAIN_260       0       0       0      1    A A    G G    A A    G A   \n",
              "261  TRAIN_261       0       0       0      2    G G    A G    C A    G G   \n",
              "\n",
              "    SNP_05  ... SNP_07 SNP_08 SNP_09 SNP_10 SNP_11 SNP_12 SNP_13 SNP_14  \\\n",
              "0      C A  ...    A A    G G    A A    G G    A G    A A    A A    A A   \n",
              "1      A A  ...    A A    G A    A A    A G    A A    G A    G G    A A   \n",
              "2      C C  ...    A A    G A    G A    A G    A A    A A    A A    A A   \n",
              "3      A A  ...    G G    A A    G G    A G    G G    G G    G G    A A   \n",
              "4      C C  ...    A A    A A    A A    G G    A A    A A    A G    A A   \n",
              "..     ...  ...    ...    ...    ...    ...    ...    ...    ...    ...   \n",
              "257    C C  ...    A A    G A    A A    G G    A G    G A    A A    A A   \n",
              "258    A A  ...    G A    G A    A A    A G    A G    A A    A G    A A   \n",
              "259    A A  ...    G G    G A    G A    A A    G G    G G    G G    C A   \n",
              "260    A A  ...    G G    A A    G A    A G    A G    G A    G G    C A   \n",
              "261    C C  ...    A A    A A    A A    G G    A A    A A    G G    A A   \n",
              "\n",
              "    SNP_15 class  \n",
              "0      A A     B  \n",
              "1      A A     C  \n",
              "2      A A     B  \n",
              "3      G G     A  \n",
              "4      G A     C  \n",
              "..     ...   ...  \n",
              "257    A A     B  \n",
              "258    G A     C  \n",
              "259    G G     A  \n",
              "260    G G     A  \n",
              "261    G A     B  \n",
              "\n",
              "[262 rows x 21 columns]"
            ],
            "text/html": [
              "\n",
              "  <div id=\"df-d837a780-119c-4565-89ca-a059e55f32ca\">\n",
              "    <div class=\"colab-df-container\">\n",
              "      <div>\n",
              "<style scoped>\n",
              "    .dataframe tbody tr th:only-of-type {\n",
              "        vertical-align: middle;\n",
              "    }\n",
              "\n",
              "    .dataframe tbody tr th {\n",
              "        vertical-align: top;\n",
              "    }\n",
              "\n",
              "    .dataframe thead th {\n",
              "        text-align: right;\n",
              "    }\n",
              "</style>\n",
              "<table border=\"1\" class=\"dataframe\">\n",
              "  <thead>\n",
              "    <tr style=\"text-align: right;\">\n",
              "      <th></th>\n",
              "      <th>id</th>\n",
              "      <th>father</th>\n",
              "      <th>mother</th>\n",
              "      <th>gender</th>\n",
              "      <th>trait</th>\n",
              "      <th>SNP_01</th>\n",
              "      <th>SNP_02</th>\n",
              "      <th>SNP_03</th>\n",
              "      <th>SNP_04</th>\n",
              "      <th>SNP_05</th>\n",
              "      <th>...</th>\n",
              "      <th>SNP_07</th>\n",
              "      <th>SNP_08</th>\n",
              "      <th>SNP_09</th>\n",
              "      <th>SNP_10</th>\n",
              "      <th>SNP_11</th>\n",
              "      <th>SNP_12</th>\n",
              "      <th>SNP_13</th>\n",
              "      <th>SNP_14</th>\n",
              "      <th>SNP_15</th>\n",
              "      <th>class</th>\n",
              "    </tr>\n",
              "  </thead>\n",
              "  <tbody>\n",
              "    <tr>\n",
              "      <th>0</th>\n",
              "      <td>TRAIN_000</td>\n",
              "      <td>0</td>\n",
              "      <td>0</td>\n",
              "      <td>0</td>\n",
              "      <td>2</td>\n",
              "      <td>G G</td>\n",
              "      <td>A G</td>\n",
              "      <td>A A</td>\n",
              "      <td>G A</td>\n",
              "      <td>C A</td>\n",
              "      <td>...</td>\n",
              "      <td>A A</td>\n",
              "      <td>G G</td>\n",
              "      <td>A A</td>\n",
              "      <td>G G</td>\n",
              "      <td>A G</td>\n",
              "      <td>A A</td>\n",
              "      <td>A A</td>\n",
              "      <td>A A</td>\n",
              "      <td>A A</td>\n",
              "      <td>B</td>\n",
              "    </tr>\n",
              "    <tr>\n",
              "      <th>1</th>\n",
              "      <td>TRAIN_001</td>\n",
              "      <td>0</td>\n",
              "      <td>0</td>\n",
              "      <td>0</td>\n",
              "      <td>2</td>\n",
              "      <td>A G</td>\n",
              "      <td>A G</td>\n",
              "      <td>C A</td>\n",
              "      <td>A A</td>\n",
              "      <td>A A</td>\n",
              "      <td>...</td>\n",
              "      <td>A A</td>\n",
              "      <td>G A</td>\n",
              "      <td>A A</td>\n",
              "      <td>A G</td>\n",
              "      <td>A A</td>\n",
              "      <td>G A</td>\n",
              "      <td>G G</td>\n",
              "      <td>A A</td>\n",
              "      <td>A A</td>\n",
              "      <td>C</td>\n",
              "    </tr>\n",
              "    <tr>\n",
              "      <th>2</th>\n",
              "      <td>TRAIN_002</td>\n",
              "      <td>0</td>\n",
              "      <td>0</td>\n",
              "      <td>0</td>\n",
              "      <td>2</td>\n",
              "      <td>G G</td>\n",
              "      <td>G G</td>\n",
              "      <td>A A</td>\n",
              "      <td>G A</td>\n",
              "      <td>C C</td>\n",
              "      <td>...</td>\n",
              "      <td>A A</td>\n",
              "      <td>G A</td>\n",
              "      <td>G A</td>\n",
              "      <td>A G</td>\n",
              "      <td>A A</td>\n",
              "      <td>A A</td>\n",
              "      <td>A A</td>\n",
              "      <td>A A</td>\n",
              "      <td>A A</td>\n",
              "      <td>B</td>\n",
              "    </tr>\n",
              "    <tr>\n",
              "      <th>3</th>\n",
              "      <td>TRAIN_003</td>\n",
              "      <td>0</td>\n",
              "      <td>0</td>\n",
              "      <td>0</td>\n",
              "      <td>1</td>\n",
              "      <td>A A</td>\n",
              "      <td>G G</td>\n",
              "      <td>A A</td>\n",
              "      <td>G A</td>\n",
              "      <td>A A</td>\n",
              "      <td>...</td>\n",
              "      <td>G G</td>\n",
              "      <td>A A</td>\n",
              "      <td>G G</td>\n",
              "      <td>A G</td>\n",
              "      <td>G G</td>\n",
              "      <td>G G</td>\n",
              "      <td>G G</td>\n",
              "      <td>A A</td>\n",
              "      <td>G G</td>\n",
              "      <td>A</td>\n",
              "    </tr>\n",
              "    <tr>\n",
              "      <th>4</th>\n",
              "      <td>TRAIN_004</td>\n",
              "      <td>0</td>\n",
              "      <td>0</td>\n",
              "      <td>0</td>\n",
              "      <td>2</td>\n",
              "      <td>G G</td>\n",
              "      <td>G G</td>\n",
              "      <td>C C</td>\n",
              "      <td>A A</td>\n",
              "      <td>C C</td>\n",
              "      <td>...</td>\n",
              "      <td>A A</td>\n",
              "      <td>A A</td>\n",
              "      <td>A A</td>\n",
              "      <td>G G</td>\n",
              "      <td>A A</td>\n",
              "      <td>A A</td>\n",
              "      <td>A G</td>\n",
              "      <td>A A</td>\n",
              "      <td>G A</td>\n",
              "      <td>C</td>\n",
              "    </tr>\n",
              "    <tr>\n",
              "      <th>...</th>\n",
              "      <td>...</td>\n",
              "      <td>...</td>\n",
              "      <td>...</td>\n",
              "      <td>...</td>\n",
              "      <td>...</td>\n",
              "      <td>...</td>\n",
              "      <td>...</td>\n",
              "      <td>...</td>\n",
              "      <td>...</td>\n",
              "      <td>...</td>\n",
              "      <td>...</td>\n",
              "      <td>...</td>\n",
              "      <td>...</td>\n",
              "      <td>...</td>\n",
              "      <td>...</td>\n",
              "      <td>...</td>\n",
              "      <td>...</td>\n",
              "      <td>...</td>\n",
              "      <td>...</td>\n",
              "      <td>...</td>\n",
              "      <td>...</td>\n",
              "    </tr>\n",
              "    <tr>\n",
              "      <th>257</th>\n",
              "      <td>TRAIN_257</td>\n",
              "      <td>0</td>\n",
              "      <td>0</td>\n",
              "      <td>0</td>\n",
              "      <td>2</td>\n",
              "      <td>A G</td>\n",
              "      <td>A G</td>\n",
              "      <td>A A</td>\n",
              "      <td>G A</td>\n",
              "      <td>C C</td>\n",
              "      <td>...</td>\n",
              "      <td>A A</td>\n",
              "      <td>G A</td>\n",
              "      <td>A A</td>\n",
              "      <td>G G</td>\n",
              "      <td>A G</td>\n",
              "      <td>G A</td>\n",
              "      <td>A A</td>\n",
              "      <td>A A</td>\n",
              "      <td>A A</td>\n",
              "      <td>B</td>\n",
              "    </tr>\n",
              "    <tr>\n",
              "      <th>258</th>\n",
              "      <td>TRAIN_258</td>\n",
              "      <td>0</td>\n",
              "      <td>0</td>\n",
              "      <td>0</td>\n",
              "      <td>2</td>\n",
              "      <td>G G</td>\n",
              "      <td>A A</td>\n",
              "      <td>C A</td>\n",
              "      <td>A A</td>\n",
              "      <td>A A</td>\n",
              "      <td>...</td>\n",
              "      <td>G A</td>\n",
              "      <td>G A</td>\n",
              "      <td>A A</td>\n",
              "      <td>A G</td>\n",
              "      <td>A G</td>\n",
              "      <td>A A</td>\n",
              "      <td>A G</td>\n",
              "      <td>A A</td>\n",
              "      <td>G A</td>\n",
              "      <td>C</td>\n",
              "    </tr>\n",
              "    <tr>\n",
              "      <th>259</th>\n",
              "      <td>TRAIN_259</td>\n",
              "      <td>0</td>\n",
              "      <td>0</td>\n",
              "      <td>0</td>\n",
              "      <td>1</td>\n",
              "      <td>A G</td>\n",
              "      <td>G G</td>\n",
              "      <td>A A</td>\n",
              "      <td>G A</td>\n",
              "      <td>A A</td>\n",
              "      <td>...</td>\n",
              "      <td>G G</td>\n",
              "      <td>G A</td>\n",
              "      <td>G A</td>\n",
              "      <td>A A</td>\n",
              "      <td>G G</td>\n",
              "      <td>G G</td>\n",
              "      <td>G G</td>\n",
              "      <td>C A</td>\n",
              "      <td>G G</td>\n",
              "      <td>A</td>\n",
              "    </tr>\n",
              "    <tr>\n",
              "      <th>260</th>\n",
              "      <td>TRAIN_260</td>\n",
              "      <td>0</td>\n",
              "      <td>0</td>\n",
              "      <td>0</td>\n",
              "      <td>1</td>\n",
              "      <td>A A</td>\n",
              "      <td>G G</td>\n",
              "      <td>A A</td>\n",
              "      <td>G A</td>\n",
              "      <td>A A</td>\n",
              "      <td>...</td>\n",
              "      <td>G G</td>\n",
              "      <td>A A</td>\n",
              "      <td>G A</td>\n",
              "      <td>A G</td>\n",
              "      <td>A G</td>\n",
              "      <td>G A</td>\n",
              "      <td>G G</td>\n",
              "      <td>C A</td>\n",
              "      <td>G G</td>\n",
              "      <td>A</td>\n",
              "    </tr>\n",
              "    <tr>\n",
              "      <th>261</th>\n",
              "      <td>TRAIN_261</td>\n",
              "      <td>0</td>\n",
              "      <td>0</td>\n",
              "      <td>0</td>\n",
              "      <td>2</td>\n",
              "      <td>G G</td>\n",
              "      <td>A G</td>\n",
              "      <td>C A</td>\n",
              "      <td>G G</td>\n",
              "      <td>C C</td>\n",
              "      <td>...</td>\n",
              "      <td>A A</td>\n",
              "      <td>A A</td>\n",
              "      <td>A A</td>\n",
              "      <td>G G</td>\n",
              "      <td>A A</td>\n",
              "      <td>A A</td>\n",
              "      <td>G G</td>\n",
              "      <td>A A</td>\n",
              "      <td>G A</td>\n",
              "      <td>B</td>\n",
              "    </tr>\n",
              "  </tbody>\n",
              "</table>\n",
              "<p>262 rows × 21 columns</p>\n",
              "</div>\n",
              "      <button class=\"colab-df-convert\" onclick=\"convertToInteractive('df-d837a780-119c-4565-89ca-a059e55f32ca')\"\n",
              "              title=\"Convert this dataframe to an interactive table.\"\n",
              "              style=\"display:none;\">\n",
              "        \n",
              "  <svg xmlns=\"http://www.w3.org/2000/svg\" height=\"24px\"viewBox=\"0 0 24 24\"\n",
              "       width=\"24px\">\n",
              "    <path d=\"M0 0h24v24H0V0z\" fill=\"none\"/>\n",
              "    <path d=\"M18.56 5.44l.94 2.06.94-2.06 2.06-.94-2.06-.94-.94-2.06-.94 2.06-2.06.94zm-11 1L8.5 8.5l.94-2.06 2.06-.94-2.06-.94L8.5 2.5l-.94 2.06-2.06.94zm10 10l.94 2.06.94-2.06 2.06-.94-2.06-.94-.94-2.06-.94 2.06-2.06.94z\"/><path d=\"M17.41 7.96l-1.37-1.37c-.4-.4-.92-.59-1.43-.59-.52 0-1.04.2-1.43.59L10.3 9.45l-7.72 7.72c-.78.78-.78 2.05 0 2.83L4 21.41c.39.39.9.59 1.41.59.51 0 1.02-.2 1.41-.59l7.78-7.78 2.81-2.81c.8-.78.8-2.07 0-2.86zM5.41 20L4 18.59l7.72-7.72 1.47 1.35L5.41 20z\"/>\n",
              "  </svg>\n",
              "      </button>\n",
              "      \n",
              "  <style>\n",
              "    .colab-df-container {\n",
              "      display:flex;\n",
              "      flex-wrap:wrap;\n",
              "      gap: 12px;\n",
              "    }\n",
              "\n",
              "    .colab-df-convert {\n",
              "      background-color: #E8F0FE;\n",
              "      border: none;\n",
              "      border-radius: 50%;\n",
              "      cursor: pointer;\n",
              "      display: none;\n",
              "      fill: #1967D2;\n",
              "      height: 32px;\n",
              "      padding: 0 0 0 0;\n",
              "      width: 32px;\n",
              "    }\n",
              "\n",
              "    .colab-df-convert:hover {\n",
              "      background-color: #E2EBFA;\n",
              "      box-shadow: 0px 1px 2px rgba(60, 64, 67, 0.3), 0px 1px 3px 1px rgba(60, 64, 67, 0.15);\n",
              "      fill: #174EA6;\n",
              "    }\n",
              "\n",
              "    [theme=dark] .colab-df-convert {\n",
              "      background-color: #3B4455;\n",
              "      fill: #D2E3FC;\n",
              "    }\n",
              "\n",
              "    [theme=dark] .colab-df-convert:hover {\n",
              "      background-color: #434B5C;\n",
              "      box-shadow: 0px 1px 3px 1px rgba(0, 0, 0, 0.15);\n",
              "      filter: drop-shadow(0px 1px 2px rgba(0, 0, 0, 0.3));\n",
              "      fill: #FFFFFF;\n",
              "    }\n",
              "  </style>\n",
              "\n",
              "      <script>\n",
              "        const buttonEl =\n",
              "          document.querySelector('#df-d837a780-119c-4565-89ca-a059e55f32ca button.colab-df-convert');\n",
              "        buttonEl.style.display =\n",
              "          google.colab.kernel.accessAllowed ? 'block' : 'none';\n",
              "\n",
              "        async function convertToInteractive(key) {\n",
              "          const element = document.querySelector('#df-d837a780-119c-4565-89ca-a059e55f32ca');\n",
              "          const dataTable =\n",
              "            await google.colab.kernel.invokeFunction('convertToInteractive',\n",
              "                                                     [key], {});\n",
              "          if (!dataTable) return;\n",
              "\n",
              "          const docLinkHtml = 'Like what you see? Visit the ' +\n",
              "            '<a target=\"_blank\" href=https://colab.research.google.com/notebooks/data_table.ipynb>data table notebook</a>'\n",
              "            + ' to learn more about interactive tables.';\n",
              "          element.innerHTML = '';\n",
              "          dataTable['output_type'] = 'display_data';\n",
              "          await google.colab.output.renderOutput(dataTable, element);\n",
              "          const docLink = document.createElement('div');\n",
              "          docLink.innerHTML = docLinkHtml;\n",
              "          element.appendChild(docLink);\n",
              "        }\n",
              "      </script>\n",
              "    </div>\n",
              "  </div>\n",
              "  "
            ]
          },
          "metadata": {},
          "execution_count": 39
        }
      ]
    },
    {
      "cell_type": "code",
      "source": [
        "test"
      ],
      "metadata": {
        "colab": {
          "base_uri": "https://localhost:8080/",
          "height": 488
        },
        "id": "34uLHxHg1Fu8",
        "outputId": "fd20834b-895e-4d24-ddaf-1cea25cde975"
      },
      "execution_count": null,
      "outputs": [
        {
          "output_type": "execute_result",
          "data": {
            "text/plain": [
              "           id  father  mother  gender  trait SNP_01 SNP_02 SNP_03 SNP_04  \\\n",
              "0    TEST_000       0       0       0      1    A G    G G    A A    G A   \n",
              "1    TEST_001       0       0       0      2    G G    A G    C C    G G   \n",
              "2    TEST_002       0       0       0      2    G G    A G    A A    A A   \n",
              "3    TEST_003       0       0       0      2    G G    A G    C A    A A   \n",
              "4    TEST_004       0       0       0      1    A A    G G    A A    G G   \n",
              "..        ...     ...     ...     ...    ...    ...    ...    ...    ...   \n",
              "170  TEST_170       0       0       0      2    A G    G G    C C    A A   \n",
              "171  TEST_171       0       0       0      2    G G    A A    A A    A A   \n",
              "172  TEST_172       0       0       0      2    G G    A A    A A    A A   \n",
              "173  TEST_173       0       0       0      2    A G    G G    C A    G A   \n",
              "174  TEST_174       0       0       0      2    G G    G G    C C    G A   \n",
              "\n",
              "    SNP_05 SNP_06 SNP_07 SNP_08 SNP_09 SNP_10 SNP_11 SNP_12 SNP_13 SNP_14  \\\n",
              "0      A A    A G    G G    G A    G A    A G    A G    G A    G G    C A   \n",
              "1      C C    A A    A A    A A    A A    G G    A G    A A    A A    A A   \n",
              "2      C A    A G    A A    A A    A A    A G    A A    G A    G G    A A   \n",
              "3      C C    A A    A A    A A    A A    G G    A A    G A    A G    A A   \n",
              "4      A A    G G    G G    A A    G G    A G    G G    G A    G G    A A   \n",
              "..     ...    ...    ...    ...    ...    ...    ...    ...    ...    ...   \n",
              "170    C A    A G    A A    G G    A A    G G    G G    A A    A A    A A   \n",
              "171    C A    A G    A A    A A    A A    A G    A A    A A    A G    A A   \n",
              "172    C A    A G    A A    A A    A A    G G    A G    A A    A G    A A   \n",
              "173    C C    G G    A A    G A    A A    G G    A G    A A    A A    A A   \n",
              "174    C A    A A    G A    G G    A A    G G    G G    A A    A A    A A   \n",
              "\n",
              "    SNP_15  \n",
              "0      G A  \n",
              "1      A A  \n",
              "2      G G  \n",
              "3      A A  \n",
              "4      G G  \n",
              "..     ...  \n",
              "170    G A  \n",
              "171    G A  \n",
              "172    G G  \n",
              "173    A A  \n",
              "174    A A  \n",
              "\n",
              "[175 rows x 20 columns]"
            ],
            "text/html": [
              "\n",
              "  <div id=\"df-2fe64807-abc9-4d81-be54-42ebdb57dbca\">\n",
              "    <div class=\"colab-df-container\">\n",
              "      <div>\n",
              "<style scoped>\n",
              "    .dataframe tbody tr th:only-of-type {\n",
              "        vertical-align: middle;\n",
              "    }\n",
              "\n",
              "    .dataframe tbody tr th {\n",
              "        vertical-align: top;\n",
              "    }\n",
              "\n",
              "    .dataframe thead th {\n",
              "        text-align: right;\n",
              "    }\n",
              "</style>\n",
              "<table border=\"1\" class=\"dataframe\">\n",
              "  <thead>\n",
              "    <tr style=\"text-align: right;\">\n",
              "      <th></th>\n",
              "      <th>id</th>\n",
              "      <th>father</th>\n",
              "      <th>mother</th>\n",
              "      <th>gender</th>\n",
              "      <th>trait</th>\n",
              "      <th>SNP_01</th>\n",
              "      <th>SNP_02</th>\n",
              "      <th>SNP_03</th>\n",
              "      <th>SNP_04</th>\n",
              "      <th>SNP_05</th>\n",
              "      <th>SNP_06</th>\n",
              "      <th>SNP_07</th>\n",
              "      <th>SNP_08</th>\n",
              "      <th>SNP_09</th>\n",
              "      <th>SNP_10</th>\n",
              "      <th>SNP_11</th>\n",
              "      <th>SNP_12</th>\n",
              "      <th>SNP_13</th>\n",
              "      <th>SNP_14</th>\n",
              "      <th>SNP_15</th>\n",
              "    </tr>\n",
              "  </thead>\n",
              "  <tbody>\n",
              "    <tr>\n",
              "      <th>0</th>\n",
              "      <td>TEST_000</td>\n",
              "      <td>0</td>\n",
              "      <td>0</td>\n",
              "      <td>0</td>\n",
              "      <td>1</td>\n",
              "      <td>A G</td>\n",
              "      <td>G G</td>\n",
              "      <td>A A</td>\n",
              "      <td>G A</td>\n",
              "      <td>A A</td>\n",
              "      <td>A G</td>\n",
              "      <td>G G</td>\n",
              "      <td>G A</td>\n",
              "      <td>G A</td>\n",
              "      <td>A G</td>\n",
              "      <td>A G</td>\n",
              "      <td>G A</td>\n",
              "      <td>G G</td>\n",
              "      <td>C A</td>\n",
              "      <td>G A</td>\n",
              "    </tr>\n",
              "    <tr>\n",
              "      <th>1</th>\n",
              "      <td>TEST_001</td>\n",
              "      <td>0</td>\n",
              "      <td>0</td>\n",
              "      <td>0</td>\n",
              "      <td>2</td>\n",
              "      <td>G G</td>\n",
              "      <td>A G</td>\n",
              "      <td>C C</td>\n",
              "      <td>G G</td>\n",
              "      <td>C C</td>\n",
              "      <td>A A</td>\n",
              "      <td>A A</td>\n",
              "      <td>A A</td>\n",
              "      <td>A A</td>\n",
              "      <td>G G</td>\n",
              "      <td>A G</td>\n",
              "      <td>A A</td>\n",
              "      <td>A A</td>\n",
              "      <td>A A</td>\n",
              "      <td>A A</td>\n",
              "    </tr>\n",
              "    <tr>\n",
              "      <th>2</th>\n",
              "      <td>TEST_002</td>\n",
              "      <td>0</td>\n",
              "      <td>0</td>\n",
              "      <td>0</td>\n",
              "      <td>2</td>\n",
              "      <td>G G</td>\n",
              "      <td>A G</td>\n",
              "      <td>A A</td>\n",
              "      <td>A A</td>\n",
              "      <td>C A</td>\n",
              "      <td>A G</td>\n",
              "      <td>A A</td>\n",
              "      <td>A A</td>\n",
              "      <td>A A</td>\n",
              "      <td>A G</td>\n",
              "      <td>A A</td>\n",
              "      <td>G A</td>\n",
              "      <td>G G</td>\n",
              "      <td>A A</td>\n",
              "      <td>G G</td>\n",
              "    </tr>\n",
              "    <tr>\n",
              "      <th>3</th>\n",
              "      <td>TEST_003</td>\n",
              "      <td>0</td>\n",
              "      <td>0</td>\n",
              "      <td>0</td>\n",
              "      <td>2</td>\n",
              "      <td>G G</td>\n",
              "      <td>A G</td>\n",
              "      <td>C A</td>\n",
              "      <td>A A</td>\n",
              "      <td>C C</td>\n",
              "      <td>A A</td>\n",
              "      <td>A A</td>\n",
              "      <td>A A</td>\n",
              "      <td>A A</td>\n",
              "      <td>G G</td>\n",
              "      <td>A A</td>\n",
              "      <td>G A</td>\n",
              "      <td>A G</td>\n",
              "      <td>A A</td>\n",
              "      <td>A A</td>\n",
              "    </tr>\n",
              "    <tr>\n",
              "      <th>4</th>\n",
              "      <td>TEST_004</td>\n",
              "      <td>0</td>\n",
              "      <td>0</td>\n",
              "      <td>0</td>\n",
              "      <td>1</td>\n",
              "      <td>A A</td>\n",
              "      <td>G G</td>\n",
              "      <td>A A</td>\n",
              "      <td>G G</td>\n",
              "      <td>A A</td>\n",
              "      <td>G G</td>\n",
              "      <td>G G</td>\n",
              "      <td>A A</td>\n",
              "      <td>G G</td>\n",
              "      <td>A G</td>\n",
              "      <td>G G</td>\n",
              "      <td>G A</td>\n",
              "      <td>G G</td>\n",
              "      <td>A A</td>\n",
              "      <td>G G</td>\n",
              "    </tr>\n",
              "    <tr>\n",
              "      <th>...</th>\n",
              "      <td>...</td>\n",
              "      <td>...</td>\n",
              "      <td>...</td>\n",
              "      <td>...</td>\n",
              "      <td>...</td>\n",
              "      <td>...</td>\n",
              "      <td>...</td>\n",
              "      <td>...</td>\n",
              "      <td>...</td>\n",
              "      <td>...</td>\n",
              "      <td>...</td>\n",
              "      <td>...</td>\n",
              "      <td>...</td>\n",
              "      <td>...</td>\n",
              "      <td>...</td>\n",
              "      <td>...</td>\n",
              "      <td>...</td>\n",
              "      <td>...</td>\n",
              "      <td>...</td>\n",
              "      <td>...</td>\n",
              "    </tr>\n",
              "    <tr>\n",
              "      <th>170</th>\n",
              "      <td>TEST_170</td>\n",
              "      <td>0</td>\n",
              "      <td>0</td>\n",
              "      <td>0</td>\n",
              "      <td>2</td>\n",
              "      <td>A G</td>\n",
              "      <td>G G</td>\n",
              "      <td>C C</td>\n",
              "      <td>A A</td>\n",
              "      <td>C A</td>\n",
              "      <td>A G</td>\n",
              "      <td>A A</td>\n",
              "      <td>G G</td>\n",
              "      <td>A A</td>\n",
              "      <td>G G</td>\n",
              "      <td>G G</td>\n",
              "      <td>A A</td>\n",
              "      <td>A A</td>\n",
              "      <td>A A</td>\n",
              "      <td>G A</td>\n",
              "    </tr>\n",
              "    <tr>\n",
              "      <th>171</th>\n",
              "      <td>TEST_171</td>\n",
              "      <td>0</td>\n",
              "      <td>0</td>\n",
              "      <td>0</td>\n",
              "      <td>2</td>\n",
              "      <td>G G</td>\n",
              "      <td>A A</td>\n",
              "      <td>A A</td>\n",
              "      <td>A A</td>\n",
              "      <td>C A</td>\n",
              "      <td>A G</td>\n",
              "      <td>A A</td>\n",
              "      <td>A A</td>\n",
              "      <td>A A</td>\n",
              "      <td>A G</td>\n",
              "      <td>A A</td>\n",
              "      <td>A A</td>\n",
              "      <td>A G</td>\n",
              "      <td>A A</td>\n",
              "      <td>G A</td>\n",
              "    </tr>\n",
              "    <tr>\n",
              "      <th>172</th>\n",
              "      <td>TEST_172</td>\n",
              "      <td>0</td>\n",
              "      <td>0</td>\n",
              "      <td>0</td>\n",
              "      <td>2</td>\n",
              "      <td>G G</td>\n",
              "      <td>A A</td>\n",
              "      <td>A A</td>\n",
              "      <td>A A</td>\n",
              "      <td>C A</td>\n",
              "      <td>A G</td>\n",
              "      <td>A A</td>\n",
              "      <td>A A</td>\n",
              "      <td>A A</td>\n",
              "      <td>G G</td>\n",
              "      <td>A G</td>\n",
              "      <td>A A</td>\n",
              "      <td>A G</td>\n",
              "      <td>A A</td>\n",
              "      <td>G G</td>\n",
              "    </tr>\n",
              "    <tr>\n",
              "      <th>173</th>\n",
              "      <td>TEST_173</td>\n",
              "      <td>0</td>\n",
              "      <td>0</td>\n",
              "      <td>0</td>\n",
              "      <td>2</td>\n",
              "      <td>A G</td>\n",
              "      <td>G G</td>\n",
              "      <td>C A</td>\n",
              "      <td>G A</td>\n",
              "      <td>C C</td>\n",
              "      <td>G G</td>\n",
              "      <td>A A</td>\n",
              "      <td>G A</td>\n",
              "      <td>A A</td>\n",
              "      <td>G G</td>\n",
              "      <td>A G</td>\n",
              "      <td>A A</td>\n",
              "      <td>A A</td>\n",
              "      <td>A A</td>\n",
              "      <td>A A</td>\n",
              "    </tr>\n",
              "    <tr>\n",
              "      <th>174</th>\n",
              "      <td>TEST_174</td>\n",
              "      <td>0</td>\n",
              "      <td>0</td>\n",
              "      <td>0</td>\n",
              "      <td>2</td>\n",
              "      <td>G G</td>\n",
              "      <td>G G</td>\n",
              "      <td>C C</td>\n",
              "      <td>G A</td>\n",
              "      <td>C A</td>\n",
              "      <td>A A</td>\n",
              "      <td>G A</td>\n",
              "      <td>G G</td>\n",
              "      <td>A A</td>\n",
              "      <td>G G</td>\n",
              "      <td>G G</td>\n",
              "      <td>A A</td>\n",
              "      <td>A A</td>\n",
              "      <td>A A</td>\n",
              "      <td>A A</td>\n",
              "    </tr>\n",
              "  </tbody>\n",
              "</table>\n",
              "<p>175 rows × 20 columns</p>\n",
              "</div>\n",
              "      <button class=\"colab-df-convert\" onclick=\"convertToInteractive('df-2fe64807-abc9-4d81-be54-42ebdb57dbca')\"\n",
              "              title=\"Convert this dataframe to an interactive table.\"\n",
              "              style=\"display:none;\">\n",
              "        \n",
              "  <svg xmlns=\"http://www.w3.org/2000/svg\" height=\"24px\"viewBox=\"0 0 24 24\"\n",
              "       width=\"24px\">\n",
              "    <path d=\"M0 0h24v24H0V0z\" fill=\"none\"/>\n",
              "    <path d=\"M18.56 5.44l.94 2.06.94-2.06 2.06-.94-2.06-.94-.94-2.06-.94 2.06-2.06.94zm-11 1L8.5 8.5l.94-2.06 2.06-.94-2.06-.94L8.5 2.5l-.94 2.06-2.06.94zm10 10l.94 2.06.94-2.06 2.06-.94-2.06-.94-.94-2.06-.94 2.06-2.06.94z\"/><path d=\"M17.41 7.96l-1.37-1.37c-.4-.4-.92-.59-1.43-.59-.52 0-1.04.2-1.43.59L10.3 9.45l-7.72 7.72c-.78.78-.78 2.05 0 2.83L4 21.41c.39.39.9.59 1.41.59.51 0 1.02-.2 1.41-.59l7.78-7.78 2.81-2.81c.8-.78.8-2.07 0-2.86zM5.41 20L4 18.59l7.72-7.72 1.47 1.35L5.41 20z\"/>\n",
              "  </svg>\n",
              "      </button>\n",
              "      \n",
              "  <style>\n",
              "    .colab-df-container {\n",
              "      display:flex;\n",
              "      flex-wrap:wrap;\n",
              "      gap: 12px;\n",
              "    }\n",
              "\n",
              "    .colab-df-convert {\n",
              "      background-color: #E8F0FE;\n",
              "      border: none;\n",
              "      border-radius: 50%;\n",
              "      cursor: pointer;\n",
              "      display: none;\n",
              "      fill: #1967D2;\n",
              "      height: 32px;\n",
              "      padding: 0 0 0 0;\n",
              "      width: 32px;\n",
              "    }\n",
              "\n",
              "    .colab-df-convert:hover {\n",
              "      background-color: #E2EBFA;\n",
              "      box-shadow: 0px 1px 2px rgba(60, 64, 67, 0.3), 0px 1px 3px 1px rgba(60, 64, 67, 0.15);\n",
              "      fill: #174EA6;\n",
              "    }\n",
              "\n",
              "    [theme=dark] .colab-df-convert {\n",
              "      background-color: #3B4455;\n",
              "      fill: #D2E3FC;\n",
              "    }\n",
              "\n",
              "    [theme=dark] .colab-df-convert:hover {\n",
              "      background-color: #434B5C;\n",
              "      box-shadow: 0px 1px 3px 1px rgba(0, 0, 0, 0.15);\n",
              "      filter: drop-shadow(0px 1px 2px rgba(0, 0, 0, 0.3));\n",
              "      fill: #FFFFFF;\n",
              "    }\n",
              "  </style>\n",
              "\n",
              "      <script>\n",
              "        const buttonEl =\n",
              "          document.querySelector('#df-2fe64807-abc9-4d81-be54-42ebdb57dbca button.colab-df-convert');\n",
              "        buttonEl.style.display =\n",
              "          google.colab.kernel.accessAllowed ? 'block' : 'none';\n",
              "\n",
              "        async function convertToInteractive(key) {\n",
              "          const element = document.querySelector('#df-2fe64807-abc9-4d81-be54-42ebdb57dbca');\n",
              "          const dataTable =\n",
              "            await google.colab.kernel.invokeFunction('convertToInteractive',\n",
              "                                                     [key], {});\n",
              "          if (!dataTable) return;\n",
              "\n",
              "          const docLinkHtml = 'Like what you see? Visit the ' +\n",
              "            '<a target=\"_blank\" href=https://colab.research.google.com/notebooks/data_table.ipynb>data table notebook</a>'\n",
              "            + ' to learn more about interactive tables.';\n",
              "          element.innerHTML = '';\n",
              "          dataTable['output_type'] = 'display_data';\n",
              "          await google.colab.output.renderOutput(dataTable, element);\n",
              "          const docLink = document.createElement('div');\n",
              "          docLink.innerHTML = docLinkHtml;\n",
              "          element.appendChild(docLink);\n",
              "        }\n",
              "      </script>\n",
              "    </div>\n",
              "  </div>\n",
              "  "
            ]
          },
          "metadata": {},
          "execution_count": 40
        }
      ]
    },
    {
      "cell_type": "markdown",
      "source": [
        "딱히 빠진 컬럼이나 그런건 안보인다."
      ],
      "metadata": {
        "id": "pFb1oN9n2Ti-"
      }
    },
    {
      "cell_type": "markdown",
      "source": [
        "# 결론!\n",
        "\n",
        "father, mother, gender를 삭제해야 한다.\n",
        "\n",
        "각 snp에는"
      ],
      "metadata": {
        "id": "QlXwrFYz3KVP"
      }
    },
    {
      "cell_type": "markdown",
      "source": [
        "['G G' 'A G' 'A A']\n",
        "\n",
        "['A G' 'G G' 'A A']\n",
        "\n",
        "['A A' 'C A' 'C C']\n",
        "\n",
        "['G A' 'A A' 'G G']\n",
        "\n",
        "\n",
        "['C A' 'A A' 'C C']\n",
        "\n",
        "['A A' 'A G' 'G G']\n",
        "\n",
        "['A A' 'G G' 'G A']\n",
        "\n",
        "['G G' 'G A' 'A A']\n",
        "\n",
        "['A A' 'G A' 'G G']\n",
        "\n",
        "['G G' 'A G' 'A A']\n",
        "\n",
        "['A G' 'A A' 'G G']\n",
        "\n",
        "['A A' 'G A' 'G G']\n",
        "\n",
        "['A A' 'G G' 'A G']\n",
        "\n",
        "['A A' 'C C' 'C A']\n",
        "\n",
        "['A A' 'G G' 'G A']"
      ],
      "metadata": {
        "id": "MbVloeRy7oWS"
      }
    },
    {
      "cell_type": "markdown",
      "source": [
        "![image.png](data:image/png;base64,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)"
      ],
      "metadata": {
        "id": "5ol1PKchAtLa"
      }
    },
    {
      "cell_type": "markdown",
      "source": [
        "# 가설\n",
        "\n",
        "1. target과 trait,snp_01,03,05,08,10과 가장 연관이 깊다."
      ],
      "metadata": {
        "id": "56C1trQpA2Xa"
      }
    },
    {
      "cell_type": "code",
      "source": [
        "identify_count(train, 'SNP_01')\n",
        "sns.countplot(x='SNP_01', data=train,hue = 'class')"
      ],
      "metadata": {
        "colab": {
          "base_uri": "https://localhost:8080/",
          "height": 653
        },
        "id": "HGg-waow3ZYd",
        "outputId": "f04aec4b-8ff9-438b-f8bf-1077a37525a6"
      },
      "execution_count": null,
      "outputs": [
        {
          "output_type": "stream",
          "name": "stdout",
          "text": [
            "['G G' 'A G' 'A A']\n",
            "G G    141\n",
            "A G     71\n",
            "A A     50\n",
            "Name: SNP_01, dtype: int64\n"
          ]
        },
        {
          "output_type": "display_data",
          "data": {
            "text/plain": [
              "<Figure size 432x288 with 1 Axes>"
            ],
            "image/png": "[encoded data removed]"
          },
          "metadata": {
            "needs_background": "light"
          }
        },
        {
          "output_type": "execute_result",
          "data": {
            "text/plain": [
              "<matplotlib.axes._subplots.AxesSubplot at 0x7fd548a98a30>"
            ]
          },
          "metadata": {},
          "execution_count": 41
        },
        {
          "output_type": "display_data",
          "data": {
            "text/plain": [
              "<Figure size 432x288 with 1 Axes>"
            ],
            "image/png": "[encoded data removed]"
          },
          "metadata": {
            "needs_background": "light"
          }
        }
      ]
    },
    {
      "cell_type": "code",
      "source": [
        "identify_count(train, 'SNP_03')\n",
        "sns.countplot(x='SNP_03', data=train,hue = 'class')"
      ],
      "metadata": {
        "colab": {
          "base_uri": "https://localhost:8080/",
          "height": 653
        },
        "id": "kaJZ7EnkBEp3",
        "outputId": "94c52df8-310d-4643-d9f3-acaa3a5e3d20"
      },
      "execution_count": null,
      "outputs": [
        {
          "output_type": "stream",
          "name": "stdout",
          "text": [
            "['A A' 'C A' 'C C']\n",
            "A A    122\n",
            "C A     92\n",
            "C C     48\n",
            "Name: SNP_03, dtype: int64\n"
          ]
        },
        {
          "output_type": "display_data",
          "data": {
            "text/plain": [
              "<Figure size 432x288 with 1 Axes>"
            ],
            "image/png": "[encoded data removed]"
          },
          "metadata": {
            "needs_background": "light"
          }
        },
        {
          "output_type": "execute_result",
          "data": {
            "text/plain": [
              "<matplotlib.axes._subplots.AxesSubplot at 0x7fd549176160>"
            ]
          },
          "metadata": {},
          "execution_count": 42
        },
        {
          "output_type": "display_data",
          "data": {
            "text/plain": [
              "<Figure size 432x288 with 1 Axes>"
            ],
            "image/png": "[encoded data removed]"
          },
          "metadata": {
            "needs_background": "light"
          }
        }
      ]
    },
    {
      "cell_type": "code",
      "source": [
        "identify_count(train, 'SNP_05')\n",
        "sns.countplot(x='SNP_05', data=train,hue = 'class')"
      ],
      "metadata": {
        "colab": {
          "base_uri": "https://localhost:8080/",
          "height": 653
        },
        "id": "WdiHhokJBMjq",
        "outputId": "10bd734e-9185-4115-802e-4776aebd38db"
      },
      "execution_count": null,
      "outputs": [
        {
          "output_type": "stream",
          "name": "stdout",
          "text": [
            "['C A' 'A A' 'C C']\n",
            "A A    94\n",
            "C A    86\n",
            "C C    82\n",
            "Name: SNP_05, dtype: int64\n"
          ]
        },
        {
          "output_type": "display_data",
          "data": {
            "text/plain": [
              "<Figure size 432x288 with 1 Axes>"
            ],
            "image/png": "[encoded data removed]"
          },
          "metadata": {
            "needs_background": "light"
          }
        },
        {
          "output_type": "execute_result",
          "data": {
            "text/plain": [
              "<matplotlib.axes._subplots.AxesSubplot at 0x7fd5490d55e0>"
            ]
          },
          "metadata": {},
          "execution_count": 43
        },
        {
          "output_type": "display_data",
          "data": {
            "text/plain": [
              "<Figure size 432x288 with 1 Axes>"
            ],
            "image/png": "[encoded data removed]"
          },
          "metadata": {
            "needs_background": "light"
          }
        }
      ]
    },
    {
      "cell_type": "code",
      "source": [
        "identify_count(train, 'SNP_08')\n",
        "sns.countplot(x='SNP_08', data=train,hue = 'class')"
      ],
      "metadata": {
        "colab": {
          "base_uri": "https://localhost:8080/",
          "height": 656
        },
        "id": "5jEcQ-mFnjL5",
        "outputId": "6a38df4b-3aa6-4aeb-e3e9-d7e8e8fe96b3"
      },
      "execution_count": null,
      "outputs": [
        {
          "output_type": "stream",
          "name": "stdout",
          "text": [
            "['G G' 'G A' 'A A']\n",
            "G A    96\n",
            "A A    87\n",
            "G G    79\n",
            "Name: SNP_08, dtype: int64\n"
          ]
        },
        {
          "output_type": "display_data",
          "data": {
            "text/plain": [
              "<Figure size 432x288 with 1 Axes>"
            ],
            "image/png": "[encoded data removed]"
          },
          "metadata": {
            "needs_background": "light"
          }
        },
        {
          "output_type": "execute_result",
          "data": {
            "text/plain": [
              "<matplotlib.axes._subplots.AxesSubplot at 0x7fd5487201c0>"
            ]
          },
          "metadata": {},
          "execution_count": 47
        },
        {
          "output_type": "display_data",
          "data": {
            "text/plain": [
              "<Figure size 432x288 with 1 Axes>"
            ],
            "image/png": "[encoded data removed]"
          },
          "metadata": {
            "needs_background": "light"
          }
        }
      ]
    },
    {
      "cell_type": "code",
      "source": [
        "identify_count(train, 'SNP_10')\n",
        "sns.countplot(x='SNP_10', data=train,hue = 'class')"
      ],
      "metadata": {
        "id": "ajWrJ5kQnqXx",
        "outputId": "096ca148-fece-4518-bbe8-6ac6f495a2a4",
        "colab": {
          "base_uri": "https://localhost:8080/",
          "height": 653
        }
      },
      "execution_count": null,
      "outputs": [
        {
          "output_type": "stream",
          "name": "stdout",
          "text": [
            "['G G' 'A G' 'A A']\n",
            "G G    151\n",
            "A G     68\n",
            "A A     43\n",
            "Name: SNP_10, dtype: int64\n"
          ]
        },
        {
          "output_type": "display_data",
          "data": {
            "text/plain": [
              "<Figure size 432x288 with 1 Axes>"
            ],
            "image/png": "[encoded data removed]"
          },
          "metadata": {
            "needs_background": "light"
          }
        },
        {
          "output_type": "execute_result",
          "data": {
            "text/plain": [
              "<matplotlib.axes._subplots.AxesSubplot at 0x7fd54864aca0>"
            ]
          },
          "metadata": {},
          "execution_count": 48
        },
        {
          "output_type": "display_data",
          "data": {
            "text/plain": [
              "<Figure size 432x288 with 1 Axes>"
            ],
            "image/png": "[encoded data removed]"
          },
          "metadata": {
            "needs_background": "light"
          }
        }
      ]
    },
    {
      "cell_type": "code",
      "source": [
        "sns.countplot(x='trait', data=train,hue = 'class')"
      ],
      "metadata": {
        "id": "M8f0Y1uYBUnH",
        "colab": {
          "base_uri": "https://localhost:8080/",
          "height": 297
        },
        "outputId": "dd5a2583-dca9-4c13-a095-f5a967b3d79d"
      },
      "execution_count": null,
      "outputs": [
        {
          "output_type": "execute_result",
          "data": {
            "text/plain": [
              "<matplotlib.axes._subplots.AxesSubplot at 0x7fd5489e1ca0>"
            ]
          },
          "metadata": {},
          "execution_count": 46
        },
        {
          "output_type": "display_data",
          "data": {
            "text/plain": [
              "<Figure size 432x288 with 1 Axes>"
            ],
            "image/png": "[encoded data removed]"
          },
          "metadata": {
            "needs_background": "light"
          }
        }
      ]
    },
    {
      "cell_type": "code",
      "source": [],
      "metadata": {
        "id": "kdnBzuT_nb1r"
      },
      "execution_count": null,
      "outputs": []
    }
  ]
}