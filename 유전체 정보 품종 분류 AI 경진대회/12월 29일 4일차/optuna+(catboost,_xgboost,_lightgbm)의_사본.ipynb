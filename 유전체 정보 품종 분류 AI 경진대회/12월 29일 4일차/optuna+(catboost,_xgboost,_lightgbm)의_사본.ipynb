{
  "cells": [
    {
      "cell_type": "markdown",
      "id": "0a5d45c3",
      "metadata": {
        "id": "0a5d45c3"
      },
      "source": [
        "## 경진대회 BASELINE을 잡기 위한 optune + [xgboost, lightgbm, catboost]"
      ]
    },
    {
      "cell_type": "markdown",
      "id": "cbc3bb58",
      "metadata": {
        "id": "cbc3bb58"
      },
      "source": [
        "경진대회에서 모델의 Hyperparameter 튜닝에 드는 노력과 시간을 절약하기 위하여 xgboost, lightgbm, catboost 3개의 라이브러리에 대하여 optuna 튜닝을 적용하여 예측 값을 산출해 내는 로직을 라이브러리 형태로 패키징 했습니다.\n",
        "\n",
        "지원하는 예측 종류는\n",
        "- 회귀(regression)\n",
        "- 이진분류(binary classification)\n",
        "- 다중분류(multi-class classification)\n",
        "\n",
        "입니다.\n",
        "\n",
        "앞으로 라이브러리 개선작업을 통해 더 빠르게 최적화할 수 있도록 개선해 나갈 계획입니다."
      ]
    },
    {
      "cell_type": "markdown",
      "id": "556c43a1",
      "metadata": {
        "id": "556c43a1"
      },
      "source": [
        "## 설치"
      ]
    },
    {
      "cell_type": "code",
      "execution_count": null,
      "id": "2fad6547",
      "metadata": {
        "id": "2fad6547",
        "outputId": "2850e39c-f8c6-48ff-c486-3e1d70b24e09",
        "colab": {
          "base_uri": "https://localhost:8080/"
        }
      },
      "outputs": [
        {
          "output_type": "stream",
          "name": "stdout",
          "text": [
            "Looking in indexes: https://pypi.org/simple, https://us-python.pkg.dev/colab-wheels/public/simple/\n",
            "Collecting teddynote\n",
            "  Downloading teddynote-0.2.1-py3-none-any.whl (10 kB)\n",
            "Collecting optuna\n",
            "  Downloading optuna-3.0.5-py3-none-any.whl (348 kB)\n",
            "\u001b[K     |████████████████████████████████| 348 kB 5.0 MB/s \n",
            "\u001b[?25hCollecting catboost\n",
            "  Downloading catboost-1.1.1-cp38-none-manylinux1_x86_64.whl (76.6 MB)\n",
            "\u001b[K     |████████████████████████████████| 76.6 MB 1.2 MB/s \n",
            "\u001b[?25hRequirement already satisfied: lightgbm in /usr/local/lib/python3.8/dist-packages (from teddynote) (2.2.3)\n",
            "Requirement already satisfied: tqdm in /usr/local/lib/python3.8/dist-packages (from teddynote) (4.64.1)\n",
            "Requirement already satisfied: pandas in /usr/local/lib/python3.8/dist-packages (from teddynote) (1.3.5)\n",
            "Requirement already satisfied: xgboost in /usr/local/lib/python3.8/dist-packages (from teddynote) (0.90)\n",
            "Requirement already satisfied: scikit-learn in /usr/local/lib/python3.8/dist-packages (from teddynote) (1.0.2)\n",
            "Requirement already satisfied: plotly in /usr/local/lib/python3.8/dist-packages (from catboost->teddynote) (5.5.0)\n",
            "Requirement already satisfied: scipy in /usr/local/lib/python3.8/dist-packages (from catboost->teddynote) (1.7.3)\n",
            "Requirement already satisfied: six in /usr/local/lib/python3.8/dist-packages (from catboost->teddynote) (1.15.0)\n",
            "Requirement already satisfied: matplotlib in /usr/local/lib/python3.8/dist-packages (from catboost->teddynote) (3.2.2)\n",
            "Requirement already satisfied: graphviz in /usr/local/lib/python3.8/dist-packages (from catboost->teddynote) (0.10.1)\n",
            "Requirement already satisfied: numpy>=1.16.0 in /usr/local/lib/python3.8/dist-packages (from catboost->teddynote) (1.21.6)\n",
            "Requirement already satisfied: pytz>=2017.3 in /usr/local/lib/python3.8/dist-packages (from pandas->teddynote) (2022.6)\n",
            "Requirement already satisfied: python-dateutil>=2.7.3 in /usr/local/lib/python3.8/dist-packages (from pandas->teddynote) (2.8.2)\n",
            "Requirement already satisfied: pyparsing!=2.0.4,!=2.1.2,!=2.1.6,>=2.0.1 in /usr/local/lib/python3.8/dist-packages (from matplotlib->catboost->teddynote) (3.0.9)\n",
            "Requirement already satisfied: kiwisolver>=1.0.1 in /usr/local/lib/python3.8/dist-packages (from matplotlib->catboost->teddynote) (1.4.4)\n",
            "Requirement already satisfied: cycler>=0.10 in /usr/local/lib/python3.8/dist-packages (from matplotlib->catboost->teddynote) (0.11.0)\n",
            "Collecting colorlog\n",
            "  Downloading colorlog-6.7.0-py2.py3-none-any.whl (11 kB)\n",
            "Collecting cmaes>=0.8.2\n",
            "  Downloading cmaes-0.9.0-py3-none-any.whl (23 kB)\n",
            "Collecting alembic>=1.5.0\n",
            "  Downloading alembic-1.9.1-py3-none-any.whl (210 kB)\n",
            "\u001b[K     |████████████████████████████████| 210 kB 61.9 MB/s \n",
            "\u001b[?25hCollecting importlib-metadata<5.0.0\n",
            "  Downloading importlib_metadata-4.13.0-py3-none-any.whl (23 kB)\n",
            "Collecting cliff\n",
            "  Downloading cliff-4.1.0-py3-none-any.whl (81 kB)\n",
            "\u001b[K     |████████████████████████████████| 81 kB 7.4 MB/s \n",
            "\u001b[?25hRequirement already satisfied: sqlalchemy>=1.3.0 in /usr/local/lib/python3.8/dist-packages (from optuna->teddynote) (1.4.45)\n",
            "Requirement already satisfied: packaging>=20.0 in /usr/local/lib/python3.8/dist-packages (from optuna->teddynote) (21.3)\n",
            "Requirement already satisfied: PyYAML in /usr/local/lib/python3.8/dist-packages (from optuna->teddynote) (6.0)\n",
            "Collecting Mako\n",
            "  Downloading Mako-1.2.4-py3-none-any.whl (78 kB)\n",
            "\u001b[K     |████████████████████████████████| 78 kB 6.8 MB/s \n",
            "\u001b[?25hRequirement already satisfied: importlib-resources in /usr/local/lib/python3.8/dist-packages (from alembic>=1.5.0->optuna->teddynote) (5.10.1)\n",
            "Requirement already satisfied: zipp>=0.5 in /usr/local/lib/python3.8/dist-packages (from importlib-metadata<5.0.0->optuna->teddynote) (3.11.0)\n",
            "Requirement already satisfied: greenlet!=0.4.17 in /usr/local/lib/python3.8/dist-packages (from sqlalchemy>=1.3.0->optuna->teddynote) (2.0.1)\n",
            "Collecting autopage>=0.4.0\n",
            "  Downloading autopage-0.5.1-py3-none-any.whl (29 kB)\n",
            "Requirement already satisfied: PrettyTable>=0.7.2 in /usr/local/lib/python3.8/dist-packages (from cliff->optuna->teddynote) (3.5.0)\n",
            "Collecting cmd2>=1.0.0\n",
            "  Downloading cmd2-2.4.2-py3-none-any.whl (147 kB)\n",
            "\u001b[K     |████████████████████████████████| 147 kB 49.9 MB/s \n",
            "\u001b[?25hCollecting stevedore>=2.0.1\n",
            "  Downloading stevedore-4.1.1-py3-none-any.whl (50 kB)\n",
            "\u001b[K     |████████████████████████████████| 50 kB 6.3 MB/s \n",
            "\u001b[?25hRequirement already satisfied: attrs>=16.3.0 in /usr/local/lib/python3.8/dist-packages (from cmd2>=1.0.0->cliff->optuna->teddynote) (22.1.0)\n",
            "Requirement already satisfied: wcwidth>=0.1.7 in /usr/local/lib/python3.8/dist-packages (from cmd2>=1.0.0->cliff->optuna->teddynote) (0.2.5)\n",
            "Collecting pyperclip>=1.6\n",
            "  Downloading pyperclip-1.8.2.tar.gz (20 kB)\n",
            "Collecting pbr!=2.1.0,>=2.0.0\n",
            "  Downloading pbr-5.11.0-py2.py3-none-any.whl (112 kB)\n",
            "\u001b[K     |████████████████████████████████| 112 kB 47.1 MB/s \n",
            "\u001b[?25hRequirement already satisfied: MarkupSafe>=0.9.2 in /usr/local/lib/python3.8/dist-packages (from Mako->alembic>=1.5.0->optuna->teddynote) (2.0.1)\n",
            "Requirement already satisfied: tenacity>=6.2.0 in /usr/local/lib/python3.8/dist-packages (from plotly->catboost->teddynote) (8.1.0)\n",
            "Requirement already satisfied: threadpoolctl>=2.0.0 in /usr/local/lib/python3.8/dist-packages (from scikit-learn->teddynote) (3.1.0)\n",
            "Requirement already satisfied: joblib>=0.11 in /usr/local/lib/python3.8/dist-packages (from scikit-learn->teddynote) (1.2.0)\n",
            "Building wheels for collected packages: pyperclip\n",
            "  Building wheel for pyperclip (setup.py) ... \u001b[?25l\u001b[?25hdone\n",
            "  Created wheel for pyperclip: filename=pyperclip-1.8.2-py3-none-any.whl size=11136 sha256=1879fb34b1795d4b933527e3c7add60d6144cdbdaef2c6180bb1d51db4abfefd\n",
            "  Stored in directory: /root/.cache/pip/wheels/7f/1a/65/84ff8c386bec21fca6d220ea1f5498a0367883a78dd5ba6122\n",
            "Successfully built pyperclip\n",
            "Installing collected packages: pyperclip, pbr, stevedore, Mako, importlib-metadata, cmd2, autopage, colorlog, cmaes, cliff, alembic, optuna, catboost, teddynote\n",
            "  Attempting uninstall: importlib-metadata\n",
            "    Found existing installation: importlib-metadata 5.1.0\n",
            "    Uninstalling importlib-metadata-5.1.0:\n",
            "      Successfully uninstalled importlib-metadata-5.1.0\n",
            "Successfully installed Mako-1.2.4 alembic-1.9.1 autopage-0.5.1 catboost-1.1.1 cliff-4.1.0 cmaes-0.9.0 cmd2-2.4.2 colorlog-6.7.0 importlib-metadata-4.13.0 optuna-3.0.5 pbr-5.11.0 pyperclip-1.8.2 stevedore-4.1.1 teddynote-0.2.1\n"
          ]
        }
      ],
      "source": [
        "!pip install -U teddynote"
      ]
    },
    {
      "cell_type": "code",
      "execution_count": null,
      "id": "9f08a9cf",
      "metadata": {
        "id": "9f08a9cf"
      },
      "outputs": [],
      "source": [
        "# 모듈 import \n",
        "from teddynote import models"
      ]
    },
    {
      "cell_type": "markdown",
      "id": "60558b64",
      "metadata": {
        "id": "60558b64"
      },
      "source": [
        "## 샘플 데이터셋 로드"
      ]
    },
    {
      "cell_type": "code",
      "execution_count": null,
      "id": "da7609a3",
      "metadata": {
        "id": "da7609a3"
      },
      "outputs": [],
      "source": [
        "import pandas as pd\n",
        "import numpy as np\n",
        "import matplotlib.pyplot as plt\n",
        "import seaborn as sns\n",
        "import warnings\n",
        "\n",
        "from sklearn.datasets import load_iris, load_boston, load_breast_cancer\n",
        "from sklearn.model_selection import train_test_split\n",
        "from sklearn.metrics import mean_squared_error\n",
        "\n",
        "import lightgbm as lgb\n",
        "import xgboost as xgb\n",
        "import catboost as cb\n",
        "\n",
        "from lightgbm import LGBMRegressor, LGBMClassifier\n",
        "from xgboost import XGBRegressor, XGBClassifier\n",
        "from catboost import CatBoostRegressor, CatBoostClassifier\n",
        "\n",
        "warnings.filterwarnings('ignore')\n",
        "\n",
        "SEED = 2021"
      ]
    },
    {
      "cell_type": "code",
      "execution_count": null,
      "id": "59a99c0e",
      "metadata": {
        "id": "59a99c0e",
        "outputId": "0dde55cb-901b-4da4-b40c-420e49588dc4",
        "colab": {
          "base_uri": "https://localhost:8080/",
          "height": 334
        }
      },
      "outputs": [
        {
          "output_type": "execute_result",
          "data": {
            "text/plain": [
              "   mean radius  mean texture  mean perimeter  mean area  mean smoothness  \\\n",
              "0        17.99         10.38          122.80     1001.0          0.11840   \n",
              "1        20.57         17.77          132.90     1326.0          0.08474   \n",
              "2        19.69         21.25          130.00     1203.0          0.10960   \n",
              "3        11.42         20.38           77.58      386.1          0.14250   \n",
              "4        20.29         14.34          135.10     1297.0          0.10030   \n",
              "\n",
              "   mean compactness  mean concavity  mean concave points  mean symmetry  \\\n",
              "0           0.27760          0.3001              0.14710         0.2419   \n",
              "1           0.07864          0.0869              0.07017         0.1812   \n",
              "2           0.15990          0.1974              0.12790         0.2069   \n",
              "3           0.28390          0.2414              0.10520         0.2597   \n",
              "4           0.13280          0.1980              0.10430         0.1809   \n",
              "\n",
              "   mean fractal dimension  ...  worst texture  worst perimeter  worst area  \\\n",
              "0                 0.07871  ...          17.33           184.60      2019.0   \n",
              "1                 0.05667  ...          23.41           158.80      1956.0   \n",
              "2                 0.05999  ...          25.53           152.50      1709.0   \n",
              "3                 0.09744  ...          26.50            98.87       567.7   \n",
              "4                 0.05883  ...          16.67           152.20      1575.0   \n",
              "\n",
              "   worst smoothness  worst compactness  worst concavity  worst concave points  \\\n",
              "0            0.1622             0.6656           0.7119                0.2654   \n",
              "1            0.1238             0.1866           0.2416                0.1860   \n",
              "2            0.1444             0.4245           0.4504                0.2430   \n",
              "3            0.2098             0.8663           0.6869                0.2575   \n",
              "4            0.1374             0.2050           0.4000                0.1625   \n",
              "\n",
              "   worst symmetry  worst fractal dimension  target  \n",
              "0          0.4601                  0.11890       0  \n",
              "1          0.2750                  0.08902       0  \n",
              "2          0.3613                  0.08758       0  \n",
              "3          0.6638                  0.17300       0  \n",
              "4          0.2364                  0.07678       0  \n",
              "\n",
              "[5 rows x 31 columns]"
            ],
            "text/html": [
              "\n",
              "  <div id=\"df-f042ee84-d4c1-46d7-b5c0-c756fbb9a194\">\n",
              "    <div class=\"colab-df-container\">\n",
              "      <div>\n",
              "<style scoped>\n",
              "    .dataframe tbody tr th:only-of-type {\n",
              "        vertical-align: middle;\n",
              "    }\n",
              "\n",
              "    .dataframe tbody tr th {\n",
              "        vertical-align: top;\n",
              "    }\n",
              "\n",
              "    .dataframe thead th {\n",
              "        text-align: right;\n",
              "    }\n",
              "</style>\n",
              "<table border=\"1\" class=\"dataframe\">\n",
              "  <thead>\n",
              "    <tr style=\"text-align: right;\">\n",
              "      <th></th>\n",
              "      <th>mean radius</th>\n",
              "      <th>mean texture</th>\n",
              "      <th>mean perimeter</th>\n",
              "      <th>mean area</th>\n",
              "      <th>mean smoothness</th>\n",
              "      <th>mean compactness</th>\n",
              "      <th>mean concavity</th>\n",
              "      <th>mean concave points</th>\n",
              "      <th>mean symmetry</th>\n",
              "      <th>mean fractal dimension</th>\n",
              "      <th>...</th>\n",
              "      <th>worst texture</th>\n",
              "      <th>worst perimeter</th>\n",
              "      <th>worst area</th>\n",
              "      <th>worst smoothness</th>\n",
              "      <th>worst compactness</th>\n",
              "      <th>worst concavity</th>\n",
              "      <th>worst concave points</th>\n",
              "      <th>worst symmetry</th>\n",
              "      <th>worst fractal dimension</th>\n",
              "      <th>target</th>\n",
              "    </tr>\n",
              "  </thead>\n",
              "  <tbody>\n",
              "    <tr>\n",
              "      <th>0</th>\n",
              "      <td>17.99</td>\n",
              "      <td>10.38</td>\n",
              "      <td>122.80</td>\n",
              "      <td>1001.0</td>\n",
              "      <td>0.11840</td>\n",
              "      <td>0.27760</td>\n",
              "      <td>0.3001</td>\n",
              "      <td>0.14710</td>\n",
              "      <td>0.2419</td>\n",
              "      <td>0.07871</td>\n",
              "      <td>...</td>\n",
              "      <td>17.33</td>\n",
              "      <td>184.60</td>\n",
              "      <td>2019.0</td>\n",
              "      <td>0.1622</td>\n",
              "      <td>0.6656</td>\n",
              "      <td>0.7119</td>\n",
              "      <td>0.2654</td>\n",
              "      <td>0.4601</td>\n",
              "      <td>0.11890</td>\n",
              "      <td>0</td>\n",
              "    </tr>\n",
              "    <tr>\n",
              "      <th>1</th>\n",
              "      <td>20.57</td>\n",
              "      <td>17.77</td>\n",
              "      <td>132.90</td>\n",
              "      <td>1326.0</td>\n",
              "      <td>0.08474</td>\n",
              "      <td>0.07864</td>\n",
              "      <td>0.0869</td>\n",
              "      <td>0.07017</td>\n",
              "      <td>0.1812</td>\n",
              "      <td>0.05667</td>\n",
              "      <td>...</td>\n",
              "      <td>23.41</td>\n",
              "      <td>158.80</td>\n",
              "      <td>1956.0</td>\n",
              "      <td>0.1238</td>\n",
              "      <td>0.1866</td>\n",
              "      <td>0.2416</td>\n",
              "      <td>0.1860</td>\n",
              "      <td>0.2750</td>\n",
              "      <td>0.08902</td>\n",
              "      <td>0</td>\n",
              "    </tr>\n",
              "    <tr>\n",
              "      <th>2</th>\n",
              "      <td>19.69</td>\n",
              "      <td>21.25</td>\n",
              "      <td>130.00</td>\n",
              "      <td>1203.0</td>\n",
              "      <td>0.10960</td>\n",
              "      <td>0.15990</td>\n",
              "      <td>0.1974</td>\n",
              "      <td>0.12790</td>\n",
              "      <td>0.2069</td>\n",
              "      <td>0.05999</td>\n",
              "      <td>...</td>\n",
              "      <td>25.53</td>\n",
              "      <td>152.50</td>\n",
              "      <td>1709.0</td>\n",
              "      <td>0.1444</td>\n",
              "      <td>0.4245</td>\n",
              "      <td>0.4504</td>\n",
              "      <td>0.2430</td>\n",
              "      <td>0.3613</td>\n",
              "      <td>0.08758</td>\n",
              "      <td>0</td>\n",
              "    </tr>\n",
              "    <tr>\n",
              "      <th>3</th>\n",
              "      <td>11.42</td>\n",
              "      <td>20.38</td>\n",
              "      <td>77.58</td>\n",
              "      <td>386.1</td>\n",
              "      <td>0.14250</td>\n",
              "      <td>0.28390</td>\n",
              "      <td>0.2414</td>\n",
              "      <td>0.10520</td>\n",
              "      <td>0.2597</td>\n",
              "      <td>0.09744</td>\n",
              "      <td>...</td>\n",
              "      <td>26.50</td>\n",
              "      <td>98.87</td>\n",
              "      <td>567.7</td>\n",
              "      <td>0.2098</td>\n",
              "      <td>0.8663</td>\n",
              "      <td>0.6869</td>\n",
              "      <td>0.2575</td>\n",
              "      <td>0.6638</td>\n",
              "      <td>0.17300</td>\n",
              "      <td>0</td>\n",
              "    </tr>\n",
              "    <tr>\n",
              "      <th>4</th>\n",
              "      <td>20.29</td>\n",
              "      <td>14.34</td>\n",
              "      <td>135.10</td>\n",
              "      <td>1297.0</td>\n",
              "      <td>0.10030</td>\n",
              "      <td>0.13280</td>\n",
              "      <td>0.1980</td>\n",
              "      <td>0.10430</td>\n",
              "      <td>0.1809</td>\n",
              "      <td>0.05883</td>\n",
              "      <td>...</td>\n",
              "      <td>16.67</td>\n",
              "      <td>152.20</td>\n",
              "      <td>1575.0</td>\n",
              "      <td>0.1374</td>\n",
              "      <td>0.2050</td>\n",
              "      <td>0.4000</td>\n",
              "      <td>0.1625</td>\n",
              "      <td>0.2364</td>\n",
              "      <td>0.07678</td>\n",
              "      <td>0</td>\n",
              "    </tr>\n",
              "  </tbody>\n",
              "</table>\n",
              "<p>5 rows × 31 columns</p>\n",
              "</div>\n",
              "      <button class=\"colab-df-convert\" onclick=\"convertToInteractive('df-f042ee84-d4c1-46d7-b5c0-c756fbb9a194')\"\n",
              "              title=\"Convert this dataframe to an interactive table.\"\n",
              "              style=\"display:none;\">\n",
              "        \n",
              "  <svg xmlns=\"http://www.w3.org/2000/svg\" height=\"24px\"viewBox=\"0 0 24 24\"\n",
              "       width=\"24px\">\n",
              "    <path d=\"M0 0h24v24H0V0z\" fill=\"none\"/>\n",
              "    <path d=\"M18.56 5.44l.94 2.06.94-2.06 2.06-.94-2.06-.94-.94-2.06-.94 2.06-2.06.94zm-11 1L8.5 8.5l.94-2.06 2.06-.94-2.06-.94L8.5 2.5l-.94 2.06-2.06.94zm10 10l.94 2.06.94-2.06 2.06-.94-2.06-.94-.94-2.06-.94 2.06-2.06.94z\"/><path d=\"M17.41 7.96l-1.37-1.37c-.4-.4-.92-.59-1.43-.59-.52 0-1.04.2-1.43.59L10.3 9.45l-7.72 7.72c-.78.78-.78 2.05 0 2.83L4 21.41c.39.39.9.59 1.41.59.51 0 1.02-.2 1.41-.59l7.78-7.78 2.81-2.81c.8-.78.8-2.07 0-2.86zM5.41 20L4 18.59l7.72-7.72 1.47 1.35L5.41 20z\"/>\n",
              "  </svg>\n",
              "      </button>\n",
              "      \n",
              "  <style>\n",
              "    .colab-df-container {\n",
              "      display:flex;\n",
              "      flex-wrap:wrap;\n",
              "      gap: 12px;\n",
              "    }\n",
              "\n",
              "    .colab-df-convert {\n",
              "      background-color: #E8F0FE;\n",
              "      border: none;\n",
              "      border-radius: 50%;\n",
              "      cursor: pointer;\n",
              "      display: none;\n",
              "      fill: #1967D2;\n",
              "      height: 32px;\n",
              "      padding: 0 0 0 0;\n",
              "      width: 32px;\n",
              "    }\n",
              "\n",
              "    .colab-df-convert:hover {\n",
              "      background-color: #E2EBFA;\n",
              "      box-shadow: 0px 1px 2px rgba(60, 64, 67, 0.3), 0px 1px 3px 1px rgba(60, 64, 67, 0.15);\n",
              "      fill: #174EA6;\n",
              "    }\n",
              "\n",
              "    [theme=dark] .colab-df-convert {\n",
              "      background-color: #3B4455;\n",
              "      fill: #D2E3FC;\n",
              "    }\n",
              "\n",
              "    [theme=dark] .colab-df-convert:hover {\n",
              "      background-color: #434B5C;\n",
              "      box-shadow: 0px 1px 3px 1px rgba(0, 0, 0, 0.15);\n",
              "      filter: drop-shadow(0px 1px 2px rgba(0, 0, 0, 0.3));\n",
              "      fill: #FFFFFF;\n",
              "    }\n",
              "  </style>\n",
              "\n",
              "      <script>\n",
              "        const buttonEl =\n",
              "          document.querySelector('#df-f042ee84-d4c1-46d7-b5c0-c756fbb9a194 button.colab-df-convert');\n",
              "        buttonEl.style.display =\n",
              "          google.colab.kernel.accessAllowed ? 'block' : 'none';\n",
              "\n",
              "        async function convertToInteractive(key) {\n",
              "          const element = document.querySelector('#df-f042ee84-d4c1-46d7-b5c0-c756fbb9a194');\n",
              "          const dataTable =\n",
              "            await google.colab.kernel.invokeFunction('convertToInteractive',\n",
              "                                                     [key], {});\n",
              "          if (!dataTable) return;\n",
              "\n",
              "          const docLinkHtml = 'Like what you see? Visit the ' +\n",
              "            '<a target=\"_blank\" href=https://colab.research.google.com/notebooks/data_table.ipynb>data table notebook</a>'\n",
              "            + ' to learn more about interactive tables.';\n",
              "          element.innerHTML = '';\n",
              "          dataTable['output_type'] = 'display_data';\n",
              "          await google.colab.output.renderOutput(dataTable, element);\n",
              "          const docLink = document.createElement('div');\n",
              "          docLink.innerHTML = docLinkHtml;\n",
              "          element.appendChild(docLink);\n",
              "        }\n",
              "      </script>\n",
              "    </div>\n",
              "  </div>\n",
              "  "
            ]
          },
          "metadata": {},
          "execution_count": 4
        }
      ],
      "source": [
        "# Binary Class Datasets\n",
        "cancer = load_breast_cancer()\n",
        "cancer_df = pd.DataFrame(cancer['data'], columns=cancer['feature_names'])\n",
        "cancer_df['target'] = cancer['target']\n",
        "cancer_df.head()"
      ]
    },
    {
      "cell_type": "code",
      "execution_count": null,
      "id": "9972ff36",
      "metadata": {
        "id": "9972ff36",
        "outputId": "62dce538-b6ad-4c88-fdfe-9331e157f38f",
        "colab": {
          "base_uri": "https://localhost:8080/",
          "height": 268
        }
      },
      "outputs": [
        {
          "output_type": "execute_result",
          "data": {
            "text/plain": [
              "   sepal length (cm)  sepal width (cm)  petal length (cm)  petal width (cm)  \\\n",
              "0                5.1               3.5                1.4               0.2   \n",
              "1                4.9               3.0                1.4               0.2   \n",
              "2                4.7               3.2                1.3               0.2   \n",
              "3                4.6               3.1                1.5               0.2   \n",
              "4                5.0               3.6                1.4               0.2   \n",
              "\n",
              "   target  \n",
              "0       0  \n",
              "1       0  \n",
              "2       0  \n",
              "3       0  \n",
              "4       0  "
            ],
            "text/html": [
              "\n",
              "  <div id=\"df-76d6fde0-8f29-4673-a771-7cc281a71f02\">\n",
              "    <div class=\"colab-df-container\">\n",
              "      <div>\n",
              "<style scoped>\n",
              "    .dataframe tbody tr th:only-of-type {\n",
              "        vertical-align: middle;\n",
              "    }\n",
              "\n",
              "    .dataframe tbody tr th {\n",
              "        vertical-align: top;\n",
              "    }\n",
              "\n",
              "    .dataframe thead th {\n",
              "        text-align: right;\n",
              "    }\n",
              "</style>\n",
              "<table border=\"1\" class=\"dataframe\">\n",
              "  <thead>\n",
              "    <tr style=\"text-align: right;\">\n",
              "      <th></th>\n",
              "      <th>sepal length (cm)</th>\n",
              "      <th>sepal width (cm)</th>\n",
              "      <th>petal length (cm)</th>\n",
              "      <th>petal width (cm)</th>\n",
              "      <th>target</th>\n",
              "    </tr>\n",
              "  </thead>\n",
              "  <tbody>\n",
              "    <tr>\n",
              "      <th>0</th>\n",
              "      <td>5.1</td>\n",
              "      <td>3.5</td>\n",
              "      <td>1.4</td>\n",
              "      <td>0.2</td>\n",
              "      <td>0</td>\n",
              "    </tr>\n",
              "    <tr>\n",
              "      <th>1</th>\n",
              "      <td>4.9</td>\n",
              "      <td>3.0</td>\n",
              "      <td>1.4</td>\n",
              "      <td>0.2</td>\n",
              "      <td>0</td>\n",
              "    </tr>\n",
              "    <tr>\n",
              "      <th>2</th>\n",
              "      <td>4.7</td>\n",
              "      <td>3.2</td>\n",
              "      <td>1.3</td>\n",
              "      <td>0.2</td>\n",
              "      <td>0</td>\n",
              "    </tr>\n",
              "    <tr>\n",
              "      <th>3</th>\n",
              "      <td>4.6</td>\n",
              "      <td>3.1</td>\n",
              "      <td>1.5</td>\n",
              "      <td>0.2</td>\n",
              "      <td>0</td>\n",
              "    </tr>\n",
              "    <tr>\n",
              "      <th>4</th>\n",
              "      <td>5.0</td>\n",
              "      <td>3.6</td>\n",
              "      <td>1.4</td>\n",
              "      <td>0.2</td>\n",
              "      <td>0</td>\n",
              "    </tr>\n",
              "  </tbody>\n",
              "</table>\n",
              "</div>\n",
              "      <button class=\"colab-df-convert\" onclick=\"convertToInteractive('df-76d6fde0-8f29-4673-a771-7cc281a71f02')\"\n",
              "              title=\"Convert this dataframe to an interactive table.\"\n",
              "              style=\"display:none;\">\n",
              "        \n",
              "  <svg xmlns=\"http://www.w3.org/2000/svg\" height=\"24px\"viewBox=\"0 0 24 24\"\n",
              "       width=\"24px\">\n",
              "    <path d=\"M0 0h24v24H0V0z\" fill=\"none\"/>\n",
              "    <path d=\"M18.56 5.44l.94 2.06.94-2.06 2.06-.94-2.06-.94-.94-2.06-.94 2.06-2.06.94zm-11 1L8.5 8.5l.94-2.06 2.06-.94-2.06-.94L8.5 2.5l-.94 2.06-2.06.94zm10 10l.94 2.06.94-2.06 2.06-.94-2.06-.94-.94-2.06-.94 2.06-2.06.94z\"/><path d=\"M17.41 7.96l-1.37-1.37c-.4-.4-.92-.59-1.43-.59-.52 0-1.04.2-1.43.59L10.3 9.45l-7.72 7.72c-.78.78-.78 2.05 0 2.83L4 21.41c.39.39.9.59 1.41.59.51 0 1.02-.2 1.41-.59l7.78-7.78 2.81-2.81c.8-.78.8-2.07 0-2.86zM5.41 20L4 18.59l7.72-7.72 1.47 1.35L5.41 20z\"/>\n",
              "  </svg>\n",
              "      </button>\n",
              "      \n",
              "  <style>\n",
              "    .colab-df-container {\n",
              "      display:flex;\n",
              "      flex-wrap:wrap;\n",
              "      gap: 12px;\n",
              "    }\n",
              "\n",
              "    .colab-df-convert {\n",
              "      background-color: #E8F0FE;\n",
              "      border: none;\n",
              "      border-radius: 50%;\n",
              "      cursor: pointer;\n",
              "      display: none;\n",
              "      fill: #1967D2;\n",
              "      height: 32px;\n",
              "      padding: 0 0 0 0;\n",
              "      width: 32px;\n",
              "    }\n",
              "\n",
              "    .colab-df-convert:hover {\n",
              "      background-color: #E2EBFA;\n",
              "      box-shadow: 0px 1px 2px rgba(60, 64, 67, 0.3), 0px 1px 3px 1px rgba(60, 64, 67, 0.15);\n",
              "      fill: #174EA6;\n",
              "    }\n",
              "\n",
              "    [theme=dark] .colab-df-convert {\n",
              "      background-color: #3B4455;\n",
              "      fill: #D2E3FC;\n",
              "    }\n",
              "\n",
              "    [theme=dark] .colab-df-convert:hover {\n",
              "      background-color: #434B5C;\n",
              "      box-shadow: 0px 1px 3px 1px rgba(0, 0, 0, 0.15);\n",
              "      filter: drop-shadow(0px 1px 2px rgba(0, 0, 0, 0.3));\n",
              "      fill: #FFFFFF;\n",
              "    }\n",
              "  </style>\n",
              "\n",
              "      <script>\n",
              "        const buttonEl =\n",
              "          document.querySelector('#df-76d6fde0-8f29-4673-a771-7cc281a71f02 button.colab-df-convert');\n",
              "        buttonEl.style.display =\n",
              "          google.colab.kernel.accessAllowed ? 'block' : 'none';\n",
              "\n",
              "        async function convertToInteractive(key) {\n",
              "          const element = document.querySelector('#df-76d6fde0-8f29-4673-a771-7cc281a71f02');\n",
              "          const dataTable =\n",
              "            await google.colab.kernel.invokeFunction('convertToInteractive',\n",
              "                                                     [key], {});\n",
              "          if (!dataTable) return;\n",
              "\n",
              "          const docLinkHtml = 'Like what you see? Visit the ' +\n",
              "            '<a target=\"_blank\" href=https://colab.research.google.com/notebooks/data_table.ipynb>data table notebook</a>'\n",
              "            + ' to learn more about interactive tables.';\n",
              "          element.innerHTML = '';\n",
              "          dataTable['output_type'] = 'display_data';\n",
              "          await google.colab.output.renderOutput(dataTable, element);\n",
              "          const docLink = document.createElement('div');\n",
              "          docLink.innerHTML = docLinkHtml;\n",
              "          element.appendChild(docLink);\n",
              "        }\n",
              "      </script>\n",
              "    </div>\n",
              "  </div>\n",
              "  "
            ]
          },
          "metadata": {},
          "execution_count": 6
        }
      ],
      "source": [
        "# Multi Class Datasets\n",
        "iris = load_iris()\n",
        "iris_df = pd.DataFrame(iris['data'], columns=iris['feature_names'])\n",
        "iris_df['target'] = iris['target']\n",
        "iris_df.head()"
      ]
    },
    {
      "cell_type": "code",
      "execution_count": null,
      "id": "657a0887",
      "metadata": {
        "id": "657a0887",
        "outputId": "36a87068-7478-41a3-d7a1-1384d33a6207",
        "colab": {
          "base_uri": "https://localhost:8080/",
          "height": 270
        }
      },
      "outputs": [
        {
          "output_type": "execute_result",
          "data": {
            "text/plain": [
              "      CRIM    ZN  INDUS  CHAS    NOX     RM   AGE     DIS  RAD    TAX  \\\n",
              "0  0.00632  18.0   2.31   0.0  0.538  6.575  65.2  4.0900  1.0  296.0   \n",
              "1  0.02731   0.0   7.07   0.0  0.469  6.421  78.9  4.9671  2.0  242.0   \n",
              "2  0.02729   0.0   7.07   0.0  0.469  7.185  61.1  4.9671  2.0  242.0   \n",
              "3  0.03237   0.0   2.18   0.0  0.458  6.998  45.8  6.0622  3.0  222.0   \n",
              "4  0.06905   0.0   2.18   0.0  0.458  7.147  54.2  6.0622  3.0  222.0   \n",
              "\n",
              "   PTRATIO       B  LSTAT  target  \n",
              "0     15.3  396.90   4.98    24.0  \n",
              "1     17.8  396.90   9.14    21.6  \n",
              "2     17.8  392.83   4.03    34.7  \n",
              "3     18.7  394.63   2.94    33.4  \n",
              "4     18.7  396.90   5.33    36.2  "
            ],
            "text/html": [
              "\n",
              "  <div id=\"df-1390fc15-4cd3-41a5-b5c1-6e2f2463f307\">\n",
              "    <div class=\"colab-df-container\">\n",
              "      <div>\n",
              "<style scoped>\n",
              "    .dataframe tbody tr th:only-of-type {\n",
              "        vertical-align: middle;\n",
              "    }\n",
              "\n",
              "    .dataframe tbody tr th {\n",
              "        vertical-align: top;\n",
              "    }\n",
              "\n",
              "    .dataframe thead th {\n",
              "        text-align: right;\n",
              "    }\n",
              "</style>\n",
              "<table border=\"1\" class=\"dataframe\">\n",
              "  <thead>\n",
              "    <tr style=\"text-align: right;\">\n",
              "      <th></th>\n",
              "      <th>CRIM</th>\n",
              "      <th>ZN</th>\n",
              "      <th>INDUS</th>\n",
              "      <th>CHAS</th>\n",
              "      <th>NOX</th>\n",
              "      <th>RM</th>\n",
              "      <th>AGE</th>\n",
              "      <th>DIS</th>\n",
              "      <th>RAD</th>\n",
              "      <th>TAX</th>\n",
              "      <th>PTRATIO</th>\n",
              "      <th>B</th>\n",
              "      <th>LSTAT</th>\n",
              "      <th>target</th>\n",
              "    </tr>\n",
              "  </thead>\n",
              "  <tbody>\n",
              "    <tr>\n",
              "      <th>0</th>\n",
              "      <td>0.00632</td>\n",
              "      <td>18.0</td>\n",
              "      <td>2.31</td>\n",
              "      <td>0.0</td>\n",
              "      <td>0.538</td>\n",
              "      <td>6.575</td>\n",
              "      <td>65.2</td>\n",
              "      <td>4.0900</td>\n",
              "      <td>1.0</td>\n",
              "      <td>296.0</td>\n",
              "      <td>15.3</td>\n",
              "      <td>396.90</td>\n",
              "      <td>4.98</td>\n",
              "      <td>24.0</td>\n",
              "    </tr>\n",
              "    <tr>\n",
              "      <th>1</th>\n",
              "      <td>0.02731</td>\n",
              "      <td>0.0</td>\n",
              "      <td>7.07</td>\n",
              "      <td>0.0</td>\n",
              "      <td>0.469</td>\n",
              "      <td>6.421</td>\n",
              "      <td>78.9</td>\n",
              "      <td>4.9671</td>\n",
              "      <td>2.0</td>\n",
              "      <td>242.0</td>\n",
              "      <td>17.8</td>\n",
              "      <td>396.90</td>\n",
              "      <td>9.14</td>\n",
              "      <td>21.6</td>\n",
              "    </tr>\n",
              "    <tr>\n",
              "      <th>2</th>\n",
              "      <td>0.02729</td>\n",
              "      <td>0.0</td>\n",
              "      <td>7.07</td>\n",
              "      <td>0.0</td>\n",
              "      <td>0.469</td>\n",
              "      <td>7.185</td>\n",
              "      <td>61.1</td>\n",
              "      <td>4.9671</td>\n",
              "      <td>2.0</td>\n",
              "      <td>242.0</td>\n",
              "      <td>17.8</td>\n",
              "      <td>392.83</td>\n",
              "      <td>4.03</td>\n",
              "      <td>34.7</td>\n",
              "    </tr>\n",
              "    <tr>\n",
              "      <th>3</th>\n",
              "      <td>0.03237</td>\n",
              "      <td>0.0</td>\n",
              "      <td>2.18</td>\n",
              "      <td>0.0</td>\n",
              "      <td>0.458</td>\n",
              "      <td>6.998</td>\n",
              "      <td>45.8</td>\n",
              "      <td>6.0622</td>\n",
              "      <td>3.0</td>\n",
              "      <td>222.0</td>\n",
              "      <td>18.7</td>\n",
              "      <td>394.63</td>\n",
              "      <td>2.94</td>\n",
              "      <td>33.4</td>\n",
              "    </tr>\n",
              "    <tr>\n",
              "      <th>4</th>\n",
              "      <td>0.06905</td>\n",
              "      <td>0.0</td>\n",
              "      <td>2.18</td>\n",
              "      <td>0.0</td>\n",
              "      <td>0.458</td>\n",
              "      <td>7.147</td>\n",
              "      <td>54.2</td>\n",
              "      <td>6.0622</td>\n",
              "      <td>3.0</td>\n",
              "      <td>222.0</td>\n",
              "      <td>18.7</td>\n",
              "      <td>396.90</td>\n",
              "      <td>5.33</td>\n",
              "      <td>36.2</td>\n",
              "    </tr>\n",
              "  </tbody>\n",
              "</table>\n",
              "</div>\n",
              "      <button class=\"colab-df-convert\" onclick=\"convertToInteractive('df-1390fc15-4cd3-41a5-b5c1-6e2f2463f307')\"\n",
              "              title=\"Convert this dataframe to an interactive table.\"\n",
              "              style=\"display:none;\">\n",
              "        \n",
              "  <svg xmlns=\"http://www.w3.org/2000/svg\" height=\"24px\"viewBox=\"0 0 24 24\"\n",
              "       width=\"24px\">\n",
              "    <path d=\"M0 0h24v24H0V0z\" fill=\"none\"/>\n",
              "    <path d=\"M18.56 5.44l.94 2.06.94-2.06 2.06-.94-2.06-.94-.94-2.06-.94 2.06-2.06.94zm-11 1L8.5 8.5l.94-2.06 2.06-.94-2.06-.94L8.5 2.5l-.94 2.06-2.06.94zm10 10l.94 2.06.94-2.06 2.06-.94-2.06-.94-.94-2.06-.94 2.06-2.06.94z\"/><path d=\"M17.41 7.96l-1.37-1.37c-.4-.4-.92-.59-1.43-.59-.52 0-1.04.2-1.43.59L10.3 9.45l-7.72 7.72c-.78.78-.78 2.05 0 2.83L4 21.41c.39.39.9.59 1.41.59.51 0 1.02-.2 1.41-.59l7.78-7.78 2.81-2.81c.8-.78.8-2.07 0-2.86zM5.41 20L4 18.59l7.72-7.72 1.47 1.35L5.41 20z\"/>\n",
              "  </svg>\n",
              "      </button>\n",
              "      \n",
              "  <style>\n",
              "    .colab-df-container {\n",
              "      display:flex;\n",
              "      flex-wrap:wrap;\n",
              "      gap: 12px;\n",
              "    }\n",
              "\n",
              "    .colab-df-convert {\n",
              "      background-color: #E8F0FE;\n",
              "      border: none;\n",
              "      border-radius: 50%;\n",
              "      cursor: pointer;\n",
              "      display: none;\n",
              "      fill: #1967D2;\n",
              "      height: 32px;\n",
              "      padding: 0 0 0 0;\n",
              "      width: 32px;\n",
              "    }\n",
              "\n",
              "    .colab-df-convert:hover {\n",
              "      background-color: #E2EBFA;\n",
              "      box-shadow: 0px 1px 2px rgba(60, 64, 67, 0.3), 0px 1px 3px 1px rgba(60, 64, 67, 0.15);\n",
              "      fill: #174EA6;\n",
              "    }\n",
              "\n",
              "    [theme=dark] .colab-df-convert {\n",
              "      background-color: #3B4455;\n",
              "      fill: #D2E3FC;\n",
              "    }\n",
              "\n",
              "    [theme=dark] .colab-df-convert:hover {\n",
              "      background-color: #434B5C;\n",
              "      box-shadow: 0px 1px 3px 1px rgba(0, 0, 0, 0.15);\n",
              "      filter: drop-shadow(0px 1px 2px rgba(0, 0, 0, 0.3));\n",
              "      fill: #FFFFFF;\n",
              "    }\n",
              "  </style>\n",
              "\n",
              "      <script>\n",
              "        const buttonEl =\n",
              "          document.querySelector('#df-1390fc15-4cd3-41a5-b5c1-6e2f2463f307 button.colab-df-convert');\n",
              "        buttonEl.style.display =\n",
              "          google.colab.kernel.accessAllowed ? 'block' : 'none';\n",
              "\n",
              "        async function convertToInteractive(key) {\n",
              "          const element = document.querySelector('#df-1390fc15-4cd3-41a5-b5c1-6e2f2463f307');\n",
              "          const dataTable =\n",
              "            await google.colab.kernel.invokeFunction('convertToInteractive',\n",
              "                                                     [key], {});\n",
              "          if (!dataTable) return;\n",
              "\n",
              "          const docLinkHtml = 'Like what you see? Visit the ' +\n",
              "            '<a target=\"_blank\" href=https://colab.research.google.com/notebooks/data_table.ipynb>data table notebook</a>'\n",
              "            + ' to learn more about interactive tables.';\n",
              "          element.innerHTML = '';\n",
              "          dataTable['output_type'] = 'display_data';\n",
              "          await google.colab.output.renderOutput(dataTable, element);\n",
              "          const docLink = document.createElement('div');\n",
              "          docLink.innerHTML = docLinkHtml;\n",
              "          element.appendChild(docLink);\n",
              "        }\n",
              "      </script>\n",
              "    </div>\n",
              "  </div>\n",
              "  "
            ]
          },
          "metadata": {},
          "execution_count": 7
        }
      ],
      "source": [
        "# Regression Datasets\n",
        "boston = load_boston()\n",
        "boston_df = pd.DataFrame(boston['data'], columns=boston['feature_names'])\n",
        "boston_df['target'] = boston['target']\n",
        "boston_df.head()"
      ]
    },
    {
      "cell_type": "markdown",
      "id": "ed8ab797",
      "metadata": {
        "id": "ed8ab797"
      },
      "source": [
        "## 간단 사용법"
      ]
    },
    {
      "cell_type": "markdown",
      "id": "5a26b004",
      "metadata": {
        "id": "5a26b004"
      },
      "source": [
        "### optimize()\n",
        "\n",
        "```\n",
        "optimize(\n",
        "    x,\n",
        "    y,\n",
        "    test_data=None,\n",
        "    cat_features=None,\n",
        "    eval_metric='f1',\n",
        "    cv=5,\n",
        "    seed=None,\n",
        "    n_rounds=3000,\n",
        "    n_trials=100,\n",
        ")\n",
        "```"
      ]
    },
    {
      "cell_type": "markdown",
      "id": "8b91b1bd",
      "metadata": {
        "id": "8b91b1bd"
      },
      "source": [
        "**입력 매개변수**\n",
        "\n",
        "- `x`: Feature 데이터\n",
        "- `y`: Target 데이터\n",
        "- `test_data`: 예측 데이터 (test 데이터의 feature 데이터)\n",
        "- `cat_features`: 카테고리형 컬럼\n",
        "- `eval_metric`: 최적화할 메트릭 ('f1', 'accuracy', 'recall', 'precision', 'mse', 'rmse', 'rmsle')\n",
        "- `cv`: cross validation fold 개수\n",
        "- `seed`: 시드\n",
        "- `n_rounds`: 학습시 최대 iteration 횟수\n",
        "- `n_trials`: optuna 하이퍼파라미터 튜닝 시도 횟수\n",
        "\n",
        "**return**\n",
        "- `params`: best 하이퍼파라미터\n",
        "- `preds`: `test_data` 매개변수에 데이터를 지정한 경우 이에 대한 예측 값"
      ]
    },
    {
      "cell_type": "markdown",
      "id": "3e6fb5cc",
      "metadata": {
        "id": "3e6fb5cc"
      },
      "source": [
        "### 결과값 자동저장 기능"
      ]
    },
    {
      "cell_type": "markdown",
      "id": "09b25df7",
      "metadata": {
        "id": "09b25df7"
      },
      "source": [
        "optimizer() 로 튜닝 + 예측한 결과는 `numpy array` 형식으로 자동 저장합니다.\n",
        "\n",
        "- 저장 경로: `models` 폴더"
      ]
    },
    {
      "cell_type": "markdown",
      "id": "7eae92e9",
      "metadata": {
        "id": "7eae92e9"
      },
      "source": [
        "## CatBoost + Optuna"
      ]
    },
    {
      "cell_type": "markdown",
      "id": "a83e6606",
      "metadata": {
        "id": "a83e6606"
      },
      "source": [
        "### 이진분류(binary classification)"
      ]
    },
    {
      "cell_type": "code",
      "execution_count": null,
      "id": "8cd0e3dc",
      "metadata": {
        "scrolled": true,
        "id": "8cd0e3dc",
        "outputId": "16aaf057-6ae0-43c1-f931-fe0bf1cf366d",
        "colab": {
          "base_uri": "https://localhost:8080/"
        }
      },
      "outputs": [
        {
          "output_type": "stream",
          "name": "stderr",
          "text": [
            "\u001b[32m[I 2022-12-29 09:03:57,465]\u001b[0m A new study created in memory with name: no-name-28ffcb0e-3683-45ee-bc03-2a34daf1a7b6\u001b[0m\n"
          ]
        },
        {
          "output_type": "stream",
          "name": "stdout",
          "text": [
            "metric type: recall, score: 1.00000\n",
            "metric type: recall, score: 0.90000\n",
            "metric type: recall, score: 0.96667\n",
            "metric type: recall, score: 0.96667\n"
          ]
        },
        {
          "output_type": "stream",
          "name": "stderr",
          "text": [
            "\u001b[32m[I 2022-12-29 09:03:58,418]\u001b[0m Trial 0 finished with value: 0.96 and parameters: {'bootstrap_type': 'MVS', 'boosting_type': 'Ordered', 'od_type': 'IncToDec', 'colsample_bylevel': 0.06671297835170709, 'l2_leaf_reg': 7.658494804634539e-07, 'learning_rate': 0.14785483236532374, 'iterations': 1957, 'min_child_samples': 29, 'depth': 11}. Best is trial 0 with value: 0.96.\u001b[0m\n"
          ]
        },
        {
          "output_type": "stream",
          "name": "stdout",
          "text": [
            "metric type: recall, score: 0.96667\n",
            "metric type: recall, score: 0.56667\n",
            "metric type: recall, score: 0.80000\n",
            "metric type: recall, score: 0.50000\n"
          ]
        },
        {
          "output_type": "stream",
          "name": "stderr",
          "text": [
            "\u001b[32m[I 2022-12-29 09:03:58,679]\u001b[0m Trial 1 finished with value: 0.58 and parameters: {'bootstrap_type': 'MVS', 'boosting_type': 'Plain', 'od_type': 'IncToDec', 'colsample_bylevel': 0.015558701922017922, 'l2_leaf_reg': 2.001369927344747e-08, 'learning_rate': 0.02431371358278197, 'iterations': 751, 'min_child_samples': 21, 'depth': 7}. Best is trial 0 with value: 0.96.\u001b[0m\n"
          ]
        },
        {
          "output_type": "stream",
          "name": "stdout",
          "text": [
            "metric type: recall, score: 0.86667\n",
            "metric type: recall, score: 0.16667\n",
            "metric type: recall, score: 1.00000\n",
            "metric type: recall, score: 0.93333\n",
            "metric type: recall, score: 0.96667\n"
          ]
        },
        {
          "output_type": "stream",
          "name": "stderr",
          "text": [
            "\u001b[32m[I 2022-12-29 09:03:59,268]\u001b[0m Trial 2 finished with value: 0.9533333333333334 and parameters: {'bootstrap_type': 'MVS', 'boosting_type': 'Ordered', 'od_type': 'IncToDec', 'colsample_bylevel': 0.027519767569376283, 'l2_leaf_reg': 6.08111486794213e-08, 'learning_rate': 0.29707857950800076, 'iterations': 1243, 'min_child_samples': 14, 'depth': 3}. Best is trial 0 with value: 0.96.\u001b[0m\n"
          ]
        },
        {
          "output_type": "stream",
          "name": "stdout",
          "text": [
            "metric type: recall, score: 0.93333\n",
            "metric type: recall, score: 0.93333\n",
            "saving model...models/CatBoostClassifier-0.96000.npy\n"
          ]
        },
        {
          "output_type": "execute_result",
          "data": {
            "text/plain": [
              "0.9733333333333334"
            ]
          },
          "metadata": {},
          "execution_count": 8
        }
      ],
      "source": [
        "catboostoptuna = models.CatBoostClassifierOptuna(use_gpu=False)\n",
        "\n",
        "params, preds = catboostoptuna.optimize(iris_df.drop('target', 1), \n",
        "                                        iris_df['target'], \n",
        "                                        test_data=iris_df.drop('target', 1),\n",
        "                                        seed=321,\n",
        "                                        eval_metric='recall', n_trials=3)\n",
        "\n",
        "(np.squeeze(preds) == iris_df['target']).mean()"
      ]
    },
    {
      "cell_type": "markdown",
      "id": "90e1ac45",
      "metadata": {
        "id": "90e1ac45"
      },
      "source": [
        "### 다중분류(multi-class classification)"
      ]
    },
    {
      "cell_type": "code",
      "execution_count": null,
      "id": "21a91f19",
      "metadata": {
        "id": "21a91f19",
        "outputId": "c926e1ef-0604-4d9c-962a-de96549297a8",
        "colab": {
          "base_uri": "https://localhost:8080/"
        }
      },
      "outputs": [
        {
          "output_type": "stream",
          "name": "stderr",
          "text": [
            "\u001b[32m[I 2022-12-29 09:06:28,540]\u001b[0m A new study created in memory with name: no-name-cfbf7b45-c7d6-4352-9719-4b6e506c68f4\u001b[0m\n"
          ]
        },
        {
          "output_type": "stream",
          "name": "stdout",
          "text": [
            "metric type: recall, score: 0.92308\n",
            "metric type: recall, score: 0.97015\n",
            "metric type: recall, score: 0.98592\n",
            "metric type: recall, score: 0.98718\n"
          ]
        },
        {
          "output_type": "stream",
          "name": "stderr",
          "text": [
            "\u001b[32m[I 2022-12-29 09:06:30,479]\u001b[0m Trial 0 finished with value: 0.9680010734943633 and parameters: {'bootstrap_type': 'MVS', 'boosting_type': 'Ordered', 'od_type': 'IncToDec', 'colsample_bylevel': 0.023857798068534813, 'l2_leaf_reg': 1.4290831783864455e-07, 'learning_rate': 0.3389404251938573, 'iterations': 1370, 'min_child_samples': 12, 'depth': 7}. Best is trial 0 with value: 0.9680010734943633.\u001b[0m\n"
          ]
        },
        {
          "output_type": "stream",
          "name": "stdout",
          "text": [
            "metric type: recall, score: 0.97368\n",
            "metric type: recall, score: 1.00000\n",
            "metric type: recall, score: 1.00000\n",
            "metric type: recall, score: 0.98592\n",
            "metric type: recall, score: 1.00000\n"
          ]
        },
        {
          "output_type": "stream",
          "name": "stderr",
          "text": [
            "\u001b[32m[I 2022-12-29 09:06:44,969]\u001b[0m Trial 1 finished with value: 0.9945515196441809 and parameters: {'bootstrap_type': 'Bayesian', 'boosting_type': 'Ordered', 'od_type': 'IncToDec', 'colsample_bylevel': 0.09789744541150466, 'l2_leaf_reg': 4.9967720608342804e-05, 'learning_rate': 0.028600910563671197, 'iterations': 1944, 'min_child_samples': 17, 'depth': 6, 'bagging_temperature': 9.155827151667337}. Best is trial 1 with value: 0.9945515196441809.\u001b[0m\n"
          ]
        },
        {
          "output_type": "stream",
          "name": "stdout",
          "text": [
            "metric type: recall, score: 0.98684\n",
            "metric type: recall, score: 0.96923\n",
            "metric type: recall, score: 0.98507\n",
            "metric type: recall, score: 0.98592\n"
          ]
        },
        {
          "output_type": "stream",
          "name": "stderr",
          "text": [
            "\u001b[32m[I 2022-12-29 09:06:45,635]\u001b[0m Trial 2 finished with value: 0.9802843937352639 and parameters: {'bootstrap_type': 'Bayesian', 'boosting_type': 'Plain', 'od_type': 'Iter', 'colsample_bylevel': 0.07729743157935254, 'l2_leaf_reg': 6.516661372618588e-07, 'learning_rate': 0.0116185794104273, 'iterations': 103, 'min_child_samples': 1, 'depth': 3, 'bagging_temperature': 29.442691081225654}. Best is trial 1 with value: 0.9945515196441809.\u001b[0m\n"
          ]
        },
        {
          "output_type": "stream",
          "name": "stdout",
          "text": [
            "metric type: recall, score: 0.97436\n",
            "metric type: recall, score: 0.98684\n",
            "saving model...models/CatBoostClassifier-0.99455.npy\n"
          ]
        },
        {
          "output_type": "execute_result",
          "data": {
            "text/plain": [
              "0.9929701230228472"
            ]
          },
          "metadata": {},
          "execution_count": 9
        }
      ],
      "source": [
        "catboostoptuna = models.CatBoostClassifierOptuna()\n",
        "\n",
        "params, preds = catboostoptuna.optimize(cancer_df.drop('target', 1), \n",
        "                                        cancer_df['target'], \n",
        "                                        test_data=cancer_df.drop('target', 1),\n",
        "                                        seed=321,\n",
        "                                        eval_metric='recall', n_trials=3)\n",
        "\n",
        "(np.squeeze(preds) == cancer_df['target']).mean()"
      ]
    },
    {
      "cell_type": "markdown",
      "id": "8864b020",
      "metadata": {
        "id": "8864b020"
      },
      "source": [
        "### 회귀(regression)"
      ]
    },
    {
      "cell_type": "code",
      "execution_count": null,
      "id": "e9686c26",
      "metadata": {
        "id": "e9686c26",
        "outputId": "f90cbe15-a89f-41d7-80a7-e1da1f477bb6",
        "colab": {
          "base_uri": "https://localhost:8080/"
        }
      },
      "outputs": [
        {
          "output_type": "stream",
          "name": "stderr",
          "text": [
            "\u001b[32m[I 2022-12-29 09:13:27,466]\u001b[0m A new study created in memory with name: no-name-c4a6f7ed-707a-470b-abdf-6a1e54d6924a\u001b[0m\n"
          ]
        },
        {
          "output_type": "stream",
          "name": "stdout",
          "text": [
            "error type: mse, error: 9.78167\n",
            "error type: mse, error: 9.17342\n",
            "error type: mse, error: 21.05971\n",
            "error type: mse, error: 7.93784\n"
          ]
        },
        {
          "output_type": "stream",
          "name": "stderr",
          "text": [
            "\u001b[32m[I 2022-12-29 09:13:28,317]\u001b[0m Trial 0 finished with value: 11.242691378761268 and parameters: {'bootstrap_type': 'Bernoulli', 'boosting_type': 'Plain', 'od_type': 'Iter', 'colsample_bylevel': 0.055635877341427525, 'l2_leaf_reg': 1.3063906272297266e-07, 'learning_rate': 0.05566893527221241, 'iterations': 933, 'min_child_samples': 4, 'depth': 12, 'subsample': 0.8127546834847629}. Best is trial 0 with value: 11.242691378761268.\u001b[0m\n"
          ]
        },
        {
          "output_type": "stream",
          "name": "stdout",
          "text": [
            "error type: mse, error: 8.26081\n",
            "error type: mse, error: 15.06716\n",
            "error type: mse, error: 8.06386\n",
            "error type: mse, error: 8.47345\n",
            "error type: mse, error: 10.32539\n"
          ]
        },
        {
          "output_type": "stream",
          "name": "stderr",
          "text": [
            "\u001b[32m[I 2022-12-29 09:13:29,273]\u001b[0m Trial 1 finished with value: 9.659289371715955 and parameters: {'bootstrap_type': 'MVS', 'boosting_type': 'Plain', 'od_type': 'Iter', 'colsample_bylevel': 0.08204797882854901, 'l2_leaf_reg': 0.07333292199252602, 'learning_rate': 0.08005184519178517, 'iterations': 1589, 'min_child_samples': 1, 'depth': 5}. Best is trial 1 with value: 9.659289371715955.\u001b[0m\n"
          ]
        },
        {
          "output_type": "stream",
          "name": "stdout",
          "text": [
            "error type: mse, error: 6.36659\n",
            "error type: mse, error: 19.71679\n",
            "error type: mse, error: 5.56402\n",
            "error type: mse, error: 8.31567\n",
            "error type: mse, error: 12.71012\n"
          ]
        },
        {
          "output_type": "stream",
          "name": "stderr",
          "text": [
            "\u001b[32m[I 2022-12-29 09:13:31,195]\u001b[0m Trial 2 finished with value: 10.908498331028131 and parameters: {'bootstrap_type': 'MVS', 'boosting_type': 'Plain', 'od_type': 'Iter', 'colsample_bylevel': 0.0971780340050969, 'l2_leaf_reg': 1.5331796221592077e-06, 'learning_rate': 0.17603300275969247, 'iterations': 691, 'min_child_samples': 21, 'depth': 8}. Best is trial 1 with value: 9.659289371715955.\u001b[0m\n"
          ]
        },
        {
          "output_type": "stream",
          "name": "stdout",
          "text": [
            "error type: mse, error: 8.23590\n",
            "saving model...models/CatBoostRegressor-9.65929.npy\n"
          ]
        },
        {
          "output_type": "execute_result",
          "data": {
            "text/plain": [
              "5.681159126457748"
            ]
          },
          "metadata": {},
          "execution_count": 12
        }
      ],
      "source": [
        "for col in ['CHAS', 'RAD', 'ZN']:\n",
        "    boston_df[col] = boston_df[col].astype('int')\n",
        "    \n",
        "catboostoptuna_reg = models.CatBoostRegressorOptuna(use_gpu=False)\n",
        "        \n",
        "params, preds = catboostoptuna_reg.optimize(boston_df.drop('target', 1), \n",
        "                                            boston_df['target'], \n",
        "                                            test_data=boston_df.drop('target', 1),\n",
        "                                            # int, str 타입 이어야 한다. float는 허용하지 않음\n",
        "                                            cat_features=['CHAS', 'RAD', 'ZN'],\n",
        "                                            eval_metric='mse', n_trials=3)\n",
        "\n",
        "mean_squared_error(boston_df['target'], preds)"
      ]
    },
    {
      "cell_type": "markdown",
      "id": "5c56a835",
      "metadata": {
        "id": "5c56a835"
      },
      "source": [
        "### 저장한 파일로부터 예측 값 (prediction) 불러오기"
      ]
    },
    {
      "cell_type": "code",
      "execution_count": null,
      "id": "07dd9c58",
      "metadata": {
        "id": "07dd9c58",
        "outputId": "00ca2ed9-75bc-4be4-ffc7-79a12662c6a4",
        "colab": {
          "base_uri": "https://localhost:8080/"
        }
      },
      "outputs": [
        {
          "output_type": "execute_result",
          "data": {
            "text/plain": [
              "array([25.82585968, 20.68006021, 32.84489183, 35.65161464, 32.78903836,\n",
              "       25.80110956, 19.98998853, 18.82686324, 16.59023856, 19.59561169,\n",
              "       18.09095126, 19.70100316, 20.33241957, 19.85520235, 18.20452363,\n",
              "       19.97112548, 22.31164823, 18.05131059, 17.03215382, 17.45285002,\n",
              "       15.31319352, 17.69064344, 16.39416142, 18.09231114, 17.26043346,\n",
              "       15.94433693, 17.8622751 , 15.4895261 , 18.21393005, 21.33716669,\n",
              "       14.48495421, 17.5680783 , 12.7236004 , 16.18968978, 14.21964801,\n",
              "       23.13882888, 21.9074767 , 23.22506389, 23.16177266, 29.24684204,\n",
              "       35.53260448, 27.85917278, 25.00109791, 24.65877509, 23.02005912,\n",
              "       20.59479697, 20.59479697, 19.49851231, 18.65180189, 19.66256934,\n",
              "       20.87246509, 22.86097377, 24.930397  , 22.8855505 , 18.19944467,\n",
              "       36.0808    , 24.10941311, 36.75498042, 24.0082003 , 21.70310133,\n",
              "       19.50025966, 19.66628114, 23.33020854, 24.84047106, 31.72573978,\n",
              "       24.40566168, 19.02161942, 21.04979048, 18.85374287, 21.11468673,\n",
              "       23.98300852, 22.05553174, 23.35756097, 22.49406211, 24.5053745 ,\n",
              "       22.64349491, 20.51575162, 20.57308656, 20.38289279, 22.24028493,\n",
              "       27.47372557, 25.85493795, 23.85867902, 22.34700535, 23.0635447 ,\n",
              "       27.01036252, 20.74556304, 23.72737195, 29.66487652, 29.20800002,\n",
              "       22.86444515, 22.75462924, 23.75310789, 25.4027298 , 21.14239216,\n",
              "       27.00947313, 21.24736143, 39.16648238, 43.1057904 , 33.57176818,\n",
              "       25.15577726, 25.12882248, 17.34527368, 19.3288657 , 19.43331468,\n",
              "       18.40129415, 17.78821576, 19.69297764, 19.14709166, 18.98446763,\n",
              "       19.66419786, 25.25133427, 19.94500212, 19.46459804, 21.37903446,\n",
              "       19.99432315, 21.25376351, 20.89902344, 20.08661672, 20.94598986,\n",
              "       21.03420313, 21.42876936, 19.98708067, 16.92561406, 19.09995506,\n",
              "       21.47021878, 16.4394792 , 16.43571445, 16.8073925 , 15.85030802,\n",
              "       17.68090597, 17.8398822 , 18.22168044, 17.19967419, 14.98775357,\n",
              "       16.70425564, 17.25245989, 17.60501954, 14.30956953, 16.12068704,\n",
              "       15.41016508, 14.08265038, 15.08579597, 16.19897986, 13.1800085 ,\n",
              "       13.27616096, 16.33647366, 13.97580431, 14.65506578, 15.92875482,\n",
              "       20.0826665 , 18.37672606, 18.51192435, 16.66337129, 17.04470112,\n",
              "       16.94246545, 16.25007457, 35.785602  , 25.2383584 , 22.8671067 ,\n",
              "       25.75452274, 47.2082012 , 50.45228875, 48.19049613, 22.31089322,\n",
              "       23.83780342, 49.53200063, 21.5749824 , 21.81291068, 22.9305048 ,\n",
              "       20.75407848, 22.74408296, 20.36986659, 23.15387313, 22.85951506,\n",
              "       27.43193359, 22.31603742, 24.17938099, 28.07571724, 34.38139766,\n",
              "       40.36060792, 27.15638748, 37.68726903, 30.68200961, 24.58960287,\n",
              "       25.45252395, 43.75667563, 28.79883903, 28.76792984, 31.52416011,\n",
              "       30.53223605, 29.68836557, 36.80799613, 28.03208532, 28.85272456,\n",
              "       50.2935274 , 35.56681324, 29.96636705, 31.80657379, 31.75027816,\n",
              "       34.27476319, 24.80464024, 42.97499148, 47.27797453, 49.10312405,\n",
              "       21.66594048, 21.15492515, 19.48682709, 23.85302566, 17.59913002,\n",
              "       20.63273217, 18.55889364, 20.99661489, 24.44201714, 20.5370671 ,\n",
              "       23.66259317, 21.55098066, 26.4522634 , 21.16220266, 22.31565528,\n",
              "       28.63692006, 19.46890695, 26.99863424, 25.12636238, 41.58379116,\n",
              "       40.59545288, 43.62337326, 31.76957103, 43.8164801 , 33.17584708,\n",
              "       22.15368713, 34.09430272, 43.99555806, 44.71721104, 27.10750299,\n",
              "       22.38278661, 27.64428333, 34.9409918 , 24.41543184, 25.38478897,\n",
              "       24.27634531, 19.89873613, 20.45308096, 24.69212364, 19.69509001,\n",
              "       18.14741718, 22.51913717, 21.6589004 , 22.6847254 , 26.65406936,\n",
              "       24.30811862, 29.70812215, 32.5425744 , 41.91424415, 21.57073542,\n",
              "       20.00828389, 42.19558065, 46.93628095, 35.63147194, 33.16836363,\n",
              "       35.77814769, 42.27501398, 46.68363729, 33.4055807 , 36.62485213,\n",
              "       25.81915034, 33.11655316, 45.69162232, 46.54770648, 20.0062031 ,\n",
              "       20.21291592, 24.68600491, 23.12324376, 38.92305139, 33.18699251,\n",
              "       32.93578526, 34.76444248, 32.30488645, 24.98916092, 31.9779066 ,\n",
              "       46.73665606, 34.22390389, 47.00909097, 51.11949126, 30.36017552,\n",
              "       22.46485757, 21.33785061, 23.21619944, 21.54429233, 23.88778304,\n",
              "       33.37718872, 37.19294695, 28.13464241, 21.97804867, 19.10736348,\n",
              "       26.53327694, 25.22025478, 18.3527387 , 25.12998759, 31.74484611,\n",
              "       27.56648771, 23.66702931, 23.40413096, 29.52297898, 33.66363621,\n",
              "       27.3255418 , 35.49061664, 27.74350861, 27.3257198 , 21.85106296,\n",
              "       21.01205989, 23.74627238, 19.89026051, 22.33295354, 24.30230308,\n",
              "       19.31227883, 18.58487159, 18.8390457 , 20.23311048, 19.7506255 ,\n",
              "       22.65455982, 22.65455982, 20.98362064, 18.9254559 , 23.16674348,\n",
              "       24.07992154, 23.16701653, 18.96622254, 21.15648303, 23.35221167,\n",
              "       21.39387444, 17.79762605, 20.1389289 , 24.35048847, 24.35048847,\n",
              "       22.07676269, 21.65159989, 19.94141827, 22.17973946, 22.50558267,\n",
              "       22.3845154 , 31.08705282, 20.19573574, 25.76301326, 28.41963058,\n",
              "       18.61153738, 18.5291556 , 23.0017039 , 26.66943071, 26.91777781,\n",
              "       20.89597117, 26.27950747, 22.40508086, 31.22459906, 19.94941634,\n",
              "       21.76928113, 19.68258928, 23.13102464, 22.76960226, 18.84565295,\n",
              "       21.26734032, 19.04932438, 18.10473953, 23.08722159, 29.38672821,\n",
              "       22.44401919, 17.9848788 , 19.30875924, 32.77841532, 41.61596526,\n",
              "       47.06172613, 44.05967859, 47.79119294, 16.78303451, 30.46442781,\n",
              "       19.6242543 , 13.99613028, 15.86364853,  9.72666792, 12.20406687,\n",
              "       13.91880473, 14.15001452, 10.82138522, 10.82138522,  8.01032751,\n",
              "       10.47234433,  7.9839501 ,  8.3264775 , 11.87237359, 12.170528  ,\n",
              "       14.61647434, 16.42714069, 11.33807645, 16.03257956, 14.86668288,\n",
              "       14.38967529, 14.16977495, 13.43753577,  7.00067764, 12.00725514,\n",
              "        7.18499125, 11.98527565, 13.5388301 , 10.31172152,  9.63155905,\n",
              "        9.48742301, 17.86136731, 24.44417943, 14.4756544 , 19.03252248,\n",
              "       16.79138661, 16.21194462, 13.17988093, 13.89701622,  6.51176388,\n",
              "        9.21698492, 11.23274807,  8.76555374,  5.44122728, 11.60224996,\n",
              "       15.31330788, 14.35961133, 18.93651479, 13.73255702, 15.67275211,\n",
              "        9.38825656, 16.12989603, 12.78032087, 11.14221021, 10.40987621,\n",
              "       15.57934679, 16.36637181, 18.1254895 , 15.76771827, 13.63066499,\n",
              "       10.56412103, 11.88493233,  9.11253594, 10.17958808, 11.74174871,\n",
              "       10.098293  , 14.4806018 , 16.03814012, 14.51566584, 10.88885442,\n",
              "       10.10954587, 13.69064501, 15.72520502, 13.82927222, 13.33028947,\n",
              "       13.77957528, 16.26741417, 17.08264106, 20.02178219, 12.96544578,\n",
              "       14.48561289, 13.78413659, 13.5527846 , 15.34960735, 17.3165976 ,\n",
              "       17.96688397, 18.95010193, 17.42104658, 17.72424888, 19.57511544,\n",
              "       20.30094489, 16.5212718 , 16.45189104, 17.10206063, 18.79582232,\n",
              "       19.27680264, 21.02863715, 20.84404228, 26.95799733, 17.03971069,\n",
              "       13.66470505, 18.15981083, 14.51190879, 17.76166832, 20.684668  ,\n",
              "       19.84281147, 25.58332875, 27.5589631 , 20.83455466, 20.84300844,\n",
              "       20.77440045, 20.49192124, 20.88044167, 14.97707817, 12.84986283,\n",
              "       11.21726607, 14.50152763, 16.423911  , 20.61952215, 20.80383576,\n",
              "       20.62653348, 18.041005  , 20.48571702, 20.68276849, 19.50418173,\n",
              "       20.57295258, 22.90375489, 19.34153318, 27.27222209, 25.95962142,\n",
              "       19.18832014])"
            ]
          },
          "metadata": {},
          "execution_count": 14
        }
      ],
      "source": [
        "# 넘파이 array로 저장된 예측 결과를 로드할 수 있습니다.\n",
        "models.load_prediction_from_file('/content/models/CatBoostRegressor-3.48059.npy')"
      ]
    },
    {
      "cell_type": "markdown",
      "id": "a7ceb78c",
      "metadata": {
        "id": "a7ceb78c"
      },
      "source": [
        "### 하이퍼파라미터 튜닝 시각화"
      ]
    },
    {
      "cell_type": "code",
      "execution_count": null,
      "id": "b740ae19",
      "metadata": {
        "id": "b740ae19",
        "outputId": "662025c2-cbbb-4258-a7ee-9e58f2ade3f3",
        "colab": {
          "base_uri": "https://localhost:8080/",
          "height": 1000
        }
      },
      "outputs": [
        {
          "output_type": "display_data",
          "data": {
            "text/html": [
              "<html>\n",
              "<head><meta charset=\"utf-8\" /></head>\n",
              "<body>\n",
              "    <div>            <script src=\"https://cdnjs.cloudflare.com/ajax/libs/mathjax/2.7.5/MathJax.js?config=TeX-AMS-MML_SVG\"></script><script type=\"text/javascript\">if (window.MathJax) {MathJax.Hub.Config({SVG: {font: \"STIX-Web\"}});}</script>                <script type=\"text/javascript\">window.PlotlyConfig = {MathJaxConfig: 'local'};</script>\n",
              "        <script src=\"https://cdn.plot.ly/plotly-2.8.3.min.js\"></script>                <div id=\"1cbe4af9-1484-414f-ae6a-ca1194b71b06\" class=\"plotly-graph-div\" style=\"height:525px; width:100%;\"></div>            <script type=\"text/javascript\">                                    window.PLOTLYENV=window.PLOTLYENV || {};                                    if (document.getElementById(\"1cbe4af9-1484-414f-ae6a-ca1194b71b06\")) {                    Plotly.newPlot(                        \"1cbe4af9-1484-414f-ae6a-ca1194b71b06\",                        [{\"cliponaxis\":false,\"hovertemplate\":[\"boosting_type (CategoricalDistribution): 0.0<extra></extra>\",\"od_type (CategoricalDistribution): 0.0<extra></extra>\",\"learning_rate (FloatDistribution): 0.05577263611874123<extra></extra>\",\"l2_leaf_reg (FloatDistribution): 0.10542800967461217<extra></extra>\",\"iterations (IntDistribution): 0.10881867055030094<extra></extra>\",\"colsample_bylevel (FloatDistribution): 0.13134392731153677<extra></extra>\",\"depth (IntDistribution): 0.14245502694741194<extra></extra>\",\"bootstrap_type (CategoricalDistribution): 0.16245747792389198<extra></extra>\",\"min_child_samples (IntDistribution): 0.293724251473505<extra></extra>\"],\"marker\":{\"color\":\"rgb(66,146,198)\"},\"orientation\":\"h\",\"text\":[\"<0.01\",\"<0.01\",\"0.06\",\"0.11\",\"0.11\",\"0.13\",\"0.14\",\"0.16\",\"0.29\"],\"textposition\":\"outside\",\"x\":[0.0,0.0,0.05577263611874123,0.10542800967461217,0.10881867055030094,0.13134392731153677,0.14245502694741194,0.16245747792389198,0.293724251473505],\"y\":[\"boosting_type\",\"od_type\",\"learning_rate\",\"l2_leaf_reg\",\"iterations\",\"colsample_bylevel\",\"depth\",\"bootstrap_type\",\"min_child_samples\"],\"type\":\"bar\"}],                        {\"showlegend\":false,\"title\":{\"text\":\"Hyperparameter Importances\"},\"xaxis\":{\"title\":{\"text\":\"Importance for Objective Value\"}},\"yaxis\":{\"title\":{\"text\":\"Hyperparameter\"}},\"template\":{\"data\":{\"bar\":[{\"error_x\":{\"color\":\"#2a3f5f\"},\"error_y\":{\"color\":\"#2a3f5f\"},\"marker\":{\"line\":{\"color\":\"#E5ECF6\",\"width\":0.5},\"pattern\":{\"fillmode\":\"overlay\",\"size\":10,\"solidity\":0.2}},\"type\":\"bar\"}],\"barpolar\":[{\"marker\":{\"line\":{\"color\":\"#E5ECF6\",\"width\":0.5},\"pattern\":{\"fillmode\":\"overlay\",\"size\":10,\"solidity\":0.2}},\"type\":\"barpolar\"}],\"carpet\":[{\"aaxis\":{\"endlinecolor\":\"#2a3f5f\",\"gridcolor\":\"white\",\"linecolor\":\"white\",\"minorgridcolor\":\"white\",\"startlinecolor\":\"#2a3f5f\"},\"baxis\":{\"endlinecolor\":\"#2a3f5f\",\"gridcolor\":\"white\",\"linecolor\":\"white\",\"minorgridcolor\":\"white\",\"startlinecolor\":\"#2a3f5f\"},\"type\":\"carpet\"}],\"choropleth\":[{\"colorbar\":{\"outlinewidth\":0,\"ticks\":\"\"},\"type\":\"choropleth\"}],\"contour\":[{\"colorbar\":{\"outlinewidth\":0,\"ticks\":\"\"},\"colorscale\":[[0.0,\"#0d0887\"],[0.1111111111111111,\"#46039f\"],[0.2222222222222222,\"#7201a8\"],[0.3333333333333333,\"#9c179e\"],[0.4444444444444444,\"#bd3786\"],[0.5555555555555556,\"#d8576b\"],[0.6666666666666666,\"#ed7953\"],[0.7777777777777778,\"#fb9f3a\"],[0.8888888888888888,\"#fdca26\"],[1.0,\"#f0f921\"]],\"type\":\"contour\"}],\"contourcarpet\":[{\"colorbar\":{\"outlinewidth\":0,\"ticks\":\"\"},\"type\":\"contourcarpet\"}],\"heatmap\":[{\"colorbar\":{\"outlinewidth\":0,\"ticks\":\"\"},\"colorscale\":[[0.0,\"#0d0887\"],[0.1111111111111111,\"#46039f\"],[0.2222222222222222,\"#7201a8\"],[0.3333333333333333,\"#9c179e\"],[0.4444444444444444,\"#bd3786\"],[0.5555555555555556,\"#d8576b\"],[0.6666666666666666,\"#ed7953\"],[0.7777777777777778,\"#fb9f3a\"],[0.8888888888888888,\"#fdca26\"],[1.0,\"#f0f921\"]],\"type\":\"heatmap\"}],\"heatmapgl\":[{\"colorbar\":{\"outlinewidth\":0,\"ticks\":\"\"},\"colorscale\":[[0.0,\"#0d0887\"],[0.1111111111111111,\"#46039f\"],[0.2222222222222222,\"#7201a8\"],[0.3333333333333333,\"#9c179e\"],[0.4444444444444444,\"#bd3786\"],[0.5555555555555556,\"#d8576b\"],[0.6666666666666666,\"#ed7953\"],[0.7777777777777778,\"#fb9f3a\"],[0.8888888888888888,\"#fdca26\"],[1.0,\"#f0f921\"]],\"type\":\"heatmapgl\"}],\"histogram\":[{\"marker\":{\"pattern\":{\"fillmode\":\"overlay\",\"size\":10,\"solidity\":0.2}},\"type\":\"histogram\"}],\"histogram2d\":[{\"colorbar\":{\"outlinewidth\":0,\"ticks\":\"\"},\"colorscale\":[[0.0,\"#0d0887\"],[0.1111111111111111,\"#46039f\"],[0.2222222222222222,\"#7201a8\"],[0.3333333333333333,\"#9c179e\"],[0.4444444444444444,\"#bd3786\"],[0.5555555555555556,\"#d8576b\"],[0.6666666666666666,\"#ed7953\"],[0.7777777777777778,\"#fb9f3a\"],[0.8888888888888888,\"#fdca26\"],[1.0,\"#f0f921\"]],\"type\":\"histogram2d\"}],\"histogram2dcontour\":[{\"colorbar\":{\"outlinewidth\":0,\"ticks\":\"\"},\"colorscale\":[[0.0,\"#0d0887\"],[0.1111111111111111,\"#46039f\"],[0.2222222222222222,\"#7201a8\"],[0.3333333333333333,\"#9c179e\"],[0.4444444444444444,\"#bd3786\"],[0.5555555555555556,\"#d8576b\"],[0.6666666666666666,\"#ed7953\"],[0.7777777777777778,\"#fb9f3a\"],[0.8888888888888888,\"#fdca26\"],[1.0,\"#f0f921\"]],\"type\":\"histogram2dcontour\"}],\"mesh3d\":[{\"colorbar\":{\"outlinewidth\":0,\"ticks\":\"\"},\"type\":\"mesh3d\"}],\"parcoords\":[{\"line\":{\"colorbar\":{\"outlinewidth\":0,\"ticks\":\"\"}},\"type\":\"parcoords\"}],\"pie\":[{\"automargin\":true,\"type\":\"pie\"}],\"scatter\":[{\"marker\":{\"colorbar\":{\"outlinewidth\":0,\"ticks\":\"\"}},\"type\":\"scatter\"}],\"scatter3d\":[{\"line\":{\"colorbar\":{\"outlinewidth\":0,\"ticks\":\"\"}},\"marker\":{\"colorbar\":{\"outlinewidth\":0,\"ticks\":\"\"}},\"type\":\"scatter3d\"}],\"scattercarpet\":[{\"marker\":{\"colorbar\":{\"outlinewidth\":0,\"ticks\":\"\"}},\"type\":\"scattercarpet\"}],\"scattergeo\":[{\"marker\":{\"colorbar\":{\"outlinewidth\":0,\"ticks\":\"\"}},\"type\":\"scattergeo\"}],\"scattergl\":[{\"marker\":{\"colorbar\":{\"outlinewidth\":0,\"ticks\":\"\"}},\"type\":\"scattergl\"}],\"scattermapbox\":[{\"marker\":{\"colorbar\":{\"outlinewidth\":0,\"ticks\":\"\"}},\"type\":\"scattermapbox\"}],\"scatterpolar\":[{\"marker\":{\"colorbar\":{\"outlinewidth\":0,\"ticks\":\"\"}},\"type\":\"scatterpolar\"}],\"scatterpolargl\":[{\"marker\":{\"colorbar\":{\"outlinewidth\":0,\"ticks\":\"\"}},\"type\":\"scatterpolargl\"}],\"scatterternary\":[{\"marker\":{\"colorbar\":{\"outlinewidth\":0,\"ticks\":\"\"}},\"type\":\"scatterternary\"}],\"surface\":[{\"colorbar\":{\"outlinewidth\":0,\"ticks\":\"\"},\"colorscale\":[[0.0,\"#0d0887\"],[0.1111111111111111,\"#46039f\"],[0.2222222222222222,\"#7201a8\"],[0.3333333333333333,\"#9c179e\"],[0.4444444444444444,\"#bd3786\"],[0.5555555555555556,\"#d8576b\"],[0.6666666666666666,\"#ed7953\"],[0.7777777777777778,\"#fb9f3a\"],[0.8888888888888888,\"#fdca26\"],[1.0,\"#f0f921\"]],\"type\":\"surface\"}],\"table\":[{\"cells\":{\"fill\":{\"color\":\"#EBF0F8\"},\"line\":{\"color\":\"white\"}},\"header\":{\"fill\":{\"color\":\"#C8D4E3\"},\"line\":{\"color\":\"white\"}},\"type\":\"table\"}]},\"layout\":{\"annotationdefaults\":{\"arrowcolor\":\"#2a3f5f\",\"arrowhead\":0,\"arrowwidth\":1},\"autotypenumbers\":\"strict\",\"coloraxis\":{\"colorbar\":{\"outlinewidth\":0,\"ticks\":\"\"}},\"colorscale\":{\"diverging\":[[0,\"#8e0152\"],[0.1,\"#c51b7d\"],[0.2,\"#de77ae\"],[0.3,\"#f1b6da\"],[0.4,\"#fde0ef\"],[0.5,\"#f7f7f7\"],[0.6,\"#e6f5d0\"],[0.7,\"#b8e186\"],[0.8,\"#7fbc41\"],[0.9,\"#4d9221\"],[1,\"#276419\"]],\"sequential\":[[0.0,\"#0d0887\"],[0.1111111111111111,\"#46039f\"],[0.2222222222222222,\"#7201a8\"],[0.3333333333333333,\"#9c179e\"],[0.4444444444444444,\"#bd3786\"],[0.5555555555555556,\"#d8576b\"],[0.6666666666666666,\"#ed7953\"],[0.7777777777777778,\"#fb9f3a\"],[0.8888888888888888,\"#fdca26\"],[1.0,\"#f0f921\"]],\"sequentialminus\":[[0.0,\"#0d0887\"],[0.1111111111111111,\"#46039f\"],[0.2222222222222222,\"#7201a8\"],[0.3333333333333333,\"#9c179e\"],[0.4444444444444444,\"#bd3786\"],[0.5555555555555556,\"#d8576b\"],[0.6666666666666666,\"#ed7953\"],[0.7777777777777778,\"#fb9f3a\"],[0.8888888888888888,\"#fdca26\"],[1.0,\"#f0f921\"]]},\"colorway\":[\"#636efa\",\"#EF553B\",\"#00cc96\",\"#ab63fa\",\"#FFA15A\",\"#19d3f3\",\"#FF6692\",\"#B6E880\",\"#FF97FF\",\"#FECB52\"],\"font\":{\"color\":\"#2a3f5f\"},\"geo\":{\"bgcolor\":\"white\",\"lakecolor\":\"white\",\"landcolor\":\"#E5ECF6\",\"showlakes\":true,\"showland\":true,\"subunitcolor\":\"white\"},\"hoverlabel\":{\"align\":\"left\"},\"hovermode\":\"closest\",\"mapbox\":{\"style\":\"light\"},\"paper_bgcolor\":\"white\",\"plot_bgcolor\":\"#E5ECF6\",\"polar\":{\"angularaxis\":{\"gridcolor\":\"white\",\"linecolor\":\"white\",\"ticks\":\"\"},\"bgcolor\":\"#E5ECF6\",\"radialaxis\":{\"gridcolor\":\"white\",\"linecolor\":\"white\",\"ticks\":\"\"}},\"scene\":{\"xaxis\":{\"backgroundcolor\":\"#E5ECF6\",\"gridcolor\":\"white\",\"gridwidth\":2,\"linecolor\":\"white\",\"showbackground\":true,\"ticks\":\"\",\"zerolinecolor\":\"white\"},\"yaxis\":{\"backgroundcolor\":\"#E5ECF6\",\"gridcolor\":\"white\",\"gridwidth\":2,\"linecolor\":\"white\",\"showbackground\":true,\"ticks\":\"\",\"zerolinecolor\":\"white\"},\"zaxis\":{\"backgroundcolor\":\"#E5ECF6\",\"gridcolor\":\"white\",\"gridwidth\":2,\"linecolor\":\"white\",\"showbackground\":true,\"ticks\":\"\",\"zerolinecolor\":\"white\"}},\"shapedefaults\":{\"line\":{\"color\":\"#2a3f5f\"}},\"ternary\":{\"aaxis\":{\"gridcolor\":\"white\",\"linecolor\":\"white\",\"ticks\":\"\"},\"baxis\":{\"gridcolor\":\"white\",\"linecolor\":\"white\",\"ticks\":\"\"},\"bgcolor\":\"#E5ECF6\",\"caxis\":{\"gridcolor\":\"white\",\"linecolor\":\"white\",\"ticks\":\"\"}},\"title\":{\"x\":0.05},\"xaxis\":{\"automargin\":true,\"gridcolor\":\"white\",\"linecolor\":\"white\",\"ticks\":\"\",\"title\":{\"standoff\":15},\"zerolinecolor\":\"white\",\"zerolinewidth\":2},\"yaxis\":{\"automargin\":true,\"gridcolor\":\"white\",\"linecolor\":\"white\",\"ticks\":\"\",\"title\":{\"standoff\":15},\"zerolinecolor\":\"white\",\"zerolinewidth\":2}}}},                        {\"responsive\": true}                    ).then(function(){\n",
              "                            \n",
              "var gd = document.getElementById('1cbe4af9-1484-414f-ae6a-ca1194b71b06');\n",
              "var x = new MutationObserver(function (mutations, observer) {{\n",
              "        var display = window.getComputedStyle(gd).display;\n",
              "        if (!display || display === 'none') {{\n",
              "            console.log([gd, 'removed!']);\n",
              "            Plotly.purge(gd);\n",
              "            observer.disconnect();\n",
              "        }}\n",
              "}});\n",
              "\n",
              "// Listen for the removal of the full notebook cells\n",
              "var notebookContainer = gd.closest('#notebook-container');\n",
              "if (notebookContainer) {{\n",
              "    x.observe(notebookContainer, {childList: true});\n",
              "}}\n",
              "\n",
              "// Listen for the clearing of the current output cell\n",
              "var outputEl = gd.closest('.output');\n",
              "if (outputEl) {{\n",
              "    x.observe(outputEl, {childList: true});\n",
              "}}\n",
              "\n",
              "                        })                };                            </script>        </div>\n",
              "</body>\n",
              "</html>"
            ]
          },
          "metadata": {}
        },
        {
          "output_type": "display_data",
          "data": {
            "text/html": [
              "<html>\n",
              "<head><meta charset=\"utf-8\" /></head>\n",
              "<body>\n",
              "    <div>            <script src=\"https://cdnjs.cloudflare.com/ajax/libs/mathjax/2.7.5/MathJax.js?config=TeX-AMS-MML_SVG\"></script><script type=\"text/javascript\">if (window.MathJax) {MathJax.Hub.Config({SVG: {font: \"STIX-Web\"}});}</script>                <script type=\"text/javascript\">window.PlotlyConfig = {MathJaxConfig: 'local'};</script>\n",
              "        <script src=\"https://cdn.plot.ly/plotly-2.8.3.min.js\"></script>                <div id=\"04583778-0d07-49eb-823f-dd4c78982577\" class=\"plotly-graph-div\" style=\"height:525px; width:100%;\"></div>            <script type=\"text/javascript\">                                    window.PLOTLYENV=window.PLOTLYENV || {};                                    if (document.getElementById(\"04583778-0d07-49eb-823f-dd4c78982577\")) {                    Plotly.newPlot(                        \"04583778-0d07-49eb-823f-dd4c78982577\",                        [{\"mode\":\"markers\",\"name\":\"Objective Value\",\"x\":[0,1,2],\"y\":[11.242691378761268,9.659289371715955,10.908498331028131],\"type\":\"scatter\"},{\"name\":\"Best Value\",\"x\":[0,1,2],\"y\":[11.242691378761268,9.659289371715955,9.659289371715955],\"type\":\"scatter\"}],                        {\"title\":{\"text\":\"Optimization History Plot\"},\"xaxis\":{\"title\":{\"text\":\"Trial\"}},\"yaxis\":{\"title\":{\"text\":\"Objective Value\"}},\"template\":{\"data\":{\"bar\":[{\"error_x\":{\"color\":\"#2a3f5f\"},\"error_y\":{\"color\":\"#2a3f5f\"},\"marker\":{\"line\":{\"color\":\"#E5ECF6\",\"width\":0.5},\"pattern\":{\"fillmode\":\"overlay\",\"size\":10,\"solidity\":0.2}},\"type\":\"bar\"}],\"barpolar\":[{\"marker\":{\"line\":{\"color\":\"#E5ECF6\",\"width\":0.5},\"pattern\":{\"fillmode\":\"overlay\",\"size\":10,\"solidity\":0.2}},\"type\":\"barpolar\"}],\"carpet\":[{\"aaxis\":{\"endlinecolor\":\"#2a3f5f\",\"gridcolor\":\"white\",\"linecolor\":\"white\",\"minorgridcolor\":\"white\",\"startlinecolor\":\"#2a3f5f\"},\"baxis\":{\"endlinecolor\":\"#2a3f5f\",\"gridcolor\":\"white\",\"linecolor\":\"white\",\"minorgridcolor\":\"white\",\"startlinecolor\":\"#2a3f5f\"},\"type\":\"carpet\"}],\"choropleth\":[{\"colorbar\":{\"outlinewidth\":0,\"ticks\":\"\"},\"type\":\"choropleth\"}],\"contour\":[{\"colorbar\":{\"outlinewidth\":0,\"ticks\":\"\"},\"colorscale\":[[0.0,\"#0d0887\"],[0.1111111111111111,\"#46039f\"],[0.2222222222222222,\"#7201a8\"],[0.3333333333333333,\"#9c179e\"],[0.4444444444444444,\"#bd3786\"],[0.5555555555555556,\"#d8576b\"],[0.6666666666666666,\"#ed7953\"],[0.7777777777777778,\"#fb9f3a\"],[0.8888888888888888,\"#fdca26\"],[1.0,\"#f0f921\"]],\"type\":\"contour\"}],\"contourcarpet\":[{\"colorbar\":{\"outlinewidth\":0,\"ticks\":\"\"},\"type\":\"contourcarpet\"}],\"heatmap\":[{\"colorbar\":{\"outlinewidth\":0,\"ticks\":\"\"},\"colorscale\":[[0.0,\"#0d0887\"],[0.1111111111111111,\"#46039f\"],[0.2222222222222222,\"#7201a8\"],[0.3333333333333333,\"#9c179e\"],[0.4444444444444444,\"#bd3786\"],[0.5555555555555556,\"#d8576b\"],[0.6666666666666666,\"#ed7953\"],[0.7777777777777778,\"#fb9f3a\"],[0.8888888888888888,\"#fdca26\"],[1.0,\"#f0f921\"]],\"type\":\"heatmap\"}],\"heatmapgl\":[{\"colorbar\":{\"outlinewidth\":0,\"ticks\":\"\"},\"colorscale\":[[0.0,\"#0d0887\"],[0.1111111111111111,\"#46039f\"],[0.2222222222222222,\"#7201a8\"],[0.3333333333333333,\"#9c179e\"],[0.4444444444444444,\"#bd3786\"],[0.5555555555555556,\"#d8576b\"],[0.6666666666666666,\"#ed7953\"],[0.7777777777777778,\"#fb9f3a\"],[0.8888888888888888,\"#fdca26\"],[1.0,\"#f0f921\"]],\"type\":\"heatmapgl\"}],\"histogram\":[{\"marker\":{\"pattern\":{\"fillmode\":\"overlay\",\"size\":10,\"solidity\":0.2}},\"type\":\"histogram\"}],\"histogram2d\":[{\"colorbar\":{\"outlinewidth\":0,\"ticks\":\"\"},\"colorscale\":[[0.0,\"#0d0887\"],[0.1111111111111111,\"#46039f\"],[0.2222222222222222,\"#7201a8\"],[0.3333333333333333,\"#9c179e\"],[0.4444444444444444,\"#bd3786\"],[0.5555555555555556,\"#d8576b\"],[0.6666666666666666,\"#ed7953\"],[0.7777777777777778,\"#fb9f3a\"],[0.8888888888888888,\"#fdca26\"],[1.0,\"#f0f921\"]],\"type\":\"histogram2d\"}],\"histogram2dcontour\":[{\"colorbar\":{\"outlinewidth\":0,\"ticks\":\"\"},\"colorscale\":[[0.0,\"#0d0887\"],[0.1111111111111111,\"#46039f\"],[0.2222222222222222,\"#7201a8\"],[0.3333333333333333,\"#9c179e\"],[0.4444444444444444,\"#bd3786\"],[0.5555555555555556,\"#d8576b\"],[0.6666666666666666,\"#ed7953\"],[0.7777777777777778,\"#fb9f3a\"],[0.8888888888888888,\"#fdca26\"],[1.0,\"#f0f921\"]],\"type\":\"histogram2dcontour\"}],\"mesh3d\":[{\"colorbar\":{\"outlinewidth\":0,\"ticks\":\"\"},\"type\":\"mesh3d\"}],\"parcoords\":[{\"line\":{\"colorbar\":{\"outlinewidth\":0,\"ticks\":\"\"}},\"type\":\"parcoords\"}],\"pie\":[{\"automargin\":true,\"type\":\"pie\"}],\"scatter\":[{\"marker\":{\"colorbar\":{\"outlinewidth\":0,\"ticks\":\"\"}},\"type\":\"scatter\"}],\"scatter3d\":[{\"line\":{\"colorbar\":{\"outlinewidth\":0,\"ticks\":\"\"}},\"marker\":{\"colorbar\":{\"outlinewidth\":0,\"ticks\":\"\"}},\"type\":\"scatter3d\"}],\"scattercarpet\":[{\"marker\":{\"colorbar\":{\"outlinewidth\":0,\"ticks\":\"\"}},\"type\":\"scattercarpet\"}],\"scattergeo\":[{\"marker\":{\"colorbar\":{\"outlinewidth\":0,\"ticks\":\"\"}},\"type\":\"scattergeo\"}],\"scattergl\":[{\"marker\":{\"colorbar\":{\"outlinewidth\":0,\"ticks\":\"\"}},\"type\":\"scattergl\"}],\"scattermapbox\":[{\"marker\":{\"colorbar\":{\"outlinewidth\":0,\"ticks\":\"\"}},\"type\":\"scattermapbox\"}],\"scatterpolar\":[{\"marker\":{\"colorbar\":{\"outlinewidth\":0,\"ticks\":\"\"}},\"type\":\"scatterpolar\"}],\"scatterpolargl\":[{\"marker\":{\"colorbar\":{\"outlinewidth\":0,\"ticks\":\"\"}},\"type\":\"scatterpolargl\"}],\"scatterternary\":[{\"marker\":{\"colorbar\":{\"outlinewidth\":0,\"ticks\":\"\"}},\"type\":\"scatterternary\"}],\"surface\":[{\"colorbar\":{\"outlinewidth\":0,\"ticks\":\"\"},\"colorscale\":[[0.0,\"#0d0887\"],[0.1111111111111111,\"#46039f\"],[0.2222222222222222,\"#7201a8\"],[0.3333333333333333,\"#9c179e\"],[0.4444444444444444,\"#bd3786\"],[0.5555555555555556,\"#d8576b\"],[0.6666666666666666,\"#ed7953\"],[0.7777777777777778,\"#fb9f3a\"],[0.8888888888888888,\"#fdca26\"],[1.0,\"#f0f921\"]],\"type\":\"surface\"}],\"table\":[{\"cells\":{\"fill\":{\"color\":\"#EBF0F8\"},\"line\":{\"color\":\"white\"}},\"header\":{\"fill\":{\"color\":\"#C8D4E3\"},\"line\":{\"color\":\"white\"}},\"type\":\"table\"}]},\"layout\":{\"annotationdefaults\":{\"arrowcolor\":\"#2a3f5f\",\"arrowhead\":0,\"arrowwidth\":1},\"autotypenumbers\":\"strict\",\"coloraxis\":{\"colorbar\":{\"outlinewidth\":0,\"ticks\":\"\"}},\"colorscale\":{\"diverging\":[[0,\"#8e0152\"],[0.1,\"#c51b7d\"],[0.2,\"#de77ae\"],[0.3,\"#f1b6da\"],[0.4,\"#fde0ef\"],[0.5,\"#f7f7f7\"],[0.6,\"#e6f5d0\"],[0.7,\"#b8e186\"],[0.8,\"#7fbc41\"],[0.9,\"#4d9221\"],[1,\"#276419\"]],\"sequential\":[[0.0,\"#0d0887\"],[0.1111111111111111,\"#46039f\"],[0.2222222222222222,\"#7201a8\"],[0.3333333333333333,\"#9c179e\"],[0.4444444444444444,\"#bd3786\"],[0.5555555555555556,\"#d8576b\"],[0.6666666666666666,\"#ed7953\"],[0.7777777777777778,\"#fb9f3a\"],[0.8888888888888888,\"#fdca26\"],[1.0,\"#f0f921\"]],\"sequentialminus\":[[0.0,\"#0d0887\"],[0.1111111111111111,\"#46039f\"],[0.2222222222222222,\"#7201a8\"],[0.3333333333333333,\"#9c179e\"],[0.4444444444444444,\"#bd3786\"],[0.5555555555555556,\"#d8576b\"],[0.6666666666666666,\"#ed7953\"],[0.7777777777777778,\"#fb9f3a\"],[0.8888888888888888,\"#fdca26\"],[1.0,\"#f0f921\"]]},\"colorway\":[\"#636efa\",\"#EF553B\",\"#00cc96\",\"#ab63fa\",\"#FFA15A\",\"#19d3f3\",\"#FF6692\",\"#B6E880\",\"#FF97FF\",\"#FECB52\"],\"font\":{\"color\":\"#2a3f5f\"},\"geo\":{\"bgcolor\":\"white\",\"lakecolor\":\"white\",\"landcolor\":\"#E5ECF6\",\"showlakes\":true,\"showland\":true,\"subunitcolor\":\"white\"},\"hoverlabel\":{\"align\":\"left\"},\"hovermode\":\"closest\",\"mapbox\":{\"style\":\"light\"},\"paper_bgcolor\":\"white\",\"plot_bgcolor\":\"#E5ECF6\",\"polar\":{\"angularaxis\":{\"gridcolor\":\"white\",\"linecolor\":\"white\",\"ticks\":\"\"},\"bgcolor\":\"#E5ECF6\",\"radialaxis\":{\"gridcolor\":\"white\",\"linecolor\":\"white\",\"ticks\":\"\"}},\"scene\":{\"xaxis\":{\"backgroundcolor\":\"#E5ECF6\",\"gridcolor\":\"white\",\"gridwidth\":2,\"linecolor\":\"white\",\"showbackground\":true,\"ticks\":\"\",\"zerolinecolor\":\"white\"},\"yaxis\":{\"backgroundcolor\":\"#E5ECF6\",\"gridcolor\":\"white\",\"gridwidth\":2,\"linecolor\":\"white\",\"showbackground\":true,\"ticks\":\"\",\"zerolinecolor\":\"white\"},\"zaxis\":{\"backgroundcolor\":\"#E5ECF6\",\"gridcolor\":\"white\",\"gridwidth\":2,\"linecolor\":\"white\",\"showbackground\":true,\"ticks\":\"\",\"zerolinecolor\":\"white\"}},\"shapedefaults\":{\"line\":{\"color\":\"#2a3f5f\"}},\"ternary\":{\"aaxis\":{\"gridcolor\":\"white\",\"linecolor\":\"white\",\"ticks\":\"\"},\"baxis\":{\"gridcolor\":\"white\",\"linecolor\":\"white\",\"ticks\":\"\"},\"bgcolor\":\"#E5ECF6\",\"caxis\":{\"gridcolor\":\"white\",\"linecolor\":\"white\",\"ticks\":\"\"}},\"title\":{\"x\":0.05},\"xaxis\":{\"automargin\":true,\"gridcolor\":\"white\",\"linecolor\":\"white\",\"ticks\":\"\",\"title\":{\"standoff\":15},\"zerolinecolor\":\"white\",\"zerolinewidth\":2},\"yaxis\":{\"automargin\":true,\"gridcolor\":\"white\",\"linecolor\":\"white\",\"ticks\":\"\",\"title\":{\"standoff\":15},\"zerolinecolor\":\"white\",\"zerolinewidth\":2}}}},                        {\"responsive\": true}                    ).then(function(){\n",
              "                            \n",
              "var gd = document.getElementById('04583778-0d07-49eb-823f-dd4c78982577');\n",
              "var x = new MutationObserver(function (mutations, observer) {{\n",
              "        var display = window.getComputedStyle(gd).display;\n",
              "        if (!display || display === 'none') {{\n",
              "            console.log([gd, 'removed!']);\n",
              "            Plotly.purge(gd);\n",
              "            observer.disconnect();\n",
              "        }}\n",
              "}});\n",
              "\n",
              "// Listen for the removal of the full notebook cells\n",
              "var notebookContainer = gd.closest('#notebook-container');\n",
              "if (notebookContainer) {{\n",
              "    x.observe(notebookContainer, {childList: true});\n",
              "}}\n",
              "\n",
              "// Listen for the clearing of the current output cell\n",
              "var outputEl = gd.closest('.output');\n",
              "if (outputEl) {{\n",
              "    x.observe(outputEl, {childList: true});\n",
              "}}\n",
              "\n",
              "                        })                };                            </script>        </div>\n",
              "</body>\n",
              "</html>"
            ]
          },
          "metadata": {}
        },
        {
          "output_type": "execute_result",
          "data": {
            "text/plain": [
              "   number      value             datetime_start          datetime_complete  \\\n",
              "0       0  11.242691 2022-12-29 09:13:27.471799 2022-12-29 09:13:28.317403   \n",
              "2       2  10.908498 2022-12-29 09:13:29.276466 2022-12-29 09:13:31.181382   \n",
              "1       1   9.659289 2022-12-29 09:13:28.323602 2022-12-29 09:13:29.272726   \n",
              "\n",
              "                duration params_boosting_type params_bootstrap_type  \\\n",
              "0 0 days 00:00:00.845604                Plain             Bernoulli   \n",
              "2 0 days 00:00:01.904916                Plain                   MVS   \n",
              "1 0 days 00:00:00.949124                Plain                   MVS   \n",
              "\n",
              "   params_colsample_bylevel  params_depth  params_iterations  \\\n",
              "0                  0.055636            12                933   \n",
              "2                  0.097178             8                691   \n",
              "1                  0.082048             5               1589   \n",
              "\n",
              "   params_l2_leaf_reg  params_learning_rate  params_min_child_samples  \\\n",
              "0        1.306391e-07              0.055669                         4   \n",
              "2        1.533180e-06              0.176033                        21   \n",
              "1        7.333292e-02              0.080052                         1   \n",
              "\n",
              "  params_od_type  params_subsample     state  \n",
              "0           Iter          0.812755  COMPLETE  \n",
              "2           Iter               NaN  COMPLETE  \n",
              "1           Iter               NaN  COMPLETE  "
            ],
            "text/html": [
              "\n",
              "  <div id=\"df-eb71fd1f-ec1f-4f91-8e4e-b6f362504867\">\n",
              "    <div class=\"colab-df-container\">\n",
              "      <div>\n",
              "<style scoped>\n",
              "    .dataframe tbody tr th:only-of-type {\n",
              "        vertical-align: middle;\n",
              "    }\n",
              "\n",
              "    .dataframe tbody tr th {\n",
              "        vertical-align: top;\n",
              "    }\n",
              "\n",
              "    .dataframe thead th {\n",
              "        text-align: right;\n",
              "    }\n",
              "</style>\n",
              "<table border=\"1\" class=\"dataframe\">\n",
              "  <thead>\n",
              "    <tr style=\"text-align: right;\">\n",
              "      <th></th>\n",
              "      <th>number</th>\n",
              "      <th>value</th>\n",
              "      <th>datetime_start</th>\n",
              "      <th>datetime_complete</th>\n",
              "      <th>duration</th>\n",
              "      <th>params_boosting_type</th>\n",
              "      <th>params_bootstrap_type</th>\n",
              "      <th>params_colsample_bylevel</th>\n",
              "      <th>params_depth</th>\n",
              "      <th>params_iterations</th>\n",
              "      <th>params_l2_leaf_reg</th>\n",
              "      <th>params_learning_rate</th>\n",
              "      <th>params_min_child_samples</th>\n",
              "      <th>params_od_type</th>\n",
              "      <th>params_subsample</th>\n",
              "      <th>state</th>\n",
              "    </tr>\n",
              "  </thead>\n",
              "  <tbody>\n",
              "    <tr>\n",
              "      <th>0</th>\n",
              "      <td>0</td>\n",
              "      <td>11.242691</td>\n",
              "      <td>2022-12-29 09:13:27.471799</td>\n",
              "      <td>2022-12-29 09:13:28.317403</td>\n",
              "      <td>0 days 00:00:00.845604</td>\n",
              "      <td>Plain</td>\n",
              "      <td>Bernoulli</td>\n",
              "      <td>0.055636</td>\n",
              "      <td>12</td>\n",
              "      <td>933</td>\n",
              "      <td>1.306391e-07</td>\n",
              "      <td>0.055669</td>\n",
              "      <td>4</td>\n",
              "      <td>Iter</td>\n",
              "      <td>0.812755</td>\n",
              "      <td>COMPLETE</td>\n",
              "    </tr>\n",
              "    <tr>\n",
              "      <th>2</th>\n",
              "      <td>2</td>\n",
              "      <td>10.908498</td>\n",
              "      <td>2022-12-29 09:13:29.276466</td>\n",
              "      <td>2022-12-29 09:13:31.181382</td>\n",
              "      <td>0 days 00:00:01.904916</td>\n",
              "      <td>Plain</td>\n",
              "      <td>MVS</td>\n",
              "      <td>0.097178</td>\n",
              "      <td>8</td>\n",
              "      <td>691</td>\n",
              "      <td>1.533180e-06</td>\n",
              "      <td>0.176033</td>\n",
              "      <td>21</td>\n",
              "      <td>Iter</td>\n",
              "      <td>NaN</td>\n",
              "      <td>COMPLETE</td>\n",
              "    </tr>\n",
              "    <tr>\n",
              "      <th>1</th>\n",
              "      <td>1</td>\n",
              "      <td>9.659289</td>\n",
              "      <td>2022-12-29 09:13:28.323602</td>\n",
              "      <td>2022-12-29 09:13:29.272726</td>\n",
              "      <td>0 days 00:00:00.949124</td>\n",
              "      <td>Plain</td>\n",
              "      <td>MVS</td>\n",
              "      <td>0.082048</td>\n",
              "      <td>5</td>\n",
              "      <td>1589</td>\n",
              "      <td>7.333292e-02</td>\n",
              "      <td>0.080052</td>\n",
              "      <td>1</td>\n",
              "      <td>Iter</td>\n",
              "      <td>NaN</td>\n",
              "      <td>COMPLETE</td>\n",
              "    </tr>\n",
              "  </tbody>\n",
              "</table>\n",
              "</div>\n",
              "      <button class=\"colab-df-convert\" onclick=\"convertToInteractive('df-eb71fd1f-ec1f-4f91-8e4e-b6f362504867')\"\n",
              "              title=\"Convert this dataframe to an interactive table.\"\n",
              "              style=\"display:none;\">\n",
              "        \n",
              "  <svg xmlns=\"http://www.w3.org/2000/svg\" height=\"24px\"viewBox=\"0 0 24 24\"\n",
              "       width=\"24px\">\n",
              "    <path d=\"M0 0h24v24H0V0z\" fill=\"none\"/>\n",
              "    <path d=\"M18.56 5.44l.94 2.06.94-2.06 2.06-.94-2.06-.94-.94-2.06-.94 2.06-2.06.94zm-11 1L8.5 8.5l.94-2.06 2.06-.94-2.06-.94L8.5 2.5l-.94 2.06-2.06.94zm10 10l.94 2.06.94-2.06 2.06-.94-2.06-.94-.94-2.06-.94 2.06-2.06.94z\"/><path d=\"M17.41 7.96l-1.37-1.37c-.4-.4-.92-.59-1.43-.59-.52 0-1.04.2-1.43.59L10.3 9.45l-7.72 7.72c-.78.78-.78 2.05 0 2.83L4 21.41c.39.39.9.59 1.41.59.51 0 1.02-.2 1.41-.59l7.78-7.78 2.81-2.81c.8-.78.8-2.07 0-2.86zM5.41 20L4 18.59l7.72-7.72 1.47 1.35L5.41 20z\"/>\n",
              "  </svg>\n",
              "      </button>\n",
              "      \n",
              "  <style>\n",
              "    .colab-df-container {\n",
              "      display:flex;\n",
              "      flex-wrap:wrap;\n",
              "      gap: 12px;\n",
              "    }\n",
              "\n",
              "    .colab-df-convert {\n",
              "      background-color: #E8F0FE;\n",
              "      border: none;\n",
              "      border-radius: 50%;\n",
              "      cursor: pointer;\n",
              "      display: none;\n",
              "      fill: #1967D2;\n",
              "      height: 32px;\n",
              "      padding: 0 0 0 0;\n",
              "      width: 32px;\n",
              "    }\n",
              "\n",
              "    .colab-df-convert:hover {\n",
              "      background-color: #E2EBFA;\n",
              "      box-shadow: 0px 1px 2px rgba(60, 64, 67, 0.3), 0px 1px 3px 1px rgba(60, 64, 67, 0.15);\n",
              "      fill: #174EA6;\n",
              "    }\n",
              "\n",
              "    [theme=dark] .colab-df-convert {\n",
              "      background-color: #3B4455;\n",
              "      fill: #D2E3FC;\n",
              "    }\n",
              "\n",
              "    [theme=dark] .colab-df-convert:hover {\n",
              "      background-color: #434B5C;\n",
              "      box-shadow: 0px 1px 3px 1px rgba(0, 0, 0, 0.15);\n",
              "      filter: drop-shadow(0px 1px 2px rgba(0, 0, 0, 0.3));\n",
              "      fill: #FFFFFF;\n",
              "    }\n",
              "  </style>\n",
              "\n",
              "      <script>\n",
              "        const buttonEl =\n",
              "          document.querySelector('#df-eb71fd1f-ec1f-4f91-8e4e-b6f362504867 button.colab-df-convert');\n",
              "        buttonEl.style.display =\n",
              "          google.colab.kernel.accessAllowed ? 'block' : 'none';\n",
              "\n",
              "        async function convertToInteractive(key) {\n",
              "          const element = document.querySelector('#df-eb71fd1f-ec1f-4f91-8e4e-b6f362504867');\n",
              "          const dataTable =\n",
              "            await google.colab.kernel.invokeFunction('convertToInteractive',\n",
              "                                                     [key], {});\n",
              "          if (!dataTable) return;\n",
              "\n",
              "          const docLinkHtml = 'Like what you see? Visit the ' +\n",
              "            '<a target=\"_blank\" href=https://colab.research.google.com/notebooks/data_table.ipynb>data table notebook</a>'\n",
              "            + ' to learn more about interactive tables.';\n",
              "          element.innerHTML = '';\n",
              "          dataTable['output_type'] = 'display_data';\n",
              "          await google.colab.output.renderOutput(dataTable, element);\n",
              "          const docLink = document.createElement('div');\n",
              "          docLink.innerHTML = docLinkHtml;\n",
              "          element.appendChild(docLink);\n",
              "        }\n",
              "      </script>\n",
              "    </div>\n",
              "  </div>\n",
              "  "
            ]
          },
          "metadata": {},
          "execution_count": 15
        }
      ],
      "source": [
        "# 튜닝 결과 시각화\n",
        "catboostoptuna_reg.visualize()"
      ]
    },
    {
      "cell_type": "markdown",
      "id": "f4b65391",
      "metadata": {
        "id": "f4b65391"
      },
      "source": [
        "## XGBoost"
      ]
    },
    {
      "cell_type": "markdown",
      "id": "04662943",
      "metadata": {
        "id": "04662943"
      },
      "source": [
        "### 이진분류(binary classification)"
      ]
    },
    {
      "cell_type": "code",
      "execution_count": null,
      "id": "2a40a99c",
      "metadata": {
        "id": "2a40a99c",
        "outputId": "7ddfdd06-ff0b-40c6-cbee-3693c3560af6",
        "colab": {
          "base_uri": "https://localhost:8080/"
        }
      },
      "outputs": [
        {
          "output_type": "stream",
          "name": "stderr",
          "text": [
            "\u001b[32m[I 2022-12-29 09:14:56,089]\u001b[0m A new study created in memory with name: no-name-30381ae1-579f-499c-8614-b6b7c7db921f\u001b[0m\n"
          ]
        },
        {
          "output_type": "stream",
          "name": "stdout",
          "text": [
            "metric type: f1, score: 0.08829\n",
            "metric type: f1, score: 0.16667\n",
            "metric type: f1, score: 0.06667\n"
          ]
        },
        {
          "output_type": "stream",
          "name": "stderr",
          "text": [
            "\u001b[32m[I 2022-12-29 09:14:57,195]\u001b[0m Trial 0 finished with value: 0.1015404415404415 and parameters: {'lambda': 0.001997388231849061, 'alpha': 0.0006132805599297649, 'colsample_bytree': 0.7642155856174857, 'subsample': 0.5266229668726202, 'learning_rate': 0.0006640778583932129, 'n_estimators': 667, 'max_depth': 30, 'min_child_weight': 33}. Best is trial 0 with value: 0.1015404415404415.\u001b[0m\n"
          ]
        },
        {
          "output_type": "stream",
          "name": "stdout",
          "text": [
            "metric type: f1, score: 0.13846\n",
            "metric type: f1, score: 0.04762\n",
            "metric type: f1, score: 0.08829\n",
            "metric type: f1, score: 0.16667\n",
            "metric type: f1, score: 0.06667\n"
          ]
        },
        {
          "output_type": "stream",
          "name": "stderr",
          "text": [
            "\u001b[32m[I 2022-12-29 09:14:57,717]\u001b[0m Trial 1 finished with value: 0.10718146718146715 and parameters: {'lambda': 0.0001341468272216203, 'alpha': 0.0005128767714703468, 'colsample_bytree': 0.5899542564007023, 'subsample': 0.6631681207047757, 'learning_rate': 0.0001350596986692828, 'n_estimators': 2477, 'max_depth': 30, 'min_child_weight': 245}. Best is trial 1 with value: 0.10718146718146715.\u001b[0m\n"
          ]
        },
        {
          "output_type": "stream",
          "name": "stdout",
          "text": [
            "metric type: f1, score: 0.16667\n",
            "metric type: f1, score: 0.04762\n",
            "metric type: f1, score: 0.08829\n",
            "metric type: f1, score: 0.13846\n",
            "metric type: f1, score: 0.06667\n",
            "metric type: f1, score: 0.13846\n"
          ]
        },
        {
          "output_type": "stream",
          "name": "stderr",
          "text": [
            "\u001b[32m[I 2022-12-29 09:14:58,132]\u001b[0m Trial 2 finished with value: 0.09589941589941589 and parameters: {'lambda': 0.4738177610556752, 'alpha': 0.004144571311046486, 'colsample_bytree': 0.8913967246468639, 'subsample': 0.8785923888618219, 'learning_rate': 0.0004391753034763145, 'n_estimators': 4365, 'max_depth': 15, 'min_child_weight': 189}. Best is trial 1 with value: 0.10718146718146715.\u001b[0m\n"
          ]
        },
        {
          "output_type": "stream",
          "name": "stdout",
          "text": [
            "metric type: f1, score: 0.04762\n",
            "saving model...models/XGBClassifier-0.10718.npy\n"
          ]
        },
        {
          "output_type": "execute_result",
          "data": {
            "text/plain": [
              "0.3333333333333333"
            ]
          },
          "metadata": {},
          "execution_count": 17
        }
      ],
      "source": [
        "xgboptuna = models.XGBClassifierOptuna(use_gpu=False)\n",
        "        \n",
        "params, preds = xgboptuna.optimize(iris_df.drop('target', 1), \n",
        "                                   iris_df['target'], \n",
        "                                   test_data=iris_df.drop('target', 1),\n",
        "                                   seed=321,\n",
        "                                   eval_metric='f1', n_trials=3)\n",
        "\n",
        "(preds == iris_df['target']).mean()"
      ]
    },
    {
      "cell_type": "markdown",
      "id": "a8f4c2c2",
      "metadata": {
        "id": "a8f4c2c2"
      },
      "source": [
        "### 다중분류(multi-class classification)"
      ]
    },
    {
      "cell_type": "code",
      "execution_count": null,
      "id": "b5738fb0",
      "metadata": {
        "scrolled": true,
        "id": "b5738fb0",
        "outputId": "a648790c-7663-475d-e8d9-cd92a70185d0",
        "colab": {
          "base_uri": "https://localhost:8080/"
        }
      },
      "outputs": [
        {
          "output_type": "stream",
          "name": "stderr",
          "text": [
            "\u001b[32m[I 2022-12-29 09:15:00,938]\u001b[0m A new study created in memory with name: no-name-eb6ffa9c-3dc4-4117-8082-50da39c73491\u001b[0m\n"
          ]
        },
        {
          "output_type": "stream",
          "name": "stdout",
          "text": [
            "metric type: accuracy, score: 0.59649\n",
            "metric type: accuracy, score: 0.69298\n",
            "metric type: accuracy, score: 0.62281\n",
            "metric type: accuracy, score: 0.63158\n"
          ]
        },
        {
          "output_type": "stream",
          "name": "stderr",
          "text": [
            "\u001b[32m[I 2022-12-29 09:15:25,517]\u001b[0m Trial 0 finished with value: 0.6273560006210216 and parameters: {'lambda': 1.2413682640115096e-05, 'alpha': 0.030900183378150283, 'colsample_bytree': 0.6771700662771362, 'subsample': 0.7058559286075331, 'learning_rate': 0.0003092386008034649, 'n_estimators': 2152, 'max_depth': 27, 'min_child_weight': 130}. Best is trial 0 with value: 0.6273560006210216.\u001b[0m\n"
          ]
        },
        {
          "output_type": "stream",
          "name": "stdout",
          "text": [
            "metric type: accuracy, score: 0.59292\n",
            "metric type: accuracy, score: 0.90351\n",
            "metric type: accuracy, score: 0.95614\n",
            "metric type: accuracy, score: 0.94737\n",
            "metric type: accuracy, score: 0.91228\n"
          ]
        },
        {
          "output_type": "stream",
          "name": "stderr",
          "text": [
            "\u001b[32m[I 2022-12-29 09:15:33,822]\u001b[0m Trial 1 finished with value: 0.9297003570874087 and parameters: {'lambda': 5.8073997524807416e-05, 'alpha': 0.000328992736353654, 'colsample_bytree': 0.553033500880707, 'subsample': 0.885698064381888, 'learning_rate': 0.00383230058859935, 'n_estimators': 4096, 'max_depth': 11, 'min_child_weight': 45}. Best is trial 1 with value: 0.9297003570874087.\u001b[0m\n"
          ]
        },
        {
          "output_type": "stream",
          "name": "stdout",
          "text": [
            "metric type: accuracy, score: 0.92920\n",
            "metric type: accuracy, score: 0.57895\n",
            "metric type: accuracy, score: 0.67544\n",
            "metric type: accuracy, score: 0.64035\n",
            "metric type: accuracy, score: 0.66667\n"
          ]
        },
        {
          "output_type": "stream",
          "name": "stderr",
          "text": [
            "\u001b[32m[I 2022-12-29 09:15:57,096]\u001b[0m Trial 2 finished with value: 0.6273249495419966 and parameters: {'lambda': 0.027291097288808318, 'alpha': 0.00010582047198008938, 'colsample_bytree': 0.5328067308903317, 'subsample': 0.8031408333573117, 'learning_rate': 0.00010115009540749037, 'n_estimators': 3430, 'max_depth': 27, 'min_child_weight': 120}. Best is trial 1 with value: 0.9297003570874087.\u001b[0m\n"
          ]
        },
        {
          "output_type": "stream",
          "name": "stdout",
          "text": [
            "metric type: accuracy, score: 0.57522\n",
            "saving model...models/XGBClassifier-0.92970.npy\n"
          ]
        },
        {
          "output_type": "execute_result",
          "data": {
            "text/plain": [
              "0.8646748681898067"
            ]
          },
          "metadata": {},
          "execution_count": 18
        }
      ],
      "source": [
        "xgboptuna_binary = models.XGBClassifierOptuna(use_gpu=False)\n",
        "        \n",
        "params, preds = xgboptuna_binary.optimize(cancer_df.drop('target', 1), \n",
        "                                          cancer_df['target'], \n",
        "                                          test_data=cancer_df.drop('target', 1), \n",
        "                                          eval_metric='accuracy', n_trials=3)\n",
        "\n",
        "(preds == cancer_df['target']).mean()"
      ]
    },
    {
      "cell_type": "markdown",
      "id": "bdc3d820",
      "metadata": {
        "id": "bdc3d820"
      },
      "source": [
        "### 회귀(regression)"
      ]
    },
    {
      "cell_type": "code",
      "execution_count": null,
      "id": "13c4cc7a",
      "metadata": {
        "id": "13c4cc7a",
        "outputId": "8ccb9e18-d498-46db-b846-311a01175160",
        "colab": {
          "base_uri": "https://localhost:8080/"
        }
      },
      "outputs": [
        {
          "output_type": "stream",
          "name": "stderr",
          "text": [
            "\u001b[32m[I 2022-12-29 09:16:57,639]\u001b[0m A new study created in memory with name: no-name-ae7a00e6-92f7-41d2-b5c0-acbcf2f46d53\u001b[0m\n"
          ]
        },
        {
          "output_type": "stream",
          "name": "stdout",
          "text": [
            "error type: mse, error: 53.60435\n",
            "error type: mse, error: 92.34599\n",
            "error type: mse, error: 99.80514\n",
            "error type: mse, error: 87.34863\n"
          ]
        },
        {
          "output_type": "stream",
          "name": "stderr",
          "text": [
            "\u001b[32m[I 2022-12-29 09:17:13,722]\u001b[0m Trial 0 finished with value: 84.4422455786637 and parameters: {'lambda': 0.7635246861751053, 'alpha': 0.0031490611875899005, 'colsample_bytree': 0.8705756780009448, 'subsample': 0.8759323931606535, 'learning_rate': 0.002118437275978508, 'n_estimators': 3830, 'max_depth': 6, 'min_child_weight': 213}. Best is trial 0 with value: 84.4422455786637.\u001b[0m\n"
          ]
        },
        {
          "output_type": "stream",
          "name": "stdout",
          "text": [
            "error type: mse, error: 89.10712\n",
            "error type: mse, error: 113.74239\n",
            "error type: mse, error: 197.72973\n",
            "error type: mse, error: 129.61431\n",
            "error type: mse, error: 107.41140\n"
          ]
        },
        {
          "output_type": "stream",
          "name": "stderr",
          "text": [
            "\u001b[32m[I 2022-12-29 09:17:35,275]\u001b[0m Trial 1 finished with value: 144.85258270621802 and parameters: {'lambda': 0.03437630049838279, 'alpha': 0.00018414872645525245, 'colsample_bytree': 0.8630890292344646, 'subsample': 0.551387281694677, 'learning_rate': 0.00034872348268562915, 'n_estimators': 419, 'max_depth': 16, 'min_child_weight': 137}. Best is trial 0 with value: 84.4422455786637.\u001b[0m\n"
          ]
        },
        {
          "output_type": "stream",
          "name": "stdout",
          "text": [
            "error type: mse, error: 175.76509\n",
            "error type: mse, error: 484.68630\n",
            "error type: mse, error: 534.23987\n",
            "error type: mse, error: 513.40338\n",
            "error type: mse, error: 446.41880\n"
          ]
        },
        {
          "output_type": "stream",
          "name": "stderr",
          "text": [
            "\u001b[32m[I 2022-12-29 09:17:57,241]\u001b[0m Trial 2 finished with value: 483.1852927076376 and parameters: {'lambda': 0.0005758862991605531, 'alpha': 0.034543622027623705, 'colsample_bytree': 0.5415550556820339, 'subsample': 0.5537703008151961, 'learning_rate': 3.1901659384450854e-05, 'n_estimators': 2690, 'max_depth': 28, 'min_child_weight': 113}. Best is trial 0 with value: 84.4422455786637.\u001b[0m\n"
          ]
        },
        {
          "output_type": "stream",
          "name": "stdout",
          "text": [
            "error type: mse, error: 437.17812\n",
            "[09:17:57] WARNING: /workspace/src/objective/regression_obj.cu:152: reg:linear is now deprecated in favor of reg:squarederror.\n",
            "saving model...models/XGBRegressor-84.44225.npy\n"
          ]
        },
        {
          "output_type": "execute_result",
          "data": {
            "text/plain": [
              "84.43627046555166"
            ]
          },
          "metadata": {},
          "execution_count": 19
        }
      ],
      "source": [
        "xgboptuna_reg = models.XGBRegressorOptuna()\n",
        "        \n",
        "params, preds = xgboptuna_reg.optimize(boston_df.drop('target', 1), \n",
        "                                       boston_df['target'], \n",
        "                                       test_data=boston_df.drop('target', 1), \n",
        "                                       eval_metric='mse', n_trials=3)\n",
        "\n",
        "mean_squared_error(boston_df['target'], preds)"
      ]
    },
    {
      "cell_type": "markdown",
      "id": "ebf4a303",
      "metadata": {
        "id": "ebf4a303"
      },
      "source": [
        "## LGBM"
      ]
    },
    {
      "cell_type": "markdown",
      "id": "7d24468e",
      "metadata": {
        "id": "7d24468e"
      },
      "source": [
        "### 이진분류(binary classification)"
      ]
    },
    {
      "cell_type": "code",
      "execution_count": null,
      "id": "a27eb1cd",
      "metadata": {
        "id": "a27eb1cd",
        "outputId": "58a486d5-89be-43d4-d2f8-bd41425605e6",
        "colab": {
          "base_uri": "https://localhost:8080/"
        }
      },
      "outputs": [
        {
          "output_type": "stream",
          "name": "stderr",
          "text": [
            "\u001b[32m[I 2022-12-29 09:17:59,660]\u001b[0m A new study created in memory with name: no-name-c14a21dd-6289-4a6c-b9c2-625ac6369216\u001b[0m\n"
          ]
        },
        {
          "output_type": "stream",
          "name": "stdout",
          "text": [
            "Training until validation scores don't improve for 30 rounds.\n",
            "Early stopping, best iteration is:\n",
            "[1]\ttraining's binary_logloss: 0.662971\ttraining's score: 0.621978\tvalid_1's binary_logloss: 0.64947\tvalid_1's score: 0.649123\n",
            "metric type: accuracy, score: 0.64912\n",
            "Training until validation scores don't improve for 30 rounds.\n",
            "Early stopping, best iteration is:\n",
            "[1]\ttraining's binary_logloss: 0.667191\ttraining's score: 0.613187\tvalid_1's binary_logloss: 0.634472\tvalid_1's score: 0.684211\n",
            "metric type: accuracy, score: 0.68421\n",
            "Training until validation scores don't improve for 30 rounds.\n",
            "Early stopping, best iteration is:\n",
            "[1]\ttraining's binary_logloss: 0.65604\ttraining's score: 0.635165\tvalid_1's binary_logloss: 0.677486\tvalid_1's score: 0.596491\n",
            "metric type: accuracy, score: 0.59649\n",
            "Training until validation scores don't improve for 30 rounds.\n",
            "Early stopping, best iteration is:\n",
            "[1]\ttraining's binary_logloss: 0.654814\ttraining's score: 0.637363\tvalid_1's binary_logloss: 0.682801\tvalid_1's score: 0.587719\n"
          ]
        },
        {
          "output_type": "stream",
          "name": "stderr",
          "text": [
            "\u001b[32m[I 2022-12-29 09:17:59,879]\u001b[0m Trial 0 finished with value: 0.6274025772395592 and parameters: {'lambda_l1': 4.595642532463337e-05, 'lambda_l2': 4.871147705405551e-06, 'path_smooth': 2.132089812428851e-08, 'learning_rate': 0.00016017208935090687, 'feature_fraction': 0.6721675485445667, 'bagging_fraction': 0.5525546970317589, 'num_leaves': 15, 'min_data_in_leaf': 91, 'max_bin': 136, 'n_estimators': 174, 'bagging_freq': 8, 'min_child_weight': 15}. Best is trial 0 with value: 0.6274025772395592.\u001b[0m\n"
          ]
        },
        {
          "output_type": "stream",
          "name": "stdout",
          "text": [
            "metric type: accuracy, score: 0.58772\n",
            "Training until validation scores don't improve for 30 rounds.\n",
            "Early stopping, best iteration is:\n",
            "[1]\ttraining's binary_logloss: 0.659178\ttraining's score: 0.629386\tvalid_1's binary_logloss: 0.664422\tvalid_1's score: 0.619469\n",
            "metric type: accuracy, score: 0.61947\n",
            "Training until validation scores don't improve for 30 rounds.\n",
            "Early stopping, best iteration is:\n",
            "[1]\ttraining's binary_logloss: 0.661964\ttraining's score: 0.624176\tvalid_1's binary_logloss: 0.653758\tvalid_1's score: 0.640351\n",
            "metric type: accuracy, score: 0.64035\n",
            "Training until validation scores don't improve for 30 rounds.\n",
            "Early stopping, best iteration is:\n",
            "[1]\ttraining's binary_logloss: 0.654901\ttraining's score: 0.637363\tvalid_1's binary_logloss: 0.682896\tvalid_1's score: 0.587719\n",
            "metric type: accuracy, score: 0.58772\n",
            "Training until validation scores don't improve for 30 rounds.\n",
            "Early stopping, best iteration is:\n",
            "[1]\ttraining's binary_logloss: 0.658525\ttraining's score: 0.630769\tvalid_1's binary_logloss: 0.667489\tvalid_1's score: 0.614035\n",
            "metric type: accuracy, score: 0.61404\n",
            "Training until validation scores don't improve for 30 rounds.\n",
            "Early stopping, best iteration is:\n",
            "[1]\ttraining's binary_logloss: 0.661963\ttraining's score: 0.624176\tvalid_1's binary_logloss: 0.65376\tvalid_1's score: 0.640351\n",
            "metric type: accuracy, score: 0.64035\n",
            "Training until validation scores don't improve for 30 rounds.\n"
          ]
        },
        {
          "output_type": "stream",
          "name": "stderr",
          "text": [
            "\u001b[32m[I 2022-12-29 09:18:00,150]\u001b[0m Trial 1 finished with value: 0.6274646793976091 and parameters: {'lambda_l1': 0.006204017854053708, 'lambda_l2': 0.6166727012607798, 'path_smooth': 0.0006456447868947258, 'learning_rate': 2.5445778619417826e-05, 'feature_fraction': 0.884989593521972, 'bagging_fraction': 0.8085943157981701, 'num_leaves': 65, 'min_data_in_leaf': 18, 'max_bin': 216, 'n_estimators': 1450, 'bagging_freq': 2, 'min_child_weight': 6}. Best is trial 1 with value: 0.6274646793976091.\u001b[0m\n"
          ]
        },
        {
          "output_type": "stream",
          "name": "stdout",
          "text": [
            "Early stopping, best iteration is:\n",
            "[1]\ttraining's binary_logloss: 0.663743\ttraining's score: 0.620614\tvalid_1's binary_logloss: 0.646886\tvalid_1's score: 0.654867\n",
            "metric type: accuracy, score: 0.65487\n",
            "Training until validation scores don't improve for 30 rounds.\n",
            "Early stopping, best iteration is:\n",
            "[1]\ttraining's binary_logloss: 0.652512\ttraining's score: 0.632967\tvalid_1's binary_logloss: 0.667747\tvalid_1's score: 0.605263\n",
            "metric type: accuracy, score: 0.60526\n",
            "Training until validation scores don't improve for 30 rounds.\n",
            "Early stopping, best iteration is:\n",
            "[1]\ttraining's binary_logloss: 0.657031\ttraining's score: 0.624176\tvalid_1's binary_logloss: 0.649213\tvalid_1's score: 0.640351\n",
            "metric type: accuracy, score: 0.64035\n",
            "Training until validation scores don't improve for 30 rounds.\n",
            "Early stopping, best iteration is:\n",
            "[1]\ttraining's binary_logloss: 0.648844\ttraining's score: 0.63956\tvalid_1's binary_logloss: 0.68321\tvalid_1's score: 0.578947\n",
            "metric type: accuracy, score: 0.57895\n",
            "Training until validation scores don't improve for 30 rounds.\n",
            "Early stopping, best iteration is:\n",
            "[1]\ttraining's binary_logloss: 0.658262\ttraining's score: 0.621978\tvalid_1's binary_logloss: 0.644859\tvalid_1's score: 0.649123\n",
            "metric type: accuracy, score: 0.64912\n"
          ]
        },
        {
          "output_type": "stream",
          "name": "stderr",
          "text": [
            "\u001b[32m[I 2022-12-29 09:18:00,385]\u001b[0m Trial 2 finished with value: 0.6274802049371215 and parameters: {'lambda_l1': 3.2735035295480926e-06, 'lambda_l2': 2.653937126026768e-06, 'path_smooth': 1.963247188884402e-06, 'learning_rate': 0.006562765507047732, 'feature_fraction': 0.8017540250821625, 'bagging_fraction': 0.8901809067407016, 'num_leaves': 63, 'min_data_in_leaf': 69, 'max_bin': 207, 'n_estimators': 2766, 'bagging_freq': 1, 'min_child_weight': 7}. Best is trial 2 with value: 0.6274802049371215.\u001b[0m\n"
          ]
        },
        {
          "output_type": "stream",
          "name": "stdout",
          "text": [
            "Training until validation scores don't improve for 30 rounds.\n",
            "Early stopping, best iteration is:\n",
            "[1]\ttraining's binary_logloss: 0.659785\ttraining's score: 0.618421\tvalid_1's binary_logloss: 0.638887\tvalid_1's score: 0.663717\n",
            "metric type: accuracy, score: 0.66372\n",
            "saving model...models/LGBMClassifier-0.62748.npy\n"
          ]
        },
        {
          "output_type": "execute_result",
          "data": {
            "text/plain": [
              "0.984182776801406"
            ]
          },
          "metadata": {},
          "execution_count": 20
        }
      ],
      "source": [
        "lgbmoptuna_binary = models.LGBMClassifierOptuna()\n",
        "        \n",
        "params, preds = lgbmoptuna_binary.optimize(cancer_df.drop('target', 1), \n",
        "                                           cancer_df['target'], \n",
        "                                           test_data=cancer_df.drop('target', 1),\n",
        "                                           eval_metric='accuracy', n_trials=3)\n",
        "\n",
        "(preds == cancer_df['target']).mean()"
      ]
    },
    {
      "cell_type": "markdown",
      "id": "4e1fa3d0",
      "metadata": {
        "id": "4e1fa3d0"
      },
      "source": [
        "### 다중분류(multi-class classification)"
      ]
    },
    {
      "cell_type": "code",
      "execution_count": null,
      "id": "fdd14efd",
      "metadata": {
        "scrolled": true,
        "id": "fdd14efd",
        "outputId": "0ed3afca-f681-494d-d08b-98df4d6db6b5",
        "colab": {
          "base_uri": "https://localhost:8080/"
        }
      },
      "outputs": [
        {
          "output_type": "stream",
          "name": "stderr",
          "text": [
            "\u001b[32m[I 2022-12-29 09:18:00,881]\u001b[0m A new study created in memory with name: no-name-c582fc83-6a04-4285-8dd0-afa9c6f2873c\u001b[0m\n"
          ]
        },
        {
          "output_type": "stream",
          "name": "stdout",
          "text": [
            "Training until validation scores don't improve for 30 rounds.\n",
            "Early stopping, best iteration is:\n",
            "[5]\ttraining's multi_logloss: 1.0964\ttraining's score: 0.358333\tvalid_1's multi_logloss: 1.11515\tvalid_1's score: 0.433333\n",
            "metric type: recall, score: 0.23333\n",
            "Training until validation scores don't improve for 30 rounds.\n",
            "Early stopping, best iteration is:\n",
            "[1]\ttraining's multi_logloss: 1.09835\ttraining's score: 0.391667\tvalid_1's multi_logloss: 1.10043\tvalid_1's score: 0.266667\n",
            "metric type: recall, score: 0.30000\n",
            "Training until validation scores don't improve for 30 rounds.\n",
            "Early stopping, best iteration is:\n",
            "[1]\ttraining's multi_logloss: 1.09586\ttraining's score: 0.375\tvalid_1's multi_logloss: 1.12255\tvalid_1's score: 0.2\n",
            "metric type: recall, score: 0.20000\n",
            "Training until validation scores don't improve for 30 rounds.\n",
            "Early stopping, best iteration is:\n",
            "[11]\ttraining's multi_logloss: 1.09766\ttraining's score: 0.333333\tvalid_1's multi_logloss: 1.09978\tvalid_1's score: 0.4\n",
            "metric type: recall, score: 0.30000\n",
            "Training until validation scores don't improve for 30 rounds.\n"
          ]
        },
        {
          "output_type": "stream",
          "name": "stderr",
          "text": [
            "\u001b[32m[I 2022-12-29 09:18:01,294]\u001b[0m Trial 0 finished with value: 0.24000000000000005 and parameters: {'lambda_l1': 2.3535929325302383, 'lambda_l2': 0.008567351717265869, 'path_smooth': 0.00016181683657077886, 'learning_rate': 6.361102878608731e-05, 'feature_fraction': 0.8738901851917171, 'bagging_fraction': 0.7294948502560171, 'num_leaves': 75, 'min_data_in_leaf': 21, 'max_bin': 190, 'n_estimators': 1805, 'bagging_freq': 2, 'min_child_weight': 10}. Best is trial 0 with value: 0.24000000000000005.\u001b[0m\n"
          ]
        },
        {
          "output_type": "stream",
          "name": "stdout",
          "text": [
            "Early stopping, best iteration is:\n",
            "[1]\ttraining's multi_logloss: 1.09199\ttraining's score: 0.333333\tvalid_1's multi_logloss: 1.15819\tvalid_1's score: 0.4\n",
            "metric type: recall, score: 0.16667\n",
            "Training until validation scores don't improve for 30 rounds.\n",
            "Early stopping, best iteration is:\n",
            "[1]\ttraining's multi_logloss: 1.0986\ttraining's score: 0.333333\tvalid_1's multi_logloss: 1.13617\tvalid_1's score: 0.333333\n",
            "metric type: recall, score: 0.23333\n",
            "Training until validation scores don't improve for 30 rounds.\n",
            "Early stopping, best iteration is:\n",
            "[1]\ttraining's multi_logloss: 1.09861\ttraining's score: 0.341667\tvalid_1's multi_logloss: 1.10278\tvalid_1's score: 0.3\n",
            "metric type: recall, score: 0.30000\n",
            "Training until validation scores don't improve for 30 rounds.\n",
            "Early stopping, best iteration is:\n",
            "[1]\ttraining's multi_logloss: 1.09865\ttraining's score: 0.366667\tvalid_1's multi_logloss: 1.15202\tvalid_1's score: 0.2\n",
            "metric type: recall, score: 0.20000\n",
            "Training until validation scores don't improve for 30 rounds.\n"
          ]
        },
        {
          "output_type": "stream",
          "name": "stderr",
          "text": [
            "\u001b[32m[I 2022-12-29 09:18:01,661]\u001b[0m Trial 1 finished with value: 0.24000000000000005 and parameters: {'lambda_l1': 3.760470476637525e-05, 'lambda_l2': 0.027379296021520953, 'path_smooth': 7.08379720738119e-07, 'learning_rate': 0.0008683343434183733, 'feature_fraction': 0.8207101251014834, 'bagging_fraction': 0.5899219011052734, 'num_leaves': 69, 'min_data_in_leaf': 58, 'max_bin': 142, 'n_estimators': 1917, 'bagging_freq': 14, 'min_child_weight': 2}. Best is trial 0 with value: 0.24000000000000005.\u001b[0m\n"
          ]
        },
        {
          "output_type": "stream",
          "name": "stdout",
          "text": [
            "Early stopping, best iteration is:\n",
            "[1]\ttraining's multi_logloss: 1.09861\ttraining's score: 0.341667\tvalid_1's multi_logloss: 1.10278\tvalid_1's score: 0.3\n",
            "metric type: recall, score: 0.30000\n",
            "Training until validation scores don't improve for 30 rounds.\n",
            "Early stopping, best iteration is:\n",
            "[1]\ttraining's multi_logloss: 1.09833\ttraining's score: 0.283333\tvalid_1's multi_logloss: 1.23072\tvalid_1's score: 0.533333\n",
            "metric type: recall, score: 0.16667\n",
            "Training until validation scores don't improve for 30 rounds.\n",
            "Early stopping, best iteration is:\n",
            "[1]\ttraining's multi_logloss: 1.0986\ttraining's score: 0.333333\tvalid_1's multi_logloss: 1.13617\tvalid_1's score: 0.333333\n",
            "metric type: recall, score: 0.23333\n",
            "Training until validation scores don't improve for 30 rounds.\n",
            "Early stopping, best iteration is:\n",
            "[1]\ttraining's multi_logloss: 1.09861\ttraining's score: 0.341667\tvalid_1's multi_logloss: 1.10278\tvalid_1's score: 0.3\n",
            "metric type: recall, score: 0.30000\n",
            "Training until validation scores don't improve for 30 rounds.\n",
            "Early stopping, best iteration is:\n",
            "[1]\ttraining's multi_logloss: 1.09865\ttraining's score: 0.366667\tvalid_1's multi_logloss: 1.15202\tvalid_1's score: 0.2\n",
            "metric type: recall, score: 0.20000\n",
            "Training until validation scores don't improve for 30 rounds.\n",
            "Early stopping, best iteration is:\n",
            "[1]\ttraining's multi_logloss: 1.09861\ttraining's score: 0.341667\tvalid_1's multi_logloss: 1.10278\tvalid_1's score: 0.3\n",
            "metric type: recall, score: 0.30000\n",
            "Training until validation scores don't improve for 30 rounds.\n"
          ]
        },
        {
          "output_type": "stream",
          "name": "stderr",
          "text": [
            "\u001b[32m[I 2022-12-29 09:18:02,051]\u001b[0m Trial 2 finished with value: 0.24000000000000005 and parameters: {'lambda_l1': 0.00040788633657923463, 'lambda_l2': 0.5139457564836926, 'path_smooth': 3.3818590908878444e-08, 'learning_rate': 1.0512867547406974e-05, 'feature_fraction': 0.6775006827010839, 'bagging_fraction': 0.7898075669072202, 'num_leaves': 89, 'min_data_in_leaf': 49, 'max_bin': 238, 'n_estimators': 491, 'bagging_freq': 1, 'min_child_weight': 11}. Best is trial 0 with value: 0.24000000000000005.\u001b[0m\n"
          ]
        },
        {
          "output_type": "stream",
          "name": "stdout",
          "text": [
            "Early stopping, best iteration is:\n",
            "[1]\ttraining's multi_logloss: 1.09833\ttraining's score: 0.283333\tvalid_1's multi_logloss: 1.23072\tvalid_1's score: 0.533333\n",
            "metric type: recall, score: 0.16667\n"
          ]
        },
        {
          "output_type": "execute_result",
          "data": {
            "text/plain": [
              "0.0"
            ]
          },
          "metadata": {},
          "execution_count": 21
        }
      ],
      "source": [
        "lgbmoptuna = models.LGBMClassifierOptuna()\n",
        "        \n",
        "params, preds = lgbmoptuna.optimize(iris_df.drop('target', 1), \n",
        "                    iris_df['target'], \n",
        "                    seed=321,\n",
        "                    eval_metric='recall', n_trials=3)\n",
        "\n",
        "\n",
        "(preds == iris_df['target']).mean()"
      ]
    },
    {
      "cell_type": "markdown",
      "id": "e7224a3b",
      "metadata": {
        "scrolled": false,
        "id": "e7224a3b"
      },
      "source": [
        "### 회귀(regression)"
      ]
    },
    {
      "cell_type": "code",
      "execution_count": null,
      "id": "65c73e0c",
      "metadata": {
        "id": "65c73e0c",
        "outputId": "f7888006-20da-4da4-cd0e-74e6c061fd7d",
        "colab": {
          "base_uri": "https://localhost:8080/"
        }
      },
      "outputs": [
        {
          "output_type": "stream",
          "name": "stderr",
          "text": [
            "\u001b[32m[I 2022-12-29 09:18:02,073]\u001b[0m A new study created in memory with name: no-name-30121c32-b317-4bb5-b5a2-e0cdd63061d8\u001b[0m\n"
          ]
        },
        {
          "output_type": "stream",
          "name": "stdout",
          "text": [
            "Training until validation scores don't improve for 30 rounds.\n",
            "Did not meet early stopping. Best iteration is:\n",
            "[1709]\ttraining's l2: 37.034\ttraining's score: 37.034\tvalid_1's l2: 29.9855\tvalid_1's score: 29.9855\n",
            "error type: mse, error: 29.98554\n",
            "Training until validation scores don't improve for 30 rounds.\n",
            "Did not meet early stopping. Best iteration is:\n",
            "[1709]\ttraining's l2: 31.9411\ttraining's score: 31.9411\tvalid_1's l2: 52.88\tvalid_1's score: 52.88\n",
            "error type: mse, error: 52.88001\n",
            "Training until validation scores don't improve for 30 rounds.\n",
            "Did not meet early stopping. Best iteration is:\n",
            "[1709]\ttraining's l2: 35.9263\ttraining's score: 35.9263\tvalid_1's l2: 29.5901\tvalid_1's score: 29.5901\n",
            "error type: mse, error: 29.59012\n",
            "Training until validation scores don't improve for 30 rounds.\n",
            "Did not meet early stopping. Best iteration is:\n",
            "[1709]\ttraining's l2: 35.4721\ttraining's score: 35.4721\tvalid_1's l2: 37.1197\tvalid_1's score: 37.1197\n",
            "error type: mse, error: 37.11968\n",
            "Training until validation scores don't improve for 30 rounds.\n"
          ]
        },
        {
          "output_type": "stream",
          "name": "stderr",
          "text": [
            "\u001b[32m[I 2022-12-29 09:18:08,981]\u001b[0m Trial 0 finished with value: 37.12134099747261 and parameters: {'lambda_l1': 1.6920160712340157e-08, 'lambda_l2': 0.3121584304813956, 'path_smooth': 0.0005433919976498505, 'learning_rate': 0.0005108441186681401, 'feature_fraction': 0.7244640806269197, 'bagging_fraction': 0.7705110343972117, 'num_leaves': 42, 'min_data_in_leaf': 46, 'max_bin': 236, 'n_estimators': 1709, 'bagging_freq': 7, 'min_child_weight': 17}. Best is trial 0 with value: 37.12134099747261.\u001b[0m\n"
          ]
        },
        {
          "output_type": "stream",
          "name": "stdout",
          "text": [
            "Did not meet early stopping. Best iteration is:\n",
            "[1709]\ttraining's l2: 35.1082\ttraining's score: 35.1082\tvalid_1's l2: 36.0314\tvalid_1's score: 36.0314\n",
            "error type: mse, error: 36.03135\n",
            "Training until validation scores don't improve for 30 rounds.\n",
            "Did not meet early stopping. Best iteration is:\n",
            "[2881]\ttraining's l2: 75.2725\ttraining's score: 75.2725\tvalid_1's l2: 60.7196\tvalid_1's score: 60.7196\n",
            "error type: mse, error: 60.71961\n",
            "Training until validation scores don't improve for 30 rounds.\n",
            "Did not meet early stopping. Best iteration is:\n",
            "[2881]\ttraining's l2: 75.3598\ttraining's score: 75.3598\tvalid_1's l2: 61.2104\tvalid_1's score: 61.2104\n",
            "error type: mse, error: 61.21044\n",
            "Training until validation scores don't improve for 30 rounds.\n",
            "Did not meet early stopping. Best iteration is:\n",
            "[2881]\ttraining's l2: 73.989\ttraining's score: 73.989\tvalid_1's l2: 67.8801\tvalid_1's score: 67.8801\n",
            "error type: mse, error: 67.88007\n",
            "Training until validation scores don't improve for 30 rounds.\n",
            "Did not meet early stopping. Best iteration is:\n",
            "[2881]\ttraining's l2: 66.7742\ttraining's score: 66.7742\tvalid_1's l2: 99.1477\tvalid_1's score: 99.1477\n",
            "error type: mse, error: 99.14775\n",
            "Training until validation scores don't improve for 30 rounds.\n"
          ]
        },
        {
          "output_type": "stream",
          "name": "stderr",
          "text": [
            "\u001b[32m[I 2022-12-29 09:18:21,044]\u001b[0m Trial 1 finished with value: 73.41621480687674 and parameters: {'lambda_l1': 3.0027719552771627e-05, 'lambda_l2': 8.163835722554557e-08, 'path_smooth': 3.859678822007846e-08, 'learning_rate': 3.968029869948861e-05, 'feature_fraction': 0.8779071970478933, 'bagging_fraction': 0.6087878515039717, 'num_leaves': 47, 'min_data_in_leaf': 33, 'max_bin': 209, 'n_estimators': 2881, 'bagging_freq': 1, 'min_child_weight': 18}. Best is trial 0 with value: 37.12134099747261.\u001b[0m\n"
          ]
        },
        {
          "output_type": "stream",
          "name": "stdout",
          "text": [
            "Did not meet early stopping. Best iteration is:\n",
            "[2881]\ttraining's l2: 71.44\ttraining's score: 71.44\tvalid_1's l2: 78.1232\tvalid_1's score: 78.1232\n",
            "error type: mse, error: 78.12321\n",
            "Training until validation scores don't improve for 30 rounds.\n",
            "Early stopping, best iteration is:\n",
            "[484]\ttraining's l2: 14.7942\ttraining's score: 14.7942\tvalid_1's l2: 20.0686\tvalid_1's score: 20.0686\n",
            "error type: mse, error: 20.06863\n",
            "Training until validation scores don't improve for 30 rounds.\n",
            "Did not meet early stopping. Best iteration is:\n",
            "[551]\ttraining's l2: 14.1071\ttraining's score: 14.1071\tvalid_1's l2: 21.6504\tvalid_1's score: 21.6504\n",
            "error type: mse, error: 21.65038\n",
            "Training until validation scores don't improve for 30 rounds.\n",
            "Did not meet early stopping. Best iteration is:\n",
            "[551]\ttraining's l2: 13.7774\ttraining's score: 13.7774\tvalid_1's l2: 19.08\tvalid_1's score: 19.08\n",
            "error type: mse, error: 19.07996\n",
            "Training until validation scores don't improve for 30 rounds.\n",
            "Did not meet early stopping. Best iteration is:\n",
            "[551]\ttraining's l2: 14.4355\ttraining's score: 14.4355\tvalid_1's l2: 18.5806\tvalid_1's score: 18.5806\n",
            "error type: mse, error: 18.58056\n",
            "Training until validation scores don't improve for 30 rounds.\n"
          ]
        },
        {
          "output_type": "stream",
          "name": "stderr",
          "text": [
            "\u001b[32m[I 2022-12-29 09:18:23,201]\u001b[0m Trial 2 finished with value: 19.899965059769222 and parameters: {'lambda_l1': 0.0006948134857875728, 'lambda_l2': 1.816559704151923e-08, 'path_smooth': 9.091897723940985e-06, 'learning_rate': 0.023874159548122453, 'feature_fraction': 0.8700281555072255, 'bagging_fraction': 0.6519540223204592, 'num_leaves': 32, 'min_data_in_leaf': 57, 'max_bin': 189, 'n_estimators': 551, 'bagging_freq': 1, 'min_child_weight': 15}. Best is trial 2 with value: 19.899965059769222.\u001b[0m\n"
          ]
        },
        {
          "output_type": "stream",
          "name": "stdout",
          "text": [
            "Did not meet early stopping. Best iteration is:\n",
            "[551]\ttraining's l2: 14.4414\ttraining's score: 14.4414\tvalid_1's l2: 20.1203\tvalid_1's score: 20.1203\n",
            "error type: mse, error: 20.12029\n",
            "saving model...models/LGBMRegressor-19.89997.npy\n"
          ]
        },
        {
          "output_type": "execute_result",
          "data": {
            "text/plain": [
              "17.11354253780762"
            ]
          },
          "metadata": {},
          "execution_count": 22
        }
      ],
      "source": [
        "lgbmoptuna_reg = models.LGBMRegressorOptuna()\n",
        "        \n",
        "params, preds = lgbmoptuna_reg.optimize(boston_df.drop('target', 1), \n",
        "                                        boston_df['target'], \n",
        "                                        test_data=boston_df.drop('target', 1), \n",
        "                                        eval_metric='mse', n_trials=3)\n",
        "\n",
        "mean_squared_error(boston_df['target'], preds)"
      ]
    },
    {
      "cell_type": "markdown",
      "id": "98048f83",
      "metadata": {
        "id": "98048f83"
      },
      "source": [
        "## 하이퍼파라미터 범위 수정 (custom)"
      ]
    },
    {
      "cell_type": "code",
      "execution_count": null,
      "id": "d5e056be",
      "metadata": {
        "id": "d5e056be",
        "outputId": "ccaa5c86-7e91-4c81-94b9-8ccee872d35d",
        "colab": {
          "base_uri": "https://localhost:8080/"
        }
      },
      "outputs": [
        {
          "output_type": "stream",
          "name": "stdout",
          "text": [
            "name: verbose, fixed_value: -1, type: fixed\n",
            "name: lambda_l1, low: 1e-08, high: 5, type: loguniform\n",
            "name: lambda_l2, low: 1e-08, high: 5, type: loguniform\n",
            "name: path_smooth, low: 1e-08, high: 0.001, type: loguniform\n",
            "name: learning_rate, low: 1e-05, high: 0.1, type: loguniform\n",
            "name: feature_fraction, low: 0.5, high: 0.9, type: uniform\n",
            "name: bagging_fraction, low: 0.5, high: 0.9, type: uniform\n",
            "name: num_leaves, low: 15, high: 90, type: int\n",
            "name: min_data_in_leaf, low: 10, high: 100, type: int\n",
            "name: max_bin, low: 100, high: 255, type: int\n",
            "name: n_estimators, low: 100, high: 3000, type: int\n",
            "name: bagging_freq, low: 0, high: 15, type: int\n",
            "name: min_child_weight, low: 1, high: 20, type: int\n"
          ]
        }
      ],
      "source": [
        "lgbmoptuna = models.LGBMRegressorOptuna()\n",
        "\n",
        "# 기본 값으로 설정된 하이퍼파라미터 출력\n",
        "lgbmoptuna.print_params()"
      ]
    },
    {
      "cell_type": "markdown",
      "id": "d5f8482c",
      "metadata": {
        "id": "d5f8482c"
      },
      "source": [
        "**`param_type`에 관하여**\n",
        "\n",
        "`param_type`은 `int`, `uniform`, `loguniform`, `categorical`, `fixed` 가 있습니다.\n",
        "\n",
        "- `int`, `uniform`, `loguniform`은 optuna의 search range 정의하는 파라미터와 같습니다.\n",
        "\n",
        "```\n",
        "예시)\n",
        "- int 범위(int)\n",
        "lgbmoptuna.set_param(models.OptunaParam('num_leaves', low=10, high=25, param_type='int'))\n",
        "\n",
        "- 카테고리(categorical)\n",
        "cboptuna.set_param(models.OptunaParam('bootstrap_type', categorical_value=['Bayesian', 'Bernoulli', 'MVS'], param_type='categorical'))\n",
        "\n",
        "- 고정된 값(fixed)\n",
        "cboptuna.set_param(models.OptunaParam('one_hot_max_size', fixed_value=1024, param_type='fixed'))\n",
        "```"
      ]
    },
    {
      "cell_type": "code",
      "execution_count": null,
      "id": "3e5861f0",
      "metadata": {
        "id": "3e5861f0",
        "outputId": "49526119-d3fe-450d-b8ee-f774fc4504c1",
        "colab": {
          "base_uri": "https://localhost:8080/"
        }
      },
      "outputs": [
        {
          "output_type": "stream",
          "name": "stdout",
          "text": [
            "name: verbose, fixed_value: -1, type: fixed\n",
            "name: lambda_l1, low: 1e-08, high: 5, type: loguniform\n",
            "name: lambda_l2, low: 1e-08, high: 5, type: loguniform\n",
            "name: path_smooth, low: 1e-08, high: 0.001, type: loguniform\n",
            "name: learning_rate, low: 1e-05, high: 0.1, type: loguniform\n",
            "name: feature_fraction, low: 0.5, high: 0.9, type: uniform\n",
            "name: bagging_fraction, low: 0.5, high: 0.9, type: uniform\n",
            "name: num_leaves, low: 10, high: 25, type: int\n",
            "name: min_data_in_leaf, low: 10, high: 100, type: int\n",
            "name: max_bin, low: 100, high: 255, type: int\n",
            "name: n_estimators, low: 0, high: 500, type: int\n",
            "name: bagging_freq, low: 0, high: 15, type: int\n",
            "name: min_child_weight, low: 1, high: 20, type: int\n"
          ]
        }
      ],
      "source": [
        "# 하이퍼파라미터 범위 정의\n",
        "lgbmoptuna.set_param(models.OptunaParam('num_leaves', low=10, high=25, param_type='int'))\n",
        "lgbmoptuna.set_param(models.OptunaParam('n_estimators', low=0, high=500, param_type='int'))\n",
        "# 출력\n",
        "lgbmoptuna.print_params()"
      ]
    },
    {
      "cell_type": "code",
      "execution_count": null,
      "id": "3e33c2f9",
      "metadata": {
        "scrolled": true,
        "id": "3e33c2f9",
        "outputId": "5341bc86-601d-40ab-f8f8-63503e6b79af",
        "colab": {
          "base_uri": "https://localhost:8080/"
        }
      },
      "outputs": [
        {
          "output_type": "stream",
          "name": "stderr",
          "text": [
            "\u001b[32m[I 2022-12-29 09:18:23,372]\u001b[0m A new study created in memory with name: no-name-ae35f087-a228-4a68-b3c8-60d35f41590e\u001b[0m\n"
          ]
        },
        {
          "output_type": "stream",
          "name": "stdout",
          "text": [
            "Training until validation scores don't improve for 30 rounds.\n",
            "Did not meet early stopping. Best iteration is:\n",
            "[247]\ttraining's l2: 21.093\ttraining's score: 21.093\tvalid_1's l2: 29.1066\tvalid_1's score: 29.1066\n",
            "error type: mse, error: 29.10655\n",
            "Training until validation scores don't improve for 30 rounds.\n",
            "Did not meet early stopping. Best iteration is:\n",
            "[247]\ttraining's l2: 19.4262\ttraining's score: 19.4262\tvalid_1's l2: 38.4706\tvalid_1's score: 38.4706\n",
            "error type: mse, error: 38.47062\n",
            "Training until validation scores don't improve for 30 rounds.\n",
            "Did not meet early stopping. Best iteration is:\n",
            "[247]\ttraining's l2: 22.0686\ttraining's score: 22.0686\tvalid_1's l2: 20.341\tvalid_1's score: 20.341\n",
            "error type: mse, error: 20.34104\n",
            "Training until validation scores don't improve for 30 rounds.\n",
            "Did not meet early stopping. Best iteration is:\n",
            "[247]\ttraining's l2: 23.1349\ttraining's score: 23.1349\tvalid_1's l2: 17.5461\tvalid_1's score: 17.5461\n",
            "error type: mse, error: 17.54613\n"
          ]
        },
        {
          "output_type": "stream",
          "name": "stderr",
          "text": [
            "\u001b[32m[I 2022-12-29 09:18:24,381]\u001b[0m Trial 0 finished with value: 25.833186951988512 and parameters: {'lambda_l1': 3.1348333324228786e-05, 'lambda_l2': 3.084018572804572, 'path_smooth': 0.00016940884371250385, 'learning_rate': 0.044391881817682145, 'feature_fraction': 0.8220894360847955, 'bagging_fraction': 0.8920904182836557, 'num_leaves': 14, 'min_data_in_leaf': 96, 'max_bin': 203, 'n_estimators': 247, 'bagging_freq': 1, 'min_child_weight': 17}. Best is trial 0 with value: 25.833186951988512.\u001b[0m\n"
          ]
        },
        {
          "output_type": "stream",
          "name": "stdout",
          "text": [
            "Training until validation scores don't improve for 30 rounds.\n",
            "Did not meet early stopping. Best iteration is:\n",
            "[247]\ttraining's l2: 21.9319\ttraining's score: 21.9319\tvalid_1's l2: 23.7016\tvalid_1's score: 23.7016\n",
            "error type: mse, error: 23.70159\n",
            "Training until validation scores don't improve for 30 rounds.\n",
            "Early stopping, best iteration is:\n",
            "[215]\ttraining's l2: 7.99189\ttraining's score: 7.99189\tvalid_1's l2: 14.3525\tvalid_1's score: 14.3525\n",
            "error type: mse, error: 14.35247\n",
            "Training until validation scores don't improve for 30 rounds.\n",
            "Did not meet early stopping. Best iteration is:\n",
            "[246]\ttraining's l2: 6.81822\ttraining's score: 6.81822\tvalid_1's l2: 18.4926\tvalid_1's score: 18.4926\n",
            "error type: mse, error: 18.49256\n",
            "Training until validation scores don't improve for 30 rounds.\n",
            "Early stopping, best iteration is:\n",
            "[110]\ttraining's l2: 11.4237\ttraining's score: 11.4237\tvalid_1's l2: 8.87499\tvalid_1's score: 8.87499\n",
            "error type: mse, error: 8.87499\n",
            "Training until validation scores don't improve for 30 rounds.\n",
            "Early stopping, best iteration is:\n",
            "[125]\ttraining's l2: 10.6461\ttraining's score: 10.6461\tvalid_1's l2: 8.80066\tvalid_1's score: 8.80066\n",
            "error type: mse, error: 8.80066\n",
            "Training until validation scores don't improve for 30 rounds.\n"
          ]
        },
        {
          "output_type": "stream",
          "name": "stderr",
          "text": [
            "\u001b[32m[I 2022-12-29 09:18:25,373]\u001b[0m Trial 1 finished with value: 14.31766601817004 and parameters: {'lambda_l1': 4.8092750923671334e-05, 'lambda_l2': 1.1459858330453022e-05, 'path_smooth': 3.219119419681446e-07, 'learning_rate': 0.04668186493593296, 'feature_fraction': 0.8820692747245038, 'bagging_fraction': 0.8367016179345099, 'num_leaves': 12, 'min_data_in_leaf': 41, 'max_bin': 200, 'n_estimators': 246, 'bagging_freq': 7, 'min_child_weight': 8}. Best is trial 1 with value: 14.31766601817004.\u001b[0m\n"
          ]
        },
        {
          "output_type": "stream",
          "name": "stdout",
          "text": [
            "Did not meet early stopping. Best iteration is:\n",
            "[246]\ttraining's l2: 6.62346\ttraining's score: 6.62346\tvalid_1's l2: 21.0676\tvalid_1's score: 21.0676\n",
            "error type: mse, error: 21.06764\n",
            "Training until validation scores don't improve for 30 rounds.\n",
            "Did not meet early stopping. Best iteration is:\n",
            "[121]\ttraining's l2: 72.4573\ttraining's score: 72.4573\tvalid_1's l2: 72.8465\tvalid_1's score: 72.8465\n",
            "error type: mse, error: 72.84648\n",
            "Training until validation scores don't improve for 30 rounds.\n",
            "Did not meet early stopping. Best iteration is:\n",
            "[121]\ttraining's l2: 72.147\ttraining's score: 72.147\tvalid_1's l2: 72.1677\tvalid_1's score: 72.1677\n",
            "error type: mse, error: 72.16768\n",
            "Training until validation scores don't improve for 30 rounds.\n",
            "Did not meet early stopping. Best iteration is:\n",
            "[121]\ttraining's l2: 69.5731\ttraining's score: 69.5731\tvalid_1's l2: 84.8518\tvalid_1's score: 84.8518\n",
            "error type: mse, error: 84.85181\n",
            "Training until validation scores don't improve for 30 rounds.\n"
          ]
        },
        {
          "output_type": "stream",
          "name": "stderr",
          "text": [
            "\u001b[32m[I 2022-12-29 09:18:25,940]\u001b[0m Trial 2 finished with value: 72.88286497884431 and parameters: {'lambda_l1': 1.1057237328517206e-06, 'lambda_l2': 7.825102342319326e-05, 'path_smooth': 1.738304803573946e-08, 'learning_rate': 0.0010080869572794613, 'feature_fraction': 0.845567092557858, 'bagging_fraction': 0.5118440354952796, 'num_leaves': 13, 'min_data_in_leaf': 31, 'max_bin': 118, 'n_estimators': 121, 'bagging_freq': 8, 'min_child_weight': 12}. Best is trial 1 with value: 14.31766601817004.\u001b[0m\n"
          ]
        },
        {
          "output_type": "stream",
          "name": "stdout",
          "text": [
            "Did not meet early stopping. Best iteration is:\n",
            "[121]\ttraining's l2: 76.1123\ttraining's score: 76.1123\tvalid_1's l2: 55.535\tvalid_1's score: 55.535\n",
            "error type: mse, error: 55.53499\n",
            "Training until validation scores don't improve for 30 rounds.\n",
            "Did not meet early stopping. Best iteration is:\n",
            "[121]\ttraining's l2: 70.7505\ttraining's score: 70.7505\tvalid_1's l2: 79.0134\tvalid_1's score: 79.0134\n",
            "error type: mse, error: 79.01336\n",
            "saving model...models/LGBMRegressor-14.31767.npy\n"
          ]
        }
      ],
      "source": [
        "# 달라진 결과값 확인\n",
        "params, preds = lgbmoptuna.optimize(boston_df.drop('target', 1), \n",
        "                                    boston_df['target'], \n",
        "                                    test_data=boston_df.drop('target', 1), \n",
        "                                    eval_metric='mse', n_trials=3)"
      ]
    },
    {
      "cell_type": "markdown",
      "id": "bea27b8c",
      "metadata": {
        "id": "bea27b8c"
      },
      "source": [
        "trial에 대한 결과를 출력합니다."
      ]
    },
    {
      "cell_type": "code",
      "execution_count": null,
      "id": "8f02177d",
      "metadata": {
        "id": "8f02177d",
        "outputId": "1e56ac7f-4b1c-44cd-f4cc-62ba08896c43",
        "colab": {
          "base_uri": "https://localhost:8080/",
          "height": 260
        }
      },
      "outputs": [
        {
          "output_type": "execute_result",
          "data": {
            "text/plain": [
              "   number      value             datetime_start          datetime_complete  \\\n",
              "0       0  25.833187 2022-12-29 09:18:23.375976 2022-12-29 09:18:24.381118   \n",
              "1       1  14.317666 2022-12-29 09:18:24.383579 2022-12-29 09:18:25.372613   \n",
              "2       2  72.882865 2022-12-29 09:18:25.374771 2022-12-29 09:18:25.939203   \n",
              "\n",
              "                duration  params_bagging_fraction  params_bagging_freq  \\\n",
              "0 0 days 00:00:01.005142                 0.892090                    1   \n",
              "1 0 days 00:00:00.989034                 0.836702                    7   \n",
              "2 0 days 00:00:00.564432                 0.511844                    8   \n",
              "\n",
              "   params_feature_fraction  params_lambda_l1  params_lambda_l2  \\\n",
              "0                 0.822089          0.000031          3.084019   \n",
              "1                 0.882069          0.000048          0.000011   \n",
              "2                 0.845567          0.000001          0.000078   \n",
              "\n",
              "   params_learning_rate  params_max_bin  params_min_child_weight  \\\n",
              "0              0.044392             203                       17   \n",
              "1              0.046682             200                        8   \n",
              "2              0.001008             118                       12   \n",
              "\n",
              "   params_min_data_in_leaf  params_n_estimators  params_num_leaves  \\\n",
              "0                       96                  247                 14   \n",
              "1                       41                  246                 12   \n",
              "2                       31                  121                 13   \n",
              "\n",
              "   params_path_smooth     state  \n",
              "0        1.694088e-04  COMPLETE  \n",
              "1        3.219119e-07  COMPLETE  \n",
              "2        1.738305e-08  COMPLETE  "
            ],
            "text/html": [
              "\n",
              "  <div id=\"df-c8d68014-09f5-459a-9aeb-28011e97eaf5\">\n",
              "    <div class=\"colab-df-container\">\n",
              "      <div>\n",
              "<style scoped>\n",
              "    .dataframe tbody tr th:only-of-type {\n",
              "        vertical-align: middle;\n",
              "    }\n",
              "\n",
              "    .dataframe tbody tr th {\n",
              "        vertical-align: top;\n",
              "    }\n",
              "\n",
              "    .dataframe thead th {\n",
              "        text-align: right;\n",
              "    }\n",
              "</style>\n",
              "<table border=\"1\" class=\"dataframe\">\n",
              "  <thead>\n",
              "    <tr style=\"text-align: right;\">\n",
              "      <th></th>\n",
              "      <th>number</th>\n",
              "      <th>value</th>\n",
              "      <th>datetime_start</th>\n",
              "      <th>datetime_complete</th>\n",
              "      <th>duration</th>\n",
              "      <th>params_bagging_fraction</th>\n",
              "      <th>params_bagging_freq</th>\n",
              "      <th>params_feature_fraction</th>\n",
              "      <th>params_lambda_l1</th>\n",
              "      <th>params_lambda_l2</th>\n",
              "      <th>params_learning_rate</th>\n",
              "      <th>params_max_bin</th>\n",
              "      <th>params_min_child_weight</th>\n",
              "      <th>params_min_data_in_leaf</th>\n",
              "      <th>params_n_estimators</th>\n",
              "      <th>params_num_leaves</th>\n",
              "      <th>params_path_smooth</th>\n",
              "      <th>state</th>\n",
              "    </tr>\n",
              "  </thead>\n",
              "  <tbody>\n",
              "    <tr>\n",
              "      <th>0</th>\n",
              "      <td>0</td>\n",
              "      <td>25.833187</td>\n",
              "      <td>2022-12-29 09:18:23.375976</td>\n",
              "      <td>2022-12-29 09:18:24.381118</td>\n",
              "      <td>0 days 00:00:01.005142</td>\n",
              "      <td>0.892090</td>\n",
              "      <td>1</td>\n",
              "      <td>0.822089</td>\n",
              "      <td>0.000031</td>\n",
              "      <td>3.084019</td>\n",
              "      <td>0.044392</td>\n",
              "      <td>203</td>\n",
              "      <td>17</td>\n",
              "      <td>96</td>\n",
              "      <td>247</td>\n",
              "      <td>14</td>\n",
              "      <td>1.694088e-04</td>\n",
              "      <td>COMPLETE</td>\n",
              "    </tr>\n",
              "    <tr>\n",
              "      <th>1</th>\n",
              "      <td>1</td>\n",
              "      <td>14.317666</td>\n",
              "      <td>2022-12-29 09:18:24.383579</td>\n",
              "      <td>2022-12-29 09:18:25.372613</td>\n",
              "      <td>0 days 00:00:00.989034</td>\n",
              "      <td>0.836702</td>\n",
              "      <td>7</td>\n",
              "      <td>0.882069</td>\n",
              "      <td>0.000048</td>\n",
              "      <td>0.000011</td>\n",
              "      <td>0.046682</td>\n",
              "      <td>200</td>\n",
              "      <td>8</td>\n",
              "      <td>41</td>\n",
              "      <td>246</td>\n",
              "      <td>12</td>\n",
              "      <td>3.219119e-07</td>\n",
              "      <td>COMPLETE</td>\n",
              "    </tr>\n",
              "    <tr>\n",
              "      <th>2</th>\n",
              "      <td>2</td>\n",
              "      <td>72.882865</td>\n",
              "      <td>2022-12-29 09:18:25.374771</td>\n",
              "      <td>2022-12-29 09:18:25.939203</td>\n",
              "      <td>0 days 00:00:00.564432</td>\n",
              "      <td>0.511844</td>\n",
              "      <td>8</td>\n",
              "      <td>0.845567</td>\n",
              "      <td>0.000001</td>\n",
              "      <td>0.000078</td>\n",
              "      <td>0.001008</td>\n",
              "      <td>118</td>\n",
              "      <td>12</td>\n",
              "      <td>31</td>\n",
              "      <td>121</td>\n",
              "      <td>13</td>\n",
              "      <td>1.738305e-08</td>\n",
              "      <td>COMPLETE</td>\n",
              "    </tr>\n",
              "  </tbody>\n",
              "</table>\n",
              "</div>\n",
              "      <button class=\"colab-df-convert\" onclick=\"convertToInteractive('df-c8d68014-09f5-459a-9aeb-28011e97eaf5')\"\n",
              "              title=\"Convert this dataframe to an interactive table.\"\n",
              "              style=\"display:none;\">\n",
              "        \n",
              "  <svg xmlns=\"http://www.w3.org/2000/svg\" height=\"24px\"viewBox=\"0 0 24 24\"\n",
              "       width=\"24px\">\n",
              "    <path d=\"M0 0h24v24H0V0z\" fill=\"none\"/>\n",
              "    <path d=\"M18.56 5.44l.94 2.06.94-2.06 2.06-.94-2.06-.94-.94-2.06-.94 2.06-2.06.94zm-11 1L8.5 8.5l.94-2.06 2.06-.94-2.06-.94L8.5 2.5l-.94 2.06-2.06.94zm10 10l.94 2.06.94-2.06 2.06-.94-2.06-.94-.94-2.06-.94 2.06-2.06.94z\"/><path d=\"M17.41 7.96l-1.37-1.37c-.4-.4-.92-.59-1.43-.59-.52 0-1.04.2-1.43.59L10.3 9.45l-7.72 7.72c-.78.78-.78 2.05 0 2.83L4 21.41c.39.39.9.59 1.41.59.51 0 1.02-.2 1.41-.59l7.78-7.78 2.81-2.81c.8-.78.8-2.07 0-2.86zM5.41 20L4 18.59l7.72-7.72 1.47 1.35L5.41 20z\"/>\n",
              "  </svg>\n",
              "      </button>\n",
              "      \n",
              "  <style>\n",
              "    .colab-df-container {\n",
              "      display:flex;\n",
              "      flex-wrap:wrap;\n",
              "      gap: 12px;\n",
              "    }\n",
              "\n",
              "    .colab-df-convert {\n",
              "      background-color: #E8F0FE;\n",
              "      border: none;\n",
              "      border-radius: 50%;\n",
              "      cursor: pointer;\n",
              "      display: none;\n",
              "      fill: #1967D2;\n",
              "      height: 32px;\n",
              "      padding: 0 0 0 0;\n",
              "      width: 32px;\n",
              "    }\n",
              "\n",
              "    .colab-df-convert:hover {\n",
              "      background-color: #E2EBFA;\n",
              "      box-shadow: 0px 1px 2px rgba(60, 64, 67, 0.3), 0px 1px 3px 1px rgba(60, 64, 67, 0.15);\n",
              "      fill: #174EA6;\n",
              "    }\n",
              "\n",
              "    [theme=dark] .colab-df-convert {\n",
              "      background-color: #3B4455;\n",
              "      fill: #D2E3FC;\n",
              "    }\n",
              "\n",
              "    [theme=dark] .colab-df-convert:hover {\n",
              "      background-color: #434B5C;\n",
              "      box-shadow: 0px 1px 3px 1px rgba(0, 0, 0, 0.15);\n",
              "      filter: drop-shadow(0px 1px 2px rgba(0, 0, 0, 0.3));\n",
              "      fill: #FFFFFF;\n",
              "    }\n",
              "  </style>\n",
              "\n",
              "      <script>\n",
              "        const buttonEl =\n",
              "          document.querySelector('#df-c8d68014-09f5-459a-9aeb-28011e97eaf5 button.colab-df-convert');\n",
              "        buttonEl.style.display =\n",
              "          google.colab.kernel.accessAllowed ? 'block' : 'none';\n",
              "\n",
              "        async function convertToInteractive(key) {\n",
              "          const element = document.querySelector('#df-c8d68014-09f5-459a-9aeb-28011e97eaf5');\n",
              "          const dataTable =\n",
              "            await google.colab.kernel.invokeFunction('convertToInteractive',\n",
              "                                                     [key], {});\n",
              "          if (!dataTable) return;\n",
              "\n",
              "          const docLinkHtml = 'Like what you see? Visit the ' +\n",
              "            '<a target=\"_blank\" href=https://colab.research.google.com/notebooks/data_table.ipynb>data table notebook</a>'\n",
              "            + ' to learn more about interactive tables.';\n",
              "          element.innerHTML = '';\n",
              "          dataTable['output_type'] = 'display_data';\n",
              "          await google.colab.output.renderOutput(dataTable, element);\n",
              "          const docLink = document.createElement('div');\n",
              "          docLink.innerHTML = docLinkHtml;\n",
              "          element.appendChild(docLink);\n",
              "        }\n",
              "      </script>\n",
              "    </div>\n",
              "  </div>\n",
              "  "
            ]
          },
          "metadata": {},
          "execution_count": 26
        }
      ],
      "source": [
        "# trial에 대한 결과 출력\n",
        "lgbmoptuna.study.trials_dataframe()"
      ]
    },
    {
      "cell_type": "markdown",
      "id": "292b0af1",
      "metadata": {
        "id": "292b0af1"
      },
      "source": [
        "하이퍼파라미터 튜닝 결과 시각화"
      ]
    },
    {
      "cell_type": "code",
      "execution_count": null,
      "id": "cf8dcb62",
      "metadata": {
        "id": "cf8dcb62"
      },
      "outputs": [],
      "source": [
        "lgbmoptuna.visualize()"
      ]
    },
    {
      "cell_type": "markdown",
      "id": "c988302c",
      "metadata": {
        "id": "c988302c"
      },
      "source": [
        "Best 하이퍼파라미터 출력"
      ]
    },
    {
      "cell_type": "code",
      "execution_count": null,
      "id": "de86b4ae",
      "metadata": {
        "id": "de86b4ae",
        "outputId": "1d34d3d7-e497-4751-fece-b84ee9c68c21",
        "colab": {
          "base_uri": "https://localhost:8080/"
        }
      },
      "outputs": [
        {
          "output_type": "execute_result",
          "data": {
            "text/plain": [
              "{'lambda_l1': 4.8092750923671334e-05,\n",
              " 'lambda_l2': 1.1459858330453022e-05,\n",
              " 'path_smooth': 3.219119419681446e-07,\n",
              " 'learning_rate': 0.04668186493593296,\n",
              " 'feature_fraction': 0.8820692747245038,\n",
              " 'bagging_fraction': 0.8367016179345099,\n",
              " 'num_leaves': 12,\n",
              " 'min_data_in_leaf': 41,\n",
              " 'max_bin': 200,\n",
              " 'n_estimators': 246,\n",
              " 'bagging_freq': 7,\n",
              " 'min_child_weight': 8}"
            ]
          },
          "metadata": {},
          "execution_count": 27
        }
      ],
      "source": [
        "lgbmoptuna.get_best_params()"
      ]
    }
  ],
  "metadata": {
    "kernelspec": {
      "display_name": "Python 3 (ipykernel)",
      "language": "python",
      "name": "python3"
    },
    "language_info": {
      "codemirror_mode": {
        "name": "ipython",
        "version": 3
      },
      "file_extension": ".py",
      "mimetype": "text/x-python",
      "name": "python",
      "nbconvert_exporter": "python",
      "pygments_lexer": "ipython3",
      "version": "3.7.10"
    },
    "colab": {
      "provenance": []
    }
  },
  "nbformat": 4,
  "nbformat_minor": 5
}