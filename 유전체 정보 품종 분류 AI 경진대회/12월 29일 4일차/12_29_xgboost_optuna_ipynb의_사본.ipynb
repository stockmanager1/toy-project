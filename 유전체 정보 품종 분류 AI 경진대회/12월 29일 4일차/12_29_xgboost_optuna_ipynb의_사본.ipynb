{
  "cells": [
    {
      "cell_type": "markdown",
      "metadata": {
        "id": "e3550806-e691-49de-8ed9-ebae92bd3867"
      },
      "source": [
        "## Import"
      ],
      "id": "e3550806-e691-49de-8ed9-ebae92bd3867"
    },
    {
      "cell_type": "code",
      "execution_count": 5,
      "metadata": {
        "id": "b84c8f41-8c9f-4e9c-9969-e98541e822af"
      },
      "outputs": [],
      "source": [
        "import pandas as pd\n",
        "import random\n",
        "import os\n",
        "import numpy as np\n",
        "\n",
        "from sklearn import preprocessing\n",
        "from sklearn.ensemble import RandomForestClassifier"
      ],
      "id": "b84c8f41-8c9f-4e9c-9969-e98541e822af"
    },
    {
      "cell_type": "code",
      "execution_count": 6,
      "metadata": {
        "id": "824a7f14-b0f5-49c8-b030-1fe9873c46f9"
      },
      "outputs": [],
      "source": [
        "class CFG:\n",
        "    SEED = 42"
      ],
      "id": "824a7f14-b0f5-49c8-b030-1fe9873c46f9"
    },
    {
      "cell_type": "code",
      "execution_count": 7,
      "metadata": {
        "id": "1d06422f-e260-46ad-846f-0cfa40d2801b"
      },
      "outputs": [],
      "source": [
        "def seed_everything(seed):\n",
        "    random.seed(seed)\n",
        "    os.environ['PYTHONHASHSEED'] = str(seed)\n",
        "    np.random.seed(seed)\n",
        "seed_everything(CFG.SEED) # Seed 고정"
      ],
      "id": "1d06422f-e260-46ad-846f-0cfa40d2801b"
    },
    {
      "cell_type": "markdown",
      "metadata": {
        "id": "b9e7de47-f4b8-4589-b9d3-e353a975e939"
      },
      "source": [
        "## Data Load"
      ],
      "id": "b9e7de47-f4b8-4589-b9d3-e353a975e939"
    },
    {
      "cell_type": "code",
      "execution_count": 8,
      "metadata": {
        "colab": {
          "base_uri": "https://localhost:8080/"
        },
        "id": "LbEDjXCaMP2m",
        "outputId": "bef6fb1e-a4d7-426f-c0bb-12544f32be9b"
      },
      "outputs": [
        {
          "output_type": "stream",
          "name": "stdout",
          "text": [
            "Mounted at /content/gdrive/\n"
          ]
        }
      ],
      "source": [
        "from google.colab import drive\n",
        "drive.mount('/content/gdrive/')"
      ],
      "id": "LbEDjXCaMP2m"
    },
    {
      "cell_type": "code",
      "execution_count": 9,
      "metadata": {
        "id": "GeJQxQBwMTVu"
      },
      "outputs": [],
      "source": [
        "!unzip -qq \"/content/gdrive/MyDrive/유전체 정보 품종 분류 AI 경진대회.zip\""
      ],
      "id": "GeJQxQBwMTVu"
    },
    {
      "cell_type": "code",
      "execution_count": 10,
      "metadata": {
        "id": "34f899fd-fbb4-48bc-9ec5-3eb5a68564cb"
      },
      "outputs": [],
      "source": [
        "train = pd.read_csv('/content/train.csv')\n",
        "test = pd.read_csv('/content/test.csv')"
      ],
      "id": "34f899fd-fbb4-48bc-9ec5-3eb5a68564cb"
    },
    {
      "cell_type": "code",
      "execution_count": 11,
      "metadata": {
        "id": "72b37f7e-a9f2-4640-8a0c-80ecdc626740"
      },
      "outputs": [],
      "source": [
        "def get_x_y(df):\n",
        "    if 'class' in df.columns:\n",
        "        df_x = df.drop(columns=['id', 'class'])\n",
        "        df_y = df['class']\n",
        "        return df_x, df_y\n",
        "    else:\n",
        "        df_x = df.drop(columns=['id'])\n",
        "        return df_x"
      ],
      "id": "72b37f7e-a9f2-4640-8a0c-80ecdc626740"
    },
    {
      "cell_type": "code",
      "execution_count": 12,
      "metadata": {
        "id": "05bd5dc3-5caf-4691-a836-d05d79353a5d"
      },
      "outputs": [],
      "source": [
        "train_x, train_y = get_x_y(train)\n",
        "test_x = get_x_y(test)"
      ],
      "id": "05bd5dc3-5caf-4691-a836-d05d79353a5d"
    },
    {
      "cell_type": "markdown",
      "metadata": {
        "id": "8f79fbb3-bdd5-4bf7-bcc2-3776f1de653b"
      },
      "source": [
        "## Data Pre-processing\n",
        "### Label-Encoding"
      ],
      "id": "8f79fbb3-bdd5-4bf7-bcc2-3776f1de653b"
    },
    {
      "cell_type": "code",
      "execution_count": 13,
      "metadata": {
        "id": "689a42a5-140f-4282-9f33-6b319dea89a5"
      },
      "outputs": [],
      "source": [
        "class_le = preprocessing.LabelEncoder()\n",
        "snp_le = preprocessing.LabelEncoder()\n",
        "snp_col = [f'SNP_{str(x).zfill(2)}' for x in range(1,16)]"
      ],
      "id": "689a42a5-140f-4282-9f33-6b319dea89a5"
    },
    {
      "cell_type": "code",
      "execution_count": 14,
      "metadata": {
        "id": "2329a4f8-92b2-484d-acbd-2bb8079929e7"
      },
      "outputs": [],
      "source": [
        "snp_data = []\n",
        "for col in snp_col:\n",
        "    snp_data += list(train_x[col].values)"
      ],
      "id": "2329a4f8-92b2-484d-acbd-2bb8079929e7"
    },
    {
      "cell_type": "code",
      "execution_count": 15,
      "metadata": {
        "colab": {
          "base_uri": "https://localhost:8080/"
        },
        "id": "be7c4c4e-9c40-4c2e-bbce-5109dc16e802",
        "outputId": "b213c481-dfd2-4cdb-91a0-fa405bc1af4f"
      },
      "outputs": [
        {
          "output_type": "execute_result",
          "data": {
            "text/plain": [
              "LabelEncoder()"
            ]
          },
          "metadata": {},
          "execution_count": 15
        }
      ],
      "source": [
        "train_y = class_le.fit_transform(train_y)\n",
        "snp_le.fit(snp_data)"
      ],
      "id": "be7c4c4e-9c40-4c2e-bbce-5109dc16e802"
    },
    {
      "cell_type": "code",
      "execution_count": 16,
      "metadata": {
        "id": "6a6855cf-8261-45dd-b18b-660aaf0ab141"
      },
      "outputs": [],
      "source": [
        "for col in train_x.columns:\n",
        "    if col in snp_col:\n",
        "        train_x[col] = snp_le.transform(train_x[col])\n",
        "        test_x[col] = snp_le.transform(test_x[col])"
      ],
      "id": "6a6855cf-8261-45dd-b18b-660aaf0ab141"
    },
    {
      "cell_type": "markdown",
      "metadata": {
        "id": "5ba4d960-9c02-4cf2-8af0-0d678dfd2882"
      },
      "source": [
        "## Model Fit"
      ],
      "id": "5ba4d960-9c02-4cf2-8af0-0d678dfd2882"
    },
    {
      "cell_type": "code",
      "execution_count": 17,
      "metadata": {
        "colab": {
          "base_uri": "https://localhost:8080/"
        },
        "id": "HtNWDFgwMdCr",
        "outputId": "62b6bda7-7aaf-4621-e3fc-672f694c1a1f"
      },
      "outputs": [
        {
          "output_type": "stream",
          "name": "stdout",
          "text": [
            "Looking in indexes: https://pypi.org/simple, https://us-python.pkg.dev/colab-wheels/public/simple/\n",
            "Collecting teddynote\n",
            "  Downloading teddynote-0.2.1-py3-none-any.whl (10 kB)\n",
            "Collecting optuna\n",
            "  Downloading optuna-3.0.5-py3-none-any.whl (348 kB)\n",
            "\u001b[K     |████████████████████████████████| 348 kB 7.4 MB/s \n",
            "\u001b[?25hRequirement already satisfied: tqdm in /usr/local/lib/python3.8/dist-packages (from teddynote) (4.64.1)\n",
            "Requirement already satisfied: pandas in /usr/local/lib/python3.8/dist-packages (from teddynote) (1.3.5)\n",
            "Requirement already satisfied: scikit-learn in /usr/local/lib/python3.8/dist-packages (from teddynote) (1.0.2)\n",
            "Requirement already satisfied: xgboost in /usr/local/lib/python3.8/dist-packages (from teddynote) (0.90)\n",
            "Requirement already satisfied: lightgbm in /usr/local/lib/python3.8/dist-packages (from teddynote) (2.2.3)\n",
            "Collecting catboost\n",
            "  Downloading catboost-1.1.1-cp38-none-manylinux1_x86_64.whl (76.6 MB)\n",
            "\u001b[K     |████████████████████████████████| 76.6 MB 1.2 MB/s \n",
            "\u001b[?25hRequirement already satisfied: plotly in /usr/local/lib/python3.8/dist-packages (from catboost->teddynote) (5.5.0)\n",
            "Requirement already satisfied: graphviz in /usr/local/lib/python3.8/dist-packages (from catboost->teddynote) (0.10.1)\n",
            "Requirement already satisfied: scipy in /usr/local/lib/python3.8/dist-packages (from catboost->teddynote) (1.7.3)\n",
            "Requirement already satisfied: numpy>=1.16.0 in /usr/local/lib/python3.8/dist-packages (from catboost->teddynote) (1.21.6)\n",
            "Requirement already satisfied: matplotlib in /usr/local/lib/python3.8/dist-packages (from catboost->teddynote) (3.2.2)\n",
            "Requirement already satisfied: six in /usr/local/lib/python3.8/dist-packages (from catboost->teddynote) (1.15.0)\n",
            "Requirement already satisfied: python-dateutil>=2.7.3 in /usr/local/lib/python3.8/dist-packages (from pandas->teddynote) (2.8.2)\n",
            "Requirement already satisfied: pytz>=2017.3 in /usr/local/lib/python3.8/dist-packages (from pandas->teddynote) (2022.6)\n",
            "Requirement already satisfied: cycler>=0.10 in /usr/local/lib/python3.8/dist-packages (from matplotlib->catboost->teddynote) (0.11.0)\n",
            "Requirement already satisfied: kiwisolver>=1.0.1 in /usr/local/lib/python3.8/dist-packages (from matplotlib->catboost->teddynote) (1.4.4)\n",
            "Requirement already satisfied: pyparsing!=2.0.4,!=2.1.2,!=2.1.6,>=2.0.1 in /usr/local/lib/python3.8/dist-packages (from matplotlib->catboost->teddynote) (3.0.9)\n",
            "Requirement already satisfied: sqlalchemy>=1.3.0 in /usr/local/lib/python3.8/dist-packages (from optuna->teddynote) (1.4.45)\n",
            "Collecting colorlog\n",
            "  Downloading colorlog-6.7.0-py2.py3-none-any.whl (11 kB)\n",
            "Collecting importlib-metadata<5.0.0\n",
            "  Downloading importlib_metadata-4.13.0-py3-none-any.whl (23 kB)\n",
            "Collecting cmaes>=0.8.2\n",
            "  Downloading cmaes-0.9.0-py3-none-any.whl (23 kB)\n",
            "Requirement already satisfied: packaging>=20.0 in /usr/local/lib/python3.8/dist-packages (from optuna->teddynote) (21.3)\n",
            "Collecting cliff\n",
            "  Downloading cliff-4.1.0-py3-none-any.whl (81 kB)\n",
            "\u001b[K     |████████████████████████████████| 81 kB 9.6 MB/s \n",
            "\u001b[?25hRequirement already satisfied: PyYAML in /usr/local/lib/python3.8/dist-packages (from optuna->teddynote) (6.0)\n",
            "Collecting alembic>=1.5.0\n",
            "  Downloading alembic-1.9.1-py3-none-any.whl (210 kB)\n",
            "\u001b[K     |████████████████████████████████| 210 kB 53.1 MB/s \n",
            "\u001b[?25hCollecting Mako\n",
            "  Downloading Mako-1.2.4-py3-none-any.whl (78 kB)\n",
            "\u001b[K     |████████████████████████████████| 78 kB 8.3 MB/s \n",
            "\u001b[?25hRequirement already satisfied: importlib-resources in /usr/local/lib/python3.8/dist-packages (from alembic>=1.5.0->optuna->teddynote) (5.10.1)\n",
            "Requirement already satisfied: zipp>=0.5 in /usr/local/lib/python3.8/dist-packages (from importlib-metadata<5.0.0->optuna->teddynote) (3.11.0)\n",
            "Requirement already satisfied: greenlet!=0.4.17 in /usr/local/lib/python3.8/dist-packages (from sqlalchemy>=1.3.0->optuna->teddynote) (2.0.1)\n",
            "Requirement already satisfied: PrettyTable>=0.7.2 in /usr/local/lib/python3.8/dist-packages (from cliff->optuna->teddynote) (3.5.0)\n",
            "Collecting cmd2>=1.0.0\n",
            "  Downloading cmd2-2.4.2-py3-none-any.whl (147 kB)\n",
            "\u001b[K     |████████████████████████████████| 147 kB 69.4 MB/s \n",
            "\u001b[?25hCollecting stevedore>=2.0.1\n",
            "  Downloading stevedore-4.1.1-py3-none-any.whl (50 kB)\n",
            "\u001b[K     |████████████████████████████████| 50 kB 6.9 MB/s \n",
            "\u001b[?25hCollecting autopage>=0.4.0\n",
            "  Downloading autopage-0.5.1-py3-none-any.whl (29 kB)\n",
            "Requirement already satisfied: wcwidth>=0.1.7 in /usr/local/lib/python3.8/dist-packages (from cmd2>=1.0.0->cliff->optuna->teddynote) (0.2.5)\n",
            "Requirement already satisfied: attrs>=16.3.0 in /usr/local/lib/python3.8/dist-packages (from cmd2>=1.0.0->cliff->optuna->teddynote) (22.1.0)\n",
            "Collecting pyperclip>=1.6\n",
            "  Downloading pyperclip-1.8.2.tar.gz (20 kB)\n",
            "Collecting pbr!=2.1.0,>=2.0.0\n",
            "  Downloading pbr-5.11.0-py2.py3-none-any.whl (112 kB)\n",
            "\u001b[K     |████████████████████████████████| 112 kB 73.4 MB/s \n",
            "\u001b[?25hRequirement already satisfied: MarkupSafe>=0.9.2 in /usr/local/lib/python3.8/dist-packages (from Mako->alembic>=1.5.0->optuna->teddynote) (2.0.1)\n",
            "Requirement already satisfied: tenacity>=6.2.0 in /usr/local/lib/python3.8/dist-packages (from plotly->catboost->teddynote) (8.1.0)\n",
            "Requirement already satisfied: joblib>=0.11 in /usr/local/lib/python3.8/dist-packages (from scikit-learn->teddynote) (1.2.0)\n",
            "Requirement already satisfied: threadpoolctl>=2.0.0 in /usr/local/lib/python3.8/dist-packages (from scikit-learn->teddynote) (3.1.0)\n",
            "Building wheels for collected packages: pyperclip\n",
            "  Building wheel for pyperclip (setup.py) ... \u001b[?25l\u001b[?25hdone\n",
            "  Created wheel for pyperclip: filename=pyperclip-1.8.2-py3-none-any.whl size=11136 sha256=2a65d8271e227889507da3cd9473b530aef38b663a8dda3249987ab6e7c90679\n",
            "  Stored in directory: /root/.cache/pip/wheels/7f/1a/65/84ff8c386bec21fca6d220ea1f5498a0367883a78dd5ba6122\n",
            "Successfully built pyperclip\n",
            "Installing collected packages: pyperclip, pbr, stevedore, Mako, importlib-metadata, cmd2, autopage, colorlog, cmaes, cliff, alembic, optuna, catboost, teddynote\n",
            "  Attempting uninstall: importlib-metadata\n",
            "    Found existing installation: importlib-metadata 5.1.0\n",
            "    Uninstalling importlib-metadata-5.1.0:\n",
            "      Successfully uninstalled importlib-metadata-5.1.0\n",
            "Successfully installed Mako-1.2.4 alembic-1.9.1 autopage-0.5.1 catboost-1.1.1 cliff-4.1.0 cmaes-0.9.0 cmd2-2.4.2 colorlog-6.7.0 importlib-metadata-4.13.0 optuna-3.0.5 pbr-5.11.0 pyperclip-1.8.2 stevedore-4.1.1 teddynote-0.2.1\n"
          ]
        }
      ],
      "source": [
        "!pip install -U teddynote"
      ],
      "id": "HtNWDFgwMdCr"
    },
    {
      "cell_type": "code",
      "execution_count": 18,
      "metadata": {
        "id": "2JwqfHW2MfDe"
      },
      "outputs": [],
      "source": [
        "# 모듈 import \n",
        "from teddynote import models"
      ],
      "id": "2JwqfHW2MfDe"
    },
    {
      "cell_type": "code",
      "execution_count": 19,
      "metadata": {
        "id": "55WYjfIZMiHE"
      },
      "outputs": [],
      "source": [
        "from lightgbm import LGBMRegressor, LGBMClassifier\n",
        "from xgboost import XGBRegressor, XGBClassifier\n",
        "from catboost import CatBoostRegressor, CatBoostClassifier\n"
      ],
      "id": "55WYjfIZMiHE"
    },
    {
      "cell_type": "code",
      "execution_count": 20,
      "metadata": {
        "colab": {
          "base_uri": "https://localhost:8080/",
          "height": 488
        },
        "id": "9ZdWE-EFMoGJ",
        "outputId": "ba677a81-5b60-49d0-8a0f-d7558db2a9ab"
      },
      "outputs": [
        {
          "output_type": "execute_result",
          "data": {
            "text/plain": [
              "     father  mother  gender  trait  SNP_01  SNP_02  SNP_03  SNP_04  SNP_05  \\\n",
              "0         0       0       0      2       5       1       0       4       2   \n",
              "1         0       0       0      2       1       1       2       0       0   \n",
              "2         0       0       0      2       5       5       0       4       3   \n",
              "3         0       0       0      1       0       5       0       4       0   \n",
              "4         0       0       0      2       5       5       3       0       3   \n",
              "..      ...     ...     ...    ...     ...     ...     ...     ...     ...   \n",
              "257       0       0       0      2       1       1       0       4       3   \n",
              "258       0       0       0      2       5       0       2       0       0   \n",
              "259       0       0       0      1       1       5       0       4       0   \n",
              "260       0       0       0      1       0       5       0       4       0   \n",
              "261       0       0       0      2       5       1       2       5       3   \n",
              "\n",
              "     SNP_06  SNP_07  SNP_08  SNP_09  SNP_10  SNP_11  SNP_12  SNP_13  SNP_14  \\\n",
              "0         0       0       5       0       5       1       0       0       0   \n",
              "1         1       0       4       0       1       0       4       5       0   \n",
              "2         5       0       4       4       1       0       0       0       0   \n",
              "3         5       5       0       5       1       5       5       5       0   \n",
              "4         0       0       0       0       5       0       0       1       0   \n",
              "..      ...     ...     ...     ...     ...     ...     ...     ...     ...   \n",
              "257       1       0       4       0       5       1       4       0       0   \n",
              "258       1       4       4       0       1       1       0       1       0   \n",
              "259       1       5       4       4       0       5       5       5       2   \n",
              "260       5       5       0       4       1       1       4       5       2   \n",
              "261       1       0       0       0       5       0       0       5       0   \n",
              "\n",
              "     SNP_15  \n",
              "0         0  \n",
              "1         0  \n",
              "2         0  \n",
              "3         5  \n",
              "4         4  \n",
              "..      ...  \n",
              "257       0  \n",
              "258       4  \n",
              "259       5  \n",
              "260       5  \n",
              "261       4  \n",
              "\n",
              "[262 rows x 19 columns]"
            ],
            "text/html": [
              "\n",
              "  <div id=\"df-4a06559e-2c51-41c3-aa84-3843f2a5925d\">\n",
              "    <div class=\"colab-df-container\">\n",
              "      <div>\n",
              "<style scoped>\n",
              "    .dataframe tbody tr th:only-of-type {\n",
              "        vertical-align: middle;\n",
              "    }\n",
              "\n",
              "    .dataframe tbody tr th {\n",
              "        vertical-align: top;\n",
              "    }\n",
              "\n",
              "    .dataframe thead th {\n",
              "        text-align: right;\n",
              "    }\n",
              "</style>\n",
              "<table border=\"1\" class=\"dataframe\">\n",
              "  <thead>\n",
              "    <tr style=\"text-align: right;\">\n",
              "      <th></th>\n",
              "      <th>father</th>\n",
              "      <th>mother</th>\n",
              "      <th>gender</th>\n",
              "      <th>trait</th>\n",
              "      <th>SNP_01</th>\n",
              "      <th>SNP_02</th>\n",
              "      <th>SNP_03</th>\n",
              "      <th>SNP_04</th>\n",
              "      <th>SNP_05</th>\n",
              "      <th>SNP_06</th>\n",
              "      <th>SNP_07</th>\n",
              "      <th>SNP_08</th>\n",
              "      <th>SNP_09</th>\n",
              "      <th>SNP_10</th>\n",
              "      <th>SNP_11</th>\n",
              "      <th>SNP_12</th>\n",
              "      <th>SNP_13</th>\n",
              "      <th>SNP_14</th>\n",
              "      <th>SNP_15</th>\n",
              "    </tr>\n",
              "  </thead>\n",
              "  <tbody>\n",
              "    <tr>\n",
              "      <th>0</th>\n",
              "      <td>0</td>\n",
              "      <td>0</td>\n",
              "      <td>0</td>\n",
              "      <td>2</td>\n",
              "      <td>5</td>\n",
              "      <td>1</td>\n",
              "      <td>0</td>\n",
              "      <td>4</td>\n",
              "      <td>2</td>\n",
              "      <td>0</td>\n",
              "      <td>0</td>\n",
              "      <td>5</td>\n",
              "      <td>0</td>\n",
              "      <td>5</td>\n",
              "      <td>1</td>\n",
              "      <td>0</td>\n",
              "      <td>0</td>\n",
              "      <td>0</td>\n",
              "      <td>0</td>\n",
              "    </tr>\n",
              "    <tr>\n",
              "      <th>1</th>\n",
              "      <td>0</td>\n",
              "      <td>0</td>\n",
              "      <td>0</td>\n",
              "      <td>2</td>\n",
              "      <td>1</td>\n",
              "      <td>1</td>\n",
              "      <td>2</td>\n",
              "      <td>0</td>\n",
              "      <td>0</td>\n",
              "      <td>1</td>\n",
              "      <td>0</td>\n",
              "      <td>4</td>\n",
              "      <td>0</td>\n",
              "      <td>1</td>\n",
              "      <td>0</td>\n",
              "      <td>4</td>\n",
              "      <td>5</td>\n",
              "      <td>0</td>\n",
              "      <td>0</td>\n",
              "    </tr>\n",
              "    <tr>\n",
              "      <th>2</th>\n",
              "      <td>0</td>\n",
              "      <td>0</td>\n",
              "      <td>0</td>\n",
              "      <td>2</td>\n",
              "      <td>5</td>\n",
              "      <td>5</td>\n",
              "      <td>0</td>\n",
              "      <td>4</td>\n",
              "      <td>3</td>\n",
              "      <td>5</td>\n",
              "      <td>0</td>\n",
              "      <td>4</td>\n",
              "      <td>4</td>\n",
              "      <td>1</td>\n",
              "      <td>0</td>\n",
              "      <td>0</td>\n",
              "      <td>0</td>\n",
              "      <td>0</td>\n",
              "      <td>0</td>\n",
              "    </tr>\n",
              "    <tr>\n",
              "      <th>3</th>\n",
              "      <td>0</td>\n",
              "      <td>0</td>\n",
              "      <td>0</td>\n",
              "      <td>1</td>\n",
              "      <td>0</td>\n",
              "      <td>5</td>\n",
              "      <td>0</td>\n",
              "      <td>4</td>\n",
              "      <td>0</td>\n",
              "      <td>5</td>\n",
              "      <td>5</td>\n",
              "      <td>0</td>\n",
              "      <td>5</td>\n",
              "      <td>1</td>\n",
              "      <td>5</td>\n",
              "      <td>5</td>\n",
              "      <td>5</td>\n",
              "      <td>0</td>\n",
              "      <td>5</td>\n",
              "    </tr>\n",
              "    <tr>\n",
              "      <th>4</th>\n",
              "      <td>0</td>\n",
              "      <td>0</td>\n",
              "      <td>0</td>\n",
              "      <td>2</td>\n",
              "      <td>5</td>\n",
              "      <td>5</td>\n",
              "      <td>3</td>\n",
              "      <td>0</td>\n",
              "      <td>3</td>\n",
              "      <td>0</td>\n",
              "      <td>0</td>\n",
              "      <td>0</td>\n",
              "      <td>0</td>\n",
              "      <td>5</td>\n",
              "      <td>0</td>\n",
              "      <td>0</td>\n",
              "      <td>1</td>\n",
              "      <td>0</td>\n",
              "      <td>4</td>\n",
              "    </tr>\n",
              "    <tr>\n",
              "      <th>...</th>\n",
              "      <td>...</td>\n",
              "      <td>...</td>\n",
              "      <td>...</td>\n",
              "      <td>...</td>\n",
              "      <td>...</td>\n",
              "      <td>...</td>\n",
              "      <td>...</td>\n",
              "      <td>...</td>\n",
              "      <td>...</td>\n",
              "      <td>...</td>\n",
              "      <td>...</td>\n",
              "      <td>...</td>\n",
              "      <td>...</td>\n",
              "      <td>...</td>\n",
              "      <td>...</td>\n",
              "      <td>...</td>\n",
              "      <td>...</td>\n",
              "      <td>...</td>\n",
              "      <td>...</td>\n",
              "    </tr>\n",
              "    <tr>\n",
              "      <th>257</th>\n",
              "      <td>0</td>\n",
              "      <td>0</td>\n",
              "      <td>0</td>\n",
              "      <td>2</td>\n",
              "      <td>1</td>\n",
              "      <td>1</td>\n",
              "      <td>0</td>\n",
              "      <td>4</td>\n",
              "      <td>3</td>\n",
              "      <td>1</td>\n",
              "      <td>0</td>\n",
              "      <td>4</td>\n",
              "      <td>0</td>\n",
              "      <td>5</td>\n",
              "      <td>1</td>\n",
              "      <td>4</td>\n",
              "      <td>0</td>\n",
              "      <td>0</td>\n",
              "      <td>0</td>\n",
              "    </tr>\n",
              "    <tr>\n",
              "      <th>258</th>\n",
              "      <td>0</td>\n",
              "      <td>0</td>\n",
              "      <td>0</td>\n",
              "      <td>2</td>\n",
              "      <td>5</td>\n",
              "      <td>0</td>\n",
              "      <td>2</td>\n",
              "      <td>0</td>\n",
              "      <td>0</td>\n",
              "      <td>1</td>\n",
              "      <td>4</td>\n",
              "      <td>4</td>\n",
              "      <td>0</td>\n",
              "      <td>1</td>\n",
              "      <td>1</td>\n",
              "      <td>0</td>\n",
              "      <td>1</td>\n",
              "      <td>0</td>\n",
              "      <td>4</td>\n",
              "    </tr>\n",
              "    <tr>\n",
              "      <th>259</th>\n",
              "      <td>0</td>\n",
              "      <td>0</td>\n",
              "      <td>0</td>\n",
              "      <td>1</td>\n",
              "      <td>1</td>\n",
              "      <td>5</td>\n",
              "      <td>0</td>\n",
              "      <td>4</td>\n",
              "      <td>0</td>\n",
              "      <td>1</td>\n",
              "      <td>5</td>\n",
              "      <td>4</td>\n",
              "      <td>4</td>\n",
              "      <td>0</td>\n",
              "      <td>5</td>\n",
              "      <td>5</td>\n",
              "      <td>5</td>\n",
              "      <td>2</td>\n",
              "      <td>5</td>\n",
              "    </tr>\n",
              "    <tr>\n",
              "      <th>260</th>\n",
              "      <td>0</td>\n",
              "      <td>0</td>\n",
              "      <td>0</td>\n",
              "      <td>1</td>\n",
              "      <td>0</td>\n",
              "      <td>5</td>\n",
              "      <td>0</td>\n",
              "      <td>4</td>\n",
              "      <td>0</td>\n",
              "      <td>5</td>\n",
              "      <td>5</td>\n",
              "      <td>0</td>\n",
              "      <td>4</td>\n",
              "      <td>1</td>\n",
              "      <td>1</td>\n",
              "      <td>4</td>\n",
              "      <td>5</td>\n",
              "      <td>2</td>\n",
              "      <td>5</td>\n",
              "    </tr>\n",
              "    <tr>\n",
              "      <th>261</th>\n",
              "      <td>0</td>\n",
              "      <td>0</td>\n",
              "      <td>0</td>\n",
              "      <td>2</td>\n",
              "      <td>5</td>\n",
              "      <td>1</td>\n",
              "      <td>2</td>\n",
              "      <td>5</td>\n",
              "      <td>3</td>\n",
              "      <td>1</td>\n",
              "      <td>0</td>\n",
              "      <td>0</td>\n",
              "      <td>0</td>\n",
              "      <td>5</td>\n",
              "      <td>0</td>\n",
              "      <td>0</td>\n",
              "      <td>5</td>\n",
              "      <td>0</td>\n",
              "      <td>4</td>\n",
              "    </tr>\n",
              "  </tbody>\n",
              "</table>\n",
              "<p>262 rows × 19 columns</p>\n",
              "</div>\n",
              "      <button class=\"colab-df-convert\" onclick=\"convertToInteractive('df-4a06559e-2c51-41c3-aa84-3843f2a5925d')\"\n",
              "              title=\"Convert this dataframe to an interactive table.\"\n",
              "              style=\"display:none;\">\n",
              "        \n",
              "  <svg xmlns=\"http://www.w3.org/2000/svg\" height=\"24px\"viewBox=\"0 0 24 24\"\n",
              "       width=\"24px\">\n",
              "    <path d=\"M0 0h24v24H0V0z\" fill=\"none\"/>\n",
              "    <path d=\"M18.56 5.44l.94 2.06.94-2.06 2.06-.94-2.06-.94-.94-2.06-.94 2.06-2.06.94zm-11 1L8.5 8.5l.94-2.06 2.06-.94-2.06-.94L8.5 2.5l-.94 2.06-2.06.94zm10 10l.94 2.06.94-2.06 2.06-.94-2.06-.94-.94-2.06-.94 2.06-2.06.94z\"/><path d=\"M17.41 7.96l-1.37-1.37c-.4-.4-.92-.59-1.43-.59-.52 0-1.04.2-1.43.59L10.3 9.45l-7.72 7.72c-.78.78-.78 2.05 0 2.83L4 21.41c.39.39.9.59 1.41.59.51 0 1.02-.2 1.41-.59l7.78-7.78 2.81-2.81c.8-.78.8-2.07 0-2.86zM5.41 20L4 18.59l7.72-7.72 1.47 1.35L5.41 20z\"/>\n",
              "  </svg>\n",
              "      </button>\n",
              "      \n",
              "  <style>\n",
              "    .colab-df-container {\n",
              "      display:flex;\n",
              "      flex-wrap:wrap;\n",
              "      gap: 12px;\n",
              "    }\n",
              "\n",
              "    .colab-df-convert {\n",
              "      background-color: #E8F0FE;\n",
              "      border: none;\n",
              "      border-radius: 50%;\n",
              "      cursor: pointer;\n",
              "      display: none;\n",
              "      fill: #1967D2;\n",
              "      height: 32px;\n",
              "      padding: 0 0 0 0;\n",
              "      width: 32px;\n",
              "    }\n",
              "\n",
              "    .colab-df-convert:hover {\n",
              "      background-color: #E2EBFA;\n",
              "      box-shadow: 0px 1px 2px rgba(60, 64, 67, 0.3), 0px 1px 3px 1px rgba(60, 64, 67, 0.15);\n",
              "      fill: #174EA6;\n",
              "    }\n",
              "\n",
              "    [theme=dark] .colab-df-convert {\n",
              "      background-color: #3B4455;\n",
              "      fill: #D2E3FC;\n",
              "    }\n",
              "\n",
              "    [theme=dark] .colab-df-convert:hover {\n",
              "      background-color: #434B5C;\n",
              "      box-shadow: 0px 1px 3px 1px rgba(0, 0, 0, 0.15);\n",
              "      filter: drop-shadow(0px 1px 2px rgba(0, 0, 0, 0.3));\n",
              "      fill: #FFFFFF;\n",
              "    }\n",
              "  </style>\n",
              "\n",
              "      <script>\n",
              "        const buttonEl =\n",
              "          document.querySelector('#df-4a06559e-2c51-41c3-aa84-3843f2a5925d button.colab-df-convert');\n",
              "        buttonEl.style.display =\n",
              "          google.colab.kernel.accessAllowed ? 'block' : 'none';\n",
              "\n",
              "        async function convertToInteractive(key) {\n",
              "          const element = document.querySelector('#df-4a06559e-2c51-41c3-aa84-3843f2a5925d');\n",
              "          const dataTable =\n",
              "            await google.colab.kernel.invokeFunction('convertToInteractive',\n",
              "                                                     [key], {});\n",
              "          if (!dataTable) return;\n",
              "\n",
              "          const docLinkHtml = 'Like what you see? Visit the ' +\n",
              "            '<a target=\"_blank\" href=https://colab.research.google.com/notebooks/data_table.ipynb>data table notebook</a>'\n",
              "            + ' to learn more about interactive tables.';\n",
              "          element.innerHTML = '';\n",
              "          dataTable['output_type'] = 'display_data';\n",
              "          await google.colab.output.renderOutput(dataTable, element);\n",
              "          const docLink = document.createElement('div');\n",
              "          docLink.innerHTML = docLinkHtml;\n",
              "          element.appendChild(docLink);\n",
              "        }\n",
              "      </script>\n",
              "    </div>\n",
              "  </div>\n",
              "  "
            ]
          },
          "metadata": {},
          "execution_count": 20
        }
      ],
      "source": [
        "train_x"
      ],
      "id": "9ZdWE-EFMoGJ"
    },
    {
      "cell_type": "code",
      "execution_count": 39,
      "metadata": {
        "colab": {
          "base_uri": "https://localhost:8080/"
        },
        "id": "ao8959MjPXmD",
        "outputId": "7b912cd7-1b24-4c5a-cced-26d05cd722b0"
      },
      "outputs": [
        {
          "output_type": "stream",
          "name": "stderr",
          "text": [
            "\u001b[32m[I 2022-12-29 10:27:50,162]\u001b[0m A new study created in memory with name: no-name-a8ea2c0e-0260-467c-95f7-fb28a6f7f8af\u001b[0m\n",
            "/usr/local/lib/python3.8/dist-packages/teddynote/models.py:33: FutureWarning: suggest_loguniform has been deprecated in v3.0.0. This feature will be removed in v6.0.0. See https://github.com/optuna/optuna/releases/tag/v3.0.0. Use :func:`~optuna.trial.Trial.suggest_float` instead.\n",
            "  return trial.suggest_loguniform(self.name, self.low, self.high)\n",
            "/usr/local/lib/python3.8/dist-packages/teddynote/models.py:35: FutureWarning: suggest_uniform has been deprecated in v3.0.0. This feature will be removed in v6.0.0. See https://github.com/optuna/optuna/releases/tag/v3.0.0. Use :func:`~optuna.trial.Trial.suggest_float` instead.\n",
            "  return trial.suggest_uniform(self.name, self.low, self.high)\n",
            "/usr/local/lib/python3.8/dist-packages/teddynote/models.py:33: FutureWarning: suggest_loguniform has been deprecated in v3.0.0. This feature will be removed in v6.0.0. See https://github.com/optuna/optuna/releases/tag/v3.0.0. Use :func:`~optuna.trial.Trial.suggest_float` instead.\n",
            "  return trial.suggest_loguniform(self.name, self.low, self.high)\n",
            "/usr/local/lib/python3.8/dist-packages/teddynote/models.py:35: FutureWarning: suggest_uniform has been deprecated in v3.0.0. This feature will be removed in v6.0.0. See https://github.com/optuna/optuna/releases/tag/v3.0.0. Use :func:`~optuna.trial.Trial.suggest_float` instead.\n",
            "  return trial.suggest_uniform(self.name, self.low, self.high)\n"
          ]
        },
        {
          "output_type": "stream",
          "name": "stdout",
          "text": [
            "metric type: f1, score: 0.22489\n",
            "metric type: f1, score: 0.30237\n"
          ]
        },
        {
          "output_type": "stream",
          "name": "stderr",
          "text": [
            "/usr/local/lib/python3.8/dist-packages/teddynote/models.py:33: FutureWarning: suggest_loguniform has been deprecated in v3.0.0. This feature will be removed in v6.0.0. See https://github.com/optuna/optuna/releases/tag/v3.0.0. Use :func:`~optuna.trial.Trial.suggest_float` instead.\n",
            "  return trial.suggest_loguniform(self.name, self.low, self.high)\n",
            "/usr/local/lib/python3.8/dist-packages/teddynote/models.py:35: FutureWarning: suggest_uniform has been deprecated in v3.0.0. This feature will be removed in v6.0.0. See https://github.com/optuna/optuna/releases/tag/v3.0.0. Use :func:`~optuna.trial.Trial.suggest_float` instead.\n",
            "  return trial.suggest_uniform(self.name, self.low, self.high)\n",
            "/usr/local/lib/python3.8/dist-packages/teddynote/models.py:33: FutureWarning: suggest_loguniform has been deprecated in v3.0.0. This feature will be removed in v6.0.0. See https://github.com/optuna/optuna/releases/tag/v3.0.0. Use :func:`~optuna.trial.Trial.suggest_float` instead.\n",
            "  return trial.suggest_loguniform(self.name, self.low, self.high)\n",
            "/usr/local/lib/python3.8/dist-packages/teddynote/models.py:35: FutureWarning: suggest_uniform has been deprecated in v3.0.0. This feature will be removed in v6.0.0. See https://github.com/optuna/optuna/releases/tag/v3.0.0. Use :func:`~optuna.trial.Trial.suggest_float` instead.\n",
            "  return trial.suggest_uniform(self.name, self.low, self.high)\n"
          ]
        },
        {
          "output_type": "stream",
          "name": "stdout",
          "text": [
            "metric type: f1, score: 0.19556\n",
            "metric type: f1, score: 0.39934\n"
          ]
        },
        {
          "output_type": "stream",
          "name": "stderr",
          "text": [
            "/usr/local/lib/python3.8/dist-packages/teddynote/models.py:33: FutureWarning: suggest_loguniform has been deprecated in v3.0.0. This feature will be removed in v6.0.0. See https://github.com/optuna/optuna/releases/tag/v3.0.0. Use :func:`~optuna.trial.Trial.suggest_float` instead.\n",
            "  return trial.suggest_loguniform(self.name, self.low, self.high)\n",
            "/usr/local/lib/python3.8/dist-packages/teddynote/models.py:35: FutureWarning: suggest_uniform has been deprecated in v3.0.0. This feature will be removed in v6.0.0. See https://github.com/optuna/optuna/releases/tag/v3.0.0. Use :func:`~optuna.trial.Trial.suggest_float` instead.\n",
            "  return trial.suggest_uniform(self.name, self.low, self.high)\n",
            "\u001b[32m[I 2022-12-29 10:27:51,080]\u001b[0m Trial 0 finished with value: 0.2671648515035883 and parameters: {'lambda': 0.00021700048030612396, 'alpha': 0.0006069379680421174, 'colsample_bytree': 0.8461094562740125, 'subsample': 0.6442376386586279, 'learning_rate': 0.0007807685100047831, 'n_estimators': 1838, 'max_depth': 9, 'min_child_weight': 139}. Best is trial 0 with value: 0.2671648515035883.\u001b[0m\n",
            "/usr/local/lib/python3.8/dist-packages/teddynote/models.py:33: FutureWarning: suggest_loguniform has been deprecated in v3.0.0. This feature will be removed in v6.0.0. See https://github.com/optuna/optuna/releases/tag/v3.0.0. Use :func:`~optuna.trial.Trial.suggest_float` instead.\n",
            "  return trial.suggest_loguniform(self.name, self.low, self.high)\n",
            "/usr/local/lib/python3.8/dist-packages/teddynote/models.py:35: FutureWarning: suggest_uniform has been deprecated in v3.0.0. This feature will be removed in v6.0.0. See https://github.com/optuna/optuna/releases/tag/v3.0.0. Use :func:`~optuna.trial.Trial.suggest_float` instead.\n",
            "  return trial.suggest_uniform(self.name, self.low, self.high)\n"
          ]
        },
        {
          "output_type": "stream",
          "name": "stdout",
          "text": [
            "metric type: f1, score: 0.21368\n",
            "metric type: f1, score: 0.22489\n"
          ]
        },
        {
          "output_type": "stream",
          "name": "stderr",
          "text": [
            "/usr/local/lib/python3.8/dist-packages/teddynote/models.py:33: FutureWarning: suggest_loguniform has been deprecated in v3.0.0. This feature will be removed in v6.0.0. See https://github.com/optuna/optuna/releases/tag/v3.0.0. Use :func:`~optuna.trial.Trial.suggest_float` instead.\n",
            "  return trial.suggest_loguniform(self.name, self.low, self.high)\n",
            "/usr/local/lib/python3.8/dist-packages/teddynote/models.py:35: FutureWarning: suggest_uniform has been deprecated in v3.0.0. This feature will be removed in v6.0.0. See https://github.com/optuna/optuna/releases/tag/v3.0.0. Use :func:`~optuna.trial.Trial.suggest_float` instead.\n",
            "  return trial.suggest_uniform(self.name, self.low, self.high)\n"
          ]
        },
        {
          "output_type": "stream",
          "name": "stdout",
          "text": [
            "metric type: f1, score: 0.30237\n"
          ]
        },
        {
          "output_type": "stream",
          "name": "stderr",
          "text": [
            "/usr/local/lib/python3.8/dist-packages/teddynote/models.py:33: FutureWarning: suggest_loguniform has been deprecated in v3.0.0. This feature will be removed in v6.0.0. See https://github.com/optuna/optuna/releases/tag/v3.0.0. Use :func:`~optuna.trial.Trial.suggest_float` instead.\n",
            "  return trial.suggest_loguniform(self.name, self.low, self.high)\n",
            "/usr/local/lib/python3.8/dist-packages/teddynote/models.py:35: FutureWarning: suggest_uniform has been deprecated in v3.0.0. This feature will be removed in v6.0.0. See https://github.com/optuna/optuna/releases/tag/v3.0.0. Use :func:`~optuna.trial.Trial.suggest_float` instead.\n",
            "  return trial.suggest_uniform(self.name, self.low, self.high)\n"
          ]
        },
        {
          "output_type": "stream",
          "name": "stdout",
          "text": [
            "metric type: f1, score: 0.19556\n"
          ]
        },
        {
          "output_type": "stream",
          "name": "stderr",
          "text": [
            "/usr/local/lib/python3.8/dist-packages/teddynote/models.py:33: FutureWarning: suggest_loguniform has been deprecated in v3.0.0. This feature will be removed in v6.0.0. See https://github.com/optuna/optuna/releases/tag/v3.0.0. Use :func:`~optuna.trial.Trial.suggest_float` instead.\n",
            "  return trial.suggest_loguniform(self.name, self.low, self.high)\n",
            "/usr/local/lib/python3.8/dist-packages/teddynote/models.py:35: FutureWarning: suggest_uniform has been deprecated in v3.0.0. This feature will be removed in v6.0.0. See https://github.com/optuna/optuna/releases/tag/v3.0.0. Use :func:`~optuna.trial.Trial.suggest_float` instead.\n",
            "  return trial.suggest_uniform(self.name, self.low, self.high)\n"
          ]
        },
        {
          "output_type": "stream",
          "name": "stdout",
          "text": [
            "metric type: f1, score: 0.39934\n"
          ]
        },
        {
          "output_type": "stream",
          "name": "stderr",
          "text": [
            "/usr/local/lib/python3.8/dist-packages/teddynote/models.py:33: FutureWarning: suggest_loguniform has been deprecated in v3.0.0. This feature will be removed in v6.0.0. See https://github.com/optuna/optuna/releases/tag/v3.0.0. Use :func:`~optuna.trial.Trial.suggest_float` instead.\n",
            "  return trial.suggest_loguniform(self.name, self.low, self.high)\n",
            "/usr/local/lib/python3.8/dist-packages/teddynote/models.py:35: FutureWarning: suggest_uniform has been deprecated in v3.0.0. This feature will be removed in v6.0.0. See https://github.com/optuna/optuna/releases/tag/v3.0.0. Use :func:`~optuna.trial.Trial.suggest_float` instead.\n",
            "  return trial.suggest_uniform(self.name, self.low, self.high)\n",
            "\u001b[32m[I 2022-12-29 10:27:52,489]\u001b[0m Trial 1 finished with value: 0.2671648515035883 and parameters: {'lambda': 0.2917350989860049, 'alpha': 0.7700348535785008, 'colsample_bytree': 0.6026254001635424, 'subsample': 0.6818410510969352, 'learning_rate': 2.21982205940932e-05, 'n_estimators': 112, 'max_depth': 17, 'min_child_weight': 48}. Best is trial 0 with value: 0.2671648515035883.\u001b[0m\n"
          ]
        },
        {
          "output_type": "stream",
          "name": "stdout",
          "text": [
            "metric type: f1, score: 0.21368\n",
            "metric type: f1, score: 0.22489\n"
          ]
        },
        {
          "output_type": "stream",
          "name": "stderr",
          "text": [
            "/usr/local/lib/python3.8/dist-packages/teddynote/models.py:33: FutureWarning: suggest_loguniform has been deprecated in v3.0.0. This feature will be removed in v6.0.0. See https://github.com/optuna/optuna/releases/tag/v3.0.0. Use :func:`~optuna.trial.Trial.suggest_float` instead.\n",
            "  return trial.suggest_loguniform(self.name, self.low, self.high)\n",
            "/usr/local/lib/python3.8/dist-packages/teddynote/models.py:35: FutureWarning: suggest_uniform has been deprecated in v3.0.0. This feature will be removed in v6.0.0. See https://github.com/optuna/optuna/releases/tag/v3.0.0. Use :func:`~optuna.trial.Trial.suggest_float` instead.\n",
            "  return trial.suggest_uniform(self.name, self.low, self.high)\n",
            "/usr/local/lib/python3.8/dist-packages/teddynote/models.py:33: FutureWarning: suggest_loguniform has been deprecated in v3.0.0. This feature will be removed in v6.0.0. See https://github.com/optuna/optuna/releases/tag/v3.0.0. Use :func:`~optuna.trial.Trial.suggest_float` instead.\n",
            "  return trial.suggest_loguniform(self.name, self.low, self.high)\n",
            "/usr/local/lib/python3.8/dist-packages/teddynote/models.py:35: FutureWarning: suggest_uniform has been deprecated in v3.0.0. This feature will be removed in v6.0.0. See https://github.com/optuna/optuna/releases/tag/v3.0.0. Use :func:`~optuna.trial.Trial.suggest_float` instead.\n",
            "  return trial.suggest_uniform(self.name, self.low, self.high)\n"
          ]
        },
        {
          "output_type": "stream",
          "name": "stdout",
          "text": [
            "metric type: f1, score: 0.30237\n",
            "metric type: f1, score: 0.19556\n"
          ]
        },
        {
          "output_type": "stream",
          "name": "stderr",
          "text": [
            "/usr/local/lib/python3.8/dist-packages/teddynote/models.py:33: FutureWarning: suggest_loguniform has been deprecated in v3.0.0. This feature will be removed in v6.0.0. See https://github.com/optuna/optuna/releases/tag/v3.0.0. Use :func:`~optuna.trial.Trial.suggest_float` instead.\n",
            "  return trial.suggest_loguniform(self.name, self.low, self.high)\n",
            "/usr/local/lib/python3.8/dist-packages/teddynote/models.py:35: FutureWarning: suggest_uniform has been deprecated in v3.0.0. This feature will be removed in v6.0.0. See https://github.com/optuna/optuna/releases/tag/v3.0.0. Use :func:`~optuna.trial.Trial.suggest_float` instead.\n",
            "  return trial.suggest_uniform(self.name, self.low, self.high)\n",
            "/usr/local/lib/python3.8/dist-packages/teddynote/models.py:33: FutureWarning: suggest_loguniform has been deprecated in v3.0.0. This feature will be removed in v6.0.0. See https://github.com/optuna/optuna/releases/tag/v3.0.0. Use :func:`~optuna.trial.Trial.suggest_float` instead.\n",
            "  return trial.suggest_loguniform(self.name, self.low, self.high)\n",
            "/usr/local/lib/python3.8/dist-packages/teddynote/models.py:35: FutureWarning: suggest_uniform has been deprecated in v3.0.0. This feature will be removed in v6.0.0. See https://github.com/optuna/optuna/releases/tag/v3.0.0. Use :func:`~optuna.trial.Trial.suggest_float` instead.\n",
            "  return trial.suggest_uniform(self.name, self.low, self.high)\n",
            "/usr/local/lib/python3.8/dist-packages/teddynote/models.py:33: FutureWarning: suggest_loguniform has been deprecated in v3.0.0. This feature will be removed in v6.0.0. See https://github.com/optuna/optuna/releases/tag/v3.0.0. Use :func:`~optuna.trial.Trial.suggest_float` instead.\n",
            "  return trial.suggest_loguniform(self.name, self.low, self.high)\n",
            "/usr/local/lib/python3.8/dist-packages/teddynote/models.py:35: FutureWarning: suggest_uniform has been deprecated in v3.0.0. This feature will be removed in v6.0.0. See https://github.com/optuna/optuna/releases/tag/v3.0.0. Use :func:`~optuna.trial.Trial.suggest_float` instead.\n",
            "  return trial.suggest_uniform(self.name, self.low, self.high)\n",
            "\u001b[32m[I 2022-12-29 10:27:53,358]\u001b[0m Trial 2 finished with value: 0.2671648515035883 and parameters: {'lambda': 8.535989227297716e-05, 'alpha': 2.3877303259574952e-05, 'colsample_bytree': 0.7397778542843353, 'subsample': 0.5497046205792653, 'learning_rate': 0.01226477774441531, 'n_estimators': 1841, 'max_depth': 6, 'min_child_weight': 50}. Best is trial 0 with value: 0.2671648515035883.\u001b[0m\n"
          ]
        },
        {
          "output_type": "stream",
          "name": "stdout",
          "text": [
            "metric type: f1, score: 0.39934\n",
            "metric type: f1, score: 0.21368\n"
          ]
        },
        {
          "output_type": "stream",
          "name": "stderr",
          "text": [
            "/usr/local/lib/python3.8/dist-packages/teddynote/models.py:33: FutureWarning: suggest_loguniform has been deprecated in v3.0.0. This feature will be removed in v6.0.0. See https://github.com/optuna/optuna/releases/tag/v3.0.0. Use :func:`~optuna.trial.Trial.suggest_float` instead.\n",
            "  return trial.suggest_loguniform(self.name, self.low, self.high)\n",
            "/usr/local/lib/python3.8/dist-packages/teddynote/models.py:35: FutureWarning: suggest_uniform has been deprecated in v3.0.0. This feature will be removed in v6.0.0. See https://github.com/optuna/optuna/releases/tag/v3.0.0. Use :func:`~optuna.trial.Trial.suggest_float` instead.\n",
            "  return trial.suggest_uniform(self.name, self.low, self.high)\n",
            "/usr/local/lib/python3.8/dist-packages/teddynote/models.py:33: FutureWarning: suggest_loguniform has been deprecated in v3.0.0. This feature will be removed in v6.0.0. See https://github.com/optuna/optuna/releases/tag/v3.0.0. Use :func:`~optuna.trial.Trial.suggest_float` instead.\n",
            "  return trial.suggest_loguniform(self.name, self.low, self.high)\n",
            "/usr/local/lib/python3.8/dist-packages/teddynote/models.py:35: FutureWarning: suggest_uniform has been deprecated in v3.0.0. This feature will be removed in v6.0.0. See https://github.com/optuna/optuna/releases/tag/v3.0.0. Use :func:`~optuna.trial.Trial.suggest_float` instead.\n",
            "  return trial.suggest_uniform(self.name, self.low, self.high)\n"
          ]
        },
        {
          "output_type": "stream",
          "name": "stdout",
          "text": [
            "metric type: f1, score: 0.22489\n",
            "metric type: f1, score: 0.30237\n"
          ]
        },
        {
          "output_type": "stream",
          "name": "stderr",
          "text": [
            "/usr/local/lib/python3.8/dist-packages/teddynote/models.py:33: FutureWarning: suggest_loguniform has been deprecated in v3.0.0. This feature will be removed in v6.0.0. See https://github.com/optuna/optuna/releases/tag/v3.0.0. Use :func:`~optuna.trial.Trial.suggest_float` instead.\n",
            "  return trial.suggest_loguniform(self.name, self.low, self.high)\n",
            "/usr/local/lib/python3.8/dist-packages/teddynote/models.py:35: FutureWarning: suggest_uniform has been deprecated in v3.0.0. This feature will be removed in v6.0.0. See https://github.com/optuna/optuna/releases/tag/v3.0.0. Use :func:`~optuna.trial.Trial.suggest_float` instead.\n",
            "  return trial.suggest_uniform(self.name, self.low, self.high)\n",
            "/usr/local/lib/python3.8/dist-packages/teddynote/models.py:33: FutureWarning: suggest_loguniform has been deprecated in v3.0.0. This feature will be removed in v6.0.0. See https://github.com/optuna/optuna/releases/tag/v3.0.0. Use :func:`~optuna.trial.Trial.suggest_float` instead.\n",
            "  return trial.suggest_loguniform(self.name, self.low, self.high)\n",
            "/usr/local/lib/python3.8/dist-packages/teddynote/models.py:35: FutureWarning: suggest_uniform has been deprecated in v3.0.0. This feature will be removed in v6.0.0. See https://github.com/optuna/optuna/releases/tag/v3.0.0. Use :func:`~optuna.trial.Trial.suggest_float` instead.\n",
            "  return trial.suggest_uniform(self.name, self.low, self.high)\n"
          ]
        },
        {
          "output_type": "stream",
          "name": "stdout",
          "text": [
            "metric type: f1, score: 0.19556\n",
            "metric type: f1, score: 0.39934\n"
          ]
        },
        {
          "output_type": "stream",
          "name": "stderr",
          "text": [
            "/usr/local/lib/python3.8/dist-packages/teddynote/models.py:33: FutureWarning: suggest_loguniform has been deprecated in v3.0.0. This feature will be removed in v6.0.0. See https://github.com/optuna/optuna/releases/tag/v3.0.0. Use :func:`~optuna.trial.Trial.suggest_float` instead.\n",
            "  return trial.suggest_loguniform(self.name, self.low, self.high)\n",
            "/usr/local/lib/python3.8/dist-packages/teddynote/models.py:35: FutureWarning: suggest_uniform has been deprecated in v3.0.0. This feature will be removed in v6.0.0. See https://github.com/optuna/optuna/releases/tag/v3.0.0. Use :func:`~optuna.trial.Trial.suggest_float` instead.\n",
            "  return trial.suggest_uniform(self.name, self.low, self.high)\n",
            "\u001b[32m[I 2022-12-29 10:27:54,125]\u001b[0m Trial 3 finished with value: 0.2671648515035883 and parameters: {'lambda': 0.0038570022991302006, 'alpha': 0.29262620641464465, 'colsample_bytree': 0.688520896445739, 'subsample': 0.8497850584575157, 'learning_rate': 0.025171671801031248, 'n_estimators': 2323, 'max_depth': 11, 'min_child_weight': 276}. Best is trial 0 with value: 0.2671648515035883.\u001b[0m\n",
            "/usr/local/lib/python3.8/dist-packages/teddynote/models.py:33: FutureWarning: suggest_loguniform has been deprecated in v3.0.0. This feature will be removed in v6.0.0. See https://github.com/optuna/optuna/releases/tag/v3.0.0. Use :func:`~optuna.trial.Trial.suggest_float` instead.\n",
            "  return trial.suggest_loguniform(self.name, self.low, self.high)\n",
            "/usr/local/lib/python3.8/dist-packages/teddynote/models.py:35: FutureWarning: suggest_uniform has been deprecated in v3.0.0. This feature will be removed in v6.0.0. See https://github.com/optuna/optuna/releases/tag/v3.0.0. Use :func:`~optuna.trial.Trial.suggest_float` instead.\n",
            "  return trial.suggest_uniform(self.name, self.low, self.high)\n"
          ]
        },
        {
          "output_type": "stream",
          "name": "stdout",
          "text": [
            "metric type: f1, score: 0.21368\n",
            "metric type: f1, score: 0.22489\n"
          ]
        },
        {
          "output_type": "stream",
          "name": "stderr",
          "text": [
            "/usr/local/lib/python3.8/dist-packages/teddynote/models.py:33: FutureWarning: suggest_loguniform has been deprecated in v3.0.0. This feature will be removed in v6.0.0. See https://github.com/optuna/optuna/releases/tag/v3.0.0. Use :func:`~optuna.trial.Trial.suggest_float` instead.\n",
            "  return trial.suggest_loguniform(self.name, self.low, self.high)\n",
            "/usr/local/lib/python3.8/dist-packages/teddynote/models.py:35: FutureWarning: suggest_uniform has been deprecated in v3.0.0. This feature will be removed in v6.0.0. See https://github.com/optuna/optuna/releases/tag/v3.0.0. Use :func:`~optuna.trial.Trial.suggest_float` instead.\n",
            "  return trial.suggest_uniform(self.name, self.low, self.high)\n",
            "/usr/local/lib/python3.8/dist-packages/teddynote/models.py:33: FutureWarning: suggest_loguniform has been deprecated in v3.0.0. This feature will be removed in v6.0.0. See https://github.com/optuna/optuna/releases/tag/v3.0.0. Use :func:`~optuna.trial.Trial.suggest_float` instead.\n",
            "  return trial.suggest_loguniform(self.name, self.low, self.high)\n",
            "/usr/local/lib/python3.8/dist-packages/teddynote/models.py:35: FutureWarning: suggest_uniform has been deprecated in v3.0.0. This feature will be removed in v6.0.0. See https://github.com/optuna/optuna/releases/tag/v3.0.0. Use :func:`~optuna.trial.Trial.suggest_float` instead.\n",
            "  return trial.suggest_uniform(self.name, self.low, self.high)\n"
          ]
        },
        {
          "output_type": "stream",
          "name": "stdout",
          "text": [
            "metric type: f1, score: 0.30237\n",
            "metric type: f1, score: 0.19556\n"
          ]
        },
        {
          "output_type": "stream",
          "name": "stderr",
          "text": [
            "/usr/local/lib/python3.8/dist-packages/teddynote/models.py:33: FutureWarning: suggest_loguniform has been deprecated in v3.0.0. This feature will be removed in v6.0.0. See https://github.com/optuna/optuna/releases/tag/v3.0.0. Use :func:`~optuna.trial.Trial.suggest_float` instead.\n",
            "  return trial.suggest_loguniform(self.name, self.low, self.high)\n",
            "/usr/local/lib/python3.8/dist-packages/teddynote/models.py:35: FutureWarning: suggest_uniform has been deprecated in v3.0.0. This feature will be removed in v6.0.0. See https://github.com/optuna/optuna/releases/tag/v3.0.0. Use :func:`~optuna.trial.Trial.suggest_float` instead.\n",
            "  return trial.suggest_uniform(self.name, self.low, self.high)\n",
            "/usr/local/lib/python3.8/dist-packages/teddynote/models.py:33: FutureWarning: suggest_loguniform has been deprecated in v3.0.0. This feature will be removed in v6.0.0. See https://github.com/optuna/optuna/releases/tag/v3.0.0. Use :func:`~optuna.trial.Trial.suggest_float` instead.\n",
            "  return trial.suggest_loguniform(self.name, self.low, self.high)\n",
            "/usr/local/lib/python3.8/dist-packages/teddynote/models.py:35: FutureWarning: suggest_uniform has been deprecated in v3.0.0. This feature will be removed in v6.0.0. See https://github.com/optuna/optuna/releases/tag/v3.0.0. Use :func:`~optuna.trial.Trial.suggest_float` instead.\n",
            "  return trial.suggest_uniform(self.name, self.low, self.high)\n",
            "\u001b[32m[I 2022-12-29 10:27:55,020]\u001b[0m Trial 4 finished with value: 0.2671648515035883 and parameters: {'lambda': 0.0037962346734197053, 'alpha': 0.6329016026830263, 'colsample_bytree': 0.8130930923379409, 'subsample': 0.6792697247641264, 'learning_rate': 0.0023647479392167057, 'n_estimators': 2640, 'max_depth': 8, 'min_child_weight': 179}. Best is trial 0 with value: 0.2671648515035883.\u001b[0m\n"
          ]
        },
        {
          "output_type": "stream",
          "name": "stdout",
          "text": [
            "metric type: f1, score: 0.39934\n",
            "metric type: f1, score: 0.21368\n"
          ]
        },
        {
          "output_type": "stream",
          "name": "stderr",
          "text": [
            "/usr/local/lib/python3.8/dist-packages/teddynote/models.py:33: FutureWarning: suggest_loguniform has been deprecated in v3.0.0. This feature will be removed in v6.0.0. See https://github.com/optuna/optuna/releases/tag/v3.0.0. Use :func:`~optuna.trial.Trial.suggest_float` instead.\n",
            "  return trial.suggest_loguniform(self.name, self.low, self.high)\n",
            "/usr/local/lib/python3.8/dist-packages/teddynote/models.py:35: FutureWarning: suggest_uniform has been deprecated in v3.0.0. This feature will be removed in v6.0.0. See https://github.com/optuna/optuna/releases/tag/v3.0.0. Use :func:`~optuna.trial.Trial.suggest_float` instead.\n",
            "  return trial.suggest_uniform(self.name, self.low, self.high)\n",
            "/usr/local/lib/python3.8/dist-packages/teddynote/models.py:33: FutureWarning: suggest_loguniform has been deprecated in v3.0.0. This feature will be removed in v6.0.0. See https://github.com/optuna/optuna/releases/tag/v3.0.0. Use :func:`~optuna.trial.Trial.suggest_float` instead.\n",
            "  return trial.suggest_loguniform(self.name, self.low, self.high)\n",
            "/usr/local/lib/python3.8/dist-packages/teddynote/models.py:35: FutureWarning: suggest_uniform has been deprecated in v3.0.0. This feature will be removed in v6.0.0. See https://github.com/optuna/optuna/releases/tag/v3.0.0. Use :func:`~optuna.trial.Trial.suggest_float` instead.\n",
            "  return trial.suggest_uniform(self.name, self.low, self.high)\n"
          ]
        },
        {
          "output_type": "stream",
          "name": "stdout",
          "text": [
            "metric type: f1, score: 0.22489\n",
            "metric type: f1, score: 0.30237\n"
          ]
        },
        {
          "output_type": "stream",
          "name": "stderr",
          "text": [
            "/usr/local/lib/python3.8/dist-packages/teddynote/models.py:33: FutureWarning: suggest_loguniform has been deprecated in v3.0.0. This feature will be removed in v6.0.0. See https://github.com/optuna/optuna/releases/tag/v3.0.0. Use :func:`~optuna.trial.Trial.suggest_float` instead.\n",
            "  return trial.suggest_loguniform(self.name, self.low, self.high)\n",
            "/usr/local/lib/python3.8/dist-packages/teddynote/models.py:35: FutureWarning: suggest_uniform has been deprecated in v3.0.0. This feature will be removed in v6.0.0. See https://github.com/optuna/optuna/releases/tag/v3.0.0. Use :func:`~optuna.trial.Trial.suggest_float` instead.\n",
            "  return trial.suggest_uniform(self.name, self.low, self.high)\n",
            "/usr/local/lib/python3.8/dist-packages/teddynote/models.py:33: FutureWarning: suggest_loguniform has been deprecated in v3.0.0. This feature will be removed in v6.0.0. See https://github.com/optuna/optuna/releases/tag/v3.0.0. Use :func:`~optuna.trial.Trial.suggest_float` instead.\n",
            "  return trial.suggest_loguniform(self.name, self.low, self.high)\n",
            "/usr/local/lib/python3.8/dist-packages/teddynote/models.py:35: FutureWarning: suggest_uniform has been deprecated in v3.0.0. This feature will be removed in v6.0.0. See https://github.com/optuna/optuna/releases/tag/v3.0.0. Use :func:`~optuna.trial.Trial.suggest_float` instead.\n",
            "  return trial.suggest_uniform(self.name, self.low, self.high)\n"
          ]
        },
        {
          "output_type": "stream",
          "name": "stdout",
          "text": [
            "metric type: f1, score: 0.19556\n",
            "metric type: f1, score: 0.39934\n"
          ]
        },
        {
          "output_type": "stream",
          "name": "stderr",
          "text": [
            "/usr/local/lib/python3.8/dist-packages/teddynote/models.py:33: FutureWarning: suggest_loguniform has been deprecated in v3.0.0. This feature will be removed in v6.0.0. See https://github.com/optuna/optuna/releases/tag/v3.0.0. Use :func:`~optuna.trial.Trial.suggest_float` instead.\n",
            "  return trial.suggest_loguniform(self.name, self.low, self.high)\n",
            "/usr/local/lib/python3.8/dist-packages/teddynote/models.py:35: FutureWarning: suggest_uniform has been deprecated in v3.0.0. This feature will be removed in v6.0.0. See https://github.com/optuna/optuna/releases/tag/v3.0.0. Use :func:`~optuna.trial.Trial.suggest_float` instead.\n",
            "  return trial.suggest_uniform(self.name, self.low, self.high)\n",
            "\u001b[32m[I 2022-12-29 10:27:55,909]\u001b[0m Trial 5 finished with value: 0.2671648515035883 and parameters: {'lambda': 0.00016089585664162418, 'alpha': 0.020644938684996214, 'colsample_bytree': 0.6481029339429095, 'subsample': 0.7429204168706772, 'learning_rate': 9.540169220688669e-05, 'n_estimators': 2551, 'max_depth': 6, 'min_child_weight': 134}. Best is trial 0 with value: 0.2671648515035883.\u001b[0m\n",
            "/usr/local/lib/python3.8/dist-packages/teddynote/models.py:33: FutureWarning: suggest_loguniform has been deprecated in v3.0.0. This feature will be removed in v6.0.0. See https://github.com/optuna/optuna/releases/tag/v3.0.0. Use :func:`~optuna.trial.Trial.suggest_float` instead.\n",
            "  return trial.suggest_loguniform(self.name, self.low, self.high)\n",
            "/usr/local/lib/python3.8/dist-packages/teddynote/models.py:35: FutureWarning: suggest_uniform has been deprecated in v3.0.0. This feature will be removed in v6.0.0. See https://github.com/optuna/optuna/releases/tag/v3.0.0. Use :func:`~optuna.trial.Trial.suggest_float` instead.\n",
            "  return trial.suggest_uniform(self.name, self.low, self.high)\n"
          ]
        },
        {
          "output_type": "stream",
          "name": "stdout",
          "text": [
            "metric type: f1, score: 0.21368\n",
            "metric type: f1, score: 0.22489\n"
          ]
        },
        {
          "output_type": "stream",
          "name": "stderr",
          "text": [
            "/usr/local/lib/python3.8/dist-packages/teddynote/models.py:33: FutureWarning: suggest_loguniform has been deprecated in v3.0.0. This feature will be removed in v6.0.0. See https://github.com/optuna/optuna/releases/tag/v3.0.0. Use :func:`~optuna.trial.Trial.suggest_float` instead.\n",
            "  return trial.suggest_loguniform(self.name, self.low, self.high)\n",
            "/usr/local/lib/python3.8/dist-packages/teddynote/models.py:35: FutureWarning: suggest_uniform has been deprecated in v3.0.0. This feature will be removed in v6.0.0. See https://github.com/optuna/optuna/releases/tag/v3.0.0. Use :func:`~optuna.trial.Trial.suggest_float` instead.\n",
            "  return trial.suggest_uniform(self.name, self.low, self.high)\n",
            "/usr/local/lib/python3.8/dist-packages/teddynote/models.py:33: FutureWarning: suggest_loguniform has been deprecated in v3.0.0. This feature will be removed in v6.0.0. See https://github.com/optuna/optuna/releases/tag/v3.0.0. Use :func:`~optuna.trial.Trial.suggest_float` instead.\n",
            "  return trial.suggest_loguniform(self.name, self.low, self.high)\n",
            "/usr/local/lib/python3.8/dist-packages/teddynote/models.py:35: FutureWarning: suggest_uniform has been deprecated in v3.0.0. This feature will be removed in v6.0.0. See https://github.com/optuna/optuna/releases/tag/v3.0.0. Use :func:`~optuna.trial.Trial.suggest_float` instead.\n",
            "  return trial.suggest_uniform(self.name, self.low, self.high)\n"
          ]
        },
        {
          "output_type": "stream",
          "name": "stdout",
          "text": [
            "metric type: f1, score: 0.30237\n",
            "metric type: f1, score: 0.19556\n"
          ]
        },
        {
          "output_type": "stream",
          "name": "stderr",
          "text": [
            "/usr/local/lib/python3.8/dist-packages/teddynote/models.py:33: FutureWarning: suggest_loguniform has been deprecated in v3.0.0. This feature will be removed in v6.0.0. See https://github.com/optuna/optuna/releases/tag/v3.0.0. Use :func:`~optuna.trial.Trial.suggest_float` instead.\n",
            "  return trial.suggest_loguniform(self.name, self.low, self.high)\n",
            "/usr/local/lib/python3.8/dist-packages/teddynote/models.py:35: FutureWarning: suggest_uniform has been deprecated in v3.0.0. This feature will be removed in v6.0.0. See https://github.com/optuna/optuna/releases/tag/v3.0.0. Use :func:`~optuna.trial.Trial.suggest_float` instead.\n",
            "  return trial.suggest_uniform(self.name, self.low, self.high)\n",
            "/usr/local/lib/python3.8/dist-packages/teddynote/models.py:33: FutureWarning: suggest_loguniform has been deprecated in v3.0.0. This feature will be removed in v6.0.0. See https://github.com/optuna/optuna/releases/tag/v3.0.0. Use :func:`~optuna.trial.Trial.suggest_float` instead.\n",
            "  return trial.suggest_loguniform(self.name, self.low, self.high)\n",
            "/usr/local/lib/python3.8/dist-packages/teddynote/models.py:35: FutureWarning: suggest_uniform has been deprecated in v3.0.0. This feature will be removed in v6.0.0. See https://github.com/optuna/optuna/releases/tag/v3.0.0. Use :func:`~optuna.trial.Trial.suggest_float` instead.\n",
            "  return trial.suggest_uniform(self.name, self.low, self.high)\n",
            "\u001b[32m[I 2022-12-29 10:27:56,785]\u001b[0m Trial 6 finished with value: 0.2671648515035883 and parameters: {'lambda': 0.09121582296331017, 'alpha': 9.977052341602526e-05, 'colsample_bytree': 0.7817015275339356, 'subsample': 0.6104490503182071, 'learning_rate': 1.714395328687222e-05, 'n_estimators': 4179, 'max_depth': 15, 'min_child_weight': 258}. Best is trial 0 with value: 0.2671648515035883.\u001b[0m\n"
          ]
        },
        {
          "output_type": "stream",
          "name": "stdout",
          "text": [
            "metric type: f1, score: 0.39934\n",
            "metric type: f1, score: 0.21368\n"
          ]
        },
        {
          "output_type": "stream",
          "name": "stderr",
          "text": [
            "/usr/local/lib/python3.8/dist-packages/teddynote/models.py:33: FutureWarning: suggest_loguniform has been deprecated in v3.0.0. This feature will be removed in v6.0.0. See https://github.com/optuna/optuna/releases/tag/v3.0.0. Use :func:`~optuna.trial.Trial.suggest_float` instead.\n",
            "  return trial.suggest_loguniform(self.name, self.low, self.high)\n",
            "/usr/local/lib/python3.8/dist-packages/teddynote/models.py:35: FutureWarning: suggest_uniform has been deprecated in v3.0.0. This feature will be removed in v6.0.0. See https://github.com/optuna/optuna/releases/tag/v3.0.0. Use :func:`~optuna.trial.Trial.suggest_float` instead.\n",
            "  return trial.suggest_uniform(self.name, self.low, self.high)\n",
            "/usr/local/lib/python3.8/dist-packages/teddynote/models.py:33: FutureWarning: suggest_loguniform has been deprecated in v3.0.0. This feature will be removed in v6.0.0. See https://github.com/optuna/optuna/releases/tag/v3.0.0. Use :func:`~optuna.trial.Trial.suggest_float` instead.\n",
            "  return trial.suggest_loguniform(self.name, self.low, self.high)\n",
            "/usr/local/lib/python3.8/dist-packages/teddynote/models.py:35: FutureWarning: suggest_uniform has been deprecated in v3.0.0. This feature will be removed in v6.0.0. See https://github.com/optuna/optuna/releases/tag/v3.0.0. Use :func:`~optuna.trial.Trial.suggest_float` instead.\n",
            "  return trial.suggest_uniform(self.name, self.low, self.high)\n"
          ]
        },
        {
          "output_type": "stream",
          "name": "stdout",
          "text": [
            "metric type: f1, score: 0.22489\n",
            "metric type: f1, score: 0.30237\n"
          ]
        },
        {
          "output_type": "stream",
          "name": "stderr",
          "text": [
            "/usr/local/lib/python3.8/dist-packages/teddynote/models.py:33: FutureWarning: suggest_loguniform has been deprecated in v3.0.0. This feature will be removed in v6.0.0. See https://github.com/optuna/optuna/releases/tag/v3.0.0. Use :func:`~optuna.trial.Trial.suggest_float` instead.\n",
            "  return trial.suggest_loguniform(self.name, self.low, self.high)\n",
            "/usr/local/lib/python3.8/dist-packages/teddynote/models.py:35: FutureWarning: suggest_uniform has been deprecated in v3.0.0. This feature will be removed in v6.0.0. See https://github.com/optuna/optuna/releases/tag/v3.0.0. Use :func:`~optuna.trial.Trial.suggest_float` instead.\n",
            "  return trial.suggest_uniform(self.name, self.low, self.high)\n",
            "/usr/local/lib/python3.8/dist-packages/teddynote/models.py:33: FutureWarning: suggest_loguniform has been deprecated in v3.0.0. This feature will be removed in v6.0.0. See https://github.com/optuna/optuna/releases/tag/v3.0.0. Use :func:`~optuna.trial.Trial.suggest_float` instead.\n",
            "  return trial.suggest_loguniform(self.name, self.low, self.high)\n",
            "/usr/local/lib/python3.8/dist-packages/teddynote/models.py:35: FutureWarning: suggest_uniform has been deprecated in v3.0.0. This feature will be removed in v6.0.0. See https://github.com/optuna/optuna/releases/tag/v3.0.0. Use :func:`~optuna.trial.Trial.suggest_float` instead.\n",
            "  return trial.suggest_uniform(self.name, self.low, self.high)\n"
          ]
        },
        {
          "output_type": "stream",
          "name": "stdout",
          "text": [
            "metric type: f1, score: 0.19556\n",
            "metric type: f1, score: 0.39934\n"
          ]
        },
        {
          "output_type": "stream",
          "name": "stderr",
          "text": [
            "/usr/local/lib/python3.8/dist-packages/teddynote/models.py:33: FutureWarning: suggest_loguniform has been deprecated in v3.0.0. This feature will be removed in v6.0.0. See https://github.com/optuna/optuna/releases/tag/v3.0.0. Use :func:`~optuna.trial.Trial.suggest_float` instead.\n",
            "  return trial.suggest_loguniform(self.name, self.low, self.high)\n",
            "/usr/local/lib/python3.8/dist-packages/teddynote/models.py:35: FutureWarning: suggest_uniform has been deprecated in v3.0.0. This feature will be removed in v6.0.0. See https://github.com/optuna/optuna/releases/tag/v3.0.0. Use :func:`~optuna.trial.Trial.suggest_float` instead.\n",
            "  return trial.suggest_uniform(self.name, self.low, self.high)\n",
            "\u001b[32m[I 2022-12-29 10:27:57,700]\u001b[0m Trial 7 finished with value: 0.2671648515035883 and parameters: {'lambda': 0.00025635049489293064, 'alpha': 1.0443641132219363e-05, 'colsample_bytree': 0.6770097223611039, 'subsample': 0.6138847989278282, 'learning_rate': 0.0032186573263552573, 'n_estimators': 2210, 'max_depth': 28, 'min_child_weight': 168}. Best is trial 0 with value: 0.2671648515035883.\u001b[0m\n",
            "/usr/local/lib/python3.8/dist-packages/teddynote/models.py:33: FutureWarning: suggest_loguniform has been deprecated in v3.0.0. This feature will be removed in v6.0.0. See https://github.com/optuna/optuna/releases/tag/v3.0.0. Use :func:`~optuna.trial.Trial.suggest_float` instead.\n",
            "  return trial.suggest_loguniform(self.name, self.low, self.high)\n",
            "/usr/local/lib/python3.8/dist-packages/teddynote/models.py:35: FutureWarning: suggest_uniform has been deprecated in v3.0.0. This feature will be removed in v6.0.0. See https://github.com/optuna/optuna/releases/tag/v3.0.0. Use :func:`~optuna.trial.Trial.suggest_float` instead.\n",
            "  return trial.suggest_uniform(self.name, self.low, self.high)\n"
          ]
        },
        {
          "output_type": "stream",
          "name": "stdout",
          "text": [
            "metric type: f1, score: 0.21368\n",
            "metric type: f1, score: 0.22489\n"
          ]
        },
        {
          "output_type": "stream",
          "name": "stderr",
          "text": [
            "/usr/local/lib/python3.8/dist-packages/teddynote/models.py:33: FutureWarning: suggest_loguniform has been deprecated in v3.0.0. This feature will be removed in v6.0.0. See https://github.com/optuna/optuna/releases/tag/v3.0.0. Use :func:`~optuna.trial.Trial.suggest_float` instead.\n",
            "  return trial.suggest_loguniform(self.name, self.low, self.high)\n",
            "/usr/local/lib/python3.8/dist-packages/teddynote/models.py:35: FutureWarning: suggest_uniform has been deprecated in v3.0.0. This feature will be removed in v6.0.0. See https://github.com/optuna/optuna/releases/tag/v3.0.0. Use :func:`~optuna.trial.Trial.suggest_float` instead.\n",
            "  return trial.suggest_uniform(self.name, self.low, self.high)\n",
            "/usr/local/lib/python3.8/dist-packages/teddynote/models.py:33: FutureWarning: suggest_loguniform has been deprecated in v3.0.0. This feature will be removed in v6.0.0. See https://github.com/optuna/optuna/releases/tag/v3.0.0. Use :func:`~optuna.trial.Trial.suggest_float` instead.\n",
            "  return trial.suggest_loguniform(self.name, self.low, self.high)\n",
            "/usr/local/lib/python3.8/dist-packages/teddynote/models.py:35: FutureWarning: suggest_uniform has been deprecated in v3.0.0. This feature will be removed in v6.0.0. See https://github.com/optuna/optuna/releases/tag/v3.0.0. Use :func:`~optuna.trial.Trial.suggest_float` instead.\n",
            "  return trial.suggest_uniform(self.name, self.low, self.high)\n"
          ]
        },
        {
          "output_type": "stream",
          "name": "stdout",
          "text": [
            "metric type: f1, score: 0.30237\n",
            "metric type: f1, score: 0.19556\n"
          ]
        },
        {
          "output_type": "stream",
          "name": "stderr",
          "text": [
            "/usr/local/lib/python3.8/dist-packages/teddynote/models.py:33: FutureWarning: suggest_loguniform has been deprecated in v3.0.0. This feature will be removed in v6.0.0. See https://github.com/optuna/optuna/releases/tag/v3.0.0. Use :func:`~optuna.trial.Trial.suggest_float` instead.\n",
            "  return trial.suggest_loguniform(self.name, self.low, self.high)\n",
            "/usr/local/lib/python3.8/dist-packages/teddynote/models.py:35: FutureWarning: suggest_uniform has been deprecated in v3.0.0. This feature will be removed in v6.0.0. See https://github.com/optuna/optuna/releases/tag/v3.0.0. Use :func:`~optuna.trial.Trial.suggest_float` instead.\n",
            "  return trial.suggest_uniform(self.name, self.low, self.high)\n",
            "/usr/local/lib/python3.8/dist-packages/teddynote/models.py:33: FutureWarning: suggest_loguniform has been deprecated in v3.0.0. This feature will be removed in v6.0.0. See https://github.com/optuna/optuna/releases/tag/v3.0.0. Use :func:`~optuna.trial.Trial.suggest_float` instead.\n",
            "  return trial.suggest_loguniform(self.name, self.low, self.high)\n",
            "/usr/local/lib/python3.8/dist-packages/teddynote/models.py:35: FutureWarning: suggest_uniform has been deprecated in v3.0.0. This feature will be removed in v6.0.0. See https://github.com/optuna/optuna/releases/tag/v3.0.0. Use :func:`~optuna.trial.Trial.suggest_float` instead.\n",
            "  return trial.suggest_uniform(self.name, self.low, self.high)\n",
            "\u001b[32m[I 2022-12-29 10:27:58,589]\u001b[0m Trial 8 finished with value: 0.2671648515035883 and parameters: {'lambda': 0.008653371636294665, 'alpha': 1.4616283268342098, 'colsample_bytree': 0.6886083047769761, 'subsample': 0.5691180723020112, 'learning_rate': 0.004741434924400771, 'n_estimators': 2230, 'max_depth': 9, 'min_child_weight': 53}. Best is trial 0 with value: 0.2671648515035883.\u001b[0m\n"
          ]
        },
        {
          "output_type": "stream",
          "name": "stdout",
          "text": [
            "metric type: f1, score: 0.39934\n",
            "metric type: f1, score: 0.21368\n"
          ]
        },
        {
          "output_type": "stream",
          "name": "stderr",
          "text": [
            "/usr/local/lib/python3.8/dist-packages/teddynote/models.py:33: FutureWarning: suggest_loguniform has been deprecated in v3.0.0. This feature will be removed in v6.0.0. See https://github.com/optuna/optuna/releases/tag/v3.0.0. Use :func:`~optuna.trial.Trial.suggest_float` instead.\n",
            "  return trial.suggest_loguniform(self.name, self.low, self.high)\n",
            "/usr/local/lib/python3.8/dist-packages/teddynote/models.py:35: FutureWarning: suggest_uniform has been deprecated in v3.0.0. This feature will be removed in v6.0.0. See https://github.com/optuna/optuna/releases/tag/v3.0.0. Use :func:`~optuna.trial.Trial.suggest_float` instead.\n",
            "  return trial.suggest_uniform(self.name, self.low, self.high)\n",
            "/usr/local/lib/python3.8/dist-packages/teddynote/models.py:33: FutureWarning: suggest_loguniform has been deprecated in v3.0.0. This feature will be removed in v6.0.0. See https://github.com/optuna/optuna/releases/tag/v3.0.0. Use :func:`~optuna.trial.Trial.suggest_float` instead.\n",
            "  return trial.suggest_loguniform(self.name, self.low, self.high)\n",
            "/usr/local/lib/python3.8/dist-packages/teddynote/models.py:35: FutureWarning: suggest_uniform has been deprecated in v3.0.0. This feature will be removed in v6.0.0. See https://github.com/optuna/optuna/releases/tag/v3.0.0. Use :func:`~optuna.trial.Trial.suggest_float` instead.\n",
            "  return trial.suggest_uniform(self.name, self.low, self.high)\n"
          ]
        },
        {
          "output_type": "stream",
          "name": "stdout",
          "text": [
            "metric type: f1, score: 0.22489\n",
            "metric type: f1, score: 0.30237\n"
          ]
        },
        {
          "output_type": "stream",
          "name": "stderr",
          "text": [
            "/usr/local/lib/python3.8/dist-packages/teddynote/models.py:33: FutureWarning: suggest_loguniform has been deprecated in v3.0.0. This feature will be removed in v6.0.0. See https://github.com/optuna/optuna/releases/tag/v3.0.0. Use :func:`~optuna.trial.Trial.suggest_float` instead.\n",
            "  return trial.suggest_loguniform(self.name, self.low, self.high)\n",
            "/usr/local/lib/python3.8/dist-packages/teddynote/models.py:35: FutureWarning: suggest_uniform has been deprecated in v3.0.0. This feature will be removed in v6.0.0. See https://github.com/optuna/optuna/releases/tag/v3.0.0. Use :func:`~optuna.trial.Trial.suggest_float` instead.\n",
            "  return trial.suggest_uniform(self.name, self.low, self.high)\n",
            "/usr/local/lib/python3.8/dist-packages/teddynote/models.py:33: FutureWarning: suggest_loguniform has been deprecated in v3.0.0. This feature will be removed in v6.0.0. See https://github.com/optuna/optuna/releases/tag/v3.0.0. Use :func:`~optuna.trial.Trial.suggest_float` instead.\n",
            "  return trial.suggest_loguniform(self.name, self.low, self.high)\n",
            "/usr/local/lib/python3.8/dist-packages/teddynote/models.py:35: FutureWarning: suggest_uniform has been deprecated in v3.0.0. This feature will be removed in v6.0.0. See https://github.com/optuna/optuna/releases/tag/v3.0.0. Use :func:`~optuna.trial.Trial.suggest_float` instead.\n",
            "  return trial.suggest_uniform(self.name, self.low, self.high)\n"
          ]
        },
        {
          "output_type": "stream",
          "name": "stdout",
          "text": [
            "metric type: f1, score: 0.19556\n",
            "metric type: f1, score: 0.39934\n"
          ]
        },
        {
          "output_type": "stream",
          "name": "stderr",
          "text": [
            "/usr/local/lib/python3.8/dist-packages/teddynote/models.py:33: FutureWarning: suggest_loguniform has been deprecated in v3.0.0. This feature will be removed in v6.0.0. See https://github.com/optuna/optuna/releases/tag/v3.0.0. Use :func:`~optuna.trial.Trial.suggest_float` instead.\n",
            "  return trial.suggest_loguniform(self.name, self.low, self.high)\n",
            "/usr/local/lib/python3.8/dist-packages/teddynote/models.py:35: FutureWarning: suggest_uniform has been deprecated in v3.0.0. This feature will be removed in v6.0.0. See https://github.com/optuna/optuna/releases/tag/v3.0.0. Use :func:`~optuna.trial.Trial.suggest_float` instead.\n",
            "  return trial.suggest_uniform(self.name, self.low, self.high)\n",
            "\u001b[32m[I 2022-12-29 10:27:59,508]\u001b[0m Trial 9 finished with value: 0.2671648515035883 and parameters: {'lambda': 0.000385904292371289, 'alpha': 0.00021393035726406537, 'colsample_bytree': 0.6703151729949002, 'subsample': 0.6182847351386057, 'learning_rate': 0.00010422733918539263, 'n_estimators': 4186, 'max_depth': 8, 'min_child_weight': 46}. Best is trial 0 with value: 0.2671648515035883.\u001b[0m\n",
            "/usr/local/lib/python3.8/dist-packages/teddynote/models.py:33: FutureWarning: suggest_loguniform has been deprecated in v3.0.0. This feature will be removed in v6.0.0. See https://github.com/optuna/optuna/releases/tag/v3.0.0. Use :func:`~optuna.trial.Trial.suggest_float` instead.\n",
            "  return trial.suggest_loguniform(self.name, self.low, self.high)\n",
            "/usr/local/lib/python3.8/dist-packages/teddynote/models.py:35: FutureWarning: suggest_uniform has been deprecated in v3.0.0. This feature will be removed in v6.0.0. See https://github.com/optuna/optuna/releases/tag/v3.0.0. Use :func:`~optuna.trial.Trial.suggest_float` instead.\n",
            "  return trial.suggest_uniform(self.name, self.low, self.high)\n"
          ]
        },
        {
          "output_type": "stream",
          "name": "stdout",
          "text": [
            "metric type: f1, score: 0.21368\n",
            "metric type: f1, score: 0.22489\n",
            "metric type: f1, score: 0.30237\n"
          ]
        },
        {
          "output_type": "stream",
          "name": "stderr",
          "text": [
            "/usr/local/lib/python3.8/dist-packages/teddynote/models.py:33: FutureWarning: suggest_loguniform has been deprecated in v3.0.0. This feature will be removed in v6.0.0. See https://github.com/optuna/optuna/releases/tag/v3.0.0. Use :func:`~optuna.trial.Trial.suggest_float` instead.\n",
            "  return trial.suggest_loguniform(self.name, self.low, self.high)\n",
            "/usr/local/lib/python3.8/dist-packages/teddynote/models.py:35: FutureWarning: suggest_uniform has been deprecated in v3.0.0. This feature will be removed in v6.0.0. See https://github.com/optuna/optuna/releases/tag/v3.0.0. Use :func:`~optuna.trial.Trial.suggest_float` instead.\n",
            "  return trial.suggest_uniform(self.name, self.low, self.high)\n",
            "/usr/local/lib/python3.8/dist-packages/teddynote/models.py:33: FutureWarning: suggest_loguniform has been deprecated in v3.0.0. This feature will be removed in v6.0.0. See https://github.com/optuna/optuna/releases/tag/v3.0.0. Use :func:`~optuna.trial.Trial.suggest_float` instead.\n",
            "  return trial.suggest_loguniform(self.name, self.low, self.high)\n",
            "/usr/local/lib/python3.8/dist-packages/teddynote/models.py:35: FutureWarning: suggest_uniform has been deprecated in v3.0.0. This feature will be removed in v6.0.0. See https://github.com/optuna/optuna/releases/tag/v3.0.0. Use :func:`~optuna.trial.Trial.suggest_float` instead.\n",
            "  return trial.suggest_uniform(self.name, self.low, self.high)\n"
          ]
        },
        {
          "output_type": "stream",
          "name": "stdout",
          "text": [
            "metric type: f1, score: 0.19556\n",
            "metric type: f1, score: 0.39934\n"
          ]
        },
        {
          "output_type": "stream",
          "name": "stderr",
          "text": [
            "/usr/local/lib/python3.8/dist-packages/teddynote/models.py:33: FutureWarning: suggest_loguniform has been deprecated in v3.0.0. This feature will be removed in v6.0.0. See https://github.com/optuna/optuna/releases/tag/v3.0.0. Use :func:`~optuna.trial.Trial.suggest_float` instead.\n",
            "  return trial.suggest_loguniform(self.name, self.low, self.high)\n",
            "/usr/local/lib/python3.8/dist-packages/teddynote/models.py:35: FutureWarning: suggest_uniform has been deprecated in v3.0.0. This feature will be removed in v6.0.0. See https://github.com/optuna/optuna/releases/tag/v3.0.0. Use :func:`~optuna.trial.Trial.suggest_float` instead.\n",
            "  return trial.suggest_uniform(self.name, self.low, self.high)\n",
            "/usr/local/lib/python3.8/dist-packages/teddynote/models.py:33: FutureWarning: suggest_loguniform has been deprecated in v3.0.0. This feature will be removed in v6.0.0. See https://github.com/optuna/optuna/releases/tag/v3.0.0. Use :func:`~optuna.trial.Trial.suggest_float` instead.\n",
            "  return trial.suggest_loguniform(self.name, self.low, self.high)\n",
            "/usr/local/lib/python3.8/dist-packages/teddynote/models.py:35: FutureWarning: suggest_uniform has been deprecated in v3.0.0. This feature will be removed in v6.0.0. See https://github.com/optuna/optuna/releases/tag/v3.0.0. Use :func:`~optuna.trial.Trial.suggest_float` instead.\n",
            "  return trial.suggest_uniform(self.name, self.low, self.high)\n",
            "\u001b[32m[I 2022-12-29 10:28:00,422]\u001b[0m Trial 10 finished with value: 0.2671648515035883 and parameters: {'lambda': 1.116132146840078e-05, 'alpha': 0.002076091649806646, 'colsample_bytree': 0.8933201380366151, 'subsample': 0.7970724582627541, 'learning_rate': 0.00037465497604382186, 'n_estimators': 762, 'max_depth': 25, 'min_child_weight': 108}. Best is trial 0 with value: 0.2671648515035883.\u001b[0m\n"
          ]
        },
        {
          "output_type": "stream",
          "name": "stdout",
          "text": [
            "metric type: f1, score: 0.21368\n"
          ]
        },
        {
          "output_type": "stream",
          "name": "stderr",
          "text": [
            "/usr/local/lib/python3.8/dist-packages/teddynote/models.py:33: FutureWarning: suggest_loguniform has been deprecated in v3.0.0. This feature will be removed in v6.0.0. See https://github.com/optuna/optuna/releases/tag/v3.0.0. Use :func:`~optuna.trial.Trial.suggest_float` instead.\n",
            "  return trial.suggest_loguniform(self.name, self.low, self.high)\n",
            "/usr/local/lib/python3.8/dist-packages/teddynote/models.py:35: FutureWarning: suggest_uniform has been deprecated in v3.0.0. This feature will be removed in v6.0.0. See https://github.com/optuna/optuna/releases/tag/v3.0.0. Use :func:`~optuna.trial.Trial.suggest_float` instead.\n",
            "  return trial.suggest_uniform(self.name, self.low, self.high)\n"
          ]
        },
        {
          "output_type": "stream",
          "name": "stdout",
          "text": [
            "metric type: f1, score: 0.92242\n",
            "metric type: f1, score: 0.90524\n"
          ]
        },
        {
          "output_type": "stream",
          "name": "stderr",
          "text": [
            "/usr/local/lib/python3.8/dist-packages/teddynote/models.py:33: FutureWarning: suggest_loguniform has been deprecated in v3.0.0. This feature will be removed in v6.0.0. See https://github.com/optuna/optuna/releases/tag/v3.0.0. Use :func:`~optuna.trial.Trial.suggest_float` instead.\n",
            "  return trial.suggest_loguniform(self.name, self.low, self.high)\n",
            "/usr/local/lib/python3.8/dist-packages/teddynote/models.py:35: FutureWarning: suggest_uniform has been deprecated in v3.0.0. This feature will be removed in v6.0.0. See https://github.com/optuna/optuna/releases/tag/v3.0.0. Use :func:`~optuna.trial.Trial.suggest_float` instead.\n",
            "  return trial.suggest_uniform(self.name, self.low, self.high)\n",
            "/usr/local/lib/python3.8/dist-packages/teddynote/models.py:33: FutureWarning: suggest_loguniform has been deprecated in v3.0.0. This feature will be removed in v6.0.0. See https://github.com/optuna/optuna/releases/tag/v3.0.0. Use :func:`~optuna.trial.Trial.suggest_float` instead.\n",
            "  return trial.suggest_loguniform(self.name, self.low, self.high)\n",
            "/usr/local/lib/python3.8/dist-packages/teddynote/models.py:35: FutureWarning: suggest_uniform has been deprecated in v3.0.0. This feature will be removed in v6.0.0. See https://github.com/optuna/optuna/releases/tag/v3.0.0. Use :func:`~optuna.trial.Trial.suggest_float` instead.\n",
            "  return trial.suggest_uniform(self.name, self.low, self.high)\n"
          ]
        },
        {
          "output_type": "stream",
          "name": "stdout",
          "text": [
            "metric type: f1, score: 0.88389\n",
            "metric type: f1, score: 0.91857\n"
          ]
        },
        {
          "output_type": "stream",
          "name": "stderr",
          "text": [
            "/usr/local/lib/python3.8/dist-packages/teddynote/models.py:33: FutureWarning: suggest_loguniform has been deprecated in v3.0.0. This feature will be removed in v6.0.0. See https://github.com/optuna/optuna/releases/tag/v3.0.0. Use :func:`~optuna.trial.Trial.suggest_float` instead.\n",
            "  return trial.suggest_loguniform(self.name, self.low, self.high)\n",
            "/usr/local/lib/python3.8/dist-packages/teddynote/models.py:35: FutureWarning: suggest_uniform has been deprecated in v3.0.0. This feature will be removed in v6.0.0. See https://github.com/optuna/optuna/releases/tag/v3.0.0. Use :func:`~optuna.trial.Trial.suggest_float` instead.\n",
            "  return trial.suggest_uniform(self.name, self.low, self.high)\n",
            "/usr/local/lib/python3.8/dist-packages/teddynote/models.py:33: FutureWarning: suggest_loguniform has been deprecated in v3.0.0. This feature will be removed in v6.0.0. See https://github.com/optuna/optuna/releases/tag/v3.0.0. Use :func:`~optuna.trial.Trial.suggest_float` instead.\n",
            "  return trial.suggest_loguniform(self.name, self.low, self.high)\n",
            "/usr/local/lib/python3.8/dist-packages/teddynote/models.py:35: FutureWarning: suggest_uniform has been deprecated in v3.0.0. This feature will be removed in v6.0.0. See https://github.com/optuna/optuna/releases/tag/v3.0.0. Use :func:`~optuna.trial.Trial.suggest_float` instead.\n",
            "  return trial.suggest_uniform(self.name, self.low, self.high)\n",
            "\u001b[32m[I 2022-12-29 10:28:01,447]\u001b[0m Trial 11 finished with value: 0.9142462068212301 and parameters: {'lambda': 3.6881256331525614, 'alpha': 0.01479499904326015, 'colsample_bytree': 0.5408732909000584, 'subsample': 0.7070242329584275, 'learning_rate': 1.0937486080027896e-05, 'n_estimators': 178, 'max_depth': 20, 'min_child_weight': 9}. Best is trial 11 with value: 0.9142462068212301.\u001b[0m\n"
          ]
        },
        {
          "output_type": "stream",
          "name": "stdout",
          "text": [
            "metric type: f1, score: 0.94112\n"
          ]
        },
        {
          "output_type": "stream",
          "name": "stderr",
          "text": [
            "/usr/local/lib/python3.8/dist-packages/teddynote/models.py:33: FutureWarning: suggest_loguniform has been deprecated in v3.0.0. This feature will be removed in v6.0.0. See https://github.com/optuna/optuna/releases/tag/v3.0.0. Use :func:`~optuna.trial.Trial.suggest_float` instead.\n",
            "  return trial.suggest_loguniform(self.name, self.low, self.high)\n",
            "/usr/local/lib/python3.8/dist-packages/teddynote/models.py:35: FutureWarning: suggest_uniform has been deprecated in v3.0.0. This feature will be removed in v6.0.0. See https://github.com/optuna/optuna/releases/tag/v3.0.0. Use :func:`~optuna.trial.Trial.suggest_float` instead.\n",
            "  return trial.suggest_uniform(self.name, self.low, self.high)\n",
            "/usr/local/lib/python3.8/dist-packages/teddynote/models.py:33: FutureWarning: suggest_loguniform has been deprecated in v3.0.0. This feature will be removed in v6.0.0. See https://github.com/optuna/optuna/releases/tag/v3.0.0. Use :func:`~optuna.trial.Trial.suggest_float` instead.\n",
            "  return trial.suggest_loguniform(self.name, self.low, self.high)\n",
            "/usr/local/lib/python3.8/dist-packages/teddynote/models.py:35: FutureWarning: suggest_uniform has been deprecated in v3.0.0. This feature will be removed in v6.0.0. See https://github.com/optuna/optuna/releases/tag/v3.0.0. Use :func:`~optuna.trial.Trial.suggest_float` instead.\n",
            "  return trial.suggest_uniform(self.name, self.low, self.high)\n"
          ]
        },
        {
          "output_type": "stream",
          "name": "stdout",
          "text": [
            "metric type: f1, score: 0.22489\n",
            "metric type: f1, score: 0.30237\n"
          ]
        },
        {
          "output_type": "stream",
          "name": "stderr",
          "text": [
            "/usr/local/lib/python3.8/dist-packages/teddynote/models.py:33: FutureWarning: suggest_loguniform has been deprecated in v3.0.0. This feature will be removed in v6.0.0. See https://github.com/optuna/optuna/releases/tag/v3.0.0. Use :func:`~optuna.trial.Trial.suggest_float` instead.\n",
            "  return trial.suggest_loguniform(self.name, self.low, self.high)\n",
            "/usr/local/lib/python3.8/dist-packages/teddynote/models.py:35: FutureWarning: suggest_uniform has been deprecated in v3.0.0. This feature will be removed in v6.0.0. See https://github.com/optuna/optuna/releases/tag/v3.0.0. Use :func:`~optuna.trial.Trial.suggest_float` instead.\n",
            "  return trial.suggest_uniform(self.name, self.low, self.high)\n",
            "/usr/local/lib/python3.8/dist-packages/teddynote/models.py:33: FutureWarning: suggest_loguniform has been deprecated in v3.0.0. This feature will be removed in v6.0.0. See https://github.com/optuna/optuna/releases/tag/v3.0.0. Use :func:`~optuna.trial.Trial.suggest_float` instead.\n",
            "  return trial.suggest_loguniform(self.name, self.low, self.high)\n",
            "/usr/local/lib/python3.8/dist-packages/teddynote/models.py:35: FutureWarning: suggest_uniform has been deprecated in v3.0.0. This feature will be removed in v6.0.0. See https://github.com/optuna/optuna/releases/tag/v3.0.0. Use :func:`~optuna.trial.Trial.suggest_float` instead.\n",
            "  return trial.suggest_uniform(self.name, self.low, self.high)\n"
          ]
        },
        {
          "output_type": "stream",
          "name": "stdout",
          "text": [
            "metric type: f1, score: 0.19556\n",
            "metric type: f1, score: 0.39934\n"
          ]
        },
        {
          "output_type": "stream",
          "name": "stderr",
          "text": [
            "/usr/local/lib/python3.8/dist-packages/teddynote/models.py:33: FutureWarning: suggest_loguniform has been deprecated in v3.0.0. This feature will be removed in v6.0.0. See https://github.com/optuna/optuna/releases/tag/v3.0.0. Use :func:`~optuna.trial.Trial.suggest_float` instead.\n",
            "  return trial.suggest_loguniform(self.name, self.low, self.high)\n",
            "/usr/local/lib/python3.8/dist-packages/teddynote/models.py:35: FutureWarning: suggest_uniform has been deprecated in v3.0.0. This feature will be removed in v6.0.0. See https://github.com/optuna/optuna/releases/tag/v3.0.0. Use :func:`~optuna.trial.Trial.suggest_float` instead.\n",
            "  return trial.suggest_uniform(self.name, self.low, self.high)\n",
            "\u001b[32m[I 2022-12-29 10:28:02,349]\u001b[0m Trial 12 finished with value: 0.2671648515035883 and parameters: {'lambda': 2.9073678339150004, 'alpha': 0.0095690615833419, 'colsample_bytree': 0.5338120506050372, 'subsample': 0.7383765791927334, 'learning_rate': 0.0005404764024500248, 'n_estimators': 1183, 'max_depth': 21, 'min_child_weight': 211}. Best is trial 11 with value: 0.9142462068212301.\u001b[0m\n",
            "/usr/local/lib/python3.8/dist-packages/teddynote/models.py:33: FutureWarning: suggest_loguniform has been deprecated in v3.0.0. This feature will be removed in v6.0.0. See https://github.com/optuna/optuna/releases/tag/v3.0.0. Use :func:`~optuna.trial.Trial.suggest_float` instead.\n",
            "  return trial.suggest_loguniform(self.name, self.low, self.high)\n",
            "/usr/local/lib/python3.8/dist-packages/teddynote/models.py:35: FutureWarning: suggest_uniform has been deprecated in v3.0.0. This feature will be removed in v6.0.0. See https://github.com/optuna/optuna/releases/tag/v3.0.0. Use :func:`~optuna.trial.Trial.suggest_float` instead.\n",
            "  return trial.suggest_uniform(self.name, self.low, self.high)\n"
          ]
        },
        {
          "output_type": "stream",
          "name": "stdout",
          "text": [
            "metric type: f1, score: 0.21368\n",
            "metric type: f1, score: 0.22489\n"
          ]
        },
        {
          "output_type": "stream",
          "name": "stderr",
          "text": [
            "/usr/local/lib/python3.8/dist-packages/teddynote/models.py:33: FutureWarning: suggest_loguniform has been deprecated in v3.0.0. This feature will be removed in v6.0.0. See https://github.com/optuna/optuna/releases/tag/v3.0.0. Use :func:`~optuna.trial.Trial.suggest_float` instead.\n",
            "  return trial.suggest_loguniform(self.name, self.low, self.high)\n",
            "/usr/local/lib/python3.8/dist-packages/teddynote/models.py:35: FutureWarning: suggest_uniform has been deprecated in v3.0.0. This feature will be removed in v6.0.0. See https://github.com/optuna/optuna/releases/tag/v3.0.0. Use :func:`~optuna.trial.Trial.suggest_float` instead.\n",
            "  return trial.suggest_uniform(self.name, self.low, self.high)\n",
            "/usr/local/lib/python3.8/dist-packages/teddynote/models.py:33: FutureWarning: suggest_loguniform has been deprecated in v3.0.0. This feature will be removed in v6.0.0. See https://github.com/optuna/optuna/releases/tag/v3.0.0. Use :func:`~optuna.trial.Trial.suggest_float` instead.\n",
            "  return trial.suggest_loguniform(self.name, self.low, self.high)\n",
            "/usr/local/lib/python3.8/dist-packages/teddynote/models.py:35: FutureWarning: suggest_uniform has been deprecated in v3.0.0. This feature will be removed in v6.0.0. See https://github.com/optuna/optuna/releases/tag/v3.0.0. Use :func:`~optuna.trial.Trial.suggest_float` instead.\n",
            "  return trial.suggest_uniform(self.name, self.low, self.high)\n"
          ]
        },
        {
          "output_type": "stream",
          "name": "stdout",
          "text": [
            "metric type: f1, score: 0.30237\n",
            "metric type: f1, score: 0.19556\n"
          ]
        },
        {
          "output_type": "stream",
          "name": "stderr",
          "text": [
            "/usr/local/lib/python3.8/dist-packages/teddynote/models.py:33: FutureWarning: suggest_loguniform has been deprecated in v3.0.0. This feature will be removed in v6.0.0. See https://github.com/optuna/optuna/releases/tag/v3.0.0. Use :func:`~optuna.trial.Trial.suggest_float` instead.\n",
            "  return trial.suggest_loguniform(self.name, self.low, self.high)\n",
            "/usr/local/lib/python3.8/dist-packages/teddynote/models.py:35: FutureWarning: suggest_uniform has been deprecated in v3.0.0. This feature will be removed in v6.0.0. See https://github.com/optuna/optuna/releases/tag/v3.0.0. Use :func:`~optuna.trial.Trial.suggest_float` instead.\n",
            "  return trial.suggest_uniform(self.name, self.low, self.high)\n",
            "/usr/local/lib/python3.8/dist-packages/teddynote/models.py:33: FutureWarning: suggest_loguniform has been deprecated in v3.0.0. This feature will be removed in v6.0.0. See https://github.com/optuna/optuna/releases/tag/v3.0.0. Use :func:`~optuna.trial.Trial.suggest_float` instead.\n",
            "  return trial.suggest_loguniform(self.name, self.low, self.high)\n",
            "/usr/local/lib/python3.8/dist-packages/teddynote/models.py:35: FutureWarning: suggest_uniform has been deprecated in v3.0.0. This feature will be removed in v6.0.0. See https://github.com/optuna/optuna/releases/tag/v3.0.0. Use :func:`~optuna.trial.Trial.suggest_float` instead.\n",
            "  return trial.suggest_uniform(self.name, self.low, self.high)\n",
            "\u001b[32m[I 2022-12-29 10:28:03,036]\u001b[0m Trial 13 finished with value: 0.2671648515035883 and parameters: {'lambda': 3.2523692702536446, 'alpha': 0.0010028276401487849, 'colsample_bytree': 0.5039010061405179, 'subsample': 0.5164263698834957, 'learning_rate': 0.09333484090923046, 'n_estimators': 3230, 'max_depth': 21, 'min_child_weight': 109}. Best is trial 11 with value: 0.9142462068212301.\u001b[0m\n"
          ]
        },
        {
          "output_type": "stream",
          "name": "stdout",
          "text": [
            "metric type: f1, score: 0.39934\n",
            "metric type: f1, score: 0.21368\n"
          ]
        },
        {
          "output_type": "stream",
          "name": "stderr",
          "text": [
            "/usr/local/lib/python3.8/dist-packages/teddynote/models.py:33: FutureWarning: suggest_loguniform has been deprecated in v3.0.0. This feature will be removed in v6.0.0. See https://github.com/optuna/optuna/releases/tag/v3.0.0. Use :func:`~optuna.trial.Trial.suggest_float` instead.\n",
            "  return trial.suggest_loguniform(self.name, self.low, self.high)\n",
            "/usr/local/lib/python3.8/dist-packages/teddynote/models.py:35: FutureWarning: suggest_uniform has been deprecated in v3.0.0. This feature will be removed in v6.0.0. See https://github.com/optuna/optuna/releases/tag/v3.0.0. Use :func:`~optuna.trial.Trial.suggest_float` instead.\n",
            "  return trial.suggest_uniform(self.name, self.low, self.high)\n"
          ]
        },
        {
          "output_type": "stream",
          "name": "stdout",
          "text": [
            "metric type: f1, score: 0.98105\n",
            "metric type: f1, score: 0.88679\n"
          ]
        },
        {
          "output_type": "stream",
          "name": "stderr",
          "text": [
            "/usr/local/lib/python3.8/dist-packages/teddynote/models.py:33: FutureWarning: suggest_loguniform has been deprecated in v3.0.0. This feature will be removed in v6.0.0. See https://github.com/optuna/optuna/releases/tag/v3.0.0. Use :func:`~optuna.trial.Trial.suggest_float` instead.\n",
            "  return trial.suggest_loguniform(self.name, self.low, self.high)\n",
            "/usr/local/lib/python3.8/dist-packages/teddynote/models.py:35: FutureWarning: suggest_uniform has been deprecated in v3.0.0. This feature will be removed in v6.0.0. See https://github.com/optuna/optuna/releases/tag/v3.0.0. Use :func:`~optuna.trial.Trial.suggest_float` instead.\n",
            "  return trial.suggest_uniform(self.name, self.low, self.high)\n",
            "/usr/local/lib/python3.8/dist-packages/teddynote/models.py:33: FutureWarning: suggest_loguniform has been deprecated in v3.0.0. This feature will be removed in v6.0.0. See https://github.com/optuna/optuna/releases/tag/v3.0.0. Use :func:`~optuna.trial.Trial.suggest_float` instead.\n",
            "  return trial.suggest_loguniform(self.name, self.low, self.high)\n",
            "/usr/local/lib/python3.8/dist-packages/teddynote/models.py:35: FutureWarning: suggest_uniform has been deprecated in v3.0.0. This feature will be removed in v6.0.0. See https://github.com/optuna/optuna/releases/tag/v3.0.0. Use :func:`~optuna.trial.Trial.suggest_float` instead.\n",
            "  return trial.suggest_uniform(self.name, self.low, self.high)\n"
          ]
        },
        {
          "output_type": "stream",
          "name": "stdout",
          "text": [
            "metric type: f1, score: 0.88462\n",
            "metric type: f1, score: 0.92308\n"
          ]
        },
        {
          "output_type": "stream",
          "name": "stderr",
          "text": [
            "/usr/local/lib/python3.8/dist-packages/teddynote/models.py:33: FutureWarning: suggest_loguniform has been deprecated in v3.0.0. This feature will be removed in v6.0.0. See https://github.com/optuna/optuna/releases/tag/v3.0.0. Use :func:`~optuna.trial.Trial.suggest_float` instead.\n",
            "  return trial.suggest_loguniform(self.name, self.low, self.high)\n",
            "/usr/local/lib/python3.8/dist-packages/teddynote/models.py:35: FutureWarning: suggest_uniform has been deprecated in v3.0.0. This feature will be removed in v6.0.0. See https://github.com/optuna/optuna/releases/tag/v3.0.0. Use :func:`~optuna.trial.Trial.suggest_float` instead.\n",
            "  return trial.suggest_uniform(self.name, self.low, self.high)\n",
            "/usr/local/lib/python3.8/dist-packages/teddynote/models.py:33: FutureWarning: suggest_loguniform has been deprecated in v3.0.0. This feature will be removed in v6.0.0. See https://github.com/optuna/optuna/releases/tag/v3.0.0. Use :func:`~optuna.trial.Trial.suggest_float` instead.\n",
            "  return trial.suggest_loguniform(self.name, self.low, self.high)\n",
            "/usr/local/lib/python3.8/dist-packages/teddynote/models.py:35: FutureWarning: suggest_uniform has been deprecated in v3.0.0. This feature will be removed in v6.0.0. See https://github.com/optuna/optuna/releases/tag/v3.0.0. Use :func:`~optuna.trial.Trial.suggest_float` instead.\n",
            "  return trial.suggest_uniform(self.name, self.low, self.high)\n",
            "\u001b[32m[I 2022-12-29 10:28:04,084]\u001b[0m Trial 14 finished with value: 0.9233293991132037 and parameters: {'lambda': 0.15680538877210617, 'alpha': 0.06343052278212412, 'colsample_bytree': 0.8902055788901369, 'subsample': 0.7322017676110716, 'learning_rate': 9.038762247862792e-05, 'n_estimators': 121, 'max_depth': 13, 'min_child_weight': 16}. Best is trial 14 with value: 0.9233293991132037.\u001b[0m\n"
          ]
        },
        {
          "output_type": "stream",
          "name": "stdout",
          "text": [
            "metric type: f1, score: 0.94112\n"
          ]
        },
        {
          "output_type": "stream",
          "name": "stderr",
          "text": [
            "/usr/local/lib/python3.8/dist-packages/teddynote/models.py:33: FutureWarning: suggest_loguniform has been deprecated in v3.0.0. This feature will be removed in v6.0.0. See https://github.com/optuna/optuna/releases/tag/v3.0.0. Use :func:`~optuna.trial.Trial.suggest_float` instead.\n",
            "  return trial.suggest_loguniform(self.name, self.low, self.high)\n",
            "/usr/local/lib/python3.8/dist-packages/teddynote/models.py:35: FutureWarning: suggest_uniform has been deprecated in v3.0.0. This feature will be removed in v6.0.0. See https://github.com/optuna/optuna/releases/tag/v3.0.0. Use :func:`~optuna.trial.Trial.suggest_float` instead.\n",
            "  return trial.suggest_uniform(self.name, self.low, self.high)\n"
          ]
        },
        {
          "output_type": "stream",
          "name": "stdout",
          "text": [
            "metric type: f1, score: 1.00000\n"
          ]
        },
        {
          "output_type": "stream",
          "name": "stderr",
          "text": [
            "/usr/local/lib/python3.8/dist-packages/teddynote/models.py:33: FutureWarning: suggest_loguniform has been deprecated in v3.0.0. This feature will be removed in v6.0.0. See https://github.com/optuna/optuna/releases/tag/v3.0.0. Use :func:`~optuna.trial.Trial.suggest_float` instead.\n",
            "  return trial.suggest_loguniform(self.name, self.low, self.high)\n",
            "/usr/local/lib/python3.8/dist-packages/teddynote/models.py:35: FutureWarning: suggest_uniform has been deprecated in v3.0.0. This feature will be removed in v6.0.0. See https://github.com/optuna/optuna/releases/tag/v3.0.0. Use :func:`~optuna.trial.Trial.suggest_float` instead.\n",
            "  return trial.suggest_uniform(self.name, self.low, self.high)\n"
          ]
        },
        {
          "output_type": "stream",
          "name": "stdout",
          "text": [
            "metric type: f1, score: 0.92453\n"
          ]
        },
        {
          "output_type": "stream",
          "name": "stderr",
          "text": [
            "/usr/local/lib/python3.8/dist-packages/teddynote/models.py:33: FutureWarning: suggest_loguniform has been deprecated in v3.0.0. This feature will be removed in v6.0.0. See https://github.com/optuna/optuna/releases/tag/v3.0.0. Use :func:`~optuna.trial.Trial.suggest_float` instead.\n",
            "  return trial.suggest_loguniform(self.name, self.low, self.high)\n",
            "/usr/local/lib/python3.8/dist-packages/teddynote/models.py:35: FutureWarning: suggest_uniform has been deprecated in v3.0.0. This feature will be removed in v6.0.0. See https://github.com/optuna/optuna/releases/tag/v3.0.0. Use :func:`~optuna.trial.Trial.suggest_float` instead.\n",
            "  return trial.suggest_uniform(self.name, self.low, self.high)\n"
          ]
        },
        {
          "output_type": "stream",
          "name": "stdout",
          "text": [
            "metric type: f1, score: 0.94235\n"
          ]
        },
        {
          "output_type": "stream",
          "name": "stderr",
          "text": [
            "/usr/local/lib/python3.8/dist-packages/teddynote/models.py:33: FutureWarning: suggest_loguniform has been deprecated in v3.0.0. This feature will be removed in v6.0.0. See https://github.com/optuna/optuna/releases/tag/v3.0.0. Use :func:`~optuna.trial.Trial.suggest_float` instead.\n",
            "  return trial.suggest_loguniform(self.name, self.low, self.high)\n",
            "/usr/local/lib/python3.8/dist-packages/teddynote/models.py:35: FutureWarning: suggest_uniform has been deprecated in v3.0.0. This feature will be removed in v6.0.0. See https://github.com/optuna/optuna/releases/tag/v3.0.0. Use :func:`~optuna.trial.Trial.suggest_float` instead.\n",
            "  return trial.suggest_uniform(self.name, self.low, self.high)\n"
          ]
        },
        {
          "output_type": "stream",
          "name": "stdout",
          "text": [
            "metric type: f1, score: 0.93996\n"
          ]
        },
        {
          "output_type": "stream",
          "name": "stderr",
          "text": [
            "/usr/local/lib/python3.8/dist-packages/teddynote/models.py:33: FutureWarning: suggest_loguniform has been deprecated in v3.0.0. This feature will be removed in v6.0.0. See https://github.com/optuna/optuna/releases/tag/v3.0.0. Use :func:`~optuna.trial.Trial.suggest_float` instead.\n",
            "  return trial.suggest_loguniform(self.name, self.low, self.high)\n",
            "/usr/local/lib/python3.8/dist-packages/teddynote/models.py:35: FutureWarning: suggest_uniform has been deprecated in v3.0.0. This feature will be removed in v6.0.0. See https://github.com/optuna/optuna/releases/tag/v3.0.0. Use :func:`~optuna.trial.Trial.suggest_float` instead.\n",
            "  return trial.suggest_uniform(self.name, self.low, self.high)\n",
            "\u001b[32m[I 2022-12-29 10:28:05,263]\u001b[0m Trial 15 finished with value: 0.9535849888250404 and parameters: {'lambda': 0.22166857347466082, 'alpha': 0.08863518097175671, 'colsample_bytree': 0.5876018630418768, 'subsample': 0.898151556553226, 'learning_rate': 1.0657160491235188e-05, 'n_estimators': 182, 'max_depth': 14, 'min_child_weight': 1}. Best is trial 15 with value: 0.9535849888250404.\u001b[0m\n"
          ]
        },
        {
          "output_type": "stream",
          "name": "stdout",
          "text": [
            "metric type: f1, score: 0.96108\n"
          ]
        },
        {
          "output_type": "stream",
          "name": "stderr",
          "text": [
            "/usr/local/lib/python3.8/dist-packages/teddynote/models.py:33: FutureWarning: suggest_loguniform has been deprecated in v3.0.0. This feature will be removed in v6.0.0. See https://github.com/optuna/optuna/releases/tag/v3.0.0. Use :func:`~optuna.trial.Trial.suggest_float` instead.\n",
            "  return trial.suggest_loguniform(self.name, self.low, self.high)\n",
            "/usr/local/lib/python3.8/dist-packages/teddynote/models.py:35: FutureWarning: suggest_uniform has been deprecated in v3.0.0. This feature will be removed in v6.0.0. See https://github.com/optuna/optuna/releases/tag/v3.0.0. Use :func:`~optuna.trial.Trial.suggest_float` instead.\n",
            "  return trial.suggest_uniform(self.name, self.low, self.high)\n"
          ]
        },
        {
          "output_type": "stream",
          "name": "stdout",
          "text": [
            "metric type: f1, score: 0.90194\n",
            "metric type: f1, score: 0.90524\n"
          ]
        },
        {
          "output_type": "stream",
          "name": "stderr",
          "text": [
            "/usr/local/lib/python3.8/dist-packages/teddynote/models.py:33: FutureWarning: suggest_loguniform has been deprecated in v3.0.0. This feature will be removed in v6.0.0. See https://github.com/optuna/optuna/releases/tag/v3.0.0. Use :func:`~optuna.trial.Trial.suggest_float` instead.\n",
            "  return trial.suggest_loguniform(self.name, self.low, self.high)\n",
            "/usr/local/lib/python3.8/dist-packages/teddynote/models.py:35: FutureWarning: suggest_uniform has been deprecated in v3.0.0. This feature will be removed in v6.0.0. See https://github.com/optuna/optuna/releases/tag/v3.0.0. Use :func:`~optuna.trial.Trial.suggest_float` instead.\n",
            "  return trial.suggest_uniform(self.name, self.low, self.high)\n",
            "/usr/local/lib/python3.8/dist-packages/teddynote/models.py:33: FutureWarning: suggest_loguniform has been deprecated in v3.0.0. This feature will be removed in v6.0.0. See https://github.com/optuna/optuna/releases/tag/v3.0.0. Use :func:`~optuna.trial.Trial.suggest_float` instead.\n",
            "  return trial.suggest_loguniform(self.name, self.low, self.high)\n",
            "/usr/local/lib/python3.8/dist-packages/teddynote/models.py:35: FutureWarning: suggest_uniform has been deprecated in v3.0.0. This feature will be removed in v6.0.0. See https://github.com/optuna/optuna/releases/tag/v3.0.0. Use :func:`~optuna.trial.Trial.suggest_float` instead.\n",
            "  return trial.suggest_uniform(self.name, self.low, self.high)\n"
          ]
        },
        {
          "output_type": "stream",
          "name": "stdout",
          "text": [
            "metric type: f1, score: 0.88389\n",
            "metric type: f1, score: 0.91857\n"
          ]
        },
        {
          "output_type": "stream",
          "name": "stderr",
          "text": [
            "/usr/local/lib/python3.8/dist-packages/teddynote/models.py:33: FutureWarning: suggest_loguniform has been deprecated in v3.0.0. This feature will be removed in v6.0.0. See https://github.com/optuna/optuna/releases/tag/v3.0.0. Use :func:`~optuna.trial.Trial.suggest_float` instead.\n",
            "  return trial.suggest_loguniform(self.name, self.low, self.high)\n",
            "/usr/local/lib/python3.8/dist-packages/teddynote/models.py:35: FutureWarning: suggest_uniform has been deprecated in v3.0.0. This feature will be removed in v6.0.0. See https://github.com/optuna/optuna/releases/tag/v3.0.0. Use :func:`~optuna.trial.Trial.suggest_float` instead.\n",
            "  return trial.suggest_uniform(self.name, self.low, self.high)\n",
            "/usr/local/lib/python3.8/dist-packages/teddynote/models.py:33: FutureWarning: suggest_loguniform has been deprecated in v3.0.0. This feature will be removed in v6.0.0. See https://github.com/optuna/optuna/releases/tag/v3.0.0. Use :func:`~optuna.trial.Trial.suggest_float` instead.\n",
            "  return trial.suggest_loguniform(self.name, self.low, self.high)\n",
            "/usr/local/lib/python3.8/dist-packages/teddynote/models.py:35: FutureWarning: suggest_uniform has been deprecated in v3.0.0. This feature will be removed in v6.0.0. See https://github.com/optuna/optuna/releases/tag/v3.0.0. Use :func:`~optuna.trial.Trial.suggest_float` instead.\n",
            "  return trial.suggest_uniform(self.name, self.low, self.high)\n",
            "\u001b[32m[I 2022-12-29 10:28:06,278]\u001b[0m Trial 16 finished with value: 0.9101510963536134 and parameters: {'lambda': 0.17770908579727004, 'alpha': 0.09452907891291407, 'colsample_bytree': 0.6018985061133622, 'subsample': 0.8991329572521534, 'learning_rate': 6.570344681065242e-05, 'n_estimators': 936, 'max_depth': 13, 'min_child_weight': 10}. Best is trial 15 with value: 0.9535849888250404.\u001b[0m\n"
          ]
        },
        {
          "output_type": "stream",
          "name": "stdout",
          "text": [
            "metric type: f1, score: 0.94112\n"
          ]
        },
        {
          "output_type": "stream",
          "name": "stderr",
          "text": [
            "/usr/local/lib/python3.8/dist-packages/teddynote/models.py:33: FutureWarning: suggest_loguniform has been deprecated in v3.0.0. This feature will be removed in v6.0.0. See https://github.com/optuna/optuna/releases/tag/v3.0.0. Use :func:`~optuna.trial.Trial.suggest_float` instead.\n",
            "  return trial.suggest_loguniform(self.name, self.low, self.high)\n",
            "/usr/local/lib/python3.8/dist-packages/teddynote/models.py:35: FutureWarning: suggest_uniform has been deprecated in v3.0.0. This feature will be removed in v6.0.0. See https://github.com/optuna/optuna/releases/tag/v3.0.0. Use :func:`~optuna.trial.Trial.suggest_float` instead.\n",
            "  return trial.suggest_uniform(self.name, self.low, self.high)\n"
          ]
        },
        {
          "output_type": "stream",
          "name": "stdout",
          "text": [
            "metric type: f1, score: 0.22489\n",
            "metric type: f1, score: 0.30237\n"
          ]
        },
        {
          "output_type": "stream",
          "name": "stderr",
          "text": [
            "/usr/local/lib/python3.8/dist-packages/teddynote/models.py:33: FutureWarning: suggest_loguniform has been deprecated in v3.0.0. This feature will be removed in v6.0.0. See https://github.com/optuna/optuna/releases/tag/v3.0.0. Use :func:`~optuna.trial.Trial.suggest_float` instead.\n",
            "  return trial.suggest_loguniform(self.name, self.low, self.high)\n",
            "/usr/local/lib/python3.8/dist-packages/teddynote/models.py:35: FutureWarning: suggest_uniform has been deprecated in v3.0.0. This feature will be removed in v6.0.0. See https://github.com/optuna/optuna/releases/tag/v3.0.0. Use :func:`~optuna.trial.Trial.suggest_float` instead.\n",
            "  return trial.suggest_uniform(self.name, self.low, self.high)\n",
            "/usr/local/lib/python3.8/dist-packages/teddynote/models.py:33: FutureWarning: suggest_loguniform has been deprecated in v3.0.0. This feature will be removed in v6.0.0. See https://github.com/optuna/optuna/releases/tag/v3.0.0. Use :func:`~optuna.trial.Trial.suggest_float` instead.\n",
            "  return trial.suggest_loguniform(self.name, self.low, self.high)\n",
            "/usr/local/lib/python3.8/dist-packages/teddynote/models.py:35: FutureWarning: suggest_uniform has been deprecated in v3.0.0. This feature will be removed in v6.0.0. See https://github.com/optuna/optuna/releases/tag/v3.0.0. Use :func:`~optuna.trial.Trial.suggest_float` instead.\n",
            "  return trial.suggest_uniform(self.name, self.low, self.high)\n"
          ]
        },
        {
          "output_type": "stream",
          "name": "stdout",
          "text": [
            "metric type: f1, score: 0.19556\n",
            "metric type: f1, score: 0.39934\n"
          ]
        },
        {
          "output_type": "stream",
          "name": "stderr",
          "text": [
            "/usr/local/lib/python3.8/dist-packages/teddynote/models.py:33: FutureWarning: suggest_loguniform has been deprecated in v3.0.0. This feature will be removed in v6.0.0. See https://github.com/optuna/optuna/releases/tag/v3.0.0. Use :func:`~optuna.trial.Trial.suggest_float` instead.\n",
            "  return trial.suggest_loguniform(self.name, self.low, self.high)\n",
            "/usr/local/lib/python3.8/dist-packages/teddynote/models.py:35: FutureWarning: suggest_uniform has been deprecated in v3.0.0. This feature will be removed in v6.0.0. See https://github.com/optuna/optuna/releases/tag/v3.0.0. Use :func:`~optuna.trial.Trial.suggest_float` instead.\n",
            "  return trial.suggest_uniform(self.name, self.low, self.high)\n",
            "/usr/local/lib/python3.8/dist-packages/teddynote/models.py:33: FutureWarning: suggest_loguniform has been deprecated in v3.0.0. This feature will be removed in v6.0.0. See https://github.com/optuna/optuna/releases/tag/v3.0.0. Use :func:`~optuna.trial.Trial.suggest_float` instead.\n",
            "  return trial.suggest_loguniform(self.name, self.low, self.high)\n",
            "/usr/local/lib/python3.8/dist-packages/teddynote/models.py:35: FutureWarning: suggest_uniform has been deprecated in v3.0.0. This feature will be removed in v6.0.0. See https://github.com/optuna/optuna/releases/tag/v3.0.0. Use :func:`~optuna.trial.Trial.suggest_float` instead.\n",
            "  return trial.suggest_uniform(self.name, self.low, self.high)\n",
            "\u001b[32m[I 2022-12-29 10:28:07,206]\u001b[0m Trial 17 finished with value: 0.2671648515035883 and parameters: {'lambda': 0.03553090472111432, 'alpha': 4.580351332751793, 'colsample_bytree': 0.7542156386471695, 'subsample': 0.8132181337357994, 'learning_rate': 4.201610094937992e-05, 'n_estimators': 614, 'max_depth': 14, 'min_child_weight': 90}. Best is trial 15 with value: 0.9535849888250404.\u001b[0m\n"
          ]
        },
        {
          "output_type": "stream",
          "name": "stdout",
          "text": [
            "metric type: f1, score: 0.21368\n"
          ]
        },
        {
          "output_type": "stream",
          "name": "stderr",
          "text": [
            "/usr/local/lib/python3.8/dist-packages/teddynote/models.py:33: FutureWarning: suggest_loguniform has been deprecated in v3.0.0. This feature will be removed in v6.0.0. See https://github.com/optuna/optuna/releases/tag/v3.0.0. Use :func:`~optuna.trial.Trial.suggest_float` instead.\n",
            "  return trial.suggest_loguniform(self.name, self.low, self.high)\n",
            "/usr/local/lib/python3.8/dist-packages/teddynote/models.py:35: FutureWarning: suggest_uniform has been deprecated in v3.0.0. This feature will be removed in v6.0.0. See https://github.com/optuna/optuna/releases/tag/v3.0.0. Use :func:`~optuna.trial.Trial.suggest_float` instead.\n",
            "  return trial.suggest_uniform(self.name, self.low, self.high)\n"
          ]
        },
        {
          "output_type": "stream",
          "name": "stdout",
          "text": [
            "metric type: f1, score: 0.96186\n"
          ]
        },
        {
          "output_type": "stream",
          "name": "stderr",
          "text": [
            "/usr/local/lib/python3.8/dist-packages/teddynote/models.py:33: FutureWarning: suggest_loguniform has been deprecated in v3.0.0. This feature will be removed in v6.0.0. See https://github.com/optuna/optuna/releases/tag/v3.0.0. Use :func:`~optuna.trial.Trial.suggest_float` instead.\n",
            "  return trial.suggest_loguniform(self.name, self.low, self.high)\n",
            "/usr/local/lib/python3.8/dist-packages/teddynote/models.py:35: FutureWarning: suggest_uniform has been deprecated in v3.0.0. This feature will be removed in v6.0.0. See https://github.com/optuna/optuna/releases/tag/v3.0.0. Use :func:`~optuna.trial.Trial.suggest_float` instead.\n",
            "  return trial.suggest_uniform(self.name, self.low, self.high)\n"
          ]
        },
        {
          "output_type": "stream",
          "name": "stdout",
          "text": [
            "metric type: f1, score: 0.88564\n",
            "metric type: f1, score: 0.88462\n"
          ]
        },
        {
          "output_type": "stream",
          "name": "stderr",
          "text": [
            "/usr/local/lib/python3.8/dist-packages/teddynote/models.py:33: FutureWarning: suggest_loguniform has been deprecated in v3.0.0. This feature will be removed in v6.0.0. See https://github.com/optuna/optuna/releases/tag/v3.0.0. Use :func:`~optuna.trial.Trial.suggest_float` instead.\n",
            "  return trial.suggest_loguniform(self.name, self.low, self.high)\n",
            "/usr/local/lib/python3.8/dist-packages/teddynote/models.py:35: FutureWarning: suggest_uniform has been deprecated in v3.0.0. This feature will be removed in v6.0.0. See https://github.com/optuna/optuna/releases/tag/v3.0.0. Use :func:`~optuna.trial.Trial.suggest_float` instead.\n",
            "  return trial.suggest_uniform(self.name, self.low, self.high)\n",
            "/usr/local/lib/python3.8/dist-packages/teddynote/models.py:33: FutureWarning: suggest_loguniform has been deprecated in v3.0.0. This feature will be removed in v6.0.0. See https://github.com/optuna/optuna/releases/tag/v3.0.0. Use :func:`~optuna.trial.Trial.suggest_float` instead.\n",
            "  return trial.suggest_loguniform(self.name, self.low, self.high)\n",
            "/usr/local/lib/python3.8/dist-packages/teddynote/models.py:35: FutureWarning: suggest_uniform has been deprecated in v3.0.0. This feature will be removed in v6.0.0. See https://github.com/optuna/optuna/releases/tag/v3.0.0. Use :func:`~optuna.trial.Trial.suggest_float` instead.\n",
            "  return trial.suggest_uniform(self.name, self.low, self.high)\n",
            "/usr/local/lib/python3.8/dist-packages/teddynote/models.py:33: FutureWarning: suggest_loguniform has been deprecated in v3.0.0. This feature will be removed in v6.0.0. See https://github.com/optuna/optuna/releases/tag/v3.0.0. Use :func:`~optuna.trial.Trial.suggest_float` instead.\n",
            "  return trial.suggest_loguniform(self.name, self.low, self.high)\n",
            "/usr/local/lib/python3.8/dist-packages/teddynote/models.py:35: FutureWarning: suggest_uniform has been deprecated in v3.0.0. This feature will be removed in v6.0.0. See https://github.com/optuna/optuna/releases/tag/v3.0.0. Use :func:`~optuna.trial.Trial.suggest_float` instead.\n",
            "  return trial.suggest_uniform(self.name, self.low, self.high)\n"
          ]
        },
        {
          "output_type": "stream",
          "name": "stdout",
          "text": [
            "metric type: f1, score: 0.91857\n"
          ]
        },
        {
          "output_type": "stream",
          "name": "stderr",
          "text": [
            "\u001b[32m[I 2022-12-29 10:28:08,249]\u001b[0m Trial 18 finished with value: 0.9223530171808072 and parameters: {'lambda': 0.4668654695238449, 'alpha': 0.07603322771335241, 'colsample_bytree': 0.6063182525985311, 'subsample': 0.8999769386979762, 'learning_rate': 0.00021214741084355442, 'n_estimators': 4923, 'max_depth': 17, 'min_child_weight': 7}. Best is trial 15 with value: 0.9535849888250404.\u001b[0m\n"
          ]
        },
        {
          "output_type": "stream",
          "name": "stdout",
          "text": [
            "metric type: f1, score: 0.96108\n"
          ]
        },
        {
          "output_type": "stream",
          "name": "stderr",
          "text": [
            "/usr/local/lib/python3.8/dist-packages/teddynote/models.py:33: FutureWarning: suggest_loguniform has been deprecated in v3.0.0. This feature will be removed in v6.0.0. See https://github.com/optuna/optuna/releases/tag/v3.0.0. Use :func:`~optuna.trial.Trial.suggest_float` instead.\n",
            "  return trial.suggest_loguniform(self.name, self.low, self.high)\n",
            "/usr/local/lib/python3.8/dist-packages/teddynote/models.py:35: FutureWarning: suggest_uniform has been deprecated in v3.0.0. This feature will be removed in v6.0.0. See https://github.com/optuna/optuna/releases/tag/v3.0.0. Use :func:`~optuna.trial.Trial.suggest_float` instead.\n",
            "  return trial.suggest_uniform(self.name, self.low, self.high)\n",
            "/usr/local/lib/python3.8/dist-packages/teddynote/models.py:33: FutureWarning: suggest_loguniform has been deprecated in v3.0.0. This feature will be removed in v6.0.0. See https://github.com/optuna/optuna/releases/tag/v3.0.0. Use :func:`~optuna.trial.Trial.suggest_float` instead.\n",
            "  return trial.suggest_loguniform(self.name, self.low, self.high)\n",
            "/usr/local/lib/python3.8/dist-packages/teddynote/models.py:35: FutureWarning: suggest_uniform has been deprecated in v3.0.0. This feature will be removed in v6.0.0. See https://github.com/optuna/optuna/releases/tag/v3.0.0. Use :func:`~optuna.trial.Trial.suggest_float` instead.\n",
            "  return trial.suggest_uniform(self.name, self.low, self.high)\n"
          ]
        },
        {
          "output_type": "stream",
          "name": "stdout",
          "text": [
            "metric type: f1, score: 0.22489\n",
            "metric type: f1, score: 0.30237\n"
          ]
        },
        {
          "output_type": "stream",
          "name": "stderr",
          "text": [
            "/usr/local/lib/python3.8/dist-packages/teddynote/models.py:33: FutureWarning: suggest_loguniform has been deprecated in v3.0.0. This feature will be removed in v6.0.0. See https://github.com/optuna/optuna/releases/tag/v3.0.0. Use :func:`~optuna.trial.Trial.suggest_float` instead.\n",
            "  return trial.suggest_loguniform(self.name, self.low, self.high)\n",
            "/usr/local/lib/python3.8/dist-packages/teddynote/models.py:35: FutureWarning: suggest_uniform has been deprecated in v3.0.0. This feature will be removed in v6.0.0. See https://github.com/optuna/optuna/releases/tag/v3.0.0. Use :func:`~optuna.trial.Trial.suggest_float` instead.\n",
            "  return trial.suggest_uniform(self.name, self.low, self.high)\n",
            "/usr/local/lib/python3.8/dist-packages/teddynote/models.py:33: FutureWarning: suggest_loguniform has been deprecated in v3.0.0. This feature will be removed in v6.0.0. See https://github.com/optuna/optuna/releases/tag/v3.0.0. Use :func:`~optuna.trial.Trial.suggest_float` instead.\n",
            "  return trial.suggest_loguniform(self.name, self.low, self.high)\n",
            "/usr/local/lib/python3.8/dist-packages/teddynote/models.py:35: FutureWarning: suggest_uniform has been deprecated in v3.0.0. This feature will be removed in v6.0.0. See https://github.com/optuna/optuna/releases/tag/v3.0.0. Use :func:`~optuna.trial.Trial.suggest_float` instead.\n",
            "  return trial.suggest_uniform(self.name, self.low, self.high)\n"
          ]
        },
        {
          "output_type": "stream",
          "name": "stdout",
          "text": [
            "metric type: f1, score: 0.19556\n",
            "metric type: f1, score: 0.39934\n"
          ]
        },
        {
          "output_type": "stream",
          "name": "stderr",
          "text": [
            "/usr/local/lib/python3.8/dist-packages/teddynote/models.py:33: FutureWarning: suggest_loguniform has been deprecated in v3.0.0. This feature will be removed in v6.0.0. See https://github.com/optuna/optuna/releases/tag/v3.0.0. Use :func:`~optuna.trial.Trial.suggest_float` instead.\n",
            "  return trial.suggest_loguniform(self.name, self.low, self.high)\n",
            "/usr/local/lib/python3.8/dist-packages/teddynote/models.py:35: FutureWarning: suggest_uniform has been deprecated in v3.0.0. This feature will be removed in v6.0.0. See https://github.com/optuna/optuna/releases/tag/v3.0.0. Use :func:`~optuna.trial.Trial.suggest_float` instead.\n",
            "  return trial.suggest_uniform(self.name, self.low, self.high)\n",
            "\u001b[32m[I 2022-12-29 10:28:09,175]\u001b[0m Trial 19 finished with value: 0.2671648515035883 and parameters: {'lambda': 0.027593221858907228, 'alpha': 0.07207986676120476, 'colsample_bytree': 0.8871672211608667, 'subsample': 0.7829242444117223, 'learning_rate': 3.750056517542867e-05, 'n_estimators': 1361, 'max_depth': 12, 'min_child_weight': 88}. Best is trial 15 with value: 0.9535849888250404.\u001b[0m\n",
            "/usr/local/lib/python3.8/dist-packages/teddynote/models.py:33: FutureWarning: suggest_loguniform has been deprecated in v3.0.0. This feature will be removed in v6.0.0. See https://github.com/optuna/optuna/releases/tag/v3.0.0. Use :func:`~optuna.trial.Trial.suggest_float` instead.\n",
            "  return trial.suggest_loguniform(self.name, self.low, self.high)\n"
          ]
        },
        {
          "output_type": "stream",
          "name": "stdout",
          "text": [
            "metric type: f1, score: 0.21368\n"
          ]
        },
        {
          "output_type": "stream",
          "name": "stderr",
          "text": [
            "/usr/local/lib/python3.8/dist-packages/teddynote/models.py:35: FutureWarning: suggest_uniform has been deprecated in v3.0.0. This feature will be removed in v6.0.0. See https://github.com/optuna/optuna/releases/tag/v3.0.0. Use :func:`~optuna.trial.Trial.suggest_float` instead.\n",
            "  return trial.suggest_uniform(self.name, self.low, self.high)\n",
            "/usr/local/lib/python3.8/dist-packages/teddynote/models.py:33: FutureWarning: suggest_loguniform has been deprecated in v3.0.0. This feature will be removed in v6.0.0. See https://github.com/optuna/optuna/releases/tag/v3.0.0. Use :func:`~optuna.trial.Trial.suggest_float` instead.\n",
            "  return trial.suggest_loguniform(self.name, self.low, self.high)\n",
            "/usr/local/lib/python3.8/dist-packages/teddynote/models.py:35: FutureWarning: suggest_uniform has been deprecated in v3.0.0. This feature will be removed in v6.0.0. See https://github.com/optuna/optuna/releases/tag/v3.0.0. Use :func:`~optuna.trial.Trial.suggest_float` instead.\n",
            "  return trial.suggest_uniform(self.name, self.low, self.high)\n"
          ]
        },
        {
          "output_type": "stream",
          "name": "stdout",
          "text": [
            "metric type: f1, score: 0.22489\n",
            "metric type: f1, score: 0.30237\n"
          ]
        },
        {
          "output_type": "stream",
          "name": "stderr",
          "text": [
            "/usr/local/lib/python3.8/dist-packages/teddynote/models.py:33: FutureWarning: suggest_loguniform has been deprecated in v3.0.0. This feature will be removed in v6.0.0. See https://github.com/optuna/optuna/releases/tag/v3.0.0. Use :func:`~optuna.trial.Trial.suggest_float` instead.\n",
            "  return trial.suggest_loguniform(self.name, self.low, self.high)\n",
            "/usr/local/lib/python3.8/dist-packages/teddynote/models.py:35: FutureWarning: suggest_uniform has been deprecated in v3.0.0. This feature will be removed in v6.0.0. See https://github.com/optuna/optuna/releases/tag/v3.0.0. Use :func:`~optuna.trial.Trial.suggest_float` instead.\n",
            "  return trial.suggest_uniform(self.name, self.low, self.high)\n",
            "/usr/local/lib/python3.8/dist-packages/teddynote/models.py:33: FutureWarning: suggest_loguniform has been deprecated in v3.0.0. This feature will be removed in v6.0.0. See https://github.com/optuna/optuna/releases/tag/v3.0.0. Use :func:`~optuna.trial.Trial.suggest_float` instead.\n",
            "  return trial.suggest_loguniform(self.name, self.low, self.high)\n",
            "/usr/local/lib/python3.8/dist-packages/teddynote/models.py:35: FutureWarning: suggest_uniform has been deprecated in v3.0.0. This feature will be removed in v6.0.0. See https://github.com/optuna/optuna/releases/tag/v3.0.0. Use :func:`~optuna.trial.Trial.suggest_float` instead.\n",
            "  return trial.suggest_uniform(self.name, self.low, self.high)\n"
          ]
        },
        {
          "output_type": "stream",
          "name": "stdout",
          "text": [
            "metric type: f1, score: 0.19556\n",
            "metric type: f1, score: 0.39934\n"
          ]
        },
        {
          "output_type": "stream",
          "name": "stderr",
          "text": [
            "/usr/local/lib/python3.8/dist-packages/teddynote/models.py:33: FutureWarning: suggest_loguniform has been deprecated in v3.0.0. This feature will be removed in v6.0.0. See https://github.com/optuna/optuna/releases/tag/v3.0.0. Use :func:`~optuna.trial.Trial.suggest_float` instead.\n",
            "  return trial.suggest_loguniform(self.name, self.low, self.high)\n",
            "/usr/local/lib/python3.8/dist-packages/teddynote/models.py:35: FutureWarning: suggest_uniform has been deprecated in v3.0.0. This feature will be removed in v6.0.0. See https://github.com/optuna/optuna/releases/tag/v3.0.0. Use :func:`~optuna.trial.Trial.suggest_float` instead.\n",
            "  return trial.suggest_uniform(self.name, self.low, self.high)\n",
            "\u001b[32m[I 2022-12-29 10:28:10,094]\u001b[0m Trial 20 finished with value: 0.2671648515035883 and parameters: {'lambda': 0.9224010475029973, 'alpha': 0.0028988717543053147, 'colsample_bytree': 0.8406998022205715, 'subsample': 0.8516395519250186, 'learning_rate': 0.00019870276739242276, 'n_estimators': 555, 'max_depth': 24, 'min_child_weight': 222}. Best is trial 15 with value: 0.9535849888250404.\u001b[0m\n",
            "/usr/local/lib/python3.8/dist-packages/teddynote/models.py:33: FutureWarning: suggest_loguniform has been deprecated in v3.0.0. This feature will be removed in v6.0.0. See https://github.com/optuna/optuna/releases/tag/v3.0.0. Use :func:`~optuna.trial.Trial.suggest_float` instead.\n",
            "  return trial.suggest_loguniform(self.name, self.low, self.high)\n",
            "/usr/local/lib/python3.8/dist-packages/teddynote/models.py:35: FutureWarning: suggest_uniform has been deprecated in v3.0.0. This feature will be removed in v6.0.0. See https://github.com/optuna/optuna/releases/tag/v3.0.0. Use :func:`~optuna.trial.Trial.suggest_float` instead.\n",
            "  return trial.suggest_uniform(self.name, self.low, self.high)\n"
          ]
        },
        {
          "output_type": "stream",
          "name": "stdout",
          "text": [
            "metric type: f1, score: 0.21368\n",
            "metric type: f1, score: 0.90194\n",
            "metric type: f1, score: 0.90524\n"
          ]
        },
        {
          "output_type": "stream",
          "name": "stderr",
          "text": [
            "/usr/local/lib/python3.8/dist-packages/teddynote/models.py:33: FutureWarning: suggest_loguniform has been deprecated in v3.0.0. This feature will be removed in v6.0.0. See https://github.com/optuna/optuna/releases/tag/v3.0.0. Use :func:`~optuna.trial.Trial.suggest_float` instead.\n",
            "  return trial.suggest_loguniform(self.name, self.low, self.high)\n",
            "/usr/local/lib/python3.8/dist-packages/teddynote/models.py:35: FutureWarning: suggest_uniform has been deprecated in v3.0.0. This feature will be removed in v6.0.0. See https://github.com/optuna/optuna/releases/tag/v3.0.0. Use :func:`~optuna.trial.Trial.suggest_float` instead.\n",
            "  return trial.suggest_uniform(self.name, self.low, self.high)\n",
            "/usr/local/lib/python3.8/dist-packages/teddynote/models.py:33: FutureWarning: suggest_loguniform has been deprecated in v3.0.0. This feature will be removed in v6.0.0. See https://github.com/optuna/optuna/releases/tag/v3.0.0. Use :func:`~optuna.trial.Trial.suggest_float` instead.\n",
            "  return trial.suggest_loguniform(self.name, self.low, self.high)\n",
            "/usr/local/lib/python3.8/dist-packages/teddynote/models.py:35: FutureWarning: suggest_uniform has been deprecated in v3.0.0. This feature will be removed in v6.0.0. See https://github.com/optuna/optuna/releases/tag/v3.0.0. Use :func:`~optuna.trial.Trial.suggest_float` instead.\n",
            "  return trial.suggest_uniform(self.name, self.low, self.high)\n"
          ]
        },
        {
          "output_type": "stream",
          "name": "stdout",
          "text": [
            "metric type: f1, score: 0.90362\n",
            "metric type: f1, score: 0.91857\n"
          ]
        },
        {
          "output_type": "stream",
          "name": "stderr",
          "text": [
            "/usr/local/lib/python3.8/dist-packages/teddynote/models.py:33: FutureWarning: suggest_loguniform has been deprecated in v3.0.0. This feature will be removed in v6.0.0. See https://github.com/optuna/optuna/releases/tag/v3.0.0. Use :func:`~optuna.trial.Trial.suggest_float` instead.\n",
            "  return trial.suggest_loguniform(self.name, self.low, self.high)\n",
            "/usr/local/lib/python3.8/dist-packages/teddynote/models.py:35: FutureWarning: suggest_uniform has been deprecated in v3.0.0. This feature will be removed in v6.0.0. See https://github.com/optuna/optuna/releases/tag/v3.0.0. Use :func:`~optuna.trial.Trial.suggest_float` instead.\n",
            "  return trial.suggest_uniform(self.name, self.low, self.high)\n",
            "/usr/local/lib/python3.8/dist-packages/teddynote/models.py:33: FutureWarning: suggest_loguniform has been deprecated in v3.0.0. This feature will be removed in v6.0.0. See https://github.com/optuna/optuna/releases/tag/v3.0.0. Use :func:`~optuna.trial.Trial.suggest_float` instead.\n",
            "  return trial.suggest_loguniform(self.name, self.low, self.high)\n",
            "/usr/local/lib/python3.8/dist-packages/teddynote/models.py:35: FutureWarning: suggest_uniform has been deprecated in v3.0.0. This feature will be removed in v6.0.0. See https://github.com/optuna/optuna/releases/tag/v3.0.0. Use :func:`~optuna.trial.Trial.suggest_float` instead.\n",
            "  return trial.suggest_uniform(self.name, self.low, self.high)\n",
            "\u001b[32m[I 2022-12-29 10:28:11,128]\u001b[0m Trial 21 finished with value: 0.9140966540010942 and parameters: {'lambda': 0.6361257444109962, 'alpha': 0.045694106901974126, 'colsample_bytree': 0.5933478794161435, 'subsample': 0.8938711875972295, 'learning_rate': 0.00017862169041651469, 'n_estimators': 4849, 'max_depth': 17, 'min_child_weight': 10}. Best is trial 15 with value: 0.9535849888250404.\u001b[0m\n"
          ]
        },
        {
          "output_type": "stream",
          "name": "stdout",
          "text": [
            "metric type: f1, score: 0.94112\n"
          ]
        },
        {
          "output_type": "stream",
          "name": "stderr",
          "text": [
            "/usr/local/lib/python3.8/dist-packages/teddynote/models.py:33: FutureWarning: suggest_loguniform has been deprecated in v3.0.0. This feature will be removed in v6.0.0. See https://github.com/optuna/optuna/releases/tag/v3.0.0. Use :func:`~optuna.trial.Trial.suggest_float` instead.\n",
            "  return trial.suggest_loguniform(self.name, self.low, self.high)\n",
            "/usr/local/lib/python3.8/dist-packages/teddynote/models.py:35: FutureWarning: suggest_uniform has been deprecated in v3.0.0. This feature will be removed in v6.0.0. See https://github.com/optuna/optuna/releases/tag/v3.0.0. Use :func:`~optuna.trial.Trial.suggest_float` instead.\n",
            "  return trial.suggest_uniform(self.name, self.low, self.high)\n"
          ]
        },
        {
          "output_type": "stream",
          "name": "stdout",
          "text": [
            "metric type: f1, score: 0.79103\n",
            "metric type: f1, score: 0.79648\n"
          ]
        },
        {
          "output_type": "stream",
          "name": "stderr",
          "text": [
            "/usr/local/lib/python3.8/dist-packages/teddynote/models.py:33: FutureWarning: suggest_loguniform has been deprecated in v3.0.0. This feature will be removed in v6.0.0. See https://github.com/optuna/optuna/releases/tag/v3.0.0. Use :func:`~optuna.trial.Trial.suggest_float` instead.\n",
            "  return trial.suggest_loguniform(self.name, self.low, self.high)\n",
            "/usr/local/lib/python3.8/dist-packages/teddynote/models.py:35: FutureWarning: suggest_uniform has been deprecated in v3.0.0. This feature will be removed in v6.0.0. See https://github.com/optuna/optuna/releases/tag/v3.0.0. Use :func:`~optuna.trial.Trial.suggest_float` instead.\n",
            "  return trial.suggest_uniform(self.name, self.low, self.high)\n",
            "/usr/local/lib/python3.8/dist-packages/teddynote/models.py:33: FutureWarning: suggest_loguniform has been deprecated in v3.0.0. This feature will be removed in v6.0.0. See https://github.com/optuna/optuna/releases/tag/v3.0.0. Use :func:`~optuna.trial.Trial.suggest_float` instead.\n",
            "  return trial.suggest_loguniform(self.name, self.low, self.high)\n",
            "/usr/local/lib/python3.8/dist-packages/teddynote/models.py:35: FutureWarning: suggest_uniform has been deprecated in v3.0.0. This feature will be removed in v6.0.0. See https://github.com/optuna/optuna/releases/tag/v3.0.0. Use :func:`~optuna.trial.Trial.suggest_float` instead.\n",
            "  return trial.suggest_uniform(self.name, self.low, self.high)\n"
          ]
        },
        {
          "output_type": "stream",
          "name": "stdout",
          "text": [
            "metric type: f1, score: 0.83586\n",
            "metric type: f1, score: 0.84842\n"
          ]
        },
        {
          "output_type": "stream",
          "name": "stderr",
          "text": [
            "/usr/local/lib/python3.8/dist-packages/teddynote/models.py:33: FutureWarning: suggest_loguniform has been deprecated in v3.0.0. This feature will be removed in v6.0.0. See https://github.com/optuna/optuna/releases/tag/v3.0.0. Use :func:`~optuna.trial.Trial.suggest_float` instead.\n",
            "  return trial.suggest_loguniform(self.name, self.low, self.high)\n",
            "/usr/local/lib/python3.8/dist-packages/teddynote/models.py:35: FutureWarning: suggest_uniform has been deprecated in v3.0.0. This feature will be removed in v6.0.0. See https://github.com/optuna/optuna/releases/tag/v3.0.0. Use :func:`~optuna.trial.Trial.suggest_float` instead.\n",
            "  return trial.suggest_uniform(self.name, self.low, self.high)\n",
            "/usr/local/lib/python3.8/dist-packages/teddynote/models.py:33: FutureWarning: suggest_loguniform has been deprecated in v3.0.0. This feature will be removed in v6.0.0. See https://github.com/optuna/optuna/releases/tag/v3.0.0. Use :func:`~optuna.trial.Trial.suggest_float` instead.\n",
            "  return trial.suggest_loguniform(self.name, self.low, self.high)\n",
            "/usr/local/lib/python3.8/dist-packages/teddynote/models.py:35: FutureWarning: suggest_uniform has been deprecated in v3.0.0. This feature will be removed in v6.0.0. See https://github.com/optuna/optuna/releases/tag/v3.0.0. Use :func:`~optuna.trial.Trial.suggest_float` instead.\n",
            "  return trial.suggest_uniform(self.name, self.low, self.high)\n",
            "\u001b[32m[I 2022-12-29 10:28:12,075]\u001b[0m Trial 22 finished with value: 0.8172687924300934 and parameters: {'lambda': 0.06136630028050623, 'alpha': 0.21841062478220058, 'colsample_bytree': 0.567619743397841, 'subsample': 0.8584105220472341, 'learning_rate': 0.00020209017257530334, 'n_estimators': 3433, 'max_depth': 16, 'min_child_weight': 31}. Best is trial 15 with value: 0.9535849888250404.\u001b[0m\n"
          ]
        },
        {
          "output_type": "stream",
          "name": "stdout",
          "text": [
            "metric type: f1, score: 0.81455\n"
          ]
        },
        {
          "output_type": "stream",
          "name": "stderr",
          "text": [
            "/usr/local/lib/python3.8/dist-packages/teddynote/models.py:33: FutureWarning: suggest_loguniform has been deprecated in v3.0.0. This feature will be removed in v6.0.0. See https://github.com/optuna/optuna/releases/tag/v3.0.0. Use :func:`~optuna.trial.Trial.suggest_float` instead.\n",
            "  return trial.suggest_loguniform(self.name, self.low, self.high)\n",
            "/usr/local/lib/python3.8/dist-packages/teddynote/models.py:35: FutureWarning: suggest_uniform has been deprecated in v3.0.0. This feature will be removed in v6.0.0. See https://github.com/optuna/optuna/releases/tag/v3.0.0. Use :func:`~optuna.trial.Trial.suggest_float` instead.\n",
            "  return trial.suggest_uniform(self.name, self.low, self.high)\n"
          ]
        },
        {
          "output_type": "stream",
          "name": "stdout",
          "text": [
            "metric type: f1, score: 0.22489\n",
            "metric type: f1, score: 0.30237\n"
          ]
        },
        {
          "output_type": "stream",
          "name": "stderr",
          "text": [
            "/usr/local/lib/python3.8/dist-packages/teddynote/models.py:33: FutureWarning: suggest_loguniform has been deprecated in v3.0.0. This feature will be removed in v6.0.0. See https://github.com/optuna/optuna/releases/tag/v3.0.0. Use :func:`~optuna.trial.Trial.suggest_float` instead.\n",
            "  return trial.suggest_loguniform(self.name, self.low, self.high)\n",
            "/usr/local/lib/python3.8/dist-packages/teddynote/models.py:35: FutureWarning: suggest_uniform has been deprecated in v3.0.0. This feature will be removed in v6.0.0. See https://github.com/optuna/optuna/releases/tag/v3.0.0. Use :func:`~optuna.trial.Trial.suggest_float` instead.\n",
            "  return trial.suggest_uniform(self.name, self.low, self.high)\n",
            "/usr/local/lib/python3.8/dist-packages/teddynote/models.py:33: FutureWarning: suggest_loguniform has been deprecated in v3.0.0. This feature will be removed in v6.0.0. See https://github.com/optuna/optuna/releases/tag/v3.0.0. Use :func:`~optuna.trial.Trial.suggest_float` instead.\n",
            "  return trial.suggest_loguniform(self.name, self.low, self.high)\n",
            "/usr/local/lib/python3.8/dist-packages/teddynote/models.py:35: FutureWarning: suggest_uniform has been deprecated in v3.0.0. This feature will be removed in v6.0.0. See https://github.com/optuna/optuna/releases/tag/v3.0.0. Use :func:`~optuna.trial.Trial.suggest_float` instead.\n",
            "  return trial.suggest_uniform(self.name, self.low, self.high)\n"
          ]
        },
        {
          "output_type": "stream",
          "name": "stdout",
          "text": [
            "metric type: f1, score: 0.19556\n",
            "metric type: f1, score: 0.39934\n"
          ]
        },
        {
          "output_type": "stream",
          "name": "stderr",
          "text": [
            "/usr/local/lib/python3.8/dist-packages/teddynote/models.py:33: FutureWarning: suggest_loguniform has been deprecated in v3.0.0. This feature will be removed in v6.0.0. See https://github.com/optuna/optuna/releases/tag/v3.0.0. Use :func:`~optuna.trial.Trial.suggest_float` instead.\n",
            "  return trial.suggest_loguniform(self.name, self.low, self.high)\n",
            "/usr/local/lib/python3.8/dist-packages/teddynote/models.py:35: FutureWarning: suggest_uniform has been deprecated in v3.0.0. This feature will be removed in v6.0.0. See https://github.com/optuna/optuna/releases/tag/v3.0.0. Use :func:`~optuna.trial.Trial.suggest_float` instead.\n",
            "  return trial.suggest_uniform(self.name, self.low, self.high)\n",
            "/usr/local/lib/python3.8/dist-packages/teddynote/models.py:33: FutureWarning: suggest_loguniform has been deprecated in v3.0.0. This feature will be removed in v6.0.0. See https://github.com/optuna/optuna/releases/tag/v3.0.0. Use :func:`~optuna.trial.Trial.suggest_float` instead.\n",
            "  return trial.suggest_loguniform(self.name, self.low, self.high)\n",
            "/usr/local/lib/python3.8/dist-packages/teddynote/models.py:35: FutureWarning: suggest_uniform has been deprecated in v3.0.0. This feature will be removed in v6.0.0. See https://github.com/optuna/optuna/releases/tag/v3.0.0. Use :func:`~optuna.trial.Trial.suggest_float` instead.\n",
            "  return trial.suggest_uniform(self.name, self.low, self.high)\n",
            "\u001b[32m[I 2022-12-29 10:28:12,983]\u001b[0m Trial 23 finished with value: 0.2671648515035883 and parameters: {'lambda': 0.6876640228816071, 'alpha': 0.1988966427162676, 'colsample_bytree': 0.6222371452111176, 'subsample': 0.8272767550426019, 'learning_rate': 3.341512979307533e-05, 'n_estimators': 3301, 'max_depth': 18, 'min_child_weight': 72}. Best is trial 15 with value: 0.9535849888250404.\u001b[0m\n"
          ]
        },
        {
          "output_type": "stream",
          "name": "stdout",
          "text": [
            "metric type: f1, score: 0.21368\n"
          ]
        },
        {
          "output_type": "stream",
          "name": "stderr",
          "text": [
            "/usr/local/lib/python3.8/dist-packages/teddynote/models.py:33: FutureWarning: suggest_loguniform has been deprecated in v3.0.0. This feature will be removed in v6.0.0. See https://github.com/optuna/optuna/releases/tag/v3.0.0. Use :func:`~optuna.trial.Trial.suggest_float` instead.\n",
            "  return trial.suggest_loguniform(self.name, self.low, self.high)\n",
            "/usr/local/lib/python3.8/dist-packages/teddynote/models.py:35: FutureWarning: suggest_uniform has been deprecated in v3.0.0. This feature will be removed in v6.0.0. See https://github.com/optuna/optuna/releases/tag/v3.0.0. Use :func:`~optuna.trial.Trial.suggest_float` instead.\n",
            "  return trial.suggest_uniform(self.name, self.low, self.high)\n"
          ]
        },
        {
          "output_type": "stream",
          "name": "stdout",
          "text": [
            "metric type: f1, score: 0.94314\n"
          ]
        },
        {
          "output_type": "stream",
          "name": "stderr",
          "text": [
            "/usr/local/lib/python3.8/dist-packages/teddynote/models.py:33: FutureWarning: suggest_loguniform has been deprecated in v3.0.0. This feature will be removed in v6.0.0. See https://github.com/optuna/optuna/releases/tag/v3.0.0. Use :func:`~optuna.trial.Trial.suggest_float` instead.\n",
            "  return trial.suggest_loguniform(self.name, self.low, self.high)\n",
            "/usr/local/lib/python3.8/dist-packages/teddynote/models.py:35: FutureWarning: suggest_uniform has been deprecated in v3.0.0. This feature will be removed in v6.0.0. See https://github.com/optuna/optuna/releases/tag/v3.0.0. Use :func:`~optuna.trial.Trial.suggest_float` instead.\n",
            "  return trial.suggest_uniform(self.name, self.low, self.high)\n"
          ]
        },
        {
          "output_type": "stream",
          "name": "stdout",
          "text": [
            "metric type: f1, score: 0.88564\n"
          ]
        },
        {
          "output_type": "stream",
          "name": "stderr",
          "text": [
            "/usr/local/lib/python3.8/dist-packages/teddynote/models.py:33: FutureWarning: suggest_loguniform has been deprecated in v3.0.0. This feature will be removed in v6.0.0. See https://github.com/optuna/optuna/releases/tag/v3.0.0. Use :func:`~optuna.trial.Trial.suggest_float` instead.\n",
            "  return trial.suggest_loguniform(self.name, self.low, self.high)\n",
            "/usr/local/lib/python3.8/dist-packages/teddynote/models.py:35: FutureWarning: suggest_uniform has been deprecated in v3.0.0. This feature will be removed in v6.0.0. See https://github.com/optuna/optuna/releases/tag/v3.0.0. Use :func:`~optuna.trial.Trial.suggest_float` instead.\n",
            "  return trial.suggest_uniform(self.name, self.low, self.high)\n"
          ]
        },
        {
          "output_type": "stream",
          "name": "stdout",
          "text": [
            "metric type: f1, score: 0.88462\n"
          ]
        },
        {
          "output_type": "stream",
          "name": "stderr",
          "text": [
            "/usr/local/lib/python3.8/dist-packages/teddynote/models.py:33: FutureWarning: suggest_loguniform has been deprecated in v3.0.0. This feature will be removed in v6.0.0. See https://github.com/optuna/optuna/releases/tag/v3.0.0. Use :func:`~optuna.trial.Trial.suggest_float` instead.\n",
            "  return trial.suggest_loguniform(self.name, self.low, self.high)\n",
            "/usr/local/lib/python3.8/dist-packages/teddynote/models.py:35: FutureWarning: suggest_uniform has been deprecated in v3.0.0. This feature will be removed in v6.0.0. See https://github.com/optuna/optuna/releases/tag/v3.0.0. Use :func:`~optuna.trial.Trial.suggest_float` instead.\n",
            "  return trial.suggest_uniform(self.name, self.low, self.high)\n"
          ]
        },
        {
          "output_type": "stream",
          "name": "stdout",
          "text": [
            "metric type: f1, score: 0.94164\n"
          ]
        },
        {
          "output_type": "stream",
          "name": "stderr",
          "text": [
            "/usr/local/lib/python3.8/dist-packages/teddynote/models.py:33: FutureWarning: suggest_loguniform has been deprecated in v3.0.0. This feature will be removed in v6.0.0. See https://github.com/optuna/optuna/releases/tag/v3.0.0. Use :func:`~optuna.trial.Trial.suggest_float` instead.\n",
            "  return trial.suggest_loguniform(self.name, self.low, self.high)\n",
            "/usr/local/lib/python3.8/dist-packages/teddynote/models.py:35: FutureWarning: suggest_uniform has been deprecated in v3.0.0. This feature will be removed in v6.0.0. See https://github.com/optuna/optuna/releases/tag/v3.0.0. Use :func:`~optuna.trial.Trial.suggest_float` instead.\n",
            "  return trial.suggest_uniform(self.name, self.low, self.high)\n",
            "\u001b[32m[I 2022-12-29 10:28:14,106]\u001b[0m Trial 24 finished with value: 0.9232240135510228 and parameters: {'lambda': 0.014558994648711946, 'alpha': 0.034882002147261455, 'colsample_bytree': 0.7251986681957893, 'subsample': 0.7576721701620031, 'learning_rate': 0.00138520670394034, 'n_estimators': 4986, 'max_depth': 19, 'min_child_weight': 4}. Best is trial 15 with value: 0.9535849888250404.\u001b[0m\n"
          ]
        },
        {
          "output_type": "stream",
          "name": "stdout",
          "text": [
            "metric type: f1, score: 0.96108\n"
          ]
        },
        {
          "output_type": "stream",
          "name": "stderr",
          "text": [
            "/usr/local/lib/python3.8/dist-packages/teddynote/models.py:33: FutureWarning: suggest_loguniform has been deprecated in v3.0.0. This feature will be removed in v6.0.0. See https://github.com/optuna/optuna/releases/tag/v3.0.0. Use :func:`~optuna.trial.Trial.suggest_float` instead.\n",
            "  return trial.suggest_loguniform(self.name, self.low, self.high)\n",
            "/usr/local/lib/python3.8/dist-packages/teddynote/models.py:35: FutureWarning: suggest_uniform has been deprecated in v3.0.0. This feature will be removed in v6.0.0. See https://github.com/optuna/optuna/releases/tag/v3.0.0. Use :func:`~optuna.trial.Trial.suggest_float` instead.\n",
            "  return trial.suggest_uniform(self.name, self.low, self.high)\n"
          ]
        },
        {
          "output_type": "stream",
          "name": "stdout",
          "text": [
            "metric type: f1, score: 0.85680\n",
            "metric type: f1, score: 0.75300\n"
          ]
        },
        {
          "output_type": "stream",
          "name": "stderr",
          "text": [
            "/usr/local/lib/python3.8/dist-packages/teddynote/models.py:33: FutureWarning: suggest_loguniform has been deprecated in v3.0.0. This feature will be removed in v6.0.0. See https://github.com/optuna/optuna/releases/tag/v3.0.0. Use :func:`~optuna.trial.Trial.suggest_float` instead.\n",
            "  return trial.suggest_loguniform(self.name, self.low, self.high)\n",
            "/usr/local/lib/python3.8/dist-packages/teddynote/models.py:35: FutureWarning: suggest_uniform has been deprecated in v3.0.0. This feature will be removed in v6.0.0. See https://github.com/optuna/optuna/releases/tag/v3.0.0. Use :func:`~optuna.trial.Trial.suggest_float` instead.\n",
            "  return trial.suggest_uniform(self.name, self.low, self.high)\n",
            "/usr/local/lib/python3.8/dist-packages/teddynote/models.py:33: FutureWarning: suggest_loguniform has been deprecated in v3.0.0. This feature will be removed in v6.0.0. See https://github.com/optuna/optuna/releases/tag/v3.0.0. Use :func:`~optuna.trial.Trial.suggest_float` instead.\n",
            "  return trial.suggest_loguniform(self.name, self.low, self.high)\n",
            "/usr/local/lib/python3.8/dist-packages/teddynote/models.py:35: FutureWarning: suggest_uniform has been deprecated in v3.0.0. This feature will be removed in v6.0.0. See https://github.com/optuna/optuna/releases/tag/v3.0.0. Use :func:`~optuna.trial.Trial.suggest_float` instead.\n",
            "  return trial.suggest_uniform(self.name, self.low, self.high)\n"
          ]
        },
        {
          "output_type": "stream",
          "name": "stdout",
          "text": [
            "metric type: f1, score: 0.83586\n",
            "metric type: f1, score: 0.84615\n"
          ]
        },
        {
          "output_type": "stream",
          "name": "stderr",
          "text": [
            "/usr/local/lib/python3.8/dist-packages/teddynote/models.py:33: FutureWarning: suggest_loguniform has been deprecated in v3.0.0. This feature will be removed in v6.0.0. See https://github.com/optuna/optuna/releases/tag/v3.0.0. Use :func:`~optuna.trial.Trial.suggest_float` instead.\n",
            "  return trial.suggest_loguniform(self.name, self.low, self.high)\n",
            "/usr/local/lib/python3.8/dist-packages/teddynote/models.py:35: FutureWarning: suggest_uniform has been deprecated in v3.0.0. This feature will be removed in v6.0.0. See https://github.com/optuna/optuna/releases/tag/v3.0.0. Use :func:`~optuna.trial.Trial.suggest_float` instead.\n",
            "  return trial.suggest_uniform(self.name, self.low, self.high)\n",
            "/usr/local/lib/python3.8/dist-packages/teddynote/models.py:33: FutureWarning: suggest_loguniform has been deprecated in v3.0.0. This feature will be removed in v6.0.0. See https://github.com/optuna/optuna/releases/tag/v3.0.0. Use :func:`~optuna.trial.Trial.suggest_float` instead.\n",
            "  return trial.suggest_loguniform(self.name, self.low, self.high)\n",
            "/usr/local/lib/python3.8/dist-packages/teddynote/models.py:35: FutureWarning: suggest_uniform has been deprecated in v3.0.0. This feature will be removed in v6.0.0. See https://github.com/optuna/optuna/releases/tag/v3.0.0. Use :func:`~optuna.trial.Trial.suggest_float` instead.\n",
            "  return trial.suggest_uniform(self.name, self.low, self.high)\n",
            "\u001b[32m[I 2022-12-29 10:28:15,082]\u001b[0m Trial 25 finished with value: 0.8210570153622735 and parameters: {'lambda': 0.01718800428521914, 'alpha': 0.027366189921140215, 'colsample_bytree': 0.7304444005650491, 'subsample': 0.7597341280387697, 'learning_rate': 0.0013665581579394822, 'n_estimators': 1484, 'max_depth': 19, 'min_child_weight': 30}. Best is trial 15 with value: 0.9535849888250404.\u001b[0m\n"
          ]
        },
        {
          "output_type": "stream",
          "name": "stdout",
          "text": [
            "metric type: f1, score: 0.81347\n"
          ]
        },
        {
          "output_type": "stream",
          "name": "stderr",
          "text": [
            "/usr/local/lib/python3.8/dist-packages/teddynote/models.py:33: FutureWarning: suggest_loguniform has been deprecated in v3.0.0. This feature will be removed in v6.0.0. See https://github.com/optuna/optuna/releases/tag/v3.0.0. Use :func:`~optuna.trial.Trial.suggest_float` instead.\n",
            "  return trial.suggest_loguniform(self.name, self.low, self.high)\n",
            "/usr/local/lib/python3.8/dist-packages/teddynote/models.py:35: FutureWarning: suggest_uniform has been deprecated in v3.0.0. This feature will be removed in v6.0.0. See https://github.com/optuna/optuna/releases/tag/v3.0.0. Use :func:`~optuna.trial.Trial.suggest_float` instead.\n",
            "  return trial.suggest_uniform(self.name, self.low, self.high)\n"
          ]
        },
        {
          "output_type": "stream",
          "name": "stdout",
          "text": [
            "metric type: f1, score: 1.00000\n"
          ]
        },
        {
          "output_type": "stream",
          "name": "stderr",
          "text": [
            "/usr/local/lib/python3.8/dist-packages/teddynote/models.py:33: FutureWarning: suggest_loguniform has been deprecated in v3.0.0. This feature will be removed in v6.0.0. See https://github.com/optuna/optuna/releases/tag/v3.0.0. Use :func:`~optuna.trial.Trial.suggest_float` instead.\n",
            "  return trial.suggest_loguniform(self.name, self.low, self.high)\n",
            "/usr/local/lib/python3.8/dist-packages/teddynote/models.py:35: FutureWarning: suggest_uniform has been deprecated in v3.0.0. This feature will be removed in v6.0.0. See https://github.com/optuna/optuna/releases/tag/v3.0.0. Use :func:`~optuna.trial.Trial.suggest_float` instead.\n",
            "  return trial.suggest_uniform(self.name, self.low, self.high)\n"
          ]
        },
        {
          "output_type": "stream",
          "name": "stdout",
          "text": [
            "metric type: f1, score: 0.90524\n"
          ]
        },
        {
          "output_type": "stream",
          "name": "stderr",
          "text": [
            "/usr/local/lib/python3.8/dist-packages/teddynote/models.py:33: FutureWarning: suggest_loguniform has been deprecated in v3.0.0. This feature will be removed in v6.0.0. See https://github.com/optuna/optuna/releases/tag/v3.0.0. Use :func:`~optuna.trial.Trial.suggest_float` instead.\n",
            "  return trial.suggest_loguniform(self.name, self.low, self.high)\n",
            "/usr/local/lib/python3.8/dist-packages/teddynote/models.py:35: FutureWarning: suggest_uniform has been deprecated in v3.0.0. This feature will be removed in v6.0.0. See https://github.com/optuna/optuna/releases/tag/v3.0.0. Use :func:`~optuna.trial.Trial.suggest_float` instead.\n",
            "  return trial.suggest_uniform(self.name, self.low, self.high)\n"
          ]
        },
        {
          "output_type": "stream",
          "name": "stdout",
          "text": [
            "metric type: f1, score: 0.90362\n"
          ]
        },
        {
          "output_type": "stream",
          "name": "stderr",
          "text": [
            "/usr/local/lib/python3.8/dist-packages/teddynote/models.py:33: FutureWarning: suggest_loguniform has been deprecated in v3.0.0. This feature will be removed in v6.0.0. See https://github.com/optuna/optuna/releases/tag/v3.0.0. Use :func:`~optuna.trial.Trial.suggest_float` instead.\n",
            "  return trial.suggest_loguniform(self.name, self.low, self.high)\n",
            "/usr/local/lib/python3.8/dist-packages/teddynote/models.py:35: FutureWarning: suggest_uniform has been deprecated in v3.0.0. This feature will be removed in v6.0.0. See https://github.com/optuna/optuna/releases/tag/v3.0.0. Use :func:`~optuna.trial.Trial.suggest_float` instead.\n",
            "  return trial.suggest_uniform(self.name, self.low, self.high)\n"
          ]
        },
        {
          "output_type": "stream",
          "name": "stdout",
          "text": [
            "metric type: f1, score: 0.98055\n"
          ]
        },
        {
          "output_type": "stream",
          "name": "stderr",
          "text": [
            "/usr/local/lib/python3.8/dist-packages/teddynote/models.py:33: FutureWarning: suggest_loguniform has been deprecated in v3.0.0. This feature will be removed in v6.0.0. See https://github.com/optuna/optuna/releases/tag/v3.0.0. Use :func:`~optuna.trial.Trial.suggest_float` instead.\n",
            "  return trial.suggest_loguniform(self.name, self.low, self.high)\n",
            "/usr/local/lib/python3.8/dist-packages/teddynote/models.py:35: FutureWarning: suggest_uniform has been deprecated in v3.0.0. This feature will be removed in v6.0.0. See https://github.com/optuna/optuna/releases/tag/v3.0.0. Use :func:`~optuna.trial.Trial.suggest_float` instead.\n",
            "  return trial.suggest_uniform(self.name, self.low, self.high)\n",
            "\u001b[32m[I 2022-12-29 10:28:16,331]\u001b[0m Trial 26 finished with value: 0.9461047289634692 and parameters: {'lambda': 0.0011981334446922497, 'alpha': 0.00471803011268634, 'colsample_bytree': 0.7863518102858461, 'subsample': 0.7115467001426383, 'learning_rate': 1.0784182750019133e-05, 'n_estimators': 4271, 'max_depth': 11, 'min_child_weight': 1}. Best is trial 15 with value: 0.9535849888250404.\u001b[0m\n"
          ]
        },
        {
          "output_type": "stream",
          "name": "stdout",
          "text": [
            "metric type: f1, score: 0.94112\n"
          ]
        },
        {
          "output_type": "stream",
          "name": "stderr",
          "text": [
            "/usr/local/lib/python3.8/dist-packages/teddynote/models.py:33: FutureWarning: suggest_loguniform has been deprecated in v3.0.0. This feature will be removed in v6.0.0. See https://github.com/optuna/optuna/releases/tag/v3.0.0. Use :func:`~optuna.trial.Trial.suggest_float` instead.\n",
            "  return trial.suggest_loguniform(self.name, self.low, self.high)\n",
            "/usr/local/lib/python3.8/dist-packages/teddynote/models.py:35: FutureWarning: suggest_uniform has been deprecated in v3.0.0. This feature will be removed in v6.0.0. See https://github.com/optuna/optuna/releases/tag/v3.0.0. Use :func:`~optuna.trial.Trial.suggest_float` instead.\n",
            "  return trial.suggest_uniform(self.name, self.low, self.high)\n"
          ]
        },
        {
          "output_type": "stream",
          "name": "stdout",
          "text": [
            "metric type: f1, score: 0.79134\n",
            "metric type: f1, score: 0.64106\n"
          ]
        },
        {
          "output_type": "stream",
          "name": "stderr",
          "text": [
            "/usr/local/lib/python3.8/dist-packages/teddynote/models.py:33: FutureWarning: suggest_loguniform has been deprecated in v3.0.0. This feature will be removed in v6.0.0. See https://github.com/optuna/optuna/releases/tag/v3.0.0. Use :func:`~optuna.trial.Trial.suggest_float` instead.\n",
            "  return trial.suggest_loguniform(self.name, self.low, self.high)\n",
            "/usr/local/lib/python3.8/dist-packages/teddynote/models.py:35: FutureWarning: suggest_uniform has been deprecated in v3.0.0. This feature will be removed in v6.0.0. See https://github.com/optuna/optuna/releases/tag/v3.0.0. Use :func:`~optuna.trial.Trial.suggest_float` instead.\n",
            "  return trial.suggest_uniform(self.name, self.low, self.high)\n",
            "/usr/local/lib/python3.8/dist-packages/teddynote/models.py:33: FutureWarning: suggest_loguniform has been deprecated in v3.0.0. This feature will be removed in v6.0.0. See https://github.com/optuna/optuna/releases/tag/v3.0.0. Use :func:`~optuna.trial.Trial.suggest_float` instead.\n",
            "  return trial.suggest_loguniform(self.name, self.low, self.high)\n",
            "/usr/local/lib/python3.8/dist-packages/teddynote/models.py:35: FutureWarning: suggest_uniform has been deprecated in v3.0.0. This feature will be removed in v6.0.0. See https://github.com/optuna/optuna/releases/tag/v3.0.0. Use :func:`~optuna.trial.Trial.suggest_float` instead.\n",
            "  return trial.suggest_uniform(self.name, self.low, self.high)\n"
          ]
        },
        {
          "output_type": "stream",
          "name": "stdout",
          "text": [
            "metric type: f1, score: 0.71828\n",
            "metric type: f1, score: 0.83519\n"
          ]
        },
        {
          "output_type": "stream",
          "name": "stderr",
          "text": [
            "/usr/local/lib/python3.8/dist-packages/teddynote/models.py:33: FutureWarning: suggest_loguniform has been deprecated in v3.0.0. This feature will be removed in v6.0.0. See https://github.com/optuna/optuna/releases/tag/v3.0.0. Use :func:`~optuna.trial.Trial.suggest_float` instead.\n",
            "  return trial.suggest_loguniform(self.name, self.low, self.high)\n",
            "/usr/local/lib/python3.8/dist-packages/teddynote/models.py:35: FutureWarning: suggest_uniform has been deprecated in v3.0.0. This feature will be removed in v6.0.0. See https://github.com/optuna/optuna/releases/tag/v3.0.0. Use :func:`~optuna.trial.Trial.suggest_float` instead.\n",
            "  return trial.suggest_uniform(self.name, self.low, self.high)\n",
            "/usr/local/lib/python3.8/dist-packages/teddynote/models.py:33: FutureWarning: suggest_loguniform has been deprecated in v3.0.0. This feature will be removed in v6.0.0. See https://github.com/optuna/optuna/releases/tag/v3.0.0. Use :func:`~optuna.trial.Trial.suggest_float` instead.\n",
            "  return trial.suggest_loguniform(self.name, self.low, self.high)\n",
            "/usr/local/lib/python3.8/dist-packages/teddynote/models.py:35: FutureWarning: suggest_uniform has been deprecated in v3.0.0. This feature will be removed in v6.0.0. See https://github.com/optuna/optuna/releases/tag/v3.0.0. Use :func:`~optuna.trial.Trial.suggest_float` instead.\n",
            "  return trial.suggest_uniform(self.name, self.low, self.high)\n",
            "\u001b[32m[I 2022-12-29 10:28:17,297]\u001b[0m Trial 27 finished with value: 0.74968408260714 and parameters: {'lambda': 0.001289342544579519, 'alpha': 0.003595486477434781, 'colsample_bytree': 0.7832649704910194, 'subsample': 0.7216820090183431, 'learning_rate': 1.1830366994878572e-05, 'n_estimators': 381, 'max_depth': 11, 'min_child_weight': 30}. Best is trial 15 with value: 0.9535849888250404.\u001b[0m\n"
          ]
        },
        {
          "output_type": "stream",
          "name": "stdout",
          "text": [
            "metric type: f1, score: 0.76256\n"
          ]
        },
        {
          "output_type": "stream",
          "name": "stderr",
          "text": [
            "/usr/local/lib/python3.8/dist-packages/teddynote/models.py:33: FutureWarning: suggest_loguniform has been deprecated in v3.0.0. This feature will be removed in v6.0.0. See https://github.com/optuna/optuna/releases/tag/v3.0.0. Use :func:`~optuna.trial.Trial.suggest_float` instead.\n",
            "  return trial.suggest_loguniform(self.name, self.low, self.high)\n",
            "/usr/local/lib/python3.8/dist-packages/teddynote/models.py:35: FutureWarning: suggest_uniform has been deprecated in v3.0.0. This feature will be removed in v6.0.0. See https://github.com/optuna/optuna/releases/tag/v3.0.0. Use :func:`~optuna.trial.Trial.suggest_float` instead.\n",
            "  return trial.suggest_uniform(self.name, self.low, self.high)\n"
          ]
        },
        {
          "output_type": "stream",
          "name": "stdout",
          "text": [
            "metric type: f1, score: 0.22489\n",
            "metric type: f1, score: 0.30237\n"
          ]
        },
        {
          "output_type": "stream",
          "name": "stderr",
          "text": [
            "/usr/local/lib/python3.8/dist-packages/teddynote/models.py:33: FutureWarning: suggest_loguniform has been deprecated in v3.0.0. This feature will be removed in v6.0.0. See https://github.com/optuna/optuna/releases/tag/v3.0.0. Use :func:`~optuna.trial.Trial.suggest_float` instead.\n",
            "  return trial.suggest_loguniform(self.name, self.low, self.high)\n",
            "/usr/local/lib/python3.8/dist-packages/teddynote/models.py:35: FutureWarning: suggest_uniform has been deprecated in v3.0.0. This feature will be removed in v6.0.0. See https://github.com/optuna/optuna/releases/tag/v3.0.0. Use :func:`~optuna.trial.Trial.suggest_float` instead.\n",
            "  return trial.suggest_uniform(self.name, self.low, self.high)\n",
            "/usr/local/lib/python3.8/dist-packages/teddynote/models.py:33: FutureWarning: suggest_loguniform has been deprecated in v3.0.0. This feature will be removed in v6.0.0. See https://github.com/optuna/optuna/releases/tag/v3.0.0. Use :func:`~optuna.trial.Trial.suggest_float` instead.\n",
            "  return trial.suggest_loguniform(self.name, self.low, self.high)\n",
            "/usr/local/lib/python3.8/dist-packages/teddynote/models.py:35: FutureWarning: suggest_uniform has been deprecated in v3.0.0. This feature will be removed in v6.0.0. See https://github.com/optuna/optuna/releases/tag/v3.0.0. Use :func:`~optuna.trial.Trial.suggest_float` instead.\n",
            "  return trial.suggest_uniform(self.name, self.low, self.high)\n"
          ]
        },
        {
          "output_type": "stream",
          "name": "stdout",
          "text": [
            "metric type: f1, score: 0.19556\n",
            "metric type: f1, score: 0.39934\n"
          ]
        },
        {
          "output_type": "stream",
          "name": "stderr",
          "text": [
            "/usr/local/lib/python3.8/dist-packages/teddynote/models.py:33: FutureWarning: suggest_loguniform has been deprecated in v3.0.0. This feature will be removed in v6.0.0. See https://github.com/optuna/optuna/releases/tag/v3.0.0. Use :func:`~optuna.trial.Trial.suggest_float` instead.\n",
            "  return trial.suggest_loguniform(self.name, self.low, self.high)\n",
            "/usr/local/lib/python3.8/dist-packages/teddynote/models.py:35: FutureWarning: suggest_uniform has been deprecated in v3.0.0. This feature will be removed in v6.0.0. See https://github.com/optuna/optuna/releases/tag/v3.0.0. Use :func:`~optuna.trial.Trial.suggest_float` instead.\n",
            "  return trial.suggest_uniform(self.name, self.low, self.high)\n",
            "/usr/local/lib/python3.8/dist-packages/teddynote/models.py:33: FutureWarning: suggest_loguniform has been deprecated in v3.0.0. This feature will be removed in v6.0.0. See https://github.com/optuna/optuna/releases/tag/v3.0.0. Use :func:`~optuna.trial.Trial.suggest_float` instead.\n",
            "  return trial.suggest_loguniform(self.name, self.low, self.high)\n",
            "/usr/local/lib/python3.8/dist-packages/teddynote/models.py:35: FutureWarning: suggest_uniform has been deprecated in v3.0.0. This feature will be removed in v6.0.0. See https://github.com/optuna/optuna/releases/tag/v3.0.0. Use :func:`~optuna.trial.Trial.suggest_float` instead.\n",
            "  return trial.suggest_uniform(self.name, self.low, self.high)\n",
            "\u001b[32m[I 2022-12-29 10:28:18,225]\u001b[0m Trial 28 finished with value: 0.2671648515035883 and parameters: {'lambda': 0.0012399647287727569, 'alpha': 0.006204463657339822, 'colsample_bytree': 0.8600643141705753, 'subsample': 0.6616747826681341, 'learning_rate': 2.4599079897017946e-05, 'n_estimators': 3853, 'max_depth': 14, 'min_child_weight': 69}. Best is trial 15 with value: 0.9535849888250404.\u001b[0m\n"
          ]
        },
        {
          "output_type": "stream",
          "name": "stdout",
          "text": [
            "metric type: f1, score: 0.21368\n"
          ]
        },
        {
          "output_type": "stream",
          "name": "stderr",
          "text": [
            "/usr/local/lib/python3.8/dist-packages/teddynote/models.py:33: FutureWarning: suggest_loguniform has been deprecated in v3.0.0. This feature will be removed in v6.0.0. See https://github.com/optuna/optuna/releases/tag/v3.0.0. Use :func:`~optuna.trial.Trial.suggest_float` instead.\n",
            "  return trial.suggest_loguniform(self.name, self.low, self.high)\n",
            "/usr/local/lib/python3.8/dist-packages/teddynote/models.py:35: FutureWarning: suggest_uniform has been deprecated in v3.0.0. This feature will be removed in v6.0.0. See https://github.com/optuna/optuna/releases/tag/v3.0.0. Use :func:`~optuna.trial.Trial.suggest_float` instead.\n",
            "  return trial.suggest_uniform(self.name, self.low, self.high)\n"
          ]
        },
        {
          "output_type": "stream",
          "name": "stdout",
          "text": [
            "metric type: f1, score: 0.22489\n",
            "metric type: f1, score: 0.30237\n"
          ]
        },
        {
          "output_type": "stream",
          "name": "stderr",
          "text": [
            "/usr/local/lib/python3.8/dist-packages/teddynote/models.py:33: FutureWarning: suggest_loguniform has been deprecated in v3.0.0. This feature will be removed in v6.0.0. See https://github.com/optuna/optuna/releases/tag/v3.0.0. Use :func:`~optuna.trial.Trial.suggest_float` instead.\n",
            "  return trial.suggest_loguniform(self.name, self.low, self.high)\n",
            "/usr/local/lib/python3.8/dist-packages/teddynote/models.py:35: FutureWarning: suggest_uniform has been deprecated in v3.0.0. This feature will be removed in v6.0.0. See https://github.com/optuna/optuna/releases/tag/v3.0.0. Use :func:`~optuna.trial.Trial.suggest_float` instead.\n",
            "  return trial.suggest_uniform(self.name, self.low, self.high)\n",
            "/usr/local/lib/python3.8/dist-packages/teddynote/models.py:33: FutureWarning: suggest_loguniform has been deprecated in v3.0.0. This feature will be removed in v6.0.0. See https://github.com/optuna/optuna/releases/tag/v3.0.0. Use :func:`~optuna.trial.Trial.suggest_float` instead.\n",
            "  return trial.suggest_loguniform(self.name, self.low, self.high)\n",
            "/usr/local/lib/python3.8/dist-packages/teddynote/models.py:35: FutureWarning: suggest_uniform has been deprecated in v3.0.0. This feature will be removed in v6.0.0. See https://github.com/optuna/optuna/releases/tag/v3.0.0. Use :func:`~optuna.trial.Trial.suggest_float` instead.\n",
            "  return trial.suggest_uniform(self.name, self.low, self.high)\n"
          ]
        },
        {
          "output_type": "stream",
          "name": "stdout",
          "text": [
            "metric type: f1, score: 0.19556\n",
            "metric type: f1, score: 0.39934\n"
          ]
        },
        {
          "output_type": "stream",
          "name": "stderr",
          "text": [
            "/usr/local/lib/python3.8/dist-packages/teddynote/models.py:33: FutureWarning: suggest_loguniform has been deprecated in v3.0.0. This feature will be removed in v6.0.0. See https://github.com/optuna/optuna/releases/tag/v3.0.0. Use :func:`~optuna.trial.Trial.suggest_float` instead.\n",
            "  return trial.suggest_loguniform(self.name, self.low, self.high)\n",
            "/usr/local/lib/python3.8/dist-packages/teddynote/models.py:35: FutureWarning: suggest_uniform has been deprecated in v3.0.0. This feature will be removed in v6.0.0. See https://github.com/optuna/optuna/releases/tag/v3.0.0. Use :func:`~optuna.trial.Trial.suggest_float` instead.\n",
            "  return trial.suggest_uniform(self.name, self.low, self.high)\n",
            "/usr/local/lib/python3.8/dist-packages/teddynote/models.py:33: FutureWarning: suggest_loguniform has been deprecated in v3.0.0. This feature will be removed in v6.0.0. See https://github.com/optuna/optuna/releases/tag/v3.0.0. Use :func:`~optuna.trial.Trial.suggest_float` instead.\n",
            "  return trial.suggest_loguniform(self.name, self.low, self.high)\n",
            "/usr/local/lib/python3.8/dist-packages/teddynote/models.py:35: FutureWarning: suggest_uniform has been deprecated in v3.0.0. This feature will be removed in v6.0.0. See https://github.com/optuna/optuna/releases/tag/v3.0.0. Use :func:`~optuna.trial.Trial.suggest_float` instead.\n",
            "  return trial.suggest_uniform(self.name, self.low, self.high)\n",
            "\u001b[32m[I 2022-12-29 10:28:19,152]\u001b[0m Trial 29 finished with value: 0.2671648515035883 and parameters: {'lambda': 0.1331392839060375, 'alpha': 0.0011445132173198461, 'colsample_bytree': 0.8174673364322564, 'subsample': 0.6440834672534858, 'learning_rate': 5.465240155214783e-05, 'n_estimators': 2802, 'max_depth': 10, 'min_child_weight': 31}. Best is trial 15 with value: 0.9535849888250404.\u001b[0m\n"
          ]
        },
        {
          "output_type": "stream",
          "name": "stdout",
          "text": [
            "metric type: f1, score: 0.21368\n"
          ]
        },
        {
          "output_type": "stream",
          "name": "stderr",
          "text": [
            "/usr/local/lib/python3.8/dist-packages/teddynote/models.py:33: FutureWarning: suggest_loguniform has been deprecated in v3.0.0. This feature will be removed in v6.0.0. See https://github.com/optuna/optuna/releases/tag/v3.0.0. Use :func:`~optuna.trial.Trial.suggest_float` instead.\n",
            "  return trial.suggest_loguniform(self.name, self.low, self.high)\n",
            "/usr/local/lib/python3.8/dist-packages/teddynote/models.py:35: FutureWarning: suggest_uniform has been deprecated in v3.0.0. This feature will be removed in v6.0.0. See https://github.com/optuna/optuna/releases/tag/v3.0.0. Use :func:`~optuna.trial.Trial.suggest_float` instead.\n",
            "  return trial.suggest_uniform(self.name, self.low, self.high)\n",
            "/usr/local/lib/python3.8/dist-packages/teddynote/models.py:33: FutureWarning: suggest_loguniform has been deprecated in v3.0.0. This feature will be removed in v6.0.0. See https://github.com/optuna/optuna/releases/tag/v3.0.0. Use :func:`~optuna.trial.Trial.suggest_float` instead.\n",
            "  return trial.suggest_loguniform(self.name, self.low, self.high)\n"
          ]
        },
        {
          "output_type": "stream",
          "name": "stdout",
          "text": [
            "metric type: f1, score: 0.22489\n",
            "metric type: f1, score: 0.30237\n"
          ]
        },
        {
          "output_type": "stream",
          "name": "stderr",
          "text": [
            "/usr/local/lib/python3.8/dist-packages/teddynote/models.py:35: FutureWarning: suggest_uniform has been deprecated in v3.0.0. This feature will be removed in v6.0.0. See https://github.com/optuna/optuna/releases/tag/v3.0.0. Use :func:`~optuna.trial.Trial.suggest_float` instead.\n",
            "  return trial.suggest_uniform(self.name, self.low, self.high)\n",
            "/usr/local/lib/python3.8/dist-packages/teddynote/models.py:33: FutureWarning: suggest_loguniform has been deprecated in v3.0.0. This feature will be removed in v6.0.0. See https://github.com/optuna/optuna/releases/tag/v3.0.0. Use :func:`~optuna.trial.Trial.suggest_float` instead.\n",
            "  return trial.suggest_loguniform(self.name, self.low, self.high)\n",
            "/usr/local/lib/python3.8/dist-packages/teddynote/models.py:35: FutureWarning: suggest_uniform has been deprecated in v3.0.0. This feature will be removed in v6.0.0. See https://github.com/optuna/optuna/releases/tag/v3.0.0. Use :func:`~optuna.trial.Trial.suggest_float` instead.\n",
            "  return trial.suggest_uniform(self.name, self.low, self.high)\n"
          ]
        },
        {
          "output_type": "stream",
          "name": "stdout",
          "text": [
            "metric type: f1, score: 0.19556\n",
            "metric type: f1, score: 0.39934\n"
          ]
        },
        {
          "output_type": "stream",
          "name": "stderr",
          "text": [
            "/usr/local/lib/python3.8/dist-packages/teddynote/models.py:33: FutureWarning: suggest_loguniform has been deprecated in v3.0.0. This feature will be removed in v6.0.0. See https://github.com/optuna/optuna/releases/tag/v3.0.0. Use :func:`~optuna.trial.Trial.suggest_float` instead.\n",
            "  return trial.suggest_loguniform(self.name, self.low, self.high)\n",
            "/usr/local/lib/python3.8/dist-packages/teddynote/models.py:35: FutureWarning: suggest_uniform has been deprecated in v3.0.0. This feature will be removed in v6.0.0. See https://github.com/optuna/optuna/releases/tag/v3.0.0. Use :func:`~optuna.trial.Trial.suggest_float` instead.\n",
            "  return trial.suggest_uniform(self.name, self.low, self.high)\n",
            "/usr/local/lib/python3.8/dist-packages/teddynote/models.py:33: FutureWarning: suggest_loguniform has been deprecated in v3.0.0. This feature will be removed in v6.0.0. See https://github.com/optuna/optuna/releases/tag/v3.0.0. Use :func:`~optuna.trial.Trial.suggest_float` instead.\n",
            "  return trial.suggest_loguniform(self.name, self.low, self.high)\n",
            "/usr/local/lib/python3.8/dist-packages/teddynote/models.py:35: FutureWarning: suggest_uniform has been deprecated in v3.0.0. This feature will be removed in v6.0.0. See https://github.com/optuna/optuna/releases/tag/v3.0.0. Use :func:`~optuna.trial.Trial.suggest_float` instead.\n",
            "  return trial.suggest_uniform(self.name, self.low, self.high)\n",
            "\u001b[32m[I 2022-12-29 10:28:20,070]\u001b[0m Trial 30 finished with value: 0.2671648515035883 and parameters: {'lambda': 0.0011210954926968682, 'alpha': 0.0003391434913978512, 'colsample_bytree': 0.8600348403556822, 'subsample': 0.6988441700091785, 'learning_rate': 1.0047604969467119e-05, 'n_estimators': 1793, 'max_depth': 13, 'min_child_weight': 132}. Best is trial 15 with value: 0.9535849888250404.\u001b[0m\n"
          ]
        },
        {
          "output_type": "stream",
          "name": "stdout",
          "text": [
            "metric type: f1, score: 0.21368\n"
          ]
        },
        {
          "output_type": "stream",
          "name": "stderr",
          "text": [
            "/usr/local/lib/python3.8/dist-packages/teddynote/models.py:33: FutureWarning: suggest_loguniform has been deprecated in v3.0.0. This feature will be removed in v6.0.0. See https://github.com/optuna/optuna/releases/tag/v3.0.0. Use :func:`~optuna.trial.Trial.suggest_float` instead.\n",
            "  return trial.suggest_loguniform(self.name, self.low, self.high)\n",
            "/usr/local/lib/python3.8/dist-packages/teddynote/models.py:35: FutureWarning: suggest_uniform has been deprecated in v3.0.0. This feature will be removed in v6.0.0. See https://github.com/optuna/optuna/releases/tag/v3.0.0. Use :func:`~optuna.trial.Trial.suggest_float` instead.\n",
            "  return trial.suggest_uniform(self.name, self.low, self.high)\n"
          ]
        },
        {
          "output_type": "stream",
          "name": "stdout",
          "text": [
            "metric type: f1, score: 0.96186\n"
          ]
        },
        {
          "output_type": "stream",
          "name": "stderr",
          "text": [
            "/usr/local/lib/python3.8/dist-packages/teddynote/models.py:33: FutureWarning: suggest_loguniform has been deprecated in v3.0.0. This feature will be removed in v6.0.0. See https://github.com/optuna/optuna/releases/tag/v3.0.0. Use :func:`~optuna.trial.Trial.suggest_float` instead.\n",
            "  return trial.suggest_loguniform(self.name, self.low, self.high)\n",
            "/usr/local/lib/python3.8/dist-packages/teddynote/models.py:35: FutureWarning: suggest_uniform has been deprecated in v3.0.0. This feature will be removed in v6.0.0. See https://github.com/optuna/optuna/releases/tag/v3.0.0. Use :func:`~optuna.trial.Trial.suggest_float` instead.\n",
            "  return trial.suggest_uniform(self.name, self.low, self.high)\n"
          ]
        },
        {
          "output_type": "stream",
          "name": "stdout",
          "text": [
            "metric type: f1, score: 0.90524\n"
          ]
        },
        {
          "output_type": "stream",
          "name": "stderr",
          "text": [
            "/usr/local/lib/python3.8/dist-packages/teddynote/models.py:33: FutureWarning: suggest_loguniform has been deprecated in v3.0.0. This feature will be removed in v6.0.0. See https://github.com/optuna/optuna/releases/tag/v3.0.0. Use :func:`~optuna.trial.Trial.suggest_float` instead.\n",
            "  return trial.suggest_loguniform(self.name, self.low, self.high)\n",
            "/usr/local/lib/python3.8/dist-packages/teddynote/models.py:35: FutureWarning: suggest_uniform has been deprecated in v3.0.0. This feature will be removed in v6.0.0. See https://github.com/optuna/optuna/releases/tag/v3.0.0. Use :func:`~optuna.trial.Trial.suggest_float` instead.\n",
            "  return trial.suggest_uniform(self.name, self.low, self.high)\n"
          ]
        },
        {
          "output_type": "stream",
          "name": "stdout",
          "text": [
            "metric type: f1, score: 0.88462\n"
          ]
        },
        {
          "output_type": "stream",
          "name": "stderr",
          "text": [
            "/usr/local/lib/python3.8/dist-packages/teddynote/models.py:33: FutureWarning: suggest_loguniform has been deprecated in v3.0.0. This feature will be removed in v6.0.0. See https://github.com/optuna/optuna/releases/tag/v3.0.0. Use :func:`~optuna.trial.Trial.suggest_float` instead.\n",
            "  return trial.suggest_loguniform(self.name, self.low, self.high)\n",
            "/usr/local/lib/python3.8/dist-packages/teddynote/models.py:35: FutureWarning: suggest_uniform has been deprecated in v3.0.0. This feature will be removed in v6.0.0. See https://github.com/optuna/optuna/releases/tag/v3.0.0. Use :func:`~optuna.trial.Trial.suggest_float` instead.\n",
            "  return trial.suggest_uniform(self.name, self.low, self.high)\n"
          ]
        },
        {
          "output_type": "stream",
          "name": "stdout",
          "text": [
            "metric type: f1, score: 0.94164\n"
          ]
        },
        {
          "output_type": "stream",
          "name": "stderr",
          "text": [
            "/usr/local/lib/python3.8/dist-packages/teddynote/models.py:33: FutureWarning: suggest_loguniform has been deprecated in v3.0.0. This feature will be removed in v6.0.0. See https://github.com/optuna/optuna/releases/tag/v3.0.0. Use :func:`~optuna.trial.Trial.suggest_float` instead.\n",
            "  return trial.suggest_loguniform(self.name, self.low, self.high)\n",
            "/usr/local/lib/python3.8/dist-packages/teddynote/models.py:35: FutureWarning: suggest_uniform has been deprecated in v3.0.0. This feature will be removed in v6.0.0. See https://github.com/optuna/optuna/releases/tag/v3.0.0. Use :func:`~optuna.trial.Trial.suggest_float` instead.\n",
            "  return trial.suggest_uniform(self.name, self.low, self.high)\n",
            "\u001b[32m[I 2022-12-29 10:28:21,202]\u001b[0m Trial 31 finished with value: 0.9268949448122076 and parameters: {'lambda': 0.0090025758405523, 'alpha': 0.009433113923601444, 'colsample_bytree': 0.726856104217917, 'subsample': 0.7725314864646373, 'learning_rate': 0.001060407880781564, 'n_estimators': 4479, 'max_depth': 15, 'min_child_weight': 5}. Best is trial 15 with value: 0.9535849888250404.\u001b[0m\n"
          ]
        },
        {
          "output_type": "stream",
          "name": "stdout",
          "text": [
            "metric type: f1, score: 0.94112\n"
          ]
        },
        {
          "output_type": "stream",
          "name": "stderr",
          "text": [
            "/usr/local/lib/python3.8/dist-packages/teddynote/models.py:33: FutureWarning: suggest_loguniform has been deprecated in v3.0.0. This feature will be removed in v6.0.0. See https://github.com/optuna/optuna/releases/tag/v3.0.0. Use :func:`~optuna.trial.Trial.suggest_float` instead.\n",
            "  return trial.suggest_loguniform(self.name, self.low, self.high)\n",
            "/usr/local/lib/python3.8/dist-packages/teddynote/models.py:35: FutureWarning: suggest_uniform has been deprecated in v3.0.0. This feature will be removed in v6.0.0. See https://github.com/optuna/optuna/releases/tag/v3.0.0. Use :func:`~optuna.trial.Trial.suggest_float` instead.\n",
            "  return trial.suggest_uniform(self.name, self.low, self.high)\n"
          ]
        },
        {
          "output_type": "stream",
          "name": "stdout",
          "text": [
            "metric type: f1, score: 0.83362\n",
            "metric type: f1, score: 0.81484\n"
          ]
        },
        {
          "output_type": "stream",
          "name": "stderr",
          "text": [
            "/usr/local/lib/python3.8/dist-packages/teddynote/models.py:33: FutureWarning: suggest_loguniform has been deprecated in v3.0.0. This feature will be removed in v6.0.0. See https://github.com/optuna/optuna/releases/tag/v3.0.0. Use :func:`~optuna.trial.Trial.suggest_float` instead.\n",
            "  return trial.suggest_loguniform(self.name, self.low, self.high)\n",
            "/usr/local/lib/python3.8/dist-packages/teddynote/models.py:35: FutureWarning: suggest_uniform has been deprecated in v3.0.0. This feature will be removed in v6.0.0. See https://github.com/optuna/optuna/releases/tag/v3.0.0. Use :func:`~optuna.trial.Trial.suggest_float` instead.\n",
            "  return trial.suggest_uniform(self.name, self.low, self.high)\n",
            "/usr/local/lib/python3.8/dist-packages/teddynote/models.py:33: FutureWarning: suggest_loguniform has been deprecated in v3.0.0. This feature will be removed in v6.0.0. See https://github.com/optuna/optuna/releases/tag/v3.0.0. Use :func:`~optuna.trial.Trial.suggest_float` instead.\n",
            "  return trial.suggest_loguniform(self.name, self.low, self.high)\n",
            "/usr/local/lib/python3.8/dist-packages/teddynote/models.py:35: FutureWarning: suggest_uniform has been deprecated in v3.0.0. This feature will be removed in v6.0.0. See https://github.com/optuna/optuna/releases/tag/v3.0.0. Use :func:`~optuna.trial.Trial.suggest_float` instead.\n",
            "  return trial.suggest_uniform(self.name, self.low, self.high)\n"
          ]
        },
        {
          "output_type": "stream",
          "name": "stdout",
          "text": [
            "metric type: f1, score: 0.77882\n",
            "metric type: f1, score: 0.80253\n"
          ]
        },
        {
          "output_type": "stream",
          "name": "stderr",
          "text": [
            "/usr/local/lib/python3.8/dist-packages/teddynote/models.py:33: FutureWarning: suggest_loguniform has been deprecated in v3.0.0. This feature will be removed in v6.0.0. See https://github.com/optuna/optuna/releases/tag/v3.0.0. Use :func:`~optuna.trial.Trial.suggest_float` instead.\n",
            "  return trial.suggest_loguniform(self.name, self.low, self.high)\n",
            "/usr/local/lib/python3.8/dist-packages/teddynote/models.py:35: FutureWarning: suggest_uniform has been deprecated in v3.0.0. This feature will be removed in v6.0.0. See https://github.com/optuna/optuna/releases/tag/v3.0.0. Use :func:`~optuna.trial.Trial.suggest_float` instead.\n",
            "  return trial.suggest_uniform(self.name, self.low, self.high)\n",
            "/usr/local/lib/python3.8/dist-packages/teddynote/models.py:33: FutureWarning: suggest_loguniform has been deprecated in v3.0.0. This feature will be removed in v6.0.0. See https://github.com/optuna/optuna/releases/tag/v3.0.0. Use :func:`~optuna.trial.Trial.suggest_float` instead.\n",
            "  return trial.suggest_loguniform(self.name, self.low, self.high)\n",
            "/usr/local/lib/python3.8/dist-packages/teddynote/models.py:35: FutureWarning: suggest_uniform has been deprecated in v3.0.0. This feature will be removed in v6.0.0. See https://github.com/optuna/optuna/releases/tag/v3.0.0. Use :func:`~optuna.trial.Trial.suggest_float` instead.\n",
            "  return trial.suggest_uniform(self.name, self.low, self.high)\n",
            "\u001b[32m[I 2022-12-29 10:28:22,190]\u001b[0m Trial 32 finished with value: 0.8065464955409212 and parameters: {'lambda': 0.003386264033854422, 'alpha': 0.006549906084530839, 'colsample_bytree': 0.7781631421487694, 'subsample': 0.7777593953731128, 'learning_rate': 0.0008054366707630426, 'n_estimators': 4336, 'max_depth': 12, 'min_child_weight': 23}. Best is trial 15 with value: 0.9535849888250404.\u001b[0m\n"
          ]
        },
        {
          "output_type": "stream",
          "name": "stdout",
          "text": [
            "metric type: f1, score: 0.80293\n"
          ]
        },
        {
          "output_type": "stream",
          "name": "stderr",
          "text": [
            "/usr/local/lib/python3.8/dist-packages/teddynote/models.py:33: FutureWarning: suggest_loguniform has been deprecated in v3.0.0. This feature will be removed in v6.0.0. See https://github.com/optuna/optuna/releases/tag/v3.0.0. Use :func:`~optuna.trial.Trial.suggest_float` instead.\n",
            "  return trial.suggest_loguniform(self.name, self.low, self.high)\n",
            "/usr/local/lib/python3.8/dist-packages/teddynote/models.py:35: FutureWarning: suggest_uniform has been deprecated in v3.0.0. This feature will be removed in v6.0.0. See https://github.com/optuna/optuna/releases/tag/v3.0.0. Use :func:`~optuna.trial.Trial.suggest_float` instead.\n",
            "  return trial.suggest_uniform(self.name, self.low, self.high)\n",
            "/usr/local/lib/python3.8/dist-packages/teddynote/models.py:33: FutureWarning: suggest_loguniform has been deprecated in v3.0.0. This feature will be removed in v6.0.0. See https://github.com/optuna/optuna/releases/tag/v3.0.0. Use :func:`~optuna.trial.Trial.suggest_float` instead.\n",
            "  return trial.suggest_loguniform(self.name, self.low, self.high)\n",
            "/usr/local/lib/python3.8/dist-packages/teddynote/models.py:35: FutureWarning: suggest_uniform has been deprecated in v3.0.0. This feature will be removed in v6.0.0. See https://github.com/optuna/optuna/releases/tag/v3.0.0. Use :func:`~optuna.trial.Trial.suggest_float` instead.\n",
            "  return trial.suggest_uniform(self.name, self.low, self.high)\n"
          ]
        },
        {
          "output_type": "stream",
          "name": "stdout",
          "text": [
            "metric type: f1, score: 0.22489\n",
            "metric type: f1, score: 0.30237\n"
          ]
        },
        {
          "output_type": "stream",
          "name": "stderr",
          "text": [
            "/usr/local/lib/python3.8/dist-packages/teddynote/models.py:33: FutureWarning: suggest_loguniform has been deprecated in v3.0.0. This feature will be removed in v6.0.0. See https://github.com/optuna/optuna/releases/tag/v3.0.0. Use :func:`~optuna.trial.Trial.suggest_float` instead.\n",
            "  return trial.suggest_loguniform(self.name, self.low, self.high)\n",
            "/usr/local/lib/python3.8/dist-packages/teddynote/models.py:35: FutureWarning: suggest_uniform has been deprecated in v3.0.0. This feature will be removed in v6.0.0. See https://github.com/optuna/optuna/releases/tag/v3.0.0. Use :func:`~optuna.trial.Trial.suggest_float` instead.\n",
            "  return trial.suggest_uniform(self.name, self.low, self.high)\n",
            "/usr/local/lib/python3.8/dist-packages/teddynote/models.py:33: FutureWarning: suggest_loguniform has been deprecated in v3.0.0. This feature will be removed in v6.0.0. See https://github.com/optuna/optuna/releases/tag/v3.0.0. Use :func:`~optuna.trial.Trial.suggest_float` instead.\n",
            "  return trial.suggest_loguniform(self.name, self.low, self.high)\n",
            "/usr/local/lib/python3.8/dist-packages/teddynote/models.py:35: FutureWarning: suggest_uniform has been deprecated in v3.0.0. This feature will be removed in v6.0.0. See https://github.com/optuna/optuna/releases/tag/v3.0.0. Use :func:`~optuna.trial.Trial.suggest_float` instead.\n",
            "  return trial.suggest_uniform(self.name, self.low, self.high)\n"
          ]
        },
        {
          "output_type": "stream",
          "name": "stdout",
          "text": [
            "metric type: f1, score: 0.19556\n",
            "metric type: f1, score: 0.39934\n"
          ]
        },
        {
          "output_type": "stream",
          "name": "stderr",
          "text": [
            "/usr/local/lib/python3.8/dist-packages/teddynote/models.py:33: FutureWarning: suggest_loguniform has been deprecated in v3.0.0. This feature will be removed in v6.0.0. See https://github.com/optuna/optuna/releases/tag/v3.0.0. Use :func:`~optuna.trial.Trial.suggest_float` instead.\n",
            "  return trial.suggest_loguniform(self.name, self.low, self.high)\n",
            "/usr/local/lib/python3.8/dist-packages/teddynote/models.py:35: FutureWarning: suggest_uniform has been deprecated in v3.0.0. This feature will be removed in v6.0.0. See https://github.com/optuna/optuna/releases/tag/v3.0.0. Use :func:`~optuna.trial.Trial.suggest_float` instead.\n",
            "  return trial.suggest_uniform(self.name, self.low, self.high)\n",
            "\u001b[32m[I 2022-12-29 10:28:23,116]\u001b[0m Trial 33 finished with value: 0.2671648515035883 and parameters: {'lambda': 0.22289967291115634, 'alpha': 0.012359192831515122, 'colsample_bytree': 0.7047421590648518, 'subsample': 0.7279778782751112, 'learning_rate': 2.0245253597210577e-05, 'n_estimators': 4476, 'max_depth': 15, 'min_child_weight': 49}. Best is trial 15 with value: 0.9535849888250404.\u001b[0m\n",
            "/usr/local/lib/python3.8/dist-packages/teddynote/models.py:33: FutureWarning: suggest_loguniform has been deprecated in v3.0.0. This feature will be removed in v6.0.0. See https://github.com/optuna/optuna/releases/tag/v3.0.0. Use :func:`~optuna.trial.Trial.suggest_float` instead.\n",
            "  return trial.suggest_loguniform(self.name, self.low, self.high)\n",
            "/usr/local/lib/python3.8/dist-packages/teddynote/models.py:35: FutureWarning: suggest_uniform has been deprecated in v3.0.0. This feature will be removed in v6.0.0. See https://github.com/optuna/optuna/releases/tag/v3.0.0. Use :func:`~optuna.trial.Trial.suggest_float` instead.\n",
            "  return trial.suggest_uniform(self.name, self.low, self.high)\n"
          ]
        },
        {
          "output_type": "stream",
          "name": "stdout",
          "text": [
            "metric type: f1, score: 0.21368\n",
            "metric type: f1, score: 0.22489\n",
            "metric type: f1, score: 0.30237\n"
          ]
        },
        {
          "output_type": "stream",
          "name": "stderr",
          "text": [
            "/usr/local/lib/python3.8/dist-packages/teddynote/models.py:33: FutureWarning: suggest_loguniform has been deprecated in v3.0.0. This feature will be removed in v6.0.0. See https://github.com/optuna/optuna/releases/tag/v3.0.0. Use :func:`~optuna.trial.Trial.suggest_float` instead.\n",
            "  return trial.suggest_loguniform(self.name, self.low, self.high)\n",
            "/usr/local/lib/python3.8/dist-packages/teddynote/models.py:35: FutureWarning: suggest_uniform has been deprecated in v3.0.0. This feature will be removed in v6.0.0. See https://github.com/optuna/optuna/releases/tag/v3.0.0. Use :func:`~optuna.trial.Trial.suggest_float` instead.\n",
            "  return trial.suggest_uniform(self.name, self.low, self.high)\n",
            "/usr/local/lib/python3.8/dist-packages/teddynote/models.py:33: FutureWarning: suggest_loguniform has been deprecated in v3.0.0. This feature will be removed in v6.0.0. See https://github.com/optuna/optuna/releases/tag/v3.0.0. Use :func:`~optuna.trial.Trial.suggest_float` instead.\n",
            "  return trial.suggest_loguniform(self.name, self.low, self.high)\n",
            "/usr/local/lib/python3.8/dist-packages/teddynote/models.py:35: FutureWarning: suggest_uniform has been deprecated in v3.0.0. This feature will be removed in v6.0.0. See https://github.com/optuna/optuna/releases/tag/v3.0.0. Use :func:`~optuna.trial.Trial.suggest_float` instead.\n",
            "  return trial.suggest_uniform(self.name, self.low, self.high)\n"
          ]
        },
        {
          "output_type": "stream",
          "name": "stdout",
          "text": [
            "metric type: f1, score: 0.19556\n",
            "metric type: f1, score: 0.39934\n"
          ]
        },
        {
          "output_type": "stream",
          "name": "stderr",
          "text": [
            "/usr/local/lib/python3.8/dist-packages/teddynote/models.py:33: FutureWarning: suggest_loguniform has been deprecated in v3.0.0. This feature will be removed in v6.0.0. See https://github.com/optuna/optuna/releases/tag/v3.0.0. Use :func:`~optuna.trial.Trial.suggest_float` instead.\n",
            "  return trial.suggest_loguniform(self.name, self.low, self.high)\n",
            "/usr/local/lib/python3.8/dist-packages/teddynote/models.py:35: FutureWarning: suggest_uniform has been deprecated in v3.0.0. This feature will be removed in v6.0.0. See https://github.com/optuna/optuna/releases/tag/v3.0.0. Use :func:`~optuna.trial.Trial.suggest_float` instead.\n",
            "  return trial.suggest_uniform(self.name, self.low, self.high)\n",
            "/usr/local/lib/python3.8/dist-packages/teddynote/models.py:33: FutureWarning: suggest_loguniform has been deprecated in v3.0.0. This feature will be removed in v6.0.0. See https://github.com/optuna/optuna/releases/tag/v3.0.0. Use :func:`~optuna.trial.Trial.suggest_float` instead.\n",
            "  return trial.suggest_loguniform(self.name, self.low, self.high)\n",
            "/usr/local/lib/python3.8/dist-packages/teddynote/models.py:35: FutureWarning: suggest_uniform has been deprecated in v3.0.0. This feature will be removed in v6.0.0. See https://github.com/optuna/optuna/releases/tag/v3.0.0. Use :func:`~optuna.trial.Trial.suggest_float` instead.\n",
            "  return trial.suggest_uniform(self.name, self.low, self.high)\n",
            "\u001b[32m[I 2022-12-29 10:28:24,044]\u001b[0m Trial 34 finished with value: 0.2671648515035883 and parameters: {'lambda': 1.2677809535034084, 'alpha': 0.52652031123074, 'colsample_bytree': 0.7553312122768716, 'subsample': 0.680827686809642, 'learning_rate': 0.007367124986862973, 'n_estimators': 3848, 'max_depth': 10, 'min_child_weight': 65}. Best is trial 15 with value: 0.9535849888250404.\u001b[0m\n"
          ]
        },
        {
          "output_type": "stream",
          "name": "stdout",
          "text": [
            "metric type: f1, score: 0.21368\n"
          ]
        },
        {
          "output_type": "stream",
          "name": "stderr",
          "text": [
            "/usr/local/lib/python3.8/dist-packages/teddynote/models.py:33: FutureWarning: suggest_loguniform has been deprecated in v3.0.0. This feature will be removed in v6.0.0. See https://github.com/optuna/optuna/releases/tag/v3.0.0. Use :func:`~optuna.trial.Trial.suggest_float` instead.\n",
            "  return trial.suggest_loguniform(self.name, self.low, self.high)\n",
            "/usr/local/lib/python3.8/dist-packages/teddynote/models.py:35: FutureWarning: suggest_uniform has been deprecated in v3.0.0. This feature will be removed in v6.0.0. See https://github.com/optuna/optuna/releases/tag/v3.0.0. Use :func:`~optuna.trial.Trial.suggest_float` instead.\n",
            "  return trial.suggest_uniform(self.name, self.low, self.high)\n"
          ]
        },
        {
          "output_type": "stream",
          "name": "stdout",
          "text": [
            "metric type: f1, score: 0.96226\n"
          ]
        },
        {
          "output_type": "stream",
          "name": "stderr",
          "text": [
            "/usr/local/lib/python3.8/dist-packages/teddynote/models.py:33: FutureWarning: suggest_loguniform has been deprecated in v3.0.0. This feature will be removed in v6.0.0. See https://github.com/optuna/optuna/releases/tag/v3.0.0. Use :func:`~optuna.trial.Trial.suggest_float` instead.\n",
            "  return trial.suggest_loguniform(self.name, self.low, self.high)\n",
            "/usr/local/lib/python3.8/dist-packages/teddynote/models.py:35: FutureWarning: suggest_uniform has been deprecated in v3.0.0. This feature will be removed in v6.0.0. See https://github.com/optuna/optuna/releases/tag/v3.0.0. Use :func:`~optuna.trial.Trial.suggest_float` instead.\n",
            "  return trial.suggest_uniform(self.name, self.low, self.high)\n"
          ]
        },
        {
          "output_type": "stream",
          "name": "stdout",
          "text": [
            "metric type: f1, score: 0.92453\n"
          ]
        },
        {
          "output_type": "stream",
          "name": "stderr",
          "text": [
            "/usr/local/lib/python3.8/dist-packages/teddynote/models.py:33: FutureWarning: suggest_loguniform has been deprecated in v3.0.0. This feature will be removed in v6.0.0. See https://github.com/optuna/optuna/releases/tag/v3.0.0. Use :func:`~optuna.trial.Trial.suggest_float` instead.\n",
            "  return trial.suggest_loguniform(self.name, self.low, self.high)\n",
            "/usr/local/lib/python3.8/dist-packages/teddynote/models.py:35: FutureWarning: suggest_uniform has been deprecated in v3.0.0. This feature will be removed in v6.0.0. See https://github.com/optuna/optuna/releases/tag/v3.0.0. Use :func:`~optuna.trial.Trial.suggest_float` instead.\n",
            "  return trial.suggest_uniform(self.name, self.low, self.high)\n"
          ]
        },
        {
          "output_type": "stream",
          "name": "stdout",
          "text": [
            "metric type: f1, score: 0.92308\n"
          ]
        },
        {
          "output_type": "stream",
          "name": "stderr",
          "text": [
            "/usr/local/lib/python3.8/dist-packages/teddynote/models.py:33: FutureWarning: suggest_loguniform has been deprecated in v3.0.0. This feature will be removed in v6.0.0. See https://github.com/optuna/optuna/releases/tag/v3.0.0. Use :func:`~optuna.trial.Trial.suggest_float` instead.\n",
            "  return trial.suggest_loguniform(self.name, self.low, self.high)\n",
            "/usr/local/lib/python3.8/dist-packages/teddynote/models.py:35: FutureWarning: suggest_uniform has been deprecated in v3.0.0. This feature will be removed in v6.0.0. See https://github.com/optuna/optuna/releases/tag/v3.0.0. Use :func:`~optuna.trial.Trial.suggest_float` instead.\n",
            "  return trial.suggest_uniform(self.name, self.low, self.high)\n"
          ]
        },
        {
          "output_type": "stream",
          "name": "stdout",
          "text": [
            "metric type: f1, score: 0.96058\n"
          ]
        },
        {
          "output_type": "stream",
          "name": "stderr",
          "text": [
            "/usr/local/lib/python3.8/dist-packages/teddynote/models.py:33: FutureWarning: suggest_loguniform has been deprecated in v3.0.0. This feature will be removed in v6.0.0. See https://github.com/optuna/optuna/releases/tag/v3.0.0. Use :func:`~optuna.trial.Trial.suggest_float` instead.\n",
            "  return trial.suggest_loguniform(self.name, self.low, self.high)\n",
            "/usr/local/lib/python3.8/dist-packages/teddynote/models.py:35: FutureWarning: suggest_uniform has been deprecated in v3.0.0. This feature will be removed in v6.0.0. See https://github.com/optuna/optuna/releases/tag/v3.0.0. Use :func:`~optuna.trial.Trial.suggest_float` instead.\n",
            "  return trial.suggest_uniform(self.name, self.low, self.high)\n",
            "\u001b[32m[I 2022-12-29 10:28:25,191]\u001b[0m Trial 35 finished with value: 0.9463053770129243 and parameters: {'lambda': 0.043998973327435915, 'alpha': 0.13064900704946983, 'colsample_bytree': 0.6493599246030932, 'subsample': 0.8211465448743059, 'learning_rate': 0.0003479179183890127, 'n_estimators': 3847, 'max_depth': 14, 'min_child_weight': 3}. Best is trial 15 with value: 0.9535849888250404.\u001b[0m\n"
          ]
        },
        {
          "output_type": "stream",
          "name": "stdout",
          "text": [
            "metric type: f1, score: 0.96108\n"
          ]
        },
        {
          "output_type": "stream",
          "name": "stderr",
          "text": [
            "/usr/local/lib/python3.8/dist-packages/teddynote/models.py:33: FutureWarning: suggest_loguniform has been deprecated in v3.0.0. This feature will be removed in v6.0.0. See https://github.com/optuna/optuna/releases/tag/v3.0.0. Use :func:`~optuna.trial.Trial.suggest_float` instead.\n",
            "  return trial.suggest_loguniform(self.name, self.low, self.high)\n",
            "/usr/local/lib/python3.8/dist-packages/teddynote/models.py:35: FutureWarning: suggest_uniform has been deprecated in v3.0.0. This feature will be removed in v6.0.0. See https://github.com/optuna/optuna/releases/tag/v3.0.0. Use :func:`~optuna.trial.Trial.suggest_float` instead.\n",
            "  return trial.suggest_uniform(self.name, self.low, self.high)\n"
          ]
        },
        {
          "output_type": "stream",
          "name": "stdout",
          "text": [
            "metric type: f1, score: 0.64472\n",
            "metric type: f1, score: 0.57621\n"
          ]
        },
        {
          "output_type": "stream",
          "name": "stderr",
          "text": [
            "/usr/local/lib/python3.8/dist-packages/teddynote/models.py:33: FutureWarning: suggest_loguniform has been deprecated in v3.0.0. This feature will be removed in v6.0.0. See https://github.com/optuna/optuna/releases/tag/v3.0.0. Use :func:`~optuna.trial.Trial.suggest_float` instead.\n",
            "  return trial.suggest_loguniform(self.name, self.low, self.high)\n",
            "/usr/local/lib/python3.8/dist-packages/teddynote/models.py:35: FutureWarning: suggest_uniform has been deprecated in v3.0.0. This feature will be removed in v6.0.0. See https://github.com/optuna/optuna/releases/tag/v3.0.0. Use :func:`~optuna.trial.Trial.suggest_float` instead.\n",
            "  return trial.suggest_uniform(self.name, self.low, self.high)\n",
            "/usr/local/lib/python3.8/dist-packages/teddynote/models.py:33: FutureWarning: suggest_loguniform has been deprecated in v3.0.0. This feature will be removed in v6.0.0. See https://github.com/optuna/optuna/releases/tag/v3.0.0. Use :func:`~optuna.trial.Trial.suggest_float` instead.\n",
            "  return trial.suggest_loguniform(self.name, self.low, self.high)\n",
            "/usr/local/lib/python3.8/dist-packages/teddynote/models.py:35: FutureWarning: suggest_uniform has been deprecated in v3.0.0. This feature will be removed in v6.0.0. See https://github.com/optuna/optuna/releases/tag/v3.0.0. Use :func:`~optuna.trial.Trial.suggest_float` instead.\n",
            "  return trial.suggest_uniform(self.name, self.low, self.high)\n"
          ]
        },
        {
          "output_type": "stream",
          "name": "stdout",
          "text": [
            "metric type: f1, score: 0.58654\n",
            "metric type: f1, score: 0.61031\n"
          ]
        },
        {
          "output_type": "stream",
          "name": "stderr",
          "text": [
            "/usr/local/lib/python3.8/dist-packages/teddynote/models.py:33: FutureWarning: suggest_loguniform has been deprecated in v3.0.0. This feature will be removed in v6.0.0. See https://github.com/optuna/optuna/releases/tag/v3.0.0. Use :func:`~optuna.trial.Trial.suggest_float` instead.\n",
            "  return trial.suggest_loguniform(self.name, self.low, self.high)\n",
            "/usr/local/lib/python3.8/dist-packages/teddynote/models.py:35: FutureWarning: suggest_uniform has been deprecated in v3.0.0. This feature will be removed in v6.0.0. See https://github.com/optuna/optuna/releases/tag/v3.0.0. Use :func:`~optuna.trial.Trial.suggest_float` instead.\n",
            "  return trial.suggest_uniform(self.name, self.low, self.high)\n",
            "/usr/local/lib/python3.8/dist-packages/teddynote/models.py:33: FutureWarning: suggest_loguniform has been deprecated in v3.0.0. This feature will be removed in v6.0.0. See https://github.com/optuna/optuna/releases/tag/v3.0.0. Use :func:`~optuna.trial.Trial.suggest_float` instead.\n",
            "  return trial.suggest_loguniform(self.name, self.low, self.high)\n",
            "/usr/local/lib/python3.8/dist-packages/teddynote/models.py:35: FutureWarning: suggest_uniform has been deprecated in v3.0.0. This feature will be removed in v6.0.0. See https://github.com/optuna/optuna/releases/tag/v3.0.0. Use :func:`~optuna.trial.Trial.suggest_float` instead.\n",
            "  return trial.suggest_uniform(self.name, self.low, self.high)\n",
            "\u001b[32m[I 2022-12-29 10:28:26,126]\u001b[0m Trial 36 finished with value: 0.6296414813552536 and parameters: {'lambda': 0.005878094216169175, 'alpha': 0.1216258503025097, 'colsample_bytree': 0.6429479488743117, 'subsample': 0.8735482898319223, 'learning_rate': 0.028158294531596018, 'n_estimators': 3851, 'max_depth': 16, 'min_child_weight': 39}. Best is trial 15 with value: 0.9535849888250404.\u001b[0m\n"
          ]
        },
        {
          "output_type": "stream",
          "name": "stdout",
          "text": [
            "metric type: f1, score: 0.73043\n"
          ]
        },
        {
          "output_type": "stream",
          "name": "stderr",
          "text": [
            "/usr/local/lib/python3.8/dist-packages/teddynote/models.py:33: FutureWarning: suggest_loguniform has been deprecated in v3.0.0. This feature will be removed in v6.0.0. See https://github.com/optuna/optuna/releases/tag/v3.0.0. Use :func:`~optuna.trial.Trial.suggest_float` instead.\n",
            "  return trial.suggest_loguniform(self.name, self.low, self.high)\n",
            "/usr/local/lib/python3.8/dist-packages/teddynote/models.py:35: FutureWarning: suggest_uniform has been deprecated in v3.0.0. This feature will be removed in v6.0.0. See https://github.com/optuna/optuna/releases/tag/v3.0.0. Use :func:`~optuna.trial.Trial.suggest_float` instead.\n",
            "  return trial.suggest_uniform(self.name, self.low, self.high)\n"
          ]
        },
        {
          "output_type": "stream",
          "name": "stdout",
          "text": [
            "metric type: f1, score: 0.22489\n",
            "metric type: f1, score: 0.30237\n"
          ]
        },
        {
          "output_type": "stream",
          "name": "stderr",
          "text": [
            "/usr/local/lib/python3.8/dist-packages/teddynote/models.py:33: FutureWarning: suggest_loguniform has been deprecated in v3.0.0. This feature will be removed in v6.0.0. See https://github.com/optuna/optuna/releases/tag/v3.0.0. Use :func:`~optuna.trial.Trial.suggest_float` instead.\n",
            "  return trial.suggest_loguniform(self.name, self.low, self.high)\n",
            "/usr/local/lib/python3.8/dist-packages/teddynote/models.py:35: FutureWarning: suggest_uniform has been deprecated in v3.0.0. This feature will be removed in v6.0.0. See https://github.com/optuna/optuna/releases/tag/v3.0.0. Use :func:`~optuna.trial.Trial.suggest_float` instead.\n",
            "  return trial.suggest_uniform(self.name, self.low, self.high)\n",
            "/usr/local/lib/python3.8/dist-packages/teddynote/models.py:33: FutureWarning: suggest_loguniform has been deprecated in v3.0.0. This feature will be removed in v6.0.0. See https://github.com/optuna/optuna/releases/tag/v3.0.0. Use :func:`~optuna.trial.Trial.suggest_float` instead.\n",
            "  return trial.suggest_loguniform(self.name, self.low, self.high)\n",
            "/usr/local/lib/python3.8/dist-packages/teddynote/models.py:35: FutureWarning: suggest_uniform has been deprecated in v3.0.0. This feature will be removed in v6.0.0. See https://github.com/optuna/optuna/releases/tag/v3.0.0. Use :func:`~optuna.trial.Trial.suggest_float` instead.\n",
            "  return trial.suggest_uniform(self.name, self.low, self.high)\n"
          ]
        },
        {
          "output_type": "stream",
          "name": "stdout",
          "text": [
            "metric type: f1, score: 0.19556\n",
            "metric type: f1, score: 0.39934\n"
          ]
        },
        {
          "output_type": "stream",
          "name": "stderr",
          "text": [
            "/usr/local/lib/python3.8/dist-packages/teddynote/models.py:33: FutureWarning: suggest_loguniform has been deprecated in v3.0.0. This feature will be removed in v6.0.0. See https://github.com/optuna/optuna/releases/tag/v3.0.0. Use :func:`~optuna.trial.Trial.suggest_float` instead.\n",
            "  return trial.suggest_loguniform(self.name, self.low, self.high)\n",
            "/usr/local/lib/python3.8/dist-packages/teddynote/models.py:35: FutureWarning: suggest_uniform has been deprecated in v3.0.0. This feature will be removed in v6.0.0. See https://github.com/optuna/optuna/releases/tag/v3.0.0. Use :func:`~optuna.trial.Trial.suggest_float` instead.\n",
            "  return trial.suggest_uniform(self.name, self.low, self.high)\n",
            "/usr/local/lib/python3.8/dist-packages/teddynote/models.py:33: FutureWarning: suggest_loguniform has been deprecated in v3.0.0. This feature will be removed in v6.0.0. See https://github.com/optuna/optuna/releases/tag/v3.0.0. Use :func:`~optuna.trial.Trial.suggest_float` instead.\n",
            "  return trial.suggest_loguniform(self.name, self.low, self.high)\n",
            "/usr/local/lib/python3.8/dist-packages/teddynote/models.py:35: FutureWarning: suggest_uniform has been deprecated in v3.0.0. This feature will be removed in v6.0.0. See https://github.com/optuna/optuna/releases/tag/v3.0.0. Use :func:`~optuna.trial.Trial.suggest_float` instead.\n",
            "  return trial.suggest_uniform(self.name, self.low, self.high)\n",
            "\u001b[32m[I 2022-12-29 10:28:27,041]\u001b[0m Trial 37 finished with value: 0.2671648515035883 and parameters: {'lambda': 0.06180408775905042, 'alpha': 1.9506061823587966, 'colsample_bytree': 0.6383927263904916, 'subsample': 0.8352721506592106, 'learning_rate': 0.0004878961784484211, 'n_estimators': 4708, 'max_depth': 7, 'min_child_weight': 80}. Best is trial 15 with value: 0.9535849888250404.\u001b[0m\n"
          ]
        },
        {
          "output_type": "stream",
          "name": "stdout",
          "text": [
            "metric type: f1, score: 0.21368\n",
            "metric type: f1, score: 0.22489\n"
          ]
        },
        {
          "output_type": "stream",
          "name": "stderr",
          "text": [
            "/usr/local/lib/python3.8/dist-packages/teddynote/models.py:33: FutureWarning: suggest_loguniform has been deprecated in v3.0.0. This feature will be removed in v6.0.0. See https://github.com/optuna/optuna/releases/tag/v3.0.0. Use :func:`~optuna.trial.Trial.suggest_float` instead.\n",
            "  return trial.suggest_loguniform(self.name, self.low, self.high)\n",
            "/usr/local/lib/python3.8/dist-packages/teddynote/models.py:35: FutureWarning: suggest_uniform has been deprecated in v3.0.0. This feature will be removed in v6.0.0. See https://github.com/optuna/optuna/releases/tag/v3.0.0. Use :func:`~optuna.trial.Trial.suggest_float` instead.\n",
            "  return trial.suggest_uniform(self.name, self.low, self.high)\n",
            "/usr/local/lib/python3.8/dist-packages/teddynote/models.py:33: FutureWarning: suggest_loguniform has been deprecated in v3.0.0. This feature will be removed in v6.0.0. See https://github.com/optuna/optuna/releases/tag/v3.0.0. Use :func:`~optuna.trial.Trial.suggest_float` instead.\n",
            "  return trial.suggest_loguniform(self.name, self.low, self.high)\n",
            "/usr/local/lib/python3.8/dist-packages/teddynote/models.py:35: FutureWarning: suggest_uniform has been deprecated in v3.0.0. This feature will be removed in v6.0.0. See https://github.com/optuna/optuna/releases/tag/v3.0.0. Use :func:`~optuna.trial.Trial.suggest_float` instead.\n",
            "  return trial.suggest_uniform(self.name, self.low, self.high)\n"
          ]
        },
        {
          "output_type": "stream",
          "name": "stdout",
          "text": [
            "metric type: f1, score: 0.30237\n",
            "metric type: f1, score: 0.19556\n"
          ]
        },
        {
          "output_type": "stream",
          "name": "stderr",
          "text": [
            "/usr/local/lib/python3.8/dist-packages/teddynote/models.py:33: FutureWarning: suggest_loguniform has been deprecated in v3.0.0. This feature will be removed in v6.0.0. See https://github.com/optuna/optuna/releases/tag/v3.0.0. Use :func:`~optuna.trial.Trial.suggest_float` instead.\n",
            "  return trial.suggest_loguniform(self.name, self.low, self.high)\n",
            "/usr/local/lib/python3.8/dist-packages/teddynote/models.py:35: FutureWarning: suggest_uniform has been deprecated in v3.0.0. This feature will be removed in v6.0.0. See https://github.com/optuna/optuna/releases/tag/v3.0.0. Use :func:`~optuna.trial.Trial.suggest_float` instead.\n",
            "  return trial.suggest_uniform(self.name, self.low, self.high)\n",
            "/usr/local/lib/python3.8/dist-packages/teddynote/models.py:33: FutureWarning: suggest_loguniform has been deprecated in v3.0.0. This feature will be removed in v6.0.0. See https://github.com/optuna/optuna/releases/tag/v3.0.0. Use :func:`~optuna.trial.Trial.suggest_float` instead.\n",
            "  return trial.suggest_loguniform(self.name, self.low, self.high)\n",
            "/usr/local/lib/python3.8/dist-packages/teddynote/models.py:35: FutureWarning: suggest_uniform has been deprecated in v3.0.0. This feature will be removed in v6.0.0. See https://github.com/optuna/optuna/releases/tag/v3.0.0. Use :func:`~optuna.trial.Trial.suggest_float` instead.\n",
            "  return trial.suggest_uniform(self.name, self.low, self.high)\n",
            "/usr/local/lib/python3.8/dist-packages/teddynote/models.py:33: FutureWarning: suggest_loguniform has been deprecated in v3.0.0. This feature will be removed in v6.0.0. See https://github.com/optuna/optuna/releases/tag/v3.0.0. Use :func:`~optuna.trial.Trial.suggest_float` instead.\n",
            "  return trial.suggest_loguniform(self.name, self.low, self.high)\n",
            "/usr/local/lib/python3.8/dist-packages/teddynote/models.py:35: FutureWarning: suggest_uniform has been deprecated in v3.0.0. This feature will be removed in v6.0.0. See https://github.com/optuna/optuna/releases/tag/v3.0.0. Use :func:`~optuna.trial.Trial.suggest_float` instead.\n",
            "  return trial.suggest_uniform(self.name, self.low, self.high)\n",
            "\u001b[32m[I 2022-12-29 10:28:27,936]\u001b[0m Trial 38 finished with value: 0.2671648515035883 and parameters: {'lambda': 0.0020887603665412586, 'alpha': 0.34655795660160216, 'colsample_bytree': 0.5617524395313571, 'subsample': 0.8105347147944556, 'learning_rate': 0.0014912620886178127, 'n_estimators': 2972, 'max_depth': 15, 'min_child_weight': 61}. Best is trial 15 with value: 0.9535849888250404.\u001b[0m\n"
          ]
        },
        {
          "output_type": "stream",
          "name": "stdout",
          "text": [
            "metric type: f1, score: 0.39934\n",
            "metric type: f1, score: 0.21368\n"
          ]
        },
        {
          "output_type": "stream",
          "name": "stderr",
          "text": [
            "/usr/local/lib/python3.8/dist-packages/teddynote/models.py:33: FutureWarning: suggest_loguniform has been deprecated in v3.0.0. This feature will be removed in v6.0.0. See https://github.com/optuna/optuna/releases/tag/v3.0.0. Use :func:`~optuna.trial.Trial.suggest_float` instead.\n",
            "  return trial.suggest_loguniform(self.name, self.low, self.high)\n",
            "/usr/local/lib/python3.8/dist-packages/teddynote/models.py:35: FutureWarning: suggest_uniform has been deprecated in v3.0.0. This feature will be removed in v6.0.0. See https://github.com/optuna/optuna/releases/tag/v3.0.0. Use :func:`~optuna.trial.Trial.suggest_float` instead.\n",
            "  return trial.suggest_uniform(self.name, self.low, self.high)\n"
          ]
        },
        {
          "output_type": "stream",
          "name": "stdout",
          "text": [
            "metric type: f1, score: 0.96226\n"
          ]
        },
        {
          "output_type": "stream",
          "name": "stderr",
          "text": [
            "/usr/local/lib/python3.8/dist-packages/teddynote/models.py:33: FutureWarning: suggest_loguniform has been deprecated in v3.0.0. This feature will be removed in v6.0.0. See https://github.com/optuna/optuna/releases/tag/v3.0.0. Use :func:`~optuna.trial.Trial.suggest_float` instead.\n",
            "  return trial.suggest_loguniform(self.name, self.low, self.high)\n",
            "/usr/local/lib/python3.8/dist-packages/teddynote/models.py:35: FutureWarning: suggest_uniform has been deprecated in v3.0.0. This feature will be removed in v6.0.0. See https://github.com/optuna/optuna/releases/tag/v3.0.0. Use :func:`~optuna.trial.Trial.suggest_float` instead.\n",
            "  return trial.suggest_uniform(self.name, self.low, self.high)\n"
          ]
        },
        {
          "output_type": "stream",
          "name": "stdout",
          "text": [
            "metric type: f1, score: 0.94358\n"
          ]
        },
        {
          "output_type": "stream",
          "name": "stderr",
          "text": [
            "/usr/local/lib/python3.8/dist-packages/teddynote/models.py:33: FutureWarning: suggest_loguniform has been deprecated in v3.0.0. This feature will be removed in v6.0.0. See https://github.com/optuna/optuna/releases/tag/v3.0.0. Use :func:`~optuna.trial.Trial.suggest_float` instead.\n",
            "  return trial.suggest_loguniform(self.name, self.low, self.high)\n",
            "/usr/local/lib/python3.8/dist-packages/teddynote/models.py:35: FutureWarning: suggest_uniform has been deprecated in v3.0.0. This feature will be removed in v6.0.0. See https://github.com/optuna/optuna/releases/tag/v3.0.0. Use :func:`~optuna.trial.Trial.suggest_float` instead.\n",
            "  return trial.suggest_uniform(self.name, self.low, self.high)\n"
          ]
        },
        {
          "output_type": "stream",
          "name": "stdout",
          "text": [
            "metric type: f1, score: 0.92308\n"
          ]
        },
        {
          "output_type": "stream",
          "name": "stderr",
          "text": [
            "/usr/local/lib/python3.8/dist-packages/teddynote/models.py:33: FutureWarning: suggest_loguniform has been deprecated in v3.0.0. This feature will be removed in v6.0.0. See https://github.com/optuna/optuna/releases/tag/v3.0.0. Use :func:`~optuna.trial.Trial.suggest_float` instead.\n",
            "  return trial.suggest_loguniform(self.name, self.low, self.high)\n",
            "/usr/local/lib/python3.8/dist-packages/teddynote/models.py:35: FutureWarning: suggest_uniform has been deprecated in v3.0.0. This feature will be removed in v6.0.0. See https://github.com/optuna/optuna/releases/tag/v3.0.0. Use :func:`~optuna.trial.Trial.suggest_float` instead.\n",
            "  return trial.suggest_uniform(self.name, self.low, self.high)\n"
          ]
        },
        {
          "output_type": "stream",
          "name": "stdout",
          "text": [
            "metric type: f1, score: 0.98055\n"
          ]
        },
        {
          "output_type": "stream",
          "name": "stderr",
          "text": [
            "/usr/local/lib/python3.8/dist-packages/teddynote/models.py:33: FutureWarning: suggest_loguniform has been deprecated in v3.0.0. This feature will be removed in v6.0.0. See https://github.com/optuna/optuna/releases/tag/v3.0.0. Use :func:`~optuna.trial.Trial.suggest_float` instead.\n",
            "  return trial.suggest_loguniform(self.name, self.low, self.high)\n",
            "/usr/local/lib/python3.8/dist-packages/teddynote/models.py:35: FutureWarning: suggest_uniform has been deprecated in v3.0.0. This feature will be removed in v6.0.0. See https://github.com/optuna/optuna/releases/tag/v3.0.0. Use :func:`~optuna.trial.Trial.suggest_float` instead.\n",
            "  return trial.suggest_uniform(self.name, self.low, self.high)\n",
            "\u001b[32m[I 2022-12-29 10:28:29,146]\u001b[0m Trial 39 finished with value: 0.9501174602474863 and parameters: {'lambda': 0.0006314502489880538, 'alpha': 0.02241420975975465, 'colsample_bytree': 0.7014268096349212, 'subsample': 0.7691813825864835, 'learning_rate': 0.0023669982712902857, 'n_estimators': 3652, 'max_depth': 11, 'min_child_weight': 2}. Best is trial 15 with value: 0.9535849888250404.\u001b[0m\n"
          ]
        },
        {
          "output_type": "stream",
          "name": "stdout",
          "text": [
            "metric type: f1, score: 0.94112\n"
          ]
        },
        {
          "output_type": "stream",
          "name": "stderr",
          "text": [
            "/usr/local/lib/python3.8/dist-packages/teddynote/models.py:33: FutureWarning: suggest_loguniform has been deprecated in v3.0.0. This feature will be removed in v6.0.0. See https://github.com/optuna/optuna/releases/tag/v3.0.0. Use :func:`~optuna.trial.Trial.suggest_float` instead.\n",
            "  return trial.suggest_loguniform(self.name, self.low, self.high)\n",
            "/usr/local/lib/python3.8/dist-packages/teddynote/models.py:35: FutureWarning: suggest_uniform has been deprecated in v3.0.0. This feature will be removed in v6.0.0. See https://github.com/optuna/optuna/releases/tag/v3.0.0. Use :func:`~optuna.trial.Trial.suggest_float` instead.\n",
            "  return trial.suggest_uniform(self.name, self.low, self.high)\n"
          ]
        },
        {
          "output_type": "stream",
          "name": "stdout",
          "text": [
            "metric type: f1, score: 0.98119\n"
          ]
        },
        {
          "output_type": "stream",
          "name": "stderr",
          "text": [
            "/usr/local/lib/python3.8/dist-packages/teddynote/models.py:33: FutureWarning: suggest_loguniform has been deprecated in v3.0.0. This feature will be removed in v6.0.0. See https://github.com/optuna/optuna/releases/tag/v3.0.0. Use :func:`~optuna.trial.Trial.suggest_float` instead.\n",
            "  return trial.suggest_loguniform(self.name, self.low, self.high)\n",
            "/usr/local/lib/python3.8/dist-packages/teddynote/models.py:35: FutureWarning: suggest_uniform has been deprecated in v3.0.0. This feature will be removed in v6.0.0. See https://github.com/optuna/optuna/releases/tag/v3.0.0. Use :func:`~optuna.trial.Trial.suggest_float` instead.\n",
            "  return trial.suggest_uniform(self.name, self.low, self.high)\n"
          ]
        },
        {
          "output_type": "stream",
          "name": "stdout",
          "text": [
            "metric type: f1, score: 0.92453\n"
          ]
        },
        {
          "output_type": "stream",
          "name": "stderr",
          "text": [
            "/usr/local/lib/python3.8/dist-packages/teddynote/models.py:33: FutureWarning: suggest_loguniform has been deprecated in v3.0.0. This feature will be removed in v6.0.0. See https://github.com/optuna/optuna/releases/tag/v3.0.0. Use :func:`~optuna.trial.Trial.suggest_float` instead.\n",
            "  return trial.suggest_loguniform(self.name, self.low, self.high)\n",
            "/usr/local/lib/python3.8/dist-packages/teddynote/models.py:35: FutureWarning: suggest_uniform has been deprecated in v3.0.0. This feature will be removed in v6.0.0. See https://github.com/optuna/optuna/releases/tag/v3.0.0. Use :func:`~optuna.trial.Trial.suggest_float` instead.\n",
            "  return trial.suggest_uniform(self.name, self.low, self.high)\n"
          ]
        },
        {
          "output_type": "stream",
          "name": "stdout",
          "text": [
            "metric type: f1, score: 0.94235\n"
          ]
        },
        {
          "output_type": "stream",
          "name": "stderr",
          "text": [
            "/usr/local/lib/python3.8/dist-packages/teddynote/models.py:33: FutureWarning: suggest_loguniform has been deprecated in v3.0.0. This feature will be removed in v6.0.0. See https://github.com/optuna/optuna/releases/tag/v3.0.0. Use :func:`~optuna.trial.Trial.suggest_float` instead.\n",
            "  return trial.suggest_loguniform(self.name, self.low, self.high)\n",
            "/usr/local/lib/python3.8/dist-packages/teddynote/models.py:35: FutureWarning: suggest_uniform has been deprecated in v3.0.0. This feature will be removed in v6.0.0. See https://github.com/optuna/optuna/releases/tag/v3.0.0. Use :func:`~optuna.trial.Trial.suggest_float` instead.\n",
            "  return trial.suggest_uniform(self.name, self.low, self.high)\n"
          ]
        },
        {
          "output_type": "stream",
          "name": "stdout",
          "text": [
            "metric type: f1, score: 0.93996\n"
          ]
        },
        {
          "output_type": "stream",
          "name": "stderr",
          "text": [
            "/usr/local/lib/python3.8/dist-packages/teddynote/models.py:33: FutureWarning: suggest_loguniform has been deprecated in v3.0.0. This feature will be removed in v6.0.0. See https://github.com/optuna/optuna/releases/tag/v3.0.0. Use :func:`~optuna.trial.Trial.suggest_float` instead.\n",
            "  return trial.suggest_loguniform(self.name, self.low, self.high)\n",
            "/usr/local/lib/python3.8/dist-packages/teddynote/models.py:35: FutureWarning: suggest_uniform has been deprecated in v3.0.0. This feature will be removed in v6.0.0. See https://github.com/optuna/optuna/releases/tag/v3.0.0. Use :func:`~optuna.trial.Trial.suggest_float` instead.\n",
            "  return trial.suggest_uniform(self.name, self.low, self.high)\n",
            "\u001b[32m[I 2022-12-29 10:28:30,382]\u001b[0m Trial 40 finished with value: 0.9498225601201359 and parameters: {'lambda': 6.086535233249876e-05, 'alpha': 0.028983609659428682, 'colsample_bytree': 0.6575351272204784, 'subsample': 0.8697320444435214, 'learning_rate': 0.012127884540059041, 'n_estimators': 3661, 'max_depth': 9, 'min_child_weight': 1}. Best is trial 15 with value: 0.9535849888250404.\u001b[0m\n"
          ]
        },
        {
          "output_type": "stream",
          "name": "stdout",
          "text": [
            "metric type: f1, score: 0.96108\n"
          ]
        },
        {
          "output_type": "stream",
          "name": "stderr",
          "text": [
            "/usr/local/lib/python3.8/dist-packages/teddynote/models.py:33: FutureWarning: suggest_loguniform has been deprecated in v3.0.0. This feature will be removed in v6.0.0. See https://github.com/optuna/optuna/releases/tag/v3.0.0. Use :func:`~optuna.trial.Trial.suggest_float` instead.\n",
            "  return trial.suggest_loguniform(self.name, self.low, self.high)\n",
            "/usr/local/lib/python3.8/dist-packages/teddynote/models.py:35: FutureWarning: suggest_uniform has been deprecated in v3.0.0. This feature will be removed in v6.0.0. See https://github.com/optuna/optuna/releases/tag/v3.0.0. Use :func:`~optuna.trial.Trial.suggest_float` instead.\n",
            "  return trial.suggest_uniform(self.name, self.low, self.high)\n"
          ]
        },
        {
          "output_type": "stream",
          "name": "stdout",
          "text": [
            "metric type: f1, score: 0.96186\n",
            "metric type: f1, score: 0.92453\n"
          ]
        },
        {
          "output_type": "stream",
          "name": "stderr",
          "text": [
            "/usr/local/lib/python3.8/dist-packages/teddynote/models.py:33: FutureWarning: suggest_loguniform has been deprecated in v3.0.0. This feature will be removed in v6.0.0. See https://github.com/optuna/optuna/releases/tag/v3.0.0. Use :func:`~optuna.trial.Trial.suggest_float` instead.\n",
            "  return trial.suggest_loguniform(self.name, self.low, self.high)\n",
            "/usr/local/lib/python3.8/dist-packages/teddynote/models.py:35: FutureWarning: suggest_uniform has been deprecated in v3.0.0. This feature will be removed in v6.0.0. See https://github.com/optuna/optuna/releases/tag/v3.0.0. Use :func:`~optuna.trial.Trial.suggest_float` instead.\n",
            "  return trial.suggest_uniform(self.name, self.low, self.high)\n",
            "/usr/local/lib/python3.8/dist-packages/teddynote/models.py:33: FutureWarning: suggest_loguniform has been deprecated in v3.0.0. This feature will be removed in v6.0.0. See https://github.com/optuna/optuna/releases/tag/v3.0.0. Use :func:`~optuna.trial.Trial.suggest_float` instead.\n",
            "  return trial.suggest_loguniform(self.name, self.low, self.high)\n",
            "/usr/local/lib/python3.8/dist-packages/teddynote/models.py:35: FutureWarning: suggest_uniform has been deprecated in v3.0.0. This feature will be removed in v6.0.0. See https://github.com/optuna/optuna/releases/tag/v3.0.0. Use :func:`~optuna.trial.Trial.suggest_float` instead.\n",
            "  return trial.suggest_uniform(self.name, self.low, self.high)\n"
          ]
        },
        {
          "output_type": "stream",
          "name": "stdout",
          "text": [
            "metric type: f1, score: 0.88462\n",
            "metric type: f1, score: 0.94164\n"
          ]
        },
        {
          "output_type": "stream",
          "name": "stderr",
          "text": [
            "/usr/local/lib/python3.8/dist-packages/teddynote/models.py:33: FutureWarning: suggest_loguniform has been deprecated in v3.0.0. This feature will be removed in v6.0.0. See https://github.com/optuna/optuna/releases/tag/v3.0.0. Use :func:`~optuna.trial.Trial.suggest_float` instead.\n",
            "  return trial.suggest_loguniform(self.name, self.low, self.high)\n",
            "/usr/local/lib/python3.8/dist-packages/teddynote/models.py:35: FutureWarning: suggest_uniform has been deprecated in v3.0.0. This feature will be removed in v6.0.0. See https://github.com/optuna/optuna/releases/tag/v3.0.0. Use :func:`~optuna.trial.Trial.suggest_float` instead.\n",
            "  return trial.suggest_uniform(self.name, self.low, self.high)\n",
            "/usr/local/lib/python3.8/dist-packages/teddynote/models.py:33: FutureWarning: suggest_loguniform has been deprecated in v3.0.0. This feature will be removed in v6.0.0. See https://github.com/optuna/optuna/releases/tag/v3.0.0. Use :func:`~optuna.trial.Trial.suggest_float` instead.\n",
            "  return trial.suggest_loguniform(self.name, self.low, self.high)\n",
            "/usr/local/lib/python3.8/dist-packages/teddynote/models.py:35: FutureWarning: suggest_uniform has been deprecated in v3.0.0. This feature will be removed in v6.0.0. See https://github.com/optuna/optuna/releases/tag/v3.0.0. Use :func:`~optuna.trial.Trial.suggest_float` instead.\n",
            "  return trial.suggest_uniform(self.name, self.low, self.high)\n",
            "\u001b[32m[I 2022-12-29 10:28:31,369]\u001b[0m Trial 41 finished with value: 0.9347461917679378 and parameters: {'lambda': 6.95000512473466e-05, 'alpha': 0.03530636086534194, 'colsample_bytree': 0.6603685026427903, 'subsample': 0.8654656274486181, 'learning_rate': 0.01573845656243976, 'n_estimators': 4018, 'max_depth': 9, 'min_child_weight': 22}. Best is trial 15 with value: 0.9535849888250404.\u001b[0m\n"
          ]
        },
        {
          "output_type": "stream",
          "name": "stdout",
          "text": [
            "metric type: f1, score: 0.96108\n"
          ]
        },
        {
          "output_type": "stream",
          "name": "stderr",
          "text": [
            "/usr/local/lib/python3.8/dist-packages/teddynote/models.py:33: FutureWarning: suggest_loguniform has been deprecated in v3.0.0. This feature will be removed in v6.0.0. See https://github.com/optuna/optuna/releases/tag/v3.0.0. Use :func:`~optuna.trial.Trial.suggest_float` instead.\n",
            "  return trial.suggest_loguniform(self.name, self.low, self.high)\n",
            "/usr/local/lib/python3.8/dist-packages/teddynote/models.py:35: FutureWarning: suggest_uniform has been deprecated in v3.0.0. This feature will be removed in v6.0.0. See https://github.com/optuna/optuna/releases/tag/v3.0.0. Use :func:`~optuna.trial.Trial.suggest_float` instead.\n",
            "  return trial.suggest_uniform(self.name, self.low, self.high)\n"
          ]
        },
        {
          "output_type": "stream",
          "name": "stdout",
          "text": [
            "metric type: f1, score: 0.22489\n",
            "metric type: f1, score: 0.30237\n"
          ]
        },
        {
          "output_type": "stream",
          "name": "stderr",
          "text": [
            "/usr/local/lib/python3.8/dist-packages/teddynote/models.py:33: FutureWarning: suggest_loguniform has been deprecated in v3.0.0. This feature will be removed in v6.0.0. See https://github.com/optuna/optuna/releases/tag/v3.0.0. Use :func:`~optuna.trial.Trial.suggest_float` instead.\n",
            "  return trial.suggest_loguniform(self.name, self.low, self.high)\n",
            "/usr/local/lib/python3.8/dist-packages/teddynote/models.py:35: FutureWarning: suggest_uniform has been deprecated in v3.0.0. This feature will be removed in v6.0.0. See https://github.com/optuna/optuna/releases/tag/v3.0.0. Use :func:`~optuna.trial.Trial.suggest_float` instead.\n",
            "  return trial.suggest_uniform(self.name, self.low, self.high)\n",
            "/usr/local/lib/python3.8/dist-packages/teddynote/models.py:33: FutureWarning: suggest_loguniform has been deprecated in v3.0.0. This feature will be removed in v6.0.0. See https://github.com/optuna/optuna/releases/tag/v3.0.0. Use :func:`~optuna.trial.Trial.suggest_float` instead.\n",
            "  return trial.suggest_loguniform(self.name, self.low, self.high)\n",
            "/usr/local/lib/python3.8/dist-packages/teddynote/models.py:35: FutureWarning: suggest_uniform has been deprecated in v3.0.0. This feature will be removed in v6.0.0. See https://github.com/optuna/optuna/releases/tag/v3.0.0. Use :func:`~optuna.trial.Trial.suggest_float` instead.\n",
            "  return trial.suggest_uniform(self.name, self.low, self.high)\n"
          ]
        },
        {
          "output_type": "stream",
          "name": "stdout",
          "text": [
            "metric type: f1, score: 0.19556\n",
            "metric type: f1, score: 0.39934\n"
          ]
        },
        {
          "output_type": "stream",
          "name": "stderr",
          "text": [
            "/usr/local/lib/python3.8/dist-packages/teddynote/models.py:33: FutureWarning: suggest_loguniform has been deprecated in v3.0.0. This feature will be removed in v6.0.0. See https://github.com/optuna/optuna/releases/tag/v3.0.0. Use :func:`~optuna.trial.Trial.suggest_float` instead.\n",
            "  return trial.suggest_loguniform(self.name, self.low, self.high)\n",
            "/usr/local/lib/python3.8/dist-packages/teddynote/models.py:35: FutureWarning: suggest_uniform has been deprecated in v3.0.0. This feature will be removed in v6.0.0. See https://github.com/optuna/optuna/releases/tag/v3.0.0. Use :func:`~optuna.trial.Trial.suggest_float` instead.\n",
            "  return trial.suggest_uniform(self.name, self.low, self.high)\n",
            "/usr/local/lib/python3.8/dist-packages/teddynote/models.py:33: FutureWarning: suggest_loguniform has been deprecated in v3.0.0. This feature will be removed in v6.0.0. See https://github.com/optuna/optuna/releases/tag/v3.0.0. Use :func:`~optuna.trial.Trial.suggest_float` instead.\n",
            "  return trial.suggest_loguniform(self.name, self.low, self.high)\n",
            "/usr/local/lib/python3.8/dist-packages/teddynote/models.py:35: FutureWarning: suggest_uniform has been deprecated in v3.0.0. This feature will be removed in v6.0.0. See https://github.com/optuna/optuna/releases/tag/v3.0.0. Use :func:`~optuna.trial.Trial.suggest_float` instead.\n",
            "  return trial.suggest_uniform(self.name, self.low, self.high)\n",
            "\u001b[32m[I 2022-12-29 10:28:32,289]\u001b[0m Trial 42 finished with value: 0.2671648515035883 and parameters: {'lambda': 4.249678261701946e-05, 'alpha': 0.1639744346785094, 'colsample_bytree': 0.7055644712938693, 'subsample': 0.8334888486434322, 'learning_rate': 0.002624039449522455, 'n_estimators': 3552, 'max_depth': 11, 'min_child_weight': 41}. Best is trial 15 with value: 0.9535849888250404.\u001b[0m\n"
          ]
        },
        {
          "output_type": "stream",
          "name": "stdout",
          "text": [
            "metric type: f1, score: 0.21368\n"
          ]
        },
        {
          "output_type": "stream",
          "name": "stderr",
          "text": [
            "/usr/local/lib/python3.8/dist-packages/teddynote/models.py:33: FutureWarning: suggest_loguniform has been deprecated in v3.0.0. This feature will be removed in v6.0.0. See https://github.com/optuna/optuna/releases/tag/v3.0.0. Use :func:`~optuna.trial.Trial.suggest_float` instead.\n",
            "  return trial.suggest_loguniform(self.name, self.low, self.high)\n",
            "/usr/local/lib/python3.8/dist-packages/teddynote/models.py:35: FutureWarning: suggest_uniform has been deprecated in v3.0.0. This feature will be removed in v6.0.0. See https://github.com/optuna/optuna/releases/tag/v3.0.0. Use :func:`~optuna.trial.Trial.suggest_float` instead.\n",
            "  return trial.suggest_uniform(self.name, self.low, self.high)\n"
          ]
        },
        {
          "output_type": "stream",
          "name": "stdout",
          "text": [
            "metric type: f1, score: 0.98119\n"
          ]
        },
        {
          "output_type": "stream",
          "name": "stderr",
          "text": [
            "/usr/local/lib/python3.8/dist-packages/teddynote/models.py:33: FutureWarning: suggest_loguniform has been deprecated in v3.0.0. This feature will be removed in v6.0.0. See https://github.com/optuna/optuna/releases/tag/v3.0.0. Use :func:`~optuna.trial.Trial.suggest_float` instead.\n",
            "  return trial.suggest_loguniform(self.name, self.low, self.high)\n",
            "/usr/local/lib/python3.8/dist-packages/teddynote/models.py:35: FutureWarning: suggest_uniform has been deprecated in v3.0.0. This feature will be removed in v6.0.0. See https://github.com/optuna/optuna/releases/tag/v3.0.0. Use :func:`~optuna.trial.Trial.suggest_float` instead.\n",
            "  return trial.suggest_uniform(self.name, self.low, self.high)\n"
          ]
        },
        {
          "output_type": "stream",
          "name": "stdout",
          "text": [
            "metric type: f1, score: 0.94358\n"
          ]
        },
        {
          "output_type": "stream",
          "name": "stderr",
          "text": [
            "/usr/local/lib/python3.8/dist-packages/teddynote/models.py:33: FutureWarning: suggest_loguniform has been deprecated in v3.0.0. This feature will be removed in v6.0.0. See https://github.com/optuna/optuna/releases/tag/v3.0.0. Use :func:`~optuna.trial.Trial.suggest_float` instead.\n",
            "  return trial.suggest_loguniform(self.name, self.low, self.high)\n",
            "/usr/local/lib/python3.8/dist-packages/teddynote/models.py:35: FutureWarning: suggest_uniform has been deprecated in v3.0.0. This feature will be removed in v6.0.0. See https://github.com/optuna/optuna/releases/tag/v3.0.0. Use :func:`~optuna.trial.Trial.suggest_float` instead.\n",
            "  return trial.suggest_uniform(self.name, self.low, self.high)\n"
          ]
        },
        {
          "output_type": "stream",
          "name": "stdout",
          "text": [
            "metric type: f1, score: 0.92308\n"
          ]
        },
        {
          "output_type": "stream",
          "name": "stderr",
          "text": [
            "/usr/local/lib/python3.8/dist-packages/teddynote/models.py:33: FutureWarning: suggest_loguniform has been deprecated in v3.0.0. This feature will be removed in v6.0.0. See https://github.com/optuna/optuna/releases/tag/v3.0.0. Use :func:`~optuna.trial.Trial.suggest_float` instead.\n",
            "  return trial.suggest_loguniform(self.name, self.low, self.high)\n",
            "/usr/local/lib/python3.8/dist-packages/teddynote/models.py:35: FutureWarning: suggest_uniform has been deprecated in v3.0.0. This feature will be removed in v6.0.0. See https://github.com/optuna/optuna/releases/tag/v3.0.0. Use :func:`~optuna.trial.Trial.suggest_float` instead.\n",
            "  return trial.suggest_uniform(self.name, self.low, self.high)\n"
          ]
        },
        {
          "output_type": "stream",
          "name": "stdout",
          "text": [
            "metric type: f1, score: 0.93996\n"
          ]
        },
        {
          "output_type": "stream",
          "name": "stderr",
          "text": [
            "/usr/local/lib/python3.8/dist-packages/teddynote/models.py:33: FutureWarning: suggest_loguniform has been deprecated in v3.0.0. This feature will be removed in v6.0.0. See https://github.com/optuna/optuna/releases/tag/v3.0.0. Use :func:`~optuna.trial.Trial.suggest_float` instead.\n",
            "  return trial.suggest_loguniform(self.name, self.low, self.high)\n",
            "/usr/local/lib/python3.8/dist-packages/teddynote/models.py:35: FutureWarning: suggest_uniform has been deprecated in v3.0.0. This feature will be removed in v6.0.0. See https://github.com/optuna/optuna/releases/tag/v3.0.0. Use :func:`~optuna.trial.Trial.suggest_float` instead.\n",
            "  return trial.suggest_uniform(self.name, self.low, self.high)\n",
            "\u001b[32m[I 2022-12-29 10:28:33,467]\u001b[0m Trial 43 finished with value: 0.9457854465139757 and parameters: {'lambda': 0.0003542964090088019, 'alpha': 0.018952379762987272, 'colsample_bytree': 0.6268642596293635, 'subsample': 0.8816221281189807, 'learning_rate': 0.007863573384172467, 'n_estimators': 3616, 'max_depth': 6, 'min_child_weight': 2}. Best is trial 15 with value: 0.9535849888250404.\u001b[0m\n"
          ]
        },
        {
          "output_type": "stream",
          "name": "stdout",
          "text": [
            "metric type: f1, score: 0.94112\n"
          ]
        },
        {
          "output_type": "stream",
          "name": "stderr",
          "text": [
            "/usr/local/lib/python3.8/dist-packages/teddynote/models.py:33: FutureWarning: suggest_loguniform has been deprecated in v3.0.0. This feature will be removed in v6.0.0. See https://github.com/optuna/optuna/releases/tag/v3.0.0. Use :func:`~optuna.trial.Trial.suggest_float` instead.\n",
            "  return trial.suggest_loguniform(self.name, self.low, self.high)\n",
            "/usr/local/lib/python3.8/dist-packages/teddynote/models.py:35: FutureWarning: suggest_uniform has been deprecated in v3.0.0. This feature will be removed in v6.0.0. See https://github.com/optuna/optuna/releases/tag/v3.0.0. Use :func:`~optuna.trial.Trial.suggest_float` instead.\n",
            "  return trial.suggest_uniform(self.name, self.low, self.high)\n"
          ]
        },
        {
          "output_type": "stream",
          "name": "stdout",
          "text": [
            "metric type: f1, score: 0.94236\n",
            "metric type: f1, score: 0.88741\n"
          ]
        },
        {
          "output_type": "stream",
          "name": "stderr",
          "text": [
            "/usr/local/lib/python3.8/dist-packages/teddynote/models.py:33: FutureWarning: suggest_loguniform has been deprecated in v3.0.0. This feature will be removed in v6.0.0. See https://github.com/optuna/optuna/releases/tag/v3.0.0. Use :func:`~optuna.trial.Trial.suggest_float` instead.\n",
            "  return trial.suggest_loguniform(self.name, self.low, self.high)\n",
            "/usr/local/lib/python3.8/dist-packages/teddynote/models.py:35: FutureWarning: suggest_uniform has been deprecated in v3.0.0. This feature will be removed in v6.0.0. See https://github.com/optuna/optuna/releases/tag/v3.0.0. Use :func:`~optuna.trial.Trial.suggest_float` instead.\n",
            "  return trial.suggest_uniform(self.name, self.low, self.high)\n",
            "/usr/local/lib/python3.8/dist-packages/teddynote/models.py:33: FutureWarning: suggest_loguniform has been deprecated in v3.0.0. This feature will be removed in v6.0.0. See https://github.com/optuna/optuna/releases/tag/v3.0.0. Use :func:`~optuna.trial.Trial.suggest_float` instead.\n",
            "  return trial.suggest_loguniform(self.name, self.low, self.high)\n",
            "/usr/local/lib/python3.8/dist-packages/teddynote/models.py:35: FutureWarning: suggest_uniform has been deprecated in v3.0.0. This feature will be removed in v6.0.0. See https://github.com/optuna/optuna/releases/tag/v3.0.0. Use :func:`~optuna.trial.Trial.suggest_float` instead.\n",
            "  return trial.suggest_uniform(self.name, self.low, self.high)\n"
          ]
        },
        {
          "output_type": "stream",
          "name": "stdout",
          "text": [
            "metric type: f1, score: 0.90362\n",
            "metric type: f1, score: 0.87785\n"
          ]
        },
        {
          "output_type": "stream",
          "name": "stderr",
          "text": [
            "/usr/local/lib/python3.8/dist-packages/teddynote/models.py:33: FutureWarning: suggest_loguniform has been deprecated in v3.0.0. This feature will be removed in v6.0.0. See https://github.com/optuna/optuna/releases/tag/v3.0.0. Use :func:`~optuna.trial.Trial.suggest_float` instead.\n",
            "  return trial.suggest_loguniform(self.name, self.low, self.high)\n",
            "/usr/local/lib/python3.8/dist-packages/teddynote/models.py:35: FutureWarning: suggest_uniform has been deprecated in v3.0.0. This feature will be removed in v6.0.0. See https://github.com/optuna/optuna/releases/tag/v3.0.0. Use :func:`~optuna.trial.Trial.suggest_float` instead.\n",
            "  return trial.suggest_uniform(self.name, self.low, self.high)\n",
            "/usr/local/lib/python3.8/dist-packages/teddynote/models.py:33: FutureWarning: suggest_loguniform has been deprecated in v3.0.0. This feature will be removed in v6.0.0. See https://github.com/optuna/optuna/releases/tag/v3.0.0. Use :func:`~optuna.trial.Trial.suggest_float` instead.\n",
            "  return trial.suggest_loguniform(self.name, self.low, self.high)\n",
            "/usr/local/lib/python3.8/dist-packages/teddynote/models.py:35: FutureWarning: suggest_uniform has been deprecated in v3.0.0. This feature will be removed in v6.0.0. See https://github.com/optuna/optuna/releases/tag/v3.0.0. Use :func:`~optuna.trial.Trial.suggest_float` instead.\n",
            "  return trial.suggest_uniform(self.name, self.low, self.high)\n",
            "\u001b[32m[I 2022-12-29 10:28:34,430]\u001b[0m Trial 44 finished with value: 0.9104706819363168 and parameters: {'lambda': 2.2924057564910357e-05, 'alpha': 0.41448280011509775, 'colsample_bytree': 0.6652286172324046, 'subsample': 0.7938200151293267, 'learning_rate': 0.06746911263558249, 'n_estimators': 3103, 'max_depth': 8, 'min_child_weight': 20}. Best is trial 15 with value: 0.9535849888250404.\u001b[0m\n"
          ]
        },
        {
          "output_type": "stream",
          "name": "stdout",
          "text": [
            "metric type: f1, score: 0.94112\n"
          ]
        },
        {
          "output_type": "stream",
          "name": "stderr",
          "text": [
            "/usr/local/lib/python3.8/dist-packages/teddynote/models.py:33: FutureWarning: suggest_loguniform has been deprecated in v3.0.0. This feature will be removed in v6.0.0. See https://github.com/optuna/optuna/releases/tag/v3.0.0. Use :func:`~optuna.trial.Trial.suggest_float` instead.\n",
            "  return trial.suggest_loguniform(self.name, self.low, self.high)\n",
            "/usr/local/lib/python3.8/dist-packages/teddynote/models.py:35: FutureWarning: suggest_uniform has been deprecated in v3.0.0. This feature will be removed in v6.0.0. See https://github.com/optuna/optuna/releases/tag/v3.0.0. Use :func:`~optuna.trial.Trial.suggest_float` instead.\n",
            "  return trial.suggest_uniform(self.name, self.low, self.high)\n"
          ]
        },
        {
          "output_type": "stream",
          "name": "stdout",
          "text": [
            "metric type: f1, score: 0.22489\n",
            "metric type: f1, score: 0.30237\n"
          ]
        },
        {
          "output_type": "stream",
          "name": "stderr",
          "text": [
            "/usr/local/lib/python3.8/dist-packages/teddynote/models.py:33: FutureWarning: suggest_loguniform has been deprecated in v3.0.0. This feature will be removed in v6.0.0. See https://github.com/optuna/optuna/releases/tag/v3.0.0. Use :func:`~optuna.trial.Trial.suggest_float` instead.\n",
            "  return trial.suggest_loguniform(self.name, self.low, self.high)\n",
            "/usr/local/lib/python3.8/dist-packages/teddynote/models.py:35: FutureWarning: suggest_uniform has been deprecated in v3.0.0. This feature will be removed in v6.0.0. See https://github.com/optuna/optuna/releases/tag/v3.0.0. Use :func:`~optuna.trial.Trial.suggest_float` instead.\n",
            "  return trial.suggest_uniform(self.name, self.low, self.high)\n",
            "/usr/local/lib/python3.8/dist-packages/teddynote/models.py:33: FutureWarning: suggest_loguniform has been deprecated in v3.0.0. This feature will be removed in v6.0.0. See https://github.com/optuna/optuna/releases/tag/v3.0.0. Use :func:`~optuna.trial.Trial.suggest_float` instead.\n",
            "  return trial.suggest_loguniform(self.name, self.low, self.high)\n",
            "/usr/local/lib/python3.8/dist-packages/teddynote/models.py:35: FutureWarning: suggest_uniform has been deprecated in v3.0.0. This feature will be removed in v6.0.0. See https://github.com/optuna/optuna/releases/tag/v3.0.0. Use :func:`~optuna.trial.Trial.suggest_float` instead.\n",
            "  return trial.suggest_uniform(self.name, self.low, self.high)\n"
          ]
        },
        {
          "output_type": "stream",
          "name": "stdout",
          "text": [
            "metric type: f1, score: 0.19556\n",
            "metric type: f1, score: 0.39934\n"
          ]
        },
        {
          "output_type": "stream",
          "name": "stderr",
          "text": [
            "/usr/local/lib/python3.8/dist-packages/teddynote/models.py:33: FutureWarning: suggest_loguniform has been deprecated in v3.0.0. This feature will be removed in v6.0.0. See https://github.com/optuna/optuna/releases/tag/v3.0.0. Use :func:`~optuna.trial.Trial.suggest_float` instead.\n",
            "  return trial.suggest_loguniform(self.name, self.low, self.high)\n",
            "/usr/local/lib/python3.8/dist-packages/teddynote/models.py:35: FutureWarning: suggest_uniform has been deprecated in v3.0.0. This feature will be removed in v6.0.0. See https://github.com/optuna/optuna/releases/tag/v3.0.0. Use :func:`~optuna.trial.Trial.suggest_float` instead.\n",
            "  return trial.suggest_uniform(self.name, self.low, self.high)\n",
            "/usr/local/lib/python3.8/dist-packages/teddynote/models.py:33: FutureWarning: suggest_loguniform has been deprecated in v3.0.0. This feature will be removed in v6.0.0. See https://github.com/optuna/optuna/releases/tag/v3.0.0. Use :func:`~optuna.trial.Trial.suggest_float` instead.\n",
            "  return trial.suggest_loguniform(self.name, self.low, self.high)\n",
            "/usr/local/lib/python3.8/dist-packages/teddynote/models.py:35: FutureWarning: suggest_uniform has been deprecated in v3.0.0. This feature will be removed in v6.0.0. See https://github.com/optuna/optuna/releases/tag/v3.0.0. Use :func:`~optuna.trial.Trial.suggest_float` instead.\n",
            "  return trial.suggest_uniform(self.name, self.low, self.high)\n",
            "\u001b[32m[I 2022-12-29 10:28:35,351]\u001b[0m Trial 45 finished with value: 0.2671648515035883 and parameters: {'lambda': 0.00015792353128196466, 'alpha': 0.004185264498855804, 'colsample_bytree': 0.6861933898719481, 'subsample': 0.8146316907213513, 'learning_rate': 0.004142024328872527, 'n_estimators': 4110, 'max_depth': 10, 'min_child_weight': 50}. Best is trial 15 with value: 0.9535849888250404.\u001b[0m\n"
          ]
        },
        {
          "output_type": "stream",
          "name": "stdout",
          "text": [
            "metric type: f1, score: 0.21368\n"
          ]
        },
        {
          "output_type": "stream",
          "name": "stderr",
          "text": [
            "/usr/local/lib/python3.8/dist-packages/teddynote/models.py:33: FutureWarning: suggest_loguniform has been deprecated in v3.0.0. This feature will be removed in v6.0.0. See https://github.com/optuna/optuna/releases/tag/v3.0.0. Use :func:`~optuna.trial.Trial.suggest_float` instead.\n",
            "  return trial.suggest_loguniform(self.name, self.low, self.high)\n",
            "/usr/local/lib/python3.8/dist-packages/teddynote/models.py:35: FutureWarning: suggest_uniform has been deprecated in v3.0.0. This feature will be removed in v6.0.0. See https://github.com/optuna/optuna/releases/tag/v3.0.0. Use :func:`~optuna.trial.Trial.suggest_float` instead.\n",
            "  return trial.suggest_uniform(self.name, self.low, self.high)\n",
            "/usr/local/lib/python3.8/dist-packages/teddynote/models.py:33: FutureWarning: suggest_loguniform has been deprecated in v3.0.0. This feature will be removed in v6.0.0. See https://github.com/optuna/optuna/releases/tag/v3.0.0. Use :func:`~optuna.trial.Trial.suggest_float` instead.\n",
            "  return trial.suggest_loguniform(self.name, self.low, self.high)\n",
            "/usr/local/lib/python3.8/dist-packages/teddynote/models.py:35: FutureWarning: suggest_uniform has been deprecated in v3.0.0. This feature will be removed in v6.0.0. See https://github.com/optuna/optuna/releases/tag/v3.0.0. Use :func:`~optuna.trial.Trial.suggest_float` instead.\n",
            "  return trial.suggest_uniform(self.name, self.low, self.high)\n"
          ]
        },
        {
          "output_type": "stream",
          "name": "stdout",
          "text": [
            "metric type: f1, score: 0.22489\n",
            "metric type: f1, score: 0.30237\n"
          ]
        },
        {
          "output_type": "stream",
          "name": "stderr",
          "text": [
            "/usr/local/lib/python3.8/dist-packages/teddynote/models.py:33: FutureWarning: suggest_loguniform has been deprecated in v3.0.0. This feature will be removed in v6.0.0. See https://github.com/optuna/optuna/releases/tag/v3.0.0. Use :func:`~optuna.trial.Trial.suggest_float` instead.\n",
            "  return trial.suggest_loguniform(self.name, self.low, self.high)\n",
            "/usr/local/lib/python3.8/dist-packages/teddynote/models.py:35: FutureWarning: suggest_uniform has been deprecated in v3.0.0. This feature will be removed in v6.0.0. See https://github.com/optuna/optuna/releases/tag/v3.0.0. Use :func:`~optuna.trial.Trial.suggest_float` instead.\n",
            "  return trial.suggest_uniform(self.name, self.low, self.high)\n",
            "/usr/local/lib/python3.8/dist-packages/teddynote/models.py:33: FutureWarning: suggest_loguniform has been deprecated in v3.0.0. This feature will be removed in v6.0.0. See https://github.com/optuna/optuna/releases/tag/v3.0.0. Use :func:`~optuna.trial.Trial.suggest_float` instead.\n",
            "  return trial.suggest_loguniform(self.name, self.low, self.high)\n",
            "/usr/local/lib/python3.8/dist-packages/teddynote/models.py:35: FutureWarning: suggest_uniform has been deprecated in v3.0.0. This feature will be removed in v6.0.0. See https://github.com/optuna/optuna/releases/tag/v3.0.0. Use :func:`~optuna.trial.Trial.suggest_float` instead.\n",
            "  return trial.suggest_uniform(self.name, self.low, self.high)\n"
          ]
        },
        {
          "output_type": "stream",
          "name": "stdout",
          "text": [
            "metric type: f1, score: 0.19556\n",
            "metric type: f1, score: 0.39934\n"
          ]
        },
        {
          "output_type": "stream",
          "name": "stderr",
          "text": [
            "/usr/local/lib/python3.8/dist-packages/teddynote/models.py:33: FutureWarning: suggest_loguniform has been deprecated in v3.0.0. This feature will be removed in v6.0.0. See https://github.com/optuna/optuna/releases/tag/v3.0.0. Use :func:`~optuna.trial.Trial.suggest_float` instead.\n",
            "  return trial.suggest_loguniform(self.name, self.low, self.high)\n",
            "/usr/local/lib/python3.8/dist-packages/teddynote/models.py:35: FutureWarning: suggest_uniform has been deprecated in v3.0.0. This feature will be removed in v6.0.0. See https://github.com/optuna/optuna/releases/tag/v3.0.0. Use :func:`~optuna.trial.Trial.suggest_float` instead.\n",
            "  return trial.suggest_uniform(self.name, self.low, self.high)\n",
            "\u001b[32m[I 2022-12-29 10:28:36,234]\u001b[0m Trial 46 finished with value: 0.2671648515035883 and parameters: {'lambda': 0.0007511200966223384, 'alpha': 5.106777001508024e-05, 'colsample_bytree': 0.5850446415397986, 'subsample': 0.8429268332297012, 'learning_rate': 0.013290066116410133, 'n_estimators': 3609, 'max_depth': 12, 'min_child_weight': 281}. Best is trial 15 with value: 0.9535849888250404.\u001b[0m\n",
            "/usr/local/lib/python3.8/dist-packages/teddynote/models.py:33: FutureWarning: suggest_loguniform has been deprecated in v3.0.0. This feature will be removed in v6.0.0. See https://github.com/optuna/optuna/releases/tag/v3.0.0. Use :func:`~optuna.trial.Trial.suggest_float` instead.\n",
            "  return trial.suggest_loguniform(self.name, self.low, self.high)\n",
            "/usr/local/lib/python3.8/dist-packages/teddynote/models.py:35: FutureWarning: suggest_uniform has been deprecated in v3.0.0. This feature will be removed in v6.0.0. See https://github.com/optuna/optuna/releases/tag/v3.0.0. Use :func:`~optuna.trial.Trial.suggest_float` instead.\n",
            "  return trial.suggest_uniform(self.name, self.low, self.high)\n"
          ]
        },
        {
          "output_type": "stream",
          "name": "stdout",
          "text": [
            "metric type: f1, score: 0.21368\n",
            "metric type: f1, score: 1.00000\n"
          ]
        },
        {
          "output_type": "stream",
          "name": "stderr",
          "text": [
            "/usr/local/lib/python3.8/dist-packages/teddynote/models.py:33: FutureWarning: suggest_loguniform has been deprecated in v3.0.0. This feature will be removed in v6.0.0. See https://github.com/optuna/optuna/releases/tag/v3.0.0. Use :func:`~optuna.trial.Trial.suggest_float` instead.\n",
            "  return trial.suggest_loguniform(self.name, self.low, self.high)\n",
            "/usr/local/lib/python3.8/dist-packages/teddynote/models.py:35: FutureWarning: suggest_uniform has been deprecated in v3.0.0. This feature will be removed in v6.0.0. See https://github.com/optuna/optuna/releases/tag/v3.0.0. Use :func:`~optuna.trial.Trial.suggest_float` instead.\n",
            "  return trial.suggest_uniform(self.name, self.low, self.high)\n"
          ]
        },
        {
          "output_type": "stream",
          "name": "stdout",
          "text": [
            "metric type: f1, score: 0.90524\n"
          ]
        },
        {
          "output_type": "stream",
          "name": "stderr",
          "text": [
            "/usr/local/lib/python3.8/dist-packages/teddynote/models.py:33: FutureWarning: suggest_loguniform has been deprecated in v3.0.0. This feature will be removed in v6.0.0. See https://github.com/optuna/optuna/releases/tag/v3.0.0. Use :func:`~optuna.trial.Trial.suggest_float` instead.\n",
            "  return trial.suggest_loguniform(self.name, self.low, self.high)\n",
            "/usr/local/lib/python3.8/dist-packages/teddynote/models.py:35: FutureWarning: suggest_uniform has been deprecated in v3.0.0. This feature will be removed in v6.0.0. See https://github.com/optuna/optuna/releases/tag/v3.0.0. Use :func:`~optuna.trial.Trial.suggest_float` instead.\n",
            "  return trial.suggest_uniform(self.name, self.low, self.high)\n"
          ]
        },
        {
          "output_type": "stream",
          "name": "stdout",
          "text": [
            "metric type: f1, score: 0.94235\n"
          ]
        },
        {
          "output_type": "stream",
          "name": "stderr",
          "text": [
            "/usr/local/lib/python3.8/dist-packages/teddynote/models.py:33: FutureWarning: suggest_loguniform has been deprecated in v3.0.0. This feature will be removed in v6.0.0. See https://github.com/optuna/optuna/releases/tag/v3.0.0. Use :func:`~optuna.trial.Trial.suggest_float` instead.\n",
            "  return trial.suggest_loguniform(self.name, self.low, self.high)\n",
            "/usr/local/lib/python3.8/dist-packages/teddynote/models.py:35: FutureWarning: suggest_uniform has been deprecated in v3.0.0. This feature will be removed in v6.0.0. See https://github.com/optuna/optuna/releases/tag/v3.0.0. Use :func:`~optuna.trial.Trial.suggest_float` instead.\n",
            "  return trial.suggest_uniform(self.name, self.low, self.high)\n"
          ]
        },
        {
          "output_type": "stream",
          "name": "stdout",
          "text": [
            "metric type: f1, score: 0.96058\n"
          ]
        },
        {
          "output_type": "stream",
          "name": "stderr",
          "text": [
            "/usr/local/lib/python3.8/dist-packages/teddynote/models.py:33: FutureWarning: suggest_loguniform has been deprecated in v3.0.0. This feature will be removed in v6.0.0. See https://github.com/optuna/optuna/releases/tag/v3.0.0. Use :func:`~optuna.trial.Trial.suggest_float` instead.\n",
            "  return trial.suggest_loguniform(self.name, self.low, self.high)\n",
            "/usr/local/lib/python3.8/dist-packages/teddynote/models.py:35: FutureWarning: suggest_uniform has been deprecated in v3.0.0. This feature will be removed in v6.0.0. See https://github.com/optuna/optuna/releases/tag/v3.0.0. Use :func:`~optuna.trial.Trial.suggest_float` instead.\n",
            "  return trial.suggest_uniform(self.name, self.low, self.high)\n",
            "\u001b[32m[I 2022-12-29 10:28:37,360]\u001b[0m Trial 47 finished with value: 0.9498563637235785 and parameters: {'lambda': 0.000201896718918717, 'alpha': 1.2558861868597189, 'colsample_bytree': 0.6248268203227365, 'subsample': 0.8790454539359304, 'learning_rate': 0.03507392809787262, 'n_estimators': 4575, 'max_depth': 8, 'min_child_weight': 1}. Best is trial 15 with value: 0.9535849888250404.\u001b[0m\n"
          ]
        },
        {
          "output_type": "stream",
          "name": "stdout",
          "text": [
            "metric type: f1, score: 0.94112\n",
            "metric type: f1, score: 0.22489\n"
          ]
        },
        {
          "output_type": "stream",
          "name": "stderr",
          "text": [
            "/usr/local/lib/python3.8/dist-packages/teddynote/models.py:33: FutureWarning: suggest_loguniform has been deprecated in v3.0.0. This feature will be removed in v6.0.0. See https://github.com/optuna/optuna/releases/tag/v3.0.0. Use :func:`~optuna.trial.Trial.suggest_float` instead.\n",
            "  return trial.suggest_loguniform(self.name, self.low, self.high)\n",
            "/usr/local/lib/python3.8/dist-packages/teddynote/models.py:35: FutureWarning: suggest_uniform has been deprecated in v3.0.0. This feature will be removed in v6.0.0. See https://github.com/optuna/optuna/releases/tag/v3.0.0. Use :func:`~optuna.trial.Trial.suggest_float` instead.\n",
            "  return trial.suggest_uniform(self.name, self.low, self.high)\n",
            "/usr/local/lib/python3.8/dist-packages/teddynote/models.py:33: FutureWarning: suggest_loguniform has been deprecated in v3.0.0. This feature will be removed in v6.0.0. See https://github.com/optuna/optuna/releases/tag/v3.0.0. Use :func:`~optuna.trial.Trial.suggest_float` instead.\n",
            "  return trial.suggest_loguniform(self.name, self.low, self.high)\n",
            "/usr/local/lib/python3.8/dist-packages/teddynote/models.py:35: FutureWarning: suggest_uniform has been deprecated in v3.0.0. This feature will be removed in v6.0.0. See https://github.com/optuna/optuna/releases/tag/v3.0.0. Use :func:`~optuna.trial.Trial.suggest_float` instead.\n",
            "  return trial.suggest_uniform(self.name, self.low, self.high)\n"
          ]
        },
        {
          "output_type": "stream",
          "name": "stdout",
          "text": [
            "metric type: f1, score: 0.30237\n",
            "metric type: f1, score: 0.19556\n"
          ]
        },
        {
          "output_type": "stream",
          "name": "stderr",
          "text": [
            "/usr/local/lib/python3.8/dist-packages/teddynote/models.py:33: FutureWarning: suggest_loguniform has been deprecated in v3.0.0. This feature will be removed in v6.0.0. See https://github.com/optuna/optuna/releases/tag/v3.0.0. Use :func:`~optuna.trial.Trial.suggest_float` instead.\n",
            "  return trial.suggest_loguniform(self.name, self.low, self.high)\n",
            "/usr/local/lib/python3.8/dist-packages/teddynote/models.py:35: FutureWarning: suggest_uniform has been deprecated in v3.0.0. This feature will be removed in v6.0.0. See https://github.com/optuna/optuna/releases/tag/v3.0.0. Use :func:`~optuna.trial.Trial.suggest_float` instead.\n",
            "  return trial.suggest_uniform(self.name, self.low, self.high)\n",
            "/usr/local/lib/python3.8/dist-packages/teddynote/models.py:33: FutureWarning: suggest_loguniform has been deprecated in v3.0.0. This feature will be removed in v6.0.0. See https://github.com/optuna/optuna/releases/tag/v3.0.0. Use :func:`~optuna.trial.Trial.suggest_float` instead.\n",
            "  return trial.suggest_loguniform(self.name, self.low, self.high)\n",
            "/usr/local/lib/python3.8/dist-packages/teddynote/models.py:35: FutureWarning: suggest_uniform has been deprecated in v3.0.0. This feature will be removed in v6.0.0. See https://github.com/optuna/optuna/releases/tag/v3.0.0. Use :func:`~optuna.trial.Trial.suggest_float` instead.\n",
            "  return trial.suggest_uniform(self.name, self.low, self.high)\n",
            "/usr/local/lib/python3.8/dist-packages/teddynote/models.py:33: FutureWarning: suggest_loguniform has been deprecated in v3.0.0. This feature will be removed in v6.0.0. See https://github.com/optuna/optuna/releases/tag/v3.0.0. Use :func:`~optuna.trial.Trial.suggest_float` instead.\n",
            "  return trial.suggest_loguniform(self.name, self.low, self.high)\n",
            "/usr/local/lib/python3.8/dist-packages/teddynote/models.py:35: FutureWarning: suggest_uniform has been deprecated in v3.0.0. This feature will be removed in v6.0.0. See https://github.com/optuna/optuna/releases/tag/v3.0.0. Use :func:`~optuna.trial.Trial.suggest_float` instead.\n",
            "  return trial.suggest_uniform(self.name, self.low, self.high)\n",
            "\u001b[32m[I 2022-12-29 10:28:38,120]\u001b[0m Trial 48 finished with value: 0.2671648515035883 and parameters: {'lambda': 0.00010631636762800767, 'alpha': 1.0628437897043406, 'colsample_bytree': 0.6238313431451952, 'subsample': 0.8797310135059467, 'learning_rate': 0.032890815491720536, 'n_estimators': 2412, 'max_depth': 8, 'min_child_weight': 168}. Best is trial 15 with value: 0.9535849888250404.\u001b[0m\n"
          ]
        },
        {
          "output_type": "stream",
          "name": "stdout",
          "text": [
            "metric type: f1, score: 0.39934\n",
            "metric type: f1, score: 0.21368\n"
          ]
        },
        {
          "output_type": "stream",
          "name": "stderr",
          "text": [
            "/usr/local/lib/python3.8/dist-packages/teddynote/models.py:33: FutureWarning: suggest_loguniform has been deprecated in v3.0.0. This feature will be removed in v6.0.0. See https://github.com/optuna/optuna/releases/tag/v3.0.0. Use :func:`~optuna.trial.Trial.suggest_float` instead.\n",
            "  return trial.suggest_loguniform(self.name, self.low, self.high)\n",
            "/usr/local/lib/python3.8/dist-packages/teddynote/models.py:35: FutureWarning: suggest_uniform has been deprecated in v3.0.0. This feature will be removed in v6.0.0. See https://github.com/optuna/optuna/releases/tag/v3.0.0. Use :func:`~optuna.trial.Trial.suggest_float` instead.\n",
            "  return trial.suggest_uniform(self.name, self.low, self.high)\n"
          ]
        },
        {
          "output_type": "stream",
          "name": "stdout",
          "text": [
            "metric type: f1, score: 0.96186\n",
            "metric type: f1, score: 0.90597\n"
          ]
        },
        {
          "output_type": "stream",
          "name": "stderr",
          "text": [
            "/usr/local/lib/python3.8/dist-packages/teddynote/models.py:33: FutureWarning: suggest_loguniform has been deprecated in v3.0.0. This feature will be removed in v6.0.0. See https://github.com/optuna/optuna/releases/tag/v3.0.0. Use :func:`~optuna.trial.Trial.suggest_float` instead.\n",
            "  return trial.suggest_loguniform(self.name, self.low, self.high)\n",
            "/usr/local/lib/python3.8/dist-packages/teddynote/models.py:35: FutureWarning: suggest_uniform has been deprecated in v3.0.0. This feature will be removed in v6.0.0. See https://github.com/optuna/optuna/releases/tag/v3.0.0. Use :func:`~optuna.trial.Trial.suggest_float` instead.\n",
            "  return trial.suggest_uniform(self.name, self.low, self.high)\n",
            "/usr/local/lib/python3.8/dist-packages/teddynote/models.py:33: FutureWarning: suggest_loguniform has been deprecated in v3.0.0. This feature will be removed in v6.0.0. See https://github.com/optuna/optuna/releases/tag/v3.0.0. Use :func:`~optuna.trial.Trial.suggest_float` instead.\n",
            "  return trial.suggest_loguniform(self.name, self.low, self.high)\n",
            "/usr/local/lib/python3.8/dist-packages/teddynote/models.py:35: FutureWarning: suggest_uniform has been deprecated in v3.0.0. This feature will be removed in v6.0.0. See https://github.com/optuna/optuna/releases/tag/v3.0.0. Use :func:`~optuna.trial.Trial.suggest_float` instead.\n",
            "  return trial.suggest_uniform(self.name, self.low, self.high)\n"
          ]
        },
        {
          "output_type": "stream",
          "name": "stdout",
          "text": [
            "metric type: f1, score: 0.90362\n",
            "metric type: f1, score: 0.89994\n"
          ]
        },
        {
          "output_type": "stream",
          "name": "stderr",
          "text": [
            "/usr/local/lib/python3.8/dist-packages/teddynote/models.py:33: FutureWarning: suggest_loguniform has been deprecated in v3.0.0. This feature will be removed in v6.0.0. See https://github.com/optuna/optuna/releases/tag/v3.0.0. Use :func:`~optuna.trial.Trial.suggest_float` instead.\n",
            "  return trial.suggest_loguniform(self.name, self.low, self.high)\n",
            "/usr/local/lib/python3.8/dist-packages/teddynote/models.py:35: FutureWarning: suggest_uniform has been deprecated in v3.0.0. This feature will be removed in v6.0.0. See https://github.com/optuna/optuna/releases/tag/v3.0.0. Use :func:`~optuna.trial.Trial.suggest_float` instead.\n",
            "  return trial.suggest_uniform(self.name, self.low, self.high)\n",
            "/usr/local/lib/python3.8/dist-packages/teddynote/models.py:33: FutureWarning: suggest_loguniform has been deprecated in v3.0.0. This feature will be removed in v6.0.0. See https://github.com/optuna/optuna/releases/tag/v3.0.0. Use :func:`~optuna.trial.Trial.suggest_float` instead.\n",
            "  return trial.suggest_loguniform(self.name, self.low, self.high)\n",
            "/usr/local/lib/python3.8/dist-packages/teddynote/models.py:35: FutureWarning: suggest_uniform has been deprecated in v3.0.0. This feature will be removed in v6.0.0. See https://github.com/optuna/optuna/releases/tag/v3.0.0. Use :func:`~optuna.trial.Trial.suggest_float` instead.\n",
            "  return trial.suggest_uniform(self.name, self.low, self.high)\n",
            "\u001b[32m[I 2022-12-29 10:28:39,097]\u001b[0m Trial 49 finished with value: 0.9264957609835518 and parameters: {'lambda': 2.2219600860513622e-05, 'alpha': 0.6858267963103074, 'colsample_bytree': 0.5743385446911964, 'subsample': 0.8558992995162671, 'learning_rate': 0.05032735589144677, 'n_estimators': 4529, 'max_depth': 7, 'min_child_weight': 18}. Best is trial 15 with value: 0.9535849888250404.\u001b[0m\n"
          ]
        },
        {
          "output_type": "stream",
          "name": "stdout",
          "text": [
            "metric type: f1, score: 0.96108\n",
            "saving model...models/XGBClassifier-0.95358.npy\n"
          ]
        }
      ],
      "source": [
        "xgboptuna_binary = models.XGBClassifierOptuna(use_gpu=False)\n",
        "        \n",
        "params, preds = xgboptuna_binary.optimize(train_x, \n",
        "                                          train_y, \n",
        "                                          test_x,\n",
        "                                          seed = 321,\n",
        "                                          n_rounds = 100,\n",
        "                                          eval_metric='f1', n_trials=50)\n",
        "\n"
      ],
      "id": "ao8959MjPXmD"
    },
    {
      "cell_type": "code",
      "execution_count": 41,
      "metadata": {
        "id": "-8htUu9QNNxB"
      },
      "outputs": [],
      "source": [
        "result = models.load_prediction_from_file('/content/models/XGBClassifier-0.95358.npy')"
      ],
      "id": "-8htUu9QNNxB"
    },
    {
      "cell_type": "code",
      "execution_count": 42,
      "metadata": {
        "colab": {
          "base_uri": "https://localhost:8080/"
        },
        "id": "xoMtpIXANbtp",
        "outputId": "ee6ac489-6b3b-4fb8-e865-07f7e412c5b2"
      },
      "outputs": [
        {
          "output_type": "execute_result",
          "data": {
            "text/plain": [
              "array([0, 1, 2, 1, 0, 1, 2, 1, 0, 0, 2, 1, 1, 0, 1, 1, 0, 1, 1, 2, 1, 1,\n",
              "       1, 0, 1, 1, 1, 0, 0, 1, 0, 0, 1, 2, 0, 1, 2, 1, 1, 2, 0, 1, 2, 1,\n",
              "       1, 1, 1, 2, 1, 2, 0, 1, 0, 1, 1, 1, 2, 0, 1, 2, 0, 1, 2, 2, 2, 0,\n",
              "       2, 0, 0, 1, 1, 1, 0, 0, 2, 1, 2, 1, 1, 1, 2, 1, 0, 1, 1, 1, 1, 1,\n",
              "       2, 0, 1, 1, 2, 1, 1, 2, 0, 1, 0, 2, 0, 1, 1, 2, 0, 0, 2, 1, 0, 1,\n",
              "       2, 1, 1, 1, 1, 0, 0, 2, 1, 1, 0, 1, 1, 2, 2, 1, 1, 1, 0, 1, 0, 0,\n",
              "       1, 1, 1, 2, 0, 0, 1, 0, 0, 0, 2, 1, 1, 1, 0, 1, 2, 0, 0, 1, 0, 1,\n",
              "       1, 0, 0, 1, 2, 0, 1, 2, 1, 1, 0, 0, 2, 1, 1, 0, 1, 2, 2, 1, 1])"
            ]
          },
          "metadata": {},
          "execution_count": 42
        }
      ],
      "source": [
        "result"
      ],
      "id": "xoMtpIXANbtp"
    },
    {
      "cell_type": "code",
      "execution_count": 43,
      "metadata": {
        "colab": {
          "base_uri": "https://localhost:8080/"
        },
        "id": "5hC135VNNcuN",
        "outputId": "57c86b44-47dc-4a80-b775-190754f6c0a5"
      },
      "outputs": [
        {
          "output_type": "execute_result",
          "data": {
            "text/plain": [
              "175"
            ]
          },
          "metadata": {},
          "execution_count": 43
        }
      ],
      "source": [
        "len(result)"
      ],
      "id": "5hC135VNNcuN"
    },
    {
      "cell_type": "code",
      "execution_count": 44,
      "metadata": {
        "id": "CERWwwvpNvOR"
      },
      "outputs": [],
      "source": [
        "result_df = pd.DataFrame(result)"
      ],
      "id": "CERWwwvpNvOR"
    },
    {
      "cell_type": "code",
      "execution_count": 45,
      "metadata": {
        "colab": {
          "base_uri": "https://localhost:8080/",
          "height": 424
        },
        "id": "KXByGjh5Nyx1",
        "outputId": "32fc646e-07cb-431c-82c2-ba7f38d536fd"
      },
      "outputs": [
        {
          "output_type": "execute_result",
          "data": {
            "text/plain": [
              "     0\n",
              "0    0\n",
              "1    1\n",
              "2    2\n",
              "3    1\n",
              "4    0\n",
              "..  ..\n",
              "170  1\n",
              "171  2\n",
              "172  2\n",
              "173  1\n",
              "174  1\n",
              "\n",
              "[175 rows x 1 columns]"
            ],
            "text/html": [
              "\n",
              "  <div id=\"df-15137502-3f50-4bd7-b228-c68110c33664\">\n",
              "    <div class=\"colab-df-container\">\n",
              "      <div>\n",
              "<style scoped>\n",
              "    .dataframe tbody tr th:only-of-type {\n",
              "        vertical-align: middle;\n",
              "    }\n",
              "\n",
              "    .dataframe tbody tr th {\n",
              "        vertical-align: top;\n",
              "    }\n",
              "\n",
              "    .dataframe thead th {\n",
              "        text-align: right;\n",
              "    }\n",
              "</style>\n",
              "<table border=\"1\" class=\"dataframe\">\n",
              "  <thead>\n",
              "    <tr style=\"text-align: right;\">\n",
              "      <th></th>\n",
              "      <th>0</th>\n",
              "    </tr>\n",
              "  </thead>\n",
              "  <tbody>\n",
              "    <tr>\n",
              "      <th>0</th>\n",
              "      <td>0</td>\n",
              "    </tr>\n",
              "    <tr>\n",
              "      <th>1</th>\n",
              "      <td>1</td>\n",
              "    </tr>\n",
              "    <tr>\n",
              "      <th>2</th>\n",
              "      <td>2</td>\n",
              "    </tr>\n",
              "    <tr>\n",
              "      <th>3</th>\n",
              "      <td>1</td>\n",
              "    </tr>\n",
              "    <tr>\n",
              "      <th>4</th>\n",
              "      <td>0</td>\n",
              "    </tr>\n",
              "    <tr>\n",
              "      <th>...</th>\n",
              "      <td>...</td>\n",
              "    </tr>\n",
              "    <tr>\n",
              "      <th>170</th>\n",
              "      <td>1</td>\n",
              "    </tr>\n",
              "    <tr>\n",
              "      <th>171</th>\n",
              "      <td>2</td>\n",
              "    </tr>\n",
              "    <tr>\n",
              "      <th>172</th>\n",
              "      <td>2</td>\n",
              "    </tr>\n",
              "    <tr>\n",
              "      <th>173</th>\n",
              "      <td>1</td>\n",
              "    </tr>\n",
              "    <tr>\n",
              "      <th>174</th>\n",
              "      <td>1</td>\n",
              "    </tr>\n",
              "  </tbody>\n",
              "</table>\n",
              "<p>175 rows × 1 columns</p>\n",
              "</div>\n",
              "      <button class=\"colab-df-convert\" onclick=\"convertToInteractive('df-15137502-3f50-4bd7-b228-c68110c33664')\"\n",
              "              title=\"Convert this dataframe to an interactive table.\"\n",
              "              style=\"display:none;\">\n",
              "        \n",
              "  <svg xmlns=\"http://www.w3.org/2000/svg\" height=\"24px\"viewBox=\"0 0 24 24\"\n",
              "       width=\"24px\">\n",
              "    <path d=\"M0 0h24v24H0V0z\" fill=\"none\"/>\n",
              "    <path d=\"M18.56 5.44l.94 2.06.94-2.06 2.06-.94-2.06-.94-.94-2.06-.94 2.06-2.06.94zm-11 1L8.5 8.5l.94-2.06 2.06-.94-2.06-.94L8.5 2.5l-.94 2.06-2.06.94zm10 10l.94 2.06.94-2.06 2.06-.94-2.06-.94-.94-2.06-.94 2.06-2.06.94z\"/><path d=\"M17.41 7.96l-1.37-1.37c-.4-.4-.92-.59-1.43-.59-.52 0-1.04.2-1.43.59L10.3 9.45l-7.72 7.72c-.78.78-.78 2.05 0 2.83L4 21.41c.39.39.9.59 1.41.59.51 0 1.02-.2 1.41-.59l7.78-7.78 2.81-2.81c.8-.78.8-2.07 0-2.86zM5.41 20L4 18.59l7.72-7.72 1.47 1.35L5.41 20z\"/>\n",
              "  </svg>\n",
              "      </button>\n",
              "      \n",
              "  <style>\n",
              "    .colab-df-container {\n",
              "      display:flex;\n",
              "      flex-wrap:wrap;\n",
              "      gap: 12px;\n",
              "    }\n",
              "\n",
              "    .colab-df-convert {\n",
              "      background-color: #E8F0FE;\n",
              "      border: none;\n",
              "      border-radius: 50%;\n",
              "      cursor: pointer;\n",
              "      display: none;\n",
              "      fill: #1967D2;\n",
              "      height: 32px;\n",
              "      padding: 0 0 0 0;\n",
              "      width: 32px;\n",
              "    }\n",
              "\n",
              "    .colab-df-convert:hover {\n",
              "      background-color: #E2EBFA;\n",
              "      box-shadow: 0px 1px 2px rgba(60, 64, 67, 0.3), 0px 1px 3px 1px rgba(60, 64, 67, 0.15);\n",
              "      fill: #174EA6;\n",
              "    }\n",
              "\n",
              "    [theme=dark] .colab-df-convert {\n",
              "      background-color: #3B4455;\n",
              "      fill: #D2E3FC;\n",
              "    }\n",
              "\n",
              "    [theme=dark] .colab-df-convert:hover {\n",
              "      background-color: #434B5C;\n",
              "      box-shadow: 0px 1px 3px 1px rgba(0, 0, 0, 0.15);\n",
              "      filter: drop-shadow(0px 1px 2px rgba(0, 0, 0, 0.3));\n",
              "      fill: #FFFFFF;\n",
              "    }\n",
              "  </style>\n",
              "\n",
              "      <script>\n",
              "        const buttonEl =\n",
              "          document.querySelector('#df-15137502-3f50-4bd7-b228-c68110c33664 button.colab-df-convert');\n",
              "        buttonEl.style.display =\n",
              "          google.colab.kernel.accessAllowed ? 'block' : 'none';\n",
              "\n",
              "        async function convertToInteractive(key) {\n",
              "          const element = document.querySelector('#df-15137502-3f50-4bd7-b228-c68110c33664');\n",
              "          const dataTable =\n",
              "            await google.colab.kernel.invokeFunction('convertToInteractive',\n",
              "                                                     [key], {});\n",
              "          if (!dataTable) return;\n",
              "\n",
              "          const docLinkHtml = 'Like what you see? Visit the ' +\n",
              "            '<a target=\"_blank\" href=https://colab.research.google.com/notebooks/data_table.ipynb>data table notebook</a>'\n",
              "            + ' to learn more about interactive tables.';\n",
              "          element.innerHTML = '';\n",
              "          dataTable['output_type'] = 'display_data';\n",
              "          await google.colab.output.renderOutput(dataTable, element);\n",
              "          const docLink = document.createElement('div');\n",
              "          docLink.innerHTML = docLinkHtml;\n",
              "          element.appendChild(docLink);\n",
              "        }\n",
              "      </script>\n",
              "    </div>\n",
              "  </div>\n",
              "  "
            ]
          },
          "metadata": {},
          "execution_count": 45
        }
      ],
      "source": [
        "result_df"
      ],
      "id": "KXByGjh5Nyx1"
    },
    {
      "cell_type": "code",
      "execution_count": 46,
      "metadata": {
        "colab": {
          "base_uri": "https://localhost:8080/"
        },
        "id": "2H7wOj2zOWWV",
        "outputId": "bfcd3a82-849c-40c8-82c9-81160927aef6"
      },
      "outputs": [
        {
          "output_type": "execute_result",
          "data": {
            "text/plain": [
              "0      0\n",
              "1      1\n",
              "2      2\n",
              "3      1\n",
              "4      0\n",
              "      ..\n",
              "170    1\n",
              "171    2\n",
              "172    2\n",
              "173    1\n",
              "174    1\n",
              "Name: 0, Length: 175, dtype: int64"
            ]
          },
          "metadata": {},
          "execution_count": 46
        }
      ],
      "source": [
        "result_df[0]"
      ],
      "id": "2H7wOj2zOWWV"
    },
    {
      "cell_type": "code",
      "execution_count": 47,
      "metadata": {
        "id": "FlM8aqanOEna"
      },
      "outputs": [],
      "source": [
        "for i in range(175):\n",
        "  if result_df[0][i] == 0:\n",
        "    result_df[0][i] = 'A'\n",
        "  if result_df[0][i] == 1:\n",
        "    result_df[0][i] = 'B'\n",
        "  if result_df[0][i] == 2:\n",
        "    result_df[0][i] = 'C'"
      ],
      "id": "FlM8aqanOEna"
    },
    {
      "cell_type": "code",
      "execution_count": 48,
      "metadata": {
        "colab": {
          "base_uri": "https://localhost:8080/",
          "height": 424
        },
        "id": "K6mha0SEOgBG",
        "outputId": "ebf9447c-573e-45c8-c6a5-60bea04d7ba2"
      },
      "outputs": [
        {
          "output_type": "execute_result",
          "data": {
            "text/plain": [
              "     0\n",
              "0    A\n",
              "1    B\n",
              "2    C\n",
              "3    B\n",
              "4    A\n",
              "..  ..\n",
              "170  B\n",
              "171  C\n",
              "172  C\n",
              "173  B\n",
              "174  B\n",
              "\n",
              "[175 rows x 1 columns]"
            ],
            "text/html": [
              "\n",
              "  <div id=\"df-8d28ba61-bf07-45e4-ae18-565ee94fbcba\">\n",
              "    <div class=\"colab-df-container\">\n",
              "      <div>\n",
              "<style scoped>\n",
              "    .dataframe tbody tr th:only-of-type {\n",
              "        vertical-align: middle;\n",
              "    }\n",
              "\n",
              "    .dataframe tbody tr th {\n",
              "        vertical-align: top;\n",
              "    }\n",
              "\n",
              "    .dataframe thead th {\n",
              "        text-align: right;\n",
              "    }\n",
              "</style>\n",
              "<table border=\"1\" class=\"dataframe\">\n",
              "  <thead>\n",
              "    <tr style=\"text-align: right;\">\n",
              "      <th></th>\n",
              "      <th>0</th>\n",
              "    </tr>\n",
              "  </thead>\n",
              "  <tbody>\n",
              "    <tr>\n",
              "      <th>0</th>\n",
              "      <td>A</td>\n",
              "    </tr>\n",
              "    <tr>\n",
              "      <th>1</th>\n",
              "      <td>B</td>\n",
              "    </tr>\n",
              "    <tr>\n",
              "      <th>2</th>\n",
              "      <td>C</td>\n",
              "    </tr>\n",
              "    <tr>\n",
              "      <th>3</th>\n",
              "      <td>B</td>\n",
              "    </tr>\n",
              "    <tr>\n",
              "      <th>4</th>\n",
              "      <td>A</td>\n",
              "    </tr>\n",
              "    <tr>\n",
              "      <th>...</th>\n",
              "      <td>...</td>\n",
              "    </tr>\n",
              "    <tr>\n",
              "      <th>170</th>\n",
              "      <td>B</td>\n",
              "    </tr>\n",
              "    <tr>\n",
              "      <th>171</th>\n",
              "      <td>C</td>\n",
              "    </tr>\n",
              "    <tr>\n",
              "      <th>172</th>\n",
              "      <td>C</td>\n",
              "    </tr>\n",
              "    <tr>\n",
              "      <th>173</th>\n",
              "      <td>B</td>\n",
              "    </tr>\n",
              "    <tr>\n",
              "      <th>174</th>\n",
              "      <td>B</td>\n",
              "    </tr>\n",
              "  </tbody>\n",
              "</table>\n",
              "<p>175 rows × 1 columns</p>\n",
              "</div>\n",
              "      <button class=\"colab-df-convert\" onclick=\"convertToInteractive('df-8d28ba61-bf07-45e4-ae18-565ee94fbcba')\"\n",
              "              title=\"Convert this dataframe to an interactive table.\"\n",
              "              style=\"display:none;\">\n",
              "        \n",
              "  <svg xmlns=\"http://www.w3.org/2000/svg\" height=\"24px\"viewBox=\"0 0 24 24\"\n",
              "       width=\"24px\">\n",
              "    <path d=\"M0 0h24v24H0V0z\" fill=\"none\"/>\n",
              "    <path d=\"M18.56 5.44l.94 2.06.94-2.06 2.06-.94-2.06-.94-.94-2.06-.94 2.06-2.06.94zm-11 1L8.5 8.5l.94-2.06 2.06-.94-2.06-.94L8.5 2.5l-.94 2.06-2.06.94zm10 10l.94 2.06.94-2.06 2.06-.94-2.06-.94-.94-2.06-.94 2.06-2.06.94z\"/><path d=\"M17.41 7.96l-1.37-1.37c-.4-.4-.92-.59-1.43-.59-.52 0-1.04.2-1.43.59L10.3 9.45l-7.72 7.72c-.78.78-.78 2.05 0 2.83L4 21.41c.39.39.9.59 1.41.59.51 0 1.02-.2 1.41-.59l7.78-7.78 2.81-2.81c.8-.78.8-2.07 0-2.86zM5.41 20L4 18.59l7.72-7.72 1.47 1.35L5.41 20z\"/>\n",
              "  </svg>\n",
              "      </button>\n",
              "      \n",
              "  <style>\n",
              "    .colab-df-container {\n",
              "      display:flex;\n",
              "      flex-wrap:wrap;\n",
              "      gap: 12px;\n",
              "    }\n",
              "\n",
              "    .colab-df-convert {\n",
              "      background-color: #E8F0FE;\n",
              "      border: none;\n",
              "      border-radius: 50%;\n",
              "      cursor: pointer;\n",
              "      display: none;\n",
              "      fill: #1967D2;\n",
              "      height: 32px;\n",
              "      padding: 0 0 0 0;\n",
              "      width: 32px;\n",
              "    }\n",
              "\n",
              "    .colab-df-convert:hover {\n",
              "      background-color: #E2EBFA;\n",
              "      box-shadow: 0px 1px 2px rgba(60, 64, 67, 0.3), 0px 1px 3px 1px rgba(60, 64, 67, 0.15);\n",
              "      fill: #174EA6;\n",
              "    }\n",
              "\n",
              "    [theme=dark] .colab-df-convert {\n",
              "      background-color: #3B4455;\n",
              "      fill: #D2E3FC;\n",
              "    }\n",
              "\n",
              "    [theme=dark] .colab-df-convert:hover {\n",
              "      background-color: #434B5C;\n",
              "      box-shadow: 0px 1px 3px 1px rgba(0, 0, 0, 0.15);\n",
              "      filter: drop-shadow(0px 1px 2px rgba(0, 0, 0, 0.3));\n",
              "      fill: #FFFFFF;\n",
              "    }\n",
              "  </style>\n",
              "\n",
              "      <script>\n",
              "        const buttonEl =\n",
              "          document.querySelector('#df-8d28ba61-bf07-45e4-ae18-565ee94fbcba button.colab-df-convert');\n",
              "        buttonEl.style.display =\n",
              "          google.colab.kernel.accessAllowed ? 'block' : 'none';\n",
              "\n",
              "        async function convertToInteractive(key) {\n",
              "          const element = document.querySelector('#df-8d28ba61-bf07-45e4-ae18-565ee94fbcba');\n",
              "          const dataTable =\n",
              "            await google.colab.kernel.invokeFunction('convertToInteractive',\n",
              "                                                     [key], {});\n",
              "          if (!dataTable) return;\n",
              "\n",
              "          const docLinkHtml = 'Like what you see? Visit the ' +\n",
              "            '<a target=\"_blank\" href=https://colab.research.google.com/notebooks/data_table.ipynb>data table notebook</a>'\n",
              "            + ' to learn more about interactive tables.';\n",
              "          element.innerHTML = '';\n",
              "          dataTable['output_type'] = 'display_data';\n",
              "          await google.colab.output.renderOutput(dataTable, element);\n",
              "          const docLink = document.createElement('div');\n",
              "          docLink.innerHTML = docLinkHtml;\n",
              "          element.appendChild(docLink);\n",
              "        }\n",
              "      </script>\n",
              "    </div>\n",
              "  </div>\n",
              "  "
            ]
          },
          "metadata": {},
          "execution_count": 48
        }
      ],
      "source": [
        "result_df"
      ],
      "id": "K6mha0SEOgBG"
    },
    {
      "cell_type": "markdown",
      "metadata": {
        "id": "bd16b405-8a2d-4567-aebf-79ad596a1cd9"
      },
      "source": [
        "## Submission"
      ],
      "id": "bd16b405-8a2d-4567-aebf-79ad596a1cd9"
    },
    {
      "cell_type": "code",
      "execution_count": 49,
      "metadata": {
        "id": "4fd0adb4-81ad-4474-8d31-51dff217f5c0"
      },
      "outputs": [],
      "source": [
        "submit = pd.read_csv('./sample_submission.csv')"
      ],
      "id": "4fd0adb4-81ad-4474-8d31-51dff217f5c0"
    },
    {
      "cell_type": "code",
      "execution_count": 53,
      "metadata": {
        "id": "roO9k5T0NfAl"
      },
      "outputs": [],
      "source": [
        "submit['class'] = result_df[0]"
      ],
      "id": "roO9k5T0NfAl"
    },
    {
      "cell_type": "code",
      "execution_count": 54,
      "metadata": {
        "colab": {
          "base_uri": "https://localhost:8080/",
          "height": 424
        },
        "id": "2875bcba-91d1-4ecc-a839-370a16f14b54",
        "outputId": "72f4c54d-9c75-45fd-a66a-fcc0f40b104b"
      },
      "outputs": [
        {
          "output_type": "execute_result",
          "data": {
            "text/plain": [
              "           id class\n",
              "0    TEST_000     A\n",
              "1    TEST_001     B\n",
              "2    TEST_002     C\n",
              "3    TEST_003     B\n",
              "4    TEST_004     A\n",
              "..        ...   ...\n",
              "170  TEST_170     B\n",
              "171  TEST_171     C\n",
              "172  TEST_172     C\n",
              "173  TEST_173     B\n",
              "174  TEST_174     B\n",
              "\n",
              "[175 rows x 2 columns]"
            ],
            "text/html": [
              "\n",
              "  <div id=\"df-3c036763-6c79-4ffd-9cb7-8f840ef280a9\">\n",
              "    <div class=\"colab-df-container\">\n",
              "      <div>\n",
              "<style scoped>\n",
              "    .dataframe tbody tr th:only-of-type {\n",
              "        vertical-align: middle;\n",
              "    }\n",
              "\n",
              "    .dataframe tbody tr th {\n",
              "        vertical-align: top;\n",
              "    }\n",
              "\n",
              "    .dataframe thead th {\n",
              "        text-align: right;\n",
              "    }\n",
              "</style>\n",
              "<table border=\"1\" class=\"dataframe\">\n",
              "  <thead>\n",
              "    <tr style=\"text-align: right;\">\n",
              "      <th></th>\n",
              "      <th>id</th>\n",
              "      <th>class</th>\n",
              "    </tr>\n",
              "  </thead>\n",
              "  <tbody>\n",
              "    <tr>\n",
              "      <th>0</th>\n",
              "      <td>TEST_000</td>\n",
              "      <td>A</td>\n",
              "    </tr>\n",
              "    <tr>\n",
              "      <th>1</th>\n",
              "      <td>TEST_001</td>\n",
              "      <td>B</td>\n",
              "    </tr>\n",
              "    <tr>\n",
              "      <th>2</th>\n",
              "      <td>TEST_002</td>\n",
              "      <td>C</td>\n",
              "    </tr>\n",
              "    <tr>\n",
              "      <th>3</th>\n",
              "      <td>TEST_003</td>\n",
              "      <td>B</td>\n",
              "    </tr>\n",
              "    <tr>\n",
              "      <th>4</th>\n",
              "      <td>TEST_004</td>\n",
              "      <td>A</td>\n",
              "    </tr>\n",
              "    <tr>\n",
              "      <th>...</th>\n",
              "      <td>...</td>\n",
              "      <td>...</td>\n",
              "    </tr>\n",
              "    <tr>\n",
              "      <th>170</th>\n",
              "      <td>TEST_170</td>\n",
              "      <td>B</td>\n",
              "    </tr>\n",
              "    <tr>\n",
              "      <th>171</th>\n",
              "      <td>TEST_171</td>\n",
              "      <td>C</td>\n",
              "    </tr>\n",
              "    <tr>\n",
              "      <th>172</th>\n",
              "      <td>TEST_172</td>\n",
              "      <td>C</td>\n",
              "    </tr>\n",
              "    <tr>\n",
              "      <th>173</th>\n",
              "      <td>TEST_173</td>\n",
              "      <td>B</td>\n",
              "    </tr>\n",
              "    <tr>\n",
              "      <th>174</th>\n",
              "      <td>TEST_174</td>\n",
              "      <td>B</td>\n",
              "    </tr>\n",
              "  </tbody>\n",
              "</table>\n",
              "<p>175 rows × 2 columns</p>\n",
              "</div>\n",
              "      <button class=\"colab-df-convert\" onclick=\"convertToInteractive('df-3c036763-6c79-4ffd-9cb7-8f840ef280a9')\"\n",
              "              title=\"Convert this dataframe to an interactive table.\"\n",
              "              style=\"display:none;\">\n",
              "        \n",
              "  <svg xmlns=\"http://www.w3.org/2000/svg\" height=\"24px\"viewBox=\"0 0 24 24\"\n",
              "       width=\"24px\">\n",
              "    <path d=\"M0 0h24v24H0V0z\" fill=\"none\"/>\n",
              "    <path d=\"M18.56 5.44l.94 2.06.94-2.06 2.06-.94-2.06-.94-.94-2.06-.94 2.06-2.06.94zm-11 1L8.5 8.5l.94-2.06 2.06-.94-2.06-.94L8.5 2.5l-.94 2.06-2.06.94zm10 10l.94 2.06.94-2.06 2.06-.94-2.06-.94-.94-2.06-.94 2.06-2.06.94z\"/><path d=\"M17.41 7.96l-1.37-1.37c-.4-.4-.92-.59-1.43-.59-.52 0-1.04.2-1.43.59L10.3 9.45l-7.72 7.72c-.78.78-.78 2.05 0 2.83L4 21.41c.39.39.9.59 1.41.59.51 0 1.02-.2 1.41-.59l7.78-7.78 2.81-2.81c.8-.78.8-2.07 0-2.86zM5.41 20L4 18.59l7.72-7.72 1.47 1.35L5.41 20z\"/>\n",
              "  </svg>\n",
              "      </button>\n",
              "      \n",
              "  <style>\n",
              "    .colab-df-container {\n",
              "      display:flex;\n",
              "      flex-wrap:wrap;\n",
              "      gap: 12px;\n",
              "    }\n",
              "\n",
              "    .colab-df-convert {\n",
              "      background-color: #E8F0FE;\n",
              "      border: none;\n",
              "      border-radius: 50%;\n",
              "      cursor: pointer;\n",
              "      display: none;\n",
              "      fill: #1967D2;\n",
              "      height: 32px;\n",
              "      padding: 0 0 0 0;\n",
              "      width: 32px;\n",
              "    }\n",
              "\n",
              "    .colab-df-convert:hover {\n",
              "      background-color: #E2EBFA;\n",
              "      box-shadow: 0px 1px 2px rgba(60, 64, 67, 0.3), 0px 1px 3px 1px rgba(60, 64, 67, 0.15);\n",
              "      fill: #174EA6;\n",
              "    }\n",
              "\n",
              "    [theme=dark] .colab-df-convert {\n",
              "      background-color: #3B4455;\n",
              "      fill: #D2E3FC;\n",
              "    }\n",
              "\n",
              "    [theme=dark] .colab-df-convert:hover {\n",
              "      background-color: #434B5C;\n",
              "      box-shadow: 0px 1px 3px 1px rgba(0, 0, 0, 0.15);\n",
              "      filter: drop-shadow(0px 1px 2px rgba(0, 0, 0, 0.3));\n",
              "      fill: #FFFFFF;\n",
              "    }\n",
              "  </style>\n",
              "\n",
              "      <script>\n",
              "        const buttonEl =\n",
              "          document.querySelector('#df-3c036763-6c79-4ffd-9cb7-8f840ef280a9 button.colab-df-convert');\n",
              "        buttonEl.style.display =\n",
              "          google.colab.kernel.accessAllowed ? 'block' : 'none';\n",
              "\n",
              "        async function convertToInteractive(key) {\n",
              "          const element = document.querySelector('#df-3c036763-6c79-4ffd-9cb7-8f840ef280a9');\n",
              "          const dataTable =\n",
              "            await google.colab.kernel.invokeFunction('convertToInteractive',\n",
              "                                                     [key], {});\n",
              "          if (!dataTable) return;\n",
              "\n",
              "          const docLinkHtml = 'Like what you see? Visit the ' +\n",
              "            '<a target=\"_blank\" href=https://colab.research.google.com/notebooks/data_table.ipynb>data table notebook</a>'\n",
              "            + ' to learn more about interactive tables.';\n",
              "          element.innerHTML = '';\n",
              "          dataTable['output_type'] = 'display_data';\n",
              "          await google.colab.output.renderOutput(dataTable, element);\n",
              "          const docLink = document.createElement('div');\n",
              "          docLink.innerHTML = docLinkHtml;\n",
              "          element.appendChild(docLink);\n",
              "        }\n",
              "      </script>\n",
              "    </div>\n",
              "  </div>\n",
              "  "
            ]
          },
          "metadata": {},
          "execution_count": 54
        }
      ],
      "source": [
        "submit"
      ],
      "id": "2875bcba-91d1-4ecc-a839-370a16f14b54"
    },
    {
      "cell_type": "code",
      "execution_count": 55,
      "metadata": {
        "id": "58d59d36-c023-4ded-8734-bd7cef2efc01"
      },
      "outputs": [],
      "source": [
        "submit.to_csv('./submit.csv', index=False)"
      ],
      "id": "58d59d36-c023-4ded-8734-bd7cef2efc01"
    },
    {
      "cell_type": "code",
      "execution_count": null,
      "metadata": {
        "id": "Tz43_sdfPE8j"
      },
      "outputs": [],
      "source": [],
      "id": "Tz43_sdfPE8j"
    }
  ],
  "metadata": {
    "colab": {
      "provenance": []
    },
    "kernelspec": {
      "display_name": "Python 3 (ipykernel)",
      "language": "python",
      "name": "python3"
    },
    "language_info": {
      "codemirror_mode": {
        "name": "ipython",
        "version": 3
      },
      "file_extension": ".py",
      "mimetype": "text/x-python",
      "name": "python",
      "nbconvert_exporter": "python",
      "pygments_lexer": "ipython3",
      "version": "3.8.3"
    }
  },
  "nbformat": 4,
  "nbformat_minor": 5
}