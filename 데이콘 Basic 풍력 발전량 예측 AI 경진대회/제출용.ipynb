{
  "nbformat": 4,
  "nbformat_minor": 0,
  "metadata": {
    "colab": {
      "provenance": []
    },
    "kernelspec": {
      "name": "python3",
      "display_name": "Python 3"
    },
    "language_info": {
      "name": "python"
    }
  },
  "cells": [
    {
      "cell_type": "markdown",
      "source": [
        "# 0. 라이브러리 및 데이터 불러오기"
      ],
      "metadata": {
        "id": "dY-8kh8QZokj"
      }
    },
    {
      "cell_type": "code",
      "source": [
        "import pandas as pd\n",
        "import random\n",
        "import os\n",
        "import numpy as np\n",
        "\n",
        "from sklearn.preprocessing import LabelEncoder\n",
        "from sklearn.linear_model import LinearRegression\n",
        "\n",
        "from sklearn.model_selection import train_test_split\n",
        "\n",
        "import seaborn as sns\n",
        "import matplotlib as mpl\n",
        "import matplotlib.pyplot as plt\n",
        "\n",
        "from sklearn.model_selection import train_test_split\n",
        "\n",
        "from sklearn.metrics import mean_absolute_error"
      ],
      "metadata": {
        "id": "RV-x7WwaZoD_"
      },
      "execution_count": 1,
      "outputs": []
    },
    {
      "cell_type": "code",
      "source": [
        "import random\n",
        "import pandas as pd\n",
        "import numpy as np\n",
        "import seaborn as sns"
      ],
      "metadata": {
        "id": "0Y6sLg9pZubM"
      },
      "execution_count": 2,
      "outputs": []
    },
    {
      "cell_type": "code",
      "source": [
        "from sklearn.ensemble import ExtraTreesRegressor"
      ],
      "metadata": {
        "id": "0vrk8MK5ZwWB"
      },
      "execution_count": 3,
      "outputs": []
    },
    {
      "cell_type": "code",
      "source": [
        "le = LabelEncoder()"
      ],
      "metadata": {
        "id": "CxAvvsUyZyvp"
      },
      "execution_count": 4,
      "outputs": []
    },
    {
      "cell_type": "code",
      "source": [
        "from google.colab import drive\n",
        "drive.mount('/content/gdrive/')"
      ],
      "metadata": {
        "colab": {
          "base_uri": "https://localhost:8080/"
        },
        "id": "X0NcBSipZ0G9",
        "outputId": "b0e2e480-63a4-4eef-a64d-b2667ffa04aa"
      },
      "execution_count": 5,
      "outputs": [
        {
          "output_type": "stream",
          "name": "stdout",
          "text": [
            "Drive already mounted at /content/gdrive/; to attempt to forcibly remount, call drive.mount(\"/content/gdrive/\", force_remount=True).\n"
          ]
        }
      ]
    },
    {
      "cell_type": "code",
      "source": [
        "def seed_everything(seed):\n",
        "    random.seed(seed)\n",
        "    os.environ['PYTHONHASHSEED'] = str(seed)\n",
        "    np.random.seed(seed)\n",
        "\n",
        "seed_everything(42) # Seed 고정"
      ],
      "metadata": {
        "id": "oTHoC-mDZ3IN"
      },
      "execution_count": 6,
      "outputs": []
    },
    {
      "cell_type": "code",
      "source": [
        "!unzip -qq \"/content/gdrive/MyDrive/풍력 대회.zip\""
      ],
      "metadata": {
        "id": "rkueyM-CZ417"
      },
      "execution_count": 8,
      "outputs": []
    },
    {
      "cell_type": "code",
      "execution_count": 7,
      "metadata": {
        "id": "MvFzqTm6Zfpb"
      },
      "outputs": [],
      "source": [
        "train = pd.read_csv('./train.csv')\n",
        "test = pd.read_csv('./test.csv')"
      ]
    },
    {
      "cell_type": "code",
      "source": [
        "train"
      ],
      "metadata": {
        "colab": {
          "base_uri": "https://localhost:8080/",
          "height": 423
        },
        "id": "j6XCmNK8Z8aK",
        "outputId": "b110796d-a604-4327-a7ac-8eebc492537c"
      },
      "execution_count": 8,
      "outputs": [
        {
          "output_type": "execute_result",
          "data": {
            "text/plain": [
              "                id  temperature  pressure  humidity  wind_speed  \\\n",
              "0      TRAIN_00000    27.881600    1013.6      46.8         2.4   \n",
              "1      TRAIN_00001     5.754000    1026.6      76.6         3.6   \n",
              "2      TRAIN_00002    20.822000    1016.2      64.8         2.2   \n",
              "3      TRAIN_00003    20.075800    1017.4      72.6         0.8   \n",
              "4      TRAIN_00004     7.526000    1023.2      82.8         1.2   \n",
              "...            ...          ...       ...       ...         ...   \n",
              "19270  TRAIN_19270    12.020000    1023.8      81.4         1.6   \n",
              "19271  TRAIN_19271    17.232000     993.2      78.2         2.0   \n",
              "19272  TRAIN_19272    13.748000     999.8      65.0         6.4   \n",
              "19273  TRAIN_19273    19.354000    1019.4      45.4         2.4   \n",
              "19274  TRAIN_19274    13.731863    1004.2      81.6         2.0   \n",
              "\n",
              "       wind_direction  precipitation  snowing  cloudiness  target  \n",
              "0               232.4           0.00    False         0.0   1.180  \n",
              "1               172.0           0.00    False         8.8   8.581  \n",
              "2               206.0           0.06    False        23.0   3.978  \n",
              "3               215.4           0.00    False         0.0   8.301  \n",
              "4               158.0           0.00    False        15.0   1.692  \n",
              "...               ...            ...      ...         ...     ...  \n",
              "19270           176.0           0.00    False         0.0   7.047  \n",
              "19271           198.0           0.06    False        26.4   3.670  \n",
              "19272           260.0           0.36    False        53.0   3.328  \n",
              "19273           120.0           0.06    False        20.0  12.379  \n",
              "19274           222.2           0.06    False        44.2   6.374  \n",
              "\n",
              "[19275 rows x 10 columns]"
            ],
            "text/html": [
              "\n",
              "  <div id=\"df-c9483c9a-19a5-479f-a52b-822337670d6f\">\n",
              "    <div class=\"colab-df-container\">\n",
              "      <div>\n",
              "<style scoped>\n",
              "    .dataframe tbody tr th:only-of-type {\n",
              "        vertical-align: middle;\n",
              "    }\n",
              "\n",
              "    .dataframe tbody tr th {\n",
              "        vertical-align: top;\n",
              "    }\n",
              "\n",
              "    .dataframe thead th {\n",
              "        text-align: right;\n",
              "    }\n",
              "</style>\n",
              "<table border=\"1\" class=\"dataframe\">\n",
              "  <thead>\n",
              "    <tr style=\"text-align: right;\">\n",
              "      <th></th>\n",
              "      <th>id</th>\n",
              "      <th>temperature</th>\n",
              "      <th>pressure</th>\n",
              "      <th>humidity</th>\n",
              "      <th>wind_speed</th>\n",
              "      <th>wind_direction</th>\n",
              "      <th>precipitation</th>\n",
              "      <th>snowing</th>\n",
              "      <th>cloudiness</th>\n",
              "      <th>target</th>\n",
              "    </tr>\n",
              "  </thead>\n",
              "  <tbody>\n",
              "    <tr>\n",
              "      <th>0</th>\n",
              "      <td>TRAIN_00000</td>\n",
              "      <td>27.881600</td>\n",
              "      <td>1013.6</td>\n",
              "      <td>46.8</td>\n",
              "      <td>2.4</td>\n",
              "      <td>232.4</td>\n",
              "      <td>0.00</td>\n",
              "      <td>False</td>\n",
              "      <td>0.0</td>\n",
              "      <td>1.180</td>\n",
              "    </tr>\n",
              "    <tr>\n",
              "      <th>1</th>\n",
              "      <td>TRAIN_00001</td>\n",
              "      <td>5.754000</td>\n",
              "      <td>1026.6</td>\n",
              "      <td>76.6</td>\n",
              "      <td>3.6</td>\n",
              "      <td>172.0</td>\n",
              "      <td>0.00</td>\n",
              "      <td>False</td>\n",
              "      <td>8.8</td>\n",
              "      <td>8.581</td>\n",
              "    </tr>\n",
              "    <tr>\n",
              "      <th>2</th>\n",
              "      <td>TRAIN_00002</td>\n",
              "      <td>20.822000</td>\n",
              "      <td>1016.2</td>\n",
              "      <td>64.8</td>\n",
              "      <td>2.2</td>\n",
              "      <td>206.0</td>\n",
              "      <td>0.06</td>\n",
              "      <td>False</td>\n",
              "      <td>23.0</td>\n",
              "      <td>3.978</td>\n",
              "    </tr>\n",
              "    <tr>\n",
              "      <th>3</th>\n",
              "      <td>TRAIN_00003</td>\n",
              "      <td>20.075800</td>\n",
              "      <td>1017.4</td>\n",
              "      <td>72.6</td>\n",
              "      <td>0.8</td>\n",
              "      <td>215.4</td>\n",
              "      <td>0.00</td>\n",
              "      <td>False</td>\n",
              "      <td>0.0</td>\n",
              "      <td>8.301</td>\n",
              "    </tr>\n",
              "    <tr>\n",
              "      <th>4</th>\n",
              "      <td>TRAIN_00004</td>\n",
              "      <td>7.526000</td>\n",
              "      <td>1023.2</td>\n",
              "      <td>82.8</td>\n",
              "      <td>1.2</td>\n",
              "      <td>158.0</td>\n",
              "      <td>0.00</td>\n",
              "      <td>False</td>\n",
              "      <td>15.0</td>\n",
              "      <td>1.692</td>\n",
              "    </tr>\n",
              "    <tr>\n",
              "      <th>...</th>\n",
              "      <td>...</td>\n",
              "      <td>...</td>\n",
              "      <td>...</td>\n",
              "      <td>...</td>\n",
              "      <td>...</td>\n",
              "      <td>...</td>\n",
              "      <td>...</td>\n",
              "      <td>...</td>\n",
              "      <td>...</td>\n",
              "      <td>...</td>\n",
              "    </tr>\n",
              "    <tr>\n",
              "      <th>19270</th>\n",
              "      <td>TRAIN_19270</td>\n",
              "      <td>12.020000</td>\n",
              "      <td>1023.8</td>\n",
              "      <td>81.4</td>\n",
              "      <td>1.6</td>\n",
              "      <td>176.0</td>\n",
              "      <td>0.00</td>\n",
              "      <td>False</td>\n",
              "      <td>0.0</td>\n",
              "      <td>7.047</td>\n",
              "    </tr>\n",
              "    <tr>\n",
              "      <th>19271</th>\n",
              "      <td>TRAIN_19271</td>\n",
              "      <td>17.232000</td>\n",
              "      <td>993.2</td>\n",
              "      <td>78.2</td>\n",
              "      <td>2.0</td>\n",
              "      <td>198.0</td>\n",
              "      <td>0.06</td>\n",
              "      <td>False</td>\n",
              "      <td>26.4</td>\n",
              "      <td>3.670</td>\n",
              "    </tr>\n",
              "    <tr>\n",
              "      <th>19272</th>\n",
              "      <td>TRAIN_19272</td>\n",
              "      <td>13.748000</td>\n",
              "      <td>999.8</td>\n",
              "      <td>65.0</td>\n",
              "      <td>6.4</td>\n",
              "      <td>260.0</td>\n",
              "      <td>0.36</td>\n",
              "      <td>False</td>\n",
              "      <td>53.0</td>\n",
              "      <td>3.328</td>\n",
              "    </tr>\n",
              "    <tr>\n",
              "      <th>19273</th>\n",
              "      <td>TRAIN_19273</td>\n",
              "      <td>19.354000</td>\n",
              "      <td>1019.4</td>\n",
              "      <td>45.4</td>\n",
              "      <td>2.4</td>\n",
              "      <td>120.0</td>\n",
              "      <td>0.06</td>\n",
              "      <td>False</td>\n",
              "      <td>20.0</td>\n",
              "      <td>12.379</td>\n",
              "    </tr>\n",
              "    <tr>\n",
              "      <th>19274</th>\n",
              "      <td>TRAIN_19274</td>\n",
              "      <td>13.731863</td>\n",
              "      <td>1004.2</td>\n",
              "      <td>81.6</td>\n",
              "      <td>2.0</td>\n",
              "      <td>222.2</td>\n",
              "      <td>0.06</td>\n",
              "      <td>False</td>\n",
              "      <td>44.2</td>\n",
              "      <td>6.374</td>\n",
              "    </tr>\n",
              "  </tbody>\n",
              "</table>\n",
              "<p>19275 rows × 10 columns</p>\n",
              "</div>\n",
              "      <button class=\"colab-df-convert\" onclick=\"convertToInteractive('df-c9483c9a-19a5-479f-a52b-822337670d6f')\"\n",
              "              title=\"Convert this dataframe to an interactive table.\"\n",
              "              style=\"display:none;\">\n",
              "        \n",
              "  <svg xmlns=\"http://www.w3.org/2000/svg\" height=\"24px\"viewBox=\"0 0 24 24\"\n",
              "       width=\"24px\">\n",
              "    <path d=\"M0 0h24v24H0V0z\" fill=\"none\"/>\n",
              "    <path d=\"M18.56 5.44l.94 2.06.94-2.06 2.06-.94-2.06-.94-.94-2.06-.94 2.06-2.06.94zm-11 1L8.5 8.5l.94-2.06 2.06-.94-2.06-.94L8.5 2.5l-.94 2.06-2.06.94zm10 10l.94 2.06.94-2.06 2.06-.94-2.06-.94-.94-2.06-.94 2.06-2.06.94z\"/><path d=\"M17.41 7.96l-1.37-1.37c-.4-.4-.92-.59-1.43-.59-.52 0-1.04.2-1.43.59L10.3 9.45l-7.72 7.72c-.78.78-.78 2.05 0 2.83L4 21.41c.39.39.9.59 1.41.59.51 0 1.02-.2 1.41-.59l7.78-7.78 2.81-2.81c.8-.78.8-2.07 0-2.86zM5.41 20L4 18.59l7.72-7.72 1.47 1.35L5.41 20z\"/>\n",
              "  </svg>\n",
              "      </button>\n",
              "      \n",
              "  <style>\n",
              "    .colab-df-container {\n",
              "      display:flex;\n",
              "      flex-wrap:wrap;\n",
              "      gap: 12px;\n",
              "    }\n",
              "\n",
              "    .colab-df-convert {\n",
              "      background-color: #E8F0FE;\n",
              "      border: none;\n",
              "      border-radius: 50%;\n",
              "      cursor: pointer;\n",
              "      display: none;\n",
              "      fill: #1967D2;\n",
              "      height: 32px;\n",
              "      padding: 0 0 0 0;\n",
              "      width: 32px;\n",
              "    }\n",
              "\n",
              "    .colab-df-convert:hover {\n",
              "      background-color: #E2EBFA;\n",
              "      box-shadow: 0px 1px 2px rgba(60, 64, 67, 0.3), 0px 1px 3px 1px rgba(60, 64, 67, 0.15);\n",
              "      fill: #174EA6;\n",
              "    }\n",
              "\n",
              "    [theme=dark] .colab-df-convert {\n",
              "      background-color: #3B4455;\n",
              "      fill: #D2E3FC;\n",
              "    }\n",
              "\n",
              "    [theme=dark] .colab-df-convert:hover {\n",
              "      background-color: #434B5C;\n",
              "      box-shadow: 0px 1px 3px 1px rgba(0, 0, 0, 0.15);\n",
              "      filter: drop-shadow(0px 1px 2px rgba(0, 0, 0, 0.3));\n",
              "      fill: #FFFFFF;\n",
              "    }\n",
              "  </style>\n",
              "\n",
              "      <script>\n",
              "        const buttonEl =\n",
              "          document.querySelector('#df-c9483c9a-19a5-479f-a52b-822337670d6f button.colab-df-convert');\n",
              "        buttonEl.style.display =\n",
              "          google.colab.kernel.accessAllowed ? 'block' : 'none';\n",
              "\n",
              "        async function convertToInteractive(key) {\n",
              "          const element = document.querySelector('#df-c9483c9a-19a5-479f-a52b-822337670d6f');\n",
              "          const dataTable =\n",
              "            await google.colab.kernel.invokeFunction('convertToInteractive',\n",
              "                                                     [key], {});\n",
              "          if (!dataTable) return;\n",
              "\n",
              "          const docLinkHtml = 'Like what you see? Visit the ' +\n",
              "            '<a target=\"_blank\" href=https://colab.research.google.com/notebooks/data_table.ipynb>data table notebook</a>'\n",
              "            + ' to learn more about interactive tables.';\n",
              "          element.innerHTML = '';\n",
              "          dataTable['output_type'] = 'display_data';\n",
              "          await google.colab.output.renderOutput(dataTable, element);\n",
              "          const docLink = document.createElement('div');\n",
              "          docLink.innerHTML = docLinkHtml;\n",
              "          element.appendChild(docLink);\n",
              "        }\n",
              "      </script>\n",
              "    </div>\n",
              "  </div>\n",
              "  "
            ]
          },
          "metadata": {},
          "execution_count": 8
        }
      ]
    },
    {
      "cell_type": "code",
      "source": [
        "test"
      ],
      "metadata": {
        "colab": {
          "base_uri": "https://localhost:8080/",
          "height": 423
        },
        "id": "xa7Mg92RZ892",
        "outputId": "edf0ae97-825a-4f57-bd3c-4ba84bcc01ca"
      },
      "execution_count": 9,
      "outputs": [
        {
          "output_type": "execute_result",
          "data": {
            "text/plain": [
              "               id  temperature  pressure  humidity  wind_speed  \\\n",
              "0      TEST_00000    20.702000    1021.0      76.4         2.0   \n",
              "1      TEST_00001    18.673669    1014.4      59.6         2.4   \n",
              "2      TEST_00002    29.908000    1020.6      49.6         2.6   \n",
              "3      TEST_00003    24.504000    1014.6      61.0         1.8   \n",
              "4      TEST_00004    12.590000    1011.4      70.8         1.8   \n",
              "...           ...          ...       ...       ...         ...   \n",
              "19270  TEST_19270    25.180000    1020.2      64.8         1.6   \n",
              "19271  TEST_19271    16.940000    1022.6      72.4         1.8   \n",
              "19272  TEST_19272     9.032000    1036.4      94.4         2.2   \n",
              "19273  TEST_19273    15.774000    1021.8      79.0         0.8   \n",
              "19274  TEST_19274    12.946000    1020.4      76.4         1.0   \n",
              "\n",
              "       wind_direction  precipitation  snowing  cloudiness  \n",
              "0               104.8           0.00    False        23.0  \n",
              "1               179.2           0.12    False        32.4  \n",
              "2                78.0           0.60    False        23.0  \n",
              "3               118.0           0.00    False        15.0  \n",
              "4               110.0           0.12    False        34.0  \n",
              "...               ...            ...      ...         ...  \n",
              "19270           122.0           0.00    False        34.0  \n",
              "19271           245.6           0.00    False        19.0  \n",
              "19272           219.2           0.00    False        18.0  \n",
              "19273           182.0           0.00    False        27.0  \n",
              "19274           128.0           0.00    False        18.4  \n",
              "\n",
              "[19275 rows x 9 columns]"
            ],
            "text/html": [
              "\n",
              "  <div id=\"df-78ed60b3-8d2c-4e43-b256-81090bf89c49\">\n",
              "    <div class=\"colab-df-container\">\n",
              "      <div>\n",
              "<style scoped>\n",
              "    .dataframe tbody tr th:only-of-type {\n",
              "        vertical-align: middle;\n",
              "    }\n",
              "\n",
              "    .dataframe tbody tr th {\n",
              "        vertical-align: top;\n",
              "    }\n",
              "\n",
              "    .dataframe thead th {\n",
              "        text-align: right;\n",
              "    }\n",
              "</style>\n",
              "<table border=\"1\" class=\"dataframe\">\n",
              "  <thead>\n",
              "    <tr style=\"text-align: right;\">\n",
              "      <th></th>\n",
              "      <th>id</th>\n",
              "      <th>temperature</th>\n",
              "      <th>pressure</th>\n",
              "      <th>humidity</th>\n",
              "      <th>wind_speed</th>\n",
              "      <th>wind_direction</th>\n",
              "      <th>precipitation</th>\n",
              "      <th>snowing</th>\n",
              "      <th>cloudiness</th>\n",
              "    </tr>\n",
              "  </thead>\n",
              "  <tbody>\n",
              "    <tr>\n",
              "      <th>0</th>\n",
              "      <td>TEST_00000</td>\n",
              "      <td>20.702000</td>\n",
              "      <td>1021.0</td>\n",
              "      <td>76.4</td>\n",
              "      <td>2.0</td>\n",
              "      <td>104.8</td>\n",
              "      <td>0.00</td>\n",
              "      <td>False</td>\n",
              "      <td>23.0</td>\n",
              "    </tr>\n",
              "    <tr>\n",
              "      <th>1</th>\n",
              "      <td>TEST_00001</td>\n",
              "      <td>18.673669</td>\n",
              "      <td>1014.4</td>\n",
              "      <td>59.6</td>\n",
              "      <td>2.4</td>\n",
              "      <td>179.2</td>\n",
              "      <td>0.12</td>\n",
              "      <td>False</td>\n",
              "      <td>32.4</td>\n",
              "    </tr>\n",
              "    <tr>\n",
              "      <th>2</th>\n",
              "      <td>TEST_00002</td>\n",
              "      <td>29.908000</td>\n",
              "      <td>1020.6</td>\n",
              "      <td>49.6</td>\n",
              "      <td>2.6</td>\n",
              "      <td>78.0</td>\n",
              "      <td>0.60</td>\n",
              "      <td>False</td>\n",
              "      <td>23.0</td>\n",
              "    </tr>\n",
              "    <tr>\n",
              "      <th>3</th>\n",
              "      <td>TEST_00003</td>\n",
              "      <td>24.504000</td>\n",
              "      <td>1014.6</td>\n",
              "      <td>61.0</td>\n",
              "      <td>1.8</td>\n",
              "      <td>118.0</td>\n",
              "      <td>0.00</td>\n",
              "      <td>False</td>\n",
              "      <td>15.0</td>\n",
              "    </tr>\n",
              "    <tr>\n",
              "      <th>4</th>\n",
              "      <td>TEST_00004</td>\n",
              "      <td>12.590000</td>\n",
              "      <td>1011.4</td>\n",
              "      <td>70.8</td>\n",
              "      <td>1.8</td>\n",
              "      <td>110.0</td>\n",
              "      <td>0.12</td>\n",
              "      <td>False</td>\n",
              "      <td>34.0</td>\n",
              "    </tr>\n",
              "    <tr>\n",
              "      <th>...</th>\n",
              "      <td>...</td>\n",
              "      <td>...</td>\n",
              "      <td>...</td>\n",
              "      <td>...</td>\n",
              "      <td>...</td>\n",
              "      <td>...</td>\n",
              "      <td>...</td>\n",
              "      <td>...</td>\n",
              "      <td>...</td>\n",
              "    </tr>\n",
              "    <tr>\n",
              "      <th>19270</th>\n",
              "      <td>TEST_19270</td>\n",
              "      <td>25.180000</td>\n",
              "      <td>1020.2</td>\n",
              "      <td>64.8</td>\n",
              "      <td>1.6</td>\n",
              "      <td>122.0</td>\n",
              "      <td>0.00</td>\n",
              "      <td>False</td>\n",
              "      <td>34.0</td>\n",
              "    </tr>\n",
              "    <tr>\n",
              "      <th>19271</th>\n",
              "      <td>TEST_19271</td>\n",
              "      <td>16.940000</td>\n",
              "      <td>1022.6</td>\n",
              "      <td>72.4</td>\n",
              "      <td>1.8</td>\n",
              "      <td>245.6</td>\n",
              "      <td>0.00</td>\n",
              "      <td>False</td>\n",
              "      <td>19.0</td>\n",
              "    </tr>\n",
              "    <tr>\n",
              "      <th>19272</th>\n",
              "      <td>TEST_19272</td>\n",
              "      <td>9.032000</td>\n",
              "      <td>1036.4</td>\n",
              "      <td>94.4</td>\n",
              "      <td>2.2</td>\n",
              "      <td>219.2</td>\n",
              "      <td>0.00</td>\n",
              "      <td>False</td>\n",
              "      <td>18.0</td>\n",
              "    </tr>\n",
              "    <tr>\n",
              "      <th>19273</th>\n",
              "      <td>TEST_19273</td>\n",
              "      <td>15.774000</td>\n",
              "      <td>1021.8</td>\n",
              "      <td>79.0</td>\n",
              "      <td>0.8</td>\n",
              "      <td>182.0</td>\n",
              "      <td>0.00</td>\n",
              "      <td>False</td>\n",
              "      <td>27.0</td>\n",
              "    </tr>\n",
              "    <tr>\n",
              "      <th>19274</th>\n",
              "      <td>TEST_19274</td>\n",
              "      <td>12.946000</td>\n",
              "      <td>1020.4</td>\n",
              "      <td>76.4</td>\n",
              "      <td>1.0</td>\n",
              "      <td>128.0</td>\n",
              "      <td>0.00</td>\n",
              "      <td>False</td>\n",
              "      <td>18.4</td>\n",
              "    </tr>\n",
              "  </tbody>\n",
              "</table>\n",
              "<p>19275 rows × 9 columns</p>\n",
              "</div>\n",
              "      <button class=\"colab-df-convert\" onclick=\"convertToInteractive('df-78ed60b3-8d2c-4e43-b256-81090bf89c49')\"\n",
              "              title=\"Convert this dataframe to an interactive table.\"\n",
              "              style=\"display:none;\">\n",
              "        \n",
              "  <svg xmlns=\"http://www.w3.org/2000/svg\" height=\"24px\"viewBox=\"0 0 24 24\"\n",
              "       width=\"24px\">\n",
              "    <path d=\"M0 0h24v24H0V0z\" fill=\"none\"/>\n",
              "    <path d=\"M18.56 5.44l.94 2.06.94-2.06 2.06-.94-2.06-.94-.94-2.06-.94 2.06-2.06.94zm-11 1L8.5 8.5l.94-2.06 2.06-.94-2.06-.94L8.5 2.5l-.94 2.06-2.06.94zm10 10l.94 2.06.94-2.06 2.06-.94-2.06-.94-.94-2.06-.94 2.06-2.06.94z\"/><path d=\"M17.41 7.96l-1.37-1.37c-.4-.4-.92-.59-1.43-.59-.52 0-1.04.2-1.43.59L10.3 9.45l-7.72 7.72c-.78.78-.78 2.05 0 2.83L4 21.41c.39.39.9.59 1.41.59.51 0 1.02-.2 1.41-.59l7.78-7.78 2.81-2.81c.8-.78.8-2.07 0-2.86zM5.41 20L4 18.59l7.72-7.72 1.47 1.35L5.41 20z\"/>\n",
              "  </svg>\n",
              "      </button>\n",
              "      \n",
              "  <style>\n",
              "    .colab-df-container {\n",
              "      display:flex;\n",
              "      flex-wrap:wrap;\n",
              "      gap: 12px;\n",
              "    }\n",
              "\n",
              "    .colab-df-convert {\n",
              "      background-color: #E8F0FE;\n",
              "      border: none;\n",
              "      border-radius: 50%;\n",
              "      cursor: pointer;\n",
              "      display: none;\n",
              "      fill: #1967D2;\n",
              "      height: 32px;\n",
              "      padding: 0 0 0 0;\n",
              "      width: 32px;\n",
              "    }\n",
              "\n",
              "    .colab-df-convert:hover {\n",
              "      background-color: #E2EBFA;\n",
              "      box-shadow: 0px 1px 2px rgba(60, 64, 67, 0.3), 0px 1px 3px 1px rgba(60, 64, 67, 0.15);\n",
              "      fill: #174EA6;\n",
              "    }\n",
              "\n",
              "    [theme=dark] .colab-df-convert {\n",
              "      background-color: #3B4455;\n",
              "      fill: #D2E3FC;\n",
              "    }\n",
              "\n",
              "    [theme=dark] .colab-df-convert:hover {\n",
              "      background-color: #434B5C;\n",
              "      box-shadow: 0px 1px 3px 1px rgba(0, 0, 0, 0.15);\n",
              "      filter: drop-shadow(0px 1px 2px rgba(0, 0, 0, 0.3));\n",
              "      fill: #FFFFFF;\n",
              "    }\n",
              "  </style>\n",
              "\n",
              "      <script>\n",
              "        const buttonEl =\n",
              "          document.querySelector('#df-78ed60b3-8d2c-4e43-b256-81090bf89c49 button.colab-df-convert');\n",
              "        buttonEl.style.display =\n",
              "          google.colab.kernel.accessAllowed ? 'block' : 'none';\n",
              "\n",
              "        async function convertToInteractive(key) {\n",
              "          const element = document.querySelector('#df-78ed60b3-8d2c-4e43-b256-81090bf89c49');\n",
              "          const dataTable =\n",
              "            await google.colab.kernel.invokeFunction('convertToInteractive',\n",
              "                                                     [key], {});\n",
              "          if (!dataTable) return;\n",
              "\n",
              "          const docLinkHtml = 'Like what you see? Visit the ' +\n",
              "            '<a target=\"_blank\" href=https://colab.research.google.com/notebooks/data_table.ipynb>data table notebook</a>'\n",
              "            + ' to learn more about interactive tables.';\n",
              "          element.innerHTML = '';\n",
              "          dataTable['output_type'] = 'display_data';\n",
              "          await google.colab.output.renderOutput(dataTable, element);\n",
              "          const docLink = document.createElement('div');\n",
              "          docLink.innerHTML = docLinkHtml;\n",
              "          element.appendChild(docLink);\n",
              "        }\n",
              "      </script>\n",
              "    </div>\n",
              "  </div>\n",
              "  "
            ]
          },
          "metadata": {},
          "execution_count": 9
        }
      ]
    },
    {
      "cell_type": "code",
      "source": [
        "train.info()"
      ],
      "metadata": {
        "colab": {
          "base_uri": "https://localhost:8080/"
        },
        "id": "hvDCx63KZ9kw",
        "outputId": "6c3041e2-fe13-4a41-b98d-2c96c6add816"
      },
      "execution_count": 10,
      "outputs": [
        {
          "output_type": "stream",
          "name": "stdout",
          "text": [
            "<class 'pandas.core.frame.DataFrame'>\n",
            "RangeIndex: 19275 entries, 0 to 19274\n",
            "Data columns (total 10 columns):\n",
            " #   Column          Non-Null Count  Dtype  \n",
            "---  ------          --------------  -----  \n",
            " 0   id              19275 non-null  object \n",
            " 1   temperature     19275 non-null  float64\n",
            " 2   pressure        19275 non-null  float64\n",
            " 3   humidity        19275 non-null  float64\n",
            " 4   wind_speed      19275 non-null  float64\n",
            " 5   wind_direction  19275 non-null  float64\n",
            " 6   precipitation   19275 non-null  float64\n",
            " 7   snowing         19275 non-null  bool   \n",
            " 8   cloudiness      19275 non-null  float64\n",
            " 9   target          19275 non-null  float64\n",
            "dtypes: bool(1), float64(8), object(1)\n",
            "memory usage: 1.3+ MB\n"
          ]
        }
      ]
    },
    {
      "cell_type": "code",
      "source": [
        "test.info()"
      ],
      "metadata": {
        "colab": {
          "base_uri": "https://localhost:8080/"
        },
        "id": "Tz3dJUzSZ_sM",
        "outputId": "869b8650-b110-44c8-927a-44e6a3442566"
      },
      "execution_count": 11,
      "outputs": [
        {
          "output_type": "stream",
          "name": "stdout",
          "text": [
            "<class 'pandas.core.frame.DataFrame'>\n",
            "RangeIndex: 19275 entries, 0 to 19274\n",
            "Data columns (total 9 columns):\n",
            " #   Column          Non-Null Count  Dtype  \n",
            "---  ------          --------------  -----  \n",
            " 0   id              19275 non-null  object \n",
            " 1   temperature     19275 non-null  float64\n",
            " 2   pressure        19275 non-null  float64\n",
            " 3   humidity        19275 non-null  float64\n",
            " 4   wind_speed      19275 non-null  float64\n",
            " 5   wind_direction  19275 non-null  float64\n",
            " 6   precipitation   19275 non-null  float64\n",
            " 7   snowing         19275 non-null  bool   \n",
            " 8   cloudiness      19275 non-null  float64\n",
            "dtypes: bool(1), float64(7), object(1)\n",
            "memory usage: 1.2+ MB\n"
          ]
        }
      ]
    },
    {
      "cell_type": "markdown",
      "source": [
        "결측치는 없음."
      ],
      "metadata": {
        "id": "ju_BpIQeaBfQ"
      }
    },
    {
      "cell_type": "markdown",
      "source": [
        "# 1. 전처리"
      ],
      "metadata": {
        "id": "FfyZqlPuaDzv"
      }
    },
    {
      "cell_type": "code",
      "source": [
        "sns.boxplot(x='pressure', data=train)"
      ],
      "metadata": {
        "colab": {
          "base_uri": "https://localhost:8080/",
          "height": 297
        },
        "id": "xBm1mM1jaAml",
        "outputId": "28ae91e5-c686-4ccc-b7d1-3d4f00755dcd"
      },
      "execution_count": 12,
      "outputs": [
        {
          "output_type": "execute_result",
          "data": {
            "text/plain": [
              "<AxesSubplot:xlabel='pressure'>"
            ]
          },
          "metadata": {},
          "execution_count": 12
        },
        {
          "output_type": "display_data",
          "data": {
            "text/plain": [
              "<Figure size 432x288 with 1 Axes>"
            ],
            "image/png": "[encoded data removed]"
          },
          "metadata": {
            "needs_background": "light"
          }
        }
      ]
    },
    {
      "cell_type": "code",
      "source": [
        "sns.boxplot(x='pressure', data=test)"
      ],
      "metadata": {
        "colab": {
          "base_uri": "https://localhost:8080/",
          "height": 297
        },
        "id": "ojVljjQHaM5t",
        "outputId": "8bb10149-32af-41d4-b91d-00cfefb529f2"
      },
      "execution_count": 13,
      "outputs": [
        {
          "output_type": "execute_result",
          "data": {
            "text/plain": [
              "<AxesSubplot:xlabel='pressure'>"
            ]
          },
          "metadata": {},
          "execution_count": 13
        },
        {
          "output_type": "display_data",
          "data": {
            "text/plain": [
              "<Figure size 432x288 with 1 Axes>"
            ],
            "image/png": "[encoded data removed]"
          },
          "metadata": {
            "needs_background": "light"
          }
        }
      ]
    },
    {
      "cell_type": "markdown",
      "source": [
        "train과 test에 많은 이상치들이 잡힌다.\n",
        "\n",
        "이들을 이상치를 제외한 train 데이터의 pressure 칼럼 평균값으로 대체한다.(data leak를 피하기 위해 test역시 train데이터를 기준으로 전처리해줌.)\n",
        "\n",
        "여기서 기압의 이상치란, 보통 대기상에서 잡히는 기압이 최저 850에서 최대 1200hpa 정도이므로 850이하, 1200이상인 경우 이상치라고 처리한다."
      ],
      "metadata": {
        "id": "MwycZZf5an4M"
      }
    },
    {
      "cell_type": "code",
      "source": [
        "index_1 = train[train['pressure'] <=850].index\n",
        "for i in index_1:\n",
        "  train['pressure'][i] = 1016.152817\n",
        "index_1 = test[test['pressure'] <=850].index\n",
        "for i in index_1:\n",
        "  test['pressure'][i] = 1016.152817\n",
        "\n",
        "\n",
        "index_1 = train[train['pressure'] >=1100].index\n",
        "for i in index_1:\n",
        "  train['pressure'][i] = 1016.152817\n",
        "\n",
        "index_2 = test[test['pressure'] >=1200].index\n",
        "for i in index_2:\n",
        "  test['pressure'][i] = 1016.152817"
      ],
      "metadata": {
        "colab": {
          "base_uri": "https://localhost:8080/"
        },
        "id": "OuKbIMptanLK",
        "outputId": "3dbe177a-8c42-415c-95d5-ef786b516140"
      },
      "execution_count": 14,
      "outputs": [
        {
          "output_type": "stream",
          "name": "stderr",
          "text": [
            "<ipython-input-14-27795b154129>:3: SettingWithCopyWarning: \n",
            "A value is trying to be set on a copy of a slice from a DataFrame\n",
            "\n",
            "See the caveats in the documentation: https://pandas.pydata.org/pandas-docs/stable/user_guide/indexing.html#returning-a-view-versus-a-copy\n",
            "  train['pressure'][i] = 1016.152817\n",
            "<ipython-input-14-27795b154129>:6: SettingWithCopyWarning: \n",
            "A value is trying to be set on a copy of a slice from a DataFrame\n",
            "\n",
            "See the caveats in the documentation: https://pandas.pydata.org/pandas-docs/stable/user_guide/indexing.html#returning-a-view-versus-a-copy\n",
            "  test['pressure'][i] = 1016.152817\n",
            "<ipython-input-14-27795b154129>:11: SettingWithCopyWarning: \n",
            "A value is trying to be set on a copy of a slice from a DataFrame\n",
            "\n",
            "See the caveats in the documentation: https://pandas.pydata.org/pandas-docs/stable/user_guide/indexing.html#returning-a-view-versus-a-copy\n",
            "  train['pressure'][i] = 1016.152817\n",
            "<ipython-input-14-27795b154129>:15: SettingWithCopyWarning: \n",
            "A value is trying to be set on a copy of a slice from a DataFrame\n",
            "\n",
            "See the caveats in the documentation: https://pandas.pydata.org/pandas-docs/stable/user_guide/indexing.html#returning-a-view-versus-a-copy\n",
            "  test['pressure'][i] = 1016.152817\n"
          ]
        }
      ]
    },
    {
      "cell_type": "markdown",
      "source": [
        "# 2. 특성공학으로 파생변수 만들기"
      ],
      "metadata": {
        "id": "NuPufoRGbqrE"
      }
    },
    {
      "cell_type": "markdown",
      "source": [
        "## 2-1. 대기밀도"
      ],
      "metadata": {
        "id": "5JaF2Npjbvq3"
      }
    },
    {
      "cell_type": "code",
      "source": [
        "#대기밀도\n",
        "import math\n",
        "\n",
        "def air_density(pressure, temperature, relative_humidity):\n",
        "    \"\"\"\n",
        "    Calculate air density in kg/m^3 given pressure in Pa, temperature in K, and relative humidity as a fraction.\n",
        "    \"\"\"\n",
        "    # Calculate saturation vapor pressure\n",
        "    e_s = 6.1078 * 10 ** ((7.5 * temperature) / (temperature + 237.3))\n",
        "    # Calculate vapor pressure\n",
        "    e = relative_humidity * e_s\n",
        "    # Calculate dry air pressure\n",
        "    p_dry = pressure - e\n",
        "    # Calculate air density\n",
        "    rho = (p_dry / (287.058 * temperature)) + ((e / (287.058 * temperature)) * (1 - 0.378 * (e / p_dry)))\n",
        "    return rho\n",
        "  \n",
        "train['air_density'] = 0.0\n",
        "test['air_density'] = 0.0\n",
        "\n",
        "for i in range(19275):\n",
        "  train['air_density'][i] = air_density(train['pressure'][i],train['temperature'][i],train['humidity'][i])\n",
        "for i in range(19275):\n",
        "  test['air_density'][i] = air_density(test['pressure'][i],test['temperature'][i],test['humidity'][i])"
      ],
      "metadata": {
        "colab": {
          "base_uri": "https://localhost:8080/"
        },
        "id": "gOnwoCiybt2a",
        "outputId": "fe081c13-ff0f-4159-de93-3262dafc2305"
      },
      "execution_count": 17,
      "outputs": [
        {
          "output_type": "stream",
          "name": "stderr",
          "text": [
            "<ipython-input-17-afcd97f90199>:22: SettingWithCopyWarning: \n",
            "A value is trying to be set on a copy of a slice from a DataFrame\n",
            "\n",
            "See the caveats in the documentation: https://pandas.pydata.org/pandas-docs/stable/user_guide/indexing.html#returning-a-view-versus-a-copy\n",
            "  train['air_density'][i] = air_density(train['pressure'][i],train['temperature'][i],train['humidity'][i])\n",
            "<ipython-input-17-afcd97f90199>:24: SettingWithCopyWarning: \n",
            "A value is trying to be set on a copy of a slice from a DataFrame\n",
            "\n",
            "See the caveats in the documentation: https://pandas.pydata.org/pandas-docs/stable/user_guide/indexing.html#returning-a-view-versus-a-copy\n",
            "  test['air_density'][i] = air_density(test['pressure'][i],test['temperature'][i],test['humidity'][i])\n"
          ]
        }
      ]
    },
    {
      "cell_type": "markdown",
      "source": [
        "## 2-2. 절대습도"
      ],
      "metadata": {
        "id": "mws4e930b0oy"
      }
    },
    {
      "cell_type": "code",
      "source": [
        "#절대습도\n",
        "\n",
        "def calculate_absolute_humidity(wind_speed, wind_direction, temperature, pressure, humidity):\n",
        "\n",
        "    # Calculate dew point temperature\n",
        "    T = temperature\n",
        "    RH = 0.5  # Assuming relative humidity of 50%\n",
        "    a = 17.27\n",
        "    b = 237.7\n",
        "    alpha = ((a * T) / (b + T)) + math.log(RH)\n",
        "    dew_point = (b * alpha) / (a - alpha)\n",
        "\n",
        "    # Calculate saturation vapor pressure\n",
        "    e_s = 6.112 * math.exp((17.67 * dew_point) / (dew_point + 243.5))\n",
        "\n",
        "    # Calculate actual vapor pressure\n",
        "    e_a = e_s * (humidity / 100)\n",
        "\n",
        "    # Calculate absolute humidity\n",
        "    R_d = 287.058  # Specific gas constant for dry air\n",
        "    R_v = 461.495  # Specific gas constant for water vapor\n",
        "    T_K = temperature + 273.15  # Temperature in Kelvin\n",
        "    e_a_Pa = e_a * 100  # Convert vapor pressure to Pascals\n",
        "    rho_d = (pressure * 100) / (R_d * T_K)  # Density of dry air in kg/m^3\n",
        "    rho_v = (e_a_Pa / (R_v * T_K))  # Density of water vapor in kg/m^3\n",
        "    absolute_humidity = (rho_v / (rho_d + rho_v)) * 1000  # Absolute humidity in g/m^3\n",
        "\n",
        "    return absolute_humidity\n",
        "\n",
        "\n",
        "\n",
        "train['absolute_humidity'] = 0.0\n",
        "test['absolute_humidity'] = 0.0\n",
        "\n",
        "\n",
        "for i in range(19275):\n",
        "  train['absolute_humidity'][i] = calculate_absolute_humidity(train['wind_speed'][i],train['wind_direction'][i],train['temperature'][i],train['pressure'][i],train['humidity'][i])\n",
        "\n",
        "for i in range(19275):\n",
        "  test['absolute_humidity'][i] = calculate_absolute_humidity(test['wind_speed'][i],test['wind_direction'][i],test['temperature'][i],test['pressure'][i],test['humidity'][i])"
      ],
      "metadata": {
        "colab": {
          "base_uri": "https://localhost:8080/"
        },
        "id": "shVTCvQNb3JT",
        "outputId": "9479769a-99a4-4725-8e7e-fcdfc1379dc9"
      },
      "execution_count": 18,
      "outputs": [
        {
          "output_type": "stream",
          "name": "stderr",
          "text": [
            "<ipython-input-18-b1bd8ecc3b3a>:37: SettingWithCopyWarning: \n",
            "A value is trying to be set on a copy of a slice from a DataFrame\n",
            "\n",
            "See the caveats in the documentation: https://pandas.pydata.org/pandas-docs/stable/user_guide/indexing.html#returning-a-view-versus-a-copy\n",
            "  train['absolute_humidity'][i] = calculate_absolute_humidity(train['wind_speed'][i],train['wind_direction'][i],train['temperature'][i],train['pressure'][i],train['humidity'][i])\n",
            "<ipython-input-18-b1bd8ecc3b3a>:40: SettingWithCopyWarning: \n",
            "A value is trying to be set on a copy of a slice from a DataFrame\n",
            "\n",
            "See the caveats in the documentation: https://pandas.pydata.org/pandas-docs/stable/user_guide/indexing.html#returning-a-view-versus-a-copy\n",
            "  test['absolute_humidity'][i] = calculate_absolute_humidity(test['wind_speed'][i],test['wind_direction'][i],test['temperature'][i],test['pressure'][i],test['humidity'][i])\n"
          ]
        }
      ]
    },
    {
      "cell_type": "markdown",
      "source": [
        "## 2-3. 공기분압"
      ],
      "metadata": {
        "id": "S9__Nyn5b8y3"
      }
    },
    {
      "cell_type": "code",
      "source": [
        "#공기분압\n",
        "def calculate_air_pressure(pressure, temperature, relative_humidity):\n",
        "    R_d = 287.058  # Specific gas constant for dry air\n",
        "    R_v = 461.495  # Specific gas constant for water vapor\n",
        "    T_K = temperature + 273.15  # Temperature in Kelvin\n",
        "\n",
        "    # Calculate saturation vapor pressure\n",
        "    T_C = temperature  # Temperature in Celsius\n",
        "    e_s = 6.112 * math.exp((17.67 * T_C) / (T_C + 243.5))\n",
        "\n",
        "    # Calculate actual vapor pressure\n",
        "    e = e_s * (relative_humidity / 100)\n",
        "\n",
        "    # Calculate air density\n",
        "    rho_d = (pressure * 100) / (R_d * T_K)  # Density of dry air in kg/m^3\n",
        "    rho_v = (e * 100) / (R_v * T_K)  # Density of water vapor in kg/m^3\n",
        "    rho = rho_d + rho_v  # Total density of air in kg/m^3\n",
        "\n",
        "    # Calculate air pressure\n",
        "    air_pressure = rho * R_d * T_K / 100  # Air pressure in hPa\n",
        "\n",
        "    return air_pressure\n",
        "\n",
        "train['air_pressure'] = 0.0\n",
        "test['air_pressure'] = 0.0\n",
        "\n",
        "\n",
        "for i in range(19275):\n",
        "  train['air_pressure'][i] = calculate_air_pressure(train['pressure'][i],train['temperature'][i],train['humidity'][i])\n",
        "\n",
        "for i in range(19275):\n",
        "  test['air_pressure'][i] = calculate_air_pressure(test['pressure'][i],test['temperature'][i],test['humidity'][i])"
      ],
      "metadata": {
        "colab": {
          "base_uri": "https://localhost:8080/"
        },
        "id": "9-U6PXAhb97b",
        "outputId": "20306ff4-a46b-4553-8a62-3e6333a5e914"
      },
      "execution_count": 19,
      "outputs": [
        {
          "output_type": "stream",
          "name": "stderr",
          "text": [
            "<ipython-input-19-c77101926a14>:29: SettingWithCopyWarning: \n",
            "A value is trying to be set on a copy of a slice from a DataFrame\n",
            "\n",
            "See the caveats in the documentation: https://pandas.pydata.org/pandas-docs/stable/user_guide/indexing.html#returning-a-view-versus-a-copy\n",
            "  train['air_pressure'][i] = calculate_air_pressure(train['pressure'][i],train['temperature'][i],train['humidity'][i])\n",
            "<ipython-input-19-c77101926a14>:32: SettingWithCopyWarning: \n",
            "A value is trying to be set on a copy of a slice from a DataFrame\n",
            "\n",
            "See the caveats in the documentation: https://pandas.pydata.org/pandas-docs/stable/user_guide/indexing.html#returning-a-view-versus-a-copy\n",
            "  test['air_pressure'][i] = calculate_air_pressure(test['pressure'][i],test['temperature'][i],test['humidity'][i])\n"
          ]
        }
      ]
    },
    {
      "cell_type": "markdown",
      "source": [
        "# 3. 스케일링\n",
        "MaxAbsScaler() 사용"
      ],
      "metadata": {
        "id": "vwyAGec2cDME"
      }
    },
    {
      "cell_type": "code",
      "source": [
        " # X는 독립변수이므로 종속변수를 제거합니다. 또한 target 이외의 분석에 활용하지 않는 데이터(id)를 제거합니다.\n",
        "train_x = train.drop(columns=['id', 'target'])\n",
        " # y는 종속변수로 값을 설정합니다.\n",
        "train_y = train['target']\n",
        "\n",
        "# train에서와 마찬가지로 분석에 활용하지 않는 데이터(id)를 제거합니다.\n",
        "test_x = test.drop(columns=['id'])\n",
        "\n",
        "le = LabelEncoder()\n",
        "le = le.fit(train_x['snowing'])\n",
        "train_x['snowing'] = le.transform(train_x['snowing'])\n",
        "\n",
        "for label in np.unique(test_x['snowing']):\n",
        "    if label not in le.classes_:\n",
        "        le.classes_ = np.append(le.classes_, label)\n",
        "    test_x['snowing'] = le.transform(test_x['snowing'])\n",
        "print('Done.')"
      ],
      "metadata": {
        "colab": {
          "base_uri": "https://localhost:8080/"
        },
        "id": "zClkXX0ZcZiA",
        "outputId": "065758b0-692c-4b33-b835-5ac27d5e3071"
      },
      "execution_count": 20,
      "outputs": [
        {
          "output_type": "stream",
          "name": "stdout",
          "text": [
            "Done.\n"
          ]
        }
      ]
    },
    {
      "cell_type": "markdown",
      "source": [
        "data leak를 피하기 위해서 train_x를 기준으로 scaler한 값을 test에도 적용"
      ],
      "metadata": {
        "id": "Mqh2KFXqchU_"
      }
    },
    {
      "cell_type": "code",
      "source": [
        "from sklearn.preprocessing import MaxAbsScaler\n",
        "\n",
        "scaler = MaxAbsScaler()\n",
        "scaler.fit(train_x)\n",
        "transformed_train_X = scaler.transform(train_x)\n",
        "transformed_test_X = scaler.transform(test_x)\n",
        "\n"
      ],
      "metadata": {
        "id": "1W4wFRWkcExs"
      },
      "execution_count": 21,
      "outputs": []
    },
    {
      "cell_type": "markdown",
      "source": [
        "# 4. 파라미터 최적화"
      ],
      "metadata": {
        "id": "zhlF016kcvBG"
      }
    },
    {
      "cell_type": "code",
      "source": [
        "!pip install optuna"
      ],
      "metadata": {
        "colab": {
          "base_uri": "https://localhost:8080/"
        },
        "id": "lRGv45o7cwvC",
        "outputId": "9ab816ca-4b62-4186-899f-a1e3aac56bde"
      },
      "execution_count": 22,
      "outputs": [
        {
          "output_type": "stream",
          "name": "stdout",
          "text": [
            "Looking in indexes: https://pypi.org/simple, https://us-python.pkg.dev/colab-wheels/public/simple/\n",
            "Collecting optuna\n",
            "  Downloading optuna-3.1.0-py3-none-any.whl (365 kB)\n",
            "\u001b[2K     \u001b[90m━━━━━━━━━━━━━━━━━━━━━━━━━━━━━━━━━━━━━━\u001b[0m \u001b[32m365.3/365.3 KB\u001b[0m \u001b[31m21.0 MB/s\u001b[0m eta \u001b[36m0:00:00\u001b[0m\n",
            "\u001b[?25hRequirement already satisfied: numpy in /usr/local/lib/python3.8/dist-packages (from optuna) (1.22.4)\n",
            "Requirement already satisfied: PyYAML in /usr/local/lib/python3.8/dist-packages (from optuna) (6.0)\n",
            "Collecting cmaes>=0.9.1\n",
            "  Downloading cmaes-0.9.1-py3-none-any.whl (21 kB)\n",
            "Requirement already satisfied: sqlalchemy>=1.3.0 in /usr/local/lib/python3.8/dist-packages (from optuna) (1.4.46)\n",
            "Requirement already satisfied: packaging>=20.0 in /usr/local/lib/python3.8/dist-packages (from optuna) (23.0)\n",
            "Collecting alembic>=1.5.0\n",
            "  Downloading alembic-1.9.4-py3-none-any.whl (210 kB)\n",
            "\u001b[2K     \u001b[90m━━━━━━━━━━━━━━━━━━━━━━━━━━━━━━━━━━━━━━\u001b[0m \u001b[32m210.5/210.5 KB\u001b[0m \u001b[31m20.9 MB/s\u001b[0m eta \u001b[36m0:00:00\u001b[0m\n",
            "\u001b[?25hRequirement already satisfied: tqdm in /usr/local/lib/python3.8/dist-packages (from optuna) (4.64.1)\n",
            "Collecting colorlog\n",
            "  Downloading colorlog-6.7.0-py2.py3-none-any.whl (11 kB)\n",
            "Collecting Mako\n",
            "  Downloading Mako-1.2.4-py3-none-any.whl (78 kB)\n",
            "\u001b[2K     \u001b[90m━━━━━━━━━━━━━━━━━━━━━━━━━━━━━━━━━━━━━━━━\u001b[0m \u001b[32m78.7/78.7 KB\u001b[0m \u001b[31m8.5 MB/s\u001b[0m eta \u001b[36m0:00:00\u001b[0m\n",
            "\u001b[?25hRequirement already satisfied: importlib-resources in /usr/local/lib/python3.8/dist-packages (from alembic>=1.5.0->optuna) (5.12.0)\n",
            "Requirement already satisfied: importlib-metadata in /usr/local/lib/python3.8/dist-packages (from alembic>=1.5.0->optuna) (6.0.0)\n",
            "Requirement already satisfied: greenlet!=0.4.17 in /usr/local/lib/python3.8/dist-packages (from sqlalchemy>=1.3.0->optuna) (2.0.2)\n",
            "Requirement already satisfied: zipp>=0.5 in /usr/local/lib/python3.8/dist-packages (from importlib-metadata->alembic>=1.5.0->optuna) (3.14.0)\n",
            "Requirement already satisfied: MarkupSafe>=0.9.2 in /usr/local/lib/python3.8/dist-packages (from Mako->alembic>=1.5.0->optuna) (2.0.1)\n",
            "Installing collected packages: Mako, colorlog, cmaes, alembic, optuna\n",
            "Successfully installed Mako-1.2.4 alembic-1.9.4 cmaes-0.9.1 colorlog-6.7.0 optuna-3.1.0\n"
          ]
        }
      ]
    },
    {
      "cell_type": "code",
      "source": [
        "import optuna\n",
        "from sklearn.ensemble import ExtraTreesRegressor\n",
        "from sklearn.metrics import mean_absolute_error\n",
        "from sklearn.model_selection import train_test_split\n",
        "\n",
        "# 데이터 로드 및 전처리 (X_train, X_valid, y_train, y_valid)\n",
        "\n",
        "def objective(trial):\n",
        "    n_estimators = trial.suggest_int('n_estimators', 100, 1000, 10)\n",
        "    max_depth = trial.suggest_int('max_depth', 1, 50, 1)\n",
        "    min_samples_split = trial.suggest_int('min_samples_split', 2, 30)\n",
        "    bootstrap = trial.suggest_categorical('bootstrap', [True, False])\n",
        "    \n",
        "\n",
        "    model = ExtraTreesRegressor(\n",
        "        n_estimators=n_estimators,\n",
        "         min_samples_split=min_samples_split,\n",
        "        max_depth=max_depth,\n",
        "        bootstrap=bootstrap,\n",
        "        random_state=42\n",
        "    )\n",
        "    \n",
        "    model.fit(X_train, y_train)\n",
        "    preds = model.predict(X_valid)\n",
        "    score = mean_absolute_error(y_valid, preds)\n",
        "    return score\n",
        "\n",
        "X_train, X_valid, y_train, y_valid = train_test_split(train_x, train_y, test_size = 0.2)\n",
        "\n",
        "study = optuna.create_study(direction='minimize')\n",
        "study.optimize(objective, n_trials=150)\n",
        "\n",
        "print('Number of finished trials:', len(study.trials))\n",
        "print('Best trial:', study.best_trial.params)\n",
        "print('Best score:', study.best_value)"
      ],
      "metadata": {
        "id": "zZ8RKoGKc2E-"
      },
      "execution_count": null,
      "outputs": []
    },
    {
      "cell_type": "markdown",
      "source": [
        "optuna 실행."
      ],
      "metadata": {
        "id": "XGT0u_tTc2x2"
      }
    },
    {
      "cell_type": "markdown",
      "source": [
        "여러번 optuna를 실행한 결과 \n",
        "\n",
        "params = {'n_estimators': 400, 'max_depth': 30, 'min_samples_split': 2, 'bootstrap': False}-1.81297 최고\n",
        "\n",
        "Best trial: {'n_estimators': 300, 'max_depth': 40, 'min_samples_split': 2, 'bootstrap': False}-1.8170805616\n",
        "\n",
        " {'n_estimators': 180, 'max_depth': 44, 'min_samples_split': 2, 'bootstrap': False}-1.8167851207\n",
        "\n",
        "{'n_estimators': 600, 'max_depth': 25, 'min_samples_split': 2, 'bootstrap': True}-1.9341815716\t"
      ],
      "metadata": {
        "id": "Gth8h5O4c6OZ"
      }
    },
    {
      "cell_type": "markdown",
      "source": [
        "으로 나옴"
      ],
      "metadata": {
        "id": "BZv0K8p7dC6Q"
      }
    },
    {
      "cell_type": "markdown",
      "source": [
        "# 5. 학습 및 제출"
      ],
      "metadata": {
        "id": "v1s-Az7TdIA1"
      }
    },
    {
      "cell_type": "code",
      "source": [
        "from sklearn.ensemble import ExtraTreesRegressor\n",
        "from sklearn import metrics\n",
        "params ={'n_estimators': 400, 'max_depth': 30, 'min_samples_split': 2, 'bootstrap': False}\n",
        "model = ExtraTreesRegressor(**params)\n",
        "model.fit(transformed_train_X, train_y)\n",
        "\n",
        "# 테스트 데이터에 대한 예측\n",
        "preds = model.predict(transformed_test_X)\n",
        "print('Done.')\n",
        "submit = pd.read_csv('./sample_submission.csv')\n",
        "\n",
        "submit['target'] = preds\n",
        "submit.head()\n",
        "\n",
        "submit.to_csv('./  MaxAbsScaler().csv', index=False)"
      ],
      "metadata": {
        "colab": {
          "base_uri": "https://localhost:8080/"
        },
        "id": "2QJ1CYd6c4f-",
        "outputId": "06c4a8dd-f8ad-4891-8802-e2e52fe22f80"
      },
      "execution_count": 23,
      "outputs": [
        {
          "output_type": "stream",
          "name": "stdout",
          "text": [
            "Done.\n"
          ]
        }
      ]
    }
  ]
}