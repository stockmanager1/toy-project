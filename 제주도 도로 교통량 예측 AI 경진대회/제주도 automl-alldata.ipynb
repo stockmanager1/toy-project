{
 "cells": [
  {
   "cell_type": "code",
   "execution_count": null,
   "id": "87cca029",
   "metadata": {},
   "outputs": [],
   "source": [
    "import pycaret"
   ]
  },
  {
   "cell_type": "code",
   "execution_count": null,
   "id": "5b58d134",
   "metadata": {},
   "outputs": [],
   "source": [
    "\n",
    "import pandas as pd\n",
    "import numpy as np\n",
    "import matplotlib.pyplot as plt\n",
    "import seaborn as sns\n",
    "\n",
    "from sklearn.preprocessing import RobustScaler, StandardScaler, MinMaxScaler, LabelEncoder\n",
    "from sklearn.impute import SimpleImputer\n",
    "from sklearn.metrics import f1_score, accuracy_score, precision_score, recall_score, classification_report, confusion_matrix, roc_curve, roc_auc_score, log_loss\n",
    "from sklearn.model_selection import train_test_split\n",
    "from sklearn.ensemble import RandomForestClassifier, ExtraTreesClassifier, VotingClassifier\n",
    "\n",
    "import lightgbm \n",
    "\n",
    "from pycaret.classification import *\n",
    "\n",
    "import warnings\n",
    "warnings.filterwarnings('ignore')"
   ]
  },
  {
   "cell_type": "code",
   "execution_count": null,
   "id": "d9d6fe62",
   "metadata": {},
   "outputs": [],
   "source": [
    "import matplotlib.font_manager as fm\n",
    "\n",
    "font_list = [font.name for font in fm.fontManager.ttflist]\n",
    "font_list"
   ]
  },
  {
   "cell_type": "code",
   "execution_count": null,
   "id": "b4e8d0bb",
   "metadata": {},
   "outputs": [],
   "source": [
    "from sklearn.preprocessing import RobustScaler, StandardScaler, MinMaxScaler, LabelEncoder\n",
    "from sklearn.impute import SimpleImputer\n",
    "from sklearn.metrics import f1_score, accuracy_score, precision_score, recall_score, classification_report, confusion_matrix, roc_curve, roc_auc_score, log_loss\n",
    "from sklearn.model_selection import train_test_split\n",
    "from sklearn.ensemble import RandomForestClassifier, ExtraTreesClassifier, VotingClassifier"
   ]
  },
  {
   "cell_type": "code",
   "execution_count": null,
   "id": "08051565",
   "metadata": {},
   "outputs": [],
   "source": [
    "import imp\n",
    "import pandas as pd\n",
    "import numpy as np\n",
    "import matplotlib.pyplot as plt\n",
    "import seaborn as sns"
   ]
  },
  {
   "cell_type": "code",
   "execution_count": null,
   "id": "1e6616e3",
   "metadata": {},
   "outputs": [],
   "source": [
    "plt.rc(\"font\", family = \"NanumGothic\")\n",
    "sns.set(font=\"NanumGothic\", \n",
    "rc={\"axes.unicode_minus\":False}, style='white')"
   ]
  },
  {
   "cell_type": "markdown",
   "id": "cf740d0b",
   "metadata": {},
   "source": [
    "# 데이터 불러오기 및 col 한글화"
   ]
  },
  {
   "cell_type": "code",
   "execution_count": null,
   "id": "092e2709",
   "metadata": {},
   "outputs": [],
   "source": [
    "train_df = pd.read_csv('C:/Users/rnfrn/Downloads/open/train.csv')"
   ]
  },
  {
   "cell_type": "code",
   "execution_count": null,
   "id": "02fc015d",
   "metadata": {},
   "outputs": [],
   "source": [
    "train_df"
   ]
  },
  {
   "cell_type": "code",
   "execution_count": null,
   "id": "e84ebfda",
   "metadata": {},
   "outputs": [],
   "source": [
    "test_df = pd.read_csv('C:/Users/rnfrn/Downloads/open/test.csv')"
   ]
  },
  {
   "cell_type": "code",
   "execution_count": null,
   "id": "6c2c1ec7",
   "metadata": {},
   "outputs": [],
   "source": [
    "for i in test_df.columns:\n",
    "  print(i)\n"
   ]
  },
  {
   "cell_type": "code",
   "execution_count": null,
   "id": "d389def3",
   "metadata": {},
   "outputs": [],
   "source": [
    "for i in train_df.columns:\n",
    "  print(i)\n"
   ]
  },
  {
   "cell_type": "code",
   "execution_count": null,
   "id": "a7054fd0",
   "metadata": {},
   "outputs": [],
   "source": [
    "train_info_df = pd.read_csv('C:/Users/rnfrn/Downloads/open/data_info.csv')"
   ]
  },
  {
   "cell_type": "code",
   "execution_count": null,
   "id": "5f741327",
   "metadata": {},
   "outputs": [],
   "source": [
    "train_info_df = train_info_df.drop([4], axis = 0)"
   ]
  },
  {
   "cell_type": "code",
   "execution_count": null,
   "id": "ecf22180",
   "metadata": {},
   "outputs": [],
   "source": [
    "train_info_df"
   ]
  },
  {
   "cell_type": "code",
   "execution_count": null,
   "id": "da2d837c",
   "metadata": {},
   "outputs": [],
   "source": [
    "for i in train_info_df['변수 설명'].iloc[0:23]:\n",
    "  print(i)"
   ]
  },
  {
   "cell_type": "code",
   "execution_count": null,
   "id": "afabb8f7",
   "metadata": {},
   "outputs": [],
   "source": [
    "for i,j in zip(test_df.columns, train_info_df['변수 설명'].iloc[0:22]):\n",
    "  test_df.rename(columns={i : j},inplace=True)"
   ]
  },
  {
   "cell_type": "code",
   "execution_count": null,
   "id": "6eadf042",
   "metadata": {},
   "outputs": [],
   "source": [
    "for i in test_df.columns:\n",
    "  print(i)"
   ]
  },
  {
   "cell_type": "code",
   "execution_count": null,
   "id": "167715de",
   "metadata": {},
   "outputs": [],
   "source": [
    "for i,j in zip(train_df.columns, train_info_df['변수 설명'].iloc[0:24]):\n",
    "  train_df.rename(columns={i : j},inplace=True)"
   ]
  },
  {
   "cell_type": "code",
   "execution_count": null,
   "id": "2786fc8a",
   "metadata": {},
   "outputs": [],
   "source": [
    "train_df['평균속도(km)']"
   ]
  },
  {
   "cell_type": "code",
   "execution_count": null,
   "id": "e9f29e8a",
   "metadata": {},
   "outputs": [],
   "source": [
    "train_df"
   ]
  },
  {
   "cell_type": "code",
   "execution_count": null,
   "id": "36263c54",
   "metadata": {},
   "outputs": [],
   "source": [
    "for i in train_df.columns:\n",
    "  print(i)"
   ]
  },
  {
   "cell_type": "markdown",
   "id": "43196d5e",
   "metadata": {},
   "source": [
    "# EDA"
   ]
  },
  {
   "cell_type": "markdown",
   "id": "96d615e9",
   "metadata": {},
   "source": [
    "## 수치형 데이터 탐색하기"
   ]
  },
  {
   "cell_type": "code",
   "execution_count": null,
   "id": "a9924d43",
   "metadata": {},
   "outputs": [],
   "source": [
    "print(train_df.select_dtypes(exclude=['object']).columns)"
   ]
  },
  {
   "cell_type": "code",
   "execution_count": null,
   "id": "c0536d3e",
   "metadata": {},
   "outputs": [],
   "source": [
    "print(\"훈련 데이터에서 수치형 데이터의 갯수:\", len(train_df.select_dtypes(exclude=['object']).columns))"
   ]
  },
  {
   "cell_type": "code",
   "execution_count": null,
   "id": "a466043b",
   "metadata": {},
   "outputs": [],
   "source": [
    "train_df_non_object = train_df.select_dtypes(exclude=['object'])"
   ]
  },
  {
   "cell_type": "code",
   "execution_count": null,
   "id": "8e9fd542",
   "metadata": {},
   "outputs": [],
   "source": [
    "train_df_non_object"
   ]
  },
  {
   "cell_type": "markdown",
   "id": "09142c41",
   "metadata": {},
   "source": [
    "## 범주형 데이터 탐색하기"
   ]
  },
  {
   "cell_type": "code",
   "execution_count": null,
   "id": "be64423f",
   "metadata": {},
   "outputs": [],
   "source": [
    "print(train_df.select_dtypes(include=['object']).columns)"
   ]
  },
  {
   "cell_type": "code",
   "execution_count": null,
   "id": "09b3dae4",
   "metadata": {},
   "outputs": [],
   "source": [
    "train_df_object = train_df.select_dtypes(include=['object'])"
   ]
  },
  {
   "cell_type": "code",
   "execution_count": null,
   "id": "b26cc067",
   "metadata": {},
   "outputs": [],
   "source": [
    "train_df_object"
   ]
  },
  {
   "cell_type": "markdown",
   "id": "fa9ff26d",
   "metadata": {},
   "source": [
    "## 상관관계 분석"
   ]
  },
  {
   "cell_type": "code",
   "execution_count": null,
   "id": "67480f5b",
   "metadata": {},
   "outputs": [],
   "source": [
    "train_corr_df=train_df.corr()"
   ]
  },
  {
   "cell_type": "code",
   "execution_count": null,
   "id": "d8d49ad9",
   "metadata": {},
   "outputs": [],
   "source": [
    "train_df.corr()"
   ]
  },
  {
   "cell_type": "code",
   "execution_count": null,
   "id": "5016e9ee",
   "metadata": {},
   "outputs": [],
   "source": [
    "import matplotlib as mat"
   ]
  },
  {
   "cell_type": "code",
   "execution_count": null,
   "id": "aba291ad",
   "metadata": {},
   "outputs": [],
   "source": [
    "#상관분석하기\n",
    "#각 변수가 어떤 상관 관계가 있는지. 수치가 높을수록 관계가 있다는 것이다.\n",
    "fig = plt.figure(figsize = (10,10))\n",
    "sns.heatmap(train_df.corr(), annot = True)\n",
    "plt.show()"
   ]
  },
  {
   "cell_type": "code",
   "execution_count": null,
   "id": "71da05f7",
   "metadata": {},
   "outputs": [],
   "source": [
    "list_A = ['연결로 코드','최고속도제한','시작지점의 위도','통과제한높이']\n",
    "for i in list_A:\n",
    "  train_df.drop(columns = [i], inplace = True)\n",
    "  test_df.drop(columns = [i], inplace = True)"
   ]
  },
  {
   "cell_type": "markdown",
   "id": "92eae10a",
   "metadata": {},
   "source": [
    "## 변수 분석- 각 변수간의 상관 관계 구하기"
   ]
  },
  {
   "cell_type": "markdown",
   "id": "435e724d",
   "metadata": {},
   "source": [
    "### 필요한 함수 먼저 정의하기"
   ]
  },
  {
   "cell_type": "code",
   "execution_count": null,
   "id": "88aad06d",
   "metadata": {},
   "outputs": [],
   "source": [
    "def identify_hist(df, col):\n",
    "\n",
    "  print(df[col].unique())\n",
    "\n",
    "  sns.histplot(data=df[col], kde=True)"
   ]
  },
  {
   "cell_type": "code",
   "execution_count": null,
   "id": "87821716",
   "metadata": {},
   "outputs": [],
   "source": [
    "def identify_count(df, col):\n",
    "\n",
    "  print(df[col].unique())\n",
    "\n",
    "  print(df[col].value_counts())\n",
    "\n",
    "  sns.countplot(data=df, x=col)\n",
    "  plt.show()"
   ]
  },
  {
   "cell_type": "code",
   "execution_count": null,
   "id": "9702a96b",
   "metadata": {},
   "outputs": [],
   "source": [
    "def identify_count_nongraph(df, col):\n",
    "\n",
    "  print(df[col].value_counts())"
   ]
  },
  {
   "cell_type": "code",
   "execution_count": null,
   "id": "3dbe600d",
   "metadata": {},
   "outputs": [],
   "source": [
    "def two_value_compare(df,col_1,col_2):\n",
    "    sns.countplot(data=df, x = col_1, hue = col_2)"
   ]
  },
  {
   "cell_type": "code",
   "execution_count": null,
   "id": "34c2739b",
   "metadata": {},
   "outputs": [],
   "source": [
    "test_df.columns"
   ]
  },
  {
   "cell_type": "markdown",
   "id": "005b2a67",
   "metadata": {},
   "source": [
    "### 도로 유형-시작지점의 경도"
   ]
  },
  {
   "cell_type": "code",
   "execution_count": null,
   "id": "f2f546c6",
   "metadata": {},
   "outputs": [],
   "source": [
    "identify_count(train_df, '도로유형')"
   ]
  },
  {
   "cell_type": "code",
   "execution_count": null,
   "id": "d90123d0",
   "metadata": {},
   "outputs": [],
   "source": [
    "identify_count(train_df, '시작지점의 경도')"
   ]
  },
  {
   "cell_type": "code",
   "execution_count": null,
   "id": "1e798241",
   "metadata": {},
   "outputs": [],
   "source": [
    "two_value_compare(train_df,'시작지점의 경도', '도로유형')"
   ]
  },
  {
   "cell_type": "code",
   "execution_count": null,
   "id": "3f801ce8",
   "metadata": {},
   "outputs": [],
   "source": [
    "two_value_compare(train_df,'도로유형', '시작지점의 경도')"
   ]
  },
  {
   "cell_type": "markdown",
   "id": "d5a8b7be",
   "metadata": {},
   "source": [
    "시작지점의 경도가 0일때 도로유형 0의 비중이 압도적으로 높다.\n",
    "\n",
    "시작지점의 경도가 3일때 나머지 도로 유형들이 속한다.\n",
    "\n",
    "도로유형 500000의 비중은 매우 낮다."
   ]
  },
  {
   "cell_type": "code",
   "execution_count": null,
   "id": "3f4cbad8",
   "metadata": {},
   "outputs": [],
   "source": [
    "# 도로유형이 0과 나머지 숫자로 거의 이루어 지기 때문에 이걸로 파생변수를 만들어 보자.\n",
    "\n",
    "train_df['도로유형 파생변수'] = train_df['도로유형'] == 0\n",
    "test_df['도로유형 파생변수'] = test_df['도로유형'] == 0"
   ]
  },
  {
   "cell_type": "code",
   "execution_count": null,
   "id": "51001cc8",
   "metadata": {},
   "outputs": [],
   "source": [
    "train_df"
   ]
  },
  {
   "cell_type": "code",
   "execution_count": null,
   "id": "39a09e38",
   "metadata": {},
   "outputs": [],
   "source": [
    "two_value_compare(train_df,'시작지점의 경도', '도로유형 파생변수')"
   ]
  },
  {
   "cell_type": "markdown",
   "id": "522759b7",
   "metadata": {},
   "source": [
    "### <차로수-도착지점의 위도>"
   ]
  },
  {
   "cell_type": "code",
   "execution_count": null,
   "id": "a7a3f0e5",
   "metadata": {},
   "outputs": [],
   "source": [
    "identify_count(train_df, '차로수')"
   ]
  },
  {
   "cell_type": "markdown",
   "id": "f0bf70d2",
   "metadata": {},
   "source": [
    "이거 도착지점의 위도가 어마어마 하기 때문에 이걸 bin으로 묶어서 분석할 예정이다."
   ]
  },
  {
   "cell_type": "code",
   "execution_count": null,
   "id": "23853c09",
   "metadata": {},
   "outputs": [],
   "source": [
    "train_df['도착지점의 위도'].unique()"
   ]
  },
  {
   "cell_type": "code",
   "execution_count": null,
   "id": "d155573d",
   "metadata": {},
   "outputs": [],
   "source": [
    "labels = [1,2,3,4,5]"
   ]
  },
  {
   "cell_type": "code",
   "execution_count": null,
   "id": "7c73dfc3",
   "metadata": {},
   "outputs": [],
   "source": [
    "sns.boxplot(train_df['도착지점의 위도'])"
   ]
  },
  {
   "cell_type": "code",
   "execution_count": null,
   "id": "5f684b82",
   "metadata": {},
   "outputs": [],
   "source": [
    "train_df['도착지점의 위도 bin 5'] = pd.cut(train_df['도착지점의 위도'],5,labels=labels)\n",
    "test_df['도착지점의 위도 bin 5'] = pd.cut(test_df['도착지점의 위도'],5,labels=labels)"
   ]
  },
  {
   "cell_type": "code",
   "execution_count": null,
   "id": "ab2125f5",
   "metadata": {},
   "outputs": [],
   "source": [
    "identify_count(train_df, '도착지점의 위도 bin 5')"
   ]
  },
  {
   "cell_type": "code",
   "execution_count": null,
   "id": "2f1605fa",
   "metadata": {},
   "outputs": [],
   "source": [
    "two_value_compare(train_df,'차로수', '도착지점의 위도 bin 5')"
   ]
  },
  {
   "cell_type": "code",
   "execution_count": null,
   "id": "f9615643",
   "metadata": {},
   "outputs": [],
   "source": [
    "two_value_compare(train_df,'도착지점의 위도 bin 5', '차로수')"
   ]
  },
  {
   "cell_type": "markdown",
   "id": "4c321a81",
   "metadata": {},
   "source": [
    "### <평균속도-통과제한하중> -- 0.34"
   ]
  },
  {
   "cell_type": "code",
   "execution_count": null,
   "id": "9c44986b",
   "metadata": {},
   "outputs": [],
   "source": [
    "identify_count(train_df, '평균속도(km)')"
   ]
  },
  {
   "cell_type": "markdown",
   "id": "ac9f10cd",
   "metadata": {},
   "source": [
    "결측치 발견----> 최댓값으로 대체"
   ]
  },
  {
   "cell_type": "code",
   "execution_count": null,
   "id": "082e82bf",
   "metadata": {},
   "outputs": [],
   "source": [
    "sns.boxplot(train_df['평균속도(km)'])"
   ]
  },
  {
   "cell_type": "code",
   "execution_count": null,
   "id": "1420e029",
   "metadata": {},
   "outputs": [],
   "source": [
    "q1=train_df['평균속도(km)'].quantile(0.25)\n",
    "q2=train_df['평균속도(km)'].quantile(0.5)\n",
    "q3=train_df['평균속도(km)'].quantile(0.75)\n",
    "iqr=q3-q1"
   ]
  },
  {
   "cell_type": "code",
   "execution_count": null,
   "id": "5859279a",
   "metadata": {},
   "outputs": [],
   "source": [
    "condition=train_df['평균속도(km)']>q3+1.5*iqr\n",
    "train_df[condition]"
   ]
  },
  {
   "cell_type": "code",
   "execution_count": null,
   "id": "b7106c96",
   "metadata": {},
   "outputs": [],
   "source": [
    "len(train_df[condition])"
   ]
  },
  {
   "cell_type": "code",
   "execution_count": null,
   "id": "92fa5a7f",
   "metadata": {},
   "outputs": [],
   "source": [
    "a=train_df[condition].index\n",
    "train_df.drop(a,inplace=True)"
   ]
  },
  {
   "cell_type": "code",
   "execution_count": null,
   "id": "f0b62373",
   "metadata": {},
   "outputs": [],
   "source": [
    "train_df['평균속도(km)'].fillna(48.0)"
   ]
  },
  {
   "cell_type": "code",
   "execution_count": null,
   "id": "1eaa97f1",
   "metadata": {},
   "outputs": [],
   "source": [
    "sns.boxplot(train_df['평균속도(km)'])"
   ]
  },
  {
   "cell_type": "code",
   "execution_count": null,
   "id": "084c9ed4",
   "metadata": {},
   "outputs": [],
   "source": [
    "labels = [1,2,3,4,5,6,7,8,9,10]"
   ]
  },
  {
   "cell_type": "code",
   "execution_count": null,
   "id": "97a6fe7c",
   "metadata": {},
   "outputs": [],
   "source": [
    "train_df['평균속도 묶음'] = pd.cut(train_df['평균속도(km)'],10,labels=labels)"
   ]
  },
  {
   "cell_type": "code",
   "execution_count": null,
   "id": "c3dbaf34",
   "metadata": {},
   "outputs": [],
   "source": [
    "identify_count(train_df, '평균속도(km)')"
   ]
  },
  {
   "cell_type": "code",
   "execution_count": null,
   "id": "8cbf563c",
   "metadata": {},
   "outputs": [],
   "source": [
    "train_df['평균속도(km)']"
   ]
  },
  {
   "cell_type": "code",
   "execution_count": null,
   "id": "22959850",
   "metadata": {},
   "outputs": [],
   "source": [
    "identify_count(train_df, '통과제한하중')"
   ]
  },
  {
   "cell_type": "code",
   "execution_count": null,
   "id": "f25ccb36",
   "metadata": {},
   "outputs": [],
   "source": [
    "sns.boxplot(train_df['통과제한하중'])"
   ]
  },
  {
   "cell_type": "code",
   "execution_count": null,
   "id": "f63b5851",
   "metadata": {},
   "outputs": [],
   "source": [
    "list_A = [30.0,40.0,50.0,60.0,70.0,80.0]\n"
   ]
  },
  {
   "cell_type": "code",
   "execution_count": null,
   "id": "e7ab12aa",
   "metadata": {},
   "outputs": [],
   "source": [
    "train_df['도로유형 파생변수'] = train_df['도로유형'] == 0"
   ]
  },
  {
   "cell_type": "code",
   "execution_count": null,
   "id": "c165c4e4",
   "metadata": {},
   "outputs": [],
   "source": [
    "for i in list_A:\n",
    "    train_df['통과제한하중{}'.format(i)] = train_df['통과제한하중'] == i "
   ]
  },
  {
   "cell_type": "code",
   "execution_count": null,
   "id": "9590933e",
   "metadata": {},
   "outputs": [],
   "source": [
    "for i in list_A:\n",
    "    test_df['통과제한하중{}'.format(i)] = train_df['통과제한하중'] == i "
   ]
  },
  {
   "cell_type": "code",
   "execution_count": null,
   "id": "c70d9552",
   "metadata": {},
   "outputs": [],
   "source": [
    "test_df.isnull().sum()"
   ]
  },
  {
   "cell_type": "code",
   "execution_count": null,
   "id": "4fce4216",
   "metadata": {},
   "outputs": [],
   "source": [
    "identify_count(train_df, '평균속도 묶음')"
   ]
  },
  {
   "cell_type": "code",
   "execution_count": null,
   "id": "077af90b",
   "metadata": {},
   "outputs": [],
   "source": [
    "identify_count(test_df, '통과제한하중')"
   ]
  },
  {
   "cell_type": "markdown",
   "id": "cc9b9e39",
   "metadata": {},
   "source": [
    "236607    NaN\n",
    "242903    NaN\n",
    "245660    NaN\n",
    "\n",
    "test_df에서 결측치 발생"
   ]
  },
  {
   "cell_type": "code",
   "execution_count": null,
   "id": "4c40c80b",
   "metadata": {},
   "outputs": [],
   "source": [
    "test_df.isnull().sum()"
   ]
  },
  {
   "cell_type": "code",
   "execution_count": null,
   "id": "8628d92a",
   "metadata": {},
   "outputs": [],
   "source": [
    "train_df = train_df.astype({'통과제한하중30.0':'bool'})\n",
    "test_df = test_df.astype({'통과제한하중30.0':'bool'})"
   ]
  },
  {
   "cell_type": "code",
   "execution_count": null,
   "id": "62b6f8b4",
   "metadata": {},
   "outputs": [],
   "source": [
    "train_df = train_df.astype({'통과제한하중40.0':'bool'})\n",
    "test_df = test_df.astype({'통과제한하중40.0':'bool'})"
   ]
  },
  {
   "cell_type": "code",
   "execution_count": null,
   "id": "a76c93a0",
   "metadata": {},
   "outputs": [],
   "source": [
    "train_df = train_df.astype({'통과제한하중50.0':'bool'})\n",
    "test_df = test_df.astype({'통과제한하중50.0':'bool'})"
   ]
  },
  {
   "cell_type": "code",
   "execution_count": null,
   "id": "f8a12476",
   "metadata": {},
   "outputs": [],
   "source": [
    "train_df = train_df.astype({'통과제한하중60.0':'bool'})\n",
    "test_df = test_df.astype({'통과제한하중60.0':'bool'})"
   ]
  },
  {
   "cell_type": "code",
   "execution_count": null,
   "id": "2005e644",
   "metadata": {},
   "outputs": [],
   "source": [
    "train_df = train_df.astype({'통과제한하중70.0':'bool'})\n",
    "test_df = test_df.astype({'통과제한하중70.0':'bool'})"
   ]
  },
  {
   "cell_type": "code",
   "execution_count": null,
   "id": "7c863e7a",
   "metadata": {},
   "outputs": [],
   "source": [
    "train_df = train_df.astype({'통과제한하중80.0':'bool'})\n",
    "test_df = test_df.astype({'통과제한하중80.0':'bool'})"
   ]
  },
  {
   "cell_type": "code",
   "execution_count": null,
   "id": "bf330d8f",
   "metadata": {},
   "outputs": [],
   "source": [
    "two_value_compare(train_df,'통과제한하중', '평균속도 묶음')"
   ]
  },
  {
   "cell_type": "code",
   "execution_count": null,
   "id": "370c1121",
   "metadata": {},
   "outputs": [],
   "source": [
    "two_value_compare(train_df,'평균속도 묶음', '통과제한하중')"
   ]
  },
  {
   "cell_type": "markdown",
   "id": "b5e7418f",
   "metadata": {},
   "source": [
    "통과제한 하중에서 60이 해당하는 비중은 매우 크다.\n",
    "\n",
    "평균속도 역시 60이 가장 많다.\n",
    "\n",
    "따라서 평균속도에서 60의 비중이 가장 크다.\n",
    "\n",
    "통과제한하중의 40의 비중은 거의 없다.\n",
    "\n",
    "통과제한하중 60일때 평균속도 60이 가장 많다.\n"
   ]
  },
  {
   "cell_type": "code",
   "execution_count": null,
   "id": "ccf0b0cb",
   "metadata": {},
   "outputs": [],
   "source": [
    "train_df"
   ]
  },
  {
   "cell_type": "markdown",
   "id": "677244ae",
   "metadata": {},
   "source": [
    "### 도착지점 역시 bin으로 묶어서 보자."
   ]
  },
  {
   "cell_type": "code",
   "execution_count": null,
   "id": "26673dae",
   "metadata": {},
   "outputs": [],
   "source": [
    "train_df['도착지점의 경도'].unique()"
   ]
  },
  {
   "cell_type": "code",
   "execution_count": null,
   "id": "339fdd0e",
   "metadata": {},
   "outputs": [],
   "source": [
    "labels = [1,2,3,4,5]"
   ]
  },
  {
   "cell_type": "code",
   "execution_count": null,
   "id": "a5c81a05",
   "metadata": {},
   "outputs": [],
   "source": [
    "train_df['도착지점의 경도 bin 5'] = pd.cut(train_df['도착지점의 경도'],5,labels=labels)\n",
    "test_df['도착지점의 경도 bin 5'] = pd.cut(test_df['도착지점의 경도'],5,labels=labels)"
   ]
  },
  {
   "cell_type": "markdown",
   "id": "ab37846b",
   "metadata": {},
   "source": [
    "## 인코딩"
   ]
  },
  {
   "cell_type": "code",
   "execution_count": null,
   "id": "597fd26f",
   "metadata": {},
   "outputs": [],
   "source": [
    "le = LabelEncoder()"
   ]
  },
  {
   "cell_type": "code",
   "execution_count": null,
   "id": "1bd924ca",
   "metadata": {},
   "outputs": [],
   "source": [
    "print(train_df.select_dtypes(include=['object']).columns)"
   ]
  },
  {
   "cell_type": "code",
   "execution_count": null,
   "id": "1dc7f0b6",
   "metadata": {
    "scrolled": true
   },
   "outputs": [],
   "source": [
    "train_df.info()"
   ]
  },
  {
   "cell_type": "code",
   "execution_count": null,
   "id": "4f574b08",
   "metadata": {},
   "outputs": [],
   "source": [
    "print(train_df.select_dtypes(include=['category']).columns)"
   ]
  },
  {
   "cell_type": "code",
   "execution_count": null,
   "id": "70bd5259",
   "metadata": {},
   "outputs": [],
   "source": [
    "train_df['중용구간 여부'] = le.fit_transform(train_df['중용구간 여부'])\n",
    "train_df['도작지점의 회전제한 유무'] = le.fit_transform(train_df['도작지점의 회전제한 유무'])\n",
    "train_df['요일'] = le.fit_transform(train_df['요일'])\n",
    "train_df['도착지점의 위도 bin 5'] = le.fit_transform(train_df['도착지점의 위도 bin 5'])\n",
    "train_df['평균속도 묶음'] = le.fit_transform(train_df['평균속도 묶음'])\n",
    "train_df['도착지점의 경도 bin 5'] = le.fit_transform(train_df['도착지점의 경도 bin 5'])\n",
    "train_df['아이디'] = le.fit_transform(train_df['아이디'])\n",
    "train_df['도로명'] = le.fit_transform(train_df['도로명'])\n",
    "train_df['통과제한차량'] = le.fit_transform(train_df['통과제한차량'])\n",
    "train_df['시작 지점의 회전제한 유무'] = le.fit_transform(train_df['시작 지점의 회전제한 유무'])"
   ]
  },
  {
   "cell_type": "code",
   "execution_count": null,
   "id": "95c16e7a",
   "metadata": {},
   "outputs": [],
   "source": [
    "test_df['중용구간 여부'] = le.fit_transform(test_df['중용구간 여부'])\n",
    "test_df['도작지점의 회전제한 유무'] = le.fit_transform(test_df['도작지점의 회전제한 유무'])\n",
    "test_df['요일'] = le.fit_transform(test_df['요일'])\n",
    "test_df['도착지점의 위도 bin 5'] = le.fit_transform(test_df['도착지점의 위도 bin 5'])"
   ]
  },
  {
   "cell_type": "code",
   "execution_count": null,
   "id": "b65cfa70",
   "metadata": {},
   "outputs": [],
   "source": [
    "test_df['도착지점의 경도 bin 5'] = le.fit_transform(test_df['도착지점의 경도 bin 5'])\n",
    "test_df['아이디'] = le.fit_transform(test_df['아이디'])\n",
    "test_df['도로명'] = le.fit_transform(test_df['도로명'])\n",
    "test_df['통과제한차량'] = le.fit_transform(test_df['통과제한차량'])\n",
    "test_df['시작 지점의 회전제한 유무'] = le.fit_transform(test_df['시작 지점의 회전제한 유무'])"
   ]
  },
  {
   "cell_type": "markdown",
   "id": "53541631",
   "metadata": {},
   "source": [
    "## 모든상관관계 마지막으로 확인하기"
   ]
  },
  {
   "cell_type": "code",
   "execution_count": null,
   "id": "29521771",
   "metadata": {},
   "outputs": [],
   "source": [
    "train_df"
   ]
  },
  {
   "cell_type": "code",
   "execution_count": null,
   "id": "e5ec6e00",
   "metadata": {},
   "outputs": [],
   "source": [
    "plt.figure(figsize=(20,9))\n",
    "\n",
    "sns.heatmap(train_df.corr().round(2), annot=True);"
   ]
  },
  {
   "attachments": {
    "image.png": {
     "image/png": "[encoded data removed]"
    }
   },
   "cell_type": "markdown",
   "id": "75e65e1c",
   "metadata": {},
   "source": [
    "![image.png](attachment:image.png)"
   ]
  },
  {
   "cell_type": "markdown",
   "id": "74837c71",
   "metadata": {},
   "source": [
    "'날짜','시간대','통과제한하중60','도로유형 파생변수','도로등급','통과제한하중30','통과제한하중40'를 제외한다."
   ]
  },
  {
   "cell_type": "code",
   "execution_count": null,
   "id": "464fd3ad",
   "metadata": {},
   "outputs": [],
   "source": [
    "list_B = ['날짜','아이디','요일','시간대','도로유형 파생변수','통과제한하중30.0','통과제한하중40.0','통과제한하중50.0','통과제한하중60.0']\n"
   ]
  },
  {
   "cell_type": "code",
   "execution_count": null,
   "id": "8c003cd9",
   "metadata": {},
   "outputs": [],
   "source": [
    "for i in list_B:\n",
    "  train_df.drop(columns = [i], inplace = True)\n",
    "  test_df.drop(columns = [i], inplace = True)"
   ]
  },
  {
   "cell_type": "code",
   "execution_count": null,
   "id": "8efce3f9",
   "metadata": {},
   "outputs": [],
   "source": [
    "plt.figure(figsize=(30,20))\n",
    "\n",
    "sns.heatmap(train_df.corr().round(2), annot=True);"
   ]
  },
  {
   "cell_type": "markdown",
   "id": "1bef2f62",
   "metadata": {},
   "source": [
    "아이디,요일, 중용구간 여부, 도착지점의 경도, 도착지점의 경도 bin 5, 도착지점명, 평균속도 묶음, 통과제한하중50 삭제\n",
    "\n",
    "그리고 도착지점의 위도 bin 5가 원래 변수보다 상관관계가 높기때문에, 도착지점의 위도 삭제\n",
    "\n"
   ]
  },
  {
   "cell_type": "markdown",
   "id": "57e4c732",
   "metadata": {},
   "source": [
    "# 이제 automl로 모델링을 해보자."
   ]
  },
  {
   "cell_type": "code",
   "execution_count": null,
   "id": "e26a1f9a",
   "metadata": {},
   "outputs": [],
   "source": [
    "train_cp_df = train_df.copy()"
   ]
  },
  {
   "cell_type": "code",
   "execution_count": null,
   "id": "b03668eb",
   "metadata": {},
   "outputs": [],
   "source": [
    "test_cp_df = test_df.copy()"
   ]
  },
  {
   "cell_type": "code",
   "execution_count": null,
   "id": "259305f9",
   "metadata": {},
   "outputs": [],
   "source": [
    "X,y = train_cp_df.drop(\"평균속도(km)\", axis =1), train_cp_df['평균속도(km)']"
   ]
  },
  {
   "cell_type": "code",
   "execution_count": null,
   "id": "94aadf1a",
   "metadata": {},
   "outputs": [],
   "source": [
    "X_train, X_test, y_train, y_test = train_test_split(X,y, test_size=0.2)"
   ]
  },
  {
   "cell_type": "code",
   "execution_count": null,
   "id": "719a1b3a",
   "metadata": {},
   "outputs": [],
   "source": [
    "from pycaret.regression import *"
   ]
  },
  {
   "cell_type": "code",
   "execution_count": null,
   "id": "f921ac9a",
   "metadata": {},
   "outputs": [],
   "source": [
    "from pycaret import regression"
   ]
  },
  {
   "cell_type": "code",
   "execution_count": null,
   "id": "c9250da5",
   "metadata": {},
   "outputs": [],
   "source": [
    "regression_setup = regression.setup(data=train_cp_df, target='평균속도(km)',train_size = 0.8)"
   ]
  },
  {
   "cell_type": "code",
   "execution_count": null,
   "id": "4667ef58",
   "metadata": {
    "scrolled": true
   },
   "outputs": [],
   "source": [
    "#top5_model = compare_models(sort = 'MAE', n_select = 5,fold=3)"
   ]
  },
  {
   "cell_type": "code",
   "execution_count": null,
   "id": "4f4e7c71",
   "metadata": {},
   "outputs": [],
   "source": [
    "test_df.info()"
   ]
  },
  {
   "cell_type": "markdown",
   "id": "5e6127a0",
   "metadata": {},
   "source": [
    "https://dacon.io/en/competitions/official/235743/codeshare/2994"
   ]
  },
  {
   "cell_type": "code",
   "execution_count": null,
   "id": "d4772b42",
   "metadata": {},
   "outputs": [],
   "source": [
    "models()"
   ]
  },
  {
   "cell_type": "markdown",
   "id": "1af08958",
   "metadata": {},
   "source": [
    "### Linear Regression\t--10.4070"
   ]
  },
  {
   "cell_type": "code",
   "execution_count": null,
   "id": "187a4232",
   "metadata": {
    "scrolled": true
   },
   "outputs": [],
   "source": [
    "lr = create_model('lr', fold = 10)"
   ]
  },
  {
   "cell_type": "markdown",
   "id": "6005b79e",
   "metadata": {},
   "source": [
    "### lasso ----11.5191"
   ]
  },
  {
   "cell_type": "code",
   "execution_count": null,
   "id": "af9bd9c6",
   "metadata": {},
   "outputs": [],
   "source": [
    "dt = create_model('dt')"
   ]
  },
  {
   "cell_type": "code",
   "execution_count": null,
   "id": "3e30762c",
   "metadata": {},
   "outputs": [],
   "source": []
  },
  {
   "cell_type": "code",
   "execution_count": null,
   "id": "1f470e27",
   "metadata": {},
   "outputs": [],
   "source": []
  },
  {
   "cell_type": "markdown",
   "id": "060be33e",
   "metadata": {},
   "source": [
    "### ridge -----10.3091\t"
   ]
  },
  {
   "cell_type": "code",
   "execution_count": null,
   "id": "5064fb11",
   "metadata": {},
   "outputs": [],
   "source": [
    "#ransac = create_model('ransac',fold=10)"
   ]
  },
  {
   "cell_type": "code",
   "execution_count": null,
   "id": "2967aa18",
   "metadata": {},
   "outputs": [],
   "source": [
    "#lightgbm = create_model('lightgbm',fold=10)"
   ]
  },
  {
   "cell_type": "code",
   "execution_count": null,
   "id": "19da5e90",
   "metadata": {},
   "outputs": [],
   "source": [
    "#ard = create_model('ard',fold=10)"
   ]
  },
  {
   "cell_type": "markdown",
   "id": "8d63fb3b",
   "metadata": {},
   "source": [
    "### lar\t----10.3084"
   ]
  },
  {
   "cell_type": "code",
   "execution_count": null,
   "id": "7ce808e0",
   "metadata": {},
   "outputs": [],
   "source": [
    "#lar = create_model('lar', fold = 10)"
   ]
  },
  {
   "cell_type": "code",
   "execution_count": null,
   "id": "0d89e3e0",
   "metadata": {},
   "outputs": [],
   "source": [
    "save_model('lar','Least Angle Regression')"
   ]
  },
  {
   "cell_type": "code",
   "execution_count": null,
   "id": "6b87cc38",
   "metadata": {},
   "outputs": [],
   "source": [
    "save_model('dt','Decision Tree Regressor')"
   ]
  },
  {
   "cell_type": "code",
   "execution_count": null,
   "id": "f312480d",
   "metadata": {},
   "outputs": [],
   "source": [
    "submission = pd.read_csv('C:/Users/rnfrn/Downloads/open/sample_submission.csv')"
   ]
  },
  {
   "cell_type": "code",
   "execution_count": null,
   "id": "5f07111d",
   "metadata": {},
   "outputs": [],
   "source": [
    "submission"
   ]
  },
  {
   "cell_type": "code",
   "execution_count": null,
   "id": "04e02fb4",
   "metadata": {},
   "outputs": [],
   "source": [
    "pred = predict_model(dt,data=test_df)"
   ]
  },
  {
   "cell_type": "code",
   "execution_count": null,
   "id": "dd4d41aa",
   "metadata": {},
   "outputs": [],
   "source": [
    "pred"
   ]
  },
  {
   "cell_type": "code",
   "execution_count": null,
   "id": "4090a345",
   "metadata": {},
   "outputs": [],
   "source": [
    "submission"
   ]
  },
  {
   "cell_type": "code",
   "execution_count": null,
   "id": "4b3f2ddb",
   "metadata": {},
   "outputs": [],
   "source": [
    "submission['target'] = pred.loc[:,'Label']"
   ]
  },
  {
   "cell_type": "code",
   "execution_count": null,
   "id": "46aa3bfe",
   "metadata": {},
   "outputs": [],
   "source": [
    "test_df.isnull().sum()"
   ]
  }
 ],
 "metadata": {
  "kernelspec": {
   "display_name": "Python 3 (ipykernel)",
   "language": "python",
   "name": "python3"
  },
  "language_info": {
   "codemirror_mode": {
    "name": "ipython",
    "version": 3
   },
   "file_extension": ".py",
   "mimetype": "text/x-python",
   "name": "python",
   "nbconvert_exporter": "python",
   "pygments_lexer": "ipython3",
   "version": "3.8.13"
  }
 },
 "nbformat": 4,
 "nbformat_minor": 5
}
